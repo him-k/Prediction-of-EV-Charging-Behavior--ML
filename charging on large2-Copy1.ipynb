{
 "cells": [
  {
   "cell_type": "markdown",
   "id": "2f9a33db",
   "metadata": {},
   "source": [
    "# Importing the Libraries"
   ]
  },
  {
   "cell_type": "code",
   "execution_count": 1,
   "id": "f91db0d9",
   "metadata": {},
   "outputs": [],
   "source": [
    "import numpy as np\n",
    "import pandas as pd\n",
    "import matplotlib.pyplot as plt\n",
    "import seaborn as sns\n",
    "from sklearn.model_selection import train_test_split\n",
    "from sklearn.ensemble import RandomForestRegressor\n",
    "from sklearn import metrics\n",
    "from sklearn.ensemble import StackingRegressor\n",
    "from sklearn.ensemble import VotingRegressor\n",
    "from sklearn.metrics import mean_absolute_error\n",
    "from sklearn.metrics import mean_squared_error\n",
    "from math import sqrt\n",
    "from sklearn.preprocessing import StandardScaler\n",
    "from sklearn.svm import SVR\n",
    "from xgboost import XGBRegressor\n",
    "from keras.models import Sequential\n",
    "from keras.layers import Dense, BatchNormalization, Dropout, LSTM\n",
    "from sklearn.ensemble import IsolationForest"
   ]
  },
  {
   "cell_type": "markdown",
   "id": "4fdbf56f",
   "metadata": {},
   "source": [
    "# Data Collection and Processing"
   ]
  },
  {
   "cell_type": "code",
   "execution_count": 2,
   "id": "2cfc00ec",
   "metadata": {
    "scrolled": true
   },
   "outputs": [],
   "source": [
    "# loading the csv data to a Pandas DataFrame\n",
    "ev= pd.read_csv('C:\\\\Users\\\\Dell\\\\Desktop\\\\pp/bigg.csv')"
   ]
  },
  {
   "cell_type": "code",
   "execution_count": 3,
   "id": "222c17db",
   "metadata": {},
   "outputs": [
    {
     "data": {
      "text/html": [
       "<div>\n",
       "<style scoped>\n",
       "    .dataframe tbody tr th:only-of-type {\n",
       "        vertical-align: middle;\n",
       "    }\n",
       "\n",
       "    .dataframe tbody tr th {\n",
       "        vertical-align: top;\n",
       "    }\n",
       "\n",
       "    .dataframe thead th {\n",
       "        text-align: right;\n",
       "    }\n",
       "</style>\n",
       "<table border=\"1\" class=\"dataframe\">\n",
       "  <thead>\n",
       "    <tr style=\"text-align: right;\">\n",
       "      <th></th>\n",
       "      <th>id</th>\n",
       "      <th>clusterId</th>\n",
       "      <th>connectionTime</th>\n",
       "      <th>Num.Rep.</th>\n",
       "      <th>disconnectTime</th>\n",
       "      <th>donechargingTime</th>\n",
       "      <th>SessionLength</th>\n",
       "      <th>Avg.Sess.</th>\n",
       "      <th>kWhDelivered</th>\n",
       "      <th>Avg.Cons.</th>\n",
       "      <th>...</th>\n",
       "      <th>Precip Type</th>\n",
       "      <th>temperature</th>\n",
       "      <th>Avg. Humidity</th>\n",
       "      <th>Avg Wind Speed(mph)</th>\n",
       "      <th>Wind Bearing(degrees)</th>\n",
       "      <th>Visibility(km)</th>\n",
       "      <th>Loud Cover</th>\n",
       "      <th>Pressure(millibar)</th>\n",
       "      <th>Battery_Pack Kwh</th>\n",
       "      <th>FastCharge_KmH</th>\n",
       "    </tr>\n",
       "  </thead>\n",
       "  <tbody>\n",
       "    <tr>\n",
       "      <th>0</th>\n",
       "      <td>5bc90cb9f9af8b0d7fe77cd2</td>\n",
       "      <td>39</td>\n",
       "      <td>Wed, 25 Apr 2018 11:08:04 GMT</td>\n",
       "      <td>11.13</td>\n",
       "      <td>Wed, 25 Apr 2018 13:20:10 GMT</td>\n",
       "      <td>Wed, 25 Apr 2018 13:21:10 GMT</td>\n",
       "      <td>2.20</td>\n",
       "      <td>3.55</td>\n",
       "      <td>7.93</td>\n",
       "      <td>6.44</td>\n",
       "      <td>...</td>\n",
       "      <td>rain</td>\n",
       "      <td>24.37</td>\n",
       "      <td>34.85</td>\n",
       "      <td>13.54</td>\n",
       "      <td>300</td>\n",
       "      <td>9.9</td>\n",
       "      <td>0</td>\n",
       "      <td>1004.55</td>\n",
       "      <td>70.0</td>\n",
       "      <td>940</td>\n",
       "    </tr>\n",
       "    <tr>\n",
       "      <th>1</th>\n",
       "      <td>5bc90cb9f9af8b0d7fe77cd3</td>\n",
       "      <td>39</td>\n",
       "      <td>Wed, 25 Apr 2018 13:45:10 GMT</td>\n",
       "      <td>13.75</td>\n",
       "      <td>Thu, 26 Apr 2018 00:56:16 GMT</td>\n",
       "      <td>Wed, 25 Apr 2018 16:44:15 GMT</td>\n",
       "      <td>11.19</td>\n",
       "      <td>3.55</td>\n",
       "      <td>10.01</td>\n",
       "      <td>6.44</td>\n",
       "      <td>...</td>\n",
       "      <td>rain</td>\n",
       "      <td>24.37</td>\n",
       "      <td>34.85</td>\n",
       "      <td>13.54</td>\n",
       "      <td>300</td>\n",
       "      <td>9.9</td>\n",
       "      <td>0</td>\n",
       "      <td>1004.55</td>\n",
       "      <td>45.0</td>\n",
       "      <td>250</td>\n",
       "    </tr>\n",
       "    <tr>\n",
       "      <th>2</th>\n",
       "      <td>5bc90cb9f9af8b0d7fe77cd4</td>\n",
       "      <td>39</td>\n",
       "      <td>Wed, 25 Apr 2018 13:45:50 GMT</td>\n",
       "      <td>13.76</td>\n",
       "      <td>Wed, 25 Apr 2018 23:04:45 GMT</td>\n",
       "      <td>Wed, 25 Apr 2018 14:51:44 GMT</td>\n",
       "      <td>10.33</td>\n",
       "      <td>3.54</td>\n",
       "      <td>5.26</td>\n",
       "      <td>6.44</td>\n",
       "      <td>...</td>\n",
       "      <td>rain</td>\n",
       "      <td>24.37</td>\n",
       "      <td>34.85</td>\n",
       "      <td>13.54</td>\n",
       "      <td>300</td>\n",
       "      <td>9.9</td>\n",
       "      <td>0</td>\n",
       "      <td>1004.55</td>\n",
       "      <td>75.0</td>\n",
       "      <td>620</td>\n",
       "    </tr>\n",
       "    <tr>\n",
       "      <th>3</th>\n",
       "      <td>5bc90cb9f9af8b0d7fe77cd5</td>\n",
       "      <td>39</td>\n",
       "      <td>Wed, 25 Apr 2018 14:37:06 GMT</td>\n",
       "      <td>14.62</td>\n",
       "      <td>Wed, 25 Apr 2018 23:55:34 GMT</td>\n",
       "      <td>Wed, 25 Apr 2018 16:05:22 GMT</td>\n",
       "      <td>9.31</td>\n",
       "      <td>3.55</td>\n",
       "      <td>5.18</td>\n",
       "      <td>6.44</td>\n",
       "      <td>...</td>\n",
       "      <td>rain</td>\n",
       "      <td>24.37</td>\n",
       "      <td>34.85</td>\n",
       "      <td>13.54</td>\n",
       "      <td>300</td>\n",
       "      <td>9.9</td>\n",
       "      <td>0</td>\n",
       "      <td>1004.55</td>\n",
       "      <td>74.0</td>\n",
       "      <td>560</td>\n",
       "    </tr>\n",
       "    <tr>\n",
       "      <th>4</th>\n",
       "      <td>5bc90cb9f9af8b0d7fe77cd6</td>\n",
       "      <td>39</td>\n",
       "      <td>Wed, 25 Apr 2018 14:40:34 GMT</td>\n",
       "      <td>14.68</td>\n",
       "      <td>Wed, 25 Apr 2018 23:03:12 GMT</td>\n",
       "      <td>Wed, 25 Apr 2018 17:40:30 GMT</td>\n",
       "      <td>8.38</td>\n",
       "      <td>3.55</td>\n",
       "      <td>10.12</td>\n",
       "      <td>6.44</td>\n",
       "      <td>...</td>\n",
       "      <td>rain</td>\n",
       "      <td>24.37</td>\n",
       "      <td>34.85</td>\n",
       "      <td>13.54</td>\n",
       "      <td>300</td>\n",
       "      <td>9.9</td>\n",
       "      <td>0</td>\n",
       "      <td>1004.55</td>\n",
       "      <td>28.5</td>\n",
       "      <td>190</td>\n",
       "    </tr>\n",
       "  </tbody>\n",
       "</table>\n",
       "<p>5 rows × 27 columns</p>\n",
       "</div>"
      ],
      "text/plain": [
       "                         id  clusterId                 connectionTime   \n",
       "0  5bc90cb9f9af8b0d7fe77cd2         39  Wed, 25 Apr 2018 11:08:04 GMT  \\\n",
       "1  5bc90cb9f9af8b0d7fe77cd3         39  Wed, 25 Apr 2018 13:45:10 GMT   \n",
       "2  5bc90cb9f9af8b0d7fe77cd4         39  Wed, 25 Apr 2018 13:45:50 GMT   \n",
       "3  5bc90cb9f9af8b0d7fe77cd5         39  Wed, 25 Apr 2018 14:37:06 GMT   \n",
       "4  5bc90cb9f9af8b0d7fe77cd6         39  Wed, 25 Apr 2018 14:40:34 GMT   \n",
       "\n",
       "   Num.Rep.                 disconnectTime               donechargingTime   \n",
       "0     11.13  Wed, 25 Apr 2018 13:20:10 GMT  Wed, 25 Apr 2018 13:21:10 GMT  \\\n",
       "1     13.75  Thu, 26 Apr 2018 00:56:16 GMT  Wed, 25 Apr 2018 16:44:15 GMT   \n",
       "2     13.76  Wed, 25 Apr 2018 23:04:45 GMT  Wed, 25 Apr 2018 14:51:44 GMT   \n",
       "3     14.62  Wed, 25 Apr 2018 23:55:34 GMT  Wed, 25 Apr 2018 16:05:22 GMT   \n",
       "4     14.68  Wed, 25 Apr 2018 23:03:12 GMT  Wed, 25 Apr 2018 17:40:30 GMT   \n",
       "\n",
       "   SessionLength  Avg.Sess.  kWhDelivered  Avg.Cons.  ... Precip Type   \n",
       "0           2.20       3.55          7.93       6.44  ...        rain  \\\n",
       "1          11.19       3.55         10.01       6.44  ...        rain   \n",
       "2          10.33       3.54          5.26       6.44  ...        rain   \n",
       "3           9.31       3.55          5.18       6.44  ...        rain   \n",
       "4           8.38       3.55         10.12       6.44  ...        rain   \n",
       "\n",
       "   temperature Avg. Humidity Avg Wind Speed(mph) Wind Bearing(degrees)   \n",
       "0        24.37         34.85               13.54                   300  \\\n",
       "1        24.37         34.85               13.54                   300   \n",
       "2        24.37         34.85               13.54                   300   \n",
       "3        24.37         34.85               13.54                   300   \n",
       "4        24.37         34.85               13.54                   300   \n",
       "\n",
       "   Visibility(km)  Loud Cover Pressure(millibar)  Battery_Pack Kwh   \n",
       "0             9.9           0            1004.55              70.0  \\\n",
       "1             9.9           0            1004.55              45.0   \n",
       "2             9.9           0            1004.55              75.0   \n",
       "3             9.9           0            1004.55              74.0   \n",
       "4             9.9           0            1004.55              28.5   \n",
       "\n",
       "   FastCharge_KmH  \n",
       "0             940  \n",
       "1             250  \n",
       "2             620  \n",
       "3             560  \n",
       "4             190  \n",
       "\n",
       "[5 rows x 27 columns]"
      ]
     },
     "execution_count": 3,
     "metadata": {},
     "output_type": "execute_result"
    }
   ],
   "source": [
    "# print first 5 rows in the dataframe\n",
    "ev.head()"
   ]
  },
  {
   "cell_type": "code",
   "execution_count": 4,
   "id": "3b7dbffb",
   "metadata": {},
   "outputs": [
    {
     "data": {
      "text/html": [
       "<div>\n",
       "<style scoped>\n",
       "    .dataframe tbody tr th:only-of-type {\n",
       "        vertical-align: middle;\n",
       "    }\n",
       "\n",
       "    .dataframe tbody tr th {\n",
       "        vertical-align: top;\n",
       "    }\n",
       "\n",
       "    .dataframe thead th {\n",
       "        text-align: right;\n",
       "    }\n",
       "</style>\n",
       "<table border=\"1\" class=\"dataframe\">\n",
       "  <thead>\n",
       "    <tr style=\"text-align: right;\">\n",
       "      <th></th>\n",
       "      <th>id</th>\n",
       "      <th>clusterId</th>\n",
       "      <th>connectionTime</th>\n",
       "      <th>Num.Rep.</th>\n",
       "      <th>disconnectTime</th>\n",
       "      <th>donechargingTime</th>\n",
       "      <th>SessionLength</th>\n",
       "      <th>Avg.Sess.</th>\n",
       "      <th>kWhDelivered</th>\n",
       "      <th>Avg.Cons.</th>\n",
       "      <th>...</th>\n",
       "      <th>Precip Type</th>\n",
       "      <th>temperature</th>\n",
       "      <th>Avg. Humidity</th>\n",
       "      <th>Avg Wind Speed(mph)</th>\n",
       "      <th>Wind Bearing(degrees)</th>\n",
       "      <th>Visibility(km)</th>\n",
       "      <th>Loud Cover</th>\n",
       "      <th>Pressure(millibar)</th>\n",
       "      <th>Battery_Pack Kwh</th>\n",
       "      <th>FastCharge_KmH</th>\n",
       "    </tr>\n",
       "  </thead>\n",
       "  <tbody>\n",
       "    <tr>\n",
       "      <th>1194</th>\n",
       "      <td>9543932</td>\n",
       "      <td>39</td>\n",
       "      <td>2015-08-03 16:45:16</td>\n",
       "      <td>16.0</td>\n",
       "      <td>2015-08-03 19:58:16</td>\n",
       "      <td>2015-08-03 19:58:16</td>\n",
       "      <td>3.22</td>\n",
       "      <td>2.57</td>\n",
       "      <td>1.82</td>\n",
       "      <td>3.62</td>\n",
       "      <td>...</td>\n",
       "      <td>rain</td>\n",
       "      <td>35.98</td>\n",
       "      <td>40.55</td>\n",
       "      <td>10.35</td>\n",
       "      <td>305</td>\n",
       "      <td>16.1</td>\n",
       "      <td>0</td>\n",
       "      <td>1005.18</td>\n",
       "      <td>45.0</td>\n",
       "      <td>260</td>\n",
       "    </tr>\n",
       "    <tr>\n",
       "      <th>1195</th>\n",
       "      <td>9851741</td>\n",
       "      <td>39</td>\n",
       "      <td>2015-08-04 19:00:42</td>\n",
       "      <td>19.0</td>\n",
       "      <td>2015-08-04 20:31:07</td>\n",
       "      <td>2015-08-04 20:31:07</td>\n",
       "      <td>1.51</td>\n",
       "      <td>2.41</td>\n",
       "      <td>4.73</td>\n",
       "      <td>4.07</td>\n",
       "      <td>...</td>\n",
       "      <td>rain</td>\n",
       "      <td>35.98</td>\n",
       "      <td>40.55</td>\n",
       "      <td>10.35</td>\n",
       "      <td>305</td>\n",
       "      <td>16.1</td>\n",
       "      <td>0</td>\n",
       "      <td>1005.18</td>\n",
       "      <td>65.0</td>\n",
       "      <td>345</td>\n",
       "    </tr>\n",
       "    <tr>\n",
       "      <th>1196</th>\n",
       "      <td>4852971</td>\n",
       "      <td>39</td>\n",
       "      <td>2015-08-05 12:18:20</td>\n",
       "      <td>12.0</td>\n",
       "      <td>2015-08-05 15:35:08</td>\n",
       "      <td>2015-08-05 15:35:08</td>\n",
       "      <td>3.28</td>\n",
       "      <td>2.70</td>\n",
       "      <td>3.69</td>\n",
       "      <td>3.85</td>\n",
       "      <td>...</td>\n",
       "      <td>rain</td>\n",
       "      <td>35.98</td>\n",
       "      <td>40.55</td>\n",
       "      <td>10.35</td>\n",
       "      <td>305</td>\n",
       "      <td>17.3</td>\n",
       "      <td>0</td>\n",
       "      <td>1005.18</td>\n",
       "      <td>118.0</td>\n",
       "      <td>670</td>\n",
       "    </tr>\n",
       "    <tr>\n",
       "      <th>1197</th>\n",
       "      <td>6431779</td>\n",
       "      <td>39</td>\n",
       "      <td>2015-08-06 13:53:58</td>\n",
       "      <td>13.0</td>\n",
       "      <td>2015-08-06 15:47:07</td>\n",
       "      <td>2015-08-06 15:47:07</td>\n",
       "      <td>1.89</td>\n",
       "      <td>2.42</td>\n",
       "      <td>3.82</td>\n",
       "      <td>3.93</td>\n",
       "      <td>...</td>\n",
       "      <td>rain</td>\n",
       "      <td>35.98</td>\n",
       "      <td>40.55</td>\n",
       "      <td>10.35</td>\n",
       "      <td>305</td>\n",
       "      <td>17.3</td>\n",
       "      <td>0</td>\n",
       "      <td>1005.18</td>\n",
       "      <td>28.0</td>\n",
       "      <td>215</td>\n",
       "    </tr>\n",
       "    <tr>\n",
       "      <th>1198</th>\n",
       "      <td>7870286</td>\n",
       "      <td>39</td>\n",
       "      <td>2015-08-07 12:05:16</td>\n",
       "      <td>12.0</td>\n",
       "      <td>2015-08-07 15:02:08</td>\n",
       "      <td>2015-08-07 15:02:08</td>\n",
       "      <td>2.95</td>\n",
       "      <td>2.95</td>\n",
       "      <td>4.03</td>\n",
       "      <td>4.03</td>\n",
       "      <td>...</td>\n",
       "      <td>rain</td>\n",
       "      <td>35.98</td>\n",
       "      <td>40.55</td>\n",
       "      <td>10.35</td>\n",
       "      <td>305</td>\n",
       "      <td>17.3</td>\n",
       "      <td>0</td>\n",
       "      <td>1005.18</td>\n",
       "      <td>70.0</td>\n",
       "      <td>800</td>\n",
       "    </tr>\n",
       "  </tbody>\n",
       "</table>\n",
       "<p>5 rows × 27 columns</p>\n",
       "</div>"
      ],
      "text/plain": [
       "           id  clusterId       connectionTime  Num.Rep.       disconnectTime   \n",
       "1194  9543932         39  2015-08-03 16:45:16      16.0  2015-08-03 19:58:16  \\\n",
       "1195  9851741         39  2015-08-04 19:00:42      19.0  2015-08-04 20:31:07   \n",
       "1196  4852971         39  2015-08-05 12:18:20      12.0  2015-08-05 15:35:08   \n",
       "1197  6431779         39  2015-08-06 13:53:58      13.0  2015-08-06 15:47:07   \n",
       "1198  7870286         39  2015-08-07 12:05:16      12.0  2015-08-07 15:02:08   \n",
       "\n",
       "         donechargingTime  SessionLength  Avg.Sess.  kWhDelivered  Avg.Cons.   \n",
       "1194  2015-08-03 19:58:16           3.22       2.57          1.82       3.62  \\\n",
       "1195  2015-08-04 20:31:07           1.51       2.41          4.73       4.07   \n",
       "1196  2015-08-05 15:35:08           3.28       2.70          3.69       3.85   \n",
       "1197  2015-08-06 15:47:07           1.89       2.42          3.82       3.93   \n",
       "1198  2015-08-07 15:02:08           2.95       2.95          4.03       4.03   \n",
       "\n",
       "      ... Precip Type  temperature Avg. Humidity Avg Wind Speed(mph)   \n",
       "1194  ...        rain        35.98         40.55               10.35  \\\n",
       "1195  ...        rain        35.98         40.55               10.35   \n",
       "1196  ...        rain        35.98         40.55               10.35   \n",
       "1197  ...        rain        35.98         40.55               10.35   \n",
       "1198  ...        rain        35.98         40.55               10.35   \n",
       "\n",
       "     Wind Bearing(degrees)  Visibility(km)  Loud Cover Pressure(millibar)   \n",
       "1194                   305            16.1           0            1005.18  \\\n",
       "1195                   305            16.1           0            1005.18   \n",
       "1196                   305            17.3           0            1005.18   \n",
       "1197                   305            17.3           0            1005.18   \n",
       "1198                   305            17.3           0            1005.18   \n",
       "\n",
       "      Battery_Pack Kwh  FastCharge_KmH  \n",
       "1194              45.0             260  \n",
       "1195              65.0             345  \n",
       "1196             118.0             670  \n",
       "1197              28.0             215  \n",
       "1198              70.0             800  \n",
       "\n",
       "[5 rows x 27 columns]"
      ]
     },
     "execution_count": 4,
     "metadata": {},
     "output_type": "execute_result"
    }
   ],
   "source": [
    "# print last 5 rows of the dataframe\n",
    "ev.tail()"
   ]
  },
  {
   "cell_type": "code",
   "execution_count": 5,
   "id": "7d2a15ea",
   "metadata": {},
   "outputs": [
    {
     "data": {
      "text/plain": [
       "(1199, 27)"
      ]
     },
     "execution_count": 5,
     "metadata": {},
     "output_type": "execute_result"
    }
   ],
   "source": [
    "# number of rows and columns\n",
    "ev.shape"
   ]
  },
  {
   "cell_type": "code",
   "execution_count": 6,
   "id": "8e1d13d8",
   "metadata": {},
   "outputs": [
    {
     "name": "stdout",
     "output_type": "stream",
     "text": [
      "<class 'pandas.core.frame.DataFrame'>\n",
      "RangeIndex: 1199 entries, 0 to 1198\n",
      "Data columns (total 27 columns):\n",
      " #   Column                 Non-Null Count  Dtype  \n",
      "---  ------                 --------------  -----  \n",
      " 0   id                     1199 non-null   object \n",
      " 1   clusterId              1199 non-null   int64  \n",
      " 2   connectionTime         1199 non-null   object \n",
      " 3   Num.Rep.               1199 non-null   float64\n",
      " 4   disconnectTime         1199 non-null   object \n",
      " 5   donechargingTime       1198 non-null   object \n",
      " 6   SessionLength          1199 non-null   float64\n",
      " 7   Avg.Sess.              1199 non-null   float64\n",
      " 8   kWhDelivered           1199 non-null   float64\n",
      " 9   Avg.Cons.              1199 non-null   float64\n",
      " 10  sessionId              1199 non-null   object \n",
      " 11  siteId                 1199 non-null   int64  \n",
      " 12  spaceID                1199 non-null   object \n",
      " 13  stationID              1199 non-null   object \n",
      " 14  timezone               1199 non-null   object \n",
      " 15  userID                 0 non-null      float64\n",
      " 16  userInput              0 non-null      float64\n",
      " 17  Precip Type            1199 non-null   object \n",
      " 18  temperature            1199 non-null   float64\n",
      " 19  Avg. Humidity          1199 non-null   float64\n",
      " 20  Avg Wind Speed(mph)    1199 non-null   float64\n",
      " 21  Wind Bearing(degrees)  1199 non-null   int64  \n",
      " 22  Visibility(km)         1199 non-null   float64\n",
      " 23  Loud Cover             1199 non-null   int64  \n",
      " 24  Pressure(millibar)     1199 non-null   float64\n",
      " 25  Battery_Pack Kwh       1199 non-null   float64\n",
      " 26  FastCharge_KmH         1199 non-null   int64  \n",
      "dtypes: float64(13), int64(5), object(9)\n",
      "memory usage: 253.0+ KB\n"
     ]
    }
   ],
   "source": [
    "# getting some basic informations about the data\n",
    "ev.info()"
   ]
  },
  {
   "cell_type": "code",
   "execution_count": 7,
   "id": "02415370",
   "metadata": {},
   "outputs": [
    {
     "data": {
      "text/plain": [
       "id                          0\n",
       "clusterId                   0\n",
       "connectionTime              0\n",
       "Num.Rep.                    0\n",
       "disconnectTime              0\n",
       "donechargingTime            1\n",
       "SessionLength               0\n",
       "Avg.Sess.                   0\n",
       "kWhDelivered                0\n",
       "Avg.Cons.                   0\n",
       "sessionId                   0\n",
       "siteId                      0\n",
       "spaceID                     0\n",
       "stationID                   0\n",
       "timezone                    0\n",
       "userID                   1199\n",
       "userInput                1199\n",
       "Precip Type                 0\n",
       "temperature                 0\n",
       "Avg. Humidity               0\n",
       "Avg Wind Speed(mph)         0\n",
       "Wind Bearing(degrees)       0\n",
       "Visibility(km)              0\n",
       "Loud Cover                  0\n",
       "Pressure(millibar)          0\n",
       "Battery_Pack Kwh            0\n",
       "FastCharge_KmH              0\n",
       "dtype: int64"
      ]
     },
     "execution_count": 7,
     "metadata": {},
     "output_type": "execute_result"
    }
   ],
   "source": [
    "# checking the number of missing values\n",
    "ev.isnull().sum()"
   ]
  },
  {
   "cell_type": "code",
   "execution_count": 8,
   "id": "1bea6d0b",
   "metadata": {},
   "outputs": [],
   "source": [
    "ev[\"donechargingTime\"] = ev[\"donechargingTime\"].fillna(ev[\"donechargingTime\"].mode()[0])"
   ]
  },
  {
   "cell_type": "code",
   "execution_count": 9,
   "id": "5cde64ca",
   "metadata": {},
   "outputs": [
    {
     "data": {
      "text/html": [
       "<div>\n",
       "<style scoped>\n",
       "    .dataframe tbody tr th:only-of-type {\n",
       "        vertical-align: middle;\n",
       "    }\n",
       "\n",
       "    .dataframe tbody tr th {\n",
       "        vertical-align: top;\n",
       "    }\n",
       "\n",
       "    .dataframe thead th {\n",
       "        text-align: right;\n",
       "    }\n",
       "</style>\n",
       "<table border=\"1\" class=\"dataframe\">\n",
       "  <thead>\n",
       "    <tr style=\"text-align: right;\">\n",
       "      <th></th>\n",
       "      <th>EV</th>\n",
       "    </tr>\n",
       "  </thead>\n",
       "  <tbody>\n",
       "    <tr>\n",
       "      <th>userID</th>\n",
       "      <td>1199</td>\n",
       "    </tr>\n",
       "    <tr>\n",
       "      <th>userInput</th>\n",
       "      <td>1199</td>\n",
       "    </tr>\n",
       "  </tbody>\n",
       "</table>\n",
       "</div>"
      ],
      "text/plain": [
       "             EV\n",
       "userID     1199\n",
       "userInput  1199"
      ]
     },
     "execution_count": 9,
     "metadata": {},
     "output_type": "execute_result"
    }
   ],
   "source": [
    "NAs = pd.concat([ev.isnull().sum()], axis=1, keys=[\"EV\"])\n",
    "NAs[NAs.sum(axis=1) > 0]"
   ]
  },
  {
   "cell_type": "code",
   "execution_count": 10,
   "id": "8e6700d7",
   "metadata": {},
   "outputs": [
    {
     "data": {
      "text/plain": [
       "0      NaN\n",
       "1      NaN\n",
       "2      NaN\n",
       "3      NaN\n",
       "4      NaN\n",
       "        ..\n",
       "1194   NaN\n",
       "1195   NaN\n",
       "1196   NaN\n",
       "1197   NaN\n",
       "1198   NaN\n",
       "Name: userID, Length: 1199, dtype: float64"
      ]
     },
     "execution_count": 10,
     "metadata": {},
     "output_type": "execute_result"
    }
   ],
   "source": [
    "ev.pop(\"userID\")"
   ]
  },
  {
   "cell_type": "code",
   "execution_count": 11,
   "id": "ba30e321",
   "metadata": {},
   "outputs": [
    {
     "data": {
      "text/plain": [
       "0      NaN\n",
       "1      NaN\n",
       "2      NaN\n",
       "3      NaN\n",
       "4      NaN\n",
       "        ..\n",
       "1194   NaN\n",
       "1195   NaN\n",
       "1196   NaN\n",
       "1197   NaN\n",
       "1198   NaN\n",
       "Name: userInput, Length: 1199, dtype: float64"
      ]
     },
     "execution_count": 11,
     "metadata": {},
     "output_type": "execute_result"
    }
   ],
   "source": [
    "ev.pop(\"userInput\")"
   ]
  },
  {
   "cell_type": "code",
   "execution_count": 12,
   "id": "b237dac0",
   "metadata": {},
   "outputs": [],
   "source": [
    "ev.drop(['id','clusterId','connectionTime','sessionId','spaceID','stationID','disconnectTime','siteId','donechargingTime','timezone','Precip Type','Loud Cover'],axis=1,inplace=True)"
   ]
  },
  {
   "cell_type": "markdown",
   "id": "2e9f2ff9",
   "metadata": {},
   "source": [
    "#How does data look matematically"
   ]
  },
  {
   "cell_type": "code",
   "execution_count": 13,
   "id": "820ad83d",
   "metadata": {},
   "outputs": [
    {
     "data": {
      "text/html": [
       "<div>\n",
       "<style scoped>\n",
       "    .dataframe tbody tr th:only-of-type {\n",
       "        vertical-align: middle;\n",
       "    }\n",
       "\n",
       "    .dataframe tbody tr th {\n",
       "        vertical-align: top;\n",
       "    }\n",
       "\n",
       "    .dataframe thead th {\n",
       "        text-align: right;\n",
       "    }\n",
       "</style>\n",
       "<table border=\"1\" class=\"dataframe\">\n",
       "  <thead>\n",
       "    <tr style=\"text-align: right;\">\n",
       "      <th></th>\n",
       "      <th>Num.Rep.</th>\n",
       "      <th>SessionLength</th>\n",
       "      <th>Avg.Sess.</th>\n",
       "      <th>kWhDelivered</th>\n",
       "      <th>Avg.Cons.</th>\n",
       "      <th>temperature</th>\n",
       "      <th>Avg. Humidity</th>\n",
       "      <th>Avg Wind Speed(mph)</th>\n",
       "      <th>Wind Bearing(degrees)</th>\n",
       "      <th>Visibility(km)</th>\n",
       "      <th>Pressure(millibar)</th>\n",
       "      <th>Battery_Pack Kwh</th>\n",
       "      <th>FastCharge_KmH</th>\n",
       "    </tr>\n",
       "  </thead>\n",
       "  <tbody>\n",
       "    <tr>\n",
       "      <th>count</th>\n",
       "      <td>1199.000000</td>\n",
       "      <td>1199.000000</td>\n",
       "      <td>1199.000000</td>\n",
       "      <td>1199.000000</td>\n",
       "      <td>1199.000000</td>\n",
       "      <td>1199.000000</td>\n",
       "      <td>1199.000000</td>\n",
       "      <td>1199.000000</td>\n",
       "      <td>1199.000000</td>\n",
       "      <td>1199.000000</td>\n",
       "      <td>1199.000000</td>\n",
       "      <td>1199.000000</td>\n",
       "      <td>1199.000000</td>\n",
       "    </tr>\n",
       "    <tr>\n",
       "      <th>mean</th>\n",
       "      <td>14.840467</td>\n",
       "      <td>3.546372</td>\n",
       "      <td>2.895396</td>\n",
       "      <td>6.443036</td>\n",
       "      <td>5.465263</td>\n",
       "      <td>30.840901</td>\n",
       "      <td>39.845421</td>\n",
       "      <td>12.729166</td>\n",
       "      <td>188.645538</td>\n",
       "      <td>14.790342</td>\n",
       "      <td>1007.787873</td>\n",
       "      <td>78.156797</td>\n",
       "      <td>584.951626</td>\n",
       "    </tr>\n",
       "    <tr>\n",
       "      <th>std</th>\n",
       "      <td>4.004081</td>\n",
       "      <td>2.867130</td>\n",
       "      <td>0.223573</td>\n",
       "      <td>4.871629</td>\n",
       "      <td>0.605820</td>\n",
       "      <td>3.311170</td>\n",
       "      <td>3.334805</td>\n",
       "      <td>1.836852</td>\n",
       "      <td>98.281920</td>\n",
       "      <td>2.129531</td>\n",
       "      <td>3.449437</td>\n",
       "      <td>30.711861</td>\n",
       "      <td>233.955636</td>\n",
       "    </tr>\n",
       "    <tr>\n",
       "      <th>min</th>\n",
       "      <td>0.040000</td>\n",
       "      <td>0.010000</td>\n",
       "      <td>2.410000</td>\n",
       "      <td>0.000000</td>\n",
       "      <td>3.620000</td>\n",
       "      <td>24.370000</td>\n",
       "      <td>33.840000</td>\n",
       "      <td>10.240000</td>\n",
       "      <td>10.000000</td>\n",
       "      <td>9.900000</td>\n",
       "      <td>1003.100000</td>\n",
       "      <td>16.700000</td>\n",
       "      <td>0.000000</td>\n",
       "    </tr>\n",
       "    <tr>\n",
       "      <th>25%</th>\n",
       "      <td>12.000000</td>\n",
       "      <td>2.130000</td>\n",
       "      <td>2.750000</td>\n",
       "      <td>3.700000</td>\n",
       "      <td>4.920000</td>\n",
       "      <td>28.510000</td>\n",
       "      <td>37.565000</td>\n",
       "      <td>11.040000</td>\n",
       "      <td>120.000000</td>\n",
       "      <td>14.170000</td>\n",
       "      <td>1005.180000</td>\n",
       "      <td>54.000000</td>\n",
       "      <td>380.000000</td>\n",
       "    </tr>\n",
       "    <tr>\n",
       "      <th>50%</th>\n",
       "      <td>16.000000</td>\n",
       "      <td>3.010000</td>\n",
       "      <td>2.830000</td>\n",
       "      <td>5.790000</td>\n",
       "      <td>5.590000</td>\n",
       "      <td>31.660000</td>\n",
       "      <td>39.380000</td>\n",
       "      <td>12.490000</td>\n",
       "      <td>195.000000</td>\n",
       "      <td>15.730000</td>\n",
       "      <td>1006.920000</td>\n",
       "      <td>78.000000</td>\n",
       "      <td>594.000000</td>\n",
       "    </tr>\n",
       "    <tr>\n",
       "      <th>75%</th>\n",
       "      <td>17.000000</td>\n",
       "      <td>3.965000</td>\n",
       "      <td>2.930000</td>\n",
       "      <td>6.975000</td>\n",
       "      <td>5.810000</td>\n",
       "      <td>33.550000</td>\n",
       "      <td>42.950000</td>\n",
       "      <td>14.780000</td>\n",
       "      <td>271.000000</td>\n",
       "      <td>16.100000</td>\n",
       "      <td>1008.450000</td>\n",
       "      <td>100.000000</td>\n",
       "      <td>788.000000</td>\n",
       "    </tr>\n",
       "    <tr>\n",
       "      <th>max</th>\n",
       "      <td>23.900000</td>\n",
       "      <td>55.240000</td>\n",
       "      <td>3.550000</td>\n",
       "      <td>47.810000</td>\n",
       "      <td>6.450000</td>\n",
       "      <td>35.980000</td>\n",
       "      <td>45.100000</td>\n",
       "      <td>15.640000</td>\n",
       "      <td>339.000000</td>\n",
       "      <td>17.300000</td>\n",
       "      <td>1016.850000</td>\n",
       "      <td>206.000000</td>\n",
       "      <td>999.000000</td>\n",
       "    </tr>\n",
       "  </tbody>\n",
       "</table>\n",
       "</div>"
      ],
      "text/plain": [
       "          Num.Rep.  SessionLength    Avg.Sess.  kWhDelivered    Avg.Cons.   \n",
       "count  1199.000000    1199.000000  1199.000000   1199.000000  1199.000000  \\\n",
       "mean     14.840467       3.546372     2.895396      6.443036     5.465263   \n",
       "std       4.004081       2.867130     0.223573      4.871629     0.605820   \n",
       "min       0.040000       0.010000     2.410000      0.000000     3.620000   \n",
       "25%      12.000000       2.130000     2.750000      3.700000     4.920000   \n",
       "50%      16.000000       3.010000     2.830000      5.790000     5.590000   \n",
       "75%      17.000000       3.965000     2.930000      6.975000     5.810000   \n",
       "max      23.900000      55.240000     3.550000     47.810000     6.450000   \n",
       "\n",
       "       temperature  Avg. Humidity  Avg Wind Speed(mph)  Wind Bearing(degrees)   \n",
       "count  1199.000000    1199.000000          1199.000000            1199.000000  \\\n",
       "mean     30.840901      39.845421            12.729166             188.645538   \n",
       "std       3.311170       3.334805             1.836852              98.281920   \n",
       "min      24.370000      33.840000            10.240000              10.000000   \n",
       "25%      28.510000      37.565000            11.040000             120.000000   \n",
       "50%      31.660000      39.380000            12.490000             195.000000   \n",
       "75%      33.550000      42.950000            14.780000             271.000000   \n",
       "max      35.980000      45.100000            15.640000             339.000000   \n",
       "\n",
       "       Visibility(km)  Pressure(millibar)  Battery_Pack Kwh  FastCharge_KmH  \n",
       "count     1199.000000         1199.000000       1199.000000     1199.000000  \n",
       "mean        14.790342         1007.787873         78.156797      584.951626  \n",
       "std          2.129531            3.449437         30.711861      233.955636  \n",
       "min          9.900000         1003.100000         16.700000        0.000000  \n",
       "25%         14.170000         1005.180000         54.000000      380.000000  \n",
       "50%         15.730000         1006.920000         78.000000      594.000000  \n",
       "75%         16.100000         1008.450000        100.000000      788.000000  \n",
       "max         17.300000         1016.850000        206.000000      999.000000  "
      ]
     },
     "execution_count": 13,
     "metadata": {},
     "output_type": "execute_result"
    }
   ],
   "source": [
    "ev.describe()"
   ]
  },
  {
   "cell_type": "code",
   "execution_count": 14,
   "id": "b59babcc",
   "metadata": {},
   "outputs": [
    {
     "data": {
      "text/plain": [
       "0"
      ]
     },
     "execution_count": 14,
     "metadata": {},
     "output_type": "execute_result"
    }
   ],
   "source": [
    "#Are there duplicate values\n",
    "ev.duplicated().sum()"
   ]
  },
  {
   "cell_type": "code",
   "execution_count": 15,
   "id": "eafd458d",
   "metadata": {},
   "outputs": [
    {
     "data": {
      "text/html": [
       "<div>\n",
       "<style scoped>\n",
       "    .dataframe tbody tr th:only-of-type {\n",
       "        vertical-align: middle;\n",
       "    }\n",
       "\n",
       "    .dataframe tbody tr th {\n",
       "        vertical-align: top;\n",
       "    }\n",
       "\n",
       "    .dataframe thead th {\n",
       "        text-align: right;\n",
       "    }\n",
       "</style>\n",
       "<table border=\"1\" class=\"dataframe\">\n",
       "  <thead>\n",
       "    <tr style=\"text-align: right;\">\n",
       "      <th></th>\n",
       "      <th>Num.Rep.</th>\n",
       "      <th>SessionLength</th>\n",
       "      <th>Avg.Sess.</th>\n",
       "      <th>kWhDelivered</th>\n",
       "      <th>Avg.Cons.</th>\n",
       "      <th>temperature</th>\n",
       "      <th>Avg. Humidity</th>\n",
       "      <th>Avg Wind Speed(mph)</th>\n",
       "      <th>Wind Bearing(degrees)</th>\n",
       "      <th>Visibility(km)</th>\n",
       "      <th>Pressure(millibar)</th>\n",
       "      <th>Battery_Pack Kwh</th>\n",
       "      <th>FastCharge_KmH</th>\n",
       "    </tr>\n",
       "  </thead>\n",
       "  <tbody>\n",
       "    <tr>\n",
       "      <th>Num.Rep.</th>\n",
       "      <td>1.000000</td>\n",
       "      <td>-0.071010</td>\n",
       "      <td>-0.107489</td>\n",
       "      <td>-0.130661</td>\n",
       "      <td>-0.040154</td>\n",
       "      <td>-0.005883</td>\n",
       "      <td>0.000890</td>\n",
       "      <td>0.082359</td>\n",
       "      <td>-0.102735</td>\n",
       "      <td>-0.177679</td>\n",
       "      <td>-0.118644</td>\n",
       "      <td>0.020703</td>\n",
       "      <td>0.008337</td>\n",
       "    </tr>\n",
       "    <tr>\n",
       "      <th>SessionLength</th>\n",
       "      <td>-0.071010</td>\n",
       "      <td>1.000000</td>\n",
       "      <td>0.380336</td>\n",
       "      <td>0.349359</td>\n",
       "      <td>0.288598</td>\n",
       "      <td>-0.315319</td>\n",
       "      <td>-0.303165</td>\n",
       "      <td>-0.081812</td>\n",
       "      <td>0.114141</td>\n",
       "      <td>0.003940</td>\n",
       "      <td>0.259002</td>\n",
       "      <td>-0.054652</td>\n",
       "      <td>-0.079983</td>\n",
       "    </tr>\n",
       "    <tr>\n",
       "      <th>Avg.Sess.</th>\n",
       "      <td>-0.107489</td>\n",
       "      <td>0.380336</td>\n",
       "      <td>1.000000</td>\n",
       "      <td>0.227223</td>\n",
       "      <td>0.773066</td>\n",
       "      <td>-0.835803</td>\n",
       "      <td>-0.863568</td>\n",
       "      <td>-0.266609</td>\n",
       "      <td>0.276224</td>\n",
       "      <td>-0.143602</td>\n",
       "      <td>0.485590</td>\n",
       "      <td>-0.081316</td>\n",
       "      <td>-0.156699</td>\n",
       "    </tr>\n",
       "    <tr>\n",
       "      <th>kWhDelivered</th>\n",
       "      <td>-0.130661</td>\n",
       "      <td>0.349359</td>\n",
       "      <td>0.227223</td>\n",
       "      <td>1.000000</td>\n",
       "      <td>0.231452</td>\n",
       "      <td>-0.262378</td>\n",
       "      <td>-0.233600</td>\n",
       "      <td>-0.025725</td>\n",
       "      <td>-0.099936</td>\n",
       "      <td>0.078063</td>\n",
       "      <td>0.249317</td>\n",
       "      <td>-0.026580</td>\n",
       "      <td>-0.006242</td>\n",
       "    </tr>\n",
       "    <tr>\n",
       "      <th>Avg.Cons.</th>\n",
       "      <td>-0.040154</td>\n",
       "      <td>0.288598</td>\n",
       "      <td>0.773066</td>\n",
       "      <td>0.231452</td>\n",
       "      <td>1.000000</td>\n",
       "      <td>-0.698765</td>\n",
       "      <td>-0.849067</td>\n",
       "      <td>-0.548857</td>\n",
       "      <td>0.087399</td>\n",
       "      <td>-0.116635</td>\n",
       "      <td>0.415482</td>\n",
       "      <td>-0.032511</td>\n",
       "      <td>-0.099096</td>\n",
       "    </tr>\n",
       "    <tr>\n",
       "      <th>temperature</th>\n",
       "      <td>-0.005883</td>\n",
       "      <td>-0.315319</td>\n",
       "      <td>-0.835803</td>\n",
       "      <td>-0.262378</td>\n",
       "      <td>-0.698765</td>\n",
       "      <td>1.000000</td>\n",
       "      <td>0.850414</td>\n",
       "      <td>0.100510</td>\n",
       "      <td>-0.046195</td>\n",
       "      <td>0.259534</td>\n",
       "      <td>-0.574374</td>\n",
       "      <td>0.031727</td>\n",
       "      <td>0.119235</td>\n",
       "    </tr>\n",
       "    <tr>\n",
       "      <th>Avg. Humidity</th>\n",
       "      <td>0.000890</td>\n",
       "      <td>-0.303165</td>\n",
       "      <td>-0.863568</td>\n",
       "      <td>-0.233600</td>\n",
       "      <td>-0.849067</td>\n",
       "      <td>0.850414</td>\n",
       "      <td>1.000000</td>\n",
       "      <td>0.396623</td>\n",
       "      <td>-0.181635</td>\n",
       "      <td>0.109862</td>\n",
       "      <td>-0.507359</td>\n",
       "      <td>0.019863</td>\n",
       "      <td>0.127938</td>\n",
       "    </tr>\n",
       "    <tr>\n",
       "      <th>Avg Wind Speed(mph)</th>\n",
       "      <td>0.082359</td>\n",
       "      <td>-0.081812</td>\n",
       "      <td>-0.266609</td>\n",
       "      <td>-0.025725</td>\n",
       "      <td>-0.548857</td>\n",
       "      <td>0.100510</td>\n",
       "      <td>0.396623</td>\n",
       "      <td>1.000000</td>\n",
       "      <td>-0.256970</td>\n",
       "      <td>-0.121604</td>\n",
       "      <td>-0.133499</td>\n",
       "      <td>0.018198</td>\n",
       "      <td>0.020462</td>\n",
       "    </tr>\n",
       "    <tr>\n",
       "      <th>Wind Bearing(degrees)</th>\n",
       "      <td>-0.102735</td>\n",
       "      <td>0.114141</td>\n",
       "      <td>0.276224</td>\n",
       "      <td>-0.099936</td>\n",
       "      <td>0.087399</td>\n",
       "      <td>-0.046195</td>\n",
       "      <td>-0.181635</td>\n",
       "      <td>-0.256970</td>\n",
       "      <td>1.000000</td>\n",
       "      <td>-0.049020</td>\n",
       "      <td>-0.112676</td>\n",
       "      <td>-0.056938</td>\n",
       "      <td>-0.071260</td>\n",
       "    </tr>\n",
       "    <tr>\n",
       "      <th>Visibility(km)</th>\n",
       "      <td>-0.177679</td>\n",
       "      <td>0.003940</td>\n",
       "      <td>-0.143602</td>\n",
       "      <td>0.078063</td>\n",
       "      <td>-0.116635</td>\n",
       "      <td>0.259534</td>\n",
       "      <td>0.109862</td>\n",
       "      <td>-0.121604</td>\n",
       "      <td>-0.049020</td>\n",
       "      <td>1.000000</td>\n",
       "      <td>0.210063</td>\n",
       "      <td>0.057092</td>\n",
       "      <td>0.043039</td>\n",
       "    </tr>\n",
       "    <tr>\n",
       "      <th>Pressure(millibar)</th>\n",
       "      <td>-0.118644</td>\n",
       "      <td>0.259002</td>\n",
       "      <td>0.485590</td>\n",
       "      <td>0.249317</td>\n",
       "      <td>0.415482</td>\n",
       "      <td>-0.574374</td>\n",
       "      <td>-0.507359</td>\n",
       "      <td>-0.133499</td>\n",
       "      <td>-0.112676</td>\n",
       "      <td>0.210063</td>\n",
       "      <td>1.000000</td>\n",
       "      <td>-0.014193</td>\n",
       "      <td>-0.024295</td>\n",
       "    </tr>\n",
       "    <tr>\n",
       "      <th>Battery_Pack Kwh</th>\n",
       "      <td>0.020703</td>\n",
       "      <td>-0.054652</td>\n",
       "      <td>-0.081316</td>\n",
       "      <td>-0.026580</td>\n",
       "      <td>-0.032511</td>\n",
       "      <td>0.031727</td>\n",
       "      <td>0.019863</td>\n",
       "      <td>0.018198</td>\n",
       "      <td>-0.056938</td>\n",
       "      <td>0.057092</td>\n",
       "      <td>-0.014193</td>\n",
       "      <td>1.000000</td>\n",
       "      <td>0.105323</td>\n",
       "    </tr>\n",
       "    <tr>\n",
       "      <th>FastCharge_KmH</th>\n",
       "      <td>0.008337</td>\n",
       "      <td>-0.079983</td>\n",
       "      <td>-0.156699</td>\n",
       "      <td>-0.006242</td>\n",
       "      <td>-0.099096</td>\n",
       "      <td>0.119235</td>\n",
       "      <td>0.127938</td>\n",
       "      <td>0.020462</td>\n",
       "      <td>-0.071260</td>\n",
       "      <td>0.043039</td>\n",
       "      <td>-0.024295</td>\n",
       "      <td>0.105323</td>\n",
       "      <td>1.000000</td>\n",
       "    </tr>\n",
       "  </tbody>\n",
       "</table>\n",
       "</div>"
      ],
      "text/plain": [
       "                       Num.Rep.  SessionLength  Avg.Sess.  kWhDelivered   \n",
       "Num.Rep.               1.000000      -0.071010  -0.107489     -0.130661  \\\n",
       "SessionLength         -0.071010       1.000000   0.380336      0.349359   \n",
       "Avg.Sess.             -0.107489       0.380336   1.000000      0.227223   \n",
       "kWhDelivered          -0.130661       0.349359   0.227223      1.000000   \n",
       "Avg.Cons.             -0.040154       0.288598   0.773066      0.231452   \n",
       "temperature           -0.005883      -0.315319  -0.835803     -0.262378   \n",
       "Avg. Humidity          0.000890      -0.303165  -0.863568     -0.233600   \n",
       "Avg Wind Speed(mph)    0.082359      -0.081812  -0.266609     -0.025725   \n",
       "Wind Bearing(degrees) -0.102735       0.114141   0.276224     -0.099936   \n",
       "Visibility(km)        -0.177679       0.003940  -0.143602      0.078063   \n",
       "Pressure(millibar)    -0.118644       0.259002   0.485590      0.249317   \n",
       "Battery_Pack Kwh       0.020703      -0.054652  -0.081316     -0.026580   \n",
       "FastCharge_KmH         0.008337      -0.079983  -0.156699     -0.006242   \n",
       "\n",
       "                       Avg.Cons.  temperature  Avg. Humidity   \n",
       "Num.Rep.               -0.040154    -0.005883       0.000890  \\\n",
       "SessionLength           0.288598    -0.315319      -0.303165   \n",
       "Avg.Sess.               0.773066    -0.835803      -0.863568   \n",
       "kWhDelivered            0.231452    -0.262378      -0.233600   \n",
       "Avg.Cons.               1.000000    -0.698765      -0.849067   \n",
       "temperature            -0.698765     1.000000       0.850414   \n",
       "Avg. Humidity          -0.849067     0.850414       1.000000   \n",
       "Avg Wind Speed(mph)    -0.548857     0.100510       0.396623   \n",
       "Wind Bearing(degrees)   0.087399    -0.046195      -0.181635   \n",
       "Visibility(km)         -0.116635     0.259534       0.109862   \n",
       "Pressure(millibar)      0.415482    -0.574374      -0.507359   \n",
       "Battery_Pack Kwh       -0.032511     0.031727       0.019863   \n",
       "FastCharge_KmH         -0.099096     0.119235       0.127938   \n",
       "\n",
       "                       Avg Wind Speed(mph)  Wind Bearing(degrees)   \n",
       "Num.Rep.                          0.082359              -0.102735  \\\n",
       "SessionLength                    -0.081812               0.114141   \n",
       "Avg.Sess.                        -0.266609               0.276224   \n",
       "kWhDelivered                     -0.025725              -0.099936   \n",
       "Avg.Cons.                        -0.548857               0.087399   \n",
       "temperature                       0.100510              -0.046195   \n",
       "Avg. Humidity                     0.396623              -0.181635   \n",
       "Avg Wind Speed(mph)               1.000000              -0.256970   \n",
       "Wind Bearing(degrees)            -0.256970               1.000000   \n",
       "Visibility(km)                   -0.121604              -0.049020   \n",
       "Pressure(millibar)               -0.133499              -0.112676   \n",
       "Battery_Pack Kwh                  0.018198              -0.056938   \n",
       "FastCharge_KmH                    0.020462              -0.071260   \n",
       "\n",
       "                       Visibility(km)  Pressure(millibar)  Battery_Pack Kwh   \n",
       "Num.Rep.                    -0.177679           -0.118644          0.020703  \\\n",
       "SessionLength                0.003940            0.259002         -0.054652   \n",
       "Avg.Sess.                   -0.143602            0.485590         -0.081316   \n",
       "kWhDelivered                 0.078063            0.249317         -0.026580   \n",
       "Avg.Cons.                   -0.116635            0.415482         -0.032511   \n",
       "temperature                  0.259534           -0.574374          0.031727   \n",
       "Avg. Humidity                0.109862           -0.507359          0.019863   \n",
       "Avg Wind Speed(mph)         -0.121604           -0.133499          0.018198   \n",
       "Wind Bearing(degrees)       -0.049020           -0.112676         -0.056938   \n",
       "Visibility(km)               1.000000            0.210063          0.057092   \n",
       "Pressure(millibar)           0.210063            1.000000         -0.014193   \n",
       "Battery_Pack Kwh             0.057092           -0.014193          1.000000   \n",
       "FastCharge_KmH               0.043039           -0.024295          0.105323   \n",
       "\n",
       "                       FastCharge_KmH  \n",
       "Num.Rep.                     0.008337  \n",
       "SessionLength               -0.079983  \n",
       "Avg.Sess.                   -0.156699  \n",
       "kWhDelivered                -0.006242  \n",
       "Avg.Cons.                   -0.099096  \n",
       "temperature                  0.119235  \n",
       "Avg. Humidity                0.127938  \n",
       "Avg Wind Speed(mph)          0.020462  \n",
       "Wind Bearing(degrees)       -0.071260  \n",
       "Visibility(km)               0.043039  \n",
       "Pressure(millibar)          -0.024295  \n",
       "Battery_Pack Kwh             0.105323  \n",
       "FastCharge_KmH               1.000000  "
      ]
     },
     "execution_count": 15,
     "metadata": {},
     "output_type": "execute_result"
    }
   ],
   "source": [
    "#How is the correlation between columns\n",
    "ev.corr()"
   ]
  },
  {
   "cell_type": "code",
   "execution_count": 16,
   "id": "6b01c8c2",
   "metadata": {},
   "outputs": [],
   "source": [
    "correlation = ev.corr()"
   ]
  },
  {
   "cell_type": "code",
   "execution_count": 17,
   "id": "d278b4b2",
   "metadata": {},
   "outputs": [
    {
     "data": {
      "text/plain": [
       "<Axes: >"
      ]
     },
     "execution_count": 17,
     "metadata": {},
     "output_type": "execute_result"
    },
    {
     "data": {
      "image/png": "[encoded data removed]",
      "text/plain": [
       "<Figure size 1000x1000 with 2 Axes>"
      ]
     },
     "metadata": {},
     "output_type": "display_data"
    }
   ],
   "source": [
    "# constructing a heatmap to understand the correlatiom\n",
    "plt.figure(figsize = (10,10))\n",
    "sns.heatmap(correlation, cbar=True, square=True, fmt='.1f',annot=True, annot_kws={'size':8}, cmap='Blues')"
   ]
  },
  {
   "cell_type": "code",
   "execution_count": 18,
   "id": "ca2210f1",
   "metadata": {},
   "outputs": [
    {
     "name": "stdout",
     "output_type": "stream",
     "text": [
      "Num.Rep.                -0.071010\n",
      "SessionLength            1.000000\n",
      "Avg.Sess.                0.380336\n",
      "kWhDelivered             0.349359\n",
      "Avg.Cons.                0.288598\n",
      "temperature             -0.315319\n",
      "Avg. Humidity           -0.303165\n",
      "Avg Wind Speed(mph)     -0.081812\n",
      "Wind Bearing(degrees)    0.114141\n",
      "Visibility(km)           0.003940\n",
      "Pressure(millibar)       0.259002\n",
      "Battery_Pack Kwh        -0.054652\n",
      "FastCharge_KmH          -0.079983\n",
      "Name: SessionLength, dtype: float64\n"
     ]
    }
   ],
   "source": [
    "print(correlation['SessionLength'])"
   ]
  },
  {
   "cell_type": "code",
   "execution_count": 19,
   "id": "a9c4a136",
   "metadata": {},
   "outputs": [
    {
     "name": "stderr",
     "output_type": "stream",
     "text": [
      "C:\\Users\\Dell\\AppData\\Local\\Temp\\ipykernel_6984\\3026985986.py:1: UserWarning: \n",
      "\n",
      "`distplot` is a deprecated function and will be removed in seaborn v0.14.0.\n",
      "\n",
      "Please adapt your code to use either `displot` (a figure-level function with\n",
      "similar flexibility) or `histplot` (an axes-level function for histograms).\n",
      "\n",
      "For a guide to updating your code to use the new functions, please see\n",
      "https://gist.github.com/mwaskom/de44147ed2974457ad6372750bbe5751\n",
      "\n",
      "  sns.distplot(ev['SessionLength'],color='green')\n"
     ]
    },
    {
     "data": {
      "text/plain": [
       "<Axes: xlabel='SessionLength', ylabel='Density'>"
      ]
     },
     "execution_count": 19,
     "metadata": {},
     "output_type": "execute_result"
    },
    {
     "data": {
      "image/png": "[encoded data removed]",
      "text/plain": [
       "<Figure size 640x480 with 1 Axes>"
      ]
     },
     "metadata": {},
     "output_type": "display_data"
    }
   ],
   "source": [
    "sns.distplot(ev['SessionLength'],color='green')"
   ]
  },
  {
   "cell_type": "code",
   "execution_count": 20,
   "id": "da2e1a18",
   "metadata": {},
   "outputs": [
    {
     "name": "stdout",
     "output_type": "stream",
     "text": [
      "Num.Rep.                -0.130661\n",
      "SessionLength            0.349359\n",
      "Avg.Sess.                0.227223\n",
      "kWhDelivered             1.000000\n",
      "Avg.Cons.                0.231452\n",
      "temperature             -0.262378\n",
      "Avg. Humidity           -0.233600\n",
      "Avg Wind Speed(mph)     -0.025725\n",
      "Wind Bearing(degrees)   -0.099936\n",
      "Visibility(km)           0.078063\n",
      "Pressure(millibar)       0.249317\n",
      "Battery_Pack Kwh        -0.026580\n",
      "FastCharge_KmH          -0.006242\n",
      "Name: kWhDelivered, dtype: float64\n"
     ]
    }
   ],
   "source": [
    "print(correlation['kWhDelivered'])"
   ]
  },
  {
   "cell_type": "code",
   "execution_count": 21,
   "id": "38698961",
   "metadata": {},
   "outputs": [
    {
     "data": {
      "text/plain": [
       "<Axes: >"
      ]
     },
     "execution_count": 21,
     "metadata": {},
     "output_type": "execute_result"
    },
    {
     "data": {
      "image/png": "[encoded data removed]",
      "text/plain": [
       "<Figure size 640x480 with 1 Axes>"
      ]
     },
     "metadata": {},
     "output_type": "display_data"
    }
   ],
   "source": [
    "#Boxplot\n",
    "sns.boxplot(ev['SessionLength'])"
   ]
  },
  {
   "cell_type": "code",
   "execution_count": 22,
   "id": "c89908e9",
   "metadata": {},
   "outputs": [
    {
     "name": "stderr",
     "output_type": "stream",
     "text": [
      "C:\\Users\\Dell\\AppData\\Local\\Programs\\Python\\Python311\\Lib\\site-packages\\sklearn\\base.py:439: UserWarning: X does not have valid feature names, but IsolationForest was fitted with feature names\n",
      "  warnings.warn(\n"
     ]
    },
    {
     "data": {
      "text/html": [
       "<style>#sk-container-id-1 {color: black;background-color: white;}#sk-container-id-1 pre{padding: 0;}#sk-container-id-1 div.sk-toggleable {background-color: white;}#sk-container-id-1 label.sk-toggleable__label {cursor: pointer;display: block;width: 100%;margin-bottom: 0;padding: 0.3em;box-sizing: border-box;text-align: center;}#sk-container-id-1 label.sk-toggleable__label-arrow:before {content: \"▸\";float: left;margin-right: 0.25em;color: #696969;}#sk-container-id-1 label.sk-toggleable__label-arrow:hover:before {color: black;}#sk-container-id-1 div.sk-estimator:hover label.sk-toggleable__label-arrow:before {color: black;}#sk-container-id-1 div.sk-toggleable__content {max-height: 0;max-width: 0;overflow: hidden;text-align: left;background-color: #f0f8ff;}#sk-container-id-1 div.sk-toggleable__content pre {margin: 0.2em;color: black;border-radius: 0.25em;background-color: #f0f8ff;}#sk-container-id-1 input.sk-toggleable__control:checked~div.sk-toggleable__content {max-height: 200px;max-width: 100%;overflow: auto;}#sk-container-id-1 input.sk-toggleable__control:checked~label.sk-toggleable__label-arrow:before {content: \"▾\";}#sk-container-id-1 div.sk-estimator input.sk-toggleable__control:checked~label.sk-toggleable__label {background-color: #d4ebff;}#sk-container-id-1 div.sk-label input.sk-toggleable__control:checked~label.sk-toggleable__label {background-color: #d4ebff;}#sk-container-id-1 input.sk-hidden--visually {border: 0;clip: rect(1px 1px 1px 1px);clip: rect(1px, 1px, 1px, 1px);height: 1px;margin: -1px;overflow: hidden;padding: 0;position: absolute;width: 1px;}#sk-container-id-1 div.sk-estimator {font-family: monospace;background-color: #f0f8ff;border: 1px dotted black;border-radius: 0.25em;box-sizing: border-box;margin-bottom: 0.5em;}#sk-container-id-1 div.sk-estimator:hover {background-color: #d4ebff;}#sk-container-id-1 div.sk-parallel-item::after {content: \"\";width: 100%;border-bottom: 1px solid gray;flex-grow: 1;}#sk-container-id-1 div.sk-label:hover label.sk-toggleable__label {background-color: #d4ebff;}#sk-container-id-1 div.sk-serial::before {content: \"\";position: absolute;border-left: 1px solid gray;box-sizing: border-box;top: 0;bottom: 0;left: 50%;z-index: 0;}#sk-container-id-1 div.sk-serial {display: flex;flex-direction: column;align-items: center;background-color: white;padding-right: 0.2em;padding-left: 0.2em;position: relative;}#sk-container-id-1 div.sk-item {position: relative;z-index: 1;}#sk-container-id-1 div.sk-parallel {display: flex;align-items: stretch;justify-content: center;background-color: white;position: relative;}#sk-container-id-1 div.sk-item::before, #sk-container-id-1 div.sk-parallel-item::before {content: \"\";position: absolute;border-left: 1px solid gray;box-sizing: border-box;top: 0;bottom: 0;left: 50%;z-index: -1;}#sk-container-id-1 div.sk-parallel-item {display: flex;flex-direction: column;z-index: 1;position: relative;background-color: white;}#sk-container-id-1 div.sk-parallel-item:first-child::after {align-self: flex-end;width: 50%;}#sk-container-id-1 div.sk-parallel-item:last-child::after {align-self: flex-start;width: 50%;}#sk-container-id-1 div.sk-parallel-item:only-child::after {width: 0;}#sk-container-id-1 div.sk-dashed-wrapped {border: 1px dashed gray;margin: 0 0.4em 0.5em 0.4em;box-sizing: border-box;padding-bottom: 0.4em;background-color: white;}#sk-container-id-1 div.sk-label label {font-family: monospace;font-weight: bold;display: inline-block;line-height: 1.2em;}#sk-container-id-1 div.sk-label-container {text-align: center;}#sk-container-id-1 div.sk-container {/* jupyter's `normalize.less` sets `[hidden] { display: none; }` but bootstrap.min.css set `[hidden] { display: none !important; }` so we also need the `!important` here to be able to override the default hidden behavior on the sphinx rendered scikit-learn.org. See: https://github.com/scikit-learn/scikit-learn/issues/21755 */display: inline-block !important;position: relative;}#sk-container-id-1 div.sk-text-repr-fallback {display: none;}</style><div id=\"sk-container-id-1\" class=\"sk-top-container\"><div class=\"sk-text-repr-fallback\"><pre>IsolationForest(contamination=0.04)</pre><b>In a Jupyter environment, please rerun this cell to show the HTML representation or trust the notebook. <br />On GitHub, the HTML representation is unable to render, please try loading this page with nbviewer.org.</b></div><div class=\"sk-container\" hidden><div class=\"sk-item\"><div class=\"sk-estimator sk-toggleable\"><input class=\"sk-toggleable__control sk-hidden--visually\" id=\"sk-estimator-id-1\" type=\"checkbox\" checked><label for=\"sk-estimator-id-1\" class=\"sk-toggleable__label sk-toggleable__label-arrow\">IsolationForest</label><div class=\"sk-toggleable__content\"><pre>IsolationForest(contamination=0.04)</pre></div></div></div></div></div>"
      ],
      "text/plain": [
       "IsolationForest(contamination=0.04)"
      ]
     },
     "execution_count": 22,
     "metadata": {},
     "output_type": "execute_result"
    }
   ],
   "source": [
    "model=IsolationForest(n_estimators=100,max_samples='auto',contamination=0.04,max_features=1.0)\n",
    "model.fit(ev[['SessionLength']])"
   ]
  },
  {
   "cell_type": "code",
   "execution_count": 23,
   "id": "a41c25cc",
   "metadata": {},
   "outputs": [
    {
     "data": {
      "text/html": [
       "<div>\n",
       "<style scoped>\n",
       "    .dataframe tbody tr th:only-of-type {\n",
       "        vertical-align: middle;\n",
       "    }\n",
       "\n",
       "    .dataframe tbody tr th {\n",
       "        vertical-align: top;\n",
       "    }\n",
       "\n",
       "    .dataframe thead th {\n",
       "        text-align: right;\n",
       "    }\n",
       "</style>\n",
       "<table border=\"1\" class=\"dataframe\">\n",
       "  <thead>\n",
       "    <tr style=\"text-align: right;\">\n",
       "      <th></th>\n",
       "      <th>Num.Rep.</th>\n",
       "      <th>SessionLength</th>\n",
       "      <th>Avg.Sess.</th>\n",
       "      <th>kWhDelivered</th>\n",
       "      <th>Avg.Cons.</th>\n",
       "      <th>temperature</th>\n",
       "      <th>Avg. Humidity</th>\n",
       "      <th>Avg Wind Speed(mph)</th>\n",
       "      <th>Wind Bearing(degrees)</th>\n",
       "      <th>Visibility(km)</th>\n",
       "      <th>Pressure(millibar)</th>\n",
       "      <th>Battery_Pack Kwh</th>\n",
       "      <th>FastCharge_KmH</th>\n",
       "      <th>newlength</th>\n",
       "      <th>anomaly</th>\n",
       "    </tr>\n",
       "  </thead>\n",
       "  <tbody>\n",
       "    <tr>\n",
       "      <th>0</th>\n",
       "      <td>11.13</td>\n",
       "      <td>2.20</td>\n",
       "      <td>3.55</td>\n",
       "      <td>7.93</td>\n",
       "      <td>6.44</td>\n",
       "      <td>24.37</td>\n",
       "      <td>34.85</td>\n",
       "      <td>13.54</td>\n",
       "      <td>300</td>\n",
       "      <td>9.9</td>\n",
       "      <td>1004.55</td>\n",
       "      <td>70.0</td>\n",
       "      <td>940</td>\n",
       "      <td>0.193843</td>\n",
       "      <td>1</td>\n",
       "    </tr>\n",
       "    <tr>\n",
       "      <th>1</th>\n",
       "      <td>13.75</td>\n",
       "      <td>11.19</td>\n",
       "      <td>3.55</td>\n",
       "      <td>10.01</td>\n",
       "      <td>6.44</td>\n",
       "      <td>24.37</td>\n",
       "      <td>34.85</td>\n",
       "      <td>13.54</td>\n",
       "      <td>300</td>\n",
       "      <td>9.9</td>\n",
       "      <td>1004.55</td>\n",
       "      <td>45.0</td>\n",
       "      <td>250</td>\n",
       "      <td>-0.074910</td>\n",
       "      <td>-1</td>\n",
       "    </tr>\n",
       "    <tr>\n",
       "      <th>2</th>\n",
       "      <td>13.76</td>\n",
       "      <td>10.33</td>\n",
       "      <td>3.54</td>\n",
       "      <td>5.26</td>\n",
       "      <td>6.44</td>\n",
       "      <td>24.37</td>\n",
       "      <td>34.85</td>\n",
       "      <td>13.54</td>\n",
       "      <td>300</td>\n",
       "      <td>9.9</td>\n",
       "      <td>1004.55</td>\n",
       "      <td>75.0</td>\n",
       "      <td>620</td>\n",
       "      <td>-0.044629</td>\n",
       "      <td>-1</td>\n",
       "    </tr>\n",
       "    <tr>\n",
       "      <th>3</th>\n",
       "      <td>14.62</td>\n",
       "      <td>9.31</td>\n",
       "      <td>3.55</td>\n",
       "      <td>5.18</td>\n",
       "      <td>6.44</td>\n",
       "      <td>24.37</td>\n",
       "      <td>34.85</td>\n",
       "      <td>13.54</td>\n",
       "      <td>300</td>\n",
       "      <td>9.9</td>\n",
       "      <td>1004.55</td>\n",
       "      <td>74.0</td>\n",
       "      <td>560</td>\n",
       "      <td>0.036306</td>\n",
       "      <td>1</td>\n",
       "    </tr>\n",
       "    <tr>\n",
       "      <th>4</th>\n",
       "      <td>14.68</td>\n",
       "      <td>8.38</td>\n",
       "      <td>3.55</td>\n",
       "      <td>10.12</td>\n",
       "      <td>6.44</td>\n",
       "      <td>24.37</td>\n",
       "      <td>34.85</td>\n",
       "      <td>13.54</td>\n",
       "      <td>300</td>\n",
       "      <td>9.9</td>\n",
       "      <td>1004.55</td>\n",
       "      <td>28.5</td>\n",
       "      <td>190</td>\n",
       "      <td>0.065240</td>\n",
       "      <td>1</td>\n",
       "    </tr>\n",
       "    <tr>\n",
       "      <th>5</th>\n",
       "      <td>14.73</td>\n",
       "      <td>10.56</td>\n",
       "      <td>3.54</td>\n",
       "      <td>7.91</td>\n",
       "      <td>6.44</td>\n",
       "      <td>24.37</td>\n",
       "      <td>34.85</td>\n",
       "      <td>13.54</td>\n",
       "      <td>300</td>\n",
       "      <td>9.9</td>\n",
       "      <td>1004.55</td>\n",
       "      <td>110.0</td>\n",
       "      <td>620</td>\n",
       "      <td>-0.054144</td>\n",
       "      <td>-1</td>\n",
       "    </tr>\n",
       "    <tr>\n",
       "      <th>6</th>\n",
       "      <td>14.80</td>\n",
       "      <td>3.67</td>\n",
       "      <td>3.54</td>\n",
       "      <td>15.29</td>\n",
       "      <td>6.44</td>\n",
       "      <td>24.37</td>\n",
       "      <td>34.85</td>\n",
       "      <td>13.54</td>\n",
       "      <td>300</td>\n",
       "      <td>9.9</td>\n",
       "      <td>1004.55</td>\n",
       "      <td>35.8</td>\n",
       "      <td>220</td>\n",
       "      <td>0.199448</td>\n",
       "      <td>1</td>\n",
       "    </tr>\n",
       "    <tr>\n",
       "      <th>7</th>\n",
       "      <td>14.97</td>\n",
       "      <td>4.13</td>\n",
       "      <td>3.53</td>\n",
       "      <td>6.95</td>\n",
       "      <td>6.43</td>\n",
       "      <td>24.37</td>\n",
       "      <td>34.85</td>\n",
       "      <td>13.54</td>\n",
       "      <td>300</td>\n",
       "      <td>9.9</td>\n",
       "      <td>1004.55</td>\n",
       "      <td>45.0</td>\n",
       "      <td>420</td>\n",
       "      <td>0.161734</td>\n",
       "      <td>1</td>\n",
       "    </tr>\n",
       "    <tr>\n",
       "      <th>8</th>\n",
       "      <td>15.18</td>\n",
       "      <td>3.08</td>\n",
       "      <td>3.53</td>\n",
       "      <td>2.17</td>\n",
       "      <td>6.43</td>\n",
       "      <td>24.37</td>\n",
       "      <td>34.85</td>\n",
       "      <td>13.54</td>\n",
       "      <td>300</td>\n",
       "      <td>9.9</td>\n",
       "      <td>1004.55</td>\n",
       "      <td>50.0</td>\n",
       "      <td>650</td>\n",
       "      <td>0.205736</td>\n",
       "      <td>1</td>\n",
       "    </tr>\n",
       "    <tr>\n",
       "      <th>9</th>\n",
       "      <td>15.20</td>\n",
       "      <td>3.29</td>\n",
       "      <td>3.52</td>\n",
       "      <td>2.44</td>\n",
       "      <td>6.43</td>\n",
       "      <td>24.37</td>\n",
       "      <td>34.85</td>\n",
       "      <td>13.54</td>\n",
       "      <td>300</td>\n",
       "      <td>9.9</td>\n",
       "      <td>1004.55</td>\n",
       "      <td>77.0</td>\n",
       "      <td>540</td>\n",
       "      <td>0.203669</td>\n",
       "      <td>1</td>\n",
       "    </tr>\n",
       "  </tbody>\n",
       "</table>\n",
       "</div>"
      ],
      "text/plain": [
       "   Num.Rep.  SessionLength  Avg.Sess.  kWhDelivered  Avg.Cons.  temperature   \n",
       "0     11.13           2.20       3.55          7.93       6.44        24.37  \\\n",
       "1     13.75          11.19       3.55         10.01       6.44        24.37   \n",
       "2     13.76          10.33       3.54          5.26       6.44        24.37   \n",
       "3     14.62           9.31       3.55          5.18       6.44        24.37   \n",
       "4     14.68           8.38       3.55         10.12       6.44        24.37   \n",
       "5     14.73          10.56       3.54          7.91       6.44        24.37   \n",
       "6     14.80           3.67       3.54         15.29       6.44        24.37   \n",
       "7     14.97           4.13       3.53          6.95       6.43        24.37   \n",
       "8     15.18           3.08       3.53          2.17       6.43        24.37   \n",
       "9     15.20           3.29       3.52          2.44       6.43        24.37   \n",
       "\n",
       "   Avg. Humidity  Avg Wind Speed(mph)  Wind Bearing(degrees)  Visibility(km)   \n",
       "0          34.85                13.54                    300             9.9  \\\n",
       "1          34.85                13.54                    300             9.9   \n",
       "2          34.85                13.54                    300             9.9   \n",
       "3          34.85                13.54                    300             9.9   \n",
       "4          34.85                13.54                    300             9.9   \n",
       "5          34.85                13.54                    300             9.9   \n",
       "6          34.85                13.54                    300             9.9   \n",
       "7          34.85                13.54                    300             9.9   \n",
       "8          34.85                13.54                    300             9.9   \n",
       "9          34.85                13.54                    300             9.9   \n",
       "\n",
       "   Pressure(millibar)  Battery_Pack Kwh  FastCharge_KmH  newlength  anomaly  \n",
       "0             1004.55              70.0             940   0.193843        1  \n",
       "1             1004.55              45.0             250  -0.074910       -1  \n",
       "2             1004.55              75.0             620  -0.044629       -1  \n",
       "3             1004.55              74.0             560   0.036306        1  \n",
       "4             1004.55              28.5             190   0.065240        1  \n",
       "5             1004.55             110.0             620  -0.054144       -1  \n",
       "6             1004.55              35.8             220   0.199448        1  \n",
       "7             1004.55              45.0             420   0.161734        1  \n",
       "8             1004.55              50.0             650   0.205736        1  \n",
       "9             1004.55              77.0             540   0.203669        1  "
      ]
     },
     "execution_count": 23,
     "metadata": {},
     "output_type": "execute_result"
    }
   ],
   "source": [
    "ev['newlength']=model.decision_function(ev[['SessionLength']])\n",
    "ev['anomaly']=model.predict(ev[['SessionLength']])\n",
    "ev.head(10)"
   ]
  },
  {
   "cell_type": "code",
   "execution_count": 24,
   "id": "8ccf046c",
   "metadata": {},
   "outputs": [
    {
     "data": {
      "text/plain": [
       "48"
      ]
     },
     "execution_count": 24,
     "metadata": {},
     "output_type": "execute_result"
    }
   ],
   "source": [
    "outliers_counter = len(ev[ev['anomaly'] ==-1])\n",
    "outliers_counter "
   ]
  },
  {
   "cell_type": "code",
   "execution_count": 25,
   "id": "26f73d90",
   "metadata": {},
   "outputs": [],
   "source": [
    "ev_data = ev[(ev['SessionLength'] <=13)]"
   ]
  },
  {
   "cell_type": "code",
   "execution_count": 26,
   "id": "36c2b242",
   "metadata": {},
   "outputs": [
    {
     "data": {
      "text/html": [
       "<div>\n",
       "<style scoped>\n",
       "    .dataframe tbody tr th:only-of-type {\n",
       "        vertical-align: middle;\n",
       "    }\n",
       "\n",
       "    .dataframe tbody tr th {\n",
       "        vertical-align: top;\n",
       "    }\n",
       "\n",
       "    .dataframe thead th {\n",
       "        text-align: right;\n",
       "    }\n",
       "</style>\n",
       "<table border=\"1\" class=\"dataframe\">\n",
       "  <thead>\n",
       "    <tr style=\"text-align: right;\">\n",
       "      <th></th>\n",
       "      <th>Num.Rep.</th>\n",
       "      <th>SessionLength</th>\n",
       "      <th>Avg.Sess.</th>\n",
       "      <th>kWhDelivered</th>\n",
       "      <th>Avg.Cons.</th>\n",
       "      <th>temperature</th>\n",
       "      <th>Avg. Humidity</th>\n",
       "      <th>Avg Wind Speed(mph)</th>\n",
       "      <th>Wind Bearing(degrees)</th>\n",
       "      <th>Visibility(km)</th>\n",
       "      <th>Pressure(millibar)</th>\n",
       "      <th>Battery_Pack Kwh</th>\n",
       "      <th>FastCharge_KmH</th>\n",
       "      <th>newlength</th>\n",
       "      <th>anomaly</th>\n",
       "    </tr>\n",
       "  </thead>\n",
       "  <tbody>\n",
       "    <tr>\n",
       "      <th>0</th>\n",
       "      <td>11.13</td>\n",
       "      <td>2.20</td>\n",
       "      <td>3.55</td>\n",
       "      <td>7.93</td>\n",
       "      <td>6.44</td>\n",
       "      <td>24.37</td>\n",
       "      <td>34.85</td>\n",
       "      <td>13.54</td>\n",
       "      <td>300</td>\n",
       "      <td>9.9</td>\n",
       "      <td>1004.55</td>\n",
       "      <td>70.0</td>\n",
       "      <td>940</td>\n",
       "      <td>0.193843</td>\n",
       "      <td>1</td>\n",
       "    </tr>\n",
       "    <tr>\n",
       "      <th>1</th>\n",
       "      <td>13.75</td>\n",
       "      <td>11.19</td>\n",
       "      <td>3.55</td>\n",
       "      <td>10.01</td>\n",
       "      <td>6.44</td>\n",
       "      <td>24.37</td>\n",
       "      <td>34.85</td>\n",
       "      <td>13.54</td>\n",
       "      <td>300</td>\n",
       "      <td>9.9</td>\n",
       "      <td>1004.55</td>\n",
       "      <td>45.0</td>\n",
       "      <td>250</td>\n",
       "      <td>-0.074910</td>\n",
       "      <td>-1</td>\n",
       "    </tr>\n",
       "    <tr>\n",
       "      <th>2</th>\n",
       "      <td>13.76</td>\n",
       "      <td>10.33</td>\n",
       "      <td>3.54</td>\n",
       "      <td>5.26</td>\n",
       "      <td>6.44</td>\n",
       "      <td>24.37</td>\n",
       "      <td>34.85</td>\n",
       "      <td>13.54</td>\n",
       "      <td>300</td>\n",
       "      <td>9.9</td>\n",
       "      <td>1004.55</td>\n",
       "      <td>75.0</td>\n",
       "      <td>620</td>\n",
       "      <td>-0.044629</td>\n",
       "      <td>-1</td>\n",
       "    </tr>\n",
       "    <tr>\n",
       "      <th>3</th>\n",
       "      <td>14.62</td>\n",
       "      <td>9.31</td>\n",
       "      <td>3.55</td>\n",
       "      <td>5.18</td>\n",
       "      <td>6.44</td>\n",
       "      <td>24.37</td>\n",
       "      <td>34.85</td>\n",
       "      <td>13.54</td>\n",
       "      <td>300</td>\n",
       "      <td>9.9</td>\n",
       "      <td>1004.55</td>\n",
       "      <td>74.0</td>\n",
       "      <td>560</td>\n",
       "      <td>0.036306</td>\n",
       "      <td>1</td>\n",
       "    </tr>\n",
       "    <tr>\n",
       "      <th>4</th>\n",
       "      <td>14.68</td>\n",
       "      <td>8.38</td>\n",
       "      <td>3.55</td>\n",
       "      <td>10.12</td>\n",
       "      <td>6.44</td>\n",
       "      <td>24.37</td>\n",
       "      <td>34.85</td>\n",
       "      <td>13.54</td>\n",
       "      <td>300</td>\n",
       "      <td>9.9</td>\n",
       "      <td>1004.55</td>\n",
       "      <td>28.5</td>\n",
       "      <td>190</td>\n",
       "      <td>0.065240</td>\n",
       "      <td>1</td>\n",
       "    </tr>\n",
       "    <tr>\n",
       "      <th>...</th>\n",
       "      <td>...</td>\n",
       "      <td>...</td>\n",
       "      <td>...</td>\n",
       "      <td>...</td>\n",
       "      <td>...</td>\n",
       "      <td>...</td>\n",
       "      <td>...</td>\n",
       "      <td>...</td>\n",
       "      <td>...</td>\n",
       "      <td>...</td>\n",
       "      <td>...</td>\n",
       "      <td>...</td>\n",
       "      <td>...</td>\n",
       "      <td>...</td>\n",
       "      <td>...</td>\n",
       "    </tr>\n",
       "    <tr>\n",
       "      <th>1194</th>\n",
       "      <td>16.00</td>\n",
       "      <td>3.22</td>\n",
       "      <td>2.57</td>\n",
       "      <td>1.82</td>\n",
       "      <td>3.62</td>\n",
       "      <td>35.98</td>\n",
       "      <td>40.55</td>\n",
       "      <td>10.35</td>\n",
       "      <td>305</td>\n",
       "      <td>16.1</td>\n",
       "      <td>1005.18</td>\n",
       "      <td>45.0</td>\n",
       "      <td>260</td>\n",
       "      <td>0.207247</td>\n",
       "      <td>1</td>\n",
       "    </tr>\n",
       "    <tr>\n",
       "      <th>1195</th>\n",
       "      <td>19.00</td>\n",
       "      <td>1.51</td>\n",
       "      <td>2.41</td>\n",
       "      <td>4.73</td>\n",
       "      <td>4.07</td>\n",
       "      <td>35.98</td>\n",
       "      <td>40.55</td>\n",
       "      <td>10.35</td>\n",
       "      <td>305</td>\n",
       "      <td>16.1</td>\n",
       "      <td>1005.18</td>\n",
       "      <td>65.0</td>\n",
       "      <td>345</td>\n",
       "      <td>0.155270</td>\n",
       "      <td>1</td>\n",
       "    </tr>\n",
       "    <tr>\n",
       "      <th>1196</th>\n",
       "      <td>12.00</td>\n",
       "      <td>3.28</td>\n",
       "      <td>2.70</td>\n",
       "      <td>3.69</td>\n",
       "      <td>3.85</td>\n",
       "      <td>35.98</td>\n",
       "      <td>40.55</td>\n",
       "      <td>10.35</td>\n",
       "      <td>305</td>\n",
       "      <td>17.3</td>\n",
       "      <td>1005.18</td>\n",
       "      <td>118.0</td>\n",
       "      <td>670</td>\n",
       "      <td>0.202817</td>\n",
       "      <td>1</td>\n",
       "    </tr>\n",
       "    <tr>\n",
       "      <th>1197</th>\n",
       "      <td>13.00</td>\n",
       "      <td>1.89</td>\n",
       "      <td>2.42</td>\n",
       "      <td>3.82</td>\n",
       "      <td>3.93</td>\n",
       "      <td>35.98</td>\n",
       "      <td>40.55</td>\n",
       "      <td>10.35</td>\n",
       "      <td>305</td>\n",
       "      <td>17.3</td>\n",
       "      <td>1005.18</td>\n",
       "      <td>28.0</td>\n",
       "      <td>215</td>\n",
       "      <td>0.169504</td>\n",
       "      <td>1</td>\n",
       "    </tr>\n",
       "    <tr>\n",
       "      <th>1198</th>\n",
       "      <td>12.00</td>\n",
       "      <td>2.95</td>\n",
       "      <td>2.95</td>\n",
       "      <td>4.03</td>\n",
       "      <td>4.03</td>\n",
       "      <td>35.98</td>\n",
       "      <td>40.55</td>\n",
       "      <td>10.35</td>\n",
       "      <td>305</td>\n",
       "      <td>17.3</td>\n",
       "      <td>1005.18</td>\n",
       "      <td>70.0</td>\n",
       "      <td>800</td>\n",
       "      <td>0.203964</td>\n",
       "      <td>1</td>\n",
       "    </tr>\n",
       "  </tbody>\n",
       "</table>\n",
       "<p>1189 rows × 15 columns</p>\n",
       "</div>"
      ],
      "text/plain": [
       "      Num.Rep.  SessionLength  Avg.Sess.  kWhDelivered  Avg.Cons.   \n",
       "0        11.13           2.20       3.55          7.93       6.44  \\\n",
       "1        13.75          11.19       3.55         10.01       6.44   \n",
       "2        13.76          10.33       3.54          5.26       6.44   \n",
       "3        14.62           9.31       3.55          5.18       6.44   \n",
       "4        14.68           8.38       3.55         10.12       6.44   \n",
       "...        ...            ...        ...           ...        ...   \n",
       "1194     16.00           3.22       2.57          1.82       3.62   \n",
       "1195     19.00           1.51       2.41          4.73       4.07   \n",
       "1196     12.00           3.28       2.70          3.69       3.85   \n",
       "1197     13.00           1.89       2.42          3.82       3.93   \n",
       "1198     12.00           2.95       2.95          4.03       4.03   \n",
       "\n",
       "      temperature  Avg. Humidity  Avg Wind Speed(mph)  Wind Bearing(degrees)   \n",
       "0           24.37          34.85                13.54                    300  \\\n",
       "1           24.37          34.85                13.54                    300   \n",
       "2           24.37          34.85                13.54                    300   \n",
       "3           24.37          34.85                13.54                    300   \n",
       "4           24.37          34.85                13.54                    300   \n",
       "...           ...            ...                  ...                    ...   \n",
       "1194        35.98          40.55                10.35                    305   \n",
       "1195        35.98          40.55                10.35                    305   \n",
       "1196        35.98          40.55                10.35                    305   \n",
       "1197        35.98          40.55                10.35                    305   \n",
       "1198        35.98          40.55                10.35                    305   \n",
       "\n",
       "      Visibility(km)  Pressure(millibar)  Battery_Pack Kwh  FastCharge_KmH   \n",
       "0                9.9             1004.55              70.0             940  \\\n",
       "1                9.9             1004.55              45.0             250   \n",
       "2                9.9             1004.55              75.0             620   \n",
       "3                9.9             1004.55              74.0             560   \n",
       "4                9.9             1004.55              28.5             190   \n",
       "...              ...                 ...               ...             ...   \n",
       "1194            16.1             1005.18              45.0             260   \n",
       "1195            16.1             1005.18              65.0             345   \n",
       "1196            17.3             1005.18             118.0             670   \n",
       "1197            17.3             1005.18              28.0             215   \n",
       "1198            17.3             1005.18              70.0             800   \n",
       "\n",
       "      newlength  anomaly  \n",
       "0      0.193843        1  \n",
       "1     -0.074910       -1  \n",
       "2     -0.044629       -1  \n",
       "3      0.036306        1  \n",
       "4      0.065240        1  \n",
       "...         ...      ...  \n",
       "1194   0.207247        1  \n",
       "1195   0.155270        1  \n",
       "1196   0.202817        1  \n",
       "1197   0.169504        1  \n",
       "1198   0.203964        1  \n",
       "\n",
       "[1189 rows x 15 columns]"
      ]
     },
     "execution_count": 26,
     "metadata": {},
     "output_type": "execute_result"
    }
   ],
   "source": [
    "ev_data"
   ]
  },
  {
   "cell_type": "markdown",
   "id": "0a01c186",
   "metadata": {},
   "source": [
    "#Splitting the features and target"
   ]
  },
  {
   "cell_type": "code",
   "execution_count": 27,
   "id": "96ca630d",
   "metadata": {},
   "outputs": [],
   "source": [
    "X = ev_data.drop(['SessionLength','kWhDelivered'],axis=1)\n",
    "Y = ev_data['SessionLength']"
   ]
  },
  {
   "cell_type": "code",
   "execution_count": 28,
   "id": "77584c8a",
   "metadata": {},
   "outputs": [],
   "source": [
    "scaler = StandardScaler()"
   ]
  },
  {
   "cell_type": "code",
   "execution_count": 29,
   "id": "f775230b",
   "metadata": {},
   "outputs": [
    {
     "data": {
      "text/html": [
       "<style>#sk-container-id-2 {color: black;background-color: white;}#sk-container-id-2 pre{padding: 0;}#sk-container-id-2 div.sk-toggleable {background-color: white;}#sk-container-id-2 label.sk-toggleable__label {cursor: pointer;display: block;width: 100%;margin-bottom: 0;padding: 0.3em;box-sizing: border-box;text-align: center;}#sk-container-id-2 label.sk-toggleable__label-arrow:before {content: \"▸\";float: left;margin-right: 0.25em;color: #696969;}#sk-container-id-2 label.sk-toggleable__label-arrow:hover:before {color: black;}#sk-container-id-2 div.sk-estimator:hover label.sk-toggleable__label-arrow:before {color: black;}#sk-container-id-2 div.sk-toggleable__content {max-height: 0;max-width: 0;overflow: hidden;text-align: left;background-color: #f0f8ff;}#sk-container-id-2 div.sk-toggleable__content pre {margin: 0.2em;color: black;border-radius: 0.25em;background-color: #f0f8ff;}#sk-container-id-2 input.sk-toggleable__control:checked~div.sk-toggleable__content {max-height: 200px;max-width: 100%;overflow: auto;}#sk-container-id-2 input.sk-toggleable__control:checked~label.sk-toggleable__label-arrow:before {content: \"▾\";}#sk-container-id-2 div.sk-estimator input.sk-toggleable__control:checked~label.sk-toggleable__label {background-color: #d4ebff;}#sk-container-id-2 div.sk-label input.sk-toggleable__control:checked~label.sk-toggleable__label {background-color: #d4ebff;}#sk-container-id-2 input.sk-hidden--visually {border: 0;clip: rect(1px 1px 1px 1px);clip: rect(1px, 1px, 1px, 1px);height: 1px;margin: -1px;overflow: hidden;padding: 0;position: absolute;width: 1px;}#sk-container-id-2 div.sk-estimator {font-family: monospace;background-color: #f0f8ff;border: 1px dotted black;border-radius: 0.25em;box-sizing: border-box;margin-bottom: 0.5em;}#sk-container-id-2 div.sk-estimator:hover {background-color: #d4ebff;}#sk-container-id-2 div.sk-parallel-item::after {content: \"\";width: 100%;border-bottom: 1px solid gray;flex-grow: 1;}#sk-container-id-2 div.sk-label:hover label.sk-toggleable__label {background-color: #d4ebff;}#sk-container-id-2 div.sk-serial::before {content: \"\";position: absolute;border-left: 1px solid gray;box-sizing: border-box;top: 0;bottom: 0;left: 50%;z-index: 0;}#sk-container-id-2 div.sk-serial {display: flex;flex-direction: column;align-items: center;background-color: white;padding-right: 0.2em;padding-left: 0.2em;position: relative;}#sk-container-id-2 div.sk-item {position: relative;z-index: 1;}#sk-container-id-2 div.sk-parallel {display: flex;align-items: stretch;justify-content: center;background-color: white;position: relative;}#sk-container-id-2 div.sk-item::before, #sk-container-id-2 div.sk-parallel-item::before {content: \"\";position: absolute;border-left: 1px solid gray;box-sizing: border-box;top: 0;bottom: 0;left: 50%;z-index: -1;}#sk-container-id-2 div.sk-parallel-item {display: flex;flex-direction: column;z-index: 1;position: relative;background-color: white;}#sk-container-id-2 div.sk-parallel-item:first-child::after {align-self: flex-end;width: 50%;}#sk-container-id-2 div.sk-parallel-item:last-child::after {align-self: flex-start;width: 50%;}#sk-container-id-2 div.sk-parallel-item:only-child::after {width: 0;}#sk-container-id-2 div.sk-dashed-wrapped {border: 1px dashed gray;margin: 0 0.4em 0.5em 0.4em;box-sizing: border-box;padding-bottom: 0.4em;background-color: white;}#sk-container-id-2 div.sk-label label {font-family: monospace;font-weight: bold;display: inline-block;line-height: 1.2em;}#sk-container-id-2 div.sk-label-container {text-align: center;}#sk-container-id-2 div.sk-container {/* jupyter's `normalize.less` sets `[hidden] { display: none; }` but bootstrap.min.css set `[hidden] { display: none !important; }` so we also need the `!important` here to be able to override the default hidden behavior on the sphinx rendered scikit-learn.org. See: https://github.com/scikit-learn/scikit-learn/issues/21755 */display: inline-block !important;position: relative;}#sk-container-id-2 div.sk-text-repr-fallback {display: none;}</style><div id=\"sk-container-id-2\" class=\"sk-top-container\"><div class=\"sk-text-repr-fallback\"><pre>StandardScaler()</pre><b>In a Jupyter environment, please rerun this cell to show the HTML representation or trust the notebook. <br />On GitHub, the HTML representation is unable to render, please try loading this page with nbviewer.org.</b></div><div class=\"sk-container\" hidden><div class=\"sk-item\"><div class=\"sk-estimator sk-toggleable\"><input class=\"sk-toggleable__control sk-hidden--visually\" id=\"sk-estimator-id-2\" type=\"checkbox\" checked><label for=\"sk-estimator-id-2\" class=\"sk-toggleable__label sk-toggleable__label-arrow\">StandardScaler</label><div class=\"sk-toggleable__content\"><pre>StandardScaler()</pre></div></div></div></div></div>"
      ],
      "text/plain": [
       "StandardScaler()"
      ]
     },
     "execution_count": 29,
     "metadata": {},
     "output_type": "execute_result"
    }
   ],
   "source": [
    "scaler.fit(X)"
   ]
  },
  {
   "cell_type": "code",
   "execution_count": 30,
   "id": "aa9348f2",
   "metadata": {},
   "outputs": [],
   "source": [
    "standardized_data = scaler.transform(X)"
   ]
  },
  {
   "cell_type": "code",
   "execution_count": 31,
   "id": "b44eed78",
   "metadata": {},
   "outputs": [
    {
     "name": "stdout",
     "output_type": "stream",
     "text": [
      "[[-0.96793856  2.94729991  1.6182259  ...  1.51983325  0.60369441\n",
      "   0.18169967]\n",
      " [-0.29749283  2.94729991  1.6182259  ... -1.43995177 -3.5753837\n",
      "  -5.50358735]\n",
      " [-0.29493388  2.90241678  1.6182259  ...  0.14717932 -3.10452149\n",
      "  -5.50358735]\n",
      " ...\n",
      " [-0.74530963 -0.86776554 -2.66068058 ...  0.3616565   0.74324436\n",
      "   0.18169967]\n",
      " [-0.48941432 -2.12449298 -2.52851358 ... -1.59008579  0.22523095\n",
      "   0.18169967]\n",
      " [-0.74530963  0.25431253 -2.36330484 ...  0.91929716  0.76107012\n",
      "   0.18169967]]\n"
     ]
    }
   ],
   "source": [
    "print(standardized_data)"
   ]
  },
  {
   "cell_type": "code",
   "execution_count": 32,
   "id": "91878952",
   "metadata": {},
   "outputs": [],
   "source": [
    "X = standardized_data\n",
    "Y = ev_data['SessionLength']"
   ]
  },
  {
   "cell_type": "code",
   "execution_count": 33,
   "id": "49f07ed7",
   "metadata": {
    "scrolled": true
   },
   "outputs": [
    {
     "name": "stdout",
     "output_type": "stream",
     "text": [
      "[[-0.96793856  2.94729991  1.6182259  ...  1.51983325  0.60369441\n",
      "   0.18169967]\n",
      " [-0.29749283  2.94729991  1.6182259  ... -1.43995177 -3.5753837\n",
      "  -5.50358735]\n",
      " [-0.29493388  2.90241678  1.6182259  ...  0.14717932 -3.10452149\n",
      "  -5.50358735]\n",
      " ...\n",
      " [-0.74530963 -0.86776554 -2.66068058 ...  0.3616565   0.74324436\n",
      "   0.18169967]\n",
      " [-0.48941432 -2.12449298 -2.52851358 ... -1.59008579  0.22523095\n",
      "   0.18169967]\n",
      " [-0.74530963  0.25431253 -2.36330484 ...  0.91929716  0.76107012\n",
      "   0.18169967]]\n"
     ]
    }
   ],
   "source": [
    "print(X)"
   ]
  },
  {
   "cell_type": "code",
   "execution_count": 34,
   "id": "d83d6b99",
   "metadata": {
    "scrolled": true
   },
   "outputs": [
    {
     "name": "stdout",
     "output_type": "stream",
     "text": [
      "0        2.20\n",
      "1       11.19\n",
      "2       10.33\n",
      "3        9.31\n",
      "4        8.38\n",
      "        ...  \n",
      "1194     3.22\n",
      "1195     1.51\n",
      "1196     3.28\n",
      "1197     1.89\n",
      "1198     2.95\n",
      "Name: SessionLength, Length: 1189, dtype: float64\n"
     ]
    }
   ],
   "source": [
    "print(Y)"
   ]
  },
  {
   "cell_type": "code",
   "execution_count": 35,
   "id": "2dc0e699",
   "metadata": {},
   "outputs": [],
   "source": [
    "X_train, X_test, Y_train, Y_test = train_test_split(X, Y, test_size = 0.2, random_state=2)"
   ]
  },
  {
   "cell_type": "code",
   "execution_count": 36,
   "id": "dc559a98",
   "metadata": {},
   "outputs": [],
   "source": [
    "regressor = RandomForestRegressor(n_estimators=100)"
   ]
  },
  {
   "cell_type": "code",
   "execution_count": 37,
   "id": "2f069ace",
   "metadata": {},
   "outputs": [
    {
     "data": {
      "text/html": [
       "<style>#sk-container-id-3 {color: black;background-color: white;}#sk-container-id-3 pre{padding: 0;}#sk-container-id-3 div.sk-toggleable {background-color: white;}#sk-container-id-3 label.sk-toggleable__label {cursor: pointer;display: block;width: 100%;margin-bottom: 0;padding: 0.3em;box-sizing: border-box;text-align: center;}#sk-container-id-3 label.sk-toggleable__label-arrow:before {content: \"▸\";float: left;margin-right: 0.25em;color: #696969;}#sk-container-id-3 label.sk-toggleable__label-arrow:hover:before {color: black;}#sk-container-id-3 div.sk-estimator:hover label.sk-toggleable__label-arrow:before {color: black;}#sk-container-id-3 div.sk-toggleable__content {max-height: 0;max-width: 0;overflow: hidden;text-align: left;background-color: #f0f8ff;}#sk-container-id-3 div.sk-toggleable__content pre {margin: 0.2em;color: black;border-radius: 0.25em;background-color: #f0f8ff;}#sk-container-id-3 input.sk-toggleable__control:checked~div.sk-toggleable__content {max-height: 200px;max-width: 100%;overflow: auto;}#sk-container-id-3 input.sk-toggleable__control:checked~label.sk-toggleable__label-arrow:before {content: \"▾\";}#sk-container-id-3 div.sk-estimator input.sk-toggleable__control:checked~label.sk-toggleable__label {background-color: #d4ebff;}#sk-container-id-3 div.sk-label input.sk-toggleable__control:checked~label.sk-toggleable__label {background-color: #d4ebff;}#sk-container-id-3 input.sk-hidden--visually {border: 0;clip: rect(1px 1px 1px 1px);clip: rect(1px, 1px, 1px, 1px);height: 1px;margin: -1px;overflow: hidden;padding: 0;position: absolute;width: 1px;}#sk-container-id-3 div.sk-estimator {font-family: monospace;background-color: #f0f8ff;border: 1px dotted black;border-radius: 0.25em;box-sizing: border-box;margin-bottom: 0.5em;}#sk-container-id-3 div.sk-estimator:hover {background-color: #d4ebff;}#sk-container-id-3 div.sk-parallel-item::after {content: \"\";width: 100%;border-bottom: 1px solid gray;flex-grow: 1;}#sk-container-id-3 div.sk-label:hover label.sk-toggleable__label {background-color: #d4ebff;}#sk-container-id-3 div.sk-serial::before {content: \"\";position: absolute;border-left: 1px solid gray;box-sizing: border-box;top: 0;bottom: 0;left: 50%;z-index: 0;}#sk-container-id-3 div.sk-serial {display: flex;flex-direction: column;align-items: center;background-color: white;padding-right: 0.2em;padding-left: 0.2em;position: relative;}#sk-container-id-3 div.sk-item {position: relative;z-index: 1;}#sk-container-id-3 div.sk-parallel {display: flex;align-items: stretch;justify-content: center;background-color: white;position: relative;}#sk-container-id-3 div.sk-item::before, #sk-container-id-3 div.sk-parallel-item::before {content: \"\";position: absolute;border-left: 1px solid gray;box-sizing: border-box;top: 0;bottom: 0;left: 50%;z-index: -1;}#sk-container-id-3 div.sk-parallel-item {display: flex;flex-direction: column;z-index: 1;position: relative;background-color: white;}#sk-container-id-3 div.sk-parallel-item:first-child::after {align-self: flex-end;width: 50%;}#sk-container-id-3 div.sk-parallel-item:last-child::after {align-self: flex-start;width: 50%;}#sk-container-id-3 div.sk-parallel-item:only-child::after {width: 0;}#sk-container-id-3 div.sk-dashed-wrapped {border: 1px dashed gray;margin: 0 0.4em 0.5em 0.4em;box-sizing: border-box;padding-bottom: 0.4em;background-color: white;}#sk-container-id-3 div.sk-label label {font-family: monospace;font-weight: bold;display: inline-block;line-height: 1.2em;}#sk-container-id-3 div.sk-label-container {text-align: center;}#sk-container-id-3 div.sk-container {/* jupyter's `normalize.less` sets `[hidden] { display: none; }` but bootstrap.min.css set `[hidden] { display: none !important; }` so we also need the `!important` here to be able to override the default hidden behavior on the sphinx rendered scikit-learn.org. See: https://github.com/scikit-learn/scikit-learn/issues/21755 */display: inline-block !important;position: relative;}#sk-container-id-3 div.sk-text-repr-fallback {display: none;}</style><div id=\"sk-container-id-3\" class=\"sk-top-container\"><div class=\"sk-text-repr-fallback\"><pre>RandomForestRegressor()</pre><b>In a Jupyter environment, please rerun this cell to show the HTML representation or trust the notebook. <br />On GitHub, the HTML representation is unable to render, please try loading this page with nbviewer.org.</b></div><div class=\"sk-container\" hidden><div class=\"sk-item\"><div class=\"sk-estimator sk-toggleable\"><input class=\"sk-toggleable__control sk-hidden--visually\" id=\"sk-estimator-id-3\" type=\"checkbox\" checked><label for=\"sk-estimator-id-3\" class=\"sk-toggleable__label sk-toggleable__label-arrow\">RandomForestRegressor</label><div class=\"sk-toggleable__content\"><pre>RandomForestRegressor()</pre></div></div></div></div></div>"
      ],
      "text/plain": [
       "RandomForestRegressor()"
      ]
     },
     "execution_count": 37,
     "metadata": {},
     "output_type": "execute_result"
    }
   ],
   "source": [
    "# training the model\n",
    "regressor.fit(X_train,Y_train)"
   ]
  },
  {
   "cell_type": "code",
   "execution_count": 38,
   "id": "a442b4c1",
   "metadata": {},
   "outputs": [],
   "source": [
    "# prediction on Test Data\n",
    "test_data_prediction = regressor.predict(X_test)"
   ]
  },
  {
   "cell_type": "code",
   "execution_count": 39,
   "id": "9584f80f",
   "metadata": {},
   "outputs": [
    {
     "name": "stdout",
     "output_type": "stream",
     "text": [
      "[ 3.7104  2.898   3.1142  3.2895  1.8805  3.2469  2.6662  2.1795  2.7496\n",
      "  0.4275  2.9895  3.8644  1.9233  2.4005  2.907   2.4805  2.6924  1.5957\n",
      "  2.3397  2.7796  2.324   8.3375  2.6488  2.8291  2.9611  2.6263  3.0042\n",
      "  3.1753  2.9138  3.5585  3.0857  3.4969  3.0586  1.3001  3.3978  3.0038\n",
      "  3.064   2.8893  2.7198  8.1586  3.0006  3.1403  3.2452  7.965   3.4666\n",
      "  7.7278  2.824   3.179   8.0201  2.4437  1.0896  4.2925  3.0332  1.4494\n",
      "  1.6609  3.4655  2.8815  3.2277  2.5946  2.6859  2.8097  1.1791  2.9889\n",
      "  2.4356  3.1144 10.7115  2.6772  2.6643  1.9564  8.6019  1.6057  4.574\n",
      "  3.8488  2.7389  2.7888  2.5599  2.1924  8.6761  1.1423  7.8798  2.1255\n",
      "  2.6876  3.1409  3.0472  2.7831  6.8109  5.7298  3.1959  6.6876  1.9544\n",
      "  2.8008  3.1779  3.1061  2.0902  3.6077  3.2773  8.02    2.7622  8.6536\n",
      "  3.2995  3.0407  2.8901  3.0609  2.7701  8.5123  1.8967  2.1485  0.8053\n",
      "  2.7011  2.3323  3.2257  3.6972  8.4989  3.1203  2.8185  2.5002  3.5854\n",
      "  3.0645  3.4475  1.8758  7.0171  4.4368  2.5887  2.0471  2.8498  2.4815\n",
      "  2.3982  1.3613  2.8535  3.1868  2.9967  2.9998  3.4098  4.5211  2.7714\n",
      "  2.9247  2.2945  2.1365  2.8631  2.9132  3.9675  3.5005  4.0141  7.7076\n",
      "  3.0855  2.8358  2.8106  2.8611  2.2538  3.1871  7.2923  6.5592  2.8177\n",
      "  2.1482  2.6321  2.4816  4.3802  3.0168  2.8213  2.8861  3.4162  2.7675\n",
      "  3.1099  3.0626  2.8803  2.9127  3.1835  2.9984  2.7771  3.2256  8.3471\n",
      "  3.408   2.9586  3.2279  3.2376  2.3249  3.1425  7.0956  3.123   3.1312\n",
      "  2.0771  1.6952  2.4242  4.7578  2.8467  7.4402  2.3514  2.5032  2.7487\n",
      "  2.345   8.4558  3.0089  2.9591  8.2873  6.8281  2.9487  3.0997  3.0489\n",
      "  3.0821  8.388  12.0584  5.468   3.1895  2.7886  3.4857  2.5336  3.1213\n",
      "  3.0545  2.784   2.7683  2.7956  2.9655  3.3804  3.0484  1.6698  3.0806\n",
      "  3.1141  3.0641  2.4418  2.8142  8.639   2.856   2.7181  3.1423  8.4372\n",
      "  2.7973  2.8553  2.738   3.1056  3.2808  2.3839  3.3768  2.9476  3.8641\n",
      "  3.346   2.6419  2.9387  2.3727]\n"
     ]
    }
   ],
   "source": [
    "print(test_data_prediction)"
   ]
  },
  {
   "cell_type": "code",
   "execution_count": 40,
   "id": "3d4714ba",
   "metadata": {},
   "outputs": [],
   "source": [
    "Y_test = list(Y_test)"
   ]
  },
  {
   "cell_type": "code",
   "execution_count": 41,
   "id": "819182d8",
   "metadata": {},
   "outputs": [
    {
     "data": {
      "image/png": "[encoded data removed]",
      "text/plain": [
       "<Figure size 640x480 with 1 Axes>"
      ]
     },
     "metadata": {},
     "output_type": "display_data"
    }
   ],
   "source": [
    "plt.plot(Y_test, color='blue', label = 'Actual Value')\n",
    "plt.plot(test_data_prediction, color='green', label='Predicted Value')\n",
    "plt.title('Actual  vs Predicted ')\n",
    "plt.xlabel('Number of values')\n",
    "plt.ylabel('Session Length')\n",
    "plt.legend()\n",
    "plt.show()"
   ]
  },
  {
   "cell_type": "code",
   "execution_count": 42,
   "id": "7b955bf2",
   "metadata": {},
   "outputs": [],
   "source": [
    "#Training Scores\n",
    "training_data_prediction = regressor.predict(X_train)"
   ]
  },
  {
   "cell_type": "code",
   "execution_count": 43,
   "id": "975f1361",
   "metadata": {},
   "outputs": [
    {
     "data": {
      "text/plain": [
       "0.27848990536277624"
      ]
     },
     "execution_count": 43,
     "metadata": {},
     "output_type": "execute_result"
    }
   ],
   "source": [
    "mean_absolute_error(Y_train, training_data_prediction)"
   ]
  },
  {
   "cell_type": "code",
   "execution_count": 44,
   "id": "05f86ddf",
   "metadata": {},
   "outputs": [
    {
     "data": {
      "text/plain": [
       "0.4634985540888793"
      ]
     },
     "execution_count": 44,
     "metadata": {},
     "output_type": "execute_result"
    }
   ],
   "source": [
    "sqrt(mean_squared_error(Y_train, training_data_prediction))"
   ]
  },
  {
   "cell_type": "code",
   "execution_count": 45,
   "id": "5afebc00",
   "metadata": {},
   "outputs": [
    {
     "name": "stdout",
     "output_type": "stream",
     "text": [
      "R squared error :  0.9572089090199432\n"
     ]
    }
   ],
   "source": [
    "# R squared error\n",
    "error_score = metrics.r2_score(Y_train, training_data_prediction)\n",
    "print(\"R squared error : \", error_score)"
   ]
  },
  {
   "cell_type": "code",
   "execution_count": 46,
   "id": "8e1d1efb",
   "metadata": {},
   "outputs": [],
   "source": [
    "def smape(actual, predicted):\n",
    "    \"\"\"\n",
    "    Calculate SMAPE (Symmetric Mean Absolute Percentage Error) for actual and predicted values.\n",
    "    \"\"\"\n",
    "    actual = np.array(actual)\n",
    "    predicted = np.array(predicted)\n",
    "    return 100/len(actual) * np.sum(2 * np.abs(predicted - actual) / (np.abs(actual) + np.abs(predicted)))\n"
   ]
  },
  {
   "cell_type": "code",
   "execution_count": 47,
   "id": "681de7ec",
   "metadata": {},
   "outputs": [
    {
     "name": "stdout",
     "output_type": "stream",
     "text": [
      "SMAPE score:  13.787394686275118\n"
     ]
    }
   ],
   "source": [
    "smape_score = smape(Y_train, training_data_prediction)\n",
    "print(\"SMAPE score: \", smape_score)"
   ]
  },
  {
   "cell_type": "code",
   "execution_count": 48,
   "id": "a1975cf3",
   "metadata": {},
   "outputs": [],
   "source": [
    "#Test Scores"
   ]
  },
  {
   "cell_type": "code",
   "execution_count": 49,
   "id": "f697218c",
   "metadata": {},
   "outputs": [
    {
     "data": {
      "text/plain": [
       "0.7348529411764705"
      ]
     },
     "execution_count": 49,
     "metadata": {},
     "output_type": "execute_result"
    }
   ],
   "source": [
    "mean_absolute_error(Y_test, test_data_prediction)"
   ]
  },
  {
   "cell_type": "code",
   "execution_count": 50,
   "id": "28dc210f",
   "metadata": {},
   "outputs": [],
   "source": [
    "rms = sqrt(mean_squared_error(Y_test, test_data_prediction))"
   ]
  },
  {
   "cell_type": "code",
   "execution_count": 51,
   "id": "a29d61c0",
   "metadata": {},
   "outputs": [
    {
     "name": "stdout",
     "output_type": "stream",
     "text": [
      "1.089787789688718\n"
     ]
    }
   ],
   "source": [
    "print(rms)"
   ]
  },
  {
   "cell_type": "code",
   "execution_count": 52,
   "id": "3c3d7356",
   "metadata": {},
   "outputs": [
    {
     "name": "stdout",
     "output_type": "stream",
     "text": [
      "R squared error :  0.7614067978244042\n"
     ]
    }
   ],
   "source": [
    "# R squared error\n",
    "error_score = metrics.r2_score(Y_test, test_data_prediction)\n",
    "print(\"R squared error : \", error_score)"
   ]
  },
  {
   "cell_type": "code",
   "execution_count": 53,
   "id": "5df978ce",
   "metadata": {},
   "outputs": [],
   "source": [
    "def smape(actual, predicted):\n",
    "    \"\"\"\n",
    "    Calculate SMAPE (Symmetric Mean Absolute Percentage Error) for actual and predicted values.\n",
    "    \"\"\"\n",
    "    actual = np.array(actual)\n",
    "    predicted = np.array(predicted)\n",
    "    return 100/len(actual) * np.sum(2 * np.abs(predicted - actual) / (np.abs(actual) + np.abs(predicted)))\n"
   ]
  },
  {
   "cell_type": "code",
   "execution_count": 54,
   "id": "4ebfe0d4",
   "metadata": {},
   "outputs": [
    {
     "name": "stdout",
     "output_type": "stream",
     "text": [
      "SMAPE score:  27.74397155364484\n"
     ]
    }
   ],
   "source": [
    "smape_score = smape(Y_test, test_data_prediction)\n",
    "print(\"SMAPE score: \", smape_score)"
   ]
  },
  {
   "cell_type": "code",
   "execution_count": 55,
   "id": "e2a7f2ef",
   "metadata": {},
   "outputs": [
    {
     "data": {
      "image/png": "[encoded data removed]",
      "text/plain": [
       "<Figure size 640x480 with 1 Axes>"
      ]
     },
     "metadata": {},
     "output_type": "display_data"
    }
   ],
   "source": [
    "#Visualising\n",
    "sns.regplot(x=Y_test, y=test_data_prediction)\n",
    "plt.xlabel(\"Actual\")\n",
    "plt.ylabel('Predicted')\n",
    "plt.title(\"ACtual vs predicted\")\n",
    "plt.show()\n",
    "\n"
   ]
  },
  {
   "cell_type": "markdown",
   "id": "0fa69893",
   "metadata": {},
   "source": [
    "#SVM "
   ]
  },
  {
   "cell_type": "code",
   "execution_count": 56,
   "id": "c525dd5d",
   "metadata": {},
   "outputs": [],
   "source": [
    "X_train, X_test, Y_train, Y_test = train_test_split(X, Y, test_size = 0.2, random_state=2)"
   ]
  },
  {
   "cell_type": "code",
   "execution_count": 57,
   "id": "64e97c93",
   "metadata": {},
   "outputs": [
    {
     "data": {
      "text/html": [
       "<style>#sk-container-id-4 {color: black;background-color: white;}#sk-container-id-4 pre{padding: 0;}#sk-container-id-4 div.sk-toggleable {background-color: white;}#sk-container-id-4 label.sk-toggleable__label {cursor: pointer;display: block;width: 100%;margin-bottom: 0;padding: 0.3em;box-sizing: border-box;text-align: center;}#sk-container-id-4 label.sk-toggleable__label-arrow:before {content: \"▸\";float: left;margin-right: 0.25em;color: #696969;}#sk-container-id-4 label.sk-toggleable__label-arrow:hover:before {color: black;}#sk-container-id-4 div.sk-estimator:hover label.sk-toggleable__label-arrow:before {color: black;}#sk-container-id-4 div.sk-toggleable__content {max-height: 0;max-width: 0;overflow: hidden;text-align: left;background-color: #f0f8ff;}#sk-container-id-4 div.sk-toggleable__content pre {margin: 0.2em;color: black;border-radius: 0.25em;background-color: #f0f8ff;}#sk-container-id-4 input.sk-toggleable__control:checked~div.sk-toggleable__content {max-height: 200px;max-width: 100%;overflow: auto;}#sk-container-id-4 input.sk-toggleable__control:checked~label.sk-toggleable__label-arrow:before {content: \"▾\";}#sk-container-id-4 div.sk-estimator input.sk-toggleable__control:checked~label.sk-toggleable__label {background-color: #d4ebff;}#sk-container-id-4 div.sk-label input.sk-toggleable__control:checked~label.sk-toggleable__label {background-color: #d4ebff;}#sk-container-id-4 input.sk-hidden--visually {border: 0;clip: rect(1px 1px 1px 1px);clip: rect(1px, 1px, 1px, 1px);height: 1px;margin: -1px;overflow: hidden;padding: 0;position: absolute;width: 1px;}#sk-container-id-4 div.sk-estimator {font-family: monospace;background-color: #f0f8ff;border: 1px dotted black;border-radius: 0.25em;box-sizing: border-box;margin-bottom: 0.5em;}#sk-container-id-4 div.sk-estimator:hover {background-color: #d4ebff;}#sk-container-id-4 div.sk-parallel-item::after {content: \"\";width: 100%;border-bottom: 1px solid gray;flex-grow: 1;}#sk-container-id-4 div.sk-label:hover label.sk-toggleable__label {background-color: #d4ebff;}#sk-container-id-4 div.sk-serial::before {content: \"\";position: absolute;border-left: 1px solid gray;box-sizing: border-box;top: 0;bottom: 0;left: 50%;z-index: 0;}#sk-container-id-4 div.sk-serial {display: flex;flex-direction: column;align-items: center;background-color: white;padding-right: 0.2em;padding-left: 0.2em;position: relative;}#sk-container-id-4 div.sk-item {position: relative;z-index: 1;}#sk-container-id-4 div.sk-parallel {display: flex;align-items: stretch;justify-content: center;background-color: white;position: relative;}#sk-container-id-4 div.sk-item::before, #sk-container-id-4 div.sk-parallel-item::before {content: \"\";position: absolute;border-left: 1px solid gray;box-sizing: border-box;top: 0;bottom: 0;left: 50%;z-index: -1;}#sk-container-id-4 div.sk-parallel-item {display: flex;flex-direction: column;z-index: 1;position: relative;background-color: white;}#sk-container-id-4 div.sk-parallel-item:first-child::after {align-self: flex-end;width: 50%;}#sk-container-id-4 div.sk-parallel-item:last-child::after {align-self: flex-start;width: 50%;}#sk-container-id-4 div.sk-parallel-item:only-child::after {width: 0;}#sk-container-id-4 div.sk-dashed-wrapped {border: 1px dashed gray;margin: 0 0.4em 0.5em 0.4em;box-sizing: border-box;padding-bottom: 0.4em;background-color: white;}#sk-container-id-4 div.sk-label label {font-family: monospace;font-weight: bold;display: inline-block;line-height: 1.2em;}#sk-container-id-4 div.sk-label-container {text-align: center;}#sk-container-id-4 div.sk-container {/* jupyter's `normalize.less` sets `[hidden] { display: none; }` but bootstrap.min.css set `[hidden] { display: none !important; }` so we also need the `!important` here to be able to override the default hidden behavior on the sphinx rendered scikit-learn.org. See: https://github.com/scikit-learn/scikit-learn/issues/21755 */display: inline-block !important;position: relative;}#sk-container-id-4 div.sk-text-repr-fallback {display: none;}</style><div id=\"sk-container-id-4\" class=\"sk-top-container\"><div class=\"sk-text-repr-fallback\"><pre>SVR(C=10, gamma=0.1)</pre><b>In a Jupyter environment, please rerun this cell to show the HTML representation or trust the notebook. <br />On GitHub, the HTML representation is unable to render, please try loading this page with nbviewer.org.</b></div><div class=\"sk-container\" hidden><div class=\"sk-item\"><div class=\"sk-estimator sk-toggleable\"><input class=\"sk-toggleable__control sk-hidden--visually\" id=\"sk-estimator-id-4\" type=\"checkbox\" checked><label for=\"sk-estimator-id-4\" class=\"sk-toggleable__label sk-toggleable__label-arrow\">SVR</label><div class=\"sk-toggleable__content\"><pre>SVR(C=10, gamma=0.1)</pre></div></div></div></div></div>"
      ],
      "text/plain": [
       "SVR(C=10, gamma=0.1)"
      ]
     },
     "execution_count": 57,
     "metadata": {},
     "output_type": "execute_result"
    }
   ],
   "source": [
    "svr = SVR(kernel='rbf', C=10, gamma=0.1, epsilon=0.1)\n",
    "svr.fit(X_train,Y_train)"
   ]
  },
  {
   "cell_type": "code",
   "execution_count": 58,
   "id": "c4238f1c",
   "metadata": {},
   "outputs": [],
   "source": [
    "y_pred = svr.predict(X_test)\n",
    "mse = mean_squared_error(Y_test, y_pred)"
   ]
  },
  {
   "cell_type": "code",
   "execution_count": 59,
   "id": "f62823e3",
   "metadata": {},
   "outputs": [
    {
     "name": "stdout",
     "output_type": "stream",
     "text": [
      "[ 2.01343481  2.56520274  3.81834235  2.33001651  1.68976531  3.75317562\n",
      "  2.55081065  2.68624815  3.12976228  3.12486463  3.38677395  3.46361563\n",
      "  2.41274107  2.32993118  2.62273155  2.37043059  2.67712295  2.33933622\n",
      "  1.89860308  2.65630708  3.36616125  8.2635659   2.67103561  5.30232438\n",
      "  3.32651023  2.98052759  3.23519709  3.31400797  2.73785998  2.46359596\n",
      "  3.01147599  2.47445394  3.89453592  1.92039191  2.09974806  2.91742143\n",
      "  2.92159059  1.9154636   3.64804571  8.8090543   3.18652392  2.82591327\n",
      "  2.76990858  8.10848634  3.49758816  7.77171222  2.52191415  3.37571744\n",
      "  8.99729328  3.07164814  3.94450317  3.89765894  3.70594678  2.23663452\n",
      "  1.38993511  3.40990282  2.48504733  3.39267811  2.16600182  2.79208223\n",
      "  3.17079878  2.60729273  2.73099577  1.8038183   2.54858414  9.62844048\n",
      "  2.83300499  3.42581905  2.93219917  9.34683708  0.90828287  3.39891323\n",
      "  4.86291795  3.03800351  3.28560878  1.41238364  4.25917588  8.63213384\n",
      "  1.9162728   9.58494984  3.23213013  2.92267625  3.09113944  3.12296031\n",
      "  3.15433804  5.40395218  2.76753245  2.27548628  7.21808815  1.93974598\n",
      "  2.99412295  3.0255657   2.47999632  1.844358    2.88307852  4.99890391\n",
      "  8.3712056   3.27239624  7.99780374  5.13859022  3.42546491  3.15129812\n",
      "  2.87275226  2.35838434  8.13051336  1.45517444  2.01021179  4.81227313\n",
      "  2.80497639  3.37561607  2.53015552  2.16264586  9.43574535  5.80436064\n",
      "  2.90565879  1.93520566  3.36273599  3.49967226  2.71994625  1.14706534\n",
      "  7.16435184  4.11492279  2.79024226  3.17822266  3.27366824  2.66750908\n",
      "  2.84943994 -0.10578241  3.21837603  2.10764467  3.06964571  2.84052181\n",
      "  2.9750228   3.72474242  3.15248535  2.23343292  2.27807432  5.66398748\n",
      "  3.34656931  2.21970517  1.06131527  3.34091312  2.6023333   8.03754476\n",
      "  3.34668911  5.7249599   2.22443338  2.80825831  3.44667315  3.39621552\n",
      "  8.04442961  4.96202583  2.84669955  3.48408492  3.331175    5.11497657\n",
      "  5.29614418  3.19458196  2.57119386  2.65771149  3.21276355  3.16696847\n",
      "  3.35868332  3.44056153  2.24508896  2.06184579  5.85301368  3.22274519\n",
      "  3.14807617  3.04028159  6.0142949   5.43107841  5.17275538  2.35083623\n",
      "  2.99644872  3.24363423  3.29927192  7.85307292  3.58596625  2.17182225\n",
      "  1.63277041  2.68169182  1.05746386  4.64612425  2.79379971  8.38736121\n",
      "  3.20204511  2.06525042  2.46821592  3.17017662  7.60913301  3.69645131\n",
      "  2.62594383  8.66050931  8.19265012  2.6009857   3.45327107  2.57045192\n",
      "  2.98969046  9.62148258 11.13433062  3.75428937  3.68025645  1.76299681\n",
      "  2.24111016  2.52047331  3.5016887   3.54945614  3.18309641  2.31579972\n",
      "  2.57871134  2.20751673  2.1653128   4.52024781  2.49807657  1.44277038\n",
      "  2.90981666  2.89249589  3.51073705  2.59867402  8.15255834  2.88711885\n",
      "  3.05111524  3.77638557  6.41598284  2.54152123  3.09779173  2.24339673\n",
      "  2.61729741  2.76424096  2.39965562  2.57072505  2.44382508  3.52641324\n",
      "  1.85019164  3.74193265  3.78741371  3.28024214]\n"
     ]
    }
   ],
   "source": [
    "print(y_pred)"
   ]
  },
  {
   "cell_type": "code",
   "execution_count": 60,
   "id": "930dcac6",
   "metadata": {},
   "outputs": [],
   "source": [
    "Y_test = list(Y_test)"
   ]
  },
  {
   "cell_type": "code",
   "execution_count": 61,
   "id": "87bc8add",
   "metadata": {},
   "outputs": [
    {
     "data": {
      "image/png": "[encoded data removed]",
      "text/plain": [
       "<Figure size 640x480 with 1 Axes>"
      ]
     },
     "metadata": {},
     "output_type": "display_data"
    }
   ],
   "source": [
    "plt.plot(Y_test, color='blue', label = 'Actual Value')\n",
    "plt.plot(y_pred, color='green', label='Predicted Value')\n",
    "plt.title('Actual  vs Predicted ')\n",
    "plt.xlabel('Number of values')\n",
    "plt.ylabel('Session Length')\n",
    "plt.legend()\n",
    "plt.show()"
   ]
  },
  {
   "cell_type": "code",
   "execution_count": 62,
   "id": "1df31b21",
   "metadata": {},
   "outputs": [
    {
     "data": {
      "text/plain": [
       "0.8758284353909519"
      ]
     },
     "execution_count": 62,
     "metadata": {},
     "output_type": "execute_result"
    }
   ],
   "source": [
    "mean_absolute_error(Y_test, y_pred)"
   ]
  },
  {
   "cell_type": "code",
   "execution_count": 63,
   "id": "51207439",
   "metadata": {},
   "outputs": [],
   "source": [
    "rms = sqrt(mean_squared_error(Y_test, y_pred))"
   ]
  },
  {
   "cell_type": "code",
   "execution_count": 64,
   "id": "97379bf9",
   "metadata": {},
   "outputs": [
    {
     "name": "stdout",
     "output_type": "stream",
     "text": [
      "1.2309568484198454\n"
     ]
    }
   ],
   "source": [
    "print(rms)"
   ]
  },
  {
   "cell_type": "code",
   "execution_count": 65,
   "id": "33eb3c3c",
   "metadata": {},
   "outputs": [
    {
     "name": "stdout",
     "output_type": "stream",
     "text": [
      "R squared error :  0.6955893458271374\n"
     ]
    }
   ],
   "source": [
    "# R squared error\n",
    "error_score = metrics.r2_score(Y_test, y_pred)\n",
    "print(\"R squared error : \", error_score)"
   ]
  },
  {
   "cell_type": "code",
   "execution_count": 66,
   "id": "f5360828",
   "metadata": {},
   "outputs": [
    {
     "name": "stdout",
     "output_type": "stream",
     "text": [
      "SMAPE score:  31.905610173316287\n"
     ]
    }
   ],
   "source": [
    "smape_score = smape(Y_test, y_pred)\n",
    "print(\"SMAPE score: \", smape_score)"
   ]
  },
  {
   "cell_type": "code",
   "execution_count": 67,
   "id": "2565be61",
   "metadata": {},
   "outputs": [
    {
     "data": {
      "image/png": "[encoded data removed]",
      "text/plain": [
       "<Figure size 640x480 with 1 Axes>"
      ]
     },
     "metadata": {},
     "output_type": "display_data"
    }
   ],
   "source": [
    "#Visualising\n",
    "sns.regplot(x=Y_test, y=y_pred)\n",
    "plt.xlabel(\"Actual\")\n",
    "plt.ylabel('Predicted')\n",
    "plt.title(\"ACtual vs predicted\")\n",
    "plt.show()"
   ]
  },
  {
   "cell_type": "markdown",
   "id": "5d156f24",
   "metadata": {},
   "source": [
    "#XGB"
   ]
  },
  {
   "cell_type": "code",
   "execution_count": 68,
   "id": "96b61c97",
   "metadata": {},
   "outputs": [],
   "source": [
    "# loading the model\n",
    "xb_model = XGBRegressor(objective='reg:squarederror', alpha=0.5)"
   ]
  },
  {
   "cell_type": "code",
   "execution_count": 69,
   "id": "681eed80",
   "metadata": {},
   "outputs": [
    {
     "data": {
      "text/html": [
       "<style>#sk-container-id-5 {color: black;background-color: white;}#sk-container-id-5 pre{padding: 0;}#sk-container-id-5 div.sk-toggleable {background-color: white;}#sk-container-id-5 label.sk-toggleable__label {cursor: pointer;display: block;width: 100%;margin-bottom: 0;padding: 0.3em;box-sizing: border-box;text-align: center;}#sk-container-id-5 label.sk-toggleable__label-arrow:before {content: \"▸\";float: left;margin-right: 0.25em;color: #696969;}#sk-container-id-5 label.sk-toggleable__label-arrow:hover:before {color: black;}#sk-container-id-5 div.sk-estimator:hover label.sk-toggleable__label-arrow:before {color: black;}#sk-container-id-5 div.sk-toggleable__content {max-height: 0;max-width: 0;overflow: hidden;text-align: left;background-color: #f0f8ff;}#sk-container-id-5 div.sk-toggleable__content pre {margin: 0.2em;color: black;border-radius: 0.25em;background-color: #f0f8ff;}#sk-container-id-5 input.sk-toggleable__control:checked~div.sk-toggleable__content {max-height: 200px;max-width: 100%;overflow: auto;}#sk-container-id-5 input.sk-toggleable__control:checked~label.sk-toggleable__label-arrow:before {content: \"▾\";}#sk-container-id-5 div.sk-estimator input.sk-toggleable__control:checked~label.sk-toggleable__label {background-color: #d4ebff;}#sk-container-id-5 div.sk-label input.sk-toggleable__control:checked~label.sk-toggleable__label {background-color: #d4ebff;}#sk-container-id-5 input.sk-hidden--visually {border: 0;clip: rect(1px 1px 1px 1px);clip: rect(1px, 1px, 1px, 1px);height: 1px;margin: -1px;overflow: hidden;padding: 0;position: absolute;width: 1px;}#sk-container-id-5 div.sk-estimator {font-family: monospace;background-color: #f0f8ff;border: 1px dotted black;border-radius: 0.25em;box-sizing: border-box;margin-bottom: 0.5em;}#sk-container-id-5 div.sk-estimator:hover {background-color: #d4ebff;}#sk-container-id-5 div.sk-parallel-item::after {content: \"\";width: 100%;border-bottom: 1px solid gray;flex-grow: 1;}#sk-container-id-5 div.sk-label:hover label.sk-toggleable__label {background-color: #d4ebff;}#sk-container-id-5 div.sk-serial::before {content: \"\";position: absolute;border-left: 1px solid gray;box-sizing: border-box;top: 0;bottom: 0;left: 50%;z-index: 0;}#sk-container-id-5 div.sk-serial {display: flex;flex-direction: column;align-items: center;background-color: white;padding-right: 0.2em;padding-left: 0.2em;position: relative;}#sk-container-id-5 div.sk-item {position: relative;z-index: 1;}#sk-container-id-5 div.sk-parallel {display: flex;align-items: stretch;justify-content: center;background-color: white;position: relative;}#sk-container-id-5 div.sk-item::before, #sk-container-id-5 div.sk-parallel-item::before {content: \"\";position: absolute;border-left: 1px solid gray;box-sizing: border-box;top: 0;bottom: 0;left: 50%;z-index: -1;}#sk-container-id-5 div.sk-parallel-item {display: flex;flex-direction: column;z-index: 1;position: relative;background-color: white;}#sk-container-id-5 div.sk-parallel-item:first-child::after {align-self: flex-end;width: 50%;}#sk-container-id-5 div.sk-parallel-item:last-child::after {align-self: flex-start;width: 50%;}#sk-container-id-5 div.sk-parallel-item:only-child::after {width: 0;}#sk-container-id-5 div.sk-dashed-wrapped {border: 1px dashed gray;margin: 0 0.4em 0.5em 0.4em;box-sizing: border-box;padding-bottom: 0.4em;background-color: white;}#sk-container-id-5 div.sk-label label {font-family: monospace;font-weight: bold;display: inline-block;line-height: 1.2em;}#sk-container-id-5 div.sk-label-container {text-align: center;}#sk-container-id-5 div.sk-container {/* jupyter's `normalize.less` sets `[hidden] { display: none; }` but bootstrap.min.css set `[hidden] { display: none !important; }` so we also need the `!important` here to be able to override the default hidden behavior on the sphinx rendered scikit-learn.org. See: https://github.com/scikit-learn/scikit-learn/issues/21755 */display: inline-block !important;position: relative;}#sk-container-id-5 div.sk-text-repr-fallback {display: none;}</style><div id=\"sk-container-id-5\" class=\"sk-top-container\"><div class=\"sk-text-repr-fallback\"><pre>XGBRegressor(alpha=0.5, base_score=None, booster=None, callbacks=None,\n",
       "             colsample_bylevel=None, colsample_bynode=None,\n",
       "             colsample_bytree=None, early_stopping_rounds=None,\n",
       "             enable_categorical=False, eval_metric=None, feature_types=None,\n",
       "             gamma=None, gpu_id=None, grow_policy=None, importance_type=None,\n",
       "             interaction_constraints=None, learning_rate=None, max_bin=None,\n",
       "             max_cat_threshold=None, max_cat_to_onehot=None,\n",
       "             max_delta_step=None, max_depth=None, max_leaves=None,\n",
       "             min_child_weight=None, missing=nan, monotone_constraints=None,\n",
       "             n_estimators=100, n_jobs=None, num_parallel_tree=None,\n",
       "             predictor=None, ...)</pre><b>In a Jupyter environment, please rerun this cell to show the HTML representation or trust the notebook. <br />On GitHub, the HTML representation is unable to render, please try loading this page with nbviewer.org.</b></div><div class=\"sk-container\" hidden><div class=\"sk-item\"><div class=\"sk-estimator sk-toggleable\"><input class=\"sk-toggleable__control sk-hidden--visually\" id=\"sk-estimator-id-5\" type=\"checkbox\" checked><label for=\"sk-estimator-id-5\" class=\"sk-toggleable__label sk-toggleable__label-arrow\">XGBRegressor</label><div class=\"sk-toggleable__content\"><pre>XGBRegressor(alpha=0.5, base_score=None, booster=None, callbacks=None,\n",
       "             colsample_bylevel=None, colsample_bynode=None,\n",
       "             colsample_bytree=None, early_stopping_rounds=None,\n",
       "             enable_categorical=False, eval_metric=None, feature_types=None,\n",
       "             gamma=None, gpu_id=None, grow_policy=None, importance_type=None,\n",
       "             interaction_constraints=None, learning_rate=None, max_bin=None,\n",
       "             max_cat_threshold=None, max_cat_to_onehot=None,\n",
       "             max_delta_step=None, max_depth=None, max_leaves=None,\n",
       "             min_child_weight=None, missing=nan, monotone_constraints=None,\n",
       "             n_estimators=100, n_jobs=None, num_parallel_tree=None,\n",
       "             predictor=None, ...)</pre></div></div></div></div></div>"
      ],
      "text/plain": [
       "XGBRegressor(alpha=0.5, base_score=None, booster=None, callbacks=None,\n",
       "             colsample_bylevel=None, colsample_bynode=None,\n",
       "             colsample_bytree=None, early_stopping_rounds=None,\n",
       "             enable_categorical=False, eval_metric=None, feature_types=None,\n",
       "             gamma=None, gpu_id=None, grow_policy=None, importance_type=None,\n",
       "             interaction_constraints=None, learning_rate=None, max_bin=None,\n",
       "             max_cat_threshold=None, max_cat_to_onehot=None,\n",
       "             max_delta_step=None, max_depth=None, max_leaves=None,\n",
       "             min_child_weight=None, missing=nan, monotone_constraints=None,\n",
       "             n_estimators=100, n_jobs=None, num_parallel_tree=None,\n",
       "             predictor=None, ...)"
      ]
     },
     "execution_count": 69,
     "metadata": {},
     "output_type": "execute_result"
    }
   ],
   "source": [
    "# training the model with X_train\n",
    "xb_model.fit(X_train, Y_train)"
   ]
  },
  {
   "cell_type": "code",
   "execution_count": 70,
   "id": "9e86d343",
   "metadata": {},
   "outputs": [],
   "source": [
    "test_prediction = xb_model.predict(X_test)"
   ]
  },
  {
   "cell_type": "code",
   "execution_count": 71,
   "id": "9df529dd",
   "metadata": {},
   "outputs": [
    {
     "name": "stdout",
     "output_type": "stream",
     "text": [
      "[ 3.7301242   3.0000176   3.1378849   3.0181665   1.038218    3.489882\n",
      "  2.5786684   1.7831414   2.6204839  -0.27854413  2.857454    3.7026517\n",
      "  1.9991789   2.6256793   2.5559685   1.7475352   2.4865115   1.7406853\n",
      "  1.1756412   3.051036    2.3067806   9.321015    2.6379833   2.5104084\n",
      "  3.4492114   2.7022119   2.8415463   3.186624    3.1138492   3.461048\n",
      "  2.9870086   4.0187063   3.0313952   1.5212786   2.4938483   2.8192346\n",
      "  3.3335013   2.5315168   1.7182138   8.281505    3.13096     3.1558764\n",
      "  2.8227756   7.5530944   3.4553068   7.6136646   2.4211287   3.0509613\n",
      "  8.353314    2.332971    2.2869647   3.8103259   3.7018454   0.99059093\n",
      "  1.5063447   3.7154782   2.9192698   3.3649726   2.4348752   2.5102172\n",
      "  3.3207357   1.9229443   3.1109622   2.057849    3.191694   10.127771\n",
      "  2.7757385   2.6670306   2.1395357   9.468483    0.4279618   4.7595625\n",
      "  4.3288846   2.9672587   2.8613682   1.6975685   2.4935157   8.484563\n",
      "  1.8538424   8.438172    2.4033153   2.8388214   2.863444    3.10677\n",
      "  2.8211794   6.125742    5.591845    2.9794319   7.6505275   1.3852055\n",
      "  2.8966625   3.0280106   3.4029038   1.3463829   2.8185363   3.6238556\n",
      "  8.336848    2.362902    7.9737296   3.080558    2.9133096   3.1464598\n",
      "  3.0258946   2.5259883   8.568162    1.1232247   1.016424    0.8114842\n",
      "  2.8939192   2.163294    3.6943834   4.262559    8.69946     2.391861\n",
      "  1.2610781   2.5705223   3.8305876   3.125149    3.6850495   1.7991238\n",
      "  8.065843    4.4420676   2.395119    1.6363035   3.365535    2.7813528\n",
      "  2.8590646   1.0884477   2.12202     3.2954698   3.1639726   2.7355855\n",
      "  3.3599932   5.3444815   2.6646385   1.9061301   2.1090517   1.3503983\n",
      "  2.9917054   3.0861235   3.0624814   3.2225287   3.8780987   7.791143\n",
      "  3.1187267   2.5748007   2.6783757   2.795353    2.4452803   3.402721\n",
      "  6.9498553   5.8428745   2.83775     1.9071704   2.4968352   2.2439082\n",
      "  3.8289485   2.9482603   3.1503472   2.919257    3.589345    2.7252207\n",
      "  3.2260864   3.1370087   2.9509099   2.8504102   2.9276567   2.8046315\n",
      "  3.353905    3.2572753   8.352082    3.6878378   3.5952504   3.0313241\n",
      "  3.4383237   2.815461    3.454182    7.7037787   2.776322    2.8469157\n",
      "  2.1287816   1.56714     1.4652002   5.109842    2.6428936   7.711497\n",
      "  2.803296    2.3587265   2.7669942   1.4688158   8.7294655   3.1073165\n",
      "  3.0990942   7.9420156   7.4850397   2.6587956   3.1370058   3.0018857\n",
      "  3.0431893   8.473747   12.890412    6.2928586   2.950788    2.0685163\n",
      "  3.5749972   2.7145016   3.7151535   2.8445227   2.7208447   2.6410034\n",
      "  3.0769656   3.020984    2.627672    3.830311    2.1106603   2.4469502\n",
      "  3.0756798   3.1583207   2.2654803   3.0574481   9.195288    2.7695374\n",
      "  2.6519392   3.3854191   7.7011514   2.348247    2.735548    2.3531861\n",
      "  3.0188673   3.044509    0.97672     3.1259224   3.3916798   3.5487714\n",
      "  3.021562    2.7420337   3.2638116   2.6215458 ]\n"
     ]
    }
   ],
   "source": [
    "print(test_prediction)"
   ]
  },
  {
   "cell_type": "code",
   "execution_count": 72,
   "id": "d6a92fde",
   "metadata": {},
   "outputs": [],
   "source": [
    "Y_test = list(Y_test)"
   ]
  },
  {
   "cell_type": "code",
   "execution_count": 73,
   "id": "d9669083",
   "metadata": {},
   "outputs": [
    {
     "data": {
      "image/png": "[encoded data removed]",
      "text/plain": [
       "<Figure size 640x480 with 1 Axes>"
      ]
     },
     "metadata": {},
     "output_type": "display_data"
    }
   ],
   "source": [
    "plt.plot(Y_test, color='blue', label = 'Actual Value')\n",
    "plt.plot(test_prediction, color='green', label='Predicted Value')\n",
    "plt.title('Actual vs Predicted')\n",
    "plt.xlabel('Number of values')\n",
    "plt.ylabel('Session Length')\n",
    "plt.legend()\n",
    "plt.show()"
   ]
  },
  {
   "cell_type": "code",
   "execution_count": 74,
   "id": "8022a776",
   "metadata": {},
   "outputs": [],
   "source": [
    "#Training Scores\n",
    "training_data_prediction = xb_model.predict(X_train)"
   ]
  },
  {
   "cell_type": "code",
   "execution_count": 75,
   "id": "b2837d47",
   "metadata": {},
   "outputs": [
    {
     "data": {
      "text/plain": [
       "0.05740420568593387"
      ]
     },
     "execution_count": 75,
     "metadata": {},
     "output_type": "execute_result"
    }
   ],
   "source": [
    "mean_absolute_error(Y_train, training_data_prediction)"
   ]
  },
  {
   "cell_type": "code",
   "execution_count": 76,
   "id": "d3ea834c",
   "metadata": {},
   "outputs": [
    {
     "data": {
      "text/plain": [
       "0.07754626861957774"
      ]
     },
     "execution_count": 76,
     "metadata": {},
     "output_type": "execute_result"
    }
   ],
   "source": [
    "sqrt(mean_squared_error(Y_train, training_data_prediction))"
   ]
  },
  {
   "cell_type": "code",
   "execution_count": 77,
   "id": "9b96c799",
   "metadata": {},
   "outputs": [
    {
     "name": "stdout",
     "output_type": "stream",
     "text": [
      "R squared error :  0.9988022162901802\n"
     ]
    }
   ],
   "source": [
    "# R squared error\n",
    "error_score = metrics.r2_score(Y_train, training_data_prediction)\n",
    "print(\"R squared error : \", error_score)"
   ]
  },
  {
   "cell_type": "code",
   "execution_count": 78,
   "id": "c80a00e0",
   "metadata": {},
   "outputs": [
    {
     "name": "stdout",
     "output_type": "stream",
     "text": [
      "SMAPE score:  3.577281360784739\n"
     ]
    }
   ],
   "source": [
    "smape_score = smape(Y_train, training_data_prediction)\n",
    "print(\"SMAPE score: \", smape_score)\n"
   ]
  },
  {
   "cell_type": "code",
   "execution_count": 79,
   "id": "e5686bdd",
   "metadata": {},
   "outputs": [],
   "source": [
    "#Test Scores"
   ]
  },
  {
   "cell_type": "code",
   "execution_count": 80,
   "id": "20eee23d",
   "metadata": {},
   "outputs": [
    {
     "data": {
      "text/plain": [
       "0.7335786200721726"
      ]
     },
     "execution_count": 80,
     "metadata": {},
     "output_type": "execute_result"
    }
   ],
   "source": [
    "mean_absolute_error(Y_test, test_prediction)"
   ]
  },
  {
   "cell_type": "code",
   "execution_count": 81,
   "id": "80f41965",
   "metadata": {},
   "outputs": [],
   "source": [
    "rms = sqrt(mean_squared_error(Y_test, test_prediction))"
   ]
  },
  {
   "cell_type": "code",
   "execution_count": 82,
   "id": "5bbf4b33",
   "metadata": {},
   "outputs": [
    {
     "name": "stdout",
     "output_type": "stream",
     "text": [
      "1.1369372610982909\n"
     ]
    }
   ],
   "source": [
    "print(rms)"
   ]
  },
  {
   "cell_type": "code",
   "execution_count": 83,
   "id": "420fe4f1",
   "metadata": {},
   "outputs": [
    {
     "name": "stdout",
     "output_type": "stream",
     "text": [
      "R squared error :  0.7403148050498843\n"
     ]
    }
   ],
   "source": [
    "# R squared error\n",
    "error_score = metrics.r2_score(Y_test, test_prediction)\n",
    "print(\"R squared error : \", error_score)"
   ]
  },
  {
   "cell_type": "code",
   "execution_count": 84,
   "id": "b6439721",
   "metadata": {},
   "outputs": [
    {
     "name": "stdout",
     "output_type": "stream",
     "text": [
      "SMAPE score:  27.47948400058719\n"
     ]
    }
   ],
   "source": [
    "smape_score = smape(Y_test, test_prediction)\n",
    "print(\"SMAPE score: \", smape_score)"
   ]
  },
  {
   "cell_type": "code",
   "execution_count": 85,
   "id": "1a86269e",
   "metadata": {},
   "outputs": [
    {
     "data": {
      "image/png": "[encoded data removed]",
      "text/plain": [
       "<Figure size 640x480 with 1 Axes>"
      ]
     },
     "metadata": {},
     "output_type": "display_data"
    }
   ],
   "source": [
    "#Visualising\n",
    "sns.regplot(x=Y_test, y=test_prediction)\n",
    "plt.xlabel(\"Actual\")\n",
    "plt.ylabel('Predicted')\n",
    "plt.title(\"ACtual vs predicted\")\n",
    "plt.show()"
   ]
  },
  {
   "cell_type": "markdown",
   "id": "f3dc4b89",
   "metadata": {},
   "source": [
    "#ANN"
   ]
  },
  {
   "cell_type": "code",
   "execution_count": 86,
   "id": "e4fc1264",
   "metadata": {},
   "outputs": [],
   "source": [
    "X_train, X_test, Y_train, Y_test = train_test_split(X, Y, test_size = 0.2, random_state=2)"
   ]
  },
  {
   "cell_type": "code",
   "execution_count": 90,
   "id": "a21b54f5",
   "metadata": {},
   "outputs": [],
   "source": [
    "# layers\n",
    "model=Sequential()\n",
    "model.add(Dense(units = 13, kernel_initializer = 'uniform', activation = 'relu', input_dim = 13))\n",
    "#model.add(Dense(units = 64, kernel_initializer = 'uniform', activation = 'relu'))\n",
    "model.add(Dense(units = 32, kernel_initializer = 'uniform', activation = 'relu'))\n",
    "model.add(Dense(units = 16, kernel_initializer = 'uniform', activation = 'relu'))\n",
    "model.add(Dense(units = 1, kernel_initializer = 'uniform', activation = 'linear'))"
   ]
  },
  {
   "cell_type": "code",
   "execution_count": 91,
   "id": "d87da162",
   "metadata": {},
   "outputs": [],
   "source": [
    "# Compile the model\n",
    "model.compile(loss='mean_absolute_error',optimizer='adam')"
   ]
  },
  {
   "cell_type": "code",
   "execution_count": 92,
   "id": "e445c837",
   "metadata": {},
   "outputs": [
    {
     "data": {
      "text/plain": [
       "<keras.callbacks.History at 0x10dbdd56450>"
      ]
     },
     "execution_count": 92,
     "metadata": {},
     "output_type": "execute_result"
    }
   ],
   "source": [
    "# Train the model on the training dataset\n",
    "model.fit(X_train, Y_train, epochs=1000, verbose=0)"
   ]
  },
  {
   "cell_type": "code",
   "execution_count": 93,
   "id": "adc9127d",
   "metadata": {},
   "outputs": [
    {
     "name": "stdout",
     "output_type": "stream",
     "text": [
      "8/8 [==============================] - 0s 1ms/step\n"
     ]
    }
   ],
   "source": [
    "# Use the trained model to make predictions on the test dataset\n",
    "Y_pred = model.predict(X_test)"
   ]
  },
  {
   "cell_type": "code",
   "execution_count": 94,
   "id": "4c087926",
   "metadata": {},
   "outputs": [
    {
     "name": "stdout",
     "output_type": "stream",
     "text": [
      "[[ 2.12172   ]\n",
      " [ 2.7295494 ]\n",
      " [ 3.3374364 ]\n",
      " [ 2.819197  ]\n",
      " [ 1.4692794 ]\n",
      " [ 3.8249025 ]\n",
      " [ 2.7970912 ]\n",
      " [ 0.9272638 ]\n",
      " [ 2.8076131 ]\n",
      " [ 6.76171   ]\n",
      " [ 3.132901  ]\n",
      " [ 2.180321  ]\n",
      " [ 3.2754724 ]\n",
      " [ 2.7091455 ]\n",
      " [ 2.7940638 ]\n",
      " [ 2.4338582 ]\n",
      " [ 2.8681402 ]\n",
      " [ 0.94826823]\n",
      " [ 0.7378955 ]\n",
      " [ 2.8503382 ]\n",
      " [ 3.2532122 ]\n",
      " [ 5.964488  ]\n",
      " [ 2.9883115 ]\n",
      " [ 4.7276316 ]\n",
      " [ 2.2505248 ]\n",
      " [ 3.1115072 ]\n",
      " [ 3.0562475 ]\n",
      " [ 3.0193021 ]\n",
      " [ 2.968717  ]\n",
      " [ 2.1557057 ]\n",
      " [ 2.7655551 ]\n",
      " [ 2.3530872 ]\n",
      " [ 2.559049  ]\n",
      " [ 0.22638592]\n",
      " [ 3.614055  ]\n",
      " [ 3.0725157 ]\n",
      " [ 2.9065077 ]\n",
      " [ 2.2603571 ]\n",
      " [ 4.123603  ]\n",
      " [ 6.896428  ]\n",
      " [ 2.9713237 ]\n",
      " [ 3.011774  ]\n",
      " [ 3.6400816 ]\n",
      " [ 8.580431  ]\n",
      " [ 2.134258  ]\n",
      " [ 6.9759307 ]\n",
      " [ 2.5374005 ]\n",
      " [ 3.3205295 ]\n",
      " [ 9.05739   ]\n",
      " [ 3.3230712 ]\n",
      " [ 0.15412639]\n",
      " [ 5.4465227 ]\n",
      " [ 5.515082  ]\n",
      " [ 1.9939473 ]\n",
      " [ 2.1204371 ]\n",
      " [ 1.95558   ]\n",
      " [ 2.8713717 ]\n",
      " [ 3.4223883 ]\n",
      " [ 2.148247  ]\n",
      " [ 3.0760746 ]\n",
      " [ 3.4789839 ]\n",
      " [ 2.0357554 ]\n",
      " [ 2.7917936 ]\n",
      " [ 5.1288137 ]\n",
      " [ 2.871681  ]\n",
      " [ 6.930211  ]\n",
      " [ 2.7091439 ]\n",
      " [ 2.7986815 ]\n",
      " [ 2.0443006 ]\n",
      " [ 8.62541   ]\n",
      " [ 3.7753677 ]\n",
      " [ 4.0793157 ]\n",
      " [ 3.666787  ]\n",
      " [ 3.482626  ]\n",
      " [ 2.6018393 ]\n",
      " [ 1.3102697 ]\n",
      " [ 4.7324734 ]\n",
      " [ 8.601548  ]\n",
      " [ 0.15412639]\n",
      " [ 8.9826355 ]\n",
      " [ 2.0225418 ]\n",
      " [ 3.210498  ]\n",
      " [ 2.774837  ]\n",
      " [ 3.0095153 ]\n",
      " [ 2.8527727 ]\n",
      " [ 8.31301   ]\n",
      " [ 0.7415399 ]\n",
      " [ 2.9873683 ]\n",
      " [ 6.060895  ]\n",
      " [ 1.7212288 ]\n",
      " [ 3.0332372 ]\n",
      " [ 3.1743953 ]\n",
      " [ 2.7804325 ]\n",
      " [ 1.2068274 ]\n",
      " [ 2.6570783 ]\n",
      " [ 3.2811286 ]\n",
      " [ 6.922833  ]\n",
      " [ 2.7884216 ]\n",
      " [ 7.414154  ]\n",
      " [ 5.0833044 ]\n",
      " [ 3.2674053 ]\n",
      " [ 2.7976732 ]\n",
      " [ 3.2521152 ]\n",
      " [ 0.33777755]\n",
      " [ 8.261147  ]\n",
      " [ 0.31868708]\n",
      " [ 0.15412639]\n",
      " [ 0.2689352 ]\n",
      " [ 2.6040616 ]\n",
      " [ 1.9906981 ]\n",
      " [ 2.5406091 ]\n",
      " [ 1.947919  ]\n",
      " [ 7.562067  ]\n",
      " [ 4.5538697 ]\n",
      " [ 4.62851   ]\n",
      " [ 3.7870972 ]\n",
      " [ 3.5741177 ]\n",
      " [ 2.49809   ]\n",
      " [ 2.6196582 ]\n",
      " [ 0.75813925]\n",
      " [ 5.861709  ]\n",
      " [ 4.4285455 ]\n",
      " [ 2.5779395 ]\n",
      " [ 0.49722344]\n",
      " [ 1.9553146 ]\n",
      " [ 2.260625  ]\n",
      " [ 3.6087031 ]\n",
      " [ 0.3026359 ]\n",
      " [ 2.4086282 ]\n",
      " [ 0.5902078 ]\n",
      " [ 2.8582985 ]\n",
      " [ 2.9020228 ]\n",
      " [ 2.7458174 ]\n",
      " [ 3.7796326 ]\n",
      " [ 3.2569745 ]\n",
      " [ 2.4413316 ]\n",
      " [ 3.5143955 ]\n",
      " [ 5.9814734 ]\n",
      " [ 2.5986102 ]\n",
      " [ 2.5741873 ]\n",
      " [ 0.50803983]\n",
      " [ 3.4841454 ]\n",
      " [ 0.15412639]\n",
      " [ 8.4499445 ]\n",
      " [ 2.7088363 ]\n",
      " [ 3.5576184 ]\n",
      " [ 2.8295457 ]\n",
      " [ 2.9513676 ]\n",
      " [ 2.0844252 ]\n",
      " [ 3.2938561 ]\n",
      " [ 8.830298  ]\n",
      " [ 8.735165  ]\n",
      " [ 2.761057  ]\n",
      " [ 3.308718  ]\n",
      " [ 2.470548  ]\n",
      " [ 6.143341  ]\n",
      " [ 5.2427206 ]\n",
      " [ 2.701769  ]\n",
      " [ 2.313433  ]\n",
      " [ 2.906322  ]\n",
      " [ 2.7973363 ]\n",
      " [ 3.1456764 ]\n",
      " [ 3.38124   ]\n",
      " [ 2.6868012 ]\n",
      " [ 2.6588643 ]\n",
      " [ 2.7096748 ]\n",
      " [ 5.420459  ]\n",
      " [ 2.887406  ]\n",
      " [ 2.9680688 ]\n",
      " [ 3.4639091 ]\n",
      " [ 6.3940125 ]\n",
      " [ 5.151662  ]\n",
      " [ 4.9257975 ]\n",
      " [ 2.3181255 ]\n",
      " [ 3.0349019 ]\n",
      " [ 3.6911047 ]\n",
      " [ 2.9547176 ]\n",
      " [ 7.8708057 ]\n",
      " [ 3.5508535 ]\n",
      " [ 3.663678  ]\n",
      " [ 1.6242819 ]\n",
      " [ 3.064567  ]\n",
      " [ 0.15412639]\n",
      " [ 5.1151547 ]\n",
      " [ 3.3923876 ]\n",
      " [ 9.082767  ]\n",
      " [ 3.1105936 ]\n",
      " [ 1.863194  ]\n",
      " [ 2.4862082 ]\n",
      " [ 2.4176552 ]\n",
      " [ 6.680269  ]\n",
      " [ 3.1064584 ]\n",
      " [ 2.8558385 ]\n",
      " [ 5.0808296 ]\n",
      " [ 8.609849  ]\n",
      " [ 2.474324  ]\n",
      " [ 2.5886762 ]\n",
      " [ 2.2765684 ]\n",
      " [ 2.9214966 ]\n",
      " [ 9.291046  ]\n",
      " [14.205236  ]\n",
      " [ 0.15412639]\n",
      " [ 1.4337418 ]\n",
      " [ 2.4181285 ]\n",
      " [ 2.003403  ]\n",
      " [ 2.7502668 ]\n",
      " [ 4.563169  ]\n",
      " [ 3.2762845 ]\n",
      " [ 2.754083  ]\n",
      " [ 2.9601038 ]\n",
      " [ 2.2530081 ]\n",
      " [ 2.7956946 ]\n",
      " [ 4.0063543 ]\n",
      " [ 3.732956  ]\n",
      " [ 2.358079  ]\n",
      " [ 0.15412639]\n",
      " [ 2.8878934 ]\n",
      " [ 3.6035903 ]\n",
      " [ 2.4008474 ]\n",
      " [ 2.8759227 ]\n",
      " [10.18045   ]\n",
      " [ 2.7076693 ]\n",
      " [ 2.8467808 ]\n",
      " [ 3.4763591 ]\n",
      " [ 4.5334544 ]\n",
      " [ 2.8162806 ]\n",
      " [ 2.9875534 ]\n",
      " [ 3.3231432 ]\n",
      " [ 2.8845286 ]\n",
      " [ 2.8090403 ]\n",
      " [ 5.2423105 ]\n",
      " [ 2.4000142 ]\n",
      " [ 1.6838086 ]\n",
      " [ 2.08908   ]\n",
      " [ 2.4520888 ]\n",
      " [ 3.6590812 ]\n",
      " [ 2.7655709 ]\n",
      " [ 2.791221  ]]\n"
     ]
    }
   ],
   "source": [
    "print(Y_pred)"
   ]
  },
  {
   "cell_type": "code",
   "execution_count": 95,
   "id": "82bf2ad5",
   "metadata": {},
   "outputs": [
    {
     "name": "stdout",
     "output_type": "stream",
     "text": [
      "30/30 [==============================] - 0s 1ms/step\n"
     ]
    }
   ],
   "source": [
    "#Training Scores\n",
    "training_data_prediction = model.predict(X_train)"
   ]
  },
  {
   "cell_type": "code",
   "execution_count": 96,
   "id": "7d04a435",
   "metadata": {},
   "outputs": [
    {
     "data": {
      "text/plain": [
       "0.6068521328923829"
      ]
     },
     "execution_count": 96,
     "metadata": {},
     "output_type": "execute_result"
    }
   ],
   "source": [
    "mean_absolute_error(Y_train, training_data_prediction)"
   ]
  },
  {
   "cell_type": "code",
   "execution_count": 97,
   "id": "546a7d0d",
   "metadata": {},
   "outputs": [
    {
     "data": {
      "text/plain": [
       "1.0247603159723047"
      ]
     },
     "execution_count": 97,
     "metadata": {},
     "output_type": "execute_result"
    }
   ],
   "source": [
    "sqrt(mean_squared_error(Y_train, training_data_prediction))"
   ]
  },
  {
   "cell_type": "code",
   "execution_count": 98,
   "id": "45cb0bd7",
   "metadata": {},
   "outputs": [
    {
     "name": "stdout",
     "output_type": "stream",
     "text": [
      "R squared error :  0.7908291362967141\n"
     ]
    }
   ],
   "source": [
    "# R squared error\n",
    "error_score = metrics.r2_score(Y_train, training_data_prediction)\n",
    "print(\"R squared error : \", error_score)"
   ]
  },
  {
   "cell_type": "code",
   "execution_count": 99,
   "id": "9e369a74",
   "metadata": {},
   "outputs": [
    {
     "data": {
      "text/plain": [
       "1.0178716216342791"
      ]
     },
     "execution_count": 99,
     "metadata": {},
     "output_type": "execute_result"
    }
   ],
   "source": [
    "mean_absolute_error(Y_test, Y_pred)"
   ]
  },
  {
   "cell_type": "code",
   "execution_count": 100,
   "id": "71cf80b4",
   "metadata": {},
   "outputs": [],
   "source": [
    "rms = sqrt(mean_squared_error(Y_test, Y_pred))"
   ]
  },
  {
   "cell_type": "code",
   "execution_count": 101,
   "id": "261acf32",
   "metadata": {},
   "outputs": [
    {
     "name": "stdout",
     "output_type": "stream",
     "text": [
      "1.6264878891218735\n"
     ]
    }
   ],
   "source": [
    "print(rms)"
   ]
  },
  {
   "cell_type": "code",
   "execution_count": 102,
   "id": "174ab4fd",
   "metadata": {},
   "outputs": [
    {
     "name": "stdout",
     "output_type": "stream",
     "text": [
      "R squared error :  0.4685335445559815\n"
     ]
    }
   ],
   "source": [
    "# R squared error\n",
    "error_score = metrics.r2_score(Y_test, Y_pred)\n",
    "print(\"R squared error : \", error_score)"
   ]
  },
  {
   "cell_type": "code",
   "execution_count": 103,
   "id": "fcb85731",
   "metadata": {},
   "outputs": [],
   "source": [
    "def smape(actual, predicted):\n",
    "    \"\"\"\n",
    "    Calculate SMAPE (Symmetric Mean Absolute Percentage Error) for actual and predicted values.\n",
    "    \"\"\"\n",
    "    actual = np.array(actual)\n",
    "    predicted = np.array(predicted)\n",
    "    return np.mean((np.abs(actual - predicted) / (np.abs(actual) + np.abs(predicted))) * 2) * 100"
   ]
  },
  {
   "cell_type": "code",
   "execution_count": 104,
   "id": "634b1ea2",
   "metadata": {},
   "outputs": [
    {
     "name": "stdout",
     "output_type": "stream",
     "text": [
      "SMAPE score: 31.905610173316283\n"
     ]
    }
   ],
   "source": [
    "smape_score = smape(Y_test, y_pred)\n",
    "print(\"SMAPE score:\", smape_score)"
   ]
  },
  {
   "cell_type": "code",
   "execution_count": 105,
   "id": "8d77ded2",
   "metadata": {},
   "outputs": [
    {
     "data": {
      "image/png": "[encoded data removed]",
      "text/plain": [
       "<Figure size 640x480 with 1 Axes>"
      ]
     },
     "metadata": {},
     "output_type": "display_data"
    }
   ],
   "source": [
    "#Visualising\n",
    "sns.regplot(x=Y_test, y=Y_pred)\n",
    "plt.xlabel(\"Actual\")\n",
    "plt.ylabel('Predicted')\n",
    "plt.title(\"ACtual vs predicted\")\n",
    "plt.show()"
   ]
  },
  {
   "cell_type": "markdown",
   "id": "3c846ac2",
   "metadata": {},
   "source": [
    "#KNN"
   ]
  },
  {
   "cell_type": "code",
   "execution_count": 106,
   "id": "d3b0c47a",
   "metadata": {},
   "outputs": [],
   "source": [
    "from sklearn.neighbors import KNeighborsRegressor"
   ]
  },
  {
   "cell_type": "code",
   "execution_count": 107,
   "id": "9c779563",
   "metadata": {},
   "outputs": [],
   "source": [
    "k = 6\n",
    "knn = KNeighborsRegressor(n_neighbors=k)\n",
    "knn.fit(X_train, Y_train)\n",
    "knn_pred = knn.predict(X_test)"
   ]
  },
  {
   "cell_type": "code",
   "execution_count": 108,
   "id": "283a64eb",
   "metadata": {},
   "outputs": [],
   "source": [
    "#Train Scores\n",
    "training_data_prediction = knn.predict(X_train)"
   ]
  },
  {
   "cell_type": "code",
   "execution_count": 109,
   "id": "3dabe5f7",
   "metadata": {},
   "outputs": [
    {
     "data": {
      "text/plain": [
       "0.8077392218717141"
      ]
     },
     "execution_count": 109,
     "metadata": {},
     "output_type": "execute_result"
    }
   ],
   "source": [
    "mean_absolute_error(Y_train, training_data_prediction)"
   ]
  },
  {
   "cell_type": "code",
   "execution_count": 110,
   "id": "1288f0dc",
   "metadata": {},
   "outputs": [
    {
     "data": {
      "text/plain": [
       "1.1809944822276799"
      ]
     },
     "execution_count": 110,
     "metadata": {},
     "output_type": "execute_result"
    }
   ],
   "source": [
    "sqrt(mean_squared_error(Y_train, training_data_prediction))"
   ]
  },
  {
   "cell_type": "code",
   "execution_count": 111,
   "id": "ca14c2fd",
   "metadata": {},
   "outputs": [
    {
     "name": "stdout",
     "output_type": "stream",
     "text": [
      "R squared error :  0.7221871505748203\n"
     ]
    }
   ],
   "source": [
    "# R squared error\n",
    "error_score = metrics.r2_score(Y_train, training_data_prediction)\n",
    "print(\"R squared error : \", error_score)"
   ]
  },
  {
   "cell_type": "code",
   "execution_count": 112,
   "id": "480401bb",
   "metadata": {},
   "outputs": [
    {
     "name": "stdout",
     "output_type": "stream",
     "text": [
      "SMAPE score: 29.692000828366403\n"
     ]
    }
   ],
   "source": [
    "smape_score = smape(Y_train, training_data_prediction)\n",
    "print(\"SMAPE score:\", smape_score)"
   ]
  },
  {
   "cell_type": "code",
   "execution_count": 113,
   "id": "7de14caf",
   "metadata": {},
   "outputs": [
    {
     "data": {
      "text/plain": [
       "0.9170868347338935"
      ]
     },
     "execution_count": 113,
     "metadata": {},
     "output_type": "execute_result"
    }
   ],
   "source": [
    "#test Scores\n",
    "mean_absolute_error(Y_test, knn_pred)"
   ]
  },
  {
   "cell_type": "code",
   "execution_count": 114,
   "id": "44f83e3b",
   "metadata": {},
   "outputs": [
    {
     "data": {
      "text/plain": [
       "1.2712035530902812"
      ]
     },
     "execution_count": 114,
     "metadata": {},
     "output_type": "execute_result"
    }
   ],
   "source": [
    "sqrt(mean_squared_error(Y_test, knn_pred))"
   ]
  },
  {
   "cell_type": "code",
   "execution_count": 115,
   "id": "51e6b44e",
   "metadata": {},
   "outputs": [
    {
     "name": "stdout",
     "output_type": "stream",
     "text": [
      "R squared error :  0.6753582380211214\n"
     ]
    }
   ],
   "source": [
    "# R squared error\n",
    "error_score = metrics.r2_score(Y_test, knn_pred)\n",
    "print(\"R squared error : \", error_score)"
   ]
  },
  {
   "cell_type": "code",
   "execution_count": 116,
   "id": "cb401efd",
   "metadata": {},
   "outputs": [
    {
     "name": "stdout",
     "output_type": "stream",
     "text": [
      "SMAPE score: 31.840766832286484\n"
     ]
    }
   ],
   "source": [
    "smape_score = smape(Y_test, knn_pred)\n",
    "print(\"SMAPE score:\", smape_score)"
   ]
  },
  {
   "cell_type": "code",
   "execution_count": 117,
   "id": "2e390666",
   "metadata": {},
   "outputs": [],
   "source": [
    "from sklearn.ensemble import AdaBoostRegressor"
   ]
  },
  {
   "cell_type": "code",
   "execution_count": 118,
   "id": "b3a0187e",
   "metadata": {},
   "outputs": [],
   "source": [
    "k = 5\n",
    "knn = KNeighborsRegressor(n_neighbors=k)\n",
    "adaboost = AdaBoostRegressor(estimator=knn, n_estimators=50, learning_rate=0.1)\n",
    "adaboost.fit(X_train, Y_train)\n",
    "ada_pred = adaboost.predict(X_test)"
   ]
  },
  {
   "cell_type": "code",
   "execution_count": 119,
   "id": "0b1e7d13",
   "metadata": {},
   "outputs": [],
   "source": [
    "#Train Scores\n",
    "training_data_prediction = adaboost.predict(X_train)"
   ]
  },
  {
   "cell_type": "code",
   "execution_count": 120,
   "id": "dfc53a00",
   "metadata": {},
   "outputs": [
    {
     "data": {
      "text/plain": [
       "0.6594426919032598"
      ]
     },
     "execution_count": 120,
     "metadata": {},
     "output_type": "execute_result"
    }
   ],
   "source": [
    "mean_absolute_error(Y_train, training_data_prediction)"
   ]
  },
  {
   "cell_type": "code",
   "execution_count": 121,
   "id": "24b5a705",
   "metadata": {},
   "outputs": [
    {
     "data": {
      "text/plain": [
       "0.8532546041823388"
      ]
     },
     "execution_count": 121,
     "metadata": {},
     "output_type": "execute_result"
    }
   ],
   "source": [
    "sqrt(mean_squared_error(Y_train, training_data_prediction))"
   ]
  },
  {
   "cell_type": "code",
   "execution_count": 122,
   "id": "25a80795",
   "metadata": {},
   "outputs": [
    {
     "name": "stdout",
     "output_type": "stream",
     "text": [
      "R squared error :  0.854984684207691\n"
     ]
    }
   ],
   "source": [
    "# R squared error\n",
    "error_score = metrics.r2_score(Y_train, training_data_prediction)\n",
    "print(\"R squared error : \", error_score)"
   ]
  },
  {
   "cell_type": "code",
   "execution_count": 123,
   "id": "7388bed0",
   "metadata": {},
   "outputs": [
    {
     "name": "stdout",
     "output_type": "stream",
     "text": [
      "SMAPE score: 25.995860092008886\n"
     ]
    }
   ],
   "source": [
    "smape_score = smape(Y_train, training_data_prediction)\n",
    "print(\"SMAPE score:\", smape_score)"
   ]
  },
  {
   "cell_type": "code",
   "execution_count": 124,
   "id": "e28331c5",
   "metadata": {},
   "outputs": [
    {
     "data": {
      "text/plain": [
       "0.9037226890756304"
      ]
     },
     "execution_count": 124,
     "metadata": {},
     "output_type": "execute_result"
    }
   ],
   "source": [
    "#Test Scores\n",
    "mean_absolute_error(Y_test, ada_pred)"
   ]
  },
  {
   "cell_type": "code",
   "execution_count": 125,
   "id": "8efa12d5",
   "metadata": {},
   "outputs": [
    {
     "data": {
      "text/plain": [
       "1.3302414072944324"
      ]
     },
     "execution_count": 125,
     "metadata": {},
     "output_type": "execute_result"
    }
   ],
   "source": [
    "sqrt(mean_squared_error(Y_test, ada_pred))"
   ]
  },
  {
   "cell_type": "code",
   "execution_count": 126,
   "id": "1aa2be3f",
   "metadata": {},
   "outputs": [
    {
     "name": "stdout",
     "output_type": "stream",
     "text": [
      "R squared error :  0.644503675243155\n"
     ]
    }
   ],
   "source": [
    "# R squared error\n",
    "error_score = metrics.r2_score(Y_test, ada_pred)\n",
    "print(\"R squared error : \", error_score)"
   ]
  },
  {
   "cell_type": "code",
   "execution_count": 127,
   "id": "25b19073",
   "metadata": {},
   "outputs": [
    {
     "name": "stdout",
     "output_type": "stream",
     "text": [
      "SMAPE score: 31.295359948863748\n"
     ]
    }
   ],
   "source": [
    "smape_score = smape(Y_test, ada_pred)\n",
    "print(\"SMAPE score:\", smape_score)"
   ]
  },
  {
   "cell_type": "code",
   "execution_count": 128,
   "id": "470470c9",
   "metadata": {},
   "outputs": [
    {
     "data": {
      "image/png": "[encoded data removed]",
      "text/plain": [
       "<Figure size 640x480 with 1 Axes>"
      ]
     },
     "metadata": {},
     "output_type": "display_data"
    }
   ],
   "source": [
    "#Visualising\n",
    "sns.regplot(x=Y_test, y=ada_pred)\n",
    "plt.xlabel(\"Actual\")\n",
    "plt.ylabel('Predicted')\n",
    "plt.title(\"ACtual vs predicted\")\n",
    "plt.show()"
   ]
  },
  {
   "cell_type": "markdown",
   "id": "def1e20e",
   "metadata": {},
   "source": [
    "# Ensemble Learning"
   ]
  },
  {
   "cell_type": "code",
   "execution_count": 129,
   "id": "b39a9400",
   "metadata": {
    "scrolled": true
   },
   "outputs": [
    {
     "data": {
      "text/html": [
       "<style>#sk-container-id-6 {color: black;background-color: white;}#sk-container-id-6 pre{padding: 0;}#sk-container-id-6 div.sk-toggleable {background-color: white;}#sk-container-id-6 label.sk-toggleable__label {cursor: pointer;display: block;width: 100%;margin-bottom: 0;padding: 0.3em;box-sizing: border-box;text-align: center;}#sk-container-id-6 label.sk-toggleable__label-arrow:before {content: \"▸\";float: left;margin-right: 0.25em;color: #696969;}#sk-container-id-6 label.sk-toggleable__label-arrow:hover:before {color: black;}#sk-container-id-6 div.sk-estimator:hover label.sk-toggleable__label-arrow:before {color: black;}#sk-container-id-6 div.sk-toggleable__content {max-height: 0;max-width: 0;overflow: hidden;text-align: left;background-color: #f0f8ff;}#sk-container-id-6 div.sk-toggleable__content pre {margin: 0.2em;color: black;border-radius: 0.25em;background-color: #f0f8ff;}#sk-container-id-6 input.sk-toggleable__control:checked~div.sk-toggleable__content {max-height: 200px;max-width: 100%;overflow: auto;}#sk-container-id-6 input.sk-toggleable__control:checked~label.sk-toggleable__label-arrow:before {content: \"▾\";}#sk-container-id-6 div.sk-estimator input.sk-toggleable__control:checked~label.sk-toggleable__label {background-color: #d4ebff;}#sk-container-id-6 div.sk-label input.sk-toggleable__control:checked~label.sk-toggleable__label {background-color: #d4ebff;}#sk-container-id-6 input.sk-hidden--visually {border: 0;clip: rect(1px 1px 1px 1px);clip: rect(1px, 1px, 1px, 1px);height: 1px;margin: -1px;overflow: hidden;padding: 0;position: absolute;width: 1px;}#sk-container-id-6 div.sk-estimator {font-family: monospace;background-color: #f0f8ff;border: 1px dotted black;border-radius: 0.25em;box-sizing: border-box;margin-bottom: 0.5em;}#sk-container-id-6 div.sk-estimator:hover {background-color: #d4ebff;}#sk-container-id-6 div.sk-parallel-item::after {content: \"\";width: 100%;border-bottom: 1px solid gray;flex-grow: 1;}#sk-container-id-6 div.sk-label:hover label.sk-toggleable__label {background-color: #d4ebff;}#sk-container-id-6 div.sk-serial::before {content: \"\";position: absolute;border-left: 1px solid gray;box-sizing: border-box;top: 0;bottom: 0;left: 50%;z-index: 0;}#sk-container-id-6 div.sk-serial {display: flex;flex-direction: column;align-items: center;background-color: white;padding-right: 0.2em;padding-left: 0.2em;position: relative;}#sk-container-id-6 div.sk-item {position: relative;z-index: 1;}#sk-container-id-6 div.sk-parallel {display: flex;align-items: stretch;justify-content: center;background-color: white;position: relative;}#sk-container-id-6 div.sk-item::before, #sk-container-id-6 div.sk-parallel-item::before {content: \"\";position: absolute;border-left: 1px solid gray;box-sizing: border-box;top: 0;bottom: 0;left: 50%;z-index: -1;}#sk-container-id-6 div.sk-parallel-item {display: flex;flex-direction: column;z-index: 1;position: relative;background-color: white;}#sk-container-id-6 div.sk-parallel-item:first-child::after {align-self: flex-end;width: 50%;}#sk-container-id-6 div.sk-parallel-item:last-child::after {align-self: flex-start;width: 50%;}#sk-container-id-6 div.sk-parallel-item:only-child::after {width: 0;}#sk-container-id-6 div.sk-dashed-wrapped {border: 1px dashed gray;margin: 0 0.4em 0.5em 0.4em;box-sizing: border-box;padding-bottom: 0.4em;background-color: white;}#sk-container-id-6 div.sk-label label {font-family: monospace;font-weight: bold;display: inline-block;line-height: 1.2em;}#sk-container-id-6 div.sk-label-container {text-align: center;}#sk-container-id-6 div.sk-container {/* jupyter's `normalize.less` sets `[hidden] { display: none; }` but bootstrap.min.css set `[hidden] { display: none !important; }` so we also need the `!important` here to be able to override the default hidden behavior on the sphinx rendered scikit-learn.org. See: https://github.com/scikit-learn/scikit-learn/issues/21755 */display: inline-block !important;position: relative;}#sk-container-id-6 div.sk-text-repr-fallback {display: none;}</style><div id=\"sk-container-id-6\" class=\"sk-top-container\"><div class=\"sk-text-repr-fallback\"><pre>StackingRegressor(estimators=[(&#x27;rf&#x27;, RandomForestRegressor()),\n",
       "                              (&#x27;svm&#x27;, SVR(C=10, gamma=0.1))])</pre><b>In a Jupyter environment, please rerun this cell to show the HTML representation or trust the notebook. <br />On GitHub, the HTML representation is unable to render, please try loading this page with nbviewer.org.</b></div><div class=\"sk-container\" hidden><div class=\"sk-item sk-dashed-wrapped\"><div class=\"sk-label-container\"><div class=\"sk-label sk-toggleable\"><input class=\"sk-toggleable__control sk-hidden--visually\" id=\"sk-estimator-id-6\" type=\"checkbox\" ><label for=\"sk-estimator-id-6\" class=\"sk-toggleable__label sk-toggleable__label-arrow\">StackingRegressor</label><div class=\"sk-toggleable__content\"><pre>StackingRegressor(estimators=[(&#x27;rf&#x27;, RandomForestRegressor()),\n",
       "                              (&#x27;svm&#x27;, SVR(C=10, gamma=0.1))])</pre></div></div></div><div class=\"sk-serial\"><div class=\"sk-item\"><div class=\"sk-parallel\"><div class=\"sk-parallel-item\"><div class=\"sk-item\"><div class=\"sk-label-container\"><div class=\"sk-label sk-toggleable\"><label>rf</label></div></div><div class=\"sk-serial\"><div class=\"sk-item\"><div class=\"sk-estimator sk-toggleable\"><input class=\"sk-toggleable__control sk-hidden--visually\" id=\"sk-estimator-id-7\" type=\"checkbox\" ><label for=\"sk-estimator-id-7\" class=\"sk-toggleable__label sk-toggleable__label-arrow\">RandomForestRegressor</label><div class=\"sk-toggleable__content\"><pre>RandomForestRegressor()</pre></div></div></div></div></div></div><div class=\"sk-parallel-item\"><div class=\"sk-item\"><div class=\"sk-label-container\"><div class=\"sk-label sk-toggleable\"><label>svm</label></div></div><div class=\"sk-serial\"><div class=\"sk-item\"><div class=\"sk-estimator sk-toggleable\"><input class=\"sk-toggleable__control sk-hidden--visually\" id=\"sk-estimator-id-8\" type=\"checkbox\" ><label for=\"sk-estimator-id-8\" class=\"sk-toggleable__label sk-toggleable__label-arrow\">SVR</label><div class=\"sk-toggleable__content\"><pre>SVR(C=10, gamma=0.1)</pre></div></div></div></div></div></div></div></div><div class=\"sk-item\"><div class=\"sk-parallel\"><div class=\"sk-parallel-item\"><div class=\"sk-item\"><div class=\"sk-label-container\"><div class=\"sk-label sk-toggleable\"><label>final_estimator</label></div></div><div class=\"sk-serial\"><div class=\"sk-item\"><div class=\"sk-estimator sk-toggleable\"><input class=\"sk-toggleable__control sk-hidden--visually\" id=\"sk-estimator-id-9\" type=\"checkbox\" ><label for=\"sk-estimator-id-9\" class=\"sk-toggleable__label sk-toggleable__label-arrow\">RidgeCV</label><div class=\"sk-toggleable__content\"><pre>RidgeCV()</pre></div></div></div></div></div></div></div></div></div></div></div></div>"
      ],
      "text/plain": [
       "StackingRegressor(estimators=[('rf', RandomForestRegressor()),\n",
       "                              ('svm', SVR(C=10, gamma=0.1))])"
      ]
     },
     "execution_count": 129,
     "metadata": {},
     "output_type": "execute_result"
    }
   ],
   "source": [
    "stack_regressor = StackingRegressor(estimators=[('rf', regressor),('svm',svr)])\n",
    "stack_regressor.fit(X_train, Y_train)"
   ]
  },
  {
   "cell_type": "code",
   "execution_count": 130,
   "id": "e7602ef0",
   "metadata": {},
   "outputs": [],
   "source": [
    "pred=stack_regressor.predict(X_test)"
   ]
  },
  {
   "cell_type": "code",
   "execution_count": 131,
   "id": "174949d6",
   "metadata": {},
   "outputs": [
    {
     "name": "stdout",
     "output_type": "stream",
     "text": [
      "[ 3.3365848   2.82191892  3.14297428  3.03563781  1.73381438  3.34062557\n",
      "  2.57953326  2.22513887  2.76666002  1.1061955   3.11845437  3.76116721\n",
      "  1.77800004  2.35061777  2.77842405  2.51731492  2.67738048  1.81217627\n",
      "  2.1337962   2.69562281  2.54991085  8.43064155  2.6602544   3.38268388\n",
      "  3.03091761  2.65053578  3.04211016  3.215191    2.81625658  2.84079402\n",
      "  3.0272131   3.17721742  3.21304247  1.49613175  2.77847172  2.96105274\n",
      "  2.97841799  2.56090718  2.75664847  8.60180016  3.04093416  3.0534708\n",
      "  3.1526088   8.2167325   3.40276775  7.84846047  2.64398612  3.17986642\n",
      "  8.4230926   2.59362371  1.98219066  4.04296574  2.88372232  1.76393784\n",
      "  1.52493746  3.52332833  2.72256375  3.24091348  2.41386361  2.67235379\n",
      "  2.87164268  1.46994367  2.9239017   2.07308492  2.94269249 10.65608332\n",
      "  2.76382876  2.78454197  2.21675154  8.88911783  1.34332277  4.32438769\n",
      "  4.06770756  2.84244418  2.89385532  2.31277949  2.63092109  8.74564383\n",
      "  1.39465064  8.42500673  2.38664198  2.79457174  3.07118043  3.064065\n",
      "  2.8475105   6.65884995  5.02171374  2.93730831  7.23078164  1.984121\n",
      "  2.8887598   3.06304899  2.94840517  2.01119475  3.37597468  3.6450203\n",
      "  8.24825312  2.76261088  8.62046368  3.5573825   3.21738576  2.91463209\n",
      "  3.01700544  2.67061884  8.52618418  1.56240332  2.23680795  1.7248049\n",
      "  2.76545958  2.46812118  2.96176316  3.3494657   8.95416388  3.05299441\n",
      "  2.83381432  2.41434354  3.59610738  3.27070792  3.12193466  1.78758172\n",
      "  7.33246299  4.23443357  2.59347943  2.31717002  2.90176485  2.45623742\n",
      "  2.52708565  0.78310615  2.97293061  2.96517399  3.05856931  2.93251722\n",
      "  3.28770835  4.39364038  2.79567138  2.51260885  2.23280948  2.87840403\n",
      "  2.99322027  2.74899077  3.26434638  3.45726213  3.24706589  7.88130618\n",
      "  3.1529429   3.09559903  2.62678274  2.83779223  2.76313744  3.2449601\n",
      "  7.52667326  6.20573505  2.84579384  2.24430982  2.80077822  2.81024597\n",
      "  4.56093291  3.01128996  2.73372213  2.74195923  3.3588019   2.84437051\n",
      "  3.1547995   3.10456134  2.77168259  2.71026262  3.74027445  2.98638075\n",
      "  2.81400721  3.23375597  7.82997753  3.79021315  3.48392492  2.96490549\n",
      "  3.15591296  2.33390411  3.18831375  7.54079352  3.17882387  2.79542652\n",
      "  1.82438185  2.0549625   2.08512265  4.85378187  2.86799417  7.65827675\n",
      "  2.49060518  2.35397599  2.56719181  2.499929    8.44519605  3.20464498\n",
      "  2.81910219  8.53762384  7.49601603  2.70001794  3.15083951  2.9287542\n",
      "  3.04307472  8.62632462 12.17978653  5.01482309  3.20587253  2.59994981\n",
      "  3.18555139  2.49131085  3.13823489  3.09819318  2.8570817   2.62242242\n",
      "  2.78624877  2.76270655  2.95541245  3.2522006   1.79696626  2.75195814\n",
      "  3.04821606  3.09943593  2.45793203  2.73853686  8.72383934  2.8339861\n",
      "  2.772977    3.28166454  8.14333965  2.69450767  2.89679878  2.55471905\n",
      "  2.9929906   3.03250763  2.30617483  3.18913562  2.80577308  3.83933997\n",
      "  3.05579613  2.71960918  3.132787    2.64965818]\n"
     ]
    }
   ],
   "source": [
    "print(pred)"
   ]
  },
  {
   "cell_type": "code",
   "execution_count": 132,
   "id": "e0952529",
   "metadata": {},
   "outputs": [],
   "source": [
    "#Train Scores\n",
    "training_data_prediction = stack_regressor.predict(X_train)"
   ]
  },
  {
   "cell_type": "code",
   "execution_count": 133,
   "id": "9aa2e6c1",
   "metadata": {},
   "outputs": [
    {
     "data": {
      "text/plain": [
       "0.29928121595873436"
      ]
     },
     "execution_count": 133,
     "metadata": {},
     "output_type": "execute_result"
    }
   ],
   "source": [
    "mean_absolute_error(Y_train, training_data_prediction)"
   ]
  },
  {
   "cell_type": "code",
   "execution_count": 134,
   "id": "3ac3f1ae",
   "metadata": {},
   "outputs": [
    {
     "data": {
      "text/plain": [
       "0.46488472769313366"
      ]
     },
     "execution_count": 134,
     "metadata": {},
     "output_type": "execute_result"
    }
   ],
   "source": [
    "sqrt(mean_squared_error(Y_train, training_data_prediction))"
   ]
  },
  {
   "cell_type": "code",
   "execution_count": 135,
   "id": "15210031",
   "metadata": {},
   "outputs": [
    {
     "name": "stdout",
     "output_type": "stream",
     "text": [
      "R squared error :  0.9569525777863075\n"
     ]
    }
   ],
   "source": [
    "# R squared error\n",
    "error_score = metrics.r2_score(Y_train, training_data_prediction)\n",
    "print(\"R squared error : \", error_score)"
   ]
  },
  {
   "cell_type": "code",
   "execution_count": 136,
   "id": "371c67b0",
   "metadata": {},
   "outputs": [
    {
     "name": "stdout",
     "output_type": "stream",
     "text": [
      "SMAPE score: 14.630054297217153\n"
     ]
    }
   ],
   "source": [
    "smape_score = smape(Y_train, training_data_prediction)\n",
    "print(\"SMAPE score:\", smape_score)"
   ]
  },
  {
   "cell_type": "code",
   "execution_count": 137,
   "id": "25b4e49e",
   "metadata": {},
   "outputs": [
    {
     "data": {
      "text/plain": [
       "0.750798275500524"
      ]
     },
     "execution_count": 137,
     "metadata": {},
     "output_type": "execute_result"
    }
   ],
   "source": [
    "#Test Scores\n",
    "mean_absolute_error(Y_test, pred)"
   ]
  },
  {
   "cell_type": "code",
   "execution_count": 138,
   "id": "01211516",
   "metadata": {},
   "outputs": [],
   "source": [
    "rms = sqrt(mean_squared_error(Y_test, pred))"
   ]
  },
  {
   "cell_type": "code",
   "execution_count": 139,
   "id": "988c1269",
   "metadata": {},
   "outputs": [
    {
     "name": "stdout",
     "output_type": "stream",
     "text": [
      "1.0664424846945815\n"
     ]
    }
   ],
   "source": [
    "print(rms)"
   ]
  },
  {
   "cell_type": "code",
   "execution_count": 140,
   "id": "2523bc8b",
   "metadata": {},
   "outputs": [
    {
     "name": "stdout",
     "output_type": "stream",
     "text": [
      "R squared error :  0.7715195387697114\n"
     ]
    }
   ],
   "source": [
    "# R squared error\n",
    "error_score = metrics.r2_score(Y_test, pred)\n",
    "print(\"R squared error : \", error_score)"
   ]
  },
  {
   "cell_type": "code",
   "execution_count": 141,
   "id": "492ba673",
   "metadata": {},
   "outputs": [
    {
     "name": "stdout",
     "output_type": "stream",
     "text": [
      "SMAPE score: 28.165594659208608\n"
     ]
    }
   ],
   "source": [
    "smape_score = smape(Y_test, pred)\n",
    "print(\"SMAPE score:\", smape_score)"
   ]
  },
  {
   "cell_type": "code",
   "execution_count": 142,
   "id": "ed1ab51e",
   "metadata": {},
   "outputs": [
    {
     "data": {
      "text/html": [
       "<style>#sk-container-id-7 {color: black;background-color: white;}#sk-container-id-7 pre{padding: 0;}#sk-container-id-7 div.sk-toggleable {background-color: white;}#sk-container-id-7 label.sk-toggleable__label {cursor: pointer;display: block;width: 100%;margin-bottom: 0;padding: 0.3em;box-sizing: border-box;text-align: center;}#sk-container-id-7 label.sk-toggleable__label-arrow:before {content: \"▸\";float: left;margin-right: 0.25em;color: #696969;}#sk-container-id-7 label.sk-toggleable__label-arrow:hover:before {color: black;}#sk-container-id-7 div.sk-estimator:hover label.sk-toggleable__label-arrow:before {color: black;}#sk-container-id-7 div.sk-toggleable__content {max-height: 0;max-width: 0;overflow: hidden;text-align: left;background-color: #f0f8ff;}#sk-container-id-7 div.sk-toggleable__content pre {margin: 0.2em;color: black;border-radius: 0.25em;background-color: #f0f8ff;}#sk-container-id-7 input.sk-toggleable__control:checked~div.sk-toggleable__content {max-height: 200px;max-width: 100%;overflow: auto;}#sk-container-id-7 input.sk-toggleable__control:checked~label.sk-toggleable__label-arrow:before {content: \"▾\";}#sk-container-id-7 div.sk-estimator input.sk-toggleable__control:checked~label.sk-toggleable__label {background-color: #d4ebff;}#sk-container-id-7 div.sk-label input.sk-toggleable__control:checked~label.sk-toggleable__label {background-color: #d4ebff;}#sk-container-id-7 input.sk-hidden--visually {border: 0;clip: rect(1px 1px 1px 1px);clip: rect(1px, 1px, 1px, 1px);height: 1px;margin: -1px;overflow: hidden;padding: 0;position: absolute;width: 1px;}#sk-container-id-7 div.sk-estimator {font-family: monospace;background-color: #f0f8ff;border: 1px dotted black;border-radius: 0.25em;box-sizing: border-box;margin-bottom: 0.5em;}#sk-container-id-7 div.sk-estimator:hover {background-color: #d4ebff;}#sk-container-id-7 div.sk-parallel-item::after {content: \"\";width: 100%;border-bottom: 1px solid gray;flex-grow: 1;}#sk-container-id-7 div.sk-label:hover label.sk-toggleable__label {background-color: #d4ebff;}#sk-container-id-7 div.sk-serial::before {content: \"\";position: absolute;border-left: 1px solid gray;box-sizing: border-box;top: 0;bottom: 0;left: 50%;z-index: 0;}#sk-container-id-7 div.sk-serial {display: flex;flex-direction: column;align-items: center;background-color: white;padding-right: 0.2em;padding-left: 0.2em;position: relative;}#sk-container-id-7 div.sk-item {position: relative;z-index: 1;}#sk-container-id-7 div.sk-parallel {display: flex;align-items: stretch;justify-content: center;background-color: white;position: relative;}#sk-container-id-7 div.sk-item::before, #sk-container-id-7 div.sk-parallel-item::before {content: \"\";position: absolute;border-left: 1px solid gray;box-sizing: border-box;top: 0;bottom: 0;left: 50%;z-index: -1;}#sk-container-id-7 div.sk-parallel-item {display: flex;flex-direction: column;z-index: 1;position: relative;background-color: white;}#sk-container-id-7 div.sk-parallel-item:first-child::after {align-self: flex-end;width: 50%;}#sk-container-id-7 div.sk-parallel-item:last-child::after {align-self: flex-start;width: 50%;}#sk-container-id-7 div.sk-parallel-item:only-child::after {width: 0;}#sk-container-id-7 div.sk-dashed-wrapped {border: 1px dashed gray;margin: 0 0.4em 0.5em 0.4em;box-sizing: border-box;padding-bottom: 0.4em;background-color: white;}#sk-container-id-7 div.sk-label label {font-family: monospace;font-weight: bold;display: inline-block;line-height: 1.2em;}#sk-container-id-7 div.sk-label-container {text-align: center;}#sk-container-id-7 div.sk-container {/* jupyter's `normalize.less` sets `[hidden] { display: none; }` but bootstrap.min.css set `[hidden] { display: none !important; }` so we also need the `!important` here to be able to override the default hidden behavior on the sphinx rendered scikit-learn.org. See: https://github.com/scikit-learn/scikit-learn/issues/21755 */display: inline-block !important;position: relative;}#sk-container-id-7 div.sk-text-repr-fallback {display: none;}</style><div id=\"sk-container-id-7\" class=\"sk-top-container\"><div class=\"sk-text-repr-fallback\"><pre>StackingRegressor(estimators=[(&#x27;rf&#x27;, RandomForestRegressor()),\n",
       "                              (&#x27;xb&#x27;,\n",
       "                               XGBRegressor(alpha=0.5, base_score=None,\n",
       "                                            booster=None, callbacks=None,\n",
       "                                            colsample_bylevel=None,\n",
       "                                            colsample_bynode=None,\n",
       "                                            colsample_bytree=None,\n",
       "                                            early_stopping_rounds=None,\n",
       "                                            enable_categorical=False,\n",
       "                                            eval_metric=None,\n",
       "                                            feature_types=None, gamma=None,\n",
       "                                            gpu_id=None, grow_policy=None,\n",
       "                                            importance_type=None,\n",
       "                                            interaction_constraints=None,\n",
       "                                            learning_rate=None, max_bin=None,\n",
       "                                            max_cat_threshold=None,\n",
       "                                            max_cat_to_onehot=None,\n",
       "                                            max_delta_step=None, max_depth=None,\n",
       "                                            max_leaves=None,\n",
       "                                            min_child_weight=None, missing=nan,\n",
       "                                            monotone_constraints=None,\n",
       "                                            n_estimators=100, n_jobs=None,\n",
       "                                            num_parallel_tree=None,\n",
       "                                            predictor=None, ...)),\n",
       "                              (&#x27;svm&#x27;, SVR(C=10, gamma=0.1))])</pre><b>In a Jupyter environment, please rerun this cell to show the HTML representation or trust the notebook. <br />On GitHub, the HTML representation is unable to render, please try loading this page with nbviewer.org.</b></div><div class=\"sk-container\" hidden><div class=\"sk-item sk-dashed-wrapped\"><div class=\"sk-label-container\"><div class=\"sk-label sk-toggleable\"><input class=\"sk-toggleable__control sk-hidden--visually\" id=\"sk-estimator-id-10\" type=\"checkbox\" ><label for=\"sk-estimator-id-10\" class=\"sk-toggleable__label sk-toggleable__label-arrow\">StackingRegressor</label><div class=\"sk-toggleable__content\"><pre>StackingRegressor(estimators=[(&#x27;rf&#x27;, RandomForestRegressor()),\n",
       "                              (&#x27;xb&#x27;,\n",
       "                               XGBRegressor(alpha=0.5, base_score=None,\n",
       "                                            booster=None, callbacks=None,\n",
       "                                            colsample_bylevel=None,\n",
       "                                            colsample_bynode=None,\n",
       "                                            colsample_bytree=None,\n",
       "                                            early_stopping_rounds=None,\n",
       "                                            enable_categorical=False,\n",
       "                                            eval_metric=None,\n",
       "                                            feature_types=None, gamma=None,\n",
       "                                            gpu_id=None, grow_policy=None,\n",
       "                                            importance_type=None,\n",
       "                                            interaction_constraints=None,\n",
       "                                            learning_rate=None, max_bin=None,\n",
       "                                            max_cat_threshold=None,\n",
       "                                            max_cat_to_onehot=None,\n",
       "                                            max_delta_step=None, max_depth=None,\n",
       "                                            max_leaves=None,\n",
       "                                            min_child_weight=None, missing=nan,\n",
       "                                            monotone_constraints=None,\n",
       "                                            n_estimators=100, n_jobs=None,\n",
       "                                            num_parallel_tree=None,\n",
       "                                            predictor=None, ...)),\n",
       "                              (&#x27;svm&#x27;, SVR(C=10, gamma=0.1))])</pre></div></div></div><div class=\"sk-serial\"><div class=\"sk-item\"><div class=\"sk-parallel\"><div class=\"sk-parallel-item\"><div class=\"sk-item\"><div class=\"sk-label-container\"><div class=\"sk-label sk-toggleable\"><label>rf</label></div></div><div class=\"sk-serial\"><div class=\"sk-item\"><div class=\"sk-estimator sk-toggleable\"><input class=\"sk-toggleable__control sk-hidden--visually\" id=\"sk-estimator-id-11\" type=\"checkbox\" ><label for=\"sk-estimator-id-11\" class=\"sk-toggleable__label sk-toggleable__label-arrow\">RandomForestRegressor</label><div class=\"sk-toggleable__content\"><pre>RandomForestRegressor()</pre></div></div></div></div></div></div><div class=\"sk-parallel-item\"><div class=\"sk-item\"><div class=\"sk-label-container\"><div class=\"sk-label sk-toggleable\"><label>xb</label></div></div><div class=\"sk-serial\"><div class=\"sk-item\"><div class=\"sk-estimator sk-toggleable\"><input class=\"sk-toggleable__control sk-hidden--visually\" id=\"sk-estimator-id-12\" type=\"checkbox\" ><label for=\"sk-estimator-id-12\" class=\"sk-toggleable__label sk-toggleable__label-arrow\">XGBRegressor</label><div class=\"sk-toggleable__content\"><pre>XGBRegressor(alpha=0.5, base_score=None, booster=None, callbacks=None,\n",
       "             colsample_bylevel=None, colsample_bynode=None,\n",
       "             colsample_bytree=None, early_stopping_rounds=None,\n",
       "             enable_categorical=False, eval_metric=None, feature_types=None,\n",
       "             gamma=None, gpu_id=None, grow_policy=None, importance_type=None,\n",
       "             interaction_constraints=None, learning_rate=None, max_bin=None,\n",
       "             max_cat_threshold=None, max_cat_to_onehot=None,\n",
       "             max_delta_step=None, max_depth=None, max_leaves=None,\n",
       "             min_child_weight=None, missing=nan, monotone_constraints=None,\n",
       "             n_estimators=100, n_jobs=None, num_parallel_tree=None,\n",
       "             predictor=None, ...)</pre></div></div></div></div></div></div><div class=\"sk-parallel-item\"><div class=\"sk-item\"><div class=\"sk-label-container\"><div class=\"sk-label sk-toggleable\"><label>svm</label></div></div><div class=\"sk-serial\"><div class=\"sk-item\"><div class=\"sk-estimator sk-toggleable\"><input class=\"sk-toggleable__control sk-hidden--visually\" id=\"sk-estimator-id-13\" type=\"checkbox\" ><label for=\"sk-estimator-id-13\" class=\"sk-toggleable__label sk-toggleable__label-arrow\">SVR</label><div class=\"sk-toggleable__content\"><pre>SVR(C=10, gamma=0.1)</pre></div></div></div></div></div></div></div></div><div class=\"sk-item\"><div class=\"sk-parallel\"><div class=\"sk-parallel-item\"><div class=\"sk-item\"><div class=\"sk-label-container\"><div class=\"sk-label sk-toggleable\"><label>final_estimator</label></div></div><div class=\"sk-serial\"><div class=\"sk-item\"><div class=\"sk-estimator sk-toggleable\"><input class=\"sk-toggleable__control sk-hidden--visually\" id=\"sk-estimator-id-14\" type=\"checkbox\" ><label for=\"sk-estimator-id-14\" class=\"sk-toggleable__label sk-toggleable__label-arrow\">RidgeCV</label><div class=\"sk-toggleable__content\"><pre>RidgeCV()</pre></div></div></div></div></div></div></div></div></div></div></div></div>"
      ],
      "text/plain": [
       "StackingRegressor(estimators=[('rf', RandomForestRegressor()),\n",
       "                              ('xb',\n",
       "                               XGBRegressor(alpha=0.5, base_score=None,\n",
       "                                            booster=None, callbacks=None,\n",
       "                                            colsample_bylevel=None,\n",
       "                                            colsample_bynode=None,\n",
       "                                            colsample_bytree=None,\n",
       "                                            early_stopping_rounds=None,\n",
       "                                            enable_categorical=False,\n",
       "                                            eval_metric=None,\n",
       "                                            feature_types=None, gamma=None,\n",
       "                                            gpu_id=None, grow_policy=None,\n",
       "                                            importance_type=None,\n",
       "                                            interaction_constraints=None,\n",
       "                                            learning_rate=None, max_bin=None,\n",
       "                                            max_cat_threshold=None,\n",
       "                                            max_cat_to_onehot=None,\n",
       "                                            max_delta_step=None, max_depth=None,\n",
       "                                            max_leaves=None,\n",
       "                                            min_child_weight=None, missing=nan,\n",
       "                                            monotone_constraints=None,\n",
       "                                            n_estimators=100, n_jobs=None,\n",
       "                                            num_parallel_tree=None,\n",
       "                                            predictor=None, ...)),\n",
       "                              ('svm', SVR(C=10, gamma=0.1))])"
      ]
     },
     "execution_count": 142,
     "metadata": {},
     "output_type": "execute_result"
    }
   ],
   "source": [
    "stack_regressor = StackingRegressor(estimators=[('rf', regressor),('xb',xb_model),('svm',svr)])\n",
    "stack_regressor.fit(X_train, Y_train)"
   ]
  },
  {
   "cell_type": "code",
   "execution_count": 143,
   "id": "2e899018",
   "metadata": {},
   "outputs": [],
   "source": [
    "predict_ed = stack_regressor.predict(X_test)"
   ]
  },
  {
   "cell_type": "code",
   "execution_count": 144,
   "id": "8d9f5ad1",
   "metadata": {},
   "outputs": [
    {
     "name": "stdout",
     "output_type": "stream",
     "text": [
      "[ 3.40671429  2.89807265  3.30377885  2.95944627  1.36079986  3.50506977\n",
      "  2.6023675   1.99462258  2.72816987  0.54514435  3.01024432  3.70479818\n",
      "  2.01889677  2.52938522  2.66096412  2.06812889  2.59481735  1.85013184\n",
      "  1.53652296  2.89066201  2.49651521  8.947743    2.66257091  3.10299897\n",
      "  3.31559137  2.72602101  2.9577851   3.21170071  3.00318384  3.25023458\n",
      "  3.02801498  3.61428303  3.19355017  1.56163502  2.59338966  2.88872991\n",
      "  3.16947881  2.49874554  2.34179621  8.35181201  3.11874567  3.09307813\n",
      "  2.95342955  7.7156902   3.47640313  7.67019603  2.53743902  3.14609557\n",
      "  8.38065776  2.50118823  2.29058501  3.91066619  3.33308985  1.29543221\n",
      "  1.61317011  3.58975302  2.81045094  3.3113034   2.4363519   2.61926102\n",
      "  3.15529285  1.89727238  3.02989604  2.08700768  3.06088951 10.15988576\n",
      "  2.76798437  2.80489976  2.2550053   9.23918908  0.79140778  4.47296399\n",
      "  4.30614358  2.94014538  2.92938771  1.82386661  2.75929692  8.54186976\n",
      "  1.72854132  8.47663941  2.56177535  2.84813904  2.9940985   3.10121741\n",
      "  2.87618212  6.22273945  5.27423886  2.93244339  7.39328287  1.62897024\n",
      "  2.90581     3.0578064   3.16889359  1.58643596  3.01561667  3.72031336\n",
      "  8.27222706  2.64877765  8.15806147  3.44844078  3.04227893  3.08841875\n",
      "  3.01403168  2.64072721  8.49152443  1.4263997   1.39336956  1.63689698\n",
      "  2.87775196  2.38436569  3.35635457  3.74139258  8.74928199  3.1668004\n",
      "  1.88145023  2.52305618  3.70035642  3.2300046   3.42909684  1.75710469\n",
      "  7.60416058  4.35116687  2.5125999   2.08070491  3.21724504  2.72889899\n",
      "  2.75720212  0.85679261  2.50696409  3.20061704  3.1310394   2.82977663\n",
      "  3.30376248  4.87610322  2.78048011  2.20306584  2.14049834  2.33773893\n",
      "  3.05483806  2.90266265  2.92337101  3.29190677  3.90428096  7.77506588\n",
      "  3.15600888  3.24053981  2.64409302  2.81966733  2.70060851  3.35707186\n",
      "  7.22471844  5.90306191  2.8566985   2.19482966  2.69261811  2.82582812\n",
      "  4.13428068  3.00510656  2.98572201  2.86012031  3.45347215  2.82310128\n",
      "  3.19196093  3.18169236  2.83306186  2.74487217  3.46708985  2.91280643\n",
      "  3.1620949   3.21526594  7.91561945  3.96474884  3.68594038  2.96169089\n",
      "  3.31353078  2.75662784  3.36394374  7.57916471  2.99475841  2.76835495\n",
      "  2.09131832  1.98232334  1.68122843  4.89394541  2.72436938  7.77427024\n",
      "  2.7622375   2.3493781   2.66995095  2.01481636  8.46175183  3.20207678\n",
      "  2.96896956  8.15267025  7.61771908  2.70804125  3.08411036  2.94611248\n",
      "  3.03259722  8.61417831 12.37489461  5.55901182  3.11787832  2.11704171\n",
      "  3.31980368  2.64308329  3.54384412  3.01395111  2.82101039  2.62253676\n",
      "  2.93504923  2.86630996  2.72678166  3.72655058  2.13499711  2.45568674\n",
      "  3.05198764  3.07807536  2.47846644  2.92572599  8.97804889  2.82216932\n",
      "  2.7503098   3.40192618  7.64393399  2.51135438  2.83107952  2.42053999\n",
      "  2.97004984  3.0565404   1.51866778  3.10863142  3.10403098  3.62846057\n",
      "  2.9102079   2.78916754  3.28901299  2.69430434]\n"
     ]
    }
   ],
   "source": [
    "print(predict_ed)"
   ]
  },
  {
   "cell_type": "code",
   "execution_count": 145,
   "id": "7792c1b7",
   "metadata": {},
   "outputs": [],
   "source": [
    "#Train Scores\n",
    "training_data_prediction = stack_regressor.predict(X_train)"
   ]
  },
  {
   "cell_type": "code",
   "execution_count": 146,
   "id": "2998ca1e",
   "metadata": {},
   "outputs": [
    {
     "data": {
      "text/plain": [
       "0.18136261347889598"
      ]
     },
     "execution_count": 146,
     "metadata": {},
     "output_type": "execute_result"
    }
   ],
   "source": [
    "mean_absolute_error(Y_train, training_data_prediction)"
   ]
  },
  {
   "cell_type": "code",
   "execution_count": 147,
   "id": "281e6203",
   "metadata": {},
   "outputs": [
    {
     "data": {
      "text/plain": [
       "0.2701076928561614"
      ]
     },
     "execution_count": 147,
     "metadata": {},
     "output_type": "execute_result"
    }
   ],
   "source": [
    "sqrt(mean_squared_error(Y_train, training_data_prediction))"
   ]
  },
  {
   "cell_type": "code",
   "execution_count": 148,
   "id": "f818d58c",
   "metadata": {},
   "outputs": [
    {
     "name": "stdout",
     "output_type": "stream",
     "text": [
      "R squared error :  0.9854678290329949\n"
     ]
    }
   ],
   "source": [
    "# R squared error\n",
    "error_score = metrics.r2_score(Y_train, training_data_prediction)\n",
    "print(\"R squared error : \", error_score)"
   ]
  },
  {
   "cell_type": "code",
   "execution_count": 149,
   "id": "1e261821",
   "metadata": {},
   "outputs": [
    {
     "name": "stdout",
     "output_type": "stream",
     "text": [
      "SMAPE score: 10.34985502694077\n"
     ]
    }
   ],
   "source": [
    "smape_score = smape(Y_train, training_data_prediction)\n",
    "print(\"SMAPE score:\", smape_score)"
   ]
  },
  {
   "cell_type": "code",
   "execution_count": 150,
   "id": "ac8f9f76",
   "metadata": {},
   "outputs": [
    {
     "data": {
      "text/plain": [
       "0.730011293323535"
      ]
     },
     "execution_count": 150,
     "metadata": {},
     "output_type": "execute_result"
    }
   ],
   "source": [
    "#Test Scores\n",
    "mean_absolute_error(Y_test, predict_ed)"
   ]
  },
  {
   "cell_type": "code",
   "execution_count": 151,
   "id": "749d8824",
   "metadata": {},
   "outputs": [
    {
     "data": {
      "text/plain": [
       "1.0569614981827857"
      ]
     },
     "execution_count": 151,
     "metadata": {},
     "output_type": "execute_result"
    }
   ],
   "source": [
    "sqrt(mean_squared_error(Y_test, predict_ed))"
   ]
  },
  {
   "cell_type": "code",
   "execution_count": 152,
   "id": "da225c64",
   "metadata": {},
   "outputs": [
    {
     "name": "stdout",
     "output_type": "stream",
     "text": [
      "R squared error :  0.7755639969298307\n"
     ]
    }
   ],
   "source": [
    "# R squared error\n",
    "error_score = metrics.r2_score(Y_test, predict_ed)\n",
    "print(\"R squared error : \", error_score)"
   ]
  },
  {
   "cell_type": "code",
   "execution_count": 153,
   "id": "8a80af4e",
   "metadata": {},
   "outputs": [
    {
     "name": "stdout",
     "output_type": "stream",
     "text": [
      "SMAPE score: 27.466848963228397\n"
     ]
    }
   ],
   "source": [
    "smape_score = smape(Y_test, predict_ed)\n",
    "print(\"SMAPE score:\", smape_score)"
   ]
  },
  {
   "cell_type": "code",
   "execution_count": 154,
   "id": "7b011d3f",
   "metadata": {},
   "outputs": [
    {
     "data": {
      "text/html": [
       "<style>#sk-container-id-8 {color: black;background-color: white;}#sk-container-id-8 pre{padding: 0;}#sk-container-id-8 div.sk-toggleable {background-color: white;}#sk-container-id-8 label.sk-toggleable__label {cursor: pointer;display: block;width: 100%;margin-bottom: 0;padding: 0.3em;box-sizing: border-box;text-align: center;}#sk-container-id-8 label.sk-toggleable__label-arrow:before {content: \"▸\";float: left;margin-right: 0.25em;color: #696969;}#sk-container-id-8 label.sk-toggleable__label-arrow:hover:before {color: black;}#sk-container-id-8 div.sk-estimator:hover label.sk-toggleable__label-arrow:before {color: black;}#sk-container-id-8 div.sk-toggleable__content {max-height: 0;max-width: 0;overflow: hidden;text-align: left;background-color: #f0f8ff;}#sk-container-id-8 div.sk-toggleable__content pre {margin: 0.2em;color: black;border-radius: 0.25em;background-color: #f0f8ff;}#sk-container-id-8 input.sk-toggleable__control:checked~div.sk-toggleable__content {max-height: 200px;max-width: 100%;overflow: auto;}#sk-container-id-8 input.sk-toggleable__control:checked~label.sk-toggleable__label-arrow:before {content: \"▾\";}#sk-container-id-8 div.sk-estimator input.sk-toggleable__control:checked~label.sk-toggleable__label {background-color: #d4ebff;}#sk-container-id-8 div.sk-label input.sk-toggleable__control:checked~label.sk-toggleable__label {background-color: #d4ebff;}#sk-container-id-8 input.sk-hidden--visually {border: 0;clip: rect(1px 1px 1px 1px);clip: rect(1px, 1px, 1px, 1px);height: 1px;margin: -1px;overflow: hidden;padding: 0;position: absolute;width: 1px;}#sk-container-id-8 div.sk-estimator {font-family: monospace;background-color: #f0f8ff;border: 1px dotted black;border-radius: 0.25em;box-sizing: border-box;margin-bottom: 0.5em;}#sk-container-id-8 div.sk-estimator:hover {background-color: #d4ebff;}#sk-container-id-8 div.sk-parallel-item::after {content: \"\";width: 100%;border-bottom: 1px solid gray;flex-grow: 1;}#sk-container-id-8 div.sk-label:hover label.sk-toggleable__label {background-color: #d4ebff;}#sk-container-id-8 div.sk-serial::before {content: \"\";position: absolute;border-left: 1px solid gray;box-sizing: border-box;top: 0;bottom: 0;left: 50%;z-index: 0;}#sk-container-id-8 div.sk-serial {display: flex;flex-direction: column;align-items: center;background-color: white;padding-right: 0.2em;padding-left: 0.2em;position: relative;}#sk-container-id-8 div.sk-item {position: relative;z-index: 1;}#sk-container-id-8 div.sk-parallel {display: flex;align-items: stretch;justify-content: center;background-color: white;position: relative;}#sk-container-id-8 div.sk-item::before, #sk-container-id-8 div.sk-parallel-item::before {content: \"\";position: absolute;border-left: 1px solid gray;box-sizing: border-box;top: 0;bottom: 0;left: 50%;z-index: -1;}#sk-container-id-8 div.sk-parallel-item {display: flex;flex-direction: column;z-index: 1;position: relative;background-color: white;}#sk-container-id-8 div.sk-parallel-item:first-child::after {align-self: flex-end;width: 50%;}#sk-container-id-8 div.sk-parallel-item:last-child::after {align-self: flex-start;width: 50%;}#sk-container-id-8 div.sk-parallel-item:only-child::after {width: 0;}#sk-container-id-8 div.sk-dashed-wrapped {border: 1px dashed gray;margin: 0 0.4em 0.5em 0.4em;box-sizing: border-box;padding-bottom: 0.4em;background-color: white;}#sk-container-id-8 div.sk-label label {font-family: monospace;font-weight: bold;display: inline-block;line-height: 1.2em;}#sk-container-id-8 div.sk-label-container {text-align: center;}#sk-container-id-8 div.sk-container {/* jupyter's `normalize.less` sets `[hidden] { display: none; }` but bootstrap.min.css set `[hidden] { display: none !important; }` so we also need the `!important` here to be able to override the default hidden behavior on the sphinx rendered scikit-learn.org. See: https://github.com/scikit-learn/scikit-learn/issues/21755 */display: inline-block !important;position: relative;}#sk-container-id-8 div.sk-text-repr-fallback {display: none;}</style><div id=\"sk-container-id-8\" class=\"sk-top-container\"><div class=\"sk-text-repr-fallback\"><pre>VotingRegressor(estimators=[(&#x27;rf&#x27;, RandomForestRegressor()),\n",
       "                            (&#x27;svm&#x27;, SVR(C=10, gamma=0.1))])</pre><b>In a Jupyter environment, please rerun this cell to show the HTML representation or trust the notebook. <br />On GitHub, the HTML representation is unable to render, please try loading this page with nbviewer.org.</b></div><div class=\"sk-container\" hidden><div class=\"sk-item sk-dashed-wrapped\"><div class=\"sk-label-container\"><div class=\"sk-label sk-toggleable\"><input class=\"sk-toggleable__control sk-hidden--visually\" id=\"sk-estimator-id-15\" type=\"checkbox\" ><label for=\"sk-estimator-id-15\" class=\"sk-toggleable__label sk-toggleable__label-arrow\">VotingRegressor</label><div class=\"sk-toggleable__content\"><pre>VotingRegressor(estimators=[(&#x27;rf&#x27;, RandomForestRegressor()),\n",
       "                            (&#x27;svm&#x27;, SVR(C=10, gamma=0.1))])</pre></div></div></div><div class=\"sk-parallel\"><div class=\"sk-parallel-item\"><div class=\"sk-item\"><div class=\"sk-label-container\"><div class=\"sk-label sk-toggleable\"><label>rf</label></div></div><div class=\"sk-serial\"><div class=\"sk-item\"><div class=\"sk-estimator sk-toggleable\"><input class=\"sk-toggleable__control sk-hidden--visually\" id=\"sk-estimator-id-16\" type=\"checkbox\" ><label for=\"sk-estimator-id-16\" class=\"sk-toggleable__label sk-toggleable__label-arrow\">RandomForestRegressor</label><div class=\"sk-toggleable__content\"><pre>RandomForestRegressor()</pre></div></div></div></div></div></div><div class=\"sk-parallel-item\"><div class=\"sk-item\"><div class=\"sk-label-container\"><div class=\"sk-label sk-toggleable\"><label>svm</label></div></div><div class=\"sk-serial\"><div class=\"sk-item\"><div class=\"sk-estimator sk-toggleable\"><input class=\"sk-toggleable__control sk-hidden--visually\" id=\"sk-estimator-id-17\" type=\"checkbox\" ><label for=\"sk-estimator-id-17\" class=\"sk-toggleable__label sk-toggleable__label-arrow\">SVR</label><div class=\"sk-toggleable__content\"><pre>SVR(C=10, gamma=0.1)</pre></div></div></div></div></div></div></div></div></div></div>"
      ],
      "text/plain": [
       "VotingRegressor(estimators=[('rf', RandomForestRegressor()),\n",
       "                            ('svm', SVR(C=10, gamma=0.1))])"
      ]
     },
     "execution_count": 154,
     "metadata": {},
     "output_type": "execute_result"
    }
   ],
   "source": [
    "vote_regressor = VotingRegressor(estimators=[('rf', regressor),('svm',svr)])\n",
    "vote_regressor.fit(X_train, Y_train)"
   ]
  },
  {
   "cell_type": "code",
   "execution_count": 155,
   "id": "9a50de43",
   "metadata": {},
   "outputs": [],
   "source": [
    "predict = vote_regressor.predict(X_test)"
   ]
  },
  {
   "cell_type": "code",
   "execution_count": 156,
   "id": "02aa1cb2",
   "metadata": {
    "scrolled": true
   },
   "outputs": [
    {
     "name": "stdout",
     "output_type": "stream",
     "text": [
      "[ 2.8408174   2.73000137  3.34452117  2.85085825  1.71863265  3.56388781\n",
      "  2.59470532  2.35562408  2.95053114  1.91823231  3.24213697  3.65575781\n",
      "  2.13162053  2.37471559  2.78331577  2.4065653   2.71421147  2.05341811\n",
      "  2.05930154  2.77850354  2.84893063  8.40128295  2.66561781  4.00621219\n",
      "  3.19070512  2.7878638   3.11999854  3.26625398  2.83362999  2.88569798\n",
      "  3.071788    3.03432697  3.54401796  1.62374595  2.63562403  2.96046072\n",
      "  2.97759529  2.3921318   3.19362285  8.54857715  3.08406196  2.95200663\n",
      "  3.04190429  7.99934317  3.46254408  7.67335611  2.63325707  3.23800872\n",
      "  8.57739664  2.78002407  2.60550159  4.05817947  3.03252339  1.89486726\n",
      "  1.63971756  3.48755141  2.67517366  3.33023905  2.34195091  2.74504112\n",
      "  2.97684939  1.89514636  2.89984789  2.12040915  2.82549207 10.13927024\n",
      "  2.8081525   3.03100953  2.47789959  8.97786854  1.27339144  4.01155662\n",
      "  4.29250897  2.91275175  3.04885439  1.97949182  3.19533794  8.64881692\n",
      "  1.5933864   8.79767492  2.80011506  2.86193813  3.07816972  3.08703015\n",
      "  2.96491902  6.26697609  4.31331623  2.69594314  6.95164408  1.97942299\n",
      "  2.91631148  3.10128285  2.82934816  1.921779    3.19593926  3.99145196\n",
      "  8.1290528   3.01299812  8.28795187  4.11519511  3.25898246  3.07414906\n",
      "  2.95987613  2.78074217  8.37245668  1.71318722  1.78570589  2.87333657\n",
      "  2.83368819  2.78265803  2.84902776  2.95587293  8.98197268  4.49208032\n",
      "  2.93722939  2.40530283  3.510968    3.39908613  2.99642312  1.54663267\n",
      "  7.37092592  4.0680114   2.67682113  2.80266133  3.06498412  2.51980454\n",
      "  2.67866997  0.4494588   3.06588802  2.85337234  3.04727286  2.9070109\n",
      "  3.2054614   4.15067121  2.94809267  2.53096646  2.26928716  3.88799374\n",
      "  3.13883466  2.56060259  2.53865764  3.42340656  3.21231665  7.81882238\n",
      "  3.23199456  4.29202995  2.50251669  2.84022916  3.04603658  3.31370776\n",
      "  7.6343648   5.82256292  2.82619977  2.77254246  3.0071875   3.85423828\n",
      "  4.95787209  3.09564098  2.74664693  2.71220574  3.29678177  2.98888423\n",
      "  3.24034166  3.26938076  2.58754448  2.49562289  4.45915684  3.0618726\n",
      "  2.99818809  3.1129408   7.16904745  4.60788921  3.89052769  2.72061812\n",
      "  3.10242436  2.88591711  3.23428596  7.50543646  3.35628313  2.61301112\n",
      "  1.83558521  2.21319591  1.56968193  4.57941213  2.75849986  7.92458061\n",
      "  2.75972255  2.29237521  2.57860796  2.80558831  8.0739165   3.35262566\n",
      "  2.81457192  8.38605466  7.76792506  2.76114285  3.24223553  2.86207596\n",
      "  3.04254523  8.87969129 11.63356531  4.55979468  3.38337822  2.21634841\n",
      "  2.96885508  2.54958666  3.31244435  3.27192807  2.98354821  2.54089986\n",
      "  2.71630567  2.58085837  2.7088564   3.7460239   2.10148829  2.29373519\n",
      "  3.00345833  3.00019795  2.90336852  2.71388701  8.41767917  2.87015943\n",
      "  2.88940762  3.46084279  7.49259142  2.62526061  2.96494586  2.47674836\n",
      "  2.8536487   3.04862048  2.46392781  3.00381253  2.60286254  3.71840662\n",
      "  2.63959582  3.06191633  3.35680686  2.83727107]\n"
     ]
    }
   ],
   "source": [
    "print(predict)"
   ]
  },
  {
   "cell_type": "code",
   "execution_count": 157,
   "id": "d395efea",
   "metadata": {},
   "outputs": [],
   "source": [
    "#Train Scores\n",
    "training_data_prediction = vote_regressor.predict(X_train)"
   ]
  },
  {
   "cell_type": "code",
   "execution_count": 158,
   "id": "b9ae3eb6",
   "metadata": {},
   "outputs": [
    {
     "data": {
      "text/plain": [
       "0.38545453375211136"
      ]
     },
     "execution_count": 158,
     "metadata": {},
     "output_type": "execute_result"
    }
   ],
   "source": [
    "mean_absolute_error(Y_train, training_data_prediction)"
   ]
  },
  {
   "cell_type": "code",
   "execution_count": 159,
   "id": "b0b8c270",
   "metadata": {},
   "outputs": [
    {
     "data": {
      "text/plain": [
       "0.6051488747284288"
      ]
     },
     "execution_count": 159,
     "metadata": {},
     "output_type": "execute_result"
    }
   ],
   "source": [
    "sqrt(mean_squared_error(Y_train, training_data_prediction))"
   ]
  },
  {
   "cell_type": "code",
   "execution_count": 160,
   "id": "22a97b2f",
   "metadata": {},
   "outputs": [
    {
     "name": "stdout",
     "output_type": "stream",
     "text": [
      "R squared error :  0.9270574314932569\n"
     ]
    }
   ],
   "source": [
    "# R squared error\n",
    "error_score = metrics.r2_score(Y_train, training_data_prediction)\n",
    "print(\"R squared error : \", error_score)"
   ]
  },
  {
   "cell_type": "code",
   "execution_count": 161,
   "id": "26868b07",
   "metadata": {},
   "outputs": [
    {
     "name": "stdout",
     "output_type": "stream",
     "text": [
      "SMAPE score: 27.466848963228397\n"
     ]
    }
   ],
   "source": [
    "smape_score = smape(Y_test, predict_ed)\n",
    "print(\"SMAPE score:\", smape_score)"
   ]
  },
  {
   "cell_type": "code",
   "execution_count": 162,
   "id": "b2bd7cd9",
   "metadata": {},
   "outputs": [
    {
     "data": {
      "text/plain": [
       "0.7705450423381269"
      ]
     },
     "execution_count": 162,
     "metadata": {},
     "output_type": "execute_result"
    }
   ],
   "source": [
    "#Test Scores\n",
    "mean_absolute_error(Y_test, predict)"
   ]
  },
  {
   "cell_type": "code",
   "execution_count": 163,
   "id": "be6694ea",
   "metadata": {},
   "outputs": [],
   "source": [
    "rms = sqrt(mean_squared_error(Y_test, predict))"
   ]
  },
  {
   "cell_type": "code",
   "execution_count": 164,
   "id": "c4c22af0",
   "metadata": {},
   "outputs": [
    {
     "name": "stdout",
     "output_type": "stream",
     "text": [
      "1.0469933024543592\n"
     ]
    }
   ],
   "source": [
    "print(rms)"
   ]
  },
  {
   "cell_type": "code",
   "execution_count": 165,
   "id": "5b373397",
   "metadata": {},
   "outputs": [
    {
     "name": "stdout",
     "output_type": "stream",
     "text": [
      "R squared error :  0.779777343204411\n"
     ]
    }
   ],
   "source": [
    "# R squared error\n",
    "error_score = metrics.r2_score(Y_test, predict)\n",
    "print(\"R squared error : \", error_score)"
   ]
  },
  {
   "cell_type": "code",
   "execution_count": 166,
   "id": "22b50cfa",
   "metadata": {},
   "outputs": [
    {
     "name": "stdout",
     "output_type": "stream",
     "text": [
      "SMAPE score: 28.675568740815528\n"
     ]
    }
   ],
   "source": [
    "smape_score = smape(Y_test, predict)\n",
    "print(\"SMAPE score:\", smape_score)"
   ]
  },
  {
   "cell_type": "code",
   "execution_count": 167,
   "id": "546e56ec",
   "metadata": {},
   "outputs": [
    {
     "data": {
      "text/html": [
       "<style>#sk-container-id-9 {color: black;background-color: white;}#sk-container-id-9 pre{padding: 0;}#sk-container-id-9 div.sk-toggleable {background-color: white;}#sk-container-id-9 label.sk-toggleable__label {cursor: pointer;display: block;width: 100%;margin-bottom: 0;padding: 0.3em;box-sizing: border-box;text-align: center;}#sk-container-id-9 label.sk-toggleable__label-arrow:before {content: \"▸\";float: left;margin-right: 0.25em;color: #696969;}#sk-container-id-9 label.sk-toggleable__label-arrow:hover:before {color: black;}#sk-container-id-9 div.sk-estimator:hover label.sk-toggleable__label-arrow:before {color: black;}#sk-container-id-9 div.sk-toggleable__content {max-height: 0;max-width: 0;overflow: hidden;text-align: left;background-color: #f0f8ff;}#sk-container-id-9 div.sk-toggleable__content pre {margin: 0.2em;color: black;border-radius: 0.25em;background-color: #f0f8ff;}#sk-container-id-9 input.sk-toggleable__control:checked~div.sk-toggleable__content {max-height: 200px;max-width: 100%;overflow: auto;}#sk-container-id-9 input.sk-toggleable__control:checked~label.sk-toggleable__label-arrow:before {content: \"▾\";}#sk-container-id-9 div.sk-estimator input.sk-toggleable__control:checked~label.sk-toggleable__label {background-color: #d4ebff;}#sk-container-id-9 div.sk-label input.sk-toggleable__control:checked~label.sk-toggleable__label {background-color: #d4ebff;}#sk-container-id-9 input.sk-hidden--visually {border: 0;clip: rect(1px 1px 1px 1px);clip: rect(1px, 1px, 1px, 1px);height: 1px;margin: -1px;overflow: hidden;padding: 0;position: absolute;width: 1px;}#sk-container-id-9 div.sk-estimator {font-family: monospace;background-color: #f0f8ff;border: 1px dotted black;border-radius: 0.25em;box-sizing: border-box;margin-bottom: 0.5em;}#sk-container-id-9 div.sk-estimator:hover {background-color: #d4ebff;}#sk-container-id-9 div.sk-parallel-item::after {content: \"\";width: 100%;border-bottom: 1px solid gray;flex-grow: 1;}#sk-container-id-9 div.sk-label:hover label.sk-toggleable__label {background-color: #d4ebff;}#sk-container-id-9 div.sk-serial::before {content: \"\";position: absolute;border-left: 1px solid gray;box-sizing: border-box;top: 0;bottom: 0;left: 50%;z-index: 0;}#sk-container-id-9 div.sk-serial {display: flex;flex-direction: column;align-items: center;background-color: white;padding-right: 0.2em;padding-left: 0.2em;position: relative;}#sk-container-id-9 div.sk-item {position: relative;z-index: 1;}#sk-container-id-9 div.sk-parallel {display: flex;align-items: stretch;justify-content: center;background-color: white;position: relative;}#sk-container-id-9 div.sk-item::before, #sk-container-id-9 div.sk-parallel-item::before {content: \"\";position: absolute;border-left: 1px solid gray;box-sizing: border-box;top: 0;bottom: 0;left: 50%;z-index: -1;}#sk-container-id-9 div.sk-parallel-item {display: flex;flex-direction: column;z-index: 1;position: relative;background-color: white;}#sk-container-id-9 div.sk-parallel-item:first-child::after {align-self: flex-end;width: 50%;}#sk-container-id-9 div.sk-parallel-item:last-child::after {align-self: flex-start;width: 50%;}#sk-container-id-9 div.sk-parallel-item:only-child::after {width: 0;}#sk-container-id-9 div.sk-dashed-wrapped {border: 1px dashed gray;margin: 0 0.4em 0.5em 0.4em;box-sizing: border-box;padding-bottom: 0.4em;background-color: white;}#sk-container-id-9 div.sk-label label {font-family: monospace;font-weight: bold;display: inline-block;line-height: 1.2em;}#sk-container-id-9 div.sk-label-container {text-align: center;}#sk-container-id-9 div.sk-container {/* jupyter's `normalize.less` sets `[hidden] { display: none; }` but bootstrap.min.css set `[hidden] { display: none !important; }` so we also need the `!important` here to be able to override the default hidden behavior on the sphinx rendered scikit-learn.org. See: https://github.com/scikit-learn/scikit-learn/issues/21755 */display: inline-block !important;position: relative;}#sk-container-id-9 div.sk-text-repr-fallback {display: none;}</style><div id=\"sk-container-id-9\" class=\"sk-top-container\"><div class=\"sk-text-repr-fallback\"><pre>VotingRegressor(estimators=[(&#x27;rf&#x27;, RandomForestRegressor()),\n",
       "                            (&#x27;xb&#x27;,\n",
       "                             XGBRegressor(alpha=0.5, base_score=None,\n",
       "                                          booster=None, callbacks=None,\n",
       "                                          colsample_bylevel=None,\n",
       "                                          colsample_bynode=None,\n",
       "                                          colsample_bytree=None,\n",
       "                                          early_stopping_rounds=None,\n",
       "                                          enable_categorical=False,\n",
       "                                          eval_metric=None, feature_types=None,\n",
       "                                          gamma=None, gpu_id=None,\n",
       "                                          grow_policy=None,\n",
       "                                          importance_type=None,\n",
       "                                          interaction_constraints=None,\n",
       "                                          learning_rate=None, max_bin=None,\n",
       "                                          max_cat_threshold=None,\n",
       "                                          max_cat_to_onehot=None,\n",
       "                                          max_delta_step=None, max_depth=None,\n",
       "                                          max_leaves=None,\n",
       "                                          min_child_weight=None, missing=nan,\n",
       "                                          monotone_constraints=None,\n",
       "                                          n_estimators=100, n_jobs=None,\n",
       "                                          num_parallel_tree=None,\n",
       "                                          predictor=None, ...)),\n",
       "                            (&#x27;svm&#x27;, SVR(C=10, gamma=0.1))])</pre><b>In a Jupyter environment, please rerun this cell to show the HTML representation or trust the notebook. <br />On GitHub, the HTML representation is unable to render, please try loading this page with nbviewer.org.</b></div><div class=\"sk-container\" hidden><div class=\"sk-item sk-dashed-wrapped\"><div class=\"sk-label-container\"><div class=\"sk-label sk-toggleable\"><input class=\"sk-toggleable__control sk-hidden--visually\" id=\"sk-estimator-id-18\" type=\"checkbox\" ><label for=\"sk-estimator-id-18\" class=\"sk-toggleable__label sk-toggleable__label-arrow\">VotingRegressor</label><div class=\"sk-toggleable__content\"><pre>VotingRegressor(estimators=[(&#x27;rf&#x27;, RandomForestRegressor()),\n",
       "                            (&#x27;xb&#x27;,\n",
       "                             XGBRegressor(alpha=0.5, base_score=None,\n",
       "                                          booster=None, callbacks=None,\n",
       "                                          colsample_bylevel=None,\n",
       "                                          colsample_bynode=None,\n",
       "                                          colsample_bytree=None,\n",
       "                                          early_stopping_rounds=None,\n",
       "                                          enable_categorical=False,\n",
       "                                          eval_metric=None, feature_types=None,\n",
       "                                          gamma=None, gpu_id=None,\n",
       "                                          grow_policy=None,\n",
       "                                          importance_type=None,\n",
       "                                          interaction_constraints=None,\n",
       "                                          learning_rate=None, max_bin=None,\n",
       "                                          max_cat_threshold=None,\n",
       "                                          max_cat_to_onehot=None,\n",
       "                                          max_delta_step=None, max_depth=None,\n",
       "                                          max_leaves=None,\n",
       "                                          min_child_weight=None, missing=nan,\n",
       "                                          monotone_constraints=None,\n",
       "                                          n_estimators=100, n_jobs=None,\n",
       "                                          num_parallel_tree=None,\n",
       "                                          predictor=None, ...)),\n",
       "                            (&#x27;svm&#x27;, SVR(C=10, gamma=0.1))])</pre></div></div></div><div class=\"sk-parallel\"><div class=\"sk-parallel-item\"><div class=\"sk-item\"><div class=\"sk-label-container\"><div class=\"sk-label sk-toggleable\"><label>rf</label></div></div><div class=\"sk-serial\"><div class=\"sk-item\"><div class=\"sk-estimator sk-toggleable\"><input class=\"sk-toggleable__control sk-hidden--visually\" id=\"sk-estimator-id-19\" type=\"checkbox\" ><label for=\"sk-estimator-id-19\" class=\"sk-toggleable__label sk-toggleable__label-arrow\">RandomForestRegressor</label><div class=\"sk-toggleable__content\"><pre>RandomForestRegressor()</pre></div></div></div></div></div></div><div class=\"sk-parallel-item\"><div class=\"sk-item\"><div class=\"sk-label-container\"><div class=\"sk-label sk-toggleable\"><label>xb</label></div></div><div class=\"sk-serial\"><div class=\"sk-item\"><div class=\"sk-estimator sk-toggleable\"><input class=\"sk-toggleable__control sk-hidden--visually\" id=\"sk-estimator-id-20\" type=\"checkbox\" ><label for=\"sk-estimator-id-20\" class=\"sk-toggleable__label sk-toggleable__label-arrow\">XGBRegressor</label><div class=\"sk-toggleable__content\"><pre>XGBRegressor(alpha=0.5, base_score=None, booster=None, callbacks=None,\n",
       "             colsample_bylevel=None, colsample_bynode=None,\n",
       "             colsample_bytree=None, early_stopping_rounds=None,\n",
       "             enable_categorical=False, eval_metric=None, feature_types=None,\n",
       "             gamma=None, gpu_id=None, grow_policy=None, importance_type=None,\n",
       "             interaction_constraints=None, learning_rate=None, max_bin=None,\n",
       "             max_cat_threshold=None, max_cat_to_onehot=None,\n",
       "             max_delta_step=None, max_depth=None, max_leaves=None,\n",
       "             min_child_weight=None, missing=nan, monotone_constraints=None,\n",
       "             n_estimators=100, n_jobs=None, num_parallel_tree=None,\n",
       "             predictor=None, ...)</pre></div></div></div></div></div></div><div class=\"sk-parallel-item\"><div class=\"sk-item\"><div class=\"sk-label-container\"><div class=\"sk-label sk-toggleable\"><label>svm</label></div></div><div class=\"sk-serial\"><div class=\"sk-item\"><div class=\"sk-estimator sk-toggleable\"><input class=\"sk-toggleable__control sk-hidden--visually\" id=\"sk-estimator-id-21\" type=\"checkbox\" ><label for=\"sk-estimator-id-21\" class=\"sk-toggleable__label sk-toggleable__label-arrow\">SVR</label><div class=\"sk-toggleable__content\"><pre>SVR(C=10, gamma=0.1)</pre></div></div></div></div></div></div></div></div></div></div>"
      ],
      "text/plain": [
       "VotingRegressor(estimators=[('rf', RandomForestRegressor()),\n",
       "                            ('xb',\n",
       "                             XGBRegressor(alpha=0.5, base_score=None,\n",
       "                                          booster=None, callbacks=None,\n",
       "                                          colsample_bylevel=None,\n",
       "                                          colsample_bynode=None,\n",
       "                                          colsample_bytree=None,\n",
       "                                          early_stopping_rounds=None,\n",
       "                                          enable_categorical=False,\n",
       "                                          eval_metric=None, feature_types=None,\n",
       "                                          gamma=None, gpu_id=None,\n",
       "                                          grow_policy=None,\n",
       "                                          importance_type=None,\n",
       "                                          interaction_constraints=None,\n",
       "                                          learning_rate=None, max_bin=None,\n",
       "                                          max_cat_threshold=None,\n",
       "                                          max_cat_to_onehot=None,\n",
       "                                          max_delta_step=None, max_depth=None,\n",
       "                                          max_leaves=None,\n",
       "                                          min_child_weight=None, missing=nan,\n",
       "                                          monotone_constraints=None,\n",
       "                                          n_estimators=100, n_jobs=None,\n",
       "                                          num_parallel_tree=None,\n",
       "                                          predictor=None, ...)),\n",
       "                            ('svm', SVR(C=10, gamma=0.1))])"
      ]
     },
     "execution_count": 167,
     "metadata": {},
     "output_type": "execute_result"
    }
   ],
   "source": [
    "vote_regressor = VotingRegressor(estimators=[('rf', regressor),('xb',xb_model),('svm',svr)])\n",
    "vote_regressor.fit(X_train, Y_train)"
   ]
  },
  {
   "cell_type": "code",
   "execution_count": 168,
   "id": "86c32f52",
   "metadata": {},
   "outputs": [],
   "source": [
    "predict_ = vote_regressor.predict(X_test)"
   ]
  },
  {
   "cell_type": "code",
   "execution_count": 169,
   "id": "80488a73",
   "metadata": {},
   "outputs": [
    {
     "name": "stdout",
     "output_type": "stream",
     "text": [
      "[ 3.13141968  2.83560679  3.28490907  2.86542768  1.47886111  3.5054192\n",
      "  2.573793    2.17776318  2.81038205  1.06954017  3.06170934  3.62868912\n",
      "  2.10207332  2.45187015  2.69893336  2.17998861  2.63034481  1.90800719\n",
      "  1.76244809  2.85548099  2.67214728  8.65642709  2.66270631  3.43761093\n",
      "  3.21917386  2.75827982  3.01241446  3.23681067  2.90883638  3.10921462\n",
      "  3.01389486  3.33855342  3.33154371  1.60685684  2.61166546  2.91795201\n",
      "  3.07116398  2.44766013  2.67605317  8.38345298  3.1048613   3.05582989\n",
      "  2.94856139  7.82526024  3.48113164  7.66622561  2.58564763  3.1836929\n",
      "  8.43893589  2.60207308  2.54785594  3.95389493  3.27676406  1.73784182\n",
      "  1.51589326  3.55346033  2.78120571  3.3355169   2.37369236  2.65159981\n",
      "  3.13217816  1.91777901  2.94668598  2.04422241  2.94329272 10.10637062\n",
      "  2.77648116  2.90414988  2.32054495  9.05354002  0.95701489  4.23965857\n",
      "  4.39590085  2.9236874   2.98179232  1.84258406  3.00223054  8.58409891\n",
      "  1.70390506  8.64980739  2.57268181  2.84456589  3.00179451  3.09537678\n",
      "  2.91907248  6.16143138  4.7180925   2.78657272  7.18997188  1.7876505\n",
      "  2.90859514  3.0594921   3.0093667   1.74864695  3.07793827  3.86465317\n",
      "  8.22528462  2.81309939  8.20531112  3.86478276  3.14225816  3.08785265\n",
      "  2.97861563  2.62642423  8.38249178  1.67393306  1.62774524  2.04258578\n",
      "  2.84453187  2.57017005  3.1739463   3.35353493  8.84576846  3.53114053\n",
      "  2.36817897  2.49307599  3.62250787  3.26640709  3.24456526  1.69119637\n",
      "  7.67946482  4.27939681  2.57225374  2.34740874  3.16336775  2.65058728\n",
      "  2.70996817  0.65162176  2.76336535  2.86060481  3.09640611  2.84813575\n",
      "  3.28700534  4.53377463  2.84740796  2.324621    2.19907534  3.08646193\n",
      "  3.06002491  2.78570955  2.64876556  3.34948061  3.51787734  7.8075959\n",
      "  3.19463861  3.96925354  2.57283637  2.82580375  2.84865116  3.33197882\n",
      "  7.44139498  5.80720012  2.8378165   2.48585178  2.81403675  3.32559491\n",
      "  4.66283089  3.05514742  2.8097137   2.82505614  3.42890284  2.88656305\n",
      "  3.22585656  3.21305673  2.72276627  2.63438534  4.15882344  2.98692556\n",
      "  3.15399371  3.20435231  7.50629238  4.23343875  3.96516858  2.85118679\n",
      "  3.21435749  2.76393172  3.31381794  7.57018389  3.13026271  2.70951266\n",
      "  1.93141732  1.87704393  1.58165468  4.76118869  2.73426442  7.90145268\n",
      "  2.7769804   2.30989231  2.62013672  2.32283081  8.2635995   3.27215594\n",
      "  2.921946    8.27960832  7.64576328  2.76679376  3.22365896  2.83004586\n",
      "  3.04512658  8.83000994 12.02894765  5.09484932  3.25574816  2.15710436\n",
      "  3.13910245  2.59255831  3.43338072  3.12999295  2.89218039  2.5858677\n",
      "  2.82202564  2.72773356  2.66829492  3.77618629  2.09527896  2.24050686\n",
      "  3.03566548  3.05660552  2.69553911  2.82364072  8.69964868  2.85308543\n",
      "  2.81171813  3.4332349   7.53457807  2.53262276  2.89331325  2.43459429\n",
      "  2.90705489  3.0274833   1.90229186  3.01091583  2.63446828  3.65312821\n",
      "  2.75725125  2.94548879  3.31570843  2.76472931]\n"
     ]
    }
   ],
   "source": [
    "print(predict_)"
   ]
  },
  {
   "cell_type": "code",
   "execution_count": 170,
   "id": "e395b3d0",
   "metadata": {},
   "outputs": [],
   "source": [
    "#Train Scores\n",
    "training_data_prediction = vote_regressor.predict(X_train)"
   ]
  },
  {
   "cell_type": "code",
   "execution_count": 171,
   "id": "b4f81cc7",
   "metadata": {},
   "outputs": [
    {
     "data": {
      "text/plain": [
       "0.26939871946383376"
      ]
     },
     "execution_count": 171,
     "metadata": {},
     "output_type": "execute_result"
    }
   ],
   "source": [
    "mean_absolute_error(Y_train, training_data_prediction)"
   ]
  },
  {
   "cell_type": "code",
   "execution_count": 172,
   "id": "da8a70a5",
   "metadata": {},
   "outputs": [
    {
     "data": {
      "text/plain": [
       "0.4168502017945763"
      ]
     },
     "execution_count": 172,
     "metadata": {},
     "output_type": "execute_result"
    }
   ],
   "source": [
    "sqrt(mean_squared_error(Y_train, training_data_prediction))"
   ]
  },
  {
   "cell_type": "code",
   "execution_count": 173,
   "id": "822e8448",
   "metadata": {},
   "outputs": [
    {
     "name": "stdout",
     "output_type": "stream",
     "text": [
      "R squared error :  0.965388802625596\n"
     ]
    }
   ],
   "source": [
    "# R squared error\n",
    "error_score = metrics.r2_score(Y_train, training_data_prediction)\n",
    "print(\"R squared error : \", error_score)"
   ]
  },
  {
   "cell_type": "code",
   "execution_count": 174,
   "id": "6971a0bb",
   "metadata": {},
   "outputs": [
    {
     "name": "stdout",
     "output_type": "stream",
     "text": [
      "SMAPE score: 27.466848963228397\n"
     ]
    }
   ],
   "source": [
    "smape_score = smape(Y_test, predict_ed)\n",
    "print(\"SMAPE score:\", smape_score)"
   ]
  },
  {
   "cell_type": "code",
   "execution_count": 175,
   "id": "0564bab3",
   "metadata": {},
   "outputs": [
    {
     "data": {
      "text/plain": [
       "0.7421085222345274"
      ]
     },
     "execution_count": 175,
     "metadata": {},
     "output_type": "execute_result"
    }
   ],
   "source": [
    "#Test scores\n",
    "mean_absolute_error(Y_test, predict_)"
   ]
  },
  {
   "cell_type": "code",
   "execution_count": 176,
   "id": "6ea21436",
   "metadata": {},
   "outputs": [
    {
     "data": {
      "text/plain": [
       "1.0412274106471324"
      ]
     },
     "execution_count": 176,
     "metadata": {},
     "output_type": "execute_result"
    }
   ],
   "source": [
    "sqrt(mean_squared_error(Y_test, predict_))"
   ]
  },
  {
   "cell_type": "code",
   "execution_count": 177,
   "id": "9ea9a7a8",
   "metadata": {},
   "outputs": [
    {
     "name": "stdout",
     "output_type": "stream",
     "text": [
      "R squared error :  0.7821962385495839\n"
     ]
    }
   ],
   "source": [
    "# R squared error\n",
    "error_score = metrics.r2_score(Y_test, predict_)\n",
    "print(\"R squared error : \", error_score)"
   ]
  },
  {
   "cell_type": "code",
   "execution_count": 178,
   "id": "9f04397a",
   "metadata": {},
   "outputs": [
    {
     "name": "stdout",
     "output_type": "stream",
     "text": [
      "SMAPE score: 27.839002585696377\n"
     ]
    }
   ],
   "source": [
    "smape_score = smape(Y_test, predict_)\n",
    "print(\"SMAPE score:\", smape_score)"
   ]
  },
  {
   "cell_type": "code",
   "execution_count": null,
   "id": "2ab2ef7a",
   "metadata": {},
   "outputs": [],
   "source": []
  }
 ],
 "metadata": {
  "kernelspec": {
   "display_name": "Python 3 (ipykernel)",
   "language": "python",
   "name": "python3"
  },
  "language_info": {
   "codemirror_mode": {
    "name": "ipython",
    "version": 3
   },
   "file_extension": ".py",
   "mimetype": "text/x-python",
   "name": "python",
   "nbconvert_exporter": "python",
   "pygments_lexer": "ipython3",
   "version": "3.11.3"
  }
 },
 "nbformat": 4,
 "nbformat_minor": 5
}
