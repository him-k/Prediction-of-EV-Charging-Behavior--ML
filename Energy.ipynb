{
 "cells": [
  {
   "cell_type": "code",
   "execution_count": 1,
   "id": "7a41e83e",
   "metadata": {},
   "outputs": [],
   "source": [
    "import numpy as np\n",
    "import pandas as pd\n",
    "import matplotlib.pyplot as plt\n",
    "import seaborn as sns\n",
    "from sklearn.model_selection import train_test_split\n",
    "from sklearn.ensemble import RandomForestRegressor\n",
    "from sklearn import metrics\n",
    "from sklearn.ensemble import StackingRegressor\n",
    "from sklearn.ensemble import VotingRegressor\n",
    "from sklearn.metrics import accuracy_score\n",
    "from sklearn.metrics import mean_absolute_error\n",
    "from sklearn.metrics import mean_squared_error\n",
    "from math import sqrt\n",
    "from sklearn.metrics import make_scorer\n",
    "from sklearn.model_selection import cross_val_score\n",
    "from sklearn.svm import SVR\n",
    "from xgboost import XGBRegressor\n",
    "from keras.models import Sequential\n",
    "from keras.layers import Dense, BatchNormalization, Dropout, LSTM\n",
    "from sklearn.preprocessing import StandardScaler\n",
    "from sklearn.ensemble import IsolationForest"
   ]
  },
  {
   "cell_type": "code",
   "execution_count": 2,
   "id": "393c1e3a",
   "metadata": {},
   "outputs": [],
   "source": [
    "# loading the csv data to a Pandas DataFrame\n",
    "ev= pd.read_csv('C:\\\\Users\\\\Himani\\\\Desktop\\\\pp/data.csv')"
   ]
  },
  {
   "cell_type": "code",
   "execution_count": 3,
   "id": "8028e286",
   "metadata": {},
   "outputs": [
    {
     "data": {
      "text/plain": [
       "id                         0\n",
       "clusterId                  0\n",
       "Date                       0\n",
       "connectionTime             0\n",
       "Num. Rep.                  0\n",
       "disconnectTime             0\n",
       "Time Diff                  0\n",
       "Session Length             0\n",
       "Avg.Sess.                  0\n",
       "donechargingTime           1\n",
       "kWhDelivered               0\n",
       "Avg. Consump               0\n",
       "sessionId                  0\n",
       "siteId                     0\n",
       "spaceID                    0\n",
       "stationID                  0\n",
       "timezone                   0\n",
       "userID                   298\n",
       "Precip Type                0\n",
       "temperature                0\n",
       "Avg. Humidity              0\n",
       "Avg Wind Speed(mph)        0\n",
       "Wind Bearing(degrees)      0\n",
       "Visibility(km)             0\n",
       "Loud Cover                 0\n",
       "Pressure(millibar)         0\n",
       "Daily summary              0\n",
       "dtype: int64"
      ]
     },
     "execution_count": 3,
     "metadata": {},
     "output_type": "execute_result"
    }
   ],
   "source": [
    "# checking the number of missing values\n",
    "ev.isnull().sum()"
   ]
  },
  {
   "cell_type": "code",
   "execution_count": 4,
   "id": "92bbcf50",
   "metadata": {},
   "outputs": [],
   "source": [
    "ev[\"donechargingTime\"] = ev[\"donechargingTime\"].fillna(ev[\"donechargingTime\"].mode()[0])"
   ]
  },
  {
   "cell_type": "code",
   "execution_count": 5,
   "id": "dad68a8e",
   "metadata": {},
   "outputs": [
    {
     "data": {
      "text/html": [
       "<div>\n",
       "<style scoped>\n",
       "    .dataframe tbody tr th:only-of-type {\n",
       "        vertical-align: middle;\n",
       "    }\n",
       "\n",
       "    .dataframe tbody tr th {\n",
       "        vertical-align: top;\n",
       "    }\n",
       "\n",
       "    .dataframe thead th {\n",
       "        text-align: right;\n",
       "    }\n",
       "</style>\n",
       "<table border=\"1\" class=\"dataframe\">\n",
       "  <thead>\n",
       "    <tr style=\"text-align: right;\">\n",
       "      <th></th>\n",
       "      <th>EV</th>\n",
       "    </tr>\n",
       "  </thead>\n",
       "  <tbody>\n",
       "    <tr>\n",
       "      <th>userID</th>\n",
       "      <td>298</td>\n",
       "    </tr>\n",
       "  </tbody>\n",
       "</table>\n",
       "</div>"
      ],
      "text/plain": [
       "         EV\n",
       "userID  298"
      ]
     },
     "execution_count": 5,
     "metadata": {},
     "output_type": "execute_result"
    }
   ],
   "source": [
    "NAs = pd.concat([ev.isnull().sum()], axis=1, keys=[\"EV\"])\n",
    "NAs[NAs.sum(axis=1) > 0]"
   ]
  },
  {
   "cell_type": "code",
   "execution_count": 6,
   "id": "52deeb45",
   "metadata": {},
   "outputs": [
    {
     "data": {
      "text/plain": [
       "0     NaN\n",
       "1     NaN\n",
       "2     NaN\n",
       "3     NaN\n",
       "4     NaN\n",
       "       ..\n",
       "294   NaN\n",
       "295   NaN\n",
       "296   NaN\n",
       "297   NaN\n",
       "298   NaN\n",
       "Name: userID, Length: 299, dtype: float64"
      ]
     },
     "execution_count": 6,
     "metadata": {},
     "output_type": "execute_result"
    }
   ],
   "source": [
    "ev.pop(\"userID\")"
   ]
  },
  {
   "cell_type": "code",
   "execution_count": 7,
   "id": "43bdb0bf",
   "metadata": {},
   "outputs": [
    {
     "name": "stderr",
     "output_type": "stream",
     "text": [
      "C:\\Users\\Himani\\AppData\\Local\\Temp\\ipykernel_29268\\576543398.py:1: FutureWarning: The default value of numeric_only in DataFrame.corr is deprecated. In a future version, it will default to False. Select only valid columns or specify the value of numeric_only to silence this warning.\n",
      "  ev.corr()\n"
     ]
    },
    {
     "data": {
      "text/html": [
       "<div>\n",
       "<style scoped>\n",
       "    .dataframe tbody tr th:only-of-type {\n",
       "        vertical-align: middle;\n",
       "    }\n",
       "\n",
       "    .dataframe tbody tr th {\n",
       "        vertical-align: top;\n",
       "    }\n",
       "\n",
       "    .dataframe thead th {\n",
       "        text-align: right;\n",
       "    }\n",
       "</style>\n",
       "<table border=\"1\" class=\"dataframe\">\n",
       "  <thead>\n",
       "    <tr style=\"text-align: right;\">\n",
       "      <th></th>\n",
       "      <th>clusterId</th>\n",
       "      <th>Num. Rep.</th>\n",
       "      <th>Session Length</th>\n",
       "      <th>Avg.Sess.</th>\n",
       "      <th>kWhDelivered</th>\n",
       "      <th>Avg. Consump</th>\n",
       "      <th>siteId</th>\n",
       "      <th>temperature</th>\n",
       "      <th>Avg. Humidity</th>\n",
       "      <th>Avg Wind Speed(mph)</th>\n",
       "      <th>Wind Bearing(degrees)</th>\n",
       "      <th>Visibility(km)</th>\n",
       "      <th>Loud Cover</th>\n",
       "      <th>Pressure(millibar)</th>\n",
       "    </tr>\n",
       "  </thead>\n",
       "  <tbody>\n",
       "    <tr>\n",
       "      <th>clusterId</th>\n",
       "      <td>NaN</td>\n",
       "      <td>NaN</td>\n",
       "      <td>NaN</td>\n",
       "      <td>NaN</td>\n",
       "      <td>NaN</td>\n",
       "      <td>NaN</td>\n",
       "      <td>NaN</td>\n",
       "      <td>NaN</td>\n",
       "      <td>NaN</td>\n",
       "      <td>NaN</td>\n",
       "      <td>NaN</td>\n",
       "      <td>NaN</td>\n",
       "      <td>NaN</td>\n",
       "      <td>NaN</td>\n",
       "    </tr>\n",
       "    <tr>\n",
       "      <th>Num. Rep.</th>\n",
       "      <td>NaN</td>\n",
       "      <td>1.000000</td>\n",
       "      <td>-0.006438</td>\n",
       "      <td>-0.105431</td>\n",
       "      <td>-0.060010</td>\n",
       "      <td>-0.151705</td>\n",
       "      <td>NaN</td>\n",
       "      <td>-0.192787</td>\n",
       "      <td>-0.109221</td>\n",
       "      <td>0.124439</td>\n",
       "      <td>-0.082490</td>\n",
       "      <td>-0.184083</td>\n",
       "      <td>NaN</td>\n",
       "      <td>-0.076314</td>\n",
       "    </tr>\n",
       "    <tr>\n",
       "      <th>Session Length</th>\n",
       "      <td>NaN</td>\n",
       "      <td>-0.006438</td>\n",
       "      <td>1.000000</td>\n",
       "      <td>0.136738</td>\n",
       "      <td>0.310325</td>\n",
       "      <td>0.068062</td>\n",
       "      <td>NaN</td>\n",
       "      <td>0.150531</td>\n",
       "      <td>0.210982</td>\n",
       "      <td>0.071906</td>\n",
       "      <td>0.143226</td>\n",
       "      <td>-0.086973</td>\n",
       "      <td>NaN</td>\n",
       "      <td>-0.116158</td>\n",
       "    </tr>\n",
       "    <tr>\n",
       "      <th>Avg.Sess.</th>\n",
       "      <td>NaN</td>\n",
       "      <td>-0.105431</td>\n",
       "      <td>0.136738</td>\n",
       "      <td>1.000000</td>\n",
       "      <td>-0.028790</td>\n",
       "      <td>-0.306549</td>\n",
       "      <td>NaN</td>\n",
       "      <td>0.597536</td>\n",
       "      <td>0.743543</td>\n",
       "      <td>0.441166</td>\n",
       "      <td>-0.095027</td>\n",
       "      <td>0.324415</td>\n",
       "      <td>NaN</td>\n",
       "      <td>-0.032252</td>\n",
       "    </tr>\n",
       "    <tr>\n",
       "      <th>kWhDelivered</th>\n",
       "      <td>NaN</td>\n",
       "      <td>-0.060010</td>\n",
       "      <td>0.310325</td>\n",
       "      <td>-0.028790</td>\n",
       "      <td>1.000000</td>\n",
       "      <td>0.136078</td>\n",
       "      <td>NaN</td>\n",
       "      <td>-0.088631</td>\n",
       "      <td>-0.066617</td>\n",
       "      <td>-0.014799</td>\n",
       "      <td>-0.060507</td>\n",
       "      <td>0.071274</td>\n",
       "      <td>NaN</td>\n",
       "      <td>0.077324</td>\n",
       "    </tr>\n",
       "    <tr>\n",
       "      <th>Avg. Consump</th>\n",
       "      <td>NaN</td>\n",
       "      <td>-0.151705</td>\n",
       "      <td>0.068062</td>\n",
       "      <td>-0.306549</td>\n",
       "      <td>0.136078</td>\n",
       "      <td>1.000000</td>\n",
       "      <td>NaN</td>\n",
       "      <td>0.007092</td>\n",
       "      <td>0.010471</td>\n",
       "      <td>-0.627740</td>\n",
       "      <td>0.578792</td>\n",
       "      <td>-0.097441</td>\n",
       "      <td>NaN</td>\n",
       "      <td>-0.061571</td>\n",
       "    </tr>\n",
       "    <tr>\n",
       "      <th>siteId</th>\n",
       "      <td>NaN</td>\n",
       "      <td>NaN</td>\n",
       "      <td>NaN</td>\n",
       "      <td>NaN</td>\n",
       "      <td>NaN</td>\n",
       "      <td>NaN</td>\n",
       "      <td>NaN</td>\n",
       "      <td>NaN</td>\n",
       "      <td>NaN</td>\n",
       "      <td>NaN</td>\n",
       "      <td>NaN</td>\n",
       "      <td>NaN</td>\n",
       "      <td>NaN</td>\n",
       "      <td>NaN</td>\n",
       "    </tr>\n",
       "    <tr>\n",
       "      <th>temperature</th>\n",
       "      <td>NaN</td>\n",
       "      <td>-0.192787</td>\n",
       "      <td>0.150531</td>\n",
       "      <td>0.597536</td>\n",
       "      <td>-0.088631</td>\n",
       "      <td>0.007092</td>\n",
       "      <td>NaN</td>\n",
       "      <td>1.000000</td>\n",
       "      <td>0.734907</td>\n",
       "      <td>-0.111375</td>\n",
       "      <td>0.232455</td>\n",
       "      <td>0.574416</td>\n",
       "      <td>NaN</td>\n",
       "      <td>0.028210</td>\n",
       "    </tr>\n",
       "    <tr>\n",
       "      <th>Avg. Humidity</th>\n",
       "      <td>NaN</td>\n",
       "      <td>-0.109221</td>\n",
       "      <td>0.210982</td>\n",
       "      <td>0.743543</td>\n",
       "      <td>-0.066617</td>\n",
       "      <td>0.010471</td>\n",
       "      <td>NaN</td>\n",
       "      <td>0.734907</td>\n",
       "      <td>1.000000</td>\n",
       "      <td>0.113319</td>\n",
       "      <td>0.348580</td>\n",
       "      <td>0.203647</td>\n",
       "      <td>NaN</td>\n",
       "      <td>-0.092720</td>\n",
       "    </tr>\n",
       "    <tr>\n",
       "      <th>Avg Wind Speed(mph)</th>\n",
       "      <td>NaN</td>\n",
       "      <td>0.124439</td>\n",
       "      <td>0.071906</td>\n",
       "      <td>0.441166</td>\n",
       "      <td>-0.014799</td>\n",
       "      <td>-0.627740</td>\n",
       "      <td>NaN</td>\n",
       "      <td>-0.111375</td>\n",
       "      <td>0.113319</td>\n",
       "      <td>1.000000</td>\n",
       "      <td>-0.494134</td>\n",
       "      <td>-0.212482</td>\n",
       "      <td>NaN</td>\n",
       "      <td>-0.211034</td>\n",
       "    </tr>\n",
       "    <tr>\n",
       "      <th>Wind Bearing(degrees)</th>\n",
       "      <td>NaN</td>\n",
       "      <td>-0.082490</td>\n",
       "      <td>0.143226</td>\n",
       "      <td>-0.095027</td>\n",
       "      <td>-0.060507</td>\n",
       "      <td>0.578792</td>\n",
       "      <td>NaN</td>\n",
       "      <td>0.232455</td>\n",
       "      <td>0.348580</td>\n",
       "      <td>-0.494134</td>\n",
       "      <td>1.000000</td>\n",
       "      <td>-0.404592</td>\n",
       "      <td>NaN</td>\n",
       "      <td>-0.634122</td>\n",
       "    </tr>\n",
       "    <tr>\n",
       "      <th>Visibility(km)</th>\n",
       "      <td>NaN</td>\n",
       "      <td>-0.184083</td>\n",
       "      <td>-0.086973</td>\n",
       "      <td>0.324415</td>\n",
       "      <td>0.071274</td>\n",
       "      <td>-0.097441</td>\n",
       "      <td>NaN</td>\n",
       "      <td>0.574416</td>\n",
       "      <td>0.203647</td>\n",
       "      <td>-0.212482</td>\n",
       "      <td>-0.404592</td>\n",
       "      <td>1.000000</td>\n",
       "      <td>NaN</td>\n",
       "      <td>0.706509</td>\n",
       "    </tr>\n",
       "    <tr>\n",
       "      <th>Loud Cover</th>\n",
       "      <td>NaN</td>\n",
       "      <td>NaN</td>\n",
       "      <td>NaN</td>\n",
       "      <td>NaN</td>\n",
       "      <td>NaN</td>\n",
       "      <td>NaN</td>\n",
       "      <td>NaN</td>\n",
       "      <td>NaN</td>\n",
       "      <td>NaN</td>\n",
       "      <td>NaN</td>\n",
       "      <td>NaN</td>\n",
       "      <td>NaN</td>\n",
       "      <td>NaN</td>\n",
       "      <td>NaN</td>\n",
       "    </tr>\n",
       "    <tr>\n",
       "      <th>Pressure(millibar)</th>\n",
       "      <td>NaN</td>\n",
       "      <td>-0.076314</td>\n",
       "      <td>-0.116158</td>\n",
       "      <td>-0.032252</td>\n",
       "      <td>0.077324</td>\n",
       "      <td>-0.061571</td>\n",
       "      <td>NaN</td>\n",
       "      <td>0.028210</td>\n",
       "      <td>-0.092720</td>\n",
       "      <td>-0.211034</td>\n",
       "      <td>-0.634122</td>\n",
       "      <td>0.706509</td>\n",
       "      <td>NaN</td>\n",
       "      <td>1.000000</td>\n",
       "    </tr>\n",
       "  </tbody>\n",
       "</table>\n",
       "</div>"
      ],
      "text/plain": [
       "                       clusterId  Num. Rep.  Session Length  Avg.Sess.  \\\n",
       "clusterId                    NaN        NaN             NaN        NaN   \n",
       "Num. Rep.                    NaN   1.000000       -0.006438  -0.105431   \n",
       "Session Length               NaN  -0.006438        1.000000   0.136738   \n",
       "Avg.Sess.                    NaN  -0.105431        0.136738   1.000000   \n",
       "kWhDelivered                 NaN  -0.060010        0.310325  -0.028790   \n",
       "Avg. Consump                 NaN  -0.151705        0.068062  -0.306549   \n",
       "siteId                       NaN        NaN             NaN        NaN   \n",
       "temperature                  NaN  -0.192787        0.150531   0.597536   \n",
       "Avg. Humidity                NaN  -0.109221        0.210982   0.743543   \n",
       "Avg Wind Speed(mph)          NaN   0.124439        0.071906   0.441166   \n",
       "Wind Bearing(degrees)        NaN  -0.082490        0.143226  -0.095027   \n",
       "Visibility(km)               NaN  -0.184083       -0.086973   0.324415   \n",
       "Loud Cover                   NaN        NaN             NaN        NaN   \n",
       "Pressure(millibar)           NaN  -0.076314       -0.116158  -0.032252   \n",
       "\n",
       "                       kWhDelivered  Avg. Consump  siteId  temperature  \\\n",
       "clusterId                       NaN           NaN     NaN          NaN   \n",
       "Num. Rep.                 -0.060010     -0.151705     NaN    -0.192787   \n",
       "Session Length             0.310325      0.068062     NaN     0.150531   \n",
       "Avg.Sess.                 -0.028790     -0.306549     NaN     0.597536   \n",
       "kWhDelivered               1.000000      0.136078     NaN    -0.088631   \n",
       "Avg. Consump               0.136078      1.000000     NaN     0.007092   \n",
       "siteId                          NaN           NaN     NaN          NaN   \n",
       "temperature               -0.088631      0.007092     NaN     1.000000   \n",
       "Avg. Humidity             -0.066617      0.010471     NaN     0.734907   \n",
       "Avg Wind Speed(mph)       -0.014799     -0.627740     NaN    -0.111375   \n",
       "Wind Bearing(degrees)     -0.060507      0.578792     NaN     0.232455   \n",
       "Visibility(km)             0.071274     -0.097441     NaN     0.574416   \n",
       "Loud Cover                      NaN           NaN     NaN          NaN   \n",
       "Pressure(millibar)         0.077324     -0.061571     NaN     0.028210   \n",
       "\n",
       "                       Avg. Humidity  Avg Wind Speed(mph)  \\\n",
       "clusterId                        NaN                  NaN   \n",
       "Num. Rep.                  -0.109221             0.124439   \n",
       "Session Length              0.210982             0.071906   \n",
       "Avg.Sess.                   0.743543             0.441166   \n",
       "kWhDelivered               -0.066617            -0.014799   \n",
       "Avg. Consump                0.010471            -0.627740   \n",
       "siteId                           NaN                  NaN   \n",
       "temperature                 0.734907            -0.111375   \n",
       "Avg. Humidity               1.000000             0.113319   \n",
       "Avg Wind Speed(mph)         0.113319             1.000000   \n",
       "Wind Bearing(degrees)       0.348580            -0.494134   \n",
       "Visibility(km)              0.203647            -0.212482   \n",
       "Loud Cover                       NaN                  NaN   \n",
       "Pressure(millibar)         -0.092720            -0.211034   \n",
       "\n",
       "                       Wind Bearing(degrees)  Visibility(km)  Loud Cover  \\\n",
       "clusterId                                NaN             NaN         NaN   \n",
       "Num. Rep.                          -0.082490       -0.184083         NaN   \n",
       "Session Length                      0.143226       -0.086973         NaN   \n",
       "Avg.Sess.                          -0.095027        0.324415         NaN   \n",
       "kWhDelivered                       -0.060507        0.071274         NaN   \n",
       "Avg. Consump                        0.578792       -0.097441         NaN   \n",
       "siteId                                   NaN             NaN         NaN   \n",
       "temperature                         0.232455        0.574416         NaN   \n",
       "Avg. Humidity                       0.348580        0.203647         NaN   \n",
       "Avg Wind Speed(mph)                -0.494134       -0.212482         NaN   \n",
       "Wind Bearing(degrees)               1.000000       -0.404592         NaN   \n",
       "Visibility(km)                     -0.404592        1.000000         NaN   \n",
       "Loud Cover                               NaN             NaN         NaN   \n",
       "Pressure(millibar)                 -0.634122        0.706509         NaN   \n",
       "\n",
       "                       Pressure(millibar)  \n",
       "clusterId                             NaN  \n",
       "Num. Rep.                       -0.076314  \n",
       "Session Length                  -0.116158  \n",
       "Avg.Sess.                       -0.032252  \n",
       "kWhDelivered                     0.077324  \n",
       "Avg. Consump                    -0.061571  \n",
       "siteId                                NaN  \n",
       "temperature                      0.028210  \n",
       "Avg. Humidity                   -0.092720  \n",
       "Avg Wind Speed(mph)             -0.211034  \n",
       "Wind Bearing(degrees)           -0.634122  \n",
       "Visibility(km)                   0.706509  \n",
       "Loud Cover                            NaN  \n",
       "Pressure(millibar)               1.000000  "
      ]
     },
     "execution_count": 7,
     "metadata": {},
     "output_type": "execute_result"
    }
   ],
   "source": [
    "ev.corr()"
   ]
  },
  {
   "cell_type": "code",
   "execution_count": 8,
   "id": "56b69754",
   "metadata": {},
   "outputs": [
    {
     "data": {
      "text/html": [
       "<div>\n",
       "<style scoped>\n",
       "    .dataframe tbody tr th:only-of-type {\n",
       "        vertical-align: middle;\n",
       "    }\n",
       "\n",
       "    .dataframe tbody tr th {\n",
       "        vertical-align: top;\n",
       "    }\n",
       "\n",
       "    .dataframe thead th {\n",
       "        text-align: right;\n",
       "    }\n",
       "</style>\n",
       "<table border=\"1\" class=\"dataframe\">\n",
       "  <thead>\n",
       "    <tr style=\"text-align: right;\">\n",
       "      <th></th>\n",
       "      <th>clusterId</th>\n",
       "      <th>Num. Rep.</th>\n",
       "      <th>Session Length</th>\n",
       "      <th>Avg.Sess.</th>\n",
       "      <th>kWhDelivered</th>\n",
       "      <th>Avg. Consump</th>\n",
       "      <th>siteId</th>\n",
       "      <th>temperature</th>\n",
       "      <th>Avg. Humidity</th>\n",
       "      <th>Avg Wind Speed(mph)</th>\n",
       "      <th>Wind Bearing(degrees)</th>\n",
       "      <th>Visibility(km)</th>\n",
       "      <th>Loud Cover</th>\n",
       "      <th>Pressure(millibar)</th>\n",
       "    </tr>\n",
       "  </thead>\n",
       "  <tbody>\n",
       "    <tr>\n",
       "      <th>count</th>\n",
       "      <td>299.0</td>\n",
       "      <td>299.000000</td>\n",
       "      <td>299.000000</td>\n",
       "      <td>299.000000</td>\n",
       "      <td>299.000000</td>\n",
       "      <td>299.000000</td>\n",
       "      <td>299.0</td>\n",
       "      <td>299.000000</td>\n",
       "      <td>299.000000</td>\n",
       "      <td>299.000000</td>\n",
       "      <td>299.000000</td>\n",
       "      <td>299.000000</td>\n",
       "      <td>299.0</td>\n",
       "      <td>299.000000</td>\n",
       "    </tr>\n",
       "    <tr>\n",
       "      <th>mean</th>\n",
       "      <td>39.0</td>\n",
       "      <td>14.055920</td>\n",
       "      <td>5.659264</td>\n",
       "      <td>5.863428</td>\n",
       "      <td>8.880215</td>\n",
       "      <td>9.077592</td>\n",
       "      <td>2.0</td>\n",
       "      <td>26.075790</td>\n",
       "      <td>35.486688</td>\n",
       "      <td>12.205524</td>\n",
       "      <td>216.675585</td>\n",
       "      <td>14.784162</td>\n",
       "      <td>0.0</td>\n",
       "      <td>1012.212542</td>\n",
       "    </tr>\n",
       "    <tr>\n",
       "      <th>std</th>\n",
       "      <td>0.0</td>\n",
       "      <td>6.491128</td>\n",
       "      <td>3.649564</td>\n",
       "      <td>0.664461</td>\n",
       "      <td>7.517564</td>\n",
       "      <td>0.629821</td>\n",
       "      <td>0.0</td>\n",
       "      <td>1.405486</td>\n",
       "      <td>1.471998</td>\n",
       "      <td>1.271501</td>\n",
       "      <td>113.151907</td>\n",
       "      <td>2.130799</td>\n",
       "      <td>0.0</td>\n",
       "      <td>4.072541</td>\n",
       "    </tr>\n",
       "    <tr>\n",
       "      <th>min</th>\n",
       "      <td>39.0</td>\n",
       "      <td>0.040000</td>\n",
       "      <td>0.100000</td>\n",
       "      <td>4.600000</td>\n",
       "      <td>0.546000</td>\n",
       "      <td>6.480000</td>\n",
       "      <td>2.0</td>\n",
       "      <td>24.372222</td>\n",
       "      <td>33.836492</td>\n",
       "      <td>10.236100</td>\n",
       "      <td>10.000000</td>\n",
       "      <td>9.901500</td>\n",
       "      <td>0.0</td>\n",
       "      <td>1004.550000</td>\n",
       "    </tr>\n",
       "    <tr>\n",
       "      <th>25%</th>\n",
       "      <td>39.0</td>\n",
       "      <td>13.905000</td>\n",
       "      <td>2.345000</td>\n",
       "      <td>5.413281</td>\n",
       "      <td>3.507000</td>\n",
       "      <td>8.635000</td>\n",
       "      <td>2.0</td>\n",
       "      <td>24.844444</td>\n",
       "      <td>34.846153</td>\n",
       "      <td>11.076800</td>\n",
       "      <td>124.000000</td>\n",
       "      <td>14.168000</td>\n",
       "      <td>0.0</td>\n",
       "      <td>1009.550000</td>\n",
       "    </tr>\n",
       "    <tr>\n",
       "      <th>50%</th>\n",
       "      <td>39.0</td>\n",
       "      <td>15.920000</td>\n",
       "      <td>5.200000</td>\n",
       "      <td>5.549357</td>\n",
       "      <td>6.764000</td>\n",
       "      <td>9.110000</td>\n",
       "      <td>2.0</td>\n",
       "      <td>25.416667</td>\n",
       "      <td>34.864321</td>\n",
       "      <td>12.075100</td>\n",
       "      <td>271.000000</td>\n",
       "      <td>15.729700</td>\n",
       "      <td>0.0</td>\n",
       "      <td>1011.920000</td>\n",
       "    </tr>\n",
       "    <tr>\n",
       "      <th>75%</th>\n",
       "      <td>39.0</td>\n",
       "      <td>17.685000</td>\n",
       "      <td>8.605000</td>\n",
       "      <td>6.285223</td>\n",
       "      <td>12.951500</td>\n",
       "      <td>9.485000</td>\n",
       "      <td>2.0</td>\n",
       "      <td>27.383333</td>\n",
       "      <td>35.872643</td>\n",
       "      <td>13.540000</td>\n",
       "      <td>300.000000</td>\n",
       "      <td>16.100000</td>\n",
       "      <td>0.0</td>\n",
       "      <td>1015.720000</td>\n",
       "    </tr>\n",
       "    <tr>\n",
       "      <th>max</th>\n",
       "      <td>39.0</td>\n",
       "      <td>23.900000</td>\n",
       "      <td>18.170000</td>\n",
       "      <td>8.207187</td>\n",
       "      <td>47.808000</td>\n",
       "      <td>11.770000</td>\n",
       "      <td>2.0</td>\n",
       "      <td>28.511111</td>\n",
       "      <td>38.763024</td>\n",
       "      <td>14.021400</td>\n",
       "      <td>339.000000</td>\n",
       "      <td>16.100000</td>\n",
       "      <td>0.0</td>\n",
       "      <td>1016.850000</td>\n",
       "    </tr>\n",
       "  </tbody>\n",
       "</table>\n",
       "</div>"
      ],
      "text/plain": [
       "       clusterId   Num. Rep.  Session Length   Avg.Sess.  kWhDelivered  \\\n",
       "count      299.0  299.000000      299.000000  299.000000    299.000000   \n",
       "mean        39.0   14.055920        5.659264    5.863428      8.880215   \n",
       "std          0.0    6.491128        3.649564    0.664461      7.517564   \n",
       "min         39.0    0.040000        0.100000    4.600000      0.546000   \n",
       "25%         39.0   13.905000        2.345000    5.413281      3.507000   \n",
       "50%         39.0   15.920000        5.200000    5.549357      6.764000   \n",
       "75%         39.0   17.685000        8.605000    6.285223     12.951500   \n",
       "max         39.0   23.900000       18.170000    8.207187     47.808000   \n",
       "\n",
       "       Avg. Consump  siteId  temperature  Avg. Humidity  Avg Wind Speed(mph)  \\\n",
       "count    299.000000   299.0   299.000000     299.000000           299.000000   \n",
       "mean       9.077592     2.0    26.075790      35.486688            12.205524   \n",
       "std        0.629821     0.0     1.405486       1.471998             1.271501   \n",
       "min        6.480000     2.0    24.372222      33.836492            10.236100   \n",
       "25%        8.635000     2.0    24.844444      34.846153            11.076800   \n",
       "50%        9.110000     2.0    25.416667      34.864321            12.075100   \n",
       "75%        9.485000     2.0    27.383333      35.872643            13.540000   \n",
       "max       11.770000     2.0    28.511111      38.763024            14.021400   \n",
       "\n",
       "       Wind Bearing(degrees)  Visibility(km)  Loud Cover  Pressure(millibar)  \n",
       "count             299.000000      299.000000       299.0          299.000000  \n",
       "mean              216.675585       14.784162         0.0         1012.212542  \n",
       "std               113.151907        2.130799         0.0            4.072541  \n",
       "min                10.000000        9.901500         0.0         1004.550000  \n",
       "25%               124.000000       14.168000         0.0         1009.550000  \n",
       "50%               271.000000       15.729700         0.0         1011.920000  \n",
       "75%               300.000000       16.100000         0.0         1015.720000  \n",
       "max               339.000000       16.100000         0.0         1016.850000  "
      ]
     },
     "execution_count": 8,
     "metadata": {},
     "output_type": "execute_result"
    }
   ],
   "source": [
    "ev.describe()"
   ]
  },
  {
   "cell_type": "code",
   "execution_count": 9,
   "id": "9536306d",
   "metadata": {},
   "outputs": [
    {
     "name": "stderr",
     "output_type": "stream",
     "text": [
      "C:\\Users\\Himani\\AppData\\Local\\Temp\\ipykernel_29268\\576543398.py:1: FutureWarning: The default value of numeric_only in DataFrame.corr is deprecated. In a future version, it will default to False. Select only valid columns or specify the value of numeric_only to silence this warning.\n",
      "  ev.corr()\n"
     ]
    },
    {
     "data": {
      "text/html": [
       "<div>\n",
       "<style scoped>\n",
       "    .dataframe tbody tr th:only-of-type {\n",
       "        vertical-align: middle;\n",
       "    }\n",
       "\n",
       "    .dataframe tbody tr th {\n",
       "        vertical-align: top;\n",
       "    }\n",
       "\n",
       "    .dataframe thead th {\n",
       "        text-align: right;\n",
       "    }\n",
       "</style>\n",
       "<table border=\"1\" class=\"dataframe\">\n",
       "  <thead>\n",
       "    <tr style=\"text-align: right;\">\n",
       "      <th></th>\n",
       "      <th>clusterId</th>\n",
       "      <th>Num. Rep.</th>\n",
       "      <th>Session Length</th>\n",
       "      <th>Avg.Sess.</th>\n",
       "      <th>kWhDelivered</th>\n",
       "      <th>Avg. Consump</th>\n",
       "      <th>siteId</th>\n",
       "      <th>temperature</th>\n",
       "      <th>Avg. Humidity</th>\n",
       "      <th>Avg Wind Speed(mph)</th>\n",
       "      <th>Wind Bearing(degrees)</th>\n",
       "      <th>Visibility(km)</th>\n",
       "      <th>Loud Cover</th>\n",
       "      <th>Pressure(millibar)</th>\n",
       "    </tr>\n",
       "  </thead>\n",
       "  <tbody>\n",
       "    <tr>\n",
       "      <th>clusterId</th>\n",
       "      <td>NaN</td>\n",
       "      <td>NaN</td>\n",
       "      <td>NaN</td>\n",
       "      <td>NaN</td>\n",
       "      <td>NaN</td>\n",
       "      <td>NaN</td>\n",
       "      <td>NaN</td>\n",
       "      <td>NaN</td>\n",
       "      <td>NaN</td>\n",
       "      <td>NaN</td>\n",
       "      <td>NaN</td>\n",
       "      <td>NaN</td>\n",
       "      <td>NaN</td>\n",
       "      <td>NaN</td>\n",
       "    </tr>\n",
       "    <tr>\n",
       "      <th>Num. Rep.</th>\n",
       "      <td>NaN</td>\n",
       "      <td>1.000000</td>\n",
       "      <td>-0.006438</td>\n",
       "      <td>-0.105431</td>\n",
       "      <td>-0.060010</td>\n",
       "      <td>-0.151705</td>\n",
       "      <td>NaN</td>\n",
       "      <td>-0.192787</td>\n",
       "      <td>-0.109221</td>\n",
       "      <td>0.124439</td>\n",
       "      <td>-0.082490</td>\n",
       "      <td>-0.184083</td>\n",
       "      <td>NaN</td>\n",
       "      <td>-0.076314</td>\n",
       "    </tr>\n",
       "    <tr>\n",
       "      <th>Session Length</th>\n",
       "      <td>NaN</td>\n",
       "      <td>-0.006438</td>\n",
       "      <td>1.000000</td>\n",
       "      <td>0.136738</td>\n",
       "      <td>0.310325</td>\n",
       "      <td>0.068062</td>\n",
       "      <td>NaN</td>\n",
       "      <td>0.150531</td>\n",
       "      <td>0.210982</td>\n",
       "      <td>0.071906</td>\n",
       "      <td>0.143226</td>\n",
       "      <td>-0.086973</td>\n",
       "      <td>NaN</td>\n",
       "      <td>-0.116158</td>\n",
       "    </tr>\n",
       "    <tr>\n",
       "      <th>Avg.Sess.</th>\n",
       "      <td>NaN</td>\n",
       "      <td>-0.105431</td>\n",
       "      <td>0.136738</td>\n",
       "      <td>1.000000</td>\n",
       "      <td>-0.028790</td>\n",
       "      <td>-0.306549</td>\n",
       "      <td>NaN</td>\n",
       "      <td>0.597536</td>\n",
       "      <td>0.743543</td>\n",
       "      <td>0.441166</td>\n",
       "      <td>-0.095027</td>\n",
       "      <td>0.324415</td>\n",
       "      <td>NaN</td>\n",
       "      <td>-0.032252</td>\n",
       "    </tr>\n",
       "    <tr>\n",
       "      <th>kWhDelivered</th>\n",
       "      <td>NaN</td>\n",
       "      <td>-0.060010</td>\n",
       "      <td>0.310325</td>\n",
       "      <td>-0.028790</td>\n",
       "      <td>1.000000</td>\n",
       "      <td>0.136078</td>\n",
       "      <td>NaN</td>\n",
       "      <td>-0.088631</td>\n",
       "      <td>-0.066617</td>\n",
       "      <td>-0.014799</td>\n",
       "      <td>-0.060507</td>\n",
       "      <td>0.071274</td>\n",
       "      <td>NaN</td>\n",
       "      <td>0.077324</td>\n",
       "    </tr>\n",
       "    <tr>\n",
       "      <th>Avg. Consump</th>\n",
       "      <td>NaN</td>\n",
       "      <td>-0.151705</td>\n",
       "      <td>0.068062</td>\n",
       "      <td>-0.306549</td>\n",
       "      <td>0.136078</td>\n",
       "      <td>1.000000</td>\n",
       "      <td>NaN</td>\n",
       "      <td>0.007092</td>\n",
       "      <td>0.010471</td>\n",
       "      <td>-0.627740</td>\n",
       "      <td>0.578792</td>\n",
       "      <td>-0.097441</td>\n",
       "      <td>NaN</td>\n",
       "      <td>-0.061571</td>\n",
       "    </tr>\n",
       "    <tr>\n",
       "      <th>siteId</th>\n",
       "      <td>NaN</td>\n",
       "      <td>NaN</td>\n",
       "      <td>NaN</td>\n",
       "      <td>NaN</td>\n",
       "      <td>NaN</td>\n",
       "      <td>NaN</td>\n",
       "      <td>NaN</td>\n",
       "      <td>NaN</td>\n",
       "      <td>NaN</td>\n",
       "      <td>NaN</td>\n",
       "      <td>NaN</td>\n",
       "      <td>NaN</td>\n",
       "      <td>NaN</td>\n",
       "      <td>NaN</td>\n",
       "    </tr>\n",
       "    <tr>\n",
       "      <th>temperature</th>\n",
       "      <td>NaN</td>\n",
       "      <td>-0.192787</td>\n",
       "      <td>0.150531</td>\n",
       "      <td>0.597536</td>\n",
       "      <td>-0.088631</td>\n",
       "      <td>0.007092</td>\n",
       "      <td>NaN</td>\n",
       "      <td>1.000000</td>\n",
       "      <td>0.734907</td>\n",
       "      <td>-0.111375</td>\n",
       "      <td>0.232455</td>\n",
       "      <td>0.574416</td>\n",
       "      <td>NaN</td>\n",
       "      <td>0.028210</td>\n",
       "    </tr>\n",
       "    <tr>\n",
       "      <th>Avg. Humidity</th>\n",
       "      <td>NaN</td>\n",
       "      <td>-0.109221</td>\n",
       "      <td>0.210982</td>\n",
       "      <td>0.743543</td>\n",
       "      <td>-0.066617</td>\n",
       "      <td>0.010471</td>\n",
       "      <td>NaN</td>\n",
       "      <td>0.734907</td>\n",
       "      <td>1.000000</td>\n",
       "      <td>0.113319</td>\n",
       "      <td>0.348580</td>\n",
       "      <td>0.203647</td>\n",
       "      <td>NaN</td>\n",
       "      <td>-0.092720</td>\n",
       "    </tr>\n",
       "    <tr>\n",
       "      <th>Avg Wind Speed(mph)</th>\n",
       "      <td>NaN</td>\n",
       "      <td>0.124439</td>\n",
       "      <td>0.071906</td>\n",
       "      <td>0.441166</td>\n",
       "      <td>-0.014799</td>\n",
       "      <td>-0.627740</td>\n",
       "      <td>NaN</td>\n",
       "      <td>-0.111375</td>\n",
       "      <td>0.113319</td>\n",
       "      <td>1.000000</td>\n",
       "      <td>-0.494134</td>\n",
       "      <td>-0.212482</td>\n",
       "      <td>NaN</td>\n",
       "      <td>-0.211034</td>\n",
       "    </tr>\n",
       "    <tr>\n",
       "      <th>Wind Bearing(degrees)</th>\n",
       "      <td>NaN</td>\n",
       "      <td>-0.082490</td>\n",
       "      <td>0.143226</td>\n",
       "      <td>-0.095027</td>\n",
       "      <td>-0.060507</td>\n",
       "      <td>0.578792</td>\n",
       "      <td>NaN</td>\n",
       "      <td>0.232455</td>\n",
       "      <td>0.348580</td>\n",
       "      <td>-0.494134</td>\n",
       "      <td>1.000000</td>\n",
       "      <td>-0.404592</td>\n",
       "      <td>NaN</td>\n",
       "      <td>-0.634122</td>\n",
       "    </tr>\n",
       "    <tr>\n",
       "      <th>Visibility(km)</th>\n",
       "      <td>NaN</td>\n",
       "      <td>-0.184083</td>\n",
       "      <td>-0.086973</td>\n",
       "      <td>0.324415</td>\n",
       "      <td>0.071274</td>\n",
       "      <td>-0.097441</td>\n",
       "      <td>NaN</td>\n",
       "      <td>0.574416</td>\n",
       "      <td>0.203647</td>\n",
       "      <td>-0.212482</td>\n",
       "      <td>-0.404592</td>\n",
       "      <td>1.000000</td>\n",
       "      <td>NaN</td>\n",
       "      <td>0.706509</td>\n",
       "    </tr>\n",
       "    <tr>\n",
       "      <th>Loud Cover</th>\n",
       "      <td>NaN</td>\n",
       "      <td>NaN</td>\n",
       "      <td>NaN</td>\n",
       "      <td>NaN</td>\n",
       "      <td>NaN</td>\n",
       "      <td>NaN</td>\n",
       "      <td>NaN</td>\n",
       "      <td>NaN</td>\n",
       "      <td>NaN</td>\n",
       "      <td>NaN</td>\n",
       "      <td>NaN</td>\n",
       "      <td>NaN</td>\n",
       "      <td>NaN</td>\n",
       "      <td>NaN</td>\n",
       "    </tr>\n",
       "    <tr>\n",
       "      <th>Pressure(millibar)</th>\n",
       "      <td>NaN</td>\n",
       "      <td>-0.076314</td>\n",
       "      <td>-0.116158</td>\n",
       "      <td>-0.032252</td>\n",
       "      <td>0.077324</td>\n",
       "      <td>-0.061571</td>\n",
       "      <td>NaN</td>\n",
       "      <td>0.028210</td>\n",
       "      <td>-0.092720</td>\n",
       "      <td>-0.211034</td>\n",
       "      <td>-0.634122</td>\n",
       "      <td>0.706509</td>\n",
       "      <td>NaN</td>\n",
       "      <td>1.000000</td>\n",
       "    </tr>\n",
       "  </tbody>\n",
       "</table>\n",
       "</div>"
      ],
      "text/plain": [
       "                       clusterId  Num. Rep.  Session Length  Avg.Sess.  \\\n",
       "clusterId                    NaN        NaN             NaN        NaN   \n",
       "Num. Rep.                    NaN   1.000000       -0.006438  -0.105431   \n",
       "Session Length               NaN  -0.006438        1.000000   0.136738   \n",
       "Avg.Sess.                    NaN  -0.105431        0.136738   1.000000   \n",
       "kWhDelivered                 NaN  -0.060010        0.310325  -0.028790   \n",
       "Avg. Consump                 NaN  -0.151705        0.068062  -0.306549   \n",
       "siteId                       NaN        NaN             NaN        NaN   \n",
       "temperature                  NaN  -0.192787        0.150531   0.597536   \n",
       "Avg. Humidity                NaN  -0.109221        0.210982   0.743543   \n",
       "Avg Wind Speed(mph)          NaN   0.124439        0.071906   0.441166   \n",
       "Wind Bearing(degrees)        NaN  -0.082490        0.143226  -0.095027   \n",
       "Visibility(km)               NaN  -0.184083       -0.086973   0.324415   \n",
       "Loud Cover                   NaN        NaN             NaN        NaN   \n",
       "Pressure(millibar)           NaN  -0.076314       -0.116158  -0.032252   \n",
       "\n",
       "                       kWhDelivered  Avg. Consump  siteId  temperature  \\\n",
       "clusterId                       NaN           NaN     NaN          NaN   \n",
       "Num. Rep.                 -0.060010     -0.151705     NaN    -0.192787   \n",
       "Session Length             0.310325      0.068062     NaN     0.150531   \n",
       "Avg.Sess.                 -0.028790     -0.306549     NaN     0.597536   \n",
       "kWhDelivered               1.000000      0.136078     NaN    -0.088631   \n",
       "Avg. Consump               0.136078      1.000000     NaN     0.007092   \n",
       "siteId                          NaN           NaN     NaN          NaN   \n",
       "temperature               -0.088631      0.007092     NaN     1.000000   \n",
       "Avg. Humidity             -0.066617      0.010471     NaN     0.734907   \n",
       "Avg Wind Speed(mph)       -0.014799     -0.627740     NaN    -0.111375   \n",
       "Wind Bearing(degrees)     -0.060507      0.578792     NaN     0.232455   \n",
       "Visibility(km)             0.071274     -0.097441     NaN     0.574416   \n",
       "Loud Cover                      NaN           NaN     NaN          NaN   \n",
       "Pressure(millibar)         0.077324     -0.061571     NaN     0.028210   \n",
       "\n",
       "                       Avg. Humidity  Avg Wind Speed(mph)  \\\n",
       "clusterId                        NaN                  NaN   \n",
       "Num. Rep.                  -0.109221             0.124439   \n",
       "Session Length              0.210982             0.071906   \n",
       "Avg.Sess.                   0.743543             0.441166   \n",
       "kWhDelivered               -0.066617            -0.014799   \n",
       "Avg. Consump                0.010471            -0.627740   \n",
       "siteId                           NaN                  NaN   \n",
       "temperature                 0.734907            -0.111375   \n",
       "Avg. Humidity               1.000000             0.113319   \n",
       "Avg Wind Speed(mph)         0.113319             1.000000   \n",
       "Wind Bearing(degrees)       0.348580            -0.494134   \n",
       "Visibility(km)              0.203647            -0.212482   \n",
       "Loud Cover                       NaN                  NaN   \n",
       "Pressure(millibar)         -0.092720            -0.211034   \n",
       "\n",
       "                       Wind Bearing(degrees)  Visibility(km)  Loud Cover  \\\n",
       "clusterId                                NaN             NaN         NaN   \n",
       "Num. Rep.                          -0.082490       -0.184083         NaN   \n",
       "Session Length                      0.143226       -0.086973         NaN   \n",
       "Avg.Sess.                          -0.095027        0.324415         NaN   \n",
       "kWhDelivered                       -0.060507        0.071274         NaN   \n",
       "Avg. Consump                        0.578792       -0.097441         NaN   \n",
       "siteId                                   NaN             NaN         NaN   \n",
       "temperature                         0.232455        0.574416         NaN   \n",
       "Avg. Humidity                       0.348580        0.203647         NaN   \n",
       "Avg Wind Speed(mph)                -0.494134       -0.212482         NaN   \n",
       "Wind Bearing(degrees)               1.000000       -0.404592         NaN   \n",
       "Visibility(km)                     -0.404592        1.000000         NaN   \n",
       "Loud Cover                               NaN             NaN         NaN   \n",
       "Pressure(millibar)                 -0.634122        0.706509         NaN   \n",
       "\n",
       "                       Pressure(millibar)  \n",
       "clusterId                             NaN  \n",
       "Num. Rep.                       -0.076314  \n",
       "Session Length                  -0.116158  \n",
       "Avg.Sess.                       -0.032252  \n",
       "kWhDelivered                     0.077324  \n",
       "Avg. Consump                    -0.061571  \n",
       "siteId                                NaN  \n",
       "temperature                      0.028210  \n",
       "Avg. Humidity                   -0.092720  \n",
       "Avg Wind Speed(mph)             -0.211034  \n",
       "Wind Bearing(degrees)           -0.634122  \n",
       "Visibility(km)                   0.706509  \n",
       "Loud Cover                            NaN  \n",
       "Pressure(millibar)               1.000000  "
      ]
     },
     "execution_count": 9,
     "metadata": {},
     "output_type": "execute_result"
    }
   ],
   "source": [
    "ev.corr()"
   ]
  },
  {
   "cell_type": "code",
   "execution_count": 10,
   "id": "42eba413",
   "metadata": {},
   "outputs": [],
   "source": [
    "ev.drop(['id','clusterId','Date','connectionTime','sessionId','spaceID','stationID','disconnectTime','siteId','Time Diff','donechargingTime','timezone','Precip Type','Loud Cover','Daily summary'],axis=1,inplace=True)"
   ]
  },
  {
   "cell_type": "code",
   "execution_count": 11,
   "id": "215789d8",
   "metadata": {},
   "outputs": [
    {
     "data": {
      "text/html": [
       "<div>\n",
       "<style scoped>\n",
       "    .dataframe tbody tr th:only-of-type {\n",
       "        vertical-align: middle;\n",
       "    }\n",
       "\n",
       "    .dataframe tbody tr th {\n",
       "        vertical-align: top;\n",
       "    }\n",
       "\n",
       "    .dataframe thead th {\n",
       "        text-align: right;\n",
       "    }\n",
       "</style>\n",
       "<table border=\"1\" class=\"dataframe\">\n",
       "  <thead>\n",
       "    <tr style=\"text-align: right;\">\n",
       "      <th></th>\n",
       "      <th>Num. Rep.</th>\n",
       "      <th>Session Length</th>\n",
       "      <th>Avg.Sess.</th>\n",
       "      <th>kWhDelivered</th>\n",
       "      <th>Avg. Consump</th>\n",
       "      <th>temperature</th>\n",
       "      <th>Avg. Humidity</th>\n",
       "      <th>Avg Wind Speed(mph)</th>\n",
       "      <th>Wind Bearing(degrees)</th>\n",
       "      <th>Visibility(km)</th>\n",
       "      <th>Pressure(millibar)</th>\n",
       "    </tr>\n",
       "  </thead>\n",
       "  <tbody>\n",
       "    <tr>\n",
       "      <th>0</th>\n",
       "      <td>11.13</td>\n",
       "      <td>2.20</td>\n",
       "      <td>5.659264</td>\n",
       "      <td>7.932</td>\n",
       "      <td>8.88</td>\n",
       "      <td>24.372222</td>\n",
       "      <td>34.846153</td>\n",
       "      <td>13.5400</td>\n",
       "      <td>300</td>\n",
       "      <td>9.9015</td>\n",
       "      <td>1004.55</td>\n",
       "    </tr>\n",
       "    <tr>\n",
       "      <th>1</th>\n",
       "      <td>13.75</td>\n",
       "      <td>11.19</td>\n",
       "      <td>5.670872</td>\n",
       "      <td>10.013</td>\n",
       "      <td>8.88</td>\n",
       "      <td>24.372222</td>\n",
       "      <td>34.846153</td>\n",
       "      <td>13.5400</td>\n",
       "      <td>300</td>\n",
       "      <td>9.9015</td>\n",
       "      <td>1004.55</td>\n",
       "    </tr>\n",
       "    <tr>\n",
       "      <th>2</th>\n",
       "      <td>13.76</td>\n",
       "      <td>10.33</td>\n",
       "      <td>5.652290</td>\n",
       "      <td>5.257</td>\n",
       "      <td>8.88</td>\n",
       "      <td>24.372222</td>\n",
       "      <td>34.846153</td>\n",
       "      <td>13.5400</td>\n",
       "      <td>300</td>\n",
       "      <td>9.9015</td>\n",
       "      <td>1004.55</td>\n",
       "    </tr>\n",
       "    <tr>\n",
       "      <th>3</th>\n",
       "      <td>14.62</td>\n",
       "      <td>9.31</td>\n",
       "      <td>5.636486</td>\n",
       "      <td>5.177</td>\n",
       "      <td>8.89</td>\n",
       "      <td>24.372222</td>\n",
       "      <td>34.846153</td>\n",
       "      <td>13.5400</td>\n",
       "      <td>300</td>\n",
       "      <td>9.9015</td>\n",
       "      <td>1004.55</td>\n",
       "    </tr>\n",
       "    <tr>\n",
       "      <th>4</th>\n",
       "      <td>14.68</td>\n",
       "      <td>8.38</td>\n",
       "      <td>5.624034</td>\n",
       "      <td>10.119</td>\n",
       "      <td>8.90</td>\n",
       "      <td>24.372222</td>\n",
       "      <td>34.846153</td>\n",
       "      <td>13.5400</td>\n",
       "      <td>300</td>\n",
       "      <td>9.9015</td>\n",
       "      <td>1004.55</td>\n",
       "    </tr>\n",
       "    <tr>\n",
       "      <th>...</th>\n",
       "      <td>...</td>\n",
       "      <td>...</td>\n",
       "      <td>...</td>\n",
       "      <td>...</td>\n",
       "      <td>...</td>\n",
       "      <td>...</td>\n",
       "      <td>...</td>\n",
       "      <td>...</td>\n",
       "      <td>...</td>\n",
       "      <td>...</td>\n",
       "      <td>...</td>\n",
       "    </tr>\n",
       "    <tr>\n",
       "      <th>294</th>\n",
       "      <td>16.88</td>\n",
       "      <td>8.21</td>\n",
       "      <td>6.548000</td>\n",
       "      <td>7.799</td>\n",
       "      <td>7.71</td>\n",
       "      <td>28.511111</td>\n",
       "      <td>38.763024</td>\n",
       "      <td>12.4883</td>\n",
       "      <td>339</td>\n",
       "      <td>16.1000</td>\n",
       "      <td>1009.55</td>\n",
       "    </tr>\n",
       "    <tr>\n",
       "      <th>295</th>\n",
       "      <td>16.98</td>\n",
       "      <td>8.11</td>\n",
       "      <td>6.132500</td>\n",
       "      <td>11.304</td>\n",
       "      <td>7.68</td>\n",
       "      <td>28.511111</td>\n",
       "      <td>38.763024</td>\n",
       "      <td>12.4883</td>\n",
       "      <td>339</td>\n",
       "      <td>16.1000</td>\n",
       "      <td>1009.55</td>\n",
       "    </tr>\n",
       "    <tr>\n",
       "      <th>296</th>\n",
       "      <td>17.15</td>\n",
       "      <td>7.22</td>\n",
       "      <td>5.473333</td>\n",
       "      <td>1.943</td>\n",
       "      <td>6.48</td>\n",
       "      <td>28.511111</td>\n",
       "      <td>38.763024</td>\n",
       "      <td>12.4883</td>\n",
       "      <td>339</td>\n",
       "      <td>16.1000</td>\n",
       "      <td>1009.55</td>\n",
       "    </tr>\n",
       "    <tr>\n",
       "      <th>297</th>\n",
       "      <td>17.19</td>\n",
       "      <td>2.98</td>\n",
       "      <td>4.600000</td>\n",
       "      <td>7.053</td>\n",
       "      <td>8.74</td>\n",
       "      <td>28.511111</td>\n",
       "      <td>38.763024</td>\n",
       "      <td>12.4883</td>\n",
       "      <td>339</td>\n",
       "      <td>16.1000</td>\n",
       "      <td>1009.55</td>\n",
       "    </tr>\n",
       "    <tr>\n",
       "      <th>298</th>\n",
       "      <td>17.48</td>\n",
       "      <td>6.22</td>\n",
       "      <td>6.220000</td>\n",
       "      <td>10.430</td>\n",
       "      <td>10.43</td>\n",
       "      <td>28.511111</td>\n",
       "      <td>38.763024</td>\n",
       "      <td>12.4883</td>\n",
       "      <td>339</td>\n",
       "      <td>16.1000</td>\n",
       "      <td>1009.55</td>\n",
       "    </tr>\n",
       "  </tbody>\n",
       "</table>\n",
       "<p>299 rows × 11 columns</p>\n",
       "</div>"
      ],
      "text/plain": [
       "     Num. Rep.  Session Length  Avg.Sess.  kWhDelivered  Avg. Consump  \\\n",
       "0        11.13            2.20   5.659264         7.932          8.88   \n",
       "1        13.75           11.19   5.670872        10.013          8.88   \n",
       "2        13.76           10.33   5.652290         5.257          8.88   \n",
       "3        14.62            9.31   5.636486         5.177          8.89   \n",
       "4        14.68            8.38   5.624034        10.119          8.90   \n",
       "..         ...             ...        ...           ...           ...   \n",
       "294      16.88            8.21   6.548000         7.799          7.71   \n",
       "295      16.98            8.11   6.132500        11.304          7.68   \n",
       "296      17.15            7.22   5.473333         1.943          6.48   \n",
       "297      17.19            2.98   4.600000         7.053          8.74   \n",
       "298      17.48            6.22   6.220000        10.430         10.43   \n",
       "\n",
       "     temperature  Avg. Humidity  Avg Wind Speed(mph)  Wind Bearing(degrees)  \\\n",
       "0      24.372222      34.846153              13.5400                    300   \n",
       "1      24.372222      34.846153              13.5400                    300   \n",
       "2      24.372222      34.846153              13.5400                    300   \n",
       "3      24.372222      34.846153              13.5400                    300   \n",
       "4      24.372222      34.846153              13.5400                    300   \n",
       "..           ...            ...                  ...                    ...   \n",
       "294    28.511111      38.763024              12.4883                    339   \n",
       "295    28.511111      38.763024              12.4883                    339   \n",
       "296    28.511111      38.763024              12.4883                    339   \n",
       "297    28.511111      38.763024              12.4883                    339   \n",
       "298    28.511111      38.763024              12.4883                    339   \n",
       "\n",
       "     Visibility(km)  Pressure(millibar)  \n",
       "0            9.9015             1004.55  \n",
       "1            9.9015             1004.55  \n",
       "2            9.9015             1004.55  \n",
       "3            9.9015             1004.55  \n",
       "4            9.9015             1004.55  \n",
       "..              ...                 ...  \n",
       "294         16.1000             1009.55  \n",
       "295         16.1000             1009.55  \n",
       "296         16.1000             1009.55  \n",
       "297         16.1000             1009.55  \n",
       "298         16.1000             1009.55  \n",
       "\n",
       "[299 rows x 11 columns]"
      ]
     },
     "execution_count": 11,
     "metadata": {},
     "output_type": "execute_result"
    }
   ],
   "source": [
    "ev"
   ]
  },
  {
   "cell_type": "code",
   "execution_count": 12,
   "id": "866ba2f8",
   "metadata": {},
   "outputs": [
    {
     "data": {
      "text/plain": [
       "<Axes: >"
      ]
     },
     "execution_count": 12,
     "metadata": {},
     "output_type": "execute_result"
    },
    {
     "data": {
      "image/png": "[encoded data removed]",
      "text/plain": [
       "<Figure size 640x480 with 1 Axes>"
      ]
     },
     "metadata": {},
     "output_type": "display_data"
    }
   ],
   "source": [
    "#Boxplot\n",
    "sns.boxplot(ev['kWhDelivered'])"
   ]
  },
  {
   "cell_type": "code",
   "execution_count": 13,
   "id": "ee235ffc",
   "metadata": {},
   "outputs": [
    {
     "data": {
      "text/html": [
       "<style>#sk-container-id-1 {color: black;background-color: white;}#sk-container-id-1 pre{padding: 0;}#sk-container-id-1 div.sk-toggleable {background-color: white;}#sk-container-id-1 label.sk-toggleable__label {cursor: pointer;display: block;width: 100%;margin-bottom: 0;padding: 0.3em;box-sizing: border-box;text-align: center;}#sk-container-id-1 label.sk-toggleable__label-arrow:before {content: \"▸\";float: left;margin-right: 0.25em;color: #696969;}#sk-container-id-1 label.sk-toggleable__label-arrow:hover:before {color: black;}#sk-container-id-1 div.sk-estimator:hover label.sk-toggleable__label-arrow:before {color: black;}#sk-container-id-1 div.sk-toggleable__content {max-height: 0;max-width: 0;overflow: hidden;text-align: left;background-color: #f0f8ff;}#sk-container-id-1 div.sk-toggleable__content pre {margin: 0.2em;color: black;border-radius: 0.25em;background-color: #f0f8ff;}#sk-container-id-1 input.sk-toggleable__control:checked~div.sk-toggleable__content {max-height: 200px;max-width: 100%;overflow: auto;}#sk-container-id-1 input.sk-toggleable__control:checked~label.sk-toggleable__label-arrow:before {content: \"▾\";}#sk-container-id-1 div.sk-estimator input.sk-toggleable__control:checked~label.sk-toggleable__label {background-color: #d4ebff;}#sk-container-id-1 div.sk-label input.sk-toggleable__control:checked~label.sk-toggleable__label {background-color: #d4ebff;}#sk-container-id-1 input.sk-hidden--visually {border: 0;clip: rect(1px 1px 1px 1px);clip: rect(1px, 1px, 1px, 1px);height: 1px;margin: -1px;overflow: hidden;padding: 0;position: absolute;width: 1px;}#sk-container-id-1 div.sk-estimator {font-family: monospace;background-color: #f0f8ff;border: 1px dotted black;border-radius: 0.25em;box-sizing: border-box;margin-bottom: 0.5em;}#sk-container-id-1 div.sk-estimator:hover {background-color: #d4ebff;}#sk-container-id-1 div.sk-parallel-item::after {content: \"\";width: 100%;border-bottom: 1px solid gray;flex-grow: 1;}#sk-container-id-1 div.sk-label:hover label.sk-toggleable__label {background-color: #d4ebff;}#sk-container-id-1 div.sk-serial::before {content: \"\";position: absolute;border-left: 1px solid gray;box-sizing: border-box;top: 0;bottom: 0;left: 50%;z-index: 0;}#sk-container-id-1 div.sk-serial {display: flex;flex-direction: column;align-items: center;background-color: white;padding-right: 0.2em;padding-left: 0.2em;position: relative;}#sk-container-id-1 div.sk-item {position: relative;z-index: 1;}#sk-container-id-1 div.sk-parallel {display: flex;align-items: stretch;justify-content: center;background-color: white;position: relative;}#sk-container-id-1 div.sk-item::before, #sk-container-id-1 div.sk-parallel-item::before {content: \"\";position: absolute;border-left: 1px solid gray;box-sizing: border-box;top: 0;bottom: 0;left: 50%;z-index: -1;}#sk-container-id-1 div.sk-parallel-item {display: flex;flex-direction: column;z-index: 1;position: relative;background-color: white;}#sk-container-id-1 div.sk-parallel-item:first-child::after {align-self: flex-end;width: 50%;}#sk-container-id-1 div.sk-parallel-item:last-child::after {align-self: flex-start;width: 50%;}#sk-container-id-1 div.sk-parallel-item:only-child::after {width: 0;}#sk-container-id-1 div.sk-dashed-wrapped {border: 1px dashed gray;margin: 0 0.4em 0.5em 0.4em;box-sizing: border-box;padding-bottom: 0.4em;background-color: white;}#sk-container-id-1 div.sk-label label {font-family: monospace;font-weight: bold;display: inline-block;line-height: 1.2em;}#sk-container-id-1 div.sk-label-container {text-align: center;}#sk-container-id-1 div.sk-container {/* jupyter's `normalize.less` sets `[hidden] { display: none; }` but bootstrap.min.css set `[hidden] { display: none !important; }` so we also need the `!important` here to be able to override the default hidden behavior on the sphinx rendered scikit-learn.org. See: https://github.com/scikit-learn/scikit-learn/issues/21755 */display: inline-block !important;position: relative;}#sk-container-id-1 div.sk-text-repr-fallback {display: none;}</style><div id=\"sk-container-id-1\" class=\"sk-top-container\"><div class=\"sk-text-repr-fallback\"><pre>IsolationForest()</pre><b>In a Jupyter environment, please rerun this cell to show the HTML representation or trust the notebook. <br />On GitHub, the HTML representation is unable to render, please try loading this page with nbviewer.org.</b></div><div class=\"sk-container\" hidden><div class=\"sk-item\"><div class=\"sk-estimator sk-toggleable\"><input class=\"sk-toggleable__control sk-hidden--visually\" id=\"sk-estimator-id-1\" type=\"checkbox\" checked><label for=\"sk-estimator-id-1\" class=\"sk-toggleable__label sk-toggleable__label-arrow\">IsolationForest</label><div class=\"sk-toggleable__content\"><pre>IsolationForest()</pre></div></div></div></div></div>"
      ],
      "text/plain": [
       "IsolationForest()"
      ]
     },
     "execution_count": 13,
     "metadata": {},
     "output_type": "execute_result"
    }
   ],
   "source": [
    "model=IsolationForest(n_estimators=100,max_samples='auto',contamination='auto',max_features=1.0)\n",
    "model.fit(ev[['kWhDelivered']])"
   ]
  },
  {
   "cell_type": "code",
   "execution_count": 14,
   "id": "0ae06878",
   "metadata": {
    "scrolled": true
   },
   "outputs": [
    {
     "data": {
      "text/html": [
       "<div>\n",
       "<style scoped>\n",
       "    .dataframe tbody tr th:only-of-type {\n",
       "        vertical-align: middle;\n",
       "    }\n",
       "\n",
       "    .dataframe tbody tr th {\n",
       "        vertical-align: top;\n",
       "    }\n",
       "\n",
       "    .dataframe thead th {\n",
       "        text-align: right;\n",
       "    }\n",
       "</style>\n",
       "<table border=\"1\" class=\"dataframe\">\n",
       "  <thead>\n",
       "    <tr style=\"text-align: right;\">\n",
       "      <th></th>\n",
       "      <th>Num. Rep.</th>\n",
       "      <th>Session Length</th>\n",
       "      <th>Avg.Sess.</th>\n",
       "      <th>kWhDelivered</th>\n",
       "      <th>Avg. Consump</th>\n",
       "      <th>temperature</th>\n",
       "      <th>Avg. Humidity</th>\n",
       "      <th>Avg Wind Speed(mph)</th>\n",
       "      <th>Wind Bearing(degrees)</th>\n",
       "      <th>Visibility(km)</th>\n",
       "      <th>Pressure(millibar)</th>\n",
       "      <th>newkWh</th>\n",
       "      <th>anomaly</th>\n",
       "    </tr>\n",
       "  </thead>\n",
       "  <tbody>\n",
       "    <tr>\n",
       "      <th>0</th>\n",
       "      <td>11.13</td>\n",
       "      <td>2.20</td>\n",
       "      <td>5.659264</td>\n",
       "      <td>7.932</td>\n",
       "      <td>8.88</td>\n",
       "      <td>24.372222</td>\n",
       "      <td>34.846153</td>\n",
       "      <td>13.54</td>\n",
       "      <td>300</td>\n",
       "      <td>9.9015</td>\n",
       "      <td>1004.55</td>\n",
       "      <td>0.045206</td>\n",
       "      <td>1</td>\n",
       "    </tr>\n",
       "    <tr>\n",
       "      <th>1</th>\n",
       "      <td>13.75</td>\n",
       "      <td>11.19</td>\n",
       "      <td>5.670872</td>\n",
       "      <td>10.013</td>\n",
       "      <td>8.88</td>\n",
       "      <td>24.372222</td>\n",
       "      <td>34.846153</td>\n",
       "      <td>13.54</td>\n",
       "      <td>300</td>\n",
       "      <td>9.9015</td>\n",
       "      <td>1004.55</td>\n",
       "      <td>0.039860</td>\n",
       "      <td>1</td>\n",
       "    </tr>\n",
       "    <tr>\n",
       "      <th>2</th>\n",
       "      <td>13.76</td>\n",
       "      <td>10.33</td>\n",
       "      <td>5.652290</td>\n",
       "      <td>5.257</td>\n",
       "      <td>8.88</td>\n",
       "      <td>24.372222</td>\n",
       "      <td>34.846153</td>\n",
       "      <td>13.54</td>\n",
       "      <td>300</td>\n",
       "      <td>9.9015</td>\n",
       "      <td>1004.55</td>\n",
       "      <td>0.066276</td>\n",
       "      <td>1</td>\n",
       "    </tr>\n",
       "    <tr>\n",
       "      <th>3</th>\n",
       "      <td>14.62</td>\n",
       "      <td>9.31</td>\n",
       "      <td>5.636486</td>\n",
       "      <td>5.177</td>\n",
       "      <td>8.89</td>\n",
       "      <td>24.372222</td>\n",
       "      <td>34.846153</td>\n",
       "      <td>13.54</td>\n",
       "      <td>300</td>\n",
       "      <td>9.9015</td>\n",
       "      <td>1004.55</td>\n",
       "      <td>0.067819</td>\n",
       "      <td>1</td>\n",
       "    </tr>\n",
       "    <tr>\n",
       "      <th>4</th>\n",
       "      <td>14.68</td>\n",
       "      <td>8.38</td>\n",
       "      <td>5.624034</td>\n",
       "      <td>10.119</td>\n",
       "      <td>8.90</td>\n",
       "      <td>24.372222</td>\n",
       "      <td>34.846153</td>\n",
       "      <td>13.54</td>\n",
       "      <td>300</td>\n",
       "      <td>9.9015</td>\n",
       "      <td>1004.55</td>\n",
       "      <td>0.045918</td>\n",
       "      <td>1</td>\n",
       "    </tr>\n",
       "    <tr>\n",
       "      <th>5</th>\n",
       "      <td>14.73</td>\n",
       "      <td>10.56</td>\n",
       "      <td>5.614660</td>\n",
       "      <td>7.910</td>\n",
       "      <td>8.90</td>\n",
       "      <td>24.372222</td>\n",
       "      <td>34.846153</td>\n",
       "      <td>13.54</td>\n",
       "      <td>300</td>\n",
       "      <td>9.9015</td>\n",
       "      <td>1004.55</td>\n",
       "      <td>0.047112</td>\n",
       "      <td>1</td>\n",
       "    </tr>\n",
       "    <tr>\n",
       "      <th>6</th>\n",
       "      <td>14.80</td>\n",
       "      <td>3.67</td>\n",
       "      <td>5.597782</td>\n",
       "      <td>15.294</td>\n",
       "      <td>8.90</td>\n",
       "      <td>24.372222</td>\n",
       "      <td>34.846153</td>\n",
       "      <td>13.54</td>\n",
       "      <td>300</td>\n",
       "      <td>9.9015</td>\n",
       "      <td>1004.55</td>\n",
       "      <td>-0.023068</td>\n",
       "      <td>-1</td>\n",
       "    </tr>\n",
       "    <tr>\n",
       "      <th>7</th>\n",
       "      <td>14.97</td>\n",
       "      <td>4.13</td>\n",
       "      <td>5.604384</td>\n",
       "      <td>6.953</td>\n",
       "      <td>8.88</td>\n",
       "      <td>24.372222</td>\n",
       "      <td>34.846153</td>\n",
       "      <td>13.54</td>\n",
       "      <td>300</td>\n",
       "      <td>9.9015</td>\n",
       "      <td>1004.55</td>\n",
       "      <td>0.071577</td>\n",
       "      <td>1</td>\n",
       "    </tr>\n",
       "    <tr>\n",
       "      <th>8</th>\n",
       "      <td>15.18</td>\n",
       "      <td>3.08</td>\n",
       "      <td>5.609450</td>\n",
       "      <td>2.174</td>\n",
       "      <td>8.89</td>\n",
       "      <td>24.372222</td>\n",
       "      <td>34.846153</td>\n",
       "      <td>13.54</td>\n",
       "      <td>300</td>\n",
       "      <td>9.9015</td>\n",
       "      <td>1004.55</td>\n",
       "      <td>0.045079</td>\n",
       "      <td>1</td>\n",
       "    </tr>\n",
       "    <tr>\n",
       "      <th>9</th>\n",
       "      <td>15.20</td>\n",
       "      <td>3.29</td>\n",
       "      <td>5.618172</td>\n",
       "      <td>2.439</td>\n",
       "      <td>8.91</td>\n",
       "      <td>24.372222</td>\n",
       "      <td>34.846153</td>\n",
       "      <td>13.54</td>\n",
       "      <td>300</td>\n",
       "      <td>9.9015</td>\n",
       "      <td>1004.55</td>\n",
       "      <td>0.064144</td>\n",
       "      <td>1</td>\n",
       "    </tr>\n",
       "  </tbody>\n",
       "</table>\n",
       "</div>"
      ],
      "text/plain": [
       "   Num. Rep.  Session Length  Avg.Sess.  kWhDelivered  Avg. Consump  \\\n",
       "0      11.13            2.20   5.659264         7.932          8.88   \n",
       "1      13.75           11.19   5.670872        10.013          8.88   \n",
       "2      13.76           10.33   5.652290         5.257          8.88   \n",
       "3      14.62            9.31   5.636486         5.177          8.89   \n",
       "4      14.68            8.38   5.624034        10.119          8.90   \n",
       "5      14.73           10.56   5.614660         7.910          8.90   \n",
       "6      14.80            3.67   5.597782        15.294          8.90   \n",
       "7      14.97            4.13   5.604384         6.953          8.88   \n",
       "8      15.18            3.08   5.609450         2.174          8.89   \n",
       "9      15.20            3.29   5.618172         2.439          8.91   \n",
       "\n",
       "   temperature  Avg. Humidity  Avg Wind Speed(mph)  Wind Bearing(degrees)  \\\n",
       "0    24.372222      34.846153                13.54                    300   \n",
       "1    24.372222      34.846153                13.54                    300   \n",
       "2    24.372222      34.846153                13.54                    300   \n",
       "3    24.372222      34.846153                13.54                    300   \n",
       "4    24.372222      34.846153                13.54                    300   \n",
       "5    24.372222      34.846153                13.54                    300   \n",
       "6    24.372222      34.846153                13.54                    300   \n",
       "7    24.372222      34.846153                13.54                    300   \n",
       "8    24.372222      34.846153                13.54                    300   \n",
       "9    24.372222      34.846153                13.54                    300   \n",
       "\n",
       "   Visibility(km)  Pressure(millibar)    newkWh  anomaly  \n",
       "0          9.9015             1004.55  0.045206        1  \n",
       "1          9.9015             1004.55  0.039860        1  \n",
       "2          9.9015             1004.55  0.066276        1  \n",
       "3          9.9015             1004.55  0.067819        1  \n",
       "4          9.9015             1004.55  0.045918        1  \n",
       "5          9.9015             1004.55  0.047112        1  \n",
       "6          9.9015             1004.55 -0.023068       -1  \n",
       "7          9.9015             1004.55  0.071577        1  \n",
       "8          9.9015             1004.55  0.045079        1  \n",
       "9          9.9015             1004.55  0.064144        1  "
      ]
     },
     "execution_count": 14,
     "metadata": {},
     "output_type": "execute_result"
    }
   ],
   "source": [
    "ev['newkWh']=model.decision_function(ev[['kWhDelivered']])\n",
    "ev['anomaly']=model.predict(ev[['kWhDelivered']])\n",
    "ev.head(10)"
   ]
  },
  {
   "cell_type": "code",
   "execution_count": 15,
   "id": "e20d1c33",
   "metadata": {},
   "outputs": [
    {
     "data": {
      "text/plain": [
       "54"
      ]
     },
     "execution_count": 15,
     "metadata": {},
     "output_type": "execute_result"
    }
   ],
   "source": [
    "outliers_counter =len(ev[ev['anomaly'] ==-1])\n",
    "outliers_counter   "
   ]
  },
  {
   "cell_type": "code",
   "execution_count": 16,
   "id": "7d97e7db",
   "metadata": {},
   "outputs": [],
   "source": [
    "ev_data = ev[(ev['anomaly'] ==1)]"
   ]
  },
  {
   "cell_type": "code",
   "execution_count": 17,
   "id": "e1e2438a",
   "metadata": {},
   "outputs": [
    {
     "data": {
      "text/html": [
       "<div>\n",
       "<style scoped>\n",
       "    .dataframe tbody tr th:only-of-type {\n",
       "        vertical-align: middle;\n",
       "    }\n",
       "\n",
       "    .dataframe tbody tr th {\n",
       "        vertical-align: top;\n",
       "    }\n",
       "\n",
       "    .dataframe thead th {\n",
       "        text-align: right;\n",
       "    }\n",
       "</style>\n",
       "<table border=\"1\" class=\"dataframe\">\n",
       "  <thead>\n",
       "    <tr style=\"text-align: right;\">\n",
       "      <th></th>\n",
       "      <th>Num. Rep.</th>\n",
       "      <th>Session Length</th>\n",
       "      <th>Avg.Sess.</th>\n",
       "      <th>kWhDelivered</th>\n",
       "      <th>Avg. Consump</th>\n",
       "      <th>temperature</th>\n",
       "      <th>Avg. Humidity</th>\n",
       "      <th>Avg Wind Speed(mph)</th>\n",
       "      <th>Wind Bearing(degrees)</th>\n",
       "      <th>Visibility(km)</th>\n",
       "      <th>Pressure(millibar)</th>\n",
       "      <th>newkWh</th>\n",
       "      <th>anomaly</th>\n",
       "    </tr>\n",
       "  </thead>\n",
       "  <tbody>\n",
       "    <tr>\n",
       "      <th>0</th>\n",
       "      <td>11.13</td>\n",
       "      <td>2.20</td>\n",
       "      <td>5.659264</td>\n",
       "      <td>7.932</td>\n",
       "      <td>8.88</td>\n",
       "      <td>24.372222</td>\n",
       "      <td>34.846153</td>\n",
       "      <td>13.5400</td>\n",
       "      <td>300</td>\n",
       "      <td>9.9015</td>\n",
       "      <td>1004.55</td>\n",
       "      <td>0.045206</td>\n",
       "      <td>1</td>\n",
       "    </tr>\n",
       "    <tr>\n",
       "      <th>1</th>\n",
       "      <td>13.75</td>\n",
       "      <td>11.19</td>\n",
       "      <td>5.670872</td>\n",
       "      <td>10.013</td>\n",
       "      <td>8.88</td>\n",
       "      <td>24.372222</td>\n",
       "      <td>34.846153</td>\n",
       "      <td>13.5400</td>\n",
       "      <td>300</td>\n",
       "      <td>9.9015</td>\n",
       "      <td>1004.55</td>\n",
       "      <td>0.039860</td>\n",
       "      <td>1</td>\n",
       "    </tr>\n",
       "    <tr>\n",
       "      <th>2</th>\n",
       "      <td>13.76</td>\n",
       "      <td>10.33</td>\n",
       "      <td>5.652290</td>\n",
       "      <td>5.257</td>\n",
       "      <td>8.88</td>\n",
       "      <td>24.372222</td>\n",
       "      <td>34.846153</td>\n",
       "      <td>13.5400</td>\n",
       "      <td>300</td>\n",
       "      <td>9.9015</td>\n",
       "      <td>1004.55</td>\n",
       "      <td>0.066276</td>\n",
       "      <td>1</td>\n",
       "    </tr>\n",
       "    <tr>\n",
       "      <th>3</th>\n",
       "      <td>14.62</td>\n",
       "      <td>9.31</td>\n",
       "      <td>5.636486</td>\n",
       "      <td>5.177</td>\n",
       "      <td>8.89</td>\n",
       "      <td>24.372222</td>\n",
       "      <td>34.846153</td>\n",
       "      <td>13.5400</td>\n",
       "      <td>300</td>\n",
       "      <td>9.9015</td>\n",
       "      <td>1004.55</td>\n",
       "      <td>0.067819</td>\n",
       "      <td>1</td>\n",
       "    </tr>\n",
       "    <tr>\n",
       "      <th>4</th>\n",
       "      <td>14.68</td>\n",
       "      <td>8.38</td>\n",
       "      <td>5.624034</td>\n",
       "      <td>10.119</td>\n",
       "      <td>8.90</td>\n",
       "      <td>24.372222</td>\n",
       "      <td>34.846153</td>\n",
       "      <td>13.5400</td>\n",
       "      <td>300</td>\n",
       "      <td>9.9015</td>\n",
       "      <td>1004.55</td>\n",
       "      <td>0.045918</td>\n",
       "      <td>1</td>\n",
       "    </tr>\n",
       "    <tr>\n",
       "      <th>...</th>\n",
       "      <td>...</td>\n",
       "      <td>...</td>\n",
       "      <td>...</td>\n",
       "      <td>...</td>\n",
       "      <td>...</td>\n",
       "      <td>...</td>\n",
       "      <td>...</td>\n",
       "      <td>...</td>\n",
       "      <td>...</td>\n",
       "      <td>...</td>\n",
       "      <td>...</td>\n",
       "      <td>...</td>\n",
       "      <td>...</td>\n",
       "    </tr>\n",
       "    <tr>\n",
       "      <th>294</th>\n",
       "      <td>16.88</td>\n",
       "      <td>8.21</td>\n",
       "      <td>6.548000</td>\n",
       "      <td>7.799</td>\n",
       "      <td>7.71</td>\n",
       "      <td>28.511111</td>\n",
       "      <td>38.763024</td>\n",
       "      <td>12.4883</td>\n",
       "      <td>339</td>\n",
       "      <td>16.1000</td>\n",
       "      <td>1009.55</td>\n",
       "      <td>0.035757</td>\n",
       "      <td>1</td>\n",
       "    </tr>\n",
       "    <tr>\n",
       "      <th>295</th>\n",
       "      <td>16.98</td>\n",
       "      <td>8.11</td>\n",
       "      <td>6.132500</td>\n",
       "      <td>11.304</td>\n",
       "      <td>7.68</td>\n",
       "      <td>28.511111</td>\n",
       "      <td>38.763024</td>\n",
       "      <td>12.4883</td>\n",
       "      <td>339</td>\n",
       "      <td>16.1000</td>\n",
       "      <td>1009.55</td>\n",
       "      <td>0.019721</td>\n",
       "      <td>1</td>\n",
       "    </tr>\n",
       "    <tr>\n",
       "      <th>296</th>\n",
       "      <td>17.15</td>\n",
       "      <td>7.22</td>\n",
       "      <td>5.473333</td>\n",
       "      <td>1.943</td>\n",
       "      <td>6.48</td>\n",
       "      <td>28.511111</td>\n",
       "      <td>38.763024</td>\n",
       "      <td>12.4883</td>\n",
       "      <td>339</td>\n",
       "      <td>16.1000</td>\n",
       "      <td>1009.55</td>\n",
       "      <td>0.039042</td>\n",
       "      <td>1</td>\n",
       "    </tr>\n",
       "    <tr>\n",
       "      <th>297</th>\n",
       "      <td>17.19</td>\n",
       "      <td>2.98</td>\n",
       "      <td>4.600000</td>\n",
       "      <td>7.053</td>\n",
       "      <td>8.74</td>\n",
       "      <td>28.511111</td>\n",
       "      <td>38.763024</td>\n",
       "      <td>12.4883</td>\n",
       "      <td>339</td>\n",
       "      <td>16.1000</td>\n",
       "      <td>1009.55</td>\n",
       "      <td>0.064699</td>\n",
       "      <td>1</td>\n",
       "    </tr>\n",
       "    <tr>\n",
       "      <th>298</th>\n",
       "      <td>17.48</td>\n",
       "      <td>6.22</td>\n",
       "      <td>6.220000</td>\n",
       "      <td>10.430</td>\n",
       "      <td>10.43</td>\n",
       "      <td>28.511111</td>\n",
       "      <td>38.763024</td>\n",
       "      <td>12.4883</td>\n",
       "      <td>339</td>\n",
       "      <td>16.1000</td>\n",
       "      <td>1009.55</td>\n",
       "      <td>0.040924</td>\n",
       "      <td>1</td>\n",
       "    </tr>\n",
       "  </tbody>\n",
       "</table>\n",
       "<p>245 rows × 13 columns</p>\n",
       "</div>"
      ],
      "text/plain": [
       "     Num. Rep.  Session Length  Avg.Sess.  kWhDelivered  Avg. Consump  \\\n",
       "0        11.13            2.20   5.659264         7.932          8.88   \n",
       "1        13.75           11.19   5.670872        10.013          8.88   \n",
       "2        13.76           10.33   5.652290         5.257          8.88   \n",
       "3        14.62            9.31   5.636486         5.177          8.89   \n",
       "4        14.68            8.38   5.624034        10.119          8.90   \n",
       "..         ...             ...        ...           ...           ...   \n",
       "294      16.88            8.21   6.548000         7.799          7.71   \n",
       "295      16.98            8.11   6.132500        11.304          7.68   \n",
       "296      17.15            7.22   5.473333         1.943          6.48   \n",
       "297      17.19            2.98   4.600000         7.053          8.74   \n",
       "298      17.48            6.22   6.220000        10.430         10.43   \n",
       "\n",
       "     temperature  Avg. Humidity  Avg Wind Speed(mph)  Wind Bearing(degrees)  \\\n",
       "0      24.372222      34.846153              13.5400                    300   \n",
       "1      24.372222      34.846153              13.5400                    300   \n",
       "2      24.372222      34.846153              13.5400                    300   \n",
       "3      24.372222      34.846153              13.5400                    300   \n",
       "4      24.372222      34.846153              13.5400                    300   \n",
       "..           ...            ...                  ...                    ...   \n",
       "294    28.511111      38.763024              12.4883                    339   \n",
       "295    28.511111      38.763024              12.4883                    339   \n",
       "296    28.511111      38.763024              12.4883                    339   \n",
       "297    28.511111      38.763024              12.4883                    339   \n",
       "298    28.511111      38.763024              12.4883                    339   \n",
       "\n",
       "     Visibility(km)  Pressure(millibar)    newkWh  anomaly  \n",
       "0            9.9015             1004.55  0.045206        1  \n",
       "1            9.9015             1004.55  0.039860        1  \n",
       "2            9.9015             1004.55  0.066276        1  \n",
       "3            9.9015             1004.55  0.067819        1  \n",
       "4            9.9015             1004.55  0.045918        1  \n",
       "..              ...                 ...       ...      ...  \n",
       "294         16.1000             1009.55  0.035757        1  \n",
       "295         16.1000             1009.55  0.019721        1  \n",
       "296         16.1000             1009.55  0.039042        1  \n",
       "297         16.1000             1009.55  0.064699        1  \n",
       "298         16.1000             1009.55  0.040924        1  \n",
       "\n",
       "[245 rows x 13 columns]"
      ]
     },
     "execution_count": 17,
     "metadata": {},
     "output_type": "execute_result"
    }
   ],
   "source": [
    "ev_data"
   ]
  },
  {
   "cell_type": "markdown",
   "id": "a4de93b0",
   "metadata": {},
   "source": [
    "#Splitting the features and target "
   ]
  },
  {
   "cell_type": "code",
   "execution_count": 18,
   "id": "936f3b2d",
   "metadata": {},
   "outputs": [],
   "source": [
    "X = ev_data.drop(['kWhDelivered','newkWh','anomaly','Session Length'],axis=1)\n",
    "Y = ev_data['kWhDelivered']"
   ]
  },
  {
   "cell_type": "code",
   "execution_count": 19,
   "id": "973fcacd",
   "metadata": {},
   "outputs": [],
   "source": [
    "scaler = StandardScaler()"
   ]
  },
  {
   "cell_type": "code",
   "execution_count": 20,
   "id": "b2904ac9",
   "metadata": {},
   "outputs": [
    {
     "data": {
      "text/html": [
       "<style>#sk-container-id-2 {color: black;background-color: white;}#sk-container-id-2 pre{padding: 0;}#sk-container-id-2 div.sk-toggleable {background-color: white;}#sk-container-id-2 label.sk-toggleable__label {cursor: pointer;display: block;width: 100%;margin-bottom: 0;padding: 0.3em;box-sizing: border-box;text-align: center;}#sk-container-id-2 label.sk-toggleable__label-arrow:before {content: \"▸\";float: left;margin-right: 0.25em;color: #696969;}#sk-container-id-2 label.sk-toggleable__label-arrow:hover:before {color: black;}#sk-container-id-2 div.sk-estimator:hover label.sk-toggleable__label-arrow:before {color: black;}#sk-container-id-2 div.sk-toggleable__content {max-height: 0;max-width: 0;overflow: hidden;text-align: left;background-color: #f0f8ff;}#sk-container-id-2 div.sk-toggleable__content pre {margin: 0.2em;color: black;border-radius: 0.25em;background-color: #f0f8ff;}#sk-container-id-2 input.sk-toggleable__control:checked~div.sk-toggleable__content {max-height: 200px;max-width: 100%;overflow: auto;}#sk-container-id-2 input.sk-toggleable__control:checked~label.sk-toggleable__label-arrow:before {content: \"▾\";}#sk-container-id-2 div.sk-estimator input.sk-toggleable__control:checked~label.sk-toggleable__label {background-color: #d4ebff;}#sk-container-id-2 div.sk-label input.sk-toggleable__control:checked~label.sk-toggleable__label {background-color: #d4ebff;}#sk-container-id-2 input.sk-hidden--visually {border: 0;clip: rect(1px 1px 1px 1px);clip: rect(1px, 1px, 1px, 1px);height: 1px;margin: -1px;overflow: hidden;padding: 0;position: absolute;width: 1px;}#sk-container-id-2 div.sk-estimator {font-family: monospace;background-color: #f0f8ff;border: 1px dotted black;border-radius: 0.25em;box-sizing: border-box;margin-bottom: 0.5em;}#sk-container-id-2 div.sk-estimator:hover {background-color: #d4ebff;}#sk-container-id-2 div.sk-parallel-item::after {content: \"\";width: 100%;border-bottom: 1px solid gray;flex-grow: 1;}#sk-container-id-2 div.sk-label:hover label.sk-toggleable__label {background-color: #d4ebff;}#sk-container-id-2 div.sk-serial::before {content: \"\";position: absolute;border-left: 1px solid gray;box-sizing: border-box;top: 0;bottom: 0;left: 50%;z-index: 0;}#sk-container-id-2 div.sk-serial {display: flex;flex-direction: column;align-items: center;background-color: white;padding-right: 0.2em;padding-left: 0.2em;position: relative;}#sk-container-id-2 div.sk-item {position: relative;z-index: 1;}#sk-container-id-2 div.sk-parallel {display: flex;align-items: stretch;justify-content: center;background-color: white;position: relative;}#sk-container-id-2 div.sk-item::before, #sk-container-id-2 div.sk-parallel-item::before {content: \"\";position: absolute;border-left: 1px solid gray;box-sizing: border-box;top: 0;bottom: 0;left: 50%;z-index: -1;}#sk-container-id-2 div.sk-parallel-item {display: flex;flex-direction: column;z-index: 1;position: relative;background-color: white;}#sk-container-id-2 div.sk-parallel-item:first-child::after {align-self: flex-end;width: 50%;}#sk-container-id-2 div.sk-parallel-item:last-child::after {align-self: flex-start;width: 50%;}#sk-container-id-2 div.sk-parallel-item:only-child::after {width: 0;}#sk-container-id-2 div.sk-dashed-wrapped {border: 1px dashed gray;margin: 0 0.4em 0.5em 0.4em;box-sizing: border-box;padding-bottom: 0.4em;background-color: white;}#sk-container-id-2 div.sk-label label {font-family: monospace;font-weight: bold;display: inline-block;line-height: 1.2em;}#sk-container-id-2 div.sk-label-container {text-align: center;}#sk-container-id-2 div.sk-container {/* jupyter's `normalize.less` sets `[hidden] { display: none; }` but bootstrap.min.css set `[hidden] { display: none !important; }` so we also need the `!important` here to be able to override the default hidden behavior on the sphinx rendered scikit-learn.org. See: https://github.com/scikit-learn/scikit-learn/issues/21755 */display: inline-block !important;position: relative;}#sk-container-id-2 div.sk-text-repr-fallback {display: none;}</style><div id=\"sk-container-id-2\" class=\"sk-top-container\"><div class=\"sk-text-repr-fallback\"><pre>StandardScaler()</pre><b>In a Jupyter environment, please rerun this cell to show the HTML representation or trust the notebook. <br />On GitHub, the HTML representation is unable to render, please try loading this page with nbviewer.org.</b></div><div class=\"sk-container\" hidden><div class=\"sk-item\"><div class=\"sk-estimator sk-toggleable\"><input class=\"sk-toggleable__control sk-hidden--visually\" id=\"sk-estimator-id-2\" type=\"checkbox\" checked><label for=\"sk-estimator-id-2\" class=\"sk-toggleable__label sk-toggleable__label-arrow\">StandardScaler</label><div class=\"sk-toggleable__content\"><pre>StandardScaler()</pre></div></div></div></div></div>"
      ],
      "text/plain": [
       "StandardScaler()"
      ]
     },
     "execution_count": 20,
     "metadata": {},
     "output_type": "execute_result"
    }
   ],
   "source": [
    "scaler.fit(X)"
   ]
  },
  {
   "cell_type": "code",
   "execution_count": 21,
   "id": "240377c2",
   "metadata": {},
   "outputs": [],
   "source": [
    "standardized_data = scaler.transform(X)"
   ]
  },
  {
   "cell_type": "code",
   "execution_count": 22,
   "id": "92dc69c4",
   "metadata": {},
   "outputs": [
    {
     "name": "stdout",
     "output_type": "stream",
     "text": [
      "[[-0.43445507 -0.92934958 -0.31747837 ...  0.71647667 -2.26338664\n",
      "  -1.85817597]\n",
      " [-0.03037377  1.68925744 -0.30002053 ...  0.71647667 -2.26338664\n",
      "  -1.85817597]\n",
      " [-0.02883147  1.43875666 -0.32796765 ...  0.71647667 -2.26338664\n",
      "  -1.85817597]\n",
      " ...\n",
      " [ 0.49400655  0.53287592 -0.59710252 ...  1.06261554  0.62525796\n",
      "  -0.63063526]\n",
      " [ 0.50017573 -0.7021512  -1.91052118 ...  1.06261554  0.62525796\n",
      "  -0.63063526]\n",
      " [ 0.54490228  0.24159594  0.5258203  ...  1.06261554  0.62525796\n",
      "  -0.63063526]]\n"
     ]
    }
   ],
   "source": [
    "print(standardized_data)"
   ]
  },
  {
   "cell_type": "code",
   "execution_count": 23,
   "id": "9af1acb4",
   "metadata": {},
   "outputs": [],
   "source": [
    "X = standardized_data\n",
    "Y = ev_data['kWhDelivered']"
   ]
  },
  {
   "cell_type": "code",
   "execution_count": 24,
   "id": "64766e62",
   "metadata": {},
   "outputs": [],
   "source": [
    "X_train, X_test, Y_train, Y_test = train_test_split(X, Y, test_size = 0.2, random_state=2)"
   ]
  },
  {
   "cell_type": "code",
   "execution_count": 25,
   "id": "ed5be210",
   "metadata": {},
   "outputs": [],
   "source": [
    "regressor = RandomForestRegressor(n_estimators=100)"
   ]
  },
  {
   "cell_type": "code",
   "execution_count": 26,
   "id": "98c2ebcf",
   "metadata": {},
   "outputs": [
    {
     "data": {
      "text/html": [
       "<style>#sk-container-id-3 {color: black;background-color: white;}#sk-container-id-3 pre{padding: 0;}#sk-container-id-3 div.sk-toggleable {background-color: white;}#sk-container-id-3 label.sk-toggleable__label {cursor: pointer;display: block;width: 100%;margin-bottom: 0;padding: 0.3em;box-sizing: border-box;text-align: center;}#sk-container-id-3 label.sk-toggleable__label-arrow:before {content: \"▸\";float: left;margin-right: 0.25em;color: #696969;}#sk-container-id-3 label.sk-toggleable__label-arrow:hover:before {color: black;}#sk-container-id-3 div.sk-estimator:hover label.sk-toggleable__label-arrow:before {color: black;}#sk-container-id-3 div.sk-toggleable__content {max-height: 0;max-width: 0;overflow: hidden;text-align: left;background-color: #f0f8ff;}#sk-container-id-3 div.sk-toggleable__content pre {margin: 0.2em;color: black;border-radius: 0.25em;background-color: #f0f8ff;}#sk-container-id-3 input.sk-toggleable__control:checked~div.sk-toggleable__content {max-height: 200px;max-width: 100%;overflow: auto;}#sk-container-id-3 input.sk-toggleable__control:checked~label.sk-toggleable__label-arrow:before {content: \"▾\";}#sk-container-id-3 div.sk-estimator input.sk-toggleable__control:checked~label.sk-toggleable__label {background-color: #d4ebff;}#sk-container-id-3 div.sk-label input.sk-toggleable__control:checked~label.sk-toggleable__label {background-color: #d4ebff;}#sk-container-id-3 input.sk-hidden--visually {border: 0;clip: rect(1px 1px 1px 1px);clip: rect(1px, 1px, 1px, 1px);height: 1px;margin: -1px;overflow: hidden;padding: 0;position: absolute;width: 1px;}#sk-container-id-3 div.sk-estimator {font-family: monospace;background-color: #f0f8ff;border: 1px dotted black;border-radius: 0.25em;box-sizing: border-box;margin-bottom: 0.5em;}#sk-container-id-3 div.sk-estimator:hover {background-color: #d4ebff;}#sk-container-id-3 div.sk-parallel-item::after {content: \"\";width: 100%;border-bottom: 1px solid gray;flex-grow: 1;}#sk-container-id-3 div.sk-label:hover label.sk-toggleable__label {background-color: #d4ebff;}#sk-container-id-3 div.sk-serial::before {content: \"\";position: absolute;border-left: 1px solid gray;box-sizing: border-box;top: 0;bottom: 0;left: 50%;z-index: 0;}#sk-container-id-3 div.sk-serial {display: flex;flex-direction: column;align-items: center;background-color: white;padding-right: 0.2em;padding-left: 0.2em;position: relative;}#sk-container-id-3 div.sk-item {position: relative;z-index: 1;}#sk-container-id-3 div.sk-parallel {display: flex;align-items: stretch;justify-content: center;background-color: white;position: relative;}#sk-container-id-3 div.sk-item::before, #sk-container-id-3 div.sk-parallel-item::before {content: \"\";position: absolute;border-left: 1px solid gray;box-sizing: border-box;top: 0;bottom: 0;left: 50%;z-index: -1;}#sk-container-id-3 div.sk-parallel-item {display: flex;flex-direction: column;z-index: 1;position: relative;background-color: white;}#sk-container-id-3 div.sk-parallel-item:first-child::after {align-self: flex-end;width: 50%;}#sk-container-id-3 div.sk-parallel-item:last-child::after {align-self: flex-start;width: 50%;}#sk-container-id-3 div.sk-parallel-item:only-child::after {width: 0;}#sk-container-id-3 div.sk-dashed-wrapped {border: 1px dashed gray;margin: 0 0.4em 0.5em 0.4em;box-sizing: border-box;padding-bottom: 0.4em;background-color: white;}#sk-container-id-3 div.sk-label label {font-family: monospace;font-weight: bold;display: inline-block;line-height: 1.2em;}#sk-container-id-3 div.sk-label-container {text-align: center;}#sk-container-id-3 div.sk-container {/* jupyter's `normalize.less` sets `[hidden] { display: none; }` but bootstrap.min.css set `[hidden] { display: none !important; }` so we also need the `!important` here to be able to override the default hidden behavior on the sphinx rendered scikit-learn.org. See: https://github.com/scikit-learn/scikit-learn/issues/21755 */display: inline-block !important;position: relative;}#sk-container-id-3 div.sk-text-repr-fallback {display: none;}</style><div id=\"sk-container-id-3\" class=\"sk-top-container\"><div class=\"sk-text-repr-fallback\"><pre>RandomForestRegressor()</pre><b>In a Jupyter environment, please rerun this cell to show the HTML representation or trust the notebook. <br />On GitHub, the HTML representation is unable to render, please try loading this page with nbviewer.org.</b></div><div class=\"sk-container\" hidden><div class=\"sk-item\"><div class=\"sk-estimator sk-toggleable\"><input class=\"sk-toggleable__control sk-hidden--visually\" id=\"sk-estimator-id-3\" type=\"checkbox\" checked><label for=\"sk-estimator-id-3\" class=\"sk-toggleable__label sk-toggleable__label-arrow\">RandomForestRegressor</label><div class=\"sk-toggleable__content\"><pre>RandomForestRegressor()</pre></div></div></div></div></div>"
      ],
      "text/plain": [
       "RandomForestRegressor()"
      ]
     },
     "execution_count": 26,
     "metadata": {},
     "output_type": "execute_result"
    }
   ],
   "source": [
    "regressor.fit(X_train,Y_train)"
   ]
  },
  {
   "cell_type": "code",
   "execution_count": 27,
   "id": "405b2219",
   "metadata": {},
   "outputs": [],
   "source": [
    "test_data_prediction = regressor.predict(X_test)"
   ]
  },
  {
   "cell_type": "code",
   "execution_count": 28,
   "id": "f51ce601",
   "metadata": {},
   "outputs": [
    {
     "name": "stdout",
     "output_type": "stream",
     "text": [
      "[10.06255  5.30626  5.44266 12.41879  5.07361  5.84853  5.31691  6.44019\n",
      "  2.12674  3.52117  4.3245   4.2989   5.65184 11.85288 11.72629  8.65187\n",
      "  6.3993   4.33753  7.53734  8.82241  4.83035  9.4584   9.78707  7.01311\n",
      "  9.16464 12.23625  8.66877  6.10816  9.01406  5.00936  8.92424  4.7939\n",
      "  9.21355  8.59404  7.11561 11.57764  5.10176  2.52998 10.18053  4.07202\n",
      "  5.57196  4.88714  8.57558  2.67828  7.35483  8.85264  7.06639  2.61764\n",
      "  6.27425]\n"
     ]
    }
   ],
   "source": [
    "print(test_data_prediction)"
   ]
  },
  {
   "cell_type": "code",
   "execution_count": 29,
   "id": "5bbc2d58",
   "metadata": {},
   "outputs": [],
   "source": [
    "Y_test = list(Y_test)"
   ]
  },
  {
   "cell_type": "code",
   "execution_count": 30,
   "id": "0a115ab0",
   "metadata": {},
   "outputs": [
    {
     "data": {
      "image/png": "[encoded data removed]",
      "text/plain": [
       "<Figure size 640x480 with 1 Axes>"
      ]
     },
     "metadata": {},
     "output_type": "display_data"
    }
   ],
   "source": [
    "plt.plot(Y_test, color='red', label = 'Actual Value')\n",
    "plt.plot(test_data_prediction, color='green', label='Predicted Value')\n",
    "plt.title('Actual Price vs Predicted Price')\n",
    "plt.xlabel('Number of values')\n",
    "plt.ylabel('Energy')\n",
    "plt.legend()\n",
    "plt.show()"
   ]
  },
  {
   "cell_type": "code",
   "execution_count": 31,
   "id": "ec84628b",
   "metadata": {},
   "outputs": [],
   "source": [
    "def smape(actual, predicted):\n",
    "    \"\"\"\n",
    "    Calculate SMAPE (Symmetric Mean Absolute Percentage Error) for actual and predicted values.\n",
    "    \"\"\"\n",
    "    actual = np.array(actual)\n",
    "    predicted = np.array(predicted)\n",
    "    return 100/len(actual) * np.sum(2 * np.abs(predicted - actual) / (np.abs(actual) + np.abs(predicted)))\n"
   ]
  },
  {
   "cell_type": "code",
   "execution_count": 32,
   "id": "fb73e614",
   "metadata": {},
   "outputs": [
    {
     "data": {
      "text/plain": [
       "2.4858673469387758"
      ]
     },
     "execution_count": 32,
     "metadata": {},
     "output_type": "execute_result"
    }
   ],
   "source": [
    "mean_absolute_error(Y_test, test_data_prediction)"
   ]
  },
  {
   "cell_type": "code",
   "execution_count": 33,
   "id": "7b3425ef",
   "metadata": {},
   "outputs": [],
   "source": [
    "rms = sqrt(mean_squared_error(Y_test, test_data_prediction))"
   ]
  },
  {
   "cell_type": "code",
   "execution_count": 34,
   "id": "d6eb0141",
   "metadata": {},
   "outputs": [
    {
     "name": "stdout",
     "output_type": "stream",
     "text": [
      "3.085709799513274\n"
     ]
    }
   ],
   "source": [
    "print(rms)"
   ]
  },
  {
   "cell_type": "code",
   "execution_count": 35,
   "id": "beb9cb2e",
   "metadata": {},
   "outputs": [],
   "source": [
    "test_d_prediction = regressor.predict(X_train)"
   ]
  },
  {
   "cell_type": "code",
   "execution_count": 36,
   "id": "d3d26aa8",
   "metadata": {},
   "outputs": [
    {
     "name": "stdout",
     "output_type": "stream",
     "text": [
      "R squared error :  0.8812466675190116\n"
     ]
    }
   ],
   "source": [
    "# R squared error\n",
    "error_score = metrics.r2_score(Y_train,test_d_prediction )\n",
    "print(\"R squared error : \", error_score)"
   ]
  },
  {
   "cell_type": "code",
   "execution_count": 37,
   "id": "598c3c87",
   "metadata": {},
   "outputs": [
    {
     "name": "stdout",
     "output_type": "stream",
     "text": [
      "R squared error :  0.31321249488737746\n"
     ]
    }
   ],
   "source": [
    "# R squared error\n",
    "error_score = metrics.r2_score(Y_test, test_data_prediction)\n",
    "print(\"R squared error : \", error_score)"
   ]
  },
  {
   "cell_type": "code",
   "execution_count": 38,
   "id": "28e4ebbe",
   "metadata": {},
   "outputs": [
    {
     "name": "stdout",
     "output_type": "stream",
     "text": [
      "SMAPE score:  38.595605670233226\n"
     ]
    }
   ],
   "source": [
    "smape_score = smape(Y_test, test_data_prediction)\n",
    "print(\"SMAPE score: \", smape_score)"
   ]
  },
  {
   "cell_type": "markdown",
   "id": "fd796db6",
   "metadata": {},
   "source": [
    "#SVM"
   ]
  },
  {
   "cell_type": "code",
   "execution_count": 39,
   "id": "e83c22af",
   "metadata": {},
   "outputs": [
    {
     "data": {
      "text/html": [
       "<style>#sk-container-id-4 {color: black;background-color: white;}#sk-container-id-4 pre{padding: 0;}#sk-container-id-4 div.sk-toggleable {background-color: white;}#sk-container-id-4 label.sk-toggleable__label {cursor: pointer;display: block;width: 100%;margin-bottom: 0;padding: 0.3em;box-sizing: border-box;text-align: center;}#sk-container-id-4 label.sk-toggleable__label-arrow:before {content: \"▸\";float: left;margin-right: 0.25em;color: #696969;}#sk-container-id-4 label.sk-toggleable__label-arrow:hover:before {color: black;}#sk-container-id-4 div.sk-estimator:hover label.sk-toggleable__label-arrow:before {color: black;}#sk-container-id-4 div.sk-toggleable__content {max-height: 0;max-width: 0;overflow: hidden;text-align: left;background-color: #f0f8ff;}#sk-container-id-4 div.sk-toggleable__content pre {margin: 0.2em;color: black;border-radius: 0.25em;background-color: #f0f8ff;}#sk-container-id-4 input.sk-toggleable__control:checked~div.sk-toggleable__content {max-height: 200px;max-width: 100%;overflow: auto;}#sk-container-id-4 input.sk-toggleable__control:checked~label.sk-toggleable__label-arrow:before {content: \"▾\";}#sk-container-id-4 div.sk-estimator input.sk-toggleable__control:checked~label.sk-toggleable__label {background-color: #d4ebff;}#sk-container-id-4 div.sk-label input.sk-toggleable__control:checked~label.sk-toggleable__label {background-color: #d4ebff;}#sk-container-id-4 input.sk-hidden--visually {border: 0;clip: rect(1px 1px 1px 1px);clip: rect(1px, 1px, 1px, 1px);height: 1px;margin: -1px;overflow: hidden;padding: 0;position: absolute;width: 1px;}#sk-container-id-4 div.sk-estimator {font-family: monospace;background-color: #f0f8ff;border: 1px dotted black;border-radius: 0.25em;box-sizing: border-box;margin-bottom: 0.5em;}#sk-container-id-4 div.sk-estimator:hover {background-color: #d4ebff;}#sk-container-id-4 div.sk-parallel-item::after {content: \"\";width: 100%;border-bottom: 1px solid gray;flex-grow: 1;}#sk-container-id-4 div.sk-label:hover label.sk-toggleable__label {background-color: #d4ebff;}#sk-container-id-4 div.sk-serial::before {content: \"\";position: absolute;border-left: 1px solid gray;box-sizing: border-box;top: 0;bottom: 0;left: 50%;z-index: 0;}#sk-container-id-4 div.sk-serial {display: flex;flex-direction: column;align-items: center;background-color: white;padding-right: 0.2em;padding-left: 0.2em;position: relative;}#sk-container-id-4 div.sk-item {position: relative;z-index: 1;}#sk-container-id-4 div.sk-parallel {display: flex;align-items: stretch;justify-content: center;background-color: white;position: relative;}#sk-container-id-4 div.sk-item::before, #sk-container-id-4 div.sk-parallel-item::before {content: \"\";position: absolute;border-left: 1px solid gray;box-sizing: border-box;top: 0;bottom: 0;left: 50%;z-index: -1;}#sk-container-id-4 div.sk-parallel-item {display: flex;flex-direction: column;z-index: 1;position: relative;background-color: white;}#sk-container-id-4 div.sk-parallel-item:first-child::after {align-self: flex-end;width: 50%;}#sk-container-id-4 div.sk-parallel-item:last-child::after {align-self: flex-start;width: 50%;}#sk-container-id-4 div.sk-parallel-item:only-child::after {width: 0;}#sk-container-id-4 div.sk-dashed-wrapped {border: 1px dashed gray;margin: 0 0.4em 0.5em 0.4em;box-sizing: border-box;padding-bottom: 0.4em;background-color: white;}#sk-container-id-4 div.sk-label label {font-family: monospace;font-weight: bold;display: inline-block;line-height: 1.2em;}#sk-container-id-4 div.sk-label-container {text-align: center;}#sk-container-id-4 div.sk-container {/* jupyter's `normalize.less` sets `[hidden] { display: none; }` but bootstrap.min.css set `[hidden] { display: none !important; }` so we also need the `!important` here to be able to override the default hidden behavior on the sphinx rendered scikit-learn.org. See: https://github.com/scikit-learn/scikit-learn/issues/21755 */display: inline-block !important;position: relative;}#sk-container-id-4 div.sk-text-repr-fallback {display: none;}</style><div id=\"sk-container-id-4\" class=\"sk-top-container\"><div class=\"sk-text-repr-fallback\"><pre>SVR(C=10, gamma=0.1)</pre><b>In a Jupyter environment, please rerun this cell to show the HTML representation or trust the notebook. <br />On GitHub, the HTML representation is unable to render, please try loading this page with nbviewer.org.</b></div><div class=\"sk-container\" hidden><div class=\"sk-item\"><div class=\"sk-estimator sk-toggleable\"><input class=\"sk-toggleable__control sk-hidden--visually\" id=\"sk-estimator-id-4\" type=\"checkbox\" checked><label for=\"sk-estimator-id-4\" class=\"sk-toggleable__label sk-toggleable__label-arrow\">SVR</label><div class=\"sk-toggleable__content\"><pre>SVR(C=10, gamma=0.1)</pre></div></div></div></div></div>"
      ],
      "text/plain": [
       "SVR(C=10, gamma=0.1)"
      ]
     },
     "execution_count": 39,
     "metadata": {},
     "output_type": "execute_result"
    }
   ],
   "source": [
    "svr = SVR(kernel='rbf', C=10, gamma=0.1, epsilon=0.1)\n",
    "svr.fit(X_train,Y_train)"
   ]
  },
  {
   "cell_type": "code",
   "execution_count": 40,
   "id": "9f49f615",
   "metadata": {},
   "outputs": [],
   "source": [
    "y_pred = svr.predict(X_test)\n",
    "mse = mean_squared_error(Y_test, y_pred)"
   ]
  },
  {
   "cell_type": "code",
   "execution_count": 41,
   "id": "60fda18c",
   "metadata": {},
   "outputs": [
    {
     "name": "stdout",
     "output_type": "stream",
     "text": [
      "[ 8.84512131  6.13224049  5.04344965 12.54366451  7.11263871  8.80179884\n",
      "  7.25300596  7.22349377  5.02524166  5.84385417  5.19553119  5.34130478\n",
      "  8.20482402  8.28837549  7.44018172  5.71281887  8.68966     8.48490266\n",
      "  9.02803767  5.58726474  4.66532253 13.44234484  6.88464912  5.55977243\n",
      " 10.3732026   8.83711988  6.53769088  5.59463838  8.24189681  6.87133526\n",
      "  6.08878261  4.71497111  5.22299064  7.07527392  6.54639096  7.81554085\n",
      "  6.83568189  2.21532869  7.54364657  5.66794435  8.13294792  5.84094814\n",
      "  3.39285431 10.21441834  5.88255934  5.88704154  6.3608041   2.22797684\n",
      "  5.38005762]\n"
     ]
    }
   ],
   "source": [
    "print(y_pred)"
   ]
  },
  {
   "cell_type": "code",
   "execution_count": 42,
   "id": "b83ba8d7",
   "metadata": {},
   "outputs": [],
   "source": [
    "Y_test = list(Y_test)"
   ]
  },
  {
   "cell_type": "code",
   "execution_count": 43,
   "id": "2ed6a1fa",
   "metadata": {},
   "outputs": [
    {
     "data": {
      "image/png": "[encoded data removed]",
      "text/plain": [
       "<Figure size 640x480 with 1 Axes>"
      ]
     },
     "metadata": {},
     "output_type": "display_data"
    }
   ],
   "source": [
    "plt.plot(Y_test, color='blue', label = 'Actual Value')\n",
    "plt.plot(y_pred, color='green', label='Predicted Value')\n",
    "plt.title('Actual vs Predicted')\n",
    "plt.xlabel('Number of values')\n",
    "plt.ylabel('Energy')\n",
    "plt.legend()\n",
    "plt.show()"
   ]
  },
  {
   "cell_type": "code",
   "execution_count": 44,
   "id": "8f0932bd",
   "metadata": {},
   "outputs": [
    {
     "data": {
      "text/plain": [
       "3.0589204540035584"
      ]
     },
     "execution_count": 44,
     "metadata": {},
     "output_type": "execute_result"
    }
   ],
   "source": [
    "mean_absolute_error(Y_test, y_pred)"
   ]
  },
  {
   "cell_type": "code",
   "execution_count": 45,
   "id": "f1cf337e",
   "metadata": {},
   "outputs": [],
   "source": [
    "rms = sqrt(mean_squared_error(Y_test, y_pred))"
   ]
  },
  {
   "cell_type": "code",
   "execution_count": 46,
   "id": "cd47e45d",
   "metadata": {},
   "outputs": [
    {
     "name": "stdout",
     "output_type": "stream",
     "text": [
      "3.7137739286564666\n"
     ]
    }
   ],
   "source": [
    "print(rms)"
   ]
  },
  {
   "cell_type": "code",
   "execution_count": 47,
   "id": "195a9df5",
   "metadata": {},
   "outputs": [
    {
     "name": "stdout",
     "output_type": "stream",
     "text": [
      "R squared error :  0.005183105619501749\n"
     ]
    }
   ],
   "source": [
    "# R squared error\n",
    "error_score = metrics.r2_score(Y_test, y_pred)\n",
    "print(\"R squared error : \", error_score)"
   ]
  },
  {
   "cell_type": "code",
   "execution_count": 48,
   "id": "a53069d0",
   "metadata": {},
   "outputs": [
    {
     "name": "stdout",
     "output_type": "stream",
     "text": [
      "SMAPE score:  47.31016738663388\n"
     ]
    }
   ],
   "source": [
    "smape_score = smape(Y_test, y_pred)\n",
    "print(\"SMAPE score: \", smape_score)"
   ]
  },
  {
   "cell_type": "markdown",
   "id": "d4baa9c6",
   "metadata": {},
   "source": [
    "#XGB"
   ]
  },
  {
   "cell_type": "code",
   "execution_count": 49,
   "id": "8fe86182",
   "metadata": {},
   "outputs": [],
   "source": [
    "# loading the model\n",
    "xb_model = XGBRegressor()"
   ]
  },
  {
   "cell_type": "code",
   "execution_count": 50,
   "id": "641a9cc9",
   "metadata": {},
   "outputs": [
    {
     "data": {
      "text/html": [
       "<style>#sk-container-id-5 {color: black;background-color: white;}#sk-container-id-5 pre{padding: 0;}#sk-container-id-5 div.sk-toggleable {background-color: white;}#sk-container-id-5 label.sk-toggleable__label {cursor: pointer;display: block;width: 100%;margin-bottom: 0;padding: 0.3em;box-sizing: border-box;text-align: center;}#sk-container-id-5 label.sk-toggleable__label-arrow:before {content: \"▸\";float: left;margin-right: 0.25em;color: #696969;}#sk-container-id-5 label.sk-toggleable__label-arrow:hover:before {color: black;}#sk-container-id-5 div.sk-estimator:hover label.sk-toggleable__label-arrow:before {color: black;}#sk-container-id-5 div.sk-toggleable__content {max-height: 0;max-width: 0;overflow: hidden;text-align: left;background-color: #f0f8ff;}#sk-container-id-5 div.sk-toggleable__content pre {margin: 0.2em;color: black;border-radius: 0.25em;background-color: #f0f8ff;}#sk-container-id-5 input.sk-toggleable__control:checked~div.sk-toggleable__content {max-height: 200px;max-width: 100%;overflow: auto;}#sk-container-id-5 input.sk-toggleable__control:checked~label.sk-toggleable__label-arrow:before {content: \"▾\";}#sk-container-id-5 div.sk-estimator input.sk-toggleable__control:checked~label.sk-toggleable__label {background-color: #d4ebff;}#sk-container-id-5 div.sk-label input.sk-toggleable__control:checked~label.sk-toggleable__label {background-color: #d4ebff;}#sk-container-id-5 input.sk-hidden--visually {border: 0;clip: rect(1px 1px 1px 1px);clip: rect(1px, 1px, 1px, 1px);height: 1px;margin: -1px;overflow: hidden;padding: 0;position: absolute;width: 1px;}#sk-container-id-5 div.sk-estimator {font-family: monospace;background-color: #f0f8ff;border: 1px dotted black;border-radius: 0.25em;box-sizing: border-box;margin-bottom: 0.5em;}#sk-container-id-5 div.sk-estimator:hover {background-color: #d4ebff;}#sk-container-id-5 div.sk-parallel-item::after {content: \"\";width: 100%;border-bottom: 1px solid gray;flex-grow: 1;}#sk-container-id-5 div.sk-label:hover label.sk-toggleable__label {background-color: #d4ebff;}#sk-container-id-5 div.sk-serial::before {content: \"\";position: absolute;border-left: 1px solid gray;box-sizing: border-box;top: 0;bottom: 0;left: 50%;z-index: 0;}#sk-container-id-5 div.sk-serial {display: flex;flex-direction: column;align-items: center;background-color: white;padding-right: 0.2em;padding-left: 0.2em;position: relative;}#sk-container-id-5 div.sk-item {position: relative;z-index: 1;}#sk-container-id-5 div.sk-parallel {display: flex;align-items: stretch;justify-content: center;background-color: white;position: relative;}#sk-container-id-5 div.sk-item::before, #sk-container-id-5 div.sk-parallel-item::before {content: \"\";position: absolute;border-left: 1px solid gray;box-sizing: border-box;top: 0;bottom: 0;left: 50%;z-index: -1;}#sk-container-id-5 div.sk-parallel-item {display: flex;flex-direction: column;z-index: 1;position: relative;background-color: white;}#sk-container-id-5 div.sk-parallel-item:first-child::after {align-self: flex-end;width: 50%;}#sk-container-id-5 div.sk-parallel-item:last-child::after {align-self: flex-start;width: 50%;}#sk-container-id-5 div.sk-parallel-item:only-child::after {width: 0;}#sk-container-id-5 div.sk-dashed-wrapped {border: 1px dashed gray;margin: 0 0.4em 0.5em 0.4em;box-sizing: border-box;padding-bottom: 0.4em;background-color: white;}#sk-container-id-5 div.sk-label label {font-family: monospace;font-weight: bold;display: inline-block;line-height: 1.2em;}#sk-container-id-5 div.sk-label-container {text-align: center;}#sk-container-id-5 div.sk-container {/* jupyter's `normalize.less` sets `[hidden] { display: none; }` but bootstrap.min.css set `[hidden] { display: none !important; }` so we also need the `!important` here to be able to override the default hidden behavior on the sphinx rendered scikit-learn.org. See: https://github.com/scikit-learn/scikit-learn/issues/21755 */display: inline-block !important;position: relative;}#sk-container-id-5 div.sk-text-repr-fallback {display: none;}</style><div id=\"sk-container-id-5\" class=\"sk-top-container\"><div class=\"sk-text-repr-fallback\"><pre>XGBRegressor(base_score=None, booster=None, callbacks=None,\n",
       "             colsample_bylevel=None, colsample_bynode=None,\n",
       "             colsample_bytree=None, early_stopping_rounds=None,\n",
       "             enable_categorical=False, eval_metric=None, feature_types=None,\n",
       "             gamma=None, gpu_id=None, grow_policy=None, importance_type=None,\n",
       "             interaction_constraints=None, learning_rate=None, max_bin=None,\n",
       "             max_cat_threshold=None, max_cat_to_onehot=None,\n",
       "             max_delta_step=None, max_depth=None, max_leaves=None,\n",
       "             min_child_weight=None, missing=nan, monotone_constraints=None,\n",
       "             n_estimators=100, n_jobs=None, num_parallel_tree=None,\n",
       "             predictor=None, random_state=None, ...)</pre><b>In a Jupyter environment, please rerun this cell to show the HTML representation or trust the notebook. <br />On GitHub, the HTML representation is unable to render, please try loading this page with nbviewer.org.</b></div><div class=\"sk-container\" hidden><div class=\"sk-item\"><div class=\"sk-estimator sk-toggleable\"><input class=\"sk-toggleable__control sk-hidden--visually\" id=\"sk-estimator-id-5\" type=\"checkbox\" checked><label for=\"sk-estimator-id-5\" class=\"sk-toggleable__label sk-toggleable__label-arrow\">XGBRegressor</label><div class=\"sk-toggleable__content\"><pre>XGBRegressor(base_score=None, booster=None, callbacks=None,\n",
       "             colsample_bylevel=None, colsample_bynode=None,\n",
       "             colsample_bytree=None, early_stopping_rounds=None,\n",
       "             enable_categorical=False, eval_metric=None, feature_types=None,\n",
       "             gamma=None, gpu_id=None, grow_policy=None, importance_type=None,\n",
       "             interaction_constraints=None, learning_rate=None, max_bin=None,\n",
       "             max_cat_threshold=None, max_cat_to_onehot=None,\n",
       "             max_delta_step=None, max_depth=None, max_leaves=None,\n",
       "             min_child_weight=None, missing=nan, monotone_constraints=None,\n",
       "             n_estimators=100, n_jobs=None, num_parallel_tree=None,\n",
       "             predictor=None, random_state=None, ...)</pre></div></div></div></div></div>"
      ],
      "text/plain": [
       "XGBRegressor(base_score=None, booster=None, callbacks=None,\n",
       "             colsample_bylevel=None, colsample_bynode=None,\n",
       "             colsample_bytree=None, early_stopping_rounds=None,\n",
       "             enable_categorical=False, eval_metric=None, feature_types=None,\n",
       "             gamma=None, gpu_id=None, grow_policy=None, importance_type=None,\n",
       "             interaction_constraints=None, learning_rate=None, max_bin=None,\n",
       "             max_cat_threshold=None, max_cat_to_onehot=None,\n",
       "             max_delta_step=None, max_depth=None, max_leaves=None,\n",
       "             min_child_weight=None, missing=nan, monotone_constraints=None,\n",
       "             n_estimators=100, n_jobs=None, num_parallel_tree=None,\n",
       "             predictor=None, random_state=None, ...)"
      ]
     },
     "execution_count": 50,
     "metadata": {},
     "output_type": "execute_result"
    }
   ],
   "source": [
    "# training the model with X_train\n",
    "xb_model.fit(X_train, Y_train)"
   ]
  },
  {
   "cell_type": "code",
   "execution_count": 51,
   "id": "9aaeaa6b",
   "metadata": {},
   "outputs": [],
   "source": [
    "test_prediction = xb_model.predict(X_test)"
   ]
  },
  {
   "cell_type": "code",
   "execution_count": 52,
   "id": "0b630fef",
   "metadata": {},
   "outputs": [
    {
     "name": "stdout",
     "output_type": "stream",
     "text": [
      "[ 7.7580833  6.548069   5.678781  14.09994    3.210974   5.54566\n",
      "  5.3290052  7.120571   1.3510475  3.962157   5.5517936  2.527954\n",
      "  3.2994184 11.14076   11.497304   6.9588213  5.140673   6.3707857\n",
      " 10.319428   9.567315   4.3032684  7.5282903  8.233608   5.7846823\n",
      "  6.1296206 14.96505    5.808554   7.347425   7.757791   5.4746094\n",
      "  9.760301   5.1303573  9.110346   8.212273   6.8438163 12.022353\n",
      "  4.927993   1.9052207  9.273723   4.0640187  6.117565   3.9076319\n",
      "  9.0323515  3.5464766  8.120936   8.687363   7.0398436  3.5863955\n",
      "  2.9125683]\n"
     ]
    }
   ],
   "source": [
    "print(test_prediction)"
   ]
  },
  {
   "cell_type": "code",
   "execution_count": 53,
   "id": "71cb512b",
   "metadata": {},
   "outputs": [],
   "source": [
    "Y_test = list(Y_test)"
   ]
  },
  {
   "cell_type": "code",
   "execution_count": 54,
   "id": "4199d8bf",
   "metadata": {},
   "outputs": [
    {
     "data": {
      "image/png": "[encoded data removed]",
      "text/plain": [
       "<Figure size 640x480 with 1 Axes>"
      ]
     },
     "metadata": {},
     "output_type": "display_data"
    }
   ],
   "source": [
    "plt.plot(Y_test, color='blue', label = 'Actual Value')\n",
    "plt.plot(test_prediction, color='green', label='Predicted Value')\n",
    "plt.title('Actual  vs Predicted ')\n",
    "plt.xlabel('Number of values')\n",
    "plt.ylabel('Energy')\n",
    "plt.legend()\n",
    "plt.show()"
   ]
  },
  {
   "cell_type": "code",
   "execution_count": 55,
   "id": "bdfeaee3",
   "metadata": {},
   "outputs": [
    {
     "data": {
      "text/plain": [
       "2.3884271895739495"
      ]
     },
     "execution_count": 55,
     "metadata": {},
     "output_type": "execute_result"
    }
   ],
   "source": [
    "mean_absolute_error(Y_test, test_prediction)"
   ]
  },
  {
   "cell_type": "code",
   "execution_count": 56,
   "id": "a4f2c180",
   "metadata": {},
   "outputs": [],
   "source": [
    "rms = sqrt(mean_squared_error(Y_test, test_prediction))"
   ]
  },
  {
   "cell_type": "code",
   "execution_count": 57,
   "id": "7b271cb7",
   "metadata": {},
   "outputs": [
    {
     "name": "stdout",
     "output_type": "stream",
     "text": [
      "3.204568268199326\n"
     ]
    }
   ],
   "source": [
    "print(rms)"
   ]
  },
  {
   "cell_type": "code",
   "execution_count": 58,
   "id": "dfd649a8",
   "metadata": {},
   "outputs": [
    {
     "name": "stdout",
     "output_type": "stream",
     "text": [
      "R squared error :  0.259284757298906\n"
     ]
    }
   ],
   "source": [
    "# R squared error\n",
    "error_score = metrics.r2_score(Y_test, test_prediction)\n",
    "print(\"R squared error : \", error_score)"
   ]
  },
  {
   "cell_type": "code",
   "execution_count": 59,
   "id": "73eee2b9",
   "metadata": {},
   "outputs": [
    {
     "name": "stdout",
     "output_type": "stream",
     "text": [
      "SMAPE score:  37.17629230947419\n"
     ]
    }
   ],
   "source": [
    "smape_score = smape(Y_test, test_prediction)\n",
    "print(\"SMAPE score: \", smape_score)"
   ]
  },
  {
   "cell_type": "markdown",
   "id": "56591b3b",
   "metadata": {},
   "source": [
    "#ANN "
   ]
  },
  {
   "cell_type": "code",
   "execution_count": 60,
   "id": "2fc6a316",
   "metadata": {},
   "outputs": [],
   "source": [
    "X_train, X_test, Y_train, Y_test = train_test_split(X, Y, test_size = 0.2, random_state=2)"
   ]
  },
  {
   "cell_type": "code",
   "execution_count": 61,
   "id": "fb77bb0b",
   "metadata": {},
   "outputs": [],
   "source": [
    "# layers\n",
    "model=Sequential()\n",
    "model.add(Dense(units = 10, kernel_initializer = 'uniform', activation = 'relu', input_dim = 10))\n",
    "model.add(Dense(units = 64, kernel_initializer = 'uniform', activation = 'relu'))\n",
    "model.add(Dense(units = 16, kernel_initializer = 'uniform', activation = 'relu'))\n",
    "model.add(Dense(units = 1, kernel_initializer = 'uniform', activation = 'linear'))"
   ]
  },
  {
   "cell_type": "code",
   "execution_count": 62,
   "id": "a721ac4b",
   "metadata": {},
   "outputs": [],
   "source": [
    "# Compile the model\n",
    "model.compile(loss='mean_absolute_error', optimizer='adam')\n"
   ]
  },
  {
   "cell_type": "code",
   "execution_count": 63,
   "id": "f7b8e2f5",
   "metadata": {},
   "outputs": [
    {
     "name": "stdout",
     "output_type": "stream",
     "text": [
      "Epoch 1/20\n",
      "3/3 [==============================] - 1s 75ms/step - loss: 7.5970 - val_loss: 6.6876\n",
      "Epoch 2/20\n",
      "3/3 [==============================] - 0s 14ms/step - loss: 7.5931 - val_loss: 6.6834\n",
      "Epoch 3/20\n",
      "3/3 [==============================] - 0s 14ms/step - loss: 7.5888 - val_loss: 6.6788\n",
      "Epoch 4/20\n",
      "3/3 [==============================] - 0s 15ms/step - loss: 7.5840 - val_loss: 6.6735\n",
      "Epoch 5/20\n",
      "3/3 [==============================] - 0s 15ms/step - loss: 7.5785 - val_loss: 6.6673\n",
      "Epoch 6/20\n",
      "3/3 [==============================] - 0s 14ms/step - loss: 7.5719 - val_loss: 6.6600\n",
      "Epoch 7/20\n",
      "3/3 [==============================] - 0s 15ms/step - loss: 7.5640 - val_loss: 6.6510\n",
      "Epoch 8/20\n",
      "3/3 [==============================] - 0s 14ms/step - loss: 7.5545 - val_loss: 6.6400\n",
      "Epoch 9/20\n",
      "3/3 [==============================] - 0s 14ms/step - loss: 7.5425 - val_loss: 6.6264\n",
      "Epoch 10/20\n",
      "3/3 [==============================] - 0s 16ms/step - loss: 7.5276 - val_loss: 6.6092\n",
      "Epoch 11/20\n",
      "3/3 [==============================] - 0s 16ms/step - loss: 7.5088 - val_loss: 6.5878\n",
      "Epoch 12/20\n",
      "3/3 [==============================] - 0s 15ms/step - loss: 7.4855 - val_loss: 6.5609\n",
      "Epoch 13/20\n",
      "3/3 [==============================] - 0s 16ms/step - loss: 7.4559 - val_loss: 6.5274\n",
      "Epoch 14/20\n",
      "3/3 [==============================] - 0s 15ms/step - loss: 7.4188 - val_loss: 6.4856\n",
      "Epoch 15/20\n",
      "3/3 [==============================] - 0s 14ms/step - loss: 7.3731 - val_loss: 6.4337\n",
      "Epoch 16/20\n",
      "3/3 [==============================] - 0s 15ms/step - loss: 7.3161 - val_loss: 6.3699\n",
      "Epoch 17/20\n",
      "3/3 [==============================] - 0s 15ms/step - loss: 7.2461 - val_loss: 6.2920\n",
      "Epoch 18/20\n",
      "3/3 [==============================] - 0s 14ms/step - loss: 7.1603 - val_loss: 6.1971\n",
      "Epoch 19/20\n",
      "3/3 [==============================] - 0s 14ms/step - loss: 7.0564 - val_loss: 6.0823\n",
      "Epoch 20/20\n",
      "3/3 [==============================] - 0s 14ms/step - loss: 6.9296 - val_loss: 5.9445\n"
     ]
    },
    {
     "data": {
      "text/plain": [
       "<keras.callbacks.History at 0x223264368d0>"
      ]
     },
     "execution_count": 63,
     "metadata": {},
     "output_type": "execute_result"
    }
   ],
   "source": [
    "# Train the model on the training dataset\n",
    "model.fit(X_train, Y_train, epochs=20, batch_size=64, validation_split=0.2)"
   ]
  },
  {
   "cell_type": "code",
   "execution_count": 64,
   "id": "13a10980",
   "metadata": {},
   "outputs": [
    {
     "name": "stdout",
     "output_type": "stream",
     "text": [
      "2/2 [==============================] - 0s 2ms/step\n"
     ]
    }
   ],
   "source": [
    "# Use the trained model to make predictions on the test dataset\n",
    "Y_pred = model.predict(X_test)\n"
   ]
  },
  {
   "cell_type": "code",
   "execution_count": 65,
   "id": "0be2f335",
   "metadata": {},
   "outputs": [
    {
     "name": "stdout",
     "output_type": "stream",
     "text": [
      "[[0.7065261 ]\n",
      " [0.76613253]\n",
      " [0.74970317]\n",
      " [0.81157994]\n",
      " [0.7994267 ]\n",
      " [0.864457  ]\n",
      " [0.88522065]\n",
      " [0.6959158 ]\n",
      " [0.6172061 ]\n",
      " [0.69441974]\n",
      " [0.98007786]\n",
      " [0.6033921 ]\n",
      " [0.9095951 ]\n",
      " [0.5945672 ]\n",
      " [0.84089077]\n",
      " [0.92401654]\n",
      " [0.82220244]\n",
      " [0.5989784 ]\n",
      " [0.9226263 ]\n",
      " [0.79055333]\n",
      " [0.6242727 ]\n",
      " [0.99806476]\n",
      " [0.6249629 ]\n",
      " [0.96399057]\n",
      " [0.6187656 ]\n",
      " [0.6325283 ]\n",
      " [0.73163736]\n",
      " [0.9608725 ]\n",
      " [0.9533342 ]\n",
      " [0.8132967 ]\n",
      " [0.7636291 ]\n",
      " [0.6878564 ]\n",
      " [0.84535164]\n",
      " [0.7508993 ]\n",
      " [0.84745884]\n",
      " [0.6867204 ]\n",
      " [0.8090699 ]\n",
      " [0.7786439 ]\n",
      " [0.7049335 ]\n",
      " [0.94537586]\n",
      " [0.8064352 ]\n",
      " [0.6237924 ]\n",
      " [1.0570357 ]\n",
      " [0.6371332 ]\n",
      " [0.7971541 ]\n",
      " [0.62400454]\n",
      " [0.90560967]\n",
      " [0.63480103]\n",
      " [0.6219825 ]]\n"
     ]
    }
   ],
   "source": [
    "print(Y_pred)"
   ]
  },
  {
   "cell_type": "code",
   "execution_count": 66,
   "id": "590954d1",
   "metadata": {},
   "outputs": [
    {
     "data": {
      "text/plain": [
       "5.8128754999297"
      ]
     },
     "execution_count": 66,
     "metadata": {},
     "output_type": "execute_result"
    }
   ],
   "source": [
    "mean_absolute_error(Y_test, Y_pred)"
   ]
  },
  {
   "cell_type": "code",
   "execution_count": 67,
   "id": "18bcb0ae",
   "metadata": {},
   "outputs": [],
   "source": [
    "rms = sqrt(mean_squared_error(Y_test, Y_pred))"
   ]
  },
  {
   "cell_type": "code",
   "execution_count": 68,
   "id": "fa8e81c8",
   "metadata": {},
   "outputs": [
    {
     "name": "stdout",
     "output_type": "stream",
     "text": [
      "6.903859772306688\n"
     ]
    }
   ],
   "source": [
    "print(rms)"
   ]
  },
  {
   "cell_type": "code",
   "execution_count": 69,
   "id": "02175add",
   "metadata": {},
   "outputs": [
    {
     "name": "stdout",
     "output_type": "stream",
     "text": [
      "R squared error :  -2.4379230290462193\n"
     ]
    }
   ],
   "source": [
    "# R squared error\n",
    "error_score = metrics.r2_score(Y_test, Y_pred)\n",
    "print(\"R squared error : \", error_score)"
   ]
  },
  {
   "cell_type": "code",
   "execution_count": 70,
   "id": "c97afe5b",
   "metadata": {},
   "outputs": [],
   "source": [
    "def smape(actual, predicted):\n",
    "    \"\"\"\n",
    "    Calculate SMAPE (Symmetric Mean Absolute Percentage Error) for actual and predicted values.\n",
    "    \"\"\"\n",
    "    actual = np.array(actual)\n",
    "    predicted = np.array(predicted)\n",
    "    return np.mean((np.abs(actual - predicted) / (np.abs(actual) + np.abs(predicted))) * 2) * 100"
   ]
  },
  {
   "cell_type": "code",
   "execution_count": 71,
   "id": "e16ec6fa",
   "metadata": {},
   "outputs": [
    {
     "name": "stdout",
     "output_type": "stream",
     "text": [
      "SMAPE score: 145.17686852864952\n"
     ]
    }
   ],
   "source": [
    "smape_score = smape(Y_test, Y_pred)\n",
    "print(\"SMAPE score:\", smape_score)"
   ]
  },
  {
   "cell_type": "code",
   "execution_count": 72,
   "id": "bb5c4ca6",
   "metadata": {},
   "outputs": [
    {
     "data": {
      "text/html": [
       "<style>#sk-container-id-6 {color: black;background-color: white;}#sk-container-id-6 pre{padding: 0;}#sk-container-id-6 div.sk-toggleable {background-color: white;}#sk-container-id-6 label.sk-toggleable__label {cursor: pointer;display: block;width: 100%;margin-bottom: 0;padding: 0.3em;box-sizing: border-box;text-align: center;}#sk-container-id-6 label.sk-toggleable__label-arrow:before {content: \"▸\";float: left;margin-right: 0.25em;color: #696969;}#sk-container-id-6 label.sk-toggleable__label-arrow:hover:before {color: black;}#sk-container-id-6 div.sk-estimator:hover label.sk-toggleable__label-arrow:before {color: black;}#sk-container-id-6 div.sk-toggleable__content {max-height: 0;max-width: 0;overflow: hidden;text-align: left;background-color: #f0f8ff;}#sk-container-id-6 div.sk-toggleable__content pre {margin: 0.2em;color: black;border-radius: 0.25em;background-color: #f0f8ff;}#sk-container-id-6 input.sk-toggleable__control:checked~div.sk-toggleable__content {max-height: 200px;max-width: 100%;overflow: auto;}#sk-container-id-6 input.sk-toggleable__control:checked~label.sk-toggleable__label-arrow:before {content: \"▾\";}#sk-container-id-6 div.sk-estimator input.sk-toggleable__control:checked~label.sk-toggleable__label {background-color: #d4ebff;}#sk-container-id-6 div.sk-label input.sk-toggleable__control:checked~label.sk-toggleable__label {background-color: #d4ebff;}#sk-container-id-6 input.sk-hidden--visually {border: 0;clip: rect(1px 1px 1px 1px);clip: rect(1px, 1px, 1px, 1px);height: 1px;margin: -1px;overflow: hidden;padding: 0;position: absolute;width: 1px;}#sk-container-id-6 div.sk-estimator {font-family: monospace;background-color: #f0f8ff;border: 1px dotted black;border-radius: 0.25em;box-sizing: border-box;margin-bottom: 0.5em;}#sk-container-id-6 div.sk-estimator:hover {background-color: #d4ebff;}#sk-container-id-6 div.sk-parallel-item::after {content: \"\";width: 100%;border-bottom: 1px solid gray;flex-grow: 1;}#sk-container-id-6 div.sk-label:hover label.sk-toggleable__label {background-color: #d4ebff;}#sk-container-id-6 div.sk-serial::before {content: \"\";position: absolute;border-left: 1px solid gray;box-sizing: border-box;top: 0;bottom: 0;left: 50%;z-index: 0;}#sk-container-id-6 div.sk-serial {display: flex;flex-direction: column;align-items: center;background-color: white;padding-right: 0.2em;padding-left: 0.2em;position: relative;}#sk-container-id-6 div.sk-item {position: relative;z-index: 1;}#sk-container-id-6 div.sk-parallel {display: flex;align-items: stretch;justify-content: center;background-color: white;position: relative;}#sk-container-id-6 div.sk-item::before, #sk-container-id-6 div.sk-parallel-item::before {content: \"\";position: absolute;border-left: 1px solid gray;box-sizing: border-box;top: 0;bottom: 0;left: 50%;z-index: -1;}#sk-container-id-6 div.sk-parallel-item {display: flex;flex-direction: column;z-index: 1;position: relative;background-color: white;}#sk-container-id-6 div.sk-parallel-item:first-child::after {align-self: flex-end;width: 50%;}#sk-container-id-6 div.sk-parallel-item:last-child::after {align-self: flex-start;width: 50%;}#sk-container-id-6 div.sk-parallel-item:only-child::after {width: 0;}#sk-container-id-6 div.sk-dashed-wrapped {border: 1px dashed gray;margin: 0 0.4em 0.5em 0.4em;box-sizing: border-box;padding-bottom: 0.4em;background-color: white;}#sk-container-id-6 div.sk-label label {font-family: monospace;font-weight: bold;display: inline-block;line-height: 1.2em;}#sk-container-id-6 div.sk-label-container {text-align: center;}#sk-container-id-6 div.sk-container {/* jupyter's `normalize.less` sets `[hidden] { display: none; }` but bootstrap.min.css set `[hidden] { display: none !important; }` so we also need the `!important` here to be able to override the default hidden behavior on the sphinx rendered scikit-learn.org. See: https://github.com/scikit-learn/scikit-learn/issues/21755 */display: inline-block !important;position: relative;}#sk-container-id-6 div.sk-text-repr-fallback {display: none;}</style><div id=\"sk-container-id-6\" class=\"sk-top-container\"><div class=\"sk-text-repr-fallback\"><pre>StackingRegressor(estimators=[(&#x27;rf&#x27;, RandomForestRegressor()),\n",
       "                              (&#x27;xgb&#x27;,\n",
       "                               XGBRegressor(base_score=None, booster=None,\n",
       "                                            callbacks=None,\n",
       "                                            colsample_bylevel=None,\n",
       "                                            colsample_bynode=None,\n",
       "                                            colsample_bytree=None,\n",
       "                                            early_stopping_rounds=None,\n",
       "                                            enable_categorical=False,\n",
       "                                            eval_metric=None,\n",
       "                                            feature_types=None, gamma=None,\n",
       "                                            gpu_id=None, grow_policy=None,\n",
       "                                            importance_type=None,\n",
       "                                            interaction_constraints=None,\n",
       "                                            learning_rate=None, max_bin=None,\n",
       "                                            max_cat_threshold=None,\n",
       "                                            max_cat_to_onehot=None,\n",
       "                                            max_delta_step=None, max_depth=None,\n",
       "                                            max_leaves=None,\n",
       "                                            min_child_weight=None, missing=nan,\n",
       "                                            monotone_constraints=None,\n",
       "                                            n_estimators=100, n_jobs=None,\n",
       "                                            num_parallel_tree=None,\n",
       "                                            predictor=None, random_state=None, ...))])</pre><b>In a Jupyter environment, please rerun this cell to show the HTML representation or trust the notebook. <br />On GitHub, the HTML representation is unable to render, please try loading this page with nbviewer.org.</b></div><div class=\"sk-container\" hidden><div class=\"sk-item sk-dashed-wrapped\"><div class=\"sk-label-container\"><div class=\"sk-label sk-toggleable\"><input class=\"sk-toggleable__control sk-hidden--visually\" id=\"sk-estimator-id-6\" type=\"checkbox\" ><label for=\"sk-estimator-id-6\" class=\"sk-toggleable__label sk-toggleable__label-arrow\">StackingRegressor</label><div class=\"sk-toggleable__content\"><pre>StackingRegressor(estimators=[(&#x27;rf&#x27;, RandomForestRegressor()),\n",
       "                              (&#x27;xgb&#x27;,\n",
       "                               XGBRegressor(base_score=None, booster=None,\n",
       "                                            callbacks=None,\n",
       "                                            colsample_bylevel=None,\n",
       "                                            colsample_bynode=None,\n",
       "                                            colsample_bytree=None,\n",
       "                                            early_stopping_rounds=None,\n",
       "                                            enable_categorical=False,\n",
       "                                            eval_metric=None,\n",
       "                                            feature_types=None, gamma=None,\n",
       "                                            gpu_id=None, grow_policy=None,\n",
       "                                            importance_type=None,\n",
       "                                            interaction_constraints=None,\n",
       "                                            learning_rate=None, max_bin=None,\n",
       "                                            max_cat_threshold=None,\n",
       "                                            max_cat_to_onehot=None,\n",
       "                                            max_delta_step=None, max_depth=None,\n",
       "                                            max_leaves=None,\n",
       "                                            min_child_weight=None, missing=nan,\n",
       "                                            monotone_constraints=None,\n",
       "                                            n_estimators=100, n_jobs=None,\n",
       "                                            num_parallel_tree=None,\n",
       "                                            predictor=None, random_state=None, ...))])</pre></div></div></div><div class=\"sk-serial\"><div class=\"sk-item\"><div class=\"sk-parallel\"><div class=\"sk-parallel-item\"><div class=\"sk-item\"><div class=\"sk-label-container\"><div class=\"sk-label sk-toggleable\"><label>rf</label></div></div><div class=\"sk-serial\"><div class=\"sk-item\"><div class=\"sk-estimator sk-toggleable\"><input class=\"sk-toggleable__control sk-hidden--visually\" id=\"sk-estimator-id-7\" type=\"checkbox\" ><label for=\"sk-estimator-id-7\" class=\"sk-toggleable__label sk-toggleable__label-arrow\">RandomForestRegressor</label><div class=\"sk-toggleable__content\"><pre>RandomForestRegressor()</pre></div></div></div></div></div></div><div class=\"sk-parallel-item\"><div class=\"sk-item\"><div class=\"sk-label-container\"><div class=\"sk-label sk-toggleable\"><label>xgb</label></div></div><div class=\"sk-serial\"><div class=\"sk-item\"><div class=\"sk-estimator sk-toggleable\"><input class=\"sk-toggleable__control sk-hidden--visually\" id=\"sk-estimator-id-8\" type=\"checkbox\" ><label for=\"sk-estimator-id-8\" class=\"sk-toggleable__label sk-toggleable__label-arrow\">XGBRegressor</label><div class=\"sk-toggleable__content\"><pre>XGBRegressor(base_score=None, booster=None, callbacks=None,\n",
       "             colsample_bylevel=None, colsample_bynode=None,\n",
       "             colsample_bytree=None, early_stopping_rounds=None,\n",
       "             enable_categorical=False, eval_metric=None, feature_types=None,\n",
       "             gamma=None, gpu_id=None, grow_policy=None, importance_type=None,\n",
       "             interaction_constraints=None, learning_rate=None, max_bin=None,\n",
       "             max_cat_threshold=None, max_cat_to_onehot=None,\n",
       "             max_delta_step=None, max_depth=None, max_leaves=None,\n",
       "             min_child_weight=None, missing=nan, monotone_constraints=None,\n",
       "             n_estimators=100, n_jobs=None, num_parallel_tree=None,\n",
       "             predictor=None, random_state=None, ...)</pre></div></div></div></div></div></div></div></div><div class=\"sk-item\"><div class=\"sk-parallel\"><div class=\"sk-parallel-item\"><div class=\"sk-item\"><div class=\"sk-label-container\"><div class=\"sk-label sk-toggleable\"><label>final_estimator</label></div></div><div class=\"sk-serial\"><div class=\"sk-item\"><div class=\"sk-estimator sk-toggleable\"><input class=\"sk-toggleable__control sk-hidden--visually\" id=\"sk-estimator-id-9\" type=\"checkbox\" ><label for=\"sk-estimator-id-9\" class=\"sk-toggleable__label sk-toggleable__label-arrow\">RidgeCV</label><div class=\"sk-toggleable__content\"><pre>RidgeCV()</pre></div></div></div></div></div></div></div></div></div></div></div></div>"
      ],
      "text/plain": [
       "StackingRegressor(estimators=[('rf', RandomForestRegressor()),\n",
       "                              ('xgb',\n",
       "                               XGBRegressor(base_score=None, booster=None,\n",
       "                                            callbacks=None,\n",
       "                                            colsample_bylevel=None,\n",
       "                                            colsample_bynode=None,\n",
       "                                            colsample_bytree=None,\n",
       "                                            early_stopping_rounds=None,\n",
       "                                            enable_categorical=False,\n",
       "                                            eval_metric=None,\n",
       "                                            feature_types=None, gamma=None,\n",
       "                                            gpu_id=None, grow_policy=None,\n",
       "                                            importance_type=None,\n",
       "                                            interaction_constraints=None,\n",
       "                                            learning_rate=None, max_bin=None,\n",
       "                                            max_cat_threshold=None,\n",
       "                                            max_cat_to_onehot=None,\n",
       "                                            max_delta_step=None, max_depth=None,\n",
       "                                            max_leaves=None,\n",
       "                                            min_child_weight=None, missing=nan,\n",
       "                                            monotone_constraints=None,\n",
       "                                            n_estimators=100, n_jobs=None,\n",
       "                                            num_parallel_tree=None,\n",
       "                                            predictor=None, random_state=None, ...))])"
      ]
     },
     "execution_count": 72,
     "metadata": {},
     "output_type": "execute_result"
    }
   ],
   "source": [
    "\n",
    "stack_regressor = StackingRegressor(estimators=[('rf', regressor), ('xgb', xb_model)])\n",
    "stack_regressor.fit(X_train, Y_train)\n"
   ]
  },
  {
   "cell_type": "code",
   "execution_count": 73,
   "id": "f6c6e94b",
   "metadata": {},
   "outputs": [],
   "source": [
    "predictions = stack_regressor.predict(X_test)"
   ]
  },
  {
   "cell_type": "code",
   "execution_count": 74,
   "id": "57ea75a2",
   "metadata": {},
   "outputs": [
    {
     "name": "stdout",
     "output_type": "stream",
     "text": [
      "[ 8.11166156  6.43190368  6.33689391 10.49684888  6.58154217  6.75340456\n",
      "  6.26975307  6.7323331   4.2019224   4.66364768  5.52845334  5.41683152\n",
      "  6.63185698 10.23890054  9.77330436  7.71295104  6.78106981  5.31885654\n",
      "  7.70966636  8.21062782  5.80371569  9.06330115  8.90104202  7.26393965\n",
      "  8.3604258  10.4603251   8.55032668  6.94227287  9.17986597  6.08523015\n",
      "  8.58808488  5.66412011  8.33476558  8.71781748  7.26634811  9.99489474\n",
      "  6.03899333  4.05592818  8.93091567  4.99255104  6.86435766  5.79052801\n",
      "  8.01631826  3.88351413  7.30668397  8.62348794  7.67172292  4.06952741\n",
      "  6.29680034]\n"
     ]
    }
   ],
   "source": [
    "print(predictions)"
   ]
  },
  {
   "cell_type": "code",
   "execution_count": 75,
   "id": "3fbd7bf3",
   "metadata": {},
   "outputs": [
    {
     "data": {
      "text/plain": [
       "2.628917686383801"
      ]
     },
     "execution_count": 75,
     "metadata": {},
     "output_type": "execute_result"
    }
   ],
   "source": [
    "mean_absolute_error(Y_test, predictions)"
   ]
  },
  {
   "cell_type": "code",
   "execution_count": 76,
   "id": "2cc2d757",
   "metadata": {},
   "outputs": [],
   "source": [
    "rms = sqrt(mean_squared_error(Y_test, predictions))"
   ]
  },
  {
   "cell_type": "code",
   "execution_count": 77,
   "id": "90c37749",
   "metadata": {},
   "outputs": [
    {
     "name": "stdout",
     "output_type": "stream",
     "text": [
      "3.1081806447115734\n"
     ]
    }
   ],
   "source": [
    "print(rms)"
   ]
  },
  {
   "cell_type": "code",
   "execution_count": 78,
   "id": "d2a6c160",
   "metadata": {},
   "outputs": [
    {
     "name": "stdout",
     "output_type": "stream",
     "text": [
      "R squared error :  0.30317338626762913\n"
     ]
    }
   ],
   "source": [
    "# R squared error\n",
    "error_score = metrics.r2_score(Y_test, predictions)\n",
    "print(\"R squared error : \", error_score)"
   ]
  },
  {
   "cell_type": "code",
   "execution_count": 79,
   "id": "8034606b",
   "metadata": {},
   "outputs": [
    {
     "name": "stdout",
     "output_type": "stream",
     "text": [
      "SMAPE score: 41.76453655431573\n"
     ]
    }
   ],
   "source": [
    "smape_score = smape(Y_test, predictions)\n",
    "print(\"SMAPE score:\", smape_score)"
   ]
  },
  {
   "cell_type": "code",
   "execution_count": 80,
   "id": "18613bb7",
   "metadata": {},
   "outputs": [
    {
     "data": {
      "text/html": [
       "<style>#sk-container-id-7 {color: black;background-color: white;}#sk-container-id-7 pre{padding: 0;}#sk-container-id-7 div.sk-toggleable {background-color: white;}#sk-container-id-7 label.sk-toggleable__label {cursor: pointer;display: block;width: 100%;margin-bottom: 0;padding: 0.3em;box-sizing: border-box;text-align: center;}#sk-container-id-7 label.sk-toggleable__label-arrow:before {content: \"▸\";float: left;margin-right: 0.25em;color: #696969;}#sk-container-id-7 label.sk-toggleable__label-arrow:hover:before {color: black;}#sk-container-id-7 div.sk-estimator:hover label.sk-toggleable__label-arrow:before {color: black;}#sk-container-id-7 div.sk-toggleable__content {max-height: 0;max-width: 0;overflow: hidden;text-align: left;background-color: #f0f8ff;}#sk-container-id-7 div.sk-toggleable__content pre {margin: 0.2em;color: black;border-radius: 0.25em;background-color: #f0f8ff;}#sk-container-id-7 input.sk-toggleable__control:checked~div.sk-toggleable__content {max-height: 200px;max-width: 100%;overflow: auto;}#sk-container-id-7 input.sk-toggleable__control:checked~label.sk-toggleable__label-arrow:before {content: \"▾\";}#sk-container-id-7 div.sk-estimator input.sk-toggleable__control:checked~label.sk-toggleable__label {background-color: #d4ebff;}#sk-container-id-7 div.sk-label input.sk-toggleable__control:checked~label.sk-toggleable__label {background-color: #d4ebff;}#sk-container-id-7 input.sk-hidden--visually {border: 0;clip: rect(1px 1px 1px 1px);clip: rect(1px, 1px, 1px, 1px);height: 1px;margin: -1px;overflow: hidden;padding: 0;position: absolute;width: 1px;}#sk-container-id-7 div.sk-estimator {font-family: monospace;background-color: #f0f8ff;border: 1px dotted black;border-radius: 0.25em;box-sizing: border-box;margin-bottom: 0.5em;}#sk-container-id-7 div.sk-estimator:hover {background-color: #d4ebff;}#sk-container-id-7 div.sk-parallel-item::after {content: \"\";width: 100%;border-bottom: 1px solid gray;flex-grow: 1;}#sk-container-id-7 div.sk-label:hover label.sk-toggleable__label {background-color: #d4ebff;}#sk-container-id-7 div.sk-serial::before {content: \"\";position: absolute;border-left: 1px solid gray;box-sizing: border-box;top: 0;bottom: 0;left: 50%;z-index: 0;}#sk-container-id-7 div.sk-serial {display: flex;flex-direction: column;align-items: center;background-color: white;padding-right: 0.2em;padding-left: 0.2em;position: relative;}#sk-container-id-7 div.sk-item {position: relative;z-index: 1;}#sk-container-id-7 div.sk-parallel {display: flex;align-items: stretch;justify-content: center;background-color: white;position: relative;}#sk-container-id-7 div.sk-item::before, #sk-container-id-7 div.sk-parallel-item::before {content: \"\";position: absolute;border-left: 1px solid gray;box-sizing: border-box;top: 0;bottom: 0;left: 50%;z-index: -1;}#sk-container-id-7 div.sk-parallel-item {display: flex;flex-direction: column;z-index: 1;position: relative;background-color: white;}#sk-container-id-7 div.sk-parallel-item:first-child::after {align-self: flex-end;width: 50%;}#sk-container-id-7 div.sk-parallel-item:last-child::after {align-self: flex-start;width: 50%;}#sk-container-id-7 div.sk-parallel-item:only-child::after {width: 0;}#sk-container-id-7 div.sk-dashed-wrapped {border: 1px dashed gray;margin: 0 0.4em 0.5em 0.4em;box-sizing: border-box;padding-bottom: 0.4em;background-color: white;}#sk-container-id-7 div.sk-label label {font-family: monospace;font-weight: bold;display: inline-block;line-height: 1.2em;}#sk-container-id-7 div.sk-label-container {text-align: center;}#sk-container-id-7 div.sk-container {/* jupyter's `normalize.less` sets `[hidden] { display: none; }` but bootstrap.min.css set `[hidden] { display: none !important; }` so we also need the `!important` here to be able to override the default hidden behavior on the sphinx rendered scikit-learn.org. See: https://github.com/scikit-learn/scikit-learn/issues/21755 */display: inline-block !important;position: relative;}#sk-container-id-7 div.sk-text-repr-fallback {display: none;}</style><div id=\"sk-container-id-7\" class=\"sk-top-container\"><div class=\"sk-text-repr-fallback\"><pre>StackingRegressor(estimators=[(&#x27;rf&#x27;, RandomForestRegressor()),\n",
       "                              (&#x27;xgb&#x27;,\n",
       "                               XGBRegressor(base_score=None, booster=None,\n",
       "                                            callbacks=None,\n",
       "                                            colsample_bylevel=None,\n",
       "                                            colsample_bynode=None,\n",
       "                                            colsample_bytree=None,\n",
       "                                            early_stopping_rounds=None,\n",
       "                                            enable_categorical=False,\n",
       "                                            eval_metric=None,\n",
       "                                            feature_types=None, gamma=None,\n",
       "                                            gpu_id=None, grow_policy=None,\n",
       "                                            importance_type=None,\n",
       "                                            interaction_constraints=None,\n",
       "                                            learning_rate=None, max_bin=None,\n",
       "                                            max_cat_threshold=None,\n",
       "                                            max_cat_to_onehot=None,\n",
       "                                            max_delta_step=None, max_depth=None,\n",
       "                                            max_leaves=None,\n",
       "                                            min_child_weight=None, missing=nan,\n",
       "                                            monotone_constraints=None,\n",
       "                                            n_estimators=100, n_jobs=None,\n",
       "                                            num_parallel_tree=None,\n",
       "                                            predictor=None, random_state=None, ...)),\n",
       "                              (&#x27;svm&#x27;, SVR(C=10, gamma=0.1))])</pre><b>In a Jupyter environment, please rerun this cell to show the HTML representation or trust the notebook. <br />On GitHub, the HTML representation is unable to render, please try loading this page with nbviewer.org.</b></div><div class=\"sk-container\" hidden><div class=\"sk-item sk-dashed-wrapped\"><div class=\"sk-label-container\"><div class=\"sk-label sk-toggleable\"><input class=\"sk-toggleable__control sk-hidden--visually\" id=\"sk-estimator-id-10\" type=\"checkbox\" ><label for=\"sk-estimator-id-10\" class=\"sk-toggleable__label sk-toggleable__label-arrow\">StackingRegressor</label><div class=\"sk-toggleable__content\"><pre>StackingRegressor(estimators=[(&#x27;rf&#x27;, RandomForestRegressor()),\n",
       "                              (&#x27;xgb&#x27;,\n",
       "                               XGBRegressor(base_score=None, booster=None,\n",
       "                                            callbacks=None,\n",
       "                                            colsample_bylevel=None,\n",
       "                                            colsample_bynode=None,\n",
       "                                            colsample_bytree=None,\n",
       "                                            early_stopping_rounds=None,\n",
       "                                            enable_categorical=False,\n",
       "                                            eval_metric=None,\n",
       "                                            feature_types=None, gamma=None,\n",
       "                                            gpu_id=None, grow_policy=None,\n",
       "                                            importance_type=None,\n",
       "                                            interaction_constraints=None,\n",
       "                                            learning_rate=None, max_bin=None,\n",
       "                                            max_cat_threshold=None,\n",
       "                                            max_cat_to_onehot=None,\n",
       "                                            max_delta_step=None, max_depth=None,\n",
       "                                            max_leaves=None,\n",
       "                                            min_child_weight=None, missing=nan,\n",
       "                                            monotone_constraints=None,\n",
       "                                            n_estimators=100, n_jobs=None,\n",
       "                                            num_parallel_tree=None,\n",
       "                                            predictor=None, random_state=None, ...)),\n",
       "                              (&#x27;svm&#x27;, SVR(C=10, gamma=0.1))])</pre></div></div></div><div class=\"sk-serial\"><div class=\"sk-item\"><div class=\"sk-parallel\"><div class=\"sk-parallel-item\"><div class=\"sk-item\"><div class=\"sk-label-container\"><div class=\"sk-label sk-toggleable\"><label>rf</label></div></div><div class=\"sk-serial\"><div class=\"sk-item\"><div class=\"sk-estimator sk-toggleable\"><input class=\"sk-toggleable__control sk-hidden--visually\" id=\"sk-estimator-id-11\" type=\"checkbox\" ><label for=\"sk-estimator-id-11\" class=\"sk-toggleable__label sk-toggleable__label-arrow\">RandomForestRegressor</label><div class=\"sk-toggleable__content\"><pre>RandomForestRegressor()</pre></div></div></div></div></div></div><div class=\"sk-parallel-item\"><div class=\"sk-item\"><div class=\"sk-label-container\"><div class=\"sk-label sk-toggleable\"><label>xgb</label></div></div><div class=\"sk-serial\"><div class=\"sk-item\"><div class=\"sk-estimator sk-toggleable\"><input class=\"sk-toggleable__control sk-hidden--visually\" id=\"sk-estimator-id-12\" type=\"checkbox\" ><label for=\"sk-estimator-id-12\" class=\"sk-toggleable__label sk-toggleable__label-arrow\">XGBRegressor</label><div class=\"sk-toggleable__content\"><pre>XGBRegressor(base_score=None, booster=None, callbacks=None,\n",
       "             colsample_bylevel=None, colsample_bynode=None,\n",
       "             colsample_bytree=None, early_stopping_rounds=None,\n",
       "             enable_categorical=False, eval_metric=None, feature_types=None,\n",
       "             gamma=None, gpu_id=None, grow_policy=None, importance_type=None,\n",
       "             interaction_constraints=None, learning_rate=None, max_bin=None,\n",
       "             max_cat_threshold=None, max_cat_to_onehot=None,\n",
       "             max_delta_step=None, max_depth=None, max_leaves=None,\n",
       "             min_child_weight=None, missing=nan, monotone_constraints=None,\n",
       "             n_estimators=100, n_jobs=None, num_parallel_tree=None,\n",
       "             predictor=None, random_state=None, ...)</pre></div></div></div></div></div></div><div class=\"sk-parallel-item\"><div class=\"sk-item\"><div class=\"sk-label-container\"><div class=\"sk-label sk-toggleable\"><label>svm</label></div></div><div class=\"sk-serial\"><div class=\"sk-item\"><div class=\"sk-estimator sk-toggleable\"><input class=\"sk-toggleable__control sk-hidden--visually\" id=\"sk-estimator-id-13\" type=\"checkbox\" ><label for=\"sk-estimator-id-13\" class=\"sk-toggleable__label sk-toggleable__label-arrow\">SVR</label><div class=\"sk-toggleable__content\"><pre>SVR(C=10, gamma=0.1)</pre></div></div></div></div></div></div></div></div><div class=\"sk-item\"><div class=\"sk-parallel\"><div class=\"sk-parallel-item\"><div class=\"sk-item\"><div class=\"sk-label-container\"><div class=\"sk-label sk-toggleable\"><label>final_estimator</label></div></div><div class=\"sk-serial\"><div class=\"sk-item\"><div class=\"sk-estimator sk-toggleable\"><input class=\"sk-toggleable__control sk-hidden--visually\" id=\"sk-estimator-id-14\" type=\"checkbox\" ><label for=\"sk-estimator-id-14\" class=\"sk-toggleable__label sk-toggleable__label-arrow\">RidgeCV</label><div class=\"sk-toggleable__content\"><pre>RidgeCV()</pre></div></div></div></div></div></div></div></div></div></div></div></div>"
      ],
      "text/plain": [
       "StackingRegressor(estimators=[('rf', RandomForestRegressor()),\n",
       "                              ('xgb',\n",
       "                               XGBRegressor(base_score=None, booster=None,\n",
       "                                            callbacks=None,\n",
       "                                            colsample_bylevel=None,\n",
       "                                            colsample_bynode=None,\n",
       "                                            colsample_bytree=None,\n",
       "                                            early_stopping_rounds=None,\n",
       "                                            enable_categorical=False,\n",
       "                                            eval_metric=None,\n",
       "                                            feature_types=None, gamma=None,\n",
       "                                            gpu_id=None, grow_policy=None,\n",
       "                                            importance_type=None,\n",
       "                                            interaction_constraints=None,\n",
       "                                            learning_rate=None, max_bin=None,\n",
       "                                            max_cat_threshold=None,\n",
       "                                            max_cat_to_onehot=None,\n",
       "                                            max_delta_step=None, max_depth=None,\n",
       "                                            max_leaves=None,\n",
       "                                            min_child_weight=None, missing=nan,\n",
       "                                            monotone_constraints=None,\n",
       "                                            n_estimators=100, n_jobs=None,\n",
       "                                            num_parallel_tree=None,\n",
       "                                            predictor=None, random_state=None, ...)),\n",
       "                              ('svm', SVR(C=10, gamma=0.1))])"
      ]
     },
     "execution_count": 80,
     "metadata": {},
     "output_type": "execute_result"
    }
   ],
   "source": [
    "stack_regressor = StackingRegressor(estimators=[('rf', regressor), ('xgb', xb_model),('svm',svr)])\n",
    "stack_regressor.fit(X_train, Y_train)"
   ]
  },
  {
   "cell_type": "code",
   "execution_count": 81,
   "id": "a45ae7eb",
   "metadata": {},
   "outputs": [],
   "source": [
    "pred=stack_regressor.predict(X_test)"
   ]
  },
  {
   "cell_type": "code",
   "execution_count": 82,
   "id": "49e28d33",
   "metadata": {},
   "outputs": [
    {
     "name": "stdout",
     "output_type": "stream",
     "text": [
      "[ 9.03072263  6.85063604  6.79035633 10.62922984  6.10909795  6.3450091\n",
      "  6.04444579  6.66610221  3.84638855  4.46355797  5.08714967  5.5737306\n",
      "  6.34020041 10.69796768 10.14583902  8.29032805  6.68055508  4.90764357\n",
      "  7.09169135  8.5553764   5.75176535  8.03075719  8.97818237  7.13474837\n",
      "  8.10838216 10.65994405  8.71583383  6.73820498  8.67378322  6.20871946\n",
      "  9.00339572  5.83693601  8.64370527  8.61480453  6.88579081 10.6498559\n",
      "  6.07554432  4.23101364  9.79685093  5.07632998  6.30742312  6.17541231\n",
      "  8.17051528  3.44252741  7.57713126  8.2449518   6.85358785  4.48263765\n",
      "  6.26634396]\n"
     ]
    }
   ],
   "source": [
    "print(pred)"
   ]
  },
  {
   "cell_type": "code",
   "execution_count": 83,
   "id": "9d30f80c",
   "metadata": {},
   "outputs": [
    {
     "data": {
      "text/plain": [
       "2.6247041512225184"
      ]
     },
     "execution_count": 83,
     "metadata": {},
     "output_type": "execute_result"
    }
   ],
   "source": [
    "mean_absolute_error(Y_test, pred)"
   ]
  },
  {
   "cell_type": "code",
   "execution_count": 84,
   "id": "86a27ab8",
   "metadata": {},
   "outputs": [],
   "source": [
    "rms = sqrt(mean_squared_error(Y_test, pred))"
   ]
  },
  {
   "cell_type": "code",
   "execution_count": 85,
   "id": "0097172e",
   "metadata": {},
   "outputs": [
    {
     "name": "stdout",
     "output_type": "stream",
     "text": [
      "3.1023261138605904\n"
     ]
    }
   ],
   "source": [
    "print(rms)"
   ]
  },
  {
   "cell_type": "code",
   "execution_count": 86,
   "id": "c8339bf1",
   "metadata": {},
   "outputs": [
    {
     "name": "stdout",
     "output_type": "stream",
     "text": [
      "R squared error :  0.30579598208058034\n"
     ]
    }
   ],
   "source": [
    "# R squared error\n",
    "error_score = metrics.r2_score(Y_test, pred)\n",
    "print(\"R squared error : \", error_score)"
   ]
  },
  {
   "cell_type": "code",
   "execution_count": 87,
   "id": "b8c55534",
   "metadata": {},
   "outputs": [
    {
     "name": "stdout",
     "output_type": "stream",
     "text": [
      "SMAPE score: 41.94383725854816\n"
     ]
    }
   ],
   "source": [
    "smape_score = smape(Y_test, pred)\n",
    "print(\"SMAPE score:\", smape_score)"
   ]
  },
  {
   "cell_type": "code",
   "execution_count": 88,
   "id": "de8281ab",
   "metadata": {},
   "outputs": [
    {
     "data": {
      "text/html": [
       "<style>#sk-container-id-8 {color: black;background-color: white;}#sk-container-id-8 pre{padding: 0;}#sk-container-id-8 div.sk-toggleable {background-color: white;}#sk-container-id-8 label.sk-toggleable__label {cursor: pointer;display: block;width: 100%;margin-bottom: 0;padding: 0.3em;box-sizing: border-box;text-align: center;}#sk-container-id-8 label.sk-toggleable__label-arrow:before {content: \"▸\";float: left;margin-right: 0.25em;color: #696969;}#sk-container-id-8 label.sk-toggleable__label-arrow:hover:before {color: black;}#sk-container-id-8 div.sk-estimator:hover label.sk-toggleable__label-arrow:before {color: black;}#sk-container-id-8 div.sk-toggleable__content {max-height: 0;max-width: 0;overflow: hidden;text-align: left;background-color: #f0f8ff;}#sk-container-id-8 div.sk-toggleable__content pre {margin: 0.2em;color: black;border-radius: 0.25em;background-color: #f0f8ff;}#sk-container-id-8 input.sk-toggleable__control:checked~div.sk-toggleable__content {max-height: 200px;max-width: 100%;overflow: auto;}#sk-container-id-8 input.sk-toggleable__control:checked~label.sk-toggleable__label-arrow:before {content: \"▾\";}#sk-container-id-8 div.sk-estimator input.sk-toggleable__control:checked~label.sk-toggleable__label {background-color: #d4ebff;}#sk-container-id-8 div.sk-label input.sk-toggleable__control:checked~label.sk-toggleable__label {background-color: #d4ebff;}#sk-container-id-8 input.sk-hidden--visually {border: 0;clip: rect(1px 1px 1px 1px);clip: rect(1px, 1px, 1px, 1px);height: 1px;margin: -1px;overflow: hidden;padding: 0;position: absolute;width: 1px;}#sk-container-id-8 div.sk-estimator {font-family: monospace;background-color: #f0f8ff;border: 1px dotted black;border-radius: 0.25em;box-sizing: border-box;margin-bottom: 0.5em;}#sk-container-id-8 div.sk-estimator:hover {background-color: #d4ebff;}#sk-container-id-8 div.sk-parallel-item::after {content: \"\";width: 100%;border-bottom: 1px solid gray;flex-grow: 1;}#sk-container-id-8 div.sk-label:hover label.sk-toggleable__label {background-color: #d4ebff;}#sk-container-id-8 div.sk-serial::before {content: \"\";position: absolute;border-left: 1px solid gray;box-sizing: border-box;top: 0;bottom: 0;left: 50%;z-index: 0;}#sk-container-id-8 div.sk-serial {display: flex;flex-direction: column;align-items: center;background-color: white;padding-right: 0.2em;padding-left: 0.2em;position: relative;}#sk-container-id-8 div.sk-item {position: relative;z-index: 1;}#sk-container-id-8 div.sk-parallel {display: flex;align-items: stretch;justify-content: center;background-color: white;position: relative;}#sk-container-id-8 div.sk-item::before, #sk-container-id-8 div.sk-parallel-item::before {content: \"\";position: absolute;border-left: 1px solid gray;box-sizing: border-box;top: 0;bottom: 0;left: 50%;z-index: -1;}#sk-container-id-8 div.sk-parallel-item {display: flex;flex-direction: column;z-index: 1;position: relative;background-color: white;}#sk-container-id-8 div.sk-parallel-item:first-child::after {align-self: flex-end;width: 50%;}#sk-container-id-8 div.sk-parallel-item:last-child::after {align-self: flex-start;width: 50%;}#sk-container-id-8 div.sk-parallel-item:only-child::after {width: 0;}#sk-container-id-8 div.sk-dashed-wrapped {border: 1px dashed gray;margin: 0 0.4em 0.5em 0.4em;box-sizing: border-box;padding-bottom: 0.4em;background-color: white;}#sk-container-id-8 div.sk-label label {font-family: monospace;font-weight: bold;display: inline-block;line-height: 1.2em;}#sk-container-id-8 div.sk-label-container {text-align: center;}#sk-container-id-8 div.sk-container {/* jupyter's `normalize.less` sets `[hidden] { display: none; }` but bootstrap.min.css set `[hidden] { display: none !important; }` so we also need the `!important` here to be able to override the default hidden behavior on the sphinx rendered scikit-learn.org. See: https://github.com/scikit-learn/scikit-learn/issues/21755 */display: inline-block !important;position: relative;}#sk-container-id-8 div.sk-text-repr-fallback {display: none;}</style><div id=\"sk-container-id-8\" class=\"sk-top-container\"><div class=\"sk-text-repr-fallback\"><pre>VotingRegressor(estimators=[(&#x27;rf&#x27;, RandomForestRegressor()),\n",
       "                            (&#x27;xb&#x27;,\n",
       "                             XGBRegressor(base_score=None, booster=None,\n",
       "                                          callbacks=None,\n",
       "                                          colsample_bylevel=None,\n",
       "                                          colsample_bynode=None,\n",
       "                                          colsample_bytree=None,\n",
       "                                          early_stopping_rounds=None,\n",
       "                                          enable_categorical=False,\n",
       "                                          eval_metric=None, feature_types=None,\n",
       "                                          gamma=None, gpu_id=None,\n",
       "                                          grow_policy=None,\n",
       "                                          importance_type=None,\n",
       "                                          interaction_constraints=None,\n",
       "                                          learning_rate=None, max_bin=None,\n",
       "                                          max_cat_threshold=None,\n",
       "                                          max_cat_to_onehot=None,\n",
       "                                          max_delta_step=None, max_depth=None,\n",
       "                                          max_leaves=None,\n",
       "                                          min_child_weight=None, missing=nan,\n",
       "                                          monotone_constraints=None,\n",
       "                                          n_estimators=100, n_jobs=None,\n",
       "                                          num_parallel_tree=None,\n",
       "                                          predictor=None, random_state=None, ...))])</pre><b>In a Jupyter environment, please rerun this cell to show the HTML representation or trust the notebook. <br />On GitHub, the HTML representation is unable to render, please try loading this page with nbviewer.org.</b></div><div class=\"sk-container\" hidden><div class=\"sk-item sk-dashed-wrapped\"><div class=\"sk-label-container\"><div class=\"sk-label sk-toggleable\"><input class=\"sk-toggleable__control sk-hidden--visually\" id=\"sk-estimator-id-15\" type=\"checkbox\" ><label for=\"sk-estimator-id-15\" class=\"sk-toggleable__label sk-toggleable__label-arrow\">VotingRegressor</label><div class=\"sk-toggleable__content\"><pre>VotingRegressor(estimators=[(&#x27;rf&#x27;, RandomForestRegressor()),\n",
       "                            (&#x27;xb&#x27;,\n",
       "                             XGBRegressor(base_score=None, booster=None,\n",
       "                                          callbacks=None,\n",
       "                                          colsample_bylevel=None,\n",
       "                                          colsample_bynode=None,\n",
       "                                          colsample_bytree=None,\n",
       "                                          early_stopping_rounds=None,\n",
       "                                          enable_categorical=False,\n",
       "                                          eval_metric=None, feature_types=None,\n",
       "                                          gamma=None, gpu_id=None,\n",
       "                                          grow_policy=None,\n",
       "                                          importance_type=None,\n",
       "                                          interaction_constraints=None,\n",
       "                                          learning_rate=None, max_bin=None,\n",
       "                                          max_cat_threshold=None,\n",
       "                                          max_cat_to_onehot=None,\n",
       "                                          max_delta_step=None, max_depth=None,\n",
       "                                          max_leaves=None,\n",
       "                                          min_child_weight=None, missing=nan,\n",
       "                                          monotone_constraints=None,\n",
       "                                          n_estimators=100, n_jobs=None,\n",
       "                                          num_parallel_tree=None,\n",
       "                                          predictor=None, random_state=None, ...))])</pre></div></div></div><div class=\"sk-parallel\"><div class=\"sk-parallel-item\"><div class=\"sk-item\"><div class=\"sk-label-container\"><div class=\"sk-label sk-toggleable\"><label>rf</label></div></div><div class=\"sk-serial\"><div class=\"sk-item\"><div class=\"sk-estimator sk-toggleable\"><input class=\"sk-toggleable__control sk-hidden--visually\" id=\"sk-estimator-id-16\" type=\"checkbox\" ><label for=\"sk-estimator-id-16\" class=\"sk-toggleable__label sk-toggleable__label-arrow\">RandomForestRegressor</label><div class=\"sk-toggleable__content\"><pre>RandomForestRegressor()</pre></div></div></div></div></div></div><div class=\"sk-parallel-item\"><div class=\"sk-item\"><div class=\"sk-label-container\"><div class=\"sk-label sk-toggleable\"><label>xb</label></div></div><div class=\"sk-serial\"><div class=\"sk-item\"><div class=\"sk-estimator sk-toggleable\"><input class=\"sk-toggleable__control sk-hidden--visually\" id=\"sk-estimator-id-17\" type=\"checkbox\" ><label for=\"sk-estimator-id-17\" class=\"sk-toggleable__label sk-toggleable__label-arrow\">XGBRegressor</label><div class=\"sk-toggleable__content\"><pre>XGBRegressor(base_score=None, booster=None, callbacks=None,\n",
       "             colsample_bylevel=None, colsample_bynode=None,\n",
       "             colsample_bytree=None, early_stopping_rounds=None,\n",
       "             enable_categorical=False, eval_metric=None, feature_types=None,\n",
       "             gamma=None, gpu_id=None, grow_policy=None, importance_type=None,\n",
       "             interaction_constraints=None, learning_rate=None, max_bin=None,\n",
       "             max_cat_threshold=None, max_cat_to_onehot=None,\n",
       "             max_delta_step=None, max_depth=None, max_leaves=None,\n",
       "             min_child_weight=None, missing=nan, monotone_constraints=None,\n",
       "             n_estimators=100, n_jobs=None, num_parallel_tree=None,\n",
       "             predictor=None, random_state=None, ...)</pre></div></div></div></div></div></div></div></div></div></div>"
      ],
      "text/plain": [
       "VotingRegressor(estimators=[('rf', RandomForestRegressor()),\n",
       "                            ('xb',\n",
       "                             XGBRegressor(base_score=None, booster=None,\n",
       "                                          callbacks=None,\n",
       "                                          colsample_bylevel=None,\n",
       "                                          colsample_bynode=None,\n",
       "                                          colsample_bytree=None,\n",
       "                                          early_stopping_rounds=None,\n",
       "                                          enable_categorical=False,\n",
       "                                          eval_metric=None, feature_types=None,\n",
       "                                          gamma=None, gpu_id=None,\n",
       "                                          grow_policy=None,\n",
       "                                          importance_type=None,\n",
       "                                          interaction_constraints=None,\n",
       "                                          learning_rate=None, max_bin=None,\n",
       "                                          max_cat_threshold=None,\n",
       "                                          max_cat_to_onehot=None,\n",
       "                                          max_delta_step=None, max_depth=None,\n",
       "                                          max_leaves=None,\n",
       "                                          min_child_weight=None, missing=nan,\n",
       "                                          monotone_constraints=None,\n",
       "                                          n_estimators=100, n_jobs=None,\n",
       "                                          num_parallel_tree=None,\n",
       "                                          predictor=None, random_state=None, ...))])"
      ]
     },
     "execution_count": 88,
     "metadata": {},
     "output_type": "execute_result"
    }
   ],
   "source": [
    "voting_reg = VotingRegressor(estimators=[('rf', regressor), ('xb', xb_model)])\n",
    "voting_reg.fit(X_train, Y_train)"
   ]
  },
  {
   "cell_type": "code",
   "execution_count": 89,
   "id": "16bf0a63",
   "metadata": {},
   "outputs": [],
   "source": [
    "Y_pred = voting_reg.predict(X_test)"
   ]
  },
  {
   "cell_type": "code",
   "execution_count": 90,
   "id": "9af41afd",
   "metadata": {},
   "outputs": [
    {
     "name": "stdout",
     "output_type": "stream",
     "text": [
      "[ 9.03163167  6.3927745   6.04152052 13.17153015  4.62342699  5.57833001\n",
      "  5.30312262  7.08030557  1.91869876  3.72174351  4.83169679  3.55852205\n",
      "  4.72266922 11.35831521 11.50992198  7.72243065  5.63140658  5.22919786\n",
      "  9.05014922  9.03099255  4.64644922  8.59329514  8.98569912  6.63162614\n",
      "  7.55710528 13.64150987  7.36457209  6.86796249  8.47665552  5.45408469\n",
      "  9.45960532  5.10038863  8.87525792  8.84261132  6.97354314 11.82282159\n",
      "  5.07126641  2.26239537 10.10260132  4.08900936  6.03096258  4.41649594\n",
      "  8.92825575  2.9989233   7.6714682   8.86450634  7.12204678  3.14024775\n",
      "  4.39727917]\n"
     ]
    }
   ],
   "source": [
    "print(Y_pred)"
   ]
  },
  {
   "cell_type": "code",
   "execution_count": 91,
   "id": "f1ee9703",
   "metadata": {},
   "outputs": [
    {
     "data": {
      "text/plain": [
       "2.4135651448728597"
      ]
     },
     "execution_count": 91,
     "metadata": {},
     "output_type": "execute_result"
    }
   ],
   "source": [
    "mean_absolute_error(Y_test, Y_pred)"
   ]
  },
  {
   "cell_type": "code",
   "execution_count": 92,
   "id": "9501e6b0",
   "metadata": {},
   "outputs": [],
   "source": [
    "rms = sqrt(mean_squared_error(Y_test, Y_pred))"
   ]
  },
  {
   "cell_type": "code",
   "execution_count": 93,
   "id": "5aeba2ed",
   "metadata": {},
   "outputs": [
    {
     "name": "stdout",
     "output_type": "stream",
     "text": [
      "3.0499869104934985\n"
     ]
    }
   ],
   "source": [
    "print(rms)"
   ]
  },
  {
   "cell_type": "code",
   "execution_count": 94,
   "id": "0894cfac",
   "metadata": {},
   "outputs": [
    {
     "name": "stdout",
     "output_type": "stream",
     "text": [
      "R squared error :  0.32902216050045585\n"
     ]
    }
   ],
   "source": [
    "# R squared error\n",
    "error_score = metrics.r2_score(Y_test, Y_pred)\n",
    "print(\"R squared error : \", error_score)"
   ]
  },
  {
   "cell_type": "code",
   "execution_count": 95,
   "id": "4af4da1c",
   "metadata": {},
   "outputs": [
    {
     "name": "stdout",
     "output_type": "stream",
     "text": [
      "SMAPE score: 47.31016738663388\n"
     ]
    }
   ],
   "source": [
    "smape_score = smape(Y_test, y_pred)\n",
    "print(\"SMAPE score:\", smape_score)"
   ]
  },
  {
   "cell_type": "code",
   "execution_count": 96,
   "id": "8c22a633",
   "metadata": {},
   "outputs": [
    {
     "data": {
      "text/html": [
       "<style>#sk-container-id-9 {color: black;background-color: white;}#sk-container-id-9 pre{padding: 0;}#sk-container-id-9 div.sk-toggleable {background-color: white;}#sk-container-id-9 label.sk-toggleable__label {cursor: pointer;display: block;width: 100%;margin-bottom: 0;padding: 0.3em;box-sizing: border-box;text-align: center;}#sk-container-id-9 label.sk-toggleable__label-arrow:before {content: \"▸\";float: left;margin-right: 0.25em;color: #696969;}#sk-container-id-9 label.sk-toggleable__label-arrow:hover:before {color: black;}#sk-container-id-9 div.sk-estimator:hover label.sk-toggleable__label-arrow:before {color: black;}#sk-container-id-9 div.sk-toggleable__content {max-height: 0;max-width: 0;overflow: hidden;text-align: left;background-color: #f0f8ff;}#sk-container-id-9 div.sk-toggleable__content pre {margin: 0.2em;color: black;border-radius: 0.25em;background-color: #f0f8ff;}#sk-container-id-9 input.sk-toggleable__control:checked~div.sk-toggleable__content {max-height: 200px;max-width: 100%;overflow: auto;}#sk-container-id-9 input.sk-toggleable__control:checked~label.sk-toggleable__label-arrow:before {content: \"▾\";}#sk-container-id-9 div.sk-estimator input.sk-toggleable__control:checked~label.sk-toggleable__label {background-color: #d4ebff;}#sk-container-id-9 div.sk-label input.sk-toggleable__control:checked~label.sk-toggleable__label {background-color: #d4ebff;}#sk-container-id-9 input.sk-hidden--visually {border: 0;clip: rect(1px 1px 1px 1px);clip: rect(1px, 1px, 1px, 1px);height: 1px;margin: -1px;overflow: hidden;padding: 0;position: absolute;width: 1px;}#sk-container-id-9 div.sk-estimator {font-family: monospace;background-color: #f0f8ff;border: 1px dotted black;border-radius: 0.25em;box-sizing: border-box;margin-bottom: 0.5em;}#sk-container-id-9 div.sk-estimator:hover {background-color: #d4ebff;}#sk-container-id-9 div.sk-parallel-item::after {content: \"\";width: 100%;border-bottom: 1px solid gray;flex-grow: 1;}#sk-container-id-9 div.sk-label:hover label.sk-toggleable__label {background-color: #d4ebff;}#sk-container-id-9 div.sk-serial::before {content: \"\";position: absolute;border-left: 1px solid gray;box-sizing: border-box;top: 0;bottom: 0;left: 50%;z-index: 0;}#sk-container-id-9 div.sk-serial {display: flex;flex-direction: column;align-items: center;background-color: white;padding-right: 0.2em;padding-left: 0.2em;position: relative;}#sk-container-id-9 div.sk-item {position: relative;z-index: 1;}#sk-container-id-9 div.sk-parallel {display: flex;align-items: stretch;justify-content: center;background-color: white;position: relative;}#sk-container-id-9 div.sk-item::before, #sk-container-id-9 div.sk-parallel-item::before {content: \"\";position: absolute;border-left: 1px solid gray;box-sizing: border-box;top: 0;bottom: 0;left: 50%;z-index: -1;}#sk-container-id-9 div.sk-parallel-item {display: flex;flex-direction: column;z-index: 1;position: relative;background-color: white;}#sk-container-id-9 div.sk-parallel-item:first-child::after {align-self: flex-end;width: 50%;}#sk-container-id-9 div.sk-parallel-item:last-child::after {align-self: flex-start;width: 50%;}#sk-container-id-9 div.sk-parallel-item:only-child::after {width: 0;}#sk-container-id-9 div.sk-dashed-wrapped {border: 1px dashed gray;margin: 0 0.4em 0.5em 0.4em;box-sizing: border-box;padding-bottom: 0.4em;background-color: white;}#sk-container-id-9 div.sk-label label {font-family: monospace;font-weight: bold;display: inline-block;line-height: 1.2em;}#sk-container-id-9 div.sk-label-container {text-align: center;}#sk-container-id-9 div.sk-container {/* jupyter's `normalize.less` sets `[hidden] { display: none; }` but bootstrap.min.css set `[hidden] { display: none !important; }` so we also need the `!important` here to be able to override the default hidden behavior on the sphinx rendered scikit-learn.org. See: https://github.com/scikit-learn/scikit-learn/issues/21755 */display: inline-block !important;position: relative;}#sk-container-id-9 div.sk-text-repr-fallback {display: none;}</style><div id=\"sk-container-id-9\" class=\"sk-top-container\"><div class=\"sk-text-repr-fallback\"><pre>VotingRegressor(estimators=[(&#x27;rf&#x27;, RandomForestRegressor()),\n",
       "                            (&#x27;xgb&#x27;,\n",
       "                             XGBRegressor(base_score=None, booster=None,\n",
       "                                          callbacks=None,\n",
       "                                          colsample_bylevel=None,\n",
       "                                          colsample_bynode=None,\n",
       "                                          colsample_bytree=None,\n",
       "                                          early_stopping_rounds=None,\n",
       "                                          enable_categorical=False,\n",
       "                                          eval_metric=None, feature_types=None,\n",
       "                                          gamma=None, gpu_id=None,\n",
       "                                          grow_policy=None,\n",
       "                                          importance_type=None,\n",
       "                                          interaction_constraints=None,\n",
       "                                          learning_rate=None, max_bin=None,\n",
       "                                          max_cat_threshold=None,\n",
       "                                          max_cat_to_onehot=None,\n",
       "                                          max_delta_step=None, max_depth=None,\n",
       "                                          max_leaves=None,\n",
       "                                          min_child_weight=None, missing=nan,\n",
       "                                          monotone_constraints=None,\n",
       "                                          n_estimators=100, n_jobs=None,\n",
       "                                          num_parallel_tree=None,\n",
       "                                          predictor=None, random_state=None, ...)),\n",
       "                            (&#x27;svm&#x27;, SVR(C=10, gamma=0.1))])</pre><b>In a Jupyter environment, please rerun this cell to show the HTML representation or trust the notebook. <br />On GitHub, the HTML representation is unable to render, please try loading this page with nbviewer.org.</b></div><div class=\"sk-container\" hidden><div class=\"sk-item sk-dashed-wrapped\"><div class=\"sk-label-container\"><div class=\"sk-label sk-toggleable\"><input class=\"sk-toggleable__control sk-hidden--visually\" id=\"sk-estimator-id-18\" type=\"checkbox\" ><label for=\"sk-estimator-id-18\" class=\"sk-toggleable__label sk-toggleable__label-arrow\">VotingRegressor</label><div class=\"sk-toggleable__content\"><pre>VotingRegressor(estimators=[(&#x27;rf&#x27;, RandomForestRegressor()),\n",
       "                            (&#x27;xgb&#x27;,\n",
       "                             XGBRegressor(base_score=None, booster=None,\n",
       "                                          callbacks=None,\n",
       "                                          colsample_bylevel=None,\n",
       "                                          colsample_bynode=None,\n",
       "                                          colsample_bytree=None,\n",
       "                                          early_stopping_rounds=None,\n",
       "                                          enable_categorical=False,\n",
       "                                          eval_metric=None, feature_types=None,\n",
       "                                          gamma=None, gpu_id=None,\n",
       "                                          grow_policy=None,\n",
       "                                          importance_type=None,\n",
       "                                          interaction_constraints=None,\n",
       "                                          learning_rate=None, max_bin=None,\n",
       "                                          max_cat_threshold=None,\n",
       "                                          max_cat_to_onehot=None,\n",
       "                                          max_delta_step=None, max_depth=None,\n",
       "                                          max_leaves=None,\n",
       "                                          min_child_weight=None, missing=nan,\n",
       "                                          monotone_constraints=None,\n",
       "                                          n_estimators=100, n_jobs=None,\n",
       "                                          num_parallel_tree=None,\n",
       "                                          predictor=None, random_state=None, ...)),\n",
       "                            (&#x27;svm&#x27;, SVR(C=10, gamma=0.1))])</pre></div></div></div><div class=\"sk-parallel\"><div class=\"sk-parallel-item\"><div class=\"sk-item\"><div class=\"sk-label-container\"><div class=\"sk-label sk-toggleable\"><label>rf</label></div></div><div class=\"sk-serial\"><div class=\"sk-item\"><div class=\"sk-estimator sk-toggleable\"><input class=\"sk-toggleable__control sk-hidden--visually\" id=\"sk-estimator-id-19\" type=\"checkbox\" ><label for=\"sk-estimator-id-19\" class=\"sk-toggleable__label sk-toggleable__label-arrow\">RandomForestRegressor</label><div class=\"sk-toggleable__content\"><pre>RandomForestRegressor()</pre></div></div></div></div></div></div><div class=\"sk-parallel-item\"><div class=\"sk-item\"><div class=\"sk-label-container\"><div class=\"sk-label sk-toggleable\"><label>xgb</label></div></div><div class=\"sk-serial\"><div class=\"sk-item\"><div class=\"sk-estimator sk-toggleable\"><input class=\"sk-toggleable__control sk-hidden--visually\" id=\"sk-estimator-id-20\" type=\"checkbox\" ><label for=\"sk-estimator-id-20\" class=\"sk-toggleable__label sk-toggleable__label-arrow\">XGBRegressor</label><div class=\"sk-toggleable__content\"><pre>XGBRegressor(base_score=None, booster=None, callbacks=None,\n",
       "             colsample_bylevel=None, colsample_bynode=None,\n",
       "             colsample_bytree=None, early_stopping_rounds=None,\n",
       "             enable_categorical=False, eval_metric=None, feature_types=None,\n",
       "             gamma=None, gpu_id=None, grow_policy=None, importance_type=None,\n",
       "             interaction_constraints=None, learning_rate=None, max_bin=None,\n",
       "             max_cat_threshold=None, max_cat_to_onehot=None,\n",
       "             max_delta_step=None, max_depth=None, max_leaves=None,\n",
       "             min_child_weight=None, missing=nan, monotone_constraints=None,\n",
       "             n_estimators=100, n_jobs=None, num_parallel_tree=None,\n",
       "             predictor=None, random_state=None, ...)</pre></div></div></div></div></div></div><div class=\"sk-parallel-item\"><div class=\"sk-item\"><div class=\"sk-label-container\"><div class=\"sk-label sk-toggleable\"><label>svm</label></div></div><div class=\"sk-serial\"><div class=\"sk-item\"><div class=\"sk-estimator sk-toggleable\"><input class=\"sk-toggleable__control sk-hidden--visually\" id=\"sk-estimator-id-21\" type=\"checkbox\" ><label for=\"sk-estimator-id-21\" class=\"sk-toggleable__label sk-toggleable__label-arrow\">SVR</label><div class=\"sk-toggleable__content\"><pre>SVR(C=10, gamma=0.1)</pre></div></div></div></div></div></div></div></div></div></div>"
      ],
      "text/plain": [
       "VotingRegressor(estimators=[('rf', RandomForestRegressor()),\n",
       "                            ('xgb',\n",
       "                             XGBRegressor(base_score=None, booster=None,\n",
       "                                          callbacks=None,\n",
       "                                          colsample_bylevel=None,\n",
       "                                          colsample_bynode=None,\n",
       "                                          colsample_bytree=None,\n",
       "                                          early_stopping_rounds=None,\n",
       "                                          enable_categorical=False,\n",
       "                                          eval_metric=None, feature_types=None,\n",
       "                                          gamma=None, gpu_id=None,\n",
       "                                          grow_policy=None,\n",
       "                                          importance_type=None,\n",
       "                                          interaction_constraints=None,\n",
       "                                          learning_rate=None, max_bin=None,\n",
       "                                          max_cat_threshold=None,\n",
       "                                          max_cat_to_onehot=None,\n",
       "                                          max_delta_step=None, max_depth=None,\n",
       "                                          max_leaves=None,\n",
       "                                          min_child_weight=None, missing=nan,\n",
       "                                          monotone_constraints=None,\n",
       "                                          n_estimators=100, n_jobs=None,\n",
       "                                          num_parallel_tree=None,\n",
       "                                          predictor=None, random_state=None, ...)),\n",
       "                            ('svm', SVR(C=10, gamma=0.1))])"
      ]
     },
     "execution_count": 96,
     "metadata": {},
     "output_type": "execute_result"
    }
   ],
   "source": [
    "vote_regressor = VotingRegressor(estimators=[('rf', regressor), ('xgb', xb_model),('svm',svr)])\n",
    "vote_regressor.fit(X_train, Y_train)"
   ]
  },
  {
   "cell_type": "code",
   "execution_count": 97,
   "id": "bb1107b7",
   "metadata": {},
   "outputs": [],
   "source": [
    "predict = vote_regressor.predict(X_test)"
   ]
  },
  {
   "cell_type": "code",
   "execution_count": 98,
   "id": "46492685",
   "metadata": {},
   "outputs": [
    {
     "name": "stdout",
     "output_type": "stream",
     "text": [
      "[ 8.55449822  6.10385983  5.55918023 13.0119316   5.53838423  6.74170295\n",
      "  6.0221404   6.95578497  2.96482639  4.37555039  5.07461492  4.2110263\n",
      "  5.58033749 10.38540531 10.2457819   6.82877339  6.80688105  6.43630279\n",
      "  8.61010204  7.75601661  4.53716365 10.10121837  8.20745912  6.4074249\n",
      "  8.52416772 12.05268988  7.19995502  6.45202112  8.35512928  6.00197488\n",
      "  8.29089775  4.88274946  7.52229549  8.14466885  6.88354575 10.47971467\n",
      "  5.80143824  2.13437315  8.95603641  4.58507103  6.41379769  4.99709334\n",
      "  6.68280193  5.43744165  7.18331191  7.9816514   7.03725922  2.74948078\n",
      "  4.69308865]\n"
     ]
    }
   ],
   "source": [
    "print(predict)"
   ]
  },
  {
   "cell_type": "code",
   "execution_count": 99,
   "id": "3e96884d",
   "metadata": {},
   "outputs": [
    {
     "data": {
      "text/plain": [
       "2.532578909025667"
      ]
     },
     "execution_count": 99,
     "metadata": {},
     "output_type": "execute_result"
    }
   ],
   "source": [
    "mean_absolute_error(Y_test, predict)"
   ]
  },
  {
   "cell_type": "code",
   "execution_count": 100,
   "id": "df0c3eae",
   "metadata": {},
   "outputs": [],
   "source": [
    "rms = sqrt(mean_squared_error(Y_test, predict))"
   ]
  },
  {
   "cell_type": "code",
   "execution_count": 101,
   "id": "5e4c91b6",
   "metadata": {},
   "outputs": [
    {
     "name": "stdout",
     "output_type": "stream",
     "text": [
      "3.0473996088733553\n"
     ]
    }
   ],
   "source": [
    "print(rms)"
   ]
  },
  {
   "cell_type": "code",
   "execution_count": 102,
   "id": "7da0b156",
   "metadata": {},
   "outputs": [
    {
     "name": "stdout",
     "output_type": "stream",
     "text": [
      "R squared error :  0.33016005765807444\n"
     ]
    }
   ],
   "source": [
    "# R squared error\n",
    "error_score = metrics.r2_score(Y_test,predict)\n",
    "print(\"R squared error : \", error_score)"
   ]
  },
  {
   "cell_type": "code",
   "execution_count": 103,
   "id": "6943eacc",
   "metadata": {},
   "outputs": [
    {
     "name": "stdout",
     "output_type": "stream",
     "text": [
      "SMAPE score: 39.896148450328496\n"
     ]
    }
   ],
   "source": [
    "smape_score = smape(Y_test,predict)\n",
    "print(\"SMAPE score:\", smape_score)"
   ]
  },
  {
   "cell_type": "code",
   "execution_count": null,
   "id": "1e0099aa",
   "metadata": {},
   "outputs": [],
   "source": []
  },
  {
   "cell_type": "code",
   "execution_count": null,
   "id": "8010cd71",
   "metadata": {},
   "outputs": [],
   "source": []
  }
 ],
 "metadata": {
  "kernelspec": {
   "display_name": "Python 3 (ipykernel)",
   "language": "python",
   "name": "python3"
  },
  "language_info": {
   "codemirror_mode": {
    "name": "ipython",
    "version": 3
   },
   "file_extension": ".py",
   "mimetype": "text/x-python",
   "name": "python",
   "nbconvert_exporter": "python",
   "pygments_lexer": "ipython3",
   "version": "3.11.2"
  }
 },
 "nbformat": 4,
 "nbformat_minor": 5
}
