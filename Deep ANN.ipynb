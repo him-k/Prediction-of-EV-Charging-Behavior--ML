{
 "cells": [
  {
   "cell_type": "code",
   "execution_count": 1,
   "id": "82700616",
   "metadata": {},
   "outputs": [],
   "source": [
    "import numpy as np\n",
    "import pandas as pd\n",
    "import matplotlib.pyplot as plt\n",
    "import seaborn as sns\n",
    "from sklearn.model_selection import train_test_split\n",
    "from sklearn.ensemble import RandomForestRegressor\n",
    "from sklearn import metrics\n",
    "from sklearn.metrics import r2_score\n",
    "from keras.models import Sequential\n",
    "from keras.layers import Dense, BatchNormalization, Dropout, LSTM"
   ]
  },
  {
   "cell_type": "code",
   "execution_count": 2,
   "id": "d3f95711",
   "metadata": {},
   "outputs": [],
   "source": [
    "ev_data= pd.read_csv('C:\\\\Users\\\\Himani\\\\Desktop\\\\pp/data.csv')"
   ]
  },
  {
   "cell_type": "code",
   "execution_count": 3,
   "id": "396c48b0",
   "metadata": {},
   "outputs": [
    {
     "data": {
      "text/plain": [
       "id                         0\n",
       "clusterId                  0\n",
       "Date                       0\n",
       "connectionTime             0\n",
       "Num. Rep.                  0\n",
       "disconnectTime             0\n",
       "Time Diff                  0\n",
       "Session Length             0\n",
       "donechargingTime           1\n",
       "kWhDelivered               0\n",
       "sessionId                  0\n",
       "siteId                     0\n",
       "spaceID                    0\n",
       "stationID                  0\n",
       "timezone                   0\n",
       "userID                   298\n",
       "Precip Type                0\n",
       "temperature                0\n",
       "Avg. Humidity              0\n",
       "Avg Wind Speed(mph)        0\n",
       "Wind Bearing(degrees)      0\n",
       "Visibility(km)             0\n",
       "Loud Cover                 0\n",
       "Pressure(millibar)         0\n",
       "Daily summary              0\n",
       "dtype: int64"
      ]
     },
     "execution_count": 3,
     "metadata": {},
     "output_type": "execute_result"
    }
   ],
   "source": [
    "ev_data.isnull().sum()"
   ]
  },
  {
   "cell_type": "code",
   "execution_count": 4,
   "id": "d8bd37d0",
   "metadata": {},
   "outputs": [],
   "source": [
    "ev_data[\"donechargingTime\"] = ev_data[\"donechargingTime\"].fillna(ev_data[\"donechargingTime\"].mode()[0])"
   ]
  },
  {
   "cell_type": "code",
   "execution_count": 5,
   "id": "fbb5147a",
   "metadata": {},
   "outputs": [
    {
     "data": {
      "text/html": [
       "<div>\n",
       "<style scoped>\n",
       "    .dataframe tbody tr th:only-of-type {\n",
       "        vertical-align: middle;\n",
       "    }\n",
       "\n",
       "    .dataframe tbody tr th {\n",
       "        vertical-align: top;\n",
       "    }\n",
       "\n",
       "    .dataframe thead th {\n",
       "        text-align: right;\n",
       "    }\n",
       "</style>\n",
       "<table border=\"1\" class=\"dataframe\">\n",
       "  <thead>\n",
       "    <tr style=\"text-align: right;\">\n",
       "      <th></th>\n",
       "      <th>EV</th>\n",
       "    </tr>\n",
       "  </thead>\n",
       "  <tbody>\n",
       "    <tr>\n",
       "      <th>userID</th>\n",
       "      <td>298</td>\n",
       "    </tr>\n",
       "  </tbody>\n",
       "</table>\n",
       "</div>"
      ],
      "text/plain": [
       "         EV\n",
       "userID  298"
      ]
     },
     "execution_count": 5,
     "metadata": {},
     "output_type": "execute_result"
    }
   ],
   "source": [
    "NAs = pd.concat([ev_data.isnull().sum()], axis=1, keys=[\"EV\"])\n",
    "NAs[NAs.sum(axis=1) > 0]"
   ]
  },
  {
   "cell_type": "code",
   "execution_count": 6,
   "id": "13a8ccb9",
   "metadata": {},
   "outputs": [
    {
     "data": {
      "text/plain": [
       "0     NaN\n",
       "1     NaN\n",
       "2     NaN\n",
       "3     NaN\n",
       "4     NaN\n",
       "       ..\n",
       "294   NaN\n",
       "295   NaN\n",
       "296   NaN\n",
       "297   NaN\n",
       "298   NaN\n",
       "Name: userID, Length: 299, dtype: float64"
      ]
     },
     "execution_count": 6,
     "metadata": {},
     "output_type": "execute_result"
    }
   ],
   "source": [
    "ev_data.pop(\"userID\")"
   ]
  },
  {
   "cell_type": "code",
   "execution_count": 7,
   "id": "aa768527",
   "metadata": {},
   "outputs": [
    {
     "data": {
      "text/plain": [
       "0      Wed, 25 Apr 2018\n",
       "1      Wed, 25 Apr 2018\n",
       "2      Wed, 25 Apr 2018\n",
       "3      Wed, 25 Apr 2018\n",
       "4      Wed, 25 Apr 2018\n",
       "             ...       \n",
       "294    Tue, 01 May 2018\n",
       "295    Tue, 01 May 2018\n",
       "296    Tue, 01 May 2018\n",
       "297    Tue, 01 May 2018\n",
       "298    Tue, 01 May 2018\n",
       "Name: Date, Length: 299, dtype: object"
      ]
     },
     "execution_count": 7,
     "metadata": {},
     "output_type": "execute_result"
    }
   ],
   "source": [
    "ev_data.pop(\"Date\")"
   ]
  },
  {
   "cell_type": "code",
   "execution_count": 8,
   "id": "a1796bd1",
   "metadata": {},
   "outputs": [
    {
     "data": {
      "text/plain": [
       "0       11:08:04 \n",
       "1        13:45:10\n",
       "2       13:45:50 \n",
       "3       14:37:06 \n",
       "4       14:40:34 \n",
       "          ...    \n",
       "294     16:52:54 \n",
       "295      16:58:54\n",
       "296      17:09:09\n",
       "297      17:11:32\n",
       "298     17:28:59 \n",
       "Name: connectionTime, Length: 299, dtype: object"
      ]
     },
     "execution_count": 8,
     "metadata": {},
     "output_type": "execute_result"
    }
   ],
   "source": [
    "ev_data.pop(\"connectionTime\")"
   ]
  },
  {
   "cell_type": "code",
   "execution_count": 9,
   "id": "f7f0d687",
   "metadata": {},
   "outputs": [
    {
     "data": {
      "text/plain": [
       "0       13:20:10 GMT\n",
       "1       00:56:16 GMT\n",
       "2       23:04:45 GMT\n",
       "3       23:55:34 GMT\n",
       "4       23:03:12 GMT\n",
       "           ...      \n",
       "294     01:05:41 GMT\n",
       "295     01:05:19 GMT\n",
       "296     00:22:14 GMT\n",
       "297     20:10:03 GMT\n",
       "298     23:42:22 GMT\n",
       "Name: disconnectTime, Length: 299, dtype: object"
      ]
     },
     "execution_count": 9,
     "metadata": {},
     "output_type": "execute_result"
    }
   ],
   "source": [
    "ev_data.pop(\"disconnectTime\")"
   ]
  },
  {
   "cell_type": "code",
   "execution_count": 10,
   "id": "4be3ea8e",
   "metadata": {},
   "outputs": [
    {
     "data": {
      "text/plain": [
       "0      02:12:06\n",
       "1      11:11:06\n",
       "2      10:19:45\n",
       "3      09:18:28\n",
       "4      08:22:38\n",
       "         ...   \n",
       "294    08:12:37\n",
       "295    08:06:25\n",
       "296    07:13:05\n",
       "297    02:58:31\n",
       "298    06:13:23\n",
       "Name: Time Diff, Length: 299, dtype: object"
      ]
     },
     "execution_count": 10,
     "metadata": {},
     "output_type": "execute_result"
    }
   ],
   "source": [
    "ev_data.pop(\"Time Diff\")"
   ]
  },
  {
   "cell_type": "code",
   "execution_count": 11,
   "id": "a0e1a405",
   "metadata": {},
   "outputs": [
    {
     "data": {
      "text/plain": [
       "0      Wed, 25 Apr 2018 13:21:10 GMT\n",
       "1      Wed, 25 Apr 2018 16:44:15 GMT\n",
       "2      Wed, 25 Apr 2018 14:51:44 GMT\n",
       "3      Wed, 25 Apr 2018 16:05:22 GMT\n",
       "4      Wed, 25 Apr 2018 17:40:30 GMT\n",
       "                   ...              \n",
       "294    Tue, 01 May 2018 19:11:06 GMT\n",
       "295    Tue, 01 May 2018 23:54:46 GMT\n",
       "296    Tue, 01 May 2018 18:46:19 GMT\n",
       "297    Tue, 01 May 2018 20:09:58 GMT\n",
       "298    Tue, 01 May 2018 23:42:19 GMT\n",
       "Name: donechargingTime, Length: 299, dtype: object"
      ]
     },
     "execution_count": 11,
     "metadata": {},
     "output_type": "execute_result"
    }
   ],
   "source": [
    "ev_data.pop(\"donechargingTime\")"
   ]
  },
  {
   "cell_type": "code",
   "execution_count": 12,
   "id": "2c4ada22",
   "metadata": {},
   "outputs": [
    {
     "data": {
      "text/plain": [
       "0      America/Los_Angeles\n",
       "1      America/Los_Angeles\n",
       "2      America/Los_Angeles\n",
       "3      America/Los_Angeles\n",
       "4      America/Los_Angeles\n",
       "              ...         \n",
       "294    America/Los_Angeles\n",
       "295    America/Los_Angeles\n",
       "296    America/Los_Angeles\n",
       "297    America/Los_Angeles\n",
       "298    America/Los_Angeles\n",
       "Name: timezone, Length: 299, dtype: object"
      ]
     },
     "execution_count": 12,
     "metadata": {},
     "output_type": "execute_result"
    }
   ],
   "source": [
    "ev_data.pop(\"timezone\")"
   ]
  },
  {
   "cell_type": "code",
   "execution_count": 13,
   "id": "98ccccf7",
   "metadata": {},
   "outputs": [
    {
     "data": {
      "text/plain": [
       "0      2_39_78_362_2018-04-25 11:08:04.400812\n",
       "1       2_39_95_27_2018-04-25 13:45:09.617470\n",
       "2      2_39_79_380_2018-04-25 13:45:49.962001\n",
       "3      2_39_79_379_2018-04-25 14:37:06.460772\n",
       "4      2_39_79_381_2018-04-25 14:40:33.638896\n",
       "                        ...                  \n",
       "294    2_39_92_442_2018-05-01 16:52:53.742929\n",
       "295    2_39_129_17_2018-05-01 16:58:53.921677\n",
       "296    2_39_124_22_2018-05-01 17:09:09.120419\n",
       "297    2_39_123_23_2018-05-01 17:11:32.081386\n",
       "298    2_39_138_29_2018-05-01 17:28:59.219125\n",
       "Name: sessionId, Length: 299, dtype: object"
      ]
     },
     "execution_count": 13,
     "metadata": {},
     "output_type": "execute_result"
    }
   ],
   "source": [
    "ev_data.pop(\"sessionId\")"
   ]
  },
  {
   "cell_type": "code",
   "execution_count": 14,
   "id": "fec0b518",
   "metadata": {},
   "outputs": [
    {
     "data": {
      "text/plain": [
       "0      rain\n",
       "1      rain\n",
       "2      rain\n",
       "3      rain\n",
       "4      rain\n",
       "       ... \n",
       "294    rain\n",
       "295    rain\n",
       "296    rain\n",
       "297    rain\n",
       "298    rain\n",
       "Name: Precip Type, Length: 299, dtype: object"
      ]
     },
     "execution_count": 14,
     "metadata": {},
     "output_type": "execute_result"
    }
   ],
   "source": [
    "ev_data.pop(\"Precip Type\")"
   ]
  },
  {
   "cell_type": "code",
   "execution_count": 15,
   "id": "aa9bf66e",
   "metadata": {},
   "outputs": [
    {
     "data": {
      "text/plain": [
       "0      Mostly cloudy .\n",
       "1      Mostly cloudy .\n",
       "2      Mostly cloudy .\n",
       "3      Mostly cloudy .\n",
       "4      Mostly cloudy .\n",
       "            ...       \n",
       "294     Mostly cloudy \n",
       "295     Mostly cloudy \n",
       "296     Mostly cloudy \n",
       "297     Mostly cloudy \n",
       "298     Mostly cloudy \n",
       "Name: Daily summary, Length: 299, dtype: object"
      ]
     },
     "execution_count": 15,
     "metadata": {},
     "output_type": "execute_result"
    }
   ],
   "source": [
    "ev_data.pop(\"Daily summary\")"
   ]
  },
  {
   "cell_type": "code",
   "execution_count": 16,
   "id": "a6cda56d",
   "metadata": {},
   "outputs": [
    {
     "data": {
      "text/plain": [
       "0      0\n",
       "1      0\n",
       "2      0\n",
       "3      0\n",
       "4      0\n",
       "      ..\n",
       "294    0\n",
       "295    0\n",
       "296    0\n",
       "297    0\n",
       "298    0\n",
       "Name: Loud Cover, Length: 299, dtype: int64"
      ]
     },
     "execution_count": 16,
     "metadata": {},
     "output_type": "execute_result"
    }
   ],
   "source": [
    "ev_data.pop(\"Loud Cover\")"
   ]
  },
  {
   "cell_type": "code",
   "execution_count": 17,
   "id": "1a1bfbc8",
   "metadata": {},
   "outputs": [
    {
     "data": {
      "text/html": [
       "<div>\n",
       "<style scoped>\n",
       "    .dataframe tbody tr th:only-of-type {\n",
       "        vertical-align: middle;\n",
       "    }\n",
       "\n",
       "    .dataframe tbody tr th {\n",
       "        vertical-align: top;\n",
       "    }\n",
       "\n",
       "    .dataframe thead th {\n",
       "        text-align: right;\n",
       "    }\n",
       "</style>\n",
       "<table border=\"1\" class=\"dataframe\">\n",
       "  <thead>\n",
       "    <tr style=\"text-align: right;\">\n",
       "      <th></th>\n",
       "      <th>id</th>\n",
       "      <th>clusterId</th>\n",
       "      <th>Num. Rep.</th>\n",
       "      <th>Session Length</th>\n",
       "      <th>kWhDelivered</th>\n",
       "      <th>siteId</th>\n",
       "      <th>spaceID</th>\n",
       "      <th>stationID</th>\n",
       "      <th>temperature</th>\n",
       "      <th>Avg. Humidity</th>\n",
       "      <th>Avg Wind Speed(mph)</th>\n",
       "      <th>Wind Bearing(degrees)</th>\n",
       "      <th>Visibility(km)</th>\n",
       "      <th>Pressure(millibar)</th>\n",
       "    </tr>\n",
       "  </thead>\n",
       "  <tbody>\n",
       "    <tr>\n",
       "      <th>0</th>\n",
       "      <td>5bc90cb9f9af8b0d7fe77cd2</td>\n",
       "      <td>39</td>\n",
       "      <td>11.13</td>\n",
       "      <td>2.20</td>\n",
       "      <td>7.932</td>\n",
       "      <td>2</td>\n",
       "      <td>CA-496</td>\n",
       "      <td>2-39-78-362</td>\n",
       "      <td>24.372222</td>\n",
       "      <td>34.846153</td>\n",
       "      <td>13.5400</td>\n",
       "      <td>300</td>\n",
       "      <td>9.9015</td>\n",
       "      <td>1004.55</td>\n",
       "    </tr>\n",
       "    <tr>\n",
       "      <th>1</th>\n",
       "      <td>5bc90cb9f9af8b0d7fe77cd3</td>\n",
       "      <td>39</td>\n",
       "      <td>13.75</td>\n",
       "      <td>11.19</td>\n",
       "      <td>10.013</td>\n",
       "      <td>2</td>\n",
       "      <td>CA-319</td>\n",
       "      <td>2-39-95-27</td>\n",
       "      <td>24.372222</td>\n",
       "      <td>34.846153</td>\n",
       "      <td>13.5400</td>\n",
       "      <td>300</td>\n",
       "      <td>9.9015</td>\n",
       "      <td>1004.55</td>\n",
       "    </tr>\n",
       "    <tr>\n",
       "      <th>2</th>\n",
       "      <td>5bc90cb9f9af8b0d7fe77cd4</td>\n",
       "      <td>39</td>\n",
       "      <td>13.76</td>\n",
       "      <td>10.33</td>\n",
       "      <td>5.257</td>\n",
       "      <td>2</td>\n",
       "      <td>CA-489</td>\n",
       "      <td>2-39-79-380</td>\n",
       "      <td>24.372222</td>\n",
       "      <td>34.846153</td>\n",
       "      <td>13.5400</td>\n",
       "      <td>300</td>\n",
       "      <td>9.9015</td>\n",
       "      <td>1004.55</td>\n",
       "    </tr>\n",
       "    <tr>\n",
       "      <th>3</th>\n",
       "      <td>5bc90cb9f9af8b0d7fe77cd5</td>\n",
       "      <td>39</td>\n",
       "      <td>14.62</td>\n",
       "      <td>9.31</td>\n",
       "      <td>5.177</td>\n",
       "      <td>2</td>\n",
       "      <td>CA-327</td>\n",
       "      <td>2-39-79-379</td>\n",
       "      <td>24.372222</td>\n",
       "      <td>34.846153</td>\n",
       "      <td>13.5400</td>\n",
       "      <td>300</td>\n",
       "      <td>9.9015</td>\n",
       "      <td>1004.55</td>\n",
       "    </tr>\n",
       "    <tr>\n",
       "      <th>4</th>\n",
       "      <td>5bc90cb9f9af8b0d7fe77cd6</td>\n",
       "      <td>39</td>\n",
       "      <td>14.68</td>\n",
       "      <td>8.38</td>\n",
       "      <td>10.119</td>\n",
       "      <td>2</td>\n",
       "      <td>CA-490</td>\n",
       "      <td>2-39-79-381</td>\n",
       "      <td>24.372222</td>\n",
       "      <td>34.846153</td>\n",
       "      <td>13.5400</td>\n",
       "      <td>300</td>\n",
       "      <td>9.9015</td>\n",
       "      <td>1004.55</td>\n",
       "    </tr>\n",
       "    <tr>\n",
       "      <th>...</th>\n",
       "      <td>...</td>\n",
       "      <td>...</td>\n",
       "      <td>...</td>\n",
       "      <td>...</td>\n",
       "      <td>...</td>\n",
       "      <td>...</td>\n",
       "      <td>...</td>\n",
       "      <td>...</td>\n",
       "      <td>...</td>\n",
       "      <td>...</td>\n",
       "      <td>...</td>\n",
       "      <td>...</td>\n",
       "      <td>...</td>\n",
       "      <td>...</td>\n",
       "    </tr>\n",
       "    <tr>\n",
       "      <th>294</th>\n",
       "      <td>5bc9160af9af8b0dad3c06a8</td>\n",
       "      <td>39</td>\n",
       "      <td>16.88</td>\n",
       "      <td>8.21</td>\n",
       "      <td>7.799</td>\n",
       "      <td>2</td>\n",
       "      <td>CA-498</td>\n",
       "      <td>2-39-92-442</td>\n",
       "      <td>28.511111</td>\n",
       "      <td>38.763024</td>\n",
       "      <td>12.4883</td>\n",
       "      <td>339</td>\n",
       "      <td>16.1000</td>\n",
       "      <td>1009.55</td>\n",
       "    </tr>\n",
       "    <tr>\n",
       "      <th>295</th>\n",
       "      <td>5bc9160af9af8b0dad3c06a9</td>\n",
       "      <td>39</td>\n",
       "      <td>16.98</td>\n",
       "      <td>8.11</td>\n",
       "      <td>11.304</td>\n",
       "      <td>2</td>\n",
       "      <td>CA-307</td>\n",
       "      <td>2-39-129-17</td>\n",
       "      <td>28.511111</td>\n",
       "      <td>38.763024</td>\n",
       "      <td>12.4883</td>\n",
       "      <td>339</td>\n",
       "      <td>16.1000</td>\n",
       "      <td>1009.55</td>\n",
       "    </tr>\n",
       "    <tr>\n",
       "      <th>296</th>\n",
       "      <td>5bc9160af9af8b0dad3c06aa</td>\n",
       "      <td>39</td>\n",
       "      <td>17.15</td>\n",
       "      <td>7.22</td>\n",
       "      <td>1.943</td>\n",
       "      <td>2</td>\n",
       "      <td>CA-312</td>\n",
       "      <td>2-39-124-22</td>\n",
       "      <td>28.511111</td>\n",
       "      <td>38.763024</td>\n",
       "      <td>12.4883</td>\n",
       "      <td>339</td>\n",
       "      <td>16.1000</td>\n",
       "      <td>1009.55</td>\n",
       "    </tr>\n",
       "    <tr>\n",
       "      <th>297</th>\n",
       "      <td>5bc9160af9af8b0dad3c06ab</td>\n",
       "      <td>39</td>\n",
       "      <td>17.19</td>\n",
       "      <td>2.98</td>\n",
       "      <td>7.053</td>\n",
       "      <td>2</td>\n",
       "      <td>CA-313</td>\n",
       "      <td>2-39-123-23</td>\n",
       "      <td>28.511111</td>\n",
       "      <td>38.763024</td>\n",
       "      <td>12.4883</td>\n",
       "      <td>339</td>\n",
       "      <td>16.1000</td>\n",
       "      <td>1009.55</td>\n",
       "    </tr>\n",
       "    <tr>\n",
       "      <th>298</th>\n",
       "      <td>5bc9160af9af8b0dad3c06ac</td>\n",
       "      <td>39</td>\n",
       "      <td>17.48</td>\n",
       "      <td>6.22</td>\n",
       "      <td>10.430</td>\n",
       "      <td>2</td>\n",
       "      <td>CA-304</td>\n",
       "      <td>2-39-138-29</td>\n",
       "      <td>28.511111</td>\n",
       "      <td>38.763024</td>\n",
       "      <td>12.4883</td>\n",
       "      <td>339</td>\n",
       "      <td>16.1000</td>\n",
       "      <td>1009.55</td>\n",
       "    </tr>\n",
       "  </tbody>\n",
       "</table>\n",
       "<p>299 rows × 14 columns</p>\n",
       "</div>"
      ],
      "text/plain": [
       "                           id  clusterId  Num. Rep.  Session Length  \\\n",
       "0    5bc90cb9f9af8b0d7fe77cd2         39      11.13            2.20   \n",
       "1    5bc90cb9f9af8b0d7fe77cd3         39      13.75           11.19   \n",
       "2    5bc90cb9f9af8b0d7fe77cd4         39      13.76           10.33   \n",
       "3    5bc90cb9f9af8b0d7fe77cd5         39      14.62            9.31   \n",
       "4    5bc90cb9f9af8b0d7fe77cd6         39      14.68            8.38   \n",
       "..                        ...        ...        ...             ...   \n",
       "294  5bc9160af9af8b0dad3c06a8         39      16.88            8.21   \n",
       "295  5bc9160af9af8b0dad3c06a9         39      16.98            8.11   \n",
       "296  5bc9160af9af8b0dad3c06aa         39      17.15            7.22   \n",
       "297  5bc9160af9af8b0dad3c06ab         39      17.19            2.98   \n",
       "298  5bc9160af9af8b0dad3c06ac         39      17.48            6.22   \n",
       "\n",
       "     kWhDelivered  siteId spaceID    stationID  temperature  Avg. Humidity  \\\n",
       "0           7.932       2  CA-496  2-39-78-362    24.372222      34.846153   \n",
       "1          10.013       2  CA-319   2-39-95-27    24.372222      34.846153   \n",
       "2           5.257       2  CA-489  2-39-79-380    24.372222      34.846153   \n",
       "3           5.177       2  CA-327  2-39-79-379    24.372222      34.846153   \n",
       "4          10.119       2  CA-490  2-39-79-381    24.372222      34.846153   \n",
       "..            ...     ...     ...          ...          ...            ...   \n",
       "294         7.799       2  CA-498  2-39-92-442    28.511111      38.763024   \n",
       "295        11.304       2  CA-307  2-39-129-17    28.511111      38.763024   \n",
       "296         1.943       2  CA-312  2-39-124-22    28.511111      38.763024   \n",
       "297         7.053       2  CA-313  2-39-123-23    28.511111      38.763024   \n",
       "298        10.430       2  CA-304  2-39-138-29    28.511111      38.763024   \n",
       "\n",
       "     Avg Wind Speed(mph)  Wind Bearing(degrees)  Visibility(km)  \\\n",
       "0                13.5400                    300          9.9015   \n",
       "1                13.5400                    300          9.9015   \n",
       "2                13.5400                    300          9.9015   \n",
       "3                13.5400                    300          9.9015   \n",
       "4                13.5400                    300          9.9015   \n",
       "..                   ...                    ...             ...   \n",
       "294              12.4883                    339         16.1000   \n",
       "295              12.4883                    339         16.1000   \n",
       "296              12.4883                    339         16.1000   \n",
       "297              12.4883                    339         16.1000   \n",
       "298              12.4883                    339         16.1000   \n",
       "\n",
       "     Pressure(millibar)  \n",
       "0               1004.55  \n",
       "1               1004.55  \n",
       "2               1004.55  \n",
       "3               1004.55  \n",
       "4               1004.55  \n",
       "..                  ...  \n",
       "294             1009.55  \n",
       "295             1009.55  \n",
       "296             1009.55  \n",
       "297             1009.55  \n",
       "298             1009.55  \n",
       "\n",
       "[299 rows x 14 columns]"
      ]
     },
     "execution_count": 17,
     "metadata": {},
     "output_type": "execute_result"
    }
   ],
   "source": [
    "ev_data"
   ]
  },
  {
   "cell_type": "code",
   "execution_count": 18,
   "id": "8df0db35",
   "metadata": {},
   "outputs": [
    {
     "data": {
      "text/plain": [
       "0      5bc90cb9f9af8b0d7fe77cd2\n",
       "1      5bc90cb9f9af8b0d7fe77cd3\n",
       "2      5bc90cb9f9af8b0d7fe77cd4\n",
       "3      5bc90cb9f9af8b0d7fe77cd5\n",
       "4      5bc90cb9f9af8b0d7fe77cd6\n",
       "                 ...           \n",
       "294    5bc9160af9af8b0dad3c06a8\n",
       "295    5bc9160af9af8b0dad3c06a9\n",
       "296    5bc9160af9af8b0dad3c06aa\n",
       "297    5bc9160af9af8b0dad3c06ab\n",
       "298    5bc9160af9af8b0dad3c06ac\n",
       "Name: id, Length: 299, dtype: object"
      ]
     },
     "execution_count": 18,
     "metadata": {},
     "output_type": "execute_result"
    }
   ],
   "source": [
    "ev_data.pop(\"id\")"
   ]
  },
  {
   "cell_type": "code",
   "execution_count": 19,
   "id": "57b65d6a",
   "metadata": {},
   "outputs": [
    {
     "data": {
      "text/plain": [
       "0      CA-496\n",
       "1      CA-319\n",
       "2      CA-489\n",
       "3      CA-327\n",
       "4      CA-490\n",
       "        ...  \n",
       "294    CA-498\n",
       "295    CA-307\n",
       "296    CA-312\n",
       "297    CA-313\n",
       "298    CA-304\n",
       "Name: spaceID, Length: 299, dtype: object"
      ]
     },
     "execution_count": 19,
     "metadata": {},
     "output_type": "execute_result"
    }
   ],
   "source": [
    "ev_data.pop(\"spaceID\")"
   ]
  },
  {
   "cell_type": "code",
   "execution_count": 20,
   "id": "b43863c8",
   "metadata": {},
   "outputs": [
    {
     "data": {
      "text/plain": [
       "0      2-39-78-362\n",
       "1       2-39-95-27\n",
       "2      2-39-79-380\n",
       "3      2-39-79-379\n",
       "4      2-39-79-381\n",
       "          ...     \n",
       "294    2-39-92-442\n",
       "295    2-39-129-17\n",
       "296    2-39-124-22\n",
       "297    2-39-123-23\n",
       "298    2-39-138-29\n",
       "Name: stationID, Length: 299, dtype: object"
      ]
     },
     "execution_count": 20,
     "metadata": {},
     "output_type": "execute_result"
    }
   ],
   "source": [
    "ev_data.pop(\"stationID\")"
   ]
  },
  {
   "cell_type": "code",
   "execution_count": 21,
   "id": "3d85917d",
   "metadata": {},
   "outputs": [
    {
     "data": {
      "text/plain": [
       "clusterId                  int64\n",
       "Num. Rep.                float64\n",
       "Session Length           float64\n",
       "kWhDelivered             float64\n",
       "siteId                     int64\n",
       "temperature              float64\n",
       "Avg. Humidity            float64\n",
       "Avg Wind Speed(mph)      float64\n",
       "Wind Bearing(degrees)      int64\n",
       "Visibility(km)           float64\n",
       "Pressure(millibar)       float64\n",
       "dtype: object"
      ]
     },
     "execution_count": 21,
     "metadata": {},
     "output_type": "execute_result"
    }
   ],
   "source": [
    "ev_data.dtypes"
   ]
  },
  {
   "cell_type": "code",
   "execution_count": null,
   "id": "87884003",
   "metadata": {},
   "outputs": [],
   "source": []
  },
  {
   "cell_type": "code",
   "execution_count": 22,
   "id": "212b4ec7",
   "metadata": {},
   "outputs": [
    {
     "data": {
      "text/plain": [
       "(299, 11)"
      ]
     },
     "execution_count": 22,
     "metadata": {},
     "output_type": "execute_result"
    }
   ],
   "source": [
    "ev_data.shape"
   ]
  },
  {
   "cell_type": "code",
   "execution_count": 25,
   "id": "b7a1a187",
   "metadata": {},
   "outputs": [],
   "source": [
    "X = ev_data.drop(columns='kWhDelivered')\n",
    "Y = ev_data['kWhDelivered']"
   ]
  },
  {
   "cell_type": "code",
   "execution_count": 26,
   "id": "ecdab905",
   "metadata": {},
   "outputs": [
    {
     "data": {
      "text/plain": [
       "(299, 11)"
      ]
     },
     "execution_count": 26,
     "metadata": {},
     "output_type": "execute_result"
    }
   ],
   "source": [
    "ev_data.shape"
   ]
  },
  {
   "cell_type": "code",
   "execution_count": 27,
   "id": "b5d99264",
   "metadata": {},
   "outputs": [],
   "source": [
    "X_train, X_test, Y_train, Y_test = train_test_split(X, Y, test_size = 0.2, random_state=2)"
   ]
  },
  {
   "cell_type": "code",
   "execution_count": 31,
   "id": "0ae6d397",
   "metadata": {},
   "outputs": [],
   "source": [
    "# layers\n",
    "model = Sequential()\n",
    "model.add(Dense(units = 10, kernel_initializer = 'uniform', activation = 'relu', input_dim = 10))\n",
    "model.add(Dense(units = 64, kernel_initializer = 'uniform', activation = 'relu'))\n",
    "model.add(Dropout(0.2))\n",
    "model.add(Dense(units = 16, kernel_initializer = 'uniform', activation = 'relu'))\n",
    "model.add(Dropout(0.2))\n",
    "model.add(Dense(units = 1, kernel_initializer = 'uniform', activation = 'linear'))"
   ]
  },
  {
   "cell_type": "code",
   "execution_count": 39,
   "id": "b63f2f60",
   "metadata": {},
   "outputs": [],
   "source": [
    "model.compile(loss='mean_absolute_error', optimizer='adam')\n"
   ]
  },
  {
   "cell_type": "code",
   "execution_count": 40,
   "id": "0239d7a3",
   "metadata": {},
   "outputs": [
    {
     "name": "stdout",
     "output_type": "stream",
     "text": [
      "Epoch 1/20\n",
      "3/3 [==============================] - 1s 120ms/step - loss: 5.2482 - val_loss: 4.8660\n",
      "Epoch 2/20\n",
      "3/3 [==============================] - 0s 23ms/step - loss: 4.8725 - val_loss: 4.8389\n",
      "Epoch 3/20\n",
      "3/3 [==============================] - 0s 26ms/step - loss: 4.9576 - val_loss: 4.8385\n",
      "Epoch 4/20\n",
      "3/3 [==============================] - 0s 25ms/step - loss: 5.1423 - val_loss: 4.8453\n",
      "Epoch 5/20\n",
      "3/3 [==============================] - 0s 25ms/step - loss: 5.0426 - val_loss: 4.8598\n",
      "Epoch 6/20\n",
      "3/3 [==============================] - 0s 27ms/step - loss: 4.9910 - val_loss: 4.8788\n",
      "Epoch 7/20\n",
      "3/3 [==============================] - 0s 25ms/step - loss: 5.2095 - val_loss: 4.8866\n",
      "Epoch 8/20\n",
      "3/3 [==============================] - 0s 29ms/step - loss: 5.1179 - val_loss: 4.8699\n",
      "Epoch 9/20\n",
      "3/3 [==============================] - 0s 30ms/step - loss: 5.0541 - val_loss: 4.8523\n",
      "Epoch 10/20\n",
      "3/3 [==============================] - 0s 32ms/step - loss: 5.0451 - val_loss: 4.8463\n",
      "Epoch 11/20\n",
      "3/3 [==============================] - 0s 26ms/step - loss: 4.9129 - val_loss: 4.8461\n",
      "Epoch 12/20\n",
      "3/3 [==============================] - 0s 24ms/step - loss: 5.1970 - val_loss: 4.8502\n",
      "Epoch 13/20\n",
      "3/3 [==============================] - 0s 27ms/step - loss: 5.0307 - val_loss: 4.8548\n",
      "Epoch 14/20\n",
      "3/3 [==============================] - 0s 27ms/step - loss: 5.1148 - val_loss: 4.8645\n",
      "Epoch 15/20\n",
      "3/3 [==============================] - 0s 28ms/step - loss: 4.7867 - val_loss: 4.8779\n",
      "Epoch 16/20\n",
      "3/3 [==============================] - 0s 27ms/step - loss: 5.0036 - val_loss: 4.8891\n",
      "Epoch 17/20\n",
      "3/3 [==============================] - 0s 26ms/step - loss: 5.0909 - val_loss: 4.8797\n",
      "Epoch 18/20\n",
      "3/3 [==============================] - 0s 24ms/step - loss: 5.1921 - val_loss: 4.8603\n",
      "Epoch 19/20\n",
      "3/3 [==============================] - 0s 28ms/step - loss: 4.9639 - val_loss: 4.8472\n",
      "Epoch 20/20\n",
      "3/3 [==============================] - 0s 35ms/step - loss: 4.9532 - val_loss: 4.8445\n"
     ]
    },
    {
     "data": {
      "text/plain": [
       "<keras.callbacks.History at 0x12bf2ee63d0>"
      ]
     },
     "execution_count": 40,
     "metadata": {},
     "output_type": "execute_result"
    }
   ],
   "source": [
    "# Train the model on the training dataset\n",
    "model.fit(X_train, Y_train, epochs=20, batch_size=64, validation_split=0.2)"
   ]
  },
  {
   "cell_type": "code",
   "execution_count": 41,
   "id": "cc82a2b0",
   "metadata": {},
   "outputs": [
    {
     "name": "stdout",
     "output_type": "stream",
     "text": [
      "2/2 [==============================] - 0s 3ms/step\n"
     ]
    }
   ],
   "source": [
    "# Use the trained model to make predictions on the test dataset\n",
    "y_pred = model.predict(X_test)\n"
   ]
  },
  {
   "cell_type": "code",
   "execution_count": 42,
   "id": "d57ff084",
   "metadata": {},
   "outputs": [
    {
     "name": "stdout",
     "output_type": "stream",
     "text": [
      "[[6.3649592]\n",
      " [6.2020297]\n",
      " [6.202463 ]\n",
      " [6.5295835]\n",
      " [6.3666854]\n",
      " [6.559687 ]\n",
      " [6.2924056]\n",
      " [6.3833723]\n",
      " [6.6749396]\n",
      " [6.5760994]\n",
      " [6.555305 ]\n",
      " [6.680191 ]\n",
      " [6.533632 ]\n",
      " [6.692982 ]\n",
      " [6.5527453]\n",
      " [6.691375 ]\n",
      " [6.2927766]\n",
      " [6.528967 ]\n",
      " [6.547935 ]\n",
      " [6.1507483]\n",
      " [6.559565 ]\n",
      " [6.62797  ]\n",
      " [6.549912 ]\n",
      " [6.361677 ]\n",
      " [6.6051006]\n",
      " [6.5411863]\n",
      " [6.189654 ]\n",
      " [6.663627 ]\n",
      " [6.5734706]\n",
      " [6.352879 ]\n",
      " [6.428868 ]\n",
      " [6.552996 ]\n",
      " [6.2006025]\n",
      " [6.206191 ]\n",
      " [6.5543303]\n",
      " [6.66169  ]\n",
      " [6.423525 ]\n",
      " [6.5573316]\n",
      " [6.6172338]\n",
      " [6.21232  ]\n",
      " [6.571049 ]\n",
      " [6.2093043]\n",
      " [6.349451 ]\n",
      " [6.567454 ]\n",
      " [6.3617306]\n",
      " [6.5208898]\n",
      " [6.289248 ]\n",
      " [6.210115 ]\n",
      " [6.664225 ]\n",
      " [6.4090295]\n",
      " [6.6025233]\n",
      " [6.5499825]\n",
      " [6.525069 ]\n",
      " [6.522555 ]\n",
      " [6.5744524]\n",
      " [6.558246 ]\n",
      " [6.6069255]\n",
      " [6.6766615]\n",
      " [6.5975494]\n",
      " [6.290648 ]]\n"
     ]
    }
   ],
   "source": [
    "print(y_pred)"
   ]
  },
  {
   "cell_type": "code",
   "execution_count": 43,
   "id": "1d2587bb",
   "metadata": {},
   "outputs": [],
   "source": [
    "def smape(actual, predicted):\n",
    "    \"\"\"\n",
    "    Calculate SMAPE (Symmetric Mean Absolute Percentage Error) for actual and predicted values.\n",
    "    \"\"\"\n",
    "    actual = np.array(actual)\n",
    "    predicted = np.array(predicted)\n",
    "    return np.mean((np.abs(actual - predicted) / (np.abs(actual) + np.abs(predicted))) * 2) * 100"
   ]
  },
  {
   "cell_type": "code",
   "execution_count": 44,
   "id": "9e2c849d",
   "metadata": {},
   "outputs": [
    {
     "name": "stdout",
     "output_type": "stream",
     "text": [
      "SMAPE score: 68.32849313174762\n"
     ]
    }
   ],
   "source": [
    "smape_score = smape(Y_test, y_pred)\n",
    "print(\"SMAPE score:\", smape_score)"
   ]
  },
  {
   "cell_type": "code",
   "execution_count": 45,
   "id": "030592bd",
   "metadata": {},
   "outputs": [
    {
     "name": "stdout",
     "output_type": "stream",
     "text": [
      "R squared error :  -0.17095324110287358\n"
     ]
    }
   ],
   "source": [
    "# R squared error\n",
    "error_score = r2_score(Y_test, y_pred)\n",
    "print(\"R squared error : \", error_score)"
   ]
  },
  {
   "cell_type": "code",
   "execution_count": null,
   "id": "02c0e511",
   "metadata": {},
   "outputs": [],
   "source": []
  }
 ],
 "metadata": {
  "kernelspec": {
   "display_name": "Python 3 (ipykernel)",
   "language": "python",
   "name": "python3"
  },
  "language_info": {
   "codemirror_mode": {
    "name": "ipython",
    "version": 3
   },
   "file_extension": ".py",
   "mimetype": "text/x-python",
   "name": "python",
   "nbconvert_exporter": "python",
   "pygments_lexer": "ipython3",
   "version": "3.11.2"
  }
 },
 "nbformat": 4,
 "nbformat_minor": 5
}
