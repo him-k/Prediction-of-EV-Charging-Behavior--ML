{
 "cells": [
  {
   "cell_type": "code",
   "execution_count": 1,
   "id": "7a41e83e",
   "metadata": {},
   "outputs": [],
   "source": [
    "import numpy as np\n",
    "import pandas as pd\n",
    "import matplotlib.pyplot as plt\n",
    "import seaborn as sns\n",
    "from sklearn.model_selection import train_test_split\n",
    "from sklearn.ensemble import RandomForestRegressor\n",
    "from sklearn import metrics\n",
    "from sklearn.ensemble import StackingRegressor\n",
    "from sklearn.ensemble import VotingRegressor\n",
    "from sklearn.metrics import accuracy_score\n",
    "from sklearn.metrics import mean_absolute_error\n",
    "from sklearn.metrics import mean_squared_error\n",
    "from math import sqrt\n",
    "from sklearn.metrics import make_scorer\n",
    "from sklearn.model_selection import cross_val_score\n",
    "from sklearn.svm import SVR\n",
    "from xgboost import XGBRegressor\n",
    "from keras.models import Sequential\n",
    "from keras.layers import Dense, BatchNormalization, Dropout, LSTM\n",
    "from sklearn.preprocessing import StandardScaler\n",
    "from sklearn.ensemble import IsolationForest"
   ]
  },
  {
   "cell_type": "code",
   "execution_count": 2,
   "id": "393c1e3a",
   "metadata": {},
   "outputs": [],
   "source": [
    "# loading the csv data to a Pandas DataFrame\n",
    "ev= pd.read_csv('C:\\\\Users\\\\Himani\\\\Desktop\\\\pp/big.csv')"
   ]
  },
  {
   "cell_type": "code",
   "execution_count": 3,
   "id": "8028e286",
   "metadata": {},
   "outputs": [
    {
     "data": {
      "text/plain": [
       "id                          0\n",
       "clusterId                   0\n",
       "connectionTime              0\n",
       "Num.Rep.                    0\n",
       "disconnectTime              0\n",
       "donechargingTime            1\n",
       "SessionLength               0\n",
       "Avg.Sess.                   0\n",
       "kWhDelivered                0\n",
       "Avg.Cons.                   0\n",
       "sessionId                   0\n",
       "siteId                      0\n",
       "spaceID                     0\n",
       "stationID                   0\n",
       "timezone                    0\n",
       "userID                   1199\n",
       "userInput                1199\n",
       "Precip Type                 0\n",
       "temperature                 0\n",
       "Avg. Humidity               0\n",
       "Avg Wind Speed(mph)         0\n",
       "Wind Bearing(degrees)       0\n",
       "Visibility(km)              0\n",
       "Loud Cover                  0\n",
       "Pressure(millibar)          0\n",
       "dtype: int64"
      ]
     },
     "execution_count": 3,
     "metadata": {},
     "output_type": "execute_result"
    }
   ],
   "source": [
    "# checking the number of missing values\n",
    "ev.isnull().sum()"
   ]
  },
  {
   "cell_type": "code",
   "execution_count": 4,
   "id": "92bbcf50",
   "metadata": {},
   "outputs": [],
   "source": [
    "ev[\"donechargingTime\"] = ev[\"donechargingTime\"].fillna(ev[\"donechargingTime\"].mode()[0])"
   ]
  },
  {
   "cell_type": "code",
   "execution_count": 5,
   "id": "dad68a8e",
   "metadata": {},
   "outputs": [
    {
     "data": {
      "text/html": [
       "<div>\n",
       "<style scoped>\n",
       "    .dataframe tbody tr th:only-of-type {\n",
       "        vertical-align: middle;\n",
       "    }\n",
       "\n",
       "    .dataframe tbody tr th {\n",
       "        vertical-align: top;\n",
       "    }\n",
       "\n",
       "    .dataframe thead th {\n",
       "        text-align: right;\n",
       "    }\n",
       "</style>\n",
       "<table border=\"1\" class=\"dataframe\">\n",
       "  <thead>\n",
       "    <tr style=\"text-align: right;\">\n",
       "      <th></th>\n",
       "      <th>EV</th>\n",
       "    </tr>\n",
       "  </thead>\n",
       "  <tbody>\n",
       "    <tr>\n",
       "      <th>userID</th>\n",
       "      <td>1199</td>\n",
       "    </tr>\n",
       "    <tr>\n",
       "      <th>userInput</th>\n",
       "      <td>1199</td>\n",
       "    </tr>\n",
       "  </tbody>\n",
       "</table>\n",
       "</div>"
      ],
      "text/plain": [
       "             EV\n",
       "userID     1199\n",
       "userInput  1199"
      ]
     },
     "execution_count": 5,
     "metadata": {},
     "output_type": "execute_result"
    }
   ],
   "source": [
    "NAs = pd.concat([ev.isnull().sum()], axis=1, keys=[\"EV\"])\n",
    "NAs[NAs.sum(axis=1) > 0]"
   ]
  },
  {
   "cell_type": "code",
   "execution_count": 6,
   "id": "52deeb45",
   "metadata": {},
   "outputs": [
    {
     "data": {
      "text/plain": [
       "0      NaN\n",
       "1      NaN\n",
       "2      NaN\n",
       "3      NaN\n",
       "4      NaN\n",
       "        ..\n",
       "1194   NaN\n",
       "1195   NaN\n",
       "1196   NaN\n",
       "1197   NaN\n",
       "1198   NaN\n",
       "Name: userID, Length: 1199, dtype: float64"
      ]
     },
     "execution_count": 6,
     "metadata": {},
     "output_type": "execute_result"
    }
   ],
   "source": [
    "ev.pop(\"userID\")"
   ]
  },
  {
   "cell_type": "code",
   "execution_count": 7,
   "id": "229d018c",
   "metadata": {},
   "outputs": [
    {
     "data": {
      "text/plain": [
       "0      NaN\n",
       "1      NaN\n",
       "2      NaN\n",
       "3      NaN\n",
       "4      NaN\n",
       "        ..\n",
       "1194   NaN\n",
       "1195   NaN\n",
       "1196   NaN\n",
       "1197   NaN\n",
       "1198   NaN\n",
       "Name: userInput, Length: 1199, dtype: float64"
      ]
     },
     "execution_count": 7,
     "metadata": {},
     "output_type": "execute_result"
    }
   ],
   "source": [
    "ev.pop(\"userInput\")"
   ]
  },
  {
   "cell_type": "code",
   "execution_count": 8,
   "id": "43bdb0bf",
   "metadata": {},
   "outputs": [
    {
     "name": "stderr",
     "output_type": "stream",
     "text": [
      "C:\\Users\\Himani\\AppData\\Local\\Temp\\ipykernel_18000\\576543398.py:1: FutureWarning: The default value of numeric_only in DataFrame.corr is deprecated. In a future version, it will default to False. Select only valid columns or specify the value of numeric_only to silence this warning.\n",
      "  ev.corr()\n"
     ]
    },
    {
     "data": {
      "text/html": [
       "<div>\n",
       "<style scoped>\n",
       "    .dataframe tbody tr th:only-of-type {\n",
       "        vertical-align: middle;\n",
       "    }\n",
       "\n",
       "    .dataframe tbody tr th {\n",
       "        vertical-align: top;\n",
       "    }\n",
       "\n",
       "    .dataframe thead th {\n",
       "        text-align: right;\n",
       "    }\n",
       "</style>\n",
       "<table border=\"1\" class=\"dataframe\">\n",
       "  <thead>\n",
       "    <tr style=\"text-align: right;\">\n",
       "      <th></th>\n",
       "      <th>clusterId</th>\n",
       "      <th>Num.Rep.</th>\n",
       "      <th>SessionLength</th>\n",
       "      <th>Avg.Sess.</th>\n",
       "      <th>kWhDelivered</th>\n",
       "      <th>Avg.Cons.</th>\n",
       "      <th>siteId</th>\n",
       "      <th>temperature</th>\n",
       "      <th>Avg. Humidity</th>\n",
       "      <th>Avg Wind Speed(mph)</th>\n",
       "      <th>Wind Bearing(degrees)</th>\n",
       "      <th>Visibility(km)</th>\n",
       "      <th>Loud Cover</th>\n",
       "      <th>Pressure(millibar)</th>\n",
       "    </tr>\n",
       "  </thead>\n",
       "  <tbody>\n",
       "    <tr>\n",
       "      <th>clusterId</th>\n",
       "      <td>NaN</td>\n",
       "      <td>NaN</td>\n",
       "      <td>NaN</td>\n",
       "      <td>NaN</td>\n",
       "      <td>NaN</td>\n",
       "      <td>NaN</td>\n",
       "      <td>NaN</td>\n",
       "      <td>NaN</td>\n",
       "      <td>NaN</td>\n",
       "      <td>NaN</td>\n",
       "      <td>NaN</td>\n",
       "      <td>NaN</td>\n",
       "      <td>NaN</td>\n",
       "      <td>NaN</td>\n",
       "    </tr>\n",
       "    <tr>\n",
       "      <th>Num.Rep.</th>\n",
       "      <td>NaN</td>\n",
       "      <td>1.000000</td>\n",
       "      <td>-0.071010</td>\n",
       "      <td>-0.107489</td>\n",
       "      <td>-0.130661</td>\n",
       "      <td>-0.040154</td>\n",
       "      <td>NaN</td>\n",
       "      <td>-0.005883</td>\n",
       "      <td>0.000890</td>\n",
       "      <td>0.082359</td>\n",
       "      <td>-0.102735</td>\n",
       "      <td>-0.177679</td>\n",
       "      <td>NaN</td>\n",
       "      <td>-0.118644</td>\n",
       "    </tr>\n",
       "    <tr>\n",
       "      <th>SessionLength</th>\n",
       "      <td>NaN</td>\n",
       "      <td>-0.071010</td>\n",
       "      <td>1.000000</td>\n",
       "      <td>0.380336</td>\n",
       "      <td>0.349359</td>\n",
       "      <td>0.288598</td>\n",
       "      <td>NaN</td>\n",
       "      <td>-0.315319</td>\n",
       "      <td>-0.303165</td>\n",
       "      <td>-0.081812</td>\n",
       "      <td>0.114141</td>\n",
       "      <td>0.003940</td>\n",
       "      <td>NaN</td>\n",
       "      <td>0.259002</td>\n",
       "    </tr>\n",
       "    <tr>\n",
       "      <th>Avg.Sess.</th>\n",
       "      <td>NaN</td>\n",
       "      <td>-0.107489</td>\n",
       "      <td>0.380336</td>\n",
       "      <td>1.000000</td>\n",
       "      <td>0.227223</td>\n",
       "      <td>0.773066</td>\n",
       "      <td>NaN</td>\n",
       "      <td>-0.835803</td>\n",
       "      <td>-0.863568</td>\n",
       "      <td>-0.266609</td>\n",
       "      <td>0.276224</td>\n",
       "      <td>-0.143602</td>\n",
       "      <td>NaN</td>\n",
       "      <td>0.485590</td>\n",
       "    </tr>\n",
       "    <tr>\n",
       "      <th>kWhDelivered</th>\n",
       "      <td>NaN</td>\n",
       "      <td>-0.130661</td>\n",
       "      <td>0.349359</td>\n",
       "      <td>0.227223</td>\n",
       "      <td>1.000000</td>\n",
       "      <td>0.231452</td>\n",
       "      <td>NaN</td>\n",
       "      <td>-0.262378</td>\n",
       "      <td>-0.233600</td>\n",
       "      <td>-0.025725</td>\n",
       "      <td>-0.099936</td>\n",
       "      <td>0.078063</td>\n",
       "      <td>NaN</td>\n",
       "      <td>0.249317</td>\n",
       "    </tr>\n",
       "    <tr>\n",
       "      <th>Avg.Cons.</th>\n",
       "      <td>NaN</td>\n",
       "      <td>-0.040154</td>\n",
       "      <td>0.288598</td>\n",
       "      <td>0.773066</td>\n",
       "      <td>0.231452</td>\n",
       "      <td>1.000000</td>\n",
       "      <td>NaN</td>\n",
       "      <td>-0.698765</td>\n",
       "      <td>-0.849067</td>\n",
       "      <td>-0.548857</td>\n",
       "      <td>0.087399</td>\n",
       "      <td>-0.116635</td>\n",
       "      <td>NaN</td>\n",
       "      <td>0.415482</td>\n",
       "    </tr>\n",
       "    <tr>\n",
       "      <th>siteId</th>\n",
       "      <td>NaN</td>\n",
       "      <td>NaN</td>\n",
       "      <td>NaN</td>\n",
       "      <td>NaN</td>\n",
       "      <td>NaN</td>\n",
       "      <td>NaN</td>\n",
       "      <td>NaN</td>\n",
       "      <td>NaN</td>\n",
       "      <td>NaN</td>\n",
       "      <td>NaN</td>\n",
       "      <td>NaN</td>\n",
       "      <td>NaN</td>\n",
       "      <td>NaN</td>\n",
       "      <td>NaN</td>\n",
       "    </tr>\n",
       "    <tr>\n",
       "      <th>temperature</th>\n",
       "      <td>NaN</td>\n",
       "      <td>-0.005883</td>\n",
       "      <td>-0.315319</td>\n",
       "      <td>-0.835803</td>\n",
       "      <td>-0.262378</td>\n",
       "      <td>-0.698765</td>\n",
       "      <td>NaN</td>\n",
       "      <td>1.000000</td>\n",
       "      <td>0.850414</td>\n",
       "      <td>0.100510</td>\n",
       "      <td>-0.046195</td>\n",
       "      <td>0.259534</td>\n",
       "      <td>NaN</td>\n",
       "      <td>-0.574374</td>\n",
       "    </tr>\n",
       "    <tr>\n",
       "      <th>Avg. Humidity</th>\n",
       "      <td>NaN</td>\n",
       "      <td>0.000890</td>\n",
       "      <td>-0.303165</td>\n",
       "      <td>-0.863568</td>\n",
       "      <td>-0.233600</td>\n",
       "      <td>-0.849067</td>\n",
       "      <td>NaN</td>\n",
       "      <td>0.850414</td>\n",
       "      <td>1.000000</td>\n",
       "      <td>0.396623</td>\n",
       "      <td>-0.181635</td>\n",
       "      <td>0.109862</td>\n",
       "      <td>NaN</td>\n",
       "      <td>-0.507359</td>\n",
       "    </tr>\n",
       "    <tr>\n",
       "      <th>Avg Wind Speed(mph)</th>\n",
       "      <td>NaN</td>\n",
       "      <td>0.082359</td>\n",
       "      <td>-0.081812</td>\n",
       "      <td>-0.266609</td>\n",
       "      <td>-0.025725</td>\n",
       "      <td>-0.548857</td>\n",
       "      <td>NaN</td>\n",
       "      <td>0.100510</td>\n",
       "      <td>0.396623</td>\n",
       "      <td>1.000000</td>\n",
       "      <td>-0.256970</td>\n",
       "      <td>-0.121604</td>\n",
       "      <td>NaN</td>\n",
       "      <td>-0.133499</td>\n",
       "    </tr>\n",
       "    <tr>\n",
       "      <th>Wind Bearing(degrees)</th>\n",
       "      <td>NaN</td>\n",
       "      <td>-0.102735</td>\n",
       "      <td>0.114141</td>\n",
       "      <td>0.276224</td>\n",
       "      <td>-0.099936</td>\n",
       "      <td>0.087399</td>\n",
       "      <td>NaN</td>\n",
       "      <td>-0.046195</td>\n",
       "      <td>-0.181635</td>\n",
       "      <td>-0.256970</td>\n",
       "      <td>1.000000</td>\n",
       "      <td>-0.049020</td>\n",
       "      <td>NaN</td>\n",
       "      <td>-0.112676</td>\n",
       "    </tr>\n",
       "    <tr>\n",
       "      <th>Visibility(km)</th>\n",
       "      <td>NaN</td>\n",
       "      <td>-0.177679</td>\n",
       "      <td>0.003940</td>\n",
       "      <td>-0.143602</td>\n",
       "      <td>0.078063</td>\n",
       "      <td>-0.116635</td>\n",
       "      <td>NaN</td>\n",
       "      <td>0.259534</td>\n",
       "      <td>0.109862</td>\n",
       "      <td>-0.121604</td>\n",
       "      <td>-0.049020</td>\n",
       "      <td>1.000000</td>\n",
       "      <td>NaN</td>\n",
       "      <td>0.210063</td>\n",
       "    </tr>\n",
       "    <tr>\n",
       "      <th>Loud Cover</th>\n",
       "      <td>NaN</td>\n",
       "      <td>NaN</td>\n",
       "      <td>NaN</td>\n",
       "      <td>NaN</td>\n",
       "      <td>NaN</td>\n",
       "      <td>NaN</td>\n",
       "      <td>NaN</td>\n",
       "      <td>NaN</td>\n",
       "      <td>NaN</td>\n",
       "      <td>NaN</td>\n",
       "      <td>NaN</td>\n",
       "      <td>NaN</td>\n",
       "      <td>NaN</td>\n",
       "      <td>NaN</td>\n",
       "    </tr>\n",
       "    <tr>\n",
       "      <th>Pressure(millibar)</th>\n",
       "      <td>NaN</td>\n",
       "      <td>-0.118644</td>\n",
       "      <td>0.259002</td>\n",
       "      <td>0.485590</td>\n",
       "      <td>0.249317</td>\n",
       "      <td>0.415482</td>\n",
       "      <td>NaN</td>\n",
       "      <td>-0.574374</td>\n",
       "      <td>-0.507359</td>\n",
       "      <td>-0.133499</td>\n",
       "      <td>-0.112676</td>\n",
       "      <td>0.210063</td>\n",
       "      <td>NaN</td>\n",
       "      <td>1.000000</td>\n",
       "    </tr>\n",
       "  </tbody>\n",
       "</table>\n",
       "</div>"
      ],
      "text/plain": [
       "                       clusterId  Num.Rep.  SessionLength  Avg.Sess.  \\\n",
       "clusterId                    NaN       NaN            NaN        NaN   \n",
       "Num.Rep.                     NaN  1.000000      -0.071010  -0.107489   \n",
       "SessionLength                NaN -0.071010       1.000000   0.380336   \n",
       "Avg.Sess.                    NaN -0.107489       0.380336   1.000000   \n",
       "kWhDelivered                 NaN -0.130661       0.349359   0.227223   \n",
       "Avg.Cons.                    NaN -0.040154       0.288598   0.773066   \n",
       "siteId                       NaN       NaN            NaN        NaN   \n",
       "temperature                  NaN -0.005883      -0.315319  -0.835803   \n",
       "Avg. Humidity                NaN  0.000890      -0.303165  -0.863568   \n",
       "Avg Wind Speed(mph)          NaN  0.082359      -0.081812  -0.266609   \n",
       "Wind Bearing(degrees)        NaN -0.102735       0.114141   0.276224   \n",
       "Visibility(km)               NaN -0.177679       0.003940  -0.143602   \n",
       "Loud Cover                   NaN       NaN            NaN        NaN   \n",
       "Pressure(millibar)           NaN -0.118644       0.259002   0.485590   \n",
       "\n",
       "                       kWhDelivered  Avg.Cons.  siteId  temperature  \\\n",
       "clusterId                       NaN        NaN     NaN          NaN   \n",
       "Num.Rep.                  -0.130661  -0.040154     NaN    -0.005883   \n",
       "SessionLength              0.349359   0.288598     NaN    -0.315319   \n",
       "Avg.Sess.                  0.227223   0.773066     NaN    -0.835803   \n",
       "kWhDelivered               1.000000   0.231452     NaN    -0.262378   \n",
       "Avg.Cons.                  0.231452   1.000000     NaN    -0.698765   \n",
       "siteId                          NaN        NaN     NaN          NaN   \n",
       "temperature               -0.262378  -0.698765     NaN     1.000000   \n",
       "Avg. Humidity             -0.233600  -0.849067     NaN     0.850414   \n",
       "Avg Wind Speed(mph)       -0.025725  -0.548857     NaN     0.100510   \n",
       "Wind Bearing(degrees)     -0.099936   0.087399     NaN    -0.046195   \n",
       "Visibility(km)             0.078063  -0.116635     NaN     0.259534   \n",
       "Loud Cover                      NaN        NaN     NaN          NaN   \n",
       "Pressure(millibar)         0.249317   0.415482     NaN    -0.574374   \n",
       "\n",
       "                       Avg. Humidity  Avg Wind Speed(mph)  \\\n",
       "clusterId                        NaN                  NaN   \n",
       "Num.Rep.                    0.000890             0.082359   \n",
       "SessionLength              -0.303165            -0.081812   \n",
       "Avg.Sess.                  -0.863568            -0.266609   \n",
       "kWhDelivered               -0.233600            -0.025725   \n",
       "Avg.Cons.                  -0.849067            -0.548857   \n",
       "siteId                           NaN                  NaN   \n",
       "temperature                 0.850414             0.100510   \n",
       "Avg. Humidity               1.000000             0.396623   \n",
       "Avg Wind Speed(mph)         0.396623             1.000000   \n",
       "Wind Bearing(degrees)      -0.181635            -0.256970   \n",
       "Visibility(km)              0.109862            -0.121604   \n",
       "Loud Cover                       NaN                  NaN   \n",
       "Pressure(millibar)         -0.507359            -0.133499   \n",
       "\n",
       "                       Wind Bearing(degrees)  Visibility(km)  Loud Cover  \\\n",
       "clusterId                                NaN             NaN         NaN   \n",
       "Num.Rep.                           -0.102735       -0.177679         NaN   \n",
       "SessionLength                       0.114141        0.003940         NaN   \n",
       "Avg.Sess.                           0.276224       -0.143602         NaN   \n",
       "kWhDelivered                       -0.099936        0.078063         NaN   \n",
       "Avg.Cons.                           0.087399       -0.116635         NaN   \n",
       "siteId                                   NaN             NaN         NaN   \n",
       "temperature                        -0.046195        0.259534         NaN   \n",
       "Avg. Humidity                      -0.181635        0.109862         NaN   \n",
       "Avg Wind Speed(mph)                -0.256970       -0.121604         NaN   \n",
       "Wind Bearing(degrees)               1.000000       -0.049020         NaN   \n",
       "Visibility(km)                     -0.049020        1.000000         NaN   \n",
       "Loud Cover                               NaN             NaN         NaN   \n",
       "Pressure(millibar)                 -0.112676        0.210063         NaN   \n",
       "\n",
       "                       Pressure(millibar)  \n",
       "clusterId                             NaN  \n",
       "Num.Rep.                        -0.118644  \n",
       "SessionLength                    0.259002  \n",
       "Avg.Sess.                        0.485590  \n",
       "kWhDelivered                     0.249317  \n",
       "Avg.Cons.                        0.415482  \n",
       "siteId                                NaN  \n",
       "temperature                     -0.574374  \n",
       "Avg. Humidity                   -0.507359  \n",
       "Avg Wind Speed(mph)             -0.133499  \n",
       "Wind Bearing(degrees)           -0.112676  \n",
       "Visibility(km)                   0.210063  \n",
       "Loud Cover                            NaN  \n",
       "Pressure(millibar)               1.000000  "
      ]
     },
     "execution_count": 8,
     "metadata": {},
     "output_type": "execute_result"
    }
   ],
   "source": [
    "ev.corr()"
   ]
  },
  {
   "cell_type": "code",
   "execution_count": 9,
   "id": "56b69754",
   "metadata": {},
   "outputs": [
    {
     "data": {
      "text/html": [
       "<div>\n",
       "<style scoped>\n",
       "    .dataframe tbody tr th:only-of-type {\n",
       "        vertical-align: middle;\n",
       "    }\n",
       "\n",
       "    .dataframe tbody tr th {\n",
       "        vertical-align: top;\n",
       "    }\n",
       "\n",
       "    .dataframe thead th {\n",
       "        text-align: right;\n",
       "    }\n",
       "</style>\n",
       "<table border=\"1\" class=\"dataframe\">\n",
       "  <thead>\n",
       "    <tr style=\"text-align: right;\">\n",
       "      <th></th>\n",
       "      <th>clusterId</th>\n",
       "      <th>Num.Rep.</th>\n",
       "      <th>SessionLength</th>\n",
       "      <th>Avg.Sess.</th>\n",
       "      <th>kWhDelivered</th>\n",
       "      <th>Avg.Cons.</th>\n",
       "      <th>siteId</th>\n",
       "      <th>temperature</th>\n",
       "      <th>Avg. Humidity</th>\n",
       "      <th>Avg Wind Speed(mph)</th>\n",
       "      <th>Wind Bearing(degrees)</th>\n",
       "      <th>Visibility(km)</th>\n",
       "      <th>Loud Cover</th>\n",
       "      <th>Pressure(millibar)</th>\n",
       "    </tr>\n",
       "  </thead>\n",
       "  <tbody>\n",
       "    <tr>\n",
       "      <th>count</th>\n",
       "      <td>1199.0</td>\n",
       "      <td>1199.000000</td>\n",
       "      <td>1199.000000</td>\n",
       "      <td>1199.000000</td>\n",
       "      <td>1199.000000</td>\n",
       "      <td>1199.000000</td>\n",
       "      <td>1199.0</td>\n",
       "      <td>1199.000000</td>\n",
       "      <td>1199.000000</td>\n",
       "      <td>1199.000000</td>\n",
       "      <td>1199.000000</td>\n",
       "      <td>1199.000000</td>\n",
       "      <td>1199.0</td>\n",
       "      <td>1199.000000</td>\n",
       "    </tr>\n",
       "    <tr>\n",
       "      <th>mean</th>\n",
       "      <td>39.0</td>\n",
       "      <td>14.840467</td>\n",
       "      <td>3.546372</td>\n",
       "      <td>2.895396</td>\n",
       "      <td>6.443036</td>\n",
       "      <td>5.465263</td>\n",
       "      <td>2.0</td>\n",
       "      <td>30.840901</td>\n",
       "      <td>39.845421</td>\n",
       "      <td>12.729166</td>\n",
       "      <td>188.645538</td>\n",
       "      <td>14.790342</td>\n",
       "      <td>0.0</td>\n",
       "      <td>1007.787873</td>\n",
       "    </tr>\n",
       "    <tr>\n",
       "      <th>std</th>\n",
       "      <td>0.0</td>\n",
       "      <td>4.004081</td>\n",
       "      <td>2.867130</td>\n",
       "      <td>0.223573</td>\n",
       "      <td>4.871629</td>\n",
       "      <td>0.605820</td>\n",
       "      <td>0.0</td>\n",
       "      <td>3.311170</td>\n",
       "      <td>3.334805</td>\n",
       "      <td>1.836852</td>\n",
       "      <td>98.281920</td>\n",
       "      <td>2.129531</td>\n",
       "      <td>0.0</td>\n",
       "      <td>3.449437</td>\n",
       "    </tr>\n",
       "    <tr>\n",
       "      <th>min</th>\n",
       "      <td>39.0</td>\n",
       "      <td>0.040000</td>\n",
       "      <td>0.010000</td>\n",
       "      <td>2.410000</td>\n",
       "      <td>0.000000</td>\n",
       "      <td>3.620000</td>\n",
       "      <td>2.0</td>\n",
       "      <td>24.370000</td>\n",
       "      <td>33.840000</td>\n",
       "      <td>10.240000</td>\n",
       "      <td>10.000000</td>\n",
       "      <td>9.900000</td>\n",
       "      <td>0.0</td>\n",
       "      <td>1003.100000</td>\n",
       "    </tr>\n",
       "    <tr>\n",
       "      <th>25%</th>\n",
       "      <td>39.0</td>\n",
       "      <td>12.000000</td>\n",
       "      <td>2.130000</td>\n",
       "      <td>2.750000</td>\n",
       "      <td>3.700000</td>\n",
       "      <td>4.920000</td>\n",
       "      <td>2.0</td>\n",
       "      <td>28.510000</td>\n",
       "      <td>37.565000</td>\n",
       "      <td>11.040000</td>\n",
       "      <td>120.000000</td>\n",
       "      <td>14.170000</td>\n",
       "      <td>0.0</td>\n",
       "      <td>1005.180000</td>\n",
       "    </tr>\n",
       "    <tr>\n",
       "      <th>50%</th>\n",
       "      <td>39.0</td>\n",
       "      <td>16.000000</td>\n",
       "      <td>3.010000</td>\n",
       "      <td>2.830000</td>\n",
       "      <td>5.790000</td>\n",
       "      <td>5.590000</td>\n",
       "      <td>2.0</td>\n",
       "      <td>31.660000</td>\n",
       "      <td>39.380000</td>\n",
       "      <td>12.490000</td>\n",
       "      <td>195.000000</td>\n",
       "      <td>15.730000</td>\n",
       "      <td>0.0</td>\n",
       "      <td>1006.920000</td>\n",
       "    </tr>\n",
       "    <tr>\n",
       "      <th>75%</th>\n",
       "      <td>39.0</td>\n",
       "      <td>17.000000</td>\n",
       "      <td>3.965000</td>\n",
       "      <td>2.930000</td>\n",
       "      <td>6.975000</td>\n",
       "      <td>5.810000</td>\n",
       "      <td>2.0</td>\n",
       "      <td>33.550000</td>\n",
       "      <td>42.950000</td>\n",
       "      <td>14.780000</td>\n",
       "      <td>271.000000</td>\n",
       "      <td>16.100000</td>\n",
       "      <td>0.0</td>\n",
       "      <td>1008.450000</td>\n",
       "    </tr>\n",
       "    <tr>\n",
       "      <th>max</th>\n",
       "      <td>39.0</td>\n",
       "      <td>23.900000</td>\n",
       "      <td>55.240000</td>\n",
       "      <td>3.550000</td>\n",
       "      <td>47.810000</td>\n",
       "      <td>6.450000</td>\n",
       "      <td>2.0</td>\n",
       "      <td>35.980000</td>\n",
       "      <td>45.100000</td>\n",
       "      <td>15.640000</td>\n",
       "      <td>339.000000</td>\n",
       "      <td>17.300000</td>\n",
       "      <td>0.0</td>\n",
       "      <td>1016.850000</td>\n",
       "    </tr>\n",
       "  </tbody>\n",
       "</table>\n",
       "</div>"
      ],
      "text/plain": [
       "       clusterId     Num.Rep.  SessionLength    Avg.Sess.  kWhDelivered  \\\n",
       "count     1199.0  1199.000000    1199.000000  1199.000000   1199.000000   \n",
       "mean        39.0    14.840467       3.546372     2.895396      6.443036   \n",
       "std          0.0     4.004081       2.867130     0.223573      4.871629   \n",
       "min         39.0     0.040000       0.010000     2.410000      0.000000   \n",
       "25%         39.0    12.000000       2.130000     2.750000      3.700000   \n",
       "50%         39.0    16.000000       3.010000     2.830000      5.790000   \n",
       "75%         39.0    17.000000       3.965000     2.930000      6.975000   \n",
       "max         39.0    23.900000      55.240000     3.550000     47.810000   \n",
       "\n",
       "         Avg.Cons.  siteId  temperature  Avg. Humidity  Avg Wind Speed(mph)  \\\n",
       "count  1199.000000  1199.0  1199.000000    1199.000000          1199.000000   \n",
       "mean      5.465263     2.0    30.840901      39.845421            12.729166   \n",
       "std       0.605820     0.0     3.311170       3.334805             1.836852   \n",
       "min       3.620000     2.0    24.370000      33.840000            10.240000   \n",
       "25%       4.920000     2.0    28.510000      37.565000            11.040000   \n",
       "50%       5.590000     2.0    31.660000      39.380000            12.490000   \n",
       "75%       5.810000     2.0    33.550000      42.950000            14.780000   \n",
       "max       6.450000     2.0    35.980000      45.100000            15.640000   \n",
       "\n",
       "       Wind Bearing(degrees)  Visibility(km)  Loud Cover  Pressure(millibar)  \n",
       "count            1199.000000     1199.000000      1199.0         1199.000000  \n",
       "mean              188.645538       14.790342         0.0         1007.787873  \n",
       "std                98.281920        2.129531         0.0            3.449437  \n",
       "min                10.000000        9.900000         0.0         1003.100000  \n",
       "25%               120.000000       14.170000         0.0         1005.180000  \n",
       "50%               195.000000       15.730000         0.0         1006.920000  \n",
       "75%               271.000000       16.100000         0.0         1008.450000  \n",
       "max               339.000000       17.300000         0.0         1016.850000  "
      ]
     },
     "execution_count": 9,
     "metadata": {},
     "output_type": "execute_result"
    }
   ],
   "source": [
    "ev.describe()"
   ]
  },
  {
   "cell_type": "code",
   "execution_count": 10,
   "id": "9536306d",
   "metadata": {},
   "outputs": [
    {
     "name": "stderr",
     "output_type": "stream",
     "text": [
      "C:\\Users\\Himani\\AppData\\Local\\Temp\\ipykernel_18000\\576543398.py:1: FutureWarning: The default value of numeric_only in DataFrame.corr is deprecated. In a future version, it will default to False. Select only valid columns or specify the value of numeric_only to silence this warning.\n",
      "  ev.corr()\n"
     ]
    },
    {
     "data": {
      "text/html": [
       "<div>\n",
       "<style scoped>\n",
       "    .dataframe tbody tr th:only-of-type {\n",
       "        vertical-align: middle;\n",
       "    }\n",
       "\n",
       "    .dataframe tbody tr th {\n",
       "        vertical-align: top;\n",
       "    }\n",
       "\n",
       "    .dataframe thead th {\n",
       "        text-align: right;\n",
       "    }\n",
       "</style>\n",
       "<table border=\"1\" class=\"dataframe\">\n",
       "  <thead>\n",
       "    <tr style=\"text-align: right;\">\n",
       "      <th></th>\n",
       "      <th>clusterId</th>\n",
       "      <th>Num.Rep.</th>\n",
       "      <th>SessionLength</th>\n",
       "      <th>Avg.Sess.</th>\n",
       "      <th>kWhDelivered</th>\n",
       "      <th>Avg.Cons.</th>\n",
       "      <th>siteId</th>\n",
       "      <th>temperature</th>\n",
       "      <th>Avg. Humidity</th>\n",
       "      <th>Avg Wind Speed(mph)</th>\n",
       "      <th>Wind Bearing(degrees)</th>\n",
       "      <th>Visibility(km)</th>\n",
       "      <th>Loud Cover</th>\n",
       "      <th>Pressure(millibar)</th>\n",
       "    </tr>\n",
       "  </thead>\n",
       "  <tbody>\n",
       "    <tr>\n",
       "      <th>clusterId</th>\n",
       "      <td>NaN</td>\n",
       "      <td>NaN</td>\n",
       "      <td>NaN</td>\n",
       "      <td>NaN</td>\n",
       "      <td>NaN</td>\n",
       "      <td>NaN</td>\n",
       "      <td>NaN</td>\n",
       "      <td>NaN</td>\n",
       "      <td>NaN</td>\n",
       "      <td>NaN</td>\n",
       "      <td>NaN</td>\n",
       "      <td>NaN</td>\n",
       "      <td>NaN</td>\n",
       "      <td>NaN</td>\n",
       "    </tr>\n",
       "    <tr>\n",
       "      <th>Num.Rep.</th>\n",
       "      <td>NaN</td>\n",
       "      <td>1.000000</td>\n",
       "      <td>-0.071010</td>\n",
       "      <td>-0.107489</td>\n",
       "      <td>-0.130661</td>\n",
       "      <td>-0.040154</td>\n",
       "      <td>NaN</td>\n",
       "      <td>-0.005883</td>\n",
       "      <td>0.000890</td>\n",
       "      <td>0.082359</td>\n",
       "      <td>-0.102735</td>\n",
       "      <td>-0.177679</td>\n",
       "      <td>NaN</td>\n",
       "      <td>-0.118644</td>\n",
       "    </tr>\n",
       "    <tr>\n",
       "      <th>SessionLength</th>\n",
       "      <td>NaN</td>\n",
       "      <td>-0.071010</td>\n",
       "      <td>1.000000</td>\n",
       "      <td>0.380336</td>\n",
       "      <td>0.349359</td>\n",
       "      <td>0.288598</td>\n",
       "      <td>NaN</td>\n",
       "      <td>-0.315319</td>\n",
       "      <td>-0.303165</td>\n",
       "      <td>-0.081812</td>\n",
       "      <td>0.114141</td>\n",
       "      <td>0.003940</td>\n",
       "      <td>NaN</td>\n",
       "      <td>0.259002</td>\n",
       "    </tr>\n",
       "    <tr>\n",
       "      <th>Avg.Sess.</th>\n",
       "      <td>NaN</td>\n",
       "      <td>-0.107489</td>\n",
       "      <td>0.380336</td>\n",
       "      <td>1.000000</td>\n",
       "      <td>0.227223</td>\n",
       "      <td>0.773066</td>\n",
       "      <td>NaN</td>\n",
       "      <td>-0.835803</td>\n",
       "      <td>-0.863568</td>\n",
       "      <td>-0.266609</td>\n",
       "      <td>0.276224</td>\n",
       "      <td>-0.143602</td>\n",
       "      <td>NaN</td>\n",
       "      <td>0.485590</td>\n",
       "    </tr>\n",
       "    <tr>\n",
       "      <th>kWhDelivered</th>\n",
       "      <td>NaN</td>\n",
       "      <td>-0.130661</td>\n",
       "      <td>0.349359</td>\n",
       "      <td>0.227223</td>\n",
       "      <td>1.000000</td>\n",
       "      <td>0.231452</td>\n",
       "      <td>NaN</td>\n",
       "      <td>-0.262378</td>\n",
       "      <td>-0.233600</td>\n",
       "      <td>-0.025725</td>\n",
       "      <td>-0.099936</td>\n",
       "      <td>0.078063</td>\n",
       "      <td>NaN</td>\n",
       "      <td>0.249317</td>\n",
       "    </tr>\n",
       "    <tr>\n",
       "      <th>Avg.Cons.</th>\n",
       "      <td>NaN</td>\n",
       "      <td>-0.040154</td>\n",
       "      <td>0.288598</td>\n",
       "      <td>0.773066</td>\n",
       "      <td>0.231452</td>\n",
       "      <td>1.000000</td>\n",
       "      <td>NaN</td>\n",
       "      <td>-0.698765</td>\n",
       "      <td>-0.849067</td>\n",
       "      <td>-0.548857</td>\n",
       "      <td>0.087399</td>\n",
       "      <td>-0.116635</td>\n",
       "      <td>NaN</td>\n",
       "      <td>0.415482</td>\n",
       "    </tr>\n",
       "    <tr>\n",
       "      <th>siteId</th>\n",
       "      <td>NaN</td>\n",
       "      <td>NaN</td>\n",
       "      <td>NaN</td>\n",
       "      <td>NaN</td>\n",
       "      <td>NaN</td>\n",
       "      <td>NaN</td>\n",
       "      <td>NaN</td>\n",
       "      <td>NaN</td>\n",
       "      <td>NaN</td>\n",
       "      <td>NaN</td>\n",
       "      <td>NaN</td>\n",
       "      <td>NaN</td>\n",
       "      <td>NaN</td>\n",
       "      <td>NaN</td>\n",
       "    </tr>\n",
       "    <tr>\n",
       "      <th>temperature</th>\n",
       "      <td>NaN</td>\n",
       "      <td>-0.005883</td>\n",
       "      <td>-0.315319</td>\n",
       "      <td>-0.835803</td>\n",
       "      <td>-0.262378</td>\n",
       "      <td>-0.698765</td>\n",
       "      <td>NaN</td>\n",
       "      <td>1.000000</td>\n",
       "      <td>0.850414</td>\n",
       "      <td>0.100510</td>\n",
       "      <td>-0.046195</td>\n",
       "      <td>0.259534</td>\n",
       "      <td>NaN</td>\n",
       "      <td>-0.574374</td>\n",
       "    </tr>\n",
       "    <tr>\n",
       "      <th>Avg. Humidity</th>\n",
       "      <td>NaN</td>\n",
       "      <td>0.000890</td>\n",
       "      <td>-0.303165</td>\n",
       "      <td>-0.863568</td>\n",
       "      <td>-0.233600</td>\n",
       "      <td>-0.849067</td>\n",
       "      <td>NaN</td>\n",
       "      <td>0.850414</td>\n",
       "      <td>1.000000</td>\n",
       "      <td>0.396623</td>\n",
       "      <td>-0.181635</td>\n",
       "      <td>0.109862</td>\n",
       "      <td>NaN</td>\n",
       "      <td>-0.507359</td>\n",
       "    </tr>\n",
       "    <tr>\n",
       "      <th>Avg Wind Speed(mph)</th>\n",
       "      <td>NaN</td>\n",
       "      <td>0.082359</td>\n",
       "      <td>-0.081812</td>\n",
       "      <td>-0.266609</td>\n",
       "      <td>-0.025725</td>\n",
       "      <td>-0.548857</td>\n",
       "      <td>NaN</td>\n",
       "      <td>0.100510</td>\n",
       "      <td>0.396623</td>\n",
       "      <td>1.000000</td>\n",
       "      <td>-0.256970</td>\n",
       "      <td>-0.121604</td>\n",
       "      <td>NaN</td>\n",
       "      <td>-0.133499</td>\n",
       "    </tr>\n",
       "    <tr>\n",
       "      <th>Wind Bearing(degrees)</th>\n",
       "      <td>NaN</td>\n",
       "      <td>-0.102735</td>\n",
       "      <td>0.114141</td>\n",
       "      <td>0.276224</td>\n",
       "      <td>-0.099936</td>\n",
       "      <td>0.087399</td>\n",
       "      <td>NaN</td>\n",
       "      <td>-0.046195</td>\n",
       "      <td>-0.181635</td>\n",
       "      <td>-0.256970</td>\n",
       "      <td>1.000000</td>\n",
       "      <td>-0.049020</td>\n",
       "      <td>NaN</td>\n",
       "      <td>-0.112676</td>\n",
       "    </tr>\n",
       "    <tr>\n",
       "      <th>Visibility(km)</th>\n",
       "      <td>NaN</td>\n",
       "      <td>-0.177679</td>\n",
       "      <td>0.003940</td>\n",
       "      <td>-0.143602</td>\n",
       "      <td>0.078063</td>\n",
       "      <td>-0.116635</td>\n",
       "      <td>NaN</td>\n",
       "      <td>0.259534</td>\n",
       "      <td>0.109862</td>\n",
       "      <td>-0.121604</td>\n",
       "      <td>-0.049020</td>\n",
       "      <td>1.000000</td>\n",
       "      <td>NaN</td>\n",
       "      <td>0.210063</td>\n",
       "    </tr>\n",
       "    <tr>\n",
       "      <th>Loud Cover</th>\n",
       "      <td>NaN</td>\n",
       "      <td>NaN</td>\n",
       "      <td>NaN</td>\n",
       "      <td>NaN</td>\n",
       "      <td>NaN</td>\n",
       "      <td>NaN</td>\n",
       "      <td>NaN</td>\n",
       "      <td>NaN</td>\n",
       "      <td>NaN</td>\n",
       "      <td>NaN</td>\n",
       "      <td>NaN</td>\n",
       "      <td>NaN</td>\n",
       "      <td>NaN</td>\n",
       "      <td>NaN</td>\n",
       "    </tr>\n",
       "    <tr>\n",
       "      <th>Pressure(millibar)</th>\n",
       "      <td>NaN</td>\n",
       "      <td>-0.118644</td>\n",
       "      <td>0.259002</td>\n",
       "      <td>0.485590</td>\n",
       "      <td>0.249317</td>\n",
       "      <td>0.415482</td>\n",
       "      <td>NaN</td>\n",
       "      <td>-0.574374</td>\n",
       "      <td>-0.507359</td>\n",
       "      <td>-0.133499</td>\n",
       "      <td>-0.112676</td>\n",
       "      <td>0.210063</td>\n",
       "      <td>NaN</td>\n",
       "      <td>1.000000</td>\n",
       "    </tr>\n",
       "  </tbody>\n",
       "</table>\n",
       "</div>"
      ],
      "text/plain": [
       "                       clusterId  Num.Rep.  SessionLength  Avg.Sess.  \\\n",
       "clusterId                    NaN       NaN            NaN        NaN   \n",
       "Num.Rep.                     NaN  1.000000      -0.071010  -0.107489   \n",
       "SessionLength                NaN -0.071010       1.000000   0.380336   \n",
       "Avg.Sess.                    NaN -0.107489       0.380336   1.000000   \n",
       "kWhDelivered                 NaN -0.130661       0.349359   0.227223   \n",
       "Avg.Cons.                    NaN -0.040154       0.288598   0.773066   \n",
       "siteId                       NaN       NaN            NaN        NaN   \n",
       "temperature                  NaN -0.005883      -0.315319  -0.835803   \n",
       "Avg. Humidity                NaN  0.000890      -0.303165  -0.863568   \n",
       "Avg Wind Speed(mph)          NaN  0.082359      -0.081812  -0.266609   \n",
       "Wind Bearing(degrees)        NaN -0.102735       0.114141   0.276224   \n",
       "Visibility(km)               NaN -0.177679       0.003940  -0.143602   \n",
       "Loud Cover                   NaN       NaN            NaN        NaN   \n",
       "Pressure(millibar)           NaN -0.118644       0.259002   0.485590   \n",
       "\n",
       "                       kWhDelivered  Avg.Cons.  siteId  temperature  \\\n",
       "clusterId                       NaN        NaN     NaN          NaN   \n",
       "Num.Rep.                  -0.130661  -0.040154     NaN    -0.005883   \n",
       "SessionLength              0.349359   0.288598     NaN    -0.315319   \n",
       "Avg.Sess.                  0.227223   0.773066     NaN    -0.835803   \n",
       "kWhDelivered               1.000000   0.231452     NaN    -0.262378   \n",
       "Avg.Cons.                  0.231452   1.000000     NaN    -0.698765   \n",
       "siteId                          NaN        NaN     NaN          NaN   \n",
       "temperature               -0.262378  -0.698765     NaN     1.000000   \n",
       "Avg. Humidity             -0.233600  -0.849067     NaN     0.850414   \n",
       "Avg Wind Speed(mph)       -0.025725  -0.548857     NaN     0.100510   \n",
       "Wind Bearing(degrees)     -0.099936   0.087399     NaN    -0.046195   \n",
       "Visibility(km)             0.078063  -0.116635     NaN     0.259534   \n",
       "Loud Cover                      NaN        NaN     NaN          NaN   \n",
       "Pressure(millibar)         0.249317   0.415482     NaN    -0.574374   \n",
       "\n",
       "                       Avg. Humidity  Avg Wind Speed(mph)  \\\n",
       "clusterId                        NaN                  NaN   \n",
       "Num.Rep.                    0.000890             0.082359   \n",
       "SessionLength              -0.303165            -0.081812   \n",
       "Avg.Sess.                  -0.863568            -0.266609   \n",
       "kWhDelivered               -0.233600            -0.025725   \n",
       "Avg.Cons.                  -0.849067            -0.548857   \n",
       "siteId                           NaN                  NaN   \n",
       "temperature                 0.850414             0.100510   \n",
       "Avg. Humidity               1.000000             0.396623   \n",
       "Avg Wind Speed(mph)         0.396623             1.000000   \n",
       "Wind Bearing(degrees)      -0.181635            -0.256970   \n",
       "Visibility(km)              0.109862            -0.121604   \n",
       "Loud Cover                       NaN                  NaN   \n",
       "Pressure(millibar)         -0.507359            -0.133499   \n",
       "\n",
       "                       Wind Bearing(degrees)  Visibility(km)  Loud Cover  \\\n",
       "clusterId                                NaN             NaN         NaN   \n",
       "Num.Rep.                           -0.102735       -0.177679         NaN   \n",
       "SessionLength                       0.114141        0.003940         NaN   \n",
       "Avg.Sess.                           0.276224       -0.143602         NaN   \n",
       "kWhDelivered                       -0.099936        0.078063         NaN   \n",
       "Avg.Cons.                           0.087399       -0.116635         NaN   \n",
       "siteId                                   NaN             NaN         NaN   \n",
       "temperature                        -0.046195        0.259534         NaN   \n",
       "Avg. Humidity                      -0.181635        0.109862         NaN   \n",
       "Avg Wind Speed(mph)                -0.256970       -0.121604         NaN   \n",
       "Wind Bearing(degrees)               1.000000       -0.049020         NaN   \n",
       "Visibility(km)                     -0.049020        1.000000         NaN   \n",
       "Loud Cover                               NaN             NaN         NaN   \n",
       "Pressure(millibar)                 -0.112676        0.210063         NaN   \n",
       "\n",
       "                       Pressure(millibar)  \n",
       "clusterId                             NaN  \n",
       "Num.Rep.                        -0.118644  \n",
       "SessionLength                    0.259002  \n",
       "Avg.Sess.                        0.485590  \n",
       "kWhDelivered                     0.249317  \n",
       "Avg.Cons.                        0.415482  \n",
       "siteId                                NaN  \n",
       "temperature                     -0.574374  \n",
       "Avg. Humidity                   -0.507359  \n",
       "Avg Wind Speed(mph)             -0.133499  \n",
       "Wind Bearing(degrees)           -0.112676  \n",
       "Visibility(km)                   0.210063  \n",
       "Loud Cover                            NaN  \n",
       "Pressure(millibar)               1.000000  "
      ]
     },
     "execution_count": 10,
     "metadata": {},
     "output_type": "execute_result"
    }
   ],
   "source": [
    "ev.corr()"
   ]
  },
  {
   "cell_type": "code",
   "execution_count": 11,
   "id": "8fdd5e19",
   "metadata": {},
   "outputs": [
    {
     "name": "stderr",
     "output_type": "stream",
     "text": [
      "C:\\Users\\Himani\\AppData\\Local\\Temp\\ipykernel_18000\\3648164053.py:1: UserWarning: \n",
      "\n",
      "`distplot` is a deprecated function and will be removed in seaborn v0.14.0.\n",
      "\n",
      "Please adapt your code to use either `displot` (a figure-level function with\n",
      "similar flexibility) or `histplot` (an axes-level function for histograms).\n",
      "\n",
      "For a guide to updating your code to use the new functions, please see\n",
      "https://gist.github.com/mwaskom/de44147ed2974457ad6372750bbe5751\n",
      "\n",
      "  sns.distplot(ev['kWhDelivered'],color='pink')\n"
     ]
    },
    {
     "data": {
      "text/plain": [
       "<Axes: xlabel='kWhDelivered', ylabel='Density'>"
      ]
     },
     "execution_count": 11,
     "metadata": {},
     "output_type": "execute_result"
    },
    {
     "data": {
      "image/png": "[encoded data removed]",
      "text/plain": [
       "<Figure size 640x480 with 1 Axes>"
      ]
     },
     "metadata": {},
     "output_type": "display_data"
    }
   ],
   "source": [
    "sns.distplot(ev['kWhDelivered'],color='pink')"
   ]
  },
  {
   "cell_type": "code",
   "execution_count": 12,
   "id": "aa24a704",
   "metadata": {},
   "outputs": [
    {
     "name": "stdout",
     "output_type": "stream",
     "text": [
      "clusterId                     NaN\n",
      "Num.Rep.                -0.130661\n",
      "SessionLength            0.349359\n",
      "Avg.Sess.                0.227223\n",
      "kWhDelivered             1.000000\n",
      "Avg.Cons.                0.231452\n",
      "siteId                        NaN\n",
      "temperature             -0.262378\n",
      "Avg. Humidity           -0.233600\n",
      "Avg Wind Speed(mph)     -0.025725\n",
      "Wind Bearing(degrees)   -0.099936\n",
      "Visibility(km)           0.078063\n",
      "Loud Cover                    NaN\n",
      "Pressure(millibar)       0.249317\n",
      "Name: kWhDelivered, dtype: float64\n"
     ]
    },
    {
     "name": "stderr",
     "output_type": "stream",
     "text": [
      "C:\\Users\\Himani\\AppData\\Local\\Temp\\ipykernel_18000\\970396222.py:1: FutureWarning: The default value of numeric_only in DataFrame.corr is deprecated. In a future version, it will default to False. Select only valid columns or specify the value of numeric_only to silence this warning.\n",
      "  correlation = ev.corr()\n"
     ]
    }
   ],
   "source": [
    "correlation = ev.corr()\n",
    "print(correlation['kWhDelivered'])"
   ]
  },
  {
   "cell_type": "code",
   "execution_count": 13,
   "id": "42eba413",
   "metadata": {},
   "outputs": [],
   "source": [
    "ev.drop(['id','clusterId','connectionTime','sessionId','spaceID','stationID','disconnectTime','siteId','donechargingTime','timezone','Precip Type','Loud Cover'],axis=1,inplace=True)"
   ]
  },
  {
   "cell_type": "code",
   "execution_count": 14,
   "id": "215789d8",
   "metadata": {},
   "outputs": [
    {
     "data": {
      "text/html": [
       "<div>\n",
       "<style scoped>\n",
       "    .dataframe tbody tr th:only-of-type {\n",
       "        vertical-align: middle;\n",
       "    }\n",
       "\n",
       "    .dataframe tbody tr th {\n",
       "        vertical-align: top;\n",
       "    }\n",
       "\n",
       "    .dataframe thead th {\n",
       "        text-align: right;\n",
       "    }\n",
       "</style>\n",
       "<table border=\"1\" class=\"dataframe\">\n",
       "  <thead>\n",
       "    <tr style=\"text-align: right;\">\n",
       "      <th></th>\n",
       "      <th>Num.Rep.</th>\n",
       "      <th>SessionLength</th>\n",
       "      <th>Avg.Sess.</th>\n",
       "      <th>kWhDelivered</th>\n",
       "      <th>Avg.Cons.</th>\n",
       "      <th>temperature</th>\n",
       "      <th>Avg. Humidity</th>\n",
       "      <th>Avg Wind Speed(mph)</th>\n",
       "      <th>Wind Bearing(degrees)</th>\n",
       "      <th>Visibility(km)</th>\n",
       "      <th>Pressure(millibar)</th>\n",
       "    </tr>\n",
       "  </thead>\n",
       "  <tbody>\n",
       "    <tr>\n",
       "      <th>0</th>\n",
       "      <td>11.13</td>\n",
       "      <td>2.20</td>\n",
       "      <td>3.55</td>\n",
       "      <td>7.93</td>\n",
       "      <td>6.44</td>\n",
       "      <td>24.37</td>\n",
       "      <td>34.85</td>\n",
       "      <td>13.54</td>\n",
       "      <td>300</td>\n",
       "      <td>9.9</td>\n",
       "      <td>1004.55</td>\n",
       "    </tr>\n",
       "    <tr>\n",
       "      <th>1</th>\n",
       "      <td>13.75</td>\n",
       "      <td>11.19</td>\n",
       "      <td>3.55</td>\n",
       "      <td>10.01</td>\n",
       "      <td>6.44</td>\n",
       "      <td>24.37</td>\n",
       "      <td>34.85</td>\n",
       "      <td>13.54</td>\n",
       "      <td>300</td>\n",
       "      <td>9.9</td>\n",
       "      <td>1004.55</td>\n",
       "    </tr>\n",
       "    <tr>\n",
       "      <th>2</th>\n",
       "      <td>13.76</td>\n",
       "      <td>10.33</td>\n",
       "      <td>3.54</td>\n",
       "      <td>5.26</td>\n",
       "      <td>6.44</td>\n",
       "      <td>24.37</td>\n",
       "      <td>34.85</td>\n",
       "      <td>13.54</td>\n",
       "      <td>300</td>\n",
       "      <td>9.9</td>\n",
       "      <td>1004.55</td>\n",
       "    </tr>\n",
       "    <tr>\n",
       "      <th>3</th>\n",
       "      <td>14.62</td>\n",
       "      <td>9.31</td>\n",
       "      <td>3.55</td>\n",
       "      <td>5.18</td>\n",
       "      <td>6.44</td>\n",
       "      <td>24.37</td>\n",
       "      <td>34.85</td>\n",
       "      <td>13.54</td>\n",
       "      <td>300</td>\n",
       "      <td>9.9</td>\n",
       "      <td>1004.55</td>\n",
       "    </tr>\n",
       "    <tr>\n",
       "      <th>4</th>\n",
       "      <td>14.68</td>\n",
       "      <td>8.38</td>\n",
       "      <td>3.55</td>\n",
       "      <td>10.12</td>\n",
       "      <td>6.44</td>\n",
       "      <td>24.37</td>\n",
       "      <td>34.85</td>\n",
       "      <td>13.54</td>\n",
       "      <td>300</td>\n",
       "      <td>9.9</td>\n",
       "      <td>1004.55</td>\n",
       "    </tr>\n",
       "    <tr>\n",
       "      <th>...</th>\n",
       "      <td>...</td>\n",
       "      <td>...</td>\n",
       "      <td>...</td>\n",
       "      <td>...</td>\n",
       "      <td>...</td>\n",
       "      <td>...</td>\n",
       "      <td>...</td>\n",
       "      <td>...</td>\n",
       "      <td>...</td>\n",
       "      <td>...</td>\n",
       "      <td>...</td>\n",
       "    </tr>\n",
       "    <tr>\n",
       "      <th>1194</th>\n",
       "      <td>16.00</td>\n",
       "      <td>3.22</td>\n",
       "      <td>2.57</td>\n",
       "      <td>1.82</td>\n",
       "      <td>3.62</td>\n",
       "      <td>35.98</td>\n",
       "      <td>40.55</td>\n",
       "      <td>10.35</td>\n",
       "      <td>305</td>\n",
       "      <td>16.1</td>\n",
       "      <td>1005.18</td>\n",
       "    </tr>\n",
       "    <tr>\n",
       "      <th>1195</th>\n",
       "      <td>19.00</td>\n",
       "      <td>1.51</td>\n",
       "      <td>2.41</td>\n",
       "      <td>4.73</td>\n",
       "      <td>4.07</td>\n",
       "      <td>35.98</td>\n",
       "      <td>40.55</td>\n",
       "      <td>10.35</td>\n",
       "      <td>305</td>\n",
       "      <td>16.1</td>\n",
       "      <td>1005.18</td>\n",
       "    </tr>\n",
       "    <tr>\n",
       "      <th>1196</th>\n",
       "      <td>12.00</td>\n",
       "      <td>3.28</td>\n",
       "      <td>2.70</td>\n",
       "      <td>3.69</td>\n",
       "      <td>3.85</td>\n",
       "      <td>35.98</td>\n",
       "      <td>40.55</td>\n",
       "      <td>10.35</td>\n",
       "      <td>305</td>\n",
       "      <td>17.3</td>\n",
       "      <td>1005.18</td>\n",
       "    </tr>\n",
       "    <tr>\n",
       "      <th>1197</th>\n",
       "      <td>13.00</td>\n",
       "      <td>1.89</td>\n",
       "      <td>2.42</td>\n",
       "      <td>3.82</td>\n",
       "      <td>3.93</td>\n",
       "      <td>35.98</td>\n",
       "      <td>40.55</td>\n",
       "      <td>10.35</td>\n",
       "      <td>305</td>\n",
       "      <td>17.3</td>\n",
       "      <td>1005.18</td>\n",
       "    </tr>\n",
       "    <tr>\n",
       "      <th>1198</th>\n",
       "      <td>12.00</td>\n",
       "      <td>2.95</td>\n",
       "      <td>2.95</td>\n",
       "      <td>4.03</td>\n",
       "      <td>4.03</td>\n",
       "      <td>35.98</td>\n",
       "      <td>40.55</td>\n",
       "      <td>10.35</td>\n",
       "      <td>305</td>\n",
       "      <td>17.3</td>\n",
       "      <td>1005.18</td>\n",
       "    </tr>\n",
       "  </tbody>\n",
       "</table>\n",
       "<p>1199 rows × 11 columns</p>\n",
       "</div>"
      ],
      "text/plain": [
       "      Num.Rep.  SessionLength  Avg.Sess.  kWhDelivered  Avg.Cons.  \\\n",
       "0        11.13           2.20       3.55          7.93       6.44   \n",
       "1        13.75          11.19       3.55         10.01       6.44   \n",
       "2        13.76          10.33       3.54          5.26       6.44   \n",
       "3        14.62           9.31       3.55          5.18       6.44   \n",
       "4        14.68           8.38       3.55         10.12       6.44   \n",
       "...        ...            ...        ...           ...        ...   \n",
       "1194     16.00           3.22       2.57          1.82       3.62   \n",
       "1195     19.00           1.51       2.41          4.73       4.07   \n",
       "1196     12.00           3.28       2.70          3.69       3.85   \n",
       "1197     13.00           1.89       2.42          3.82       3.93   \n",
       "1198     12.00           2.95       2.95          4.03       4.03   \n",
       "\n",
       "      temperature  Avg. Humidity  Avg Wind Speed(mph)  Wind Bearing(degrees)  \\\n",
       "0           24.37          34.85                13.54                    300   \n",
       "1           24.37          34.85                13.54                    300   \n",
       "2           24.37          34.85                13.54                    300   \n",
       "3           24.37          34.85                13.54                    300   \n",
       "4           24.37          34.85                13.54                    300   \n",
       "...           ...            ...                  ...                    ...   \n",
       "1194        35.98          40.55                10.35                    305   \n",
       "1195        35.98          40.55                10.35                    305   \n",
       "1196        35.98          40.55                10.35                    305   \n",
       "1197        35.98          40.55                10.35                    305   \n",
       "1198        35.98          40.55                10.35                    305   \n",
       "\n",
       "      Visibility(km)  Pressure(millibar)  \n",
       "0                9.9             1004.55  \n",
       "1                9.9             1004.55  \n",
       "2                9.9             1004.55  \n",
       "3                9.9             1004.55  \n",
       "4                9.9             1004.55  \n",
       "...              ...                 ...  \n",
       "1194            16.1             1005.18  \n",
       "1195            16.1             1005.18  \n",
       "1196            17.3             1005.18  \n",
       "1197            17.3             1005.18  \n",
       "1198            17.3             1005.18  \n",
       "\n",
       "[1199 rows x 11 columns]"
      ]
     },
     "execution_count": 14,
     "metadata": {},
     "output_type": "execute_result"
    }
   ],
   "source": [
    "ev"
   ]
  },
  {
   "cell_type": "code",
   "execution_count": 15,
   "id": "866ba2f8",
   "metadata": {},
   "outputs": [
    {
     "data": {
      "text/plain": [
       "<Axes: >"
      ]
     },
     "execution_count": 15,
     "metadata": {},
     "output_type": "execute_result"
    },
    {
     "data": {
      "image/png": "[encoded data removed]",
      "text/plain": [
       "<Figure size 640x480 with 1 Axes>"
      ]
     },
     "metadata": {},
     "output_type": "display_data"
    }
   ],
   "source": [
    "#Boxplot\n",
    "sns.boxplot(ev['kWhDelivered'])"
   ]
  },
  {
   "cell_type": "code",
   "execution_count": 16,
   "id": "ee235ffc",
   "metadata": {},
   "outputs": [
    {
     "name": "stderr",
     "output_type": "stream",
     "text": [
      "C:\\Users\\Himani\\AppData\\Local\\Programs\\Python\\Python311\\Lib\\site-packages\\sklearn\\base.py:439: UserWarning: X does not have valid feature names, but IsolationForest was fitted with feature names\n",
      "  warnings.warn(\n"
     ]
    },
    {
     "data": {
      "text/html": [
       "<style>#sk-container-id-1 {color: black;background-color: white;}#sk-container-id-1 pre{padding: 0;}#sk-container-id-1 div.sk-toggleable {background-color: white;}#sk-container-id-1 label.sk-toggleable__label {cursor: pointer;display: block;width: 100%;margin-bottom: 0;padding: 0.3em;box-sizing: border-box;text-align: center;}#sk-container-id-1 label.sk-toggleable__label-arrow:before {content: \"▸\";float: left;margin-right: 0.25em;color: #696969;}#sk-container-id-1 label.sk-toggleable__label-arrow:hover:before {color: black;}#sk-container-id-1 div.sk-estimator:hover label.sk-toggleable__label-arrow:before {color: black;}#sk-container-id-1 div.sk-toggleable__content {max-height: 0;max-width: 0;overflow: hidden;text-align: left;background-color: #f0f8ff;}#sk-container-id-1 div.sk-toggleable__content pre {margin: 0.2em;color: black;border-radius: 0.25em;background-color: #f0f8ff;}#sk-container-id-1 input.sk-toggleable__control:checked~div.sk-toggleable__content {max-height: 200px;max-width: 100%;overflow: auto;}#sk-container-id-1 input.sk-toggleable__control:checked~label.sk-toggleable__label-arrow:before {content: \"▾\";}#sk-container-id-1 div.sk-estimator input.sk-toggleable__control:checked~label.sk-toggleable__label {background-color: #d4ebff;}#sk-container-id-1 div.sk-label input.sk-toggleable__control:checked~label.sk-toggleable__label {background-color: #d4ebff;}#sk-container-id-1 input.sk-hidden--visually {border: 0;clip: rect(1px 1px 1px 1px);clip: rect(1px, 1px, 1px, 1px);height: 1px;margin: -1px;overflow: hidden;padding: 0;position: absolute;width: 1px;}#sk-container-id-1 div.sk-estimator {font-family: monospace;background-color: #f0f8ff;border: 1px dotted black;border-radius: 0.25em;box-sizing: border-box;margin-bottom: 0.5em;}#sk-container-id-1 div.sk-estimator:hover {background-color: #d4ebff;}#sk-container-id-1 div.sk-parallel-item::after {content: \"\";width: 100%;border-bottom: 1px solid gray;flex-grow: 1;}#sk-container-id-1 div.sk-label:hover label.sk-toggleable__label {background-color: #d4ebff;}#sk-container-id-1 div.sk-serial::before {content: \"\";position: absolute;border-left: 1px solid gray;box-sizing: border-box;top: 0;bottom: 0;left: 50%;z-index: 0;}#sk-container-id-1 div.sk-serial {display: flex;flex-direction: column;align-items: center;background-color: white;padding-right: 0.2em;padding-left: 0.2em;position: relative;}#sk-container-id-1 div.sk-item {position: relative;z-index: 1;}#sk-container-id-1 div.sk-parallel {display: flex;align-items: stretch;justify-content: center;background-color: white;position: relative;}#sk-container-id-1 div.sk-item::before, #sk-container-id-1 div.sk-parallel-item::before {content: \"\";position: absolute;border-left: 1px solid gray;box-sizing: border-box;top: 0;bottom: 0;left: 50%;z-index: -1;}#sk-container-id-1 div.sk-parallel-item {display: flex;flex-direction: column;z-index: 1;position: relative;background-color: white;}#sk-container-id-1 div.sk-parallel-item:first-child::after {align-self: flex-end;width: 50%;}#sk-container-id-1 div.sk-parallel-item:last-child::after {align-self: flex-start;width: 50%;}#sk-container-id-1 div.sk-parallel-item:only-child::after {width: 0;}#sk-container-id-1 div.sk-dashed-wrapped {border: 1px dashed gray;margin: 0 0.4em 0.5em 0.4em;box-sizing: border-box;padding-bottom: 0.4em;background-color: white;}#sk-container-id-1 div.sk-label label {font-family: monospace;font-weight: bold;display: inline-block;line-height: 1.2em;}#sk-container-id-1 div.sk-label-container {text-align: center;}#sk-container-id-1 div.sk-container {/* jupyter's `normalize.less` sets `[hidden] { display: none; }` but bootstrap.min.css set `[hidden] { display: none !important; }` so we also need the `!important` here to be able to override the default hidden behavior on the sphinx rendered scikit-learn.org. See: https://github.com/scikit-learn/scikit-learn/issues/21755 */display: inline-block !important;position: relative;}#sk-container-id-1 div.sk-text-repr-fallback {display: none;}</style><div id=\"sk-container-id-1\" class=\"sk-top-container\"><div class=\"sk-text-repr-fallback\"><pre>IsolationForest(contamination=0.04, n_estimators=500)</pre><b>In a Jupyter environment, please rerun this cell to show the HTML representation or trust the notebook. <br />On GitHub, the HTML representation is unable to render, please try loading this page with nbviewer.org.</b></div><div class=\"sk-container\" hidden><div class=\"sk-item\"><div class=\"sk-estimator sk-toggleable\"><input class=\"sk-toggleable__control sk-hidden--visually\" id=\"sk-estimator-id-1\" type=\"checkbox\" checked><label for=\"sk-estimator-id-1\" class=\"sk-toggleable__label sk-toggleable__label-arrow\">IsolationForest</label><div class=\"sk-toggleable__content\"><pre>IsolationForest(contamination=0.04, n_estimators=500)</pre></div></div></div></div></div>"
      ],
      "text/plain": [
       "IsolationForest(contamination=0.04, n_estimators=500)"
      ]
     },
     "execution_count": 16,
     "metadata": {},
     "output_type": "execute_result"
    }
   ],
   "source": [
    "model=IsolationForest(n_estimators=500,max_samples='auto',contamination=0.04,max_features=1.0)\n",
    "model.fit(ev[['kWhDelivered']])"
   ]
  },
  {
   "cell_type": "code",
   "execution_count": 17,
   "id": "0ae06878",
   "metadata": {
    "scrolled": true
   },
   "outputs": [
    {
     "data": {
      "text/html": [
       "<div>\n",
       "<style scoped>\n",
       "    .dataframe tbody tr th:only-of-type {\n",
       "        vertical-align: middle;\n",
       "    }\n",
       "\n",
       "    .dataframe tbody tr th {\n",
       "        vertical-align: top;\n",
       "    }\n",
       "\n",
       "    .dataframe thead th {\n",
       "        text-align: right;\n",
       "    }\n",
       "</style>\n",
       "<table border=\"1\" class=\"dataframe\">\n",
       "  <thead>\n",
       "    <tr style=\"text-align: right;\">\n",
       "      <th></th>\n",
       "      <th>Num.Rep.</th>\n",
       "      <th>SessionLength</th>\n",
       "      <th>Avg.Sess.</th>\n",
       "      <th>kWhDelivered</th>\n",
       "      <th>Avg.Cons.</th>\n",
       "      <th>temperature</th>\n",
       "      <th>Avg. Humidity</th>\n",
       "      <th>Avg Wind Speed(mph)</th>\n",
       "      <th>Wind Bearing(degrees)</th>\n",
       "      <th>Visibility(km)</th>\n",
       "      <th>Pressure(millibar)</th>\n",
       "      <th>newkWh</th>\n",
       "      <th>anomaly</th>\n",
       "    </tr>\n",
       "  </thead>\n",
       "  <tbody>\n",
       "    <tr>\n",
       "      <th>0</th>\n",
       "      <td>11.13</td>\n",
       "      <td>2.20</td>\n",
       "      <td>3.55</td>\n",
       "      <td>7.93</td>\n",
       "      <td>6.44</td>\n",
       "      <td>24.37</td>\n",
       "      <td>34.85</td>\n",
       "      <td>13.54</td>\n",
       "      <td>300</td>\n",
       "      <td>9.9</td>\n",
       "      <td>1004.55</td>\n",
       "      <td>0.136464</td>\n",
       "      <td>1</td>\n",
       "    </tr>\n",
       "    <tr>\n",
       "      <th>1</th>\n",
       "      <td>13.75</td>\n",
       "      <td>11.19</td>\n",
       "      <td>3.55</td>\n",
       "      <td>10.01</td>\n",
       "      <td>6.44</td>\n",
       "      <td>24.37</td>\n",
       "      <td>34.85</td>\n",
       "      <td>13.54</td>\n",
       "      <td>300</td>\n",
       "      <td>9.9</td>\n",
       "      <td>1004.55</td>\n",
       "      <td>0.078767</td>\n",
       "      <td>1</td>\n",
       "    </tr>\n",
       "    <tr>\n",
       "      <th>2</th>\n",
       "      <td>13.76</td>\n",
       "      <td>10.33</td>\n",
       "      <td>3.54</td>\n",
       "      <td>5.26</td>\n",
       "      <td>6.44</td>\n",
       "      <td>24.37</td>\n",
       "      <td>34.85</td>\n",
       "      <td>13.54</td>\n",
       "      <td>300</td>\n",
       "      <td>9.9</td>\n",
       "      <td>1004.55</td>\n",
       "      <td>0.182090</td>\n",
       "      <td>1</td>\n",
       "    </tr>\n",
       "    <tr>\n",
       "      <th>3</th>\n",
       "      <td>14.62</td>\n",
       "      <td>9.31</td>\n",
       "      <td>3.55</td>\n",
       "      <td>5.18</td>\n",
       "      <td>6.44</td>\n",
       "      <td>24.37</td>\n",
       "      <td>34.85</td>\n",
       "      <td>13.54</td>\n",
       "      <td>300</td>\n",
       "      <td>9.9</td>\n",
       "      <td>1004.55</td>\n",
       "      <td>0.180543</td>\n",
       "      <td>1</td>\n",
       "    </tr>\n",
       "    <tr>\n",
       "      <th>4</th>\n",
       "      <td>14.68</td>\n",
       "      <td>8.38</td>\n",
       "      <td>3.55</td>\n",
       "      <td>10.12</td>\n",
       "      <td>6.44</td>\n",
       "      <td>24.37</td>\n",
       "      <td>34.85</td>\n",
       "      <td>13.54</td>\n",
       "      <td>300</td>\n",
       "      <td>9.9</td>\n",
       "      <td>1004.55</td>\n",
       "      <td>0.079217</td>\n",
       "      <td>1</td>\n",
       "    </tr>\n",
       "    <tr>\n",
       "      <th>5</th>\n",
       "      <td>14.73</td>\n",
       "      <td>10.56</td>\n",
       "      <td>3.54</td>\n",
       "      <td>7.91</td>\n",
       "      <td>6.44</td>\n",
       "      <td>24.37</td>\n",
       "      <td>34.85</td>\n",
       "      <td>13.54</td>\n",
       "      <td>300</td>\n",
       "      <td>9.9</td>\n",
       "      <td>1004.55</td>\n",
       "      <td>0.139012</td>\n",
       "      <td>1</td>\n",
       "    </tr>\n",
       "    <tr>\n",
       "      <th>6</th>\n",
       "      <td>14.80</td>\n",
       "      <td>3.67</td>\n",
       "      <td>3.54</td>\n",
       "      <td>15.29</td>\n",
       "      <td>6.44</td>\n",
       "      <td>24.37</td>\n",
       "      <td>34.85</td>\n",
       "      <td>13.54</td>\n",
       "      <td>300</td>\n",
       "      <td>9.9</td>\n",
       "      <td>1004.55</td>\n",
       "      <td>0.033658</td>\n",
       "      <td>1</td>\n",
       "    </tr>\n",
       "    <tr>\n",
       "      <th>7</th>\n",
       "      <td>14.97</td>\n",
       "      <td>4.13</td>\n",
       "      <td>3.53</td>\n",
       "      <td>6.95</td>\n",
       "      <td>6.43</td>\n",
       "      <td>24.37</td>\n",
       "      <td>34.85</td>\n",
       "      <td>13.54</td>\n",
       "      <td>300</td>\n",
       "      <td>9.9</td>\n",
       "      <td>1004.55</td>\n",
       "      <td>0.210382</td>\n",
       "      <td>1</td>\n",
       "    </tr>\n",
       "    <tr>\n",
       "      <th>8</th>\n",
       "      <td>15.18</td>\n",
       "      <td>3.08</td>\n",
       "      <td>3.53</td>\n",
       "      <td>2.17</td>\n",
       "      <td>6.43</td>\n",
       "      <td>24.37</td>\n",
       "      <td>34.85</td>\n",
       "      <td>13.54</td>\n",
       "      <td>300</td>\n",
       "      <td>9.9</td>\n",
       "      <td>1004.55</td>\n",
       "      <td>0.132023</td>\n",
       "      <td>1</td>\n",
       "    </tr>\n",
       "    <tr>\n",
       "      <th>9</th>\n",
       "      <td>15.20</td>\n",
       "      <td>3.29</td>\n",
       "      <td>3.52</td>\n",
       "      <td>2.44</td>\n",
       "      <td>6.43</td>\n",
       "      <td>24.37</td>\n",
       "      <td>34.85</td>\n",
       "      <td>13.54</td>\n",
       "      <td>300</td>\n",
       "      <td>9.9</td>\n",
       "      <td>1004.55</td>\n",
       "      <td>0.139281</td>\n",
       "      <td>1</td>\n",
       "    </tr>\n",
       "  </tbody>\n",
       "</table>\n",
       "</div>"
      ],
      "text/plain": [
       "   Num.Rep.  SessionLength  Avg.Sess.  kWhDelivered  Avg.Cons.  temperature  \\\n",
       "0     11.13           2.20       3.55          7.93       6.44        24.37   \n",
       "1     13.75          11.19       3.55         10.01       6.44        24.37   \n",
       "2     13.76          10.33       3.54          5.26       6.44        24.37   \n",
       "3     14.62           9.31       3.55          5.18       6.44        24.37   \n",
       "4     14.68           8.38       3.55         10.12       6.44        24.37   \n",
       "5     14.73          10.56       3.54          7.91       6.44        24.37   \n",
       "6     14.80           3.67       3.54         15.29       6.44        24.37   \n",
       "7     14.97           4.13       3.53          6.95       6.43        24.37   \n",
       "8     15.18           3.08       3.53          2.17       6.43        24.37   \n",
       "9     15.20           3.29       3.52          2.44       6.43        24.37   \n",
       "\n",
       "   Avg. Humidity  Avg Wind Speed(mph)  Wind Bearing(degrees)  Visibility(km)  \\\n",
       "0          34.85                13.54                    300             9.9   \n",
       "1          34.85                13.54                    300             9.9   \n",
       "2          34.85                13.54                    300             9.9   \n",
       "3          34.85                13.54                    300             9.9   \n",
       "4          34.85                13.54                    300             9.9   \n",
       "5          34.85                13.54                    300             9.9   \n",
       "6          34.85                13.54                    300             9.9   \n",
       "7          34.85                13.54                    300             9.9   \n",
       "8          34.85                13.54                    300             9.9   \n",
       "9          34.85                13.54                    300             9.9   \n",
       "\n",
       "   Pressure(millibar)    newkWh  anomaly  \n",
       "0             1004.55  0.136464        1  \n",
       "1             1004.55  0.078767        1  \n",
       "2             1004.55  0.182090        1  \n",
       "3             1004.55  0.180543        1  \n",
       "4             1004.55  0.079217        1  \n",
       "5             1004.55  0.139012        1  \n",
       "6             1004.55  0.033658        1  \n",
       "7             1004.55  0.210382        1  \n",
       "8             1004.55  0.132023        1  \n",
       "9             1004.55  0.139281        1  "
      ]
     },
     "execution_count": 17,
     "metadata": {},
     "output_type": "execute_result"
    }
   ],
   "source": [
    "ev['newkWh']=model.decision_function(ev[['kWhDelivered']])\n",
    "ev['anomaly']=model.predict(ev[['kWhDelivered']])\n",
    "ev.head(10)"
   ]
  },
  {
   "cell_type": "code",
   "execution_count": 18,
   "id": "e20d1c33",
   "metadata": {},
   "outputs": [
    {
     "data": {
      "text/plain": [
       "48"
      ]
     },
     "execution_count": 18,
     "metadata": {},
     "output_type": "execute_result"
    }
   ],
   "source": [
    "outliers_counter = len(ev[ev['anomaly'] == -1])\n",
    "outliers_counter   "
   ]
  },
  {
   "cell_type": "code",
   "execution_count": 19,
   "id": "7d97e7db",
   "metadata": {},
   "outputs": [],
   "source": [
    "ev_data = ev[(ev['kWhDelivered'] <=17)]"
   ]
  },
  {
   "cell_type": "code",
   "execution_count": 20,
   "id": "e1e2438a",
   "metadata": {},
   "outputs": [
    {
     "data": {
      "text/html": [
       "<div>\n",
       "<style scoped>\n",
       "    .dataframe tbody tr th:only-of-type {\n",
       "        vertical-align: middle;\n",
       "    }\n",
       "\n",
       "    .dataframe tbody tr th {\n",
       "        vertical-align: top;\n",
       "    }\n",
       "\n",
       "    .dataframe thead th {\n",
       "        text-align: right;\n",
       "    }\n",
       "</style>\n",
       "<table border=\"1\" class=\"dataframe\">\n",
       "  <thead>\n",
       "    <tr style=\"text-align: right;\">\n",
       "      <th></th>\n",
       "      <th>Num.Rep.</th>\n",
       "      <th>SessionLength</th>\n",
       "      <th>Avg.Sess.</th>\n",
       "      <th>kWhDelivered</th>\n",
       "      <th>Avg.Cons.</th>\n",
       "      <th>temperature</th>\n",
       "      <th>Avg. Humidity</th>\n",
       "      <th>Avg Wind Speed(mph)</th>\n",
       "      <th>Wind Bearing(degrees)</th>\n",
       "      <th>Visibility(km)</th>\n",
       "      <th>Pressure(millibar)</th>\n",
       "      <th>newkWh</th>\n",
       "      <th>anomaly</th>\n",
       "    </tr>\n",
       "  </thead>\n",
       "  <tbody>\n",
       "    <tr>\n",
       "      <th>0</th>\n",
       "      <td>11.13</td>\n",
       "      <td>2.20</td>\n",
       "      <td>3.55</td>\n",
       "      <td>7.93</td>\n",
       "      <td>6.44</td>\n",
       "      <td>24.37</td>\n",
       "      <td>34.85</td>\n",
       "      <td>13.54</td>\n",
       "      <td>300</td>\n",
       "      <td>9.9</td>\n",
       "      <td>1004.55</td>\n",
       "      <td>0.136464</td>\n",
       "      <td>1</td>\n",
       "    </tr>\n",
       "    <tr>\n",
       "      <th>1</th>\n",
       "      <td>13.75</td>\n",
       "      <td>11.19</td>\n",
       "      <td>3.55</td>\n",
       "      <td>10.01</td>\n",
       "      <td>6.44</td>\n",
       "      <td>24.37</td>\n",
       "      <td>34.85</td>\n",
       "      <td>13.54</td>\n",
       "      <td>300</td>\n",
       "      <td>9.9</td>\n",
       "      <td>1004.55</td>\n",
       "      <td>0.078767</td>\n",
       "      <td>1</td>\n",
       "    </tr>\n",
       "    <tr>\n",
       "      <th>2</th>\n",
       "      <td>13.76</td>\n",
       "      <td>10.33</td>\n",
       "      <td>3.54</td>\n",
       "      <td>5.26</td>\n",
       "      <td>6.44</td>\n",
       "      <td>24.37</td>\n",
       "      <td>34.85</td>\n",
       "      <td>13.54</td>\n",
       "      <td>300</td>\n",
       "      <td>9.9</td>\n",
       "      <td>1004.55</td>\n",
       "      <td>0.182090</td>\n",
       "      <td>1</td>\n",
       "    </tr>\n",
       "    <tr>\n",
       "      <th>3</th>\n",
       "      <td>14.62</td>\n",
       "      <td>9.31</td>\n",
       "      <td>3.55</td>\n",
       "      <td>5.18</td>\n",
       "      <td>6.44</td>\n",
       "      <td>24.37</td>\n",
       "      <td>34.85</td>\n",
       "      <td>13.54</td>\n",
       "      <td>300</td>\n",
       "      <td>9.9</td>\n",
       "      <td>1004.55</td>\n",
       "      <td>0.180543</td>\n",
       "      <td>1</td>\n",
       "    </tr>\n",
       "    <tr>\n",
       "      <th>4</th>\n",
       "      <td>14.68</td>\n",
       "      <td>8.38</td>\n",
       "      <td>3.55</td>\n",
       "      <td>10.12</td>\n",
       "      <td>6.44</td>\n",
       "      <td>24.37</td>\n",
       "      <td>34.85</td>\n",
       "      <td>13.54</td>\n",
       "      <td>300</td>\n",
       "      <td>9.9</td>\n",
       "      <td>1004.55</td>\n",
       "      <td>0.079217</td>\n",
       "      <td>1</td>\n",
       "    </tr>\n",
       "    <tr>\n",
       "      <th>...</th>\n",
       "      <td>...</td>\n",
       "      <td>...</td>\n",
       "      <td>...</td>\n",
       "      <td>...</td>\n",
       "      <td>...</td>\n",
       "      <td>...</td>\n",
       "      <td>...</td>\n",
       "      <td>...</td>\n",
       "      <td>...</td>\n",
       "      <td>...</td>\n",
       "      <td>...</td>\n",
       "      <td>...</td>\n",
       "      <td>...</td>\n",
       "    </tr>\n",
       "    <tr>\n",
       "      <th>1194</th>\n",
       "      <td>16.00</td>\n",
       "      <td>3.22</td>\n",
       "      <td>2.57</td>\n",
       "      <td>1.82</td>\n",
       "      <td>3.62</td>\n",
       "      <td>35.98</td>\n",
       "      <td>40.55</td>\n",
       "      <td>10.35</td>\n",
       "      <td>305</td>\n",
       "      <td>16.1</td>\n",
       "      <td>1005.18</td>\n",
       "      <td>0.117263</td>\n",
       "      <td>1</td>\n",
       "    </tr>\n",
       "    <tr>\n",
       "      <th>1195</th>\n",
       "      <td>19.00</td>\n",
       "      <td>1.51</td>\n",
       "      <td>2.41</td>\n",
       "      <td>4.73</td>\n",
       "      <td>4.07</td>\n",
       "      <td>35.98</td>\n",
       "      <td>40.55</td>\n",
       "      <td>10.35</td>\n",
       "      <td>305</td>\n",
       "      <td>16.1</td>\n",
       "      <td>1005.18</td>\n",
       "      <td>0.181264</td>\n",
       "      <td>1</td>\n",
       "    </tr>\n",
       "    <tr>\n",
       "      <th>1196</th>\n",
       "      <td>12.00</td>\n",
       "      <td>3.28</td>\n",
       "      <td>2.70</td>\n",
       "      <td>3.69</td>\n",
       "      <td>3.85</td>\n",
       "      <td>35.98</td>\n",
       "      <td>40.55</td>\n",
       "      <td>10.35</td>\n",
       "      <td>305</td>\n",
       "      <td>17.3</td>\n",
       "      <td>1005.18</td>\n",
       "      <td>0.176175</td>\n",
       "      <td>1</td>\n",
       "    </tr>\n",
       "    <tr>\n",
       "      <th>1197</th>\n",
       "      <td>13.00</td>\n",
       "      <td>1.89</td>\n",
       "      <td>2.42</td>\n",
       "      <td>3.82</td>\n",
       "      <td>3.93</td>\n",
       "      <td>35.98</td>\n",
       "      <td>40.55</td>\n",
       "      <td>10.35</td>\n",
       "      <td>305</td>\n",
       "      <td>17.3</td>\n",
       "      <td>1005.18</td>\n",
       "      <td>0.179620</td>\n",
       "      <td>1</td>\n",
       "    </tr>\n",
       "    <tr>\n",
       "      <th>1198</th>\n",
       "      <td>12.00</td>\n",
       "      <td>2.95</td>\n",
       "      <td>2.95</td>\n",
       "      <td>4.03</td>\n",
       "      <td>4.03</td>\n",
       "      <td>35.98</td>\n",
       "      <td>40.55</td>\n",
       "      <td>10.35</td>\n",
       "      <td>305</td>\n",
       "      <td>17.3</td>\n",
       "      <td>1005.18</td>\n",
       "      <td>0.178507</td>\n",
       "      <td>1</td>\n",
       "    </tr>\n",
       "  </tbody>\n",
       "</table>\n",
       "<p>1164 rows × 13 columns</p>\n",
       "</div>"
      ],
      "text/plain": [
       "      Num.Rep.  SessionLength  Avg.Sess.  kWhDelivered  Avg.Cons.  \\\n",
       "0        11.13           2.20       3.55          7.93       6.44   \n",
       "1        13.75          11.19       3.55         10.01       6.44   \n",
       "2        13.76          10.33       3.54          5.26       6.44   \n",
       "3        14.62           9.31       3.55          5.18       6.44   \n",
       "4        14.68           8.38       3.55         10.12       6.44   \n",
       "...        ...            ...        ...           ...        ...   \n",
       "1194     16.00           3.22       2.57          1.82       3.62   \n",
       "1195     19.00           1.51       2.41          4.73       4.07   \n",
       "1196     12.00           3.28       2.70          3.69       3.85   \n",
       "1197     13.00           1.89       2.42          3.82       3.93   \n",
       "1198     12.00           2.95       2.95          4.03       4.03   \n",
       "\n",
       "      temperature  Avg. Humidity  Avg Wind Speed(mph)  Wind Bearing(degrees)  \\\n",
       "0           24.37          34.85                13.54                    300   \n",
       "1           24.37          34.85                13.54                    300   \n",
       "2           24.37          34.85                13.54                    300   \n",
       "3           24.37          34.85                13.54                    300   \n",
       "4           24.37          34.85                13.54                    300   \n",
       "...           ...            ...                  ...                    ...   \n",
       "1194        35.98          40.55                10.35                    305   \n",
       "1195        35.98          40.55                10.35                    305   \n",
       "1196        35.98          40.55                10.35                    305   \n",
       "1197        35.98          40.55                10.35                    305   \n",
       "1198        35.98          40.55                10.35                    305   \n",
       "\n",
       "      Visibility(km)  Pressure(millibar)    newkWh  anomaly  \n",
       "0                9.9             1004.55  0.136464        1  \n",
       "1                9.9             1004.55  0.078767        1  \n",
       "2                9.9             1004.55  0.182090        1  \n",
       "3                9.9             1004.55  0.180543        1  \n",
       "4                9.9             1004.55  0.079217        1  \n",
       "...              ...                 ...       ...      ...  \n",
       "1194            16.1             1005.18  0.117263        1  \n",
       "1195            16.1             1005.18  0.181264        1  \n",
       "1196            17.3             1005.18  0.176175        1  \n",
       "1197            17.3             1005.18  0.179620        1  \n",
       "1198            17.3             1005.18  0.178507        1  \n",
       "\n",
       "[1164 rows x 13 columns]"
      ]
     },
     "execution_count": 20,
     "metadata": {},
     "output_type": "execute_result"
    }
   ],
   "source": [
    "ev_data"
   ]
  },
  {
   "cell_type": "markdown",
   "id": "a4de93b0",
   "metadata": {},
   "source": [
    "#Splitting the features and target "
   ]
  },
  {
   "cell_type": "code",
   "execution_count": 21,
   "id": "936f3b2d",
   "metadata": {},
   "outputs": [],
   "source": [
    "X = ev_data.drop(['kWhDelivered','newkWh','anomaly'],axis=1)\n",
    "Y = ev_data['kWhDelivered']"
   ]
  },
  {
   "cell_type": "code",
   "execution_count": 22,
   "id": "973fcacd",
   "metadata": {},
   "outputs": [],
   "source": [
    "scaler = StandardScaler()"
   ]
  },
  {
   "cell_type": "code",
   "execution_count": 23,
   "id": "b2904ac9",
   "metadata": {},
   "outputs": [
    {
     "data": {
      "text/html": [
       "<style>#sk-container-id-2 {color: black;background-color: white;}#sk-container-id-2 pre{padding: 0;}#sk-container-id-2 div.sk-toggleable {background-color: white;}#sk-container-id-2 label.sk-toggleable__label {cursor: pointer;display: block;width: 100%;margin-bottom: 0;padding: 0.3em;box-sizing: border-box;text-align: center;}#sk-container-id-2 label.sk-toggleable__label-arrow:before {content: \"▸\";float: left;margin-right: 0.25em;color: #696969;}#sk-container-id-2 label.sk-toggleable__label-arrow:hover:before {color: black;}#sk-container-id-2 div.sk-estimator:hover label.sk-toggleable__label-arrow:before {color: black;}#sk-container-id-2 div.sk-toggleable__content {max-height: 0;max-width: 0;overflow: hidden;text-align: left;background-color: #f0f8ff;}#sk-container-id-2 div.sk-toggleable__content pre {margin: 0.2em;color: black;border-radius: 0.25em;background-color: #f0f8ff;}#sk-container-id-2 input.sk-toggleable__control:checked~div.sk-toggleable__content {max-height: 200px;max-width: 100%;overflow: auto;}#sk-container-id-2 input.sk-toggleable__control:checked~label.sk-toggleable__label-arrow:before {content: \"▾\";}#sk-container-id-2 div.sk-estimator input.sk-toggleable__control:checked~label.sk-toggleable__label {background-color: #d4ebff;}#sk-container-id-2 div.sk-label input.sk-toggleable__control:checked~label.sk-toggleable__label {background-color: #d4ebff;}#sk-container-id-2 input.sk-hidden--visually {border: 0;clip: rect(1px 1px 1px 1px);clip: rect(1px, 1px, 1px, 1px);height: 1px;margin: -1px;overflow: hidden;padding: 0;position: absolute;width: 1px;}#sk-container-id-2 div.sk-estimator {font-family: monospace;background-color: #f0f8ff;border: 1px dotted black;border-radius: 0.25em;box-sizing: border-box;margin-bottom: 0.5em;}#sk-container-id-2 div.sk-estimator:hover {background-color: #d4ebff;}#sk-container-id-2 div.sk-parallel-item::after {content: \"\";width: 100%;border-bottom: 1px solid gray;flex-grow: 1;}#sk-container-id-2 div.sk-label:hover label.sk-toggleable__label {background-color: #d4ebff;}#sk-container-id-2 div.sk-serial::before {content: \"\";position: absolute;border-left: 1px solid gray;box-sizing: border-box;top: 0;bottom: 0;left: 50%;z-index: 0;}#sk-container-id-2 div.sk-serial {display: flex;flex-direction: column;align-items: center;background-color: white;padding-right: 0.2em;padding-left: 0.2em;position: relative;}#sk-container-id-2 div.sk-item {position: relative;z-index: 1;}#sk-container-id-2 div.sk-parallel {display: flex;align-items: stretch;justify-content: center;background-color: white;position: relative;}#sk-container-id-2 div.sk-item::before, #sk-container-id-2 div.sk-parallel-item::before {content: \"\";position: absolute;border-left: 1px solid gray;box-sizing: border-box;top: 0;bottom: 0;left: 50%;z-index: -1;}#sk-container-id-2 div.sk-parallel-item {display: flex;flex-direction: column;z-index: 1;position: relative;background-color: white;}#sk-container-id-2 div.sk-parallel-item:first-child::after {align-self: flex-end;width: 50%;}#sk-container-id-2 div.sk-parallel-item:last-child::after {align-self: flex-start;width: 50%;}#sk-container-id-2 div.sk-parallel-item:only-child::after {width: 0;}#sk-container-id-2 div.sk-dashed-wrapped {border: 1px dashed gray;margin: 0 0.4em 0.5em 0.4em;box-sizing: border-box;padding-bottom: 0.4em;background-color: white;}#sk-container-id-2 div.sk-label label {font-family: monospace;font-weight: bold;display: inline-block;line-height: 1.2em;}#sk-container-id-2 div.sk-label-container {text-align: center;}#sk-container-id-2 div.sk-container {/* jupyter's `normalize.less` sets `[hidden] { display: none; }` but bootstrap.min.css set `[hidden] { display: none !important; }` so we also need the `!important` here to be able to override the default hidden behavior on the sphinx rendered scikit-learn.org. See: https://github.com/scikit-learn/scikit-learn/issues/21755 */display: inline-block !important;position: relative;}#sk-container-id-2 div.sk-text-repr-fallback {display: none;}</style><div id=\"sk-container-id-2\" class=\"sk-top-container\"><div class=\"sk-text-repr-fallback\"><pre>StandardScaler()</pre><b>In a Jupyter environment, please rerun this cell to show the HTML representation or trust the notebook. <br />On GitHub, the HTML representation is unable to render, please try loading this page with nbviewer.org.</b></div><div class=\"sk-container\" hidden><div class=\"sk-item\"><div class=\"sk-estimator sk-toggleable\"><input class=\"sk-toggleable__control sk-hidden--visually\" id=\"sk-estimator-id-2\" type=\"checkbox\" checked><label for=\"sk-estimator-id-2\" class=\"sk-toggleable__label sk-toggleable__label-arrow\">StandardScaler</label><div class=\"sk-toggleable__content\"><pre>StandardScaler()</pre></div></div></div></div></div>"
      ],
      "text/plain": [
       "StandardScaler()"
      ]
     },
     "execution_count": 23,
     "metadata": {},
     "output_type": "execute_result"
    }
   ],
   "source": [
    "scaler.fit(X)"
   ]
  },
  {
   "cell_type": "code",
   "execution_count": 24,
   "id": "240377c2",
   "metadata": {},
   "outputs": [],
   "source": [
    "standardized_data = scaler.transform(X)"
   ]
  },
  {
   "cell_type": "code",
   "execution_count": 25,
   "id": "92dc69c4",
   "metadata": {},
   "outputs": [
    {
     "name": "stdout",
     "output_type": "stream",
     "text": [
      "[[-0.93548255 -0.44890018  2.98515362 ...  1.13448072 -2.30320807\n",
      "  -0.93252635]\n",
      " [-0.27630606  2.80337287  2.98515362 ...  1.13448072 -2.30320807\n",
      "  -0.93252635]\n",
      " [-0.27379012  2.49225442  2.93994638 ...  1.13448072 -2.30320807\n",
      "  -0.93252635]\n",
      " ...\n",
      " [-0.7165957  -0.0581933  -0.85746171 ...  1.18542102  1.18017525\n",
      "  -0.74558311]\n",
      " [-0.46500162 -0.56104753 -2.1232644  ...  1.18542102  1.18017525\n",
      "  -0.74558311]\n",
      " [-0.7165957  -0.17757596  0.27271927 ...  1.18542102  1.18017525\n",
      "  -0.74558311]]\n"
     ]
    }
   ],
   "source": [
    "print(standardized_data)"
   ]
  },
  {
   "cell_type": "code",
   "execution_count": 26,
   "id": "9af1acb4",
   "metadata": {},
   "outputs": [],
   "source": [
    "X = standardized_data\n",
    "Y = ev_data['kWhDelivered']"
   ]
  },
  {
   "cell_type": "code",
   "execution_count": 27,
   "id": "64766e62",
   "metadata": {},
   "outputs": [],
   "source": [
    "X_train, X_test, Y_train, Y_test = train_test_split(X, Y, test_size = 0.2, random_state=2)"
   ]
  },
  {
   "cell_type": "code",
   "execution_count": 28,
   "id": "ed5be210",
   "metadata": {},
   "outputs": [],
   "source": [
    "regressor = RandomForestRegressor(n_estimators=100)"
   ]
  },
  {
   "cell_type": "code",
   "execution_count": 29,
   "id": "98c2ebcf",
   "metadata": {},
   "outputs": [
    {
     "data": {
      "text/html": [
       "<style>#sk-container-id-3 {color: black;background-color: white;}#sk-container-id-3 pre{padding: 0;}#sk-container-id-3 div.sk-toggleable {background-color: white;}#sk-container-id-3 label.sk-toggleable__label {cursor: pointer;display: block;width: 100%;margin-bottom: 0;padding: 0.3em;box-sizing: border-box;text-align: center;}#sk-container-id-3 label.sk-toggleable__label-arrow:before {content: \"▸\";float: left;margin-right: 0.25em;color: #696969;}#sk-container-id-3 label.sk-toggleable__label-arrow:hover:before {color: black;}#sk-container-id-3 div.sk-estimator:hover label.sk-toggleable__label-arrow:before {color: black;}#sk-container-id-3 div.sk-toggleable__content {max-height: 0;max-width: 0;overflow: hidden;text-align: left;background-color: #f0f8ff;}#sk-container-id-3 div.sk-toggleable__content pre {margin: 0.2em;color: black;border-radius: 0.25em;background-color: #f0f8ff;}#sk-container-id-3 input.sk-toggleable__control:checked~div.sk-toggleable__content {max-height: 200px;max-width: 100%;overflow: auto;}#sk-container-id-3 input.sk-toggleable__control:checked~label.sk-toggleable__label-arrow:before {content: \"▾\";}#sk-container-id-3 div.sk-estimator input.sk-toggleable__control:checked~label.sk-toggleable__label {background-color: #d4ebff;}#sk-container-id-3 div.sk-label input.sk-toggleable__control:checked~label.sk-toggleable__label {background-color: #d4ebff;}#sk-container-id-3 input.sk-hidden--visually {border: 0;clip: rect(1px 1px 1px 1px);clip: rect(1px, 1px, 1px, 1px);height: 1px;margin: -1px;overflow: hidden;padding: 0;position: absolute;width: 1px;}#sk-container-id-3 div.sk-estimator {font-family: monospace;background-color: #f0f8ff;border: 1px dotted black;border-radius: 0.25em;box-sizing: border-box;margin-bottom: 0.5em;}#sk-container-id-3 div.sk-estimator:hover {background-color: #d4ebff;}#sk-container-id-3 div.sk-parallel-item::after {content: \"\";width: 100%;border-bottom: 1px solid gray;flex-grow: 1;}#sk-container-id-3 div.sk-label:hover label.sk-toggleable__label {background-color: #d4ebff;}#sk-container-id-3 div.sk-serial::before {content: \"\";position: absolute;border-left: 1px solid gray;box-sizing: border-box;top: 0;bottom: 0;left: 50%;z-index: 0;}#sk-container-id-3 div.sk-serial {display: flex;flex-direction: column;align-items: center;background-color: white;padding-right: 0.2em;padding-left: 0.2em;position: relative;}#sk-container-id-3 div.sk-item {position: relative;z-index: 1;}#sk-container-id-3 div.sk-parallel {display: flex;align-items: stretch;justify-content: center;background-color: white;position: relative;}#sk-container-id-3 div.sk-item::before, #sk-container-id-3 div.sk-parallel-item::before {content: \"\";position: absolute;border-left: 1px solid gray;box-sizing: border-box;top: 0;bottom: 0;left: 50%;z-index: -1;}#sk-container-id-3 div.sk-parallel-item {display: flex;flex-direction: column;z-index: 1;position: relative;background-color: white;}#sk-container-id-3 div.sk-parallel-item:first-child::after {align-self: flex-end;width: 50%;}#sk-container-id-3 div.sk-parallel-item:last-child::after {align-self: flex-start;width: 50%;}#sk-container-id-3 div.sk-parallel-item:only-child::after {width: 0;}#sk-container-id-3 div.sk-dashed-wrapped {border: 1px dashed gray;margin: 0 0.4em 0.5em 0.4em;box-sizing: border-box;padding-bottom: 0.4em;background-color: white;}#sk-container-id-3 div.sk-label label {font-family: monospace;font-weight: bold;display: inline-block;line-height: 1.2em;}#sk-container-id-3 div.sk-label-container {text-align: center;}#sk-container-id-3 div.sk-container {/* jupyter's `normalize.less` sets `[hidden] { display: none; }` but bootstrap.min.css set `[hidden] { display: none !important; }` so we also need the `!important` here to be able to override the default hidden behavior on the sphinx rendered scikit-learn.org. See: https://github.com/scikit-learn/scikit-learn/issues/21755 */display: inline-block !important;position: relative;}#sk-container-id-3 div.sk-text-repr-fallback {display: none;}</style><div id=\"sk-container-id-3\" class=\"sk-top-container\"><div class=\"sk-text-repr-fallback\"><pre>RandomForestRegressor()</pre><b>In a Jupyter environment, please rerun this cell to show the HTML representation or trust the notebook. <br />On GitHub, the HTML representation is unable to render, please try loading this page with nbviewer.org.</b></div><div class=\"sk-container\" hidden><div class=\"sk-item\"><div class=\"sk-estimator sk-toggleable\"><input class=\"sk-toggleable__control sk-hidden--visually\" id=\"sk-estimator-id-3\" type=\"checkbox\" checked><label for=\"sk-estimator-id-3\" class=\"sk-toggleable__label sk-toggleable__label-arrow\">RandomForestRegressor</label><div class=\"sk-toggleable__content\"><pre>RandomForestRegressor()</pre></div></div></div></div></div>"
      ],
      "text/plain": [
       "RandomForestRegressor()"
      ]
     },
     "execution_count": 29,
     "metadata": {},
     "output_type": "execute_result"
    }
   ],
   "source": [
    "regressor.fit(X_train,Y_train)"
   ]
  },
  {
   "cell_type": "code",
   "execution_count": 30,
   "id": "405b2219",
   "metadata": {},
   "outputs": [],
   "source": [
    "test_data_prediction = regressor.predict(X_test)"
   ]
  },
  {
   "cell_type": "code",
   "execution_count": 31,
   "id": "f51ce601",
   "metadata": {},
   "outputs": [
    {
     "name": "stdout",
     "output_type": "stream",
     "text": [
      "[5.33690e+00 5.64630e+00 7.43390e+00 6.04430e+00 5.19430e+00 1.08438e+01\n",
      " 7.33980e+00 4.33300e+00 5.08460e+00 5.39350e+00 3.03150e+00 5.76320e+00\n",
      " 4.60530e+00 3.52710e+00 7.40350e+00 5.37060e+00 1.05936e+01 3.92950e+00\n",
      " 6.58080e+00 5.74750e+00 3.23540e+00 6.36450e+00 4.23950e+00 9.08890e+00\n",
      " 9.77140e+00 5.40100e+00 6.68660e+00 1.08360e+01 7.48030e+00 6.87690e+00\n",
      " 2.07600e+00 1.03639e+01 5.69010e+00 1.10714e+01 6.25580e+00 4.52640e+00\n",
      " 3.23050e+00 6.21440e+00 3.40860e+00 5.67350e+00 5.81130e+00 6.08490e+00\n",
      " 7.93660e+00 5.31160e+00 3.93680e+00 1.07857e+01 4.61000e+00 4.11720e+00\n",
      " 5.58860e+00 4.20010e+00 5.88760e+00 1.97580e+00 3.60500e+00 4.37640e+00\n",
      " 7.38890e+00 4.69370e+00 4.11570e+00 5.60380e+00 5.21410e+00 6.18460e+00\n",
      " 4.21880e+00 7.43240e+00 2.37940e+00 7.36280e+00 5.42450e+00 4.18400e+00\n",
      " 5.90700e+00 3.18940e+00 6.63730e+00 4.29570e+00 3.66960e+00 7.10920e+00\n",
      " 6.95070e+00 3.64820e+00 6.79160e+00 1.12891e+01 6.06020e+00 4.09020e+00\n",
      " 5.90080e+00 1.35956e+01 4.88180e+00 5.89910e+00 4.83270e+00 7.76530e+00\n",
      " 4.66680e+00 5.23330e+00 4.00620e+00 9.88050e+00 1.14820e+01 6.51880e+00\n",
      " 8.01600e-01 6.07290e+00 4.56900e+00 3.93920e+00 8.06420e+00 6.48940e+00\n",
      " 7.88050e+00 5.73490e+00 4.73850e+00 4.36200e+00 4.28400e+00 3.74530e+00\n",
      " 9.00000e-03 8.22280e+00 4.35180e+00 5.15860e+00 4.59560e+00 4.80040e+00\n",
      " 5.99300e+00 6.28690e+00 5.96080e+00 1.03000e-02 3.45080e+00 3.92730e+00\n",
      " 5.12850e+00 6.01130e+00 5.02330e+00 6.45060e+00 8.50500e-01 1.86750e+00\n",
      " 6.84000e+00 4.51630e+00 3.49230e+00 2.23650e+00 4.40880e+00 6.61550e+00\n",
      " 5.06620e+00 5.18120e+00 5.31620e+00 4.20260e+00 6.69870e+00 5.50180e+00\n",
      " 3.32880e+00 4.78790e+00 3.91510e+00 6.89030e+00 8.09790e+00 6.50190e+00\n",
      " 4.61310e+00 9.95110e+00 3.19480e+00 6.10170e+00 3.38970e+00 3.82890e+00\n",
      " 4.76510e+00 3.51560e+00 4.26710e+00 5.85780e+00 6.29380e+00 5.86370e+00\n",
      " 4.46320e+00 5.52880e+00 6.13380e+00 4.10900e+00 9.66540e+00 9.63600e-01\n",
      " 6.06230e+00 4.32310e+00 4.21730e+00 3.34440e+00 3.85350e+00 6.90870e+00\n",
      " 6.79190e+00 6.90120e+00 4.90490e+00 1.75280e+00 6.33270e+00 6.59840e+00\n",
      " 9.09460e+00 4.49950e+00 4.56390e+00 3.25720e+00 9.00340e+00 1.32054e+01\n",
      " 4.82760e+00 4.93770e+00 6.00040e+00 4.82550e+00 4.88510e+00 6.89710e+00\n",
      " 7.47460e+00 1.62620e+00 9.64330e+00 5.24520e+00 4.74810e+00 4.25920e+00\n",
      " 4.86180e+00 3.09780e+00 7.14110e+00 5.31230e+00 6.73290e+00 3.83550e+00\n",
      " 6.15850e+00 6.38840e+00 5.81510e+00 4.66820e+00 6.64780e+00 6.64100e+00\n",
      " 3.68100e+00 6.97810e+00 7.73330e+00 3.44290e+00 3.42400e+00 1.09004e+01\n",
      " 5.52210e+00 4.61580e+00 1.08614e+01 1.02475e+01 5.76430e+00 4.53490e+00\n",
      " 5.39650e+00 4.30340e+00 7.01740e+00 1.44470e+00 4.31580e+00 2.01150e+00\n",
      " 4.34250e+00 8.29420e+00 6.41410e+00 3.51520e+00 1.06118e+01 3.13230e+00\n",
      " 7.31700e+00 6.21470e+00 4.46390e+00 2.25170e+00 4.08080e+00 4.59730e+00\n",
      " 6.92610e+00 1.26391e+01 1.04551e+01 1.10840e+00 4.43620e+00]\n"
     ]
    }
   ],
   "source": [
    "print(test_data_prediction)"
   ]
  },
  {
   "cell_type": "code",
   "execution_count": 32,
   "id": "5bbc2d58",
   "metadata": {},
   "outputs": [],
   "source": [
    "Y_test = list(Y_test)"
   ]
  },
  {
   "cell_type": "code",
   "execution_count": 33,
   "id": "0a115ab0",
   "metadata": {},
   "outputs": [
    {
     "data": {
      "image/png": "[encoded data removed]",
      "text/plain": [
       "<Figure size 640x480 with 1 Axes>"
      ]
     },
     "metadata": {},
     "output_type": "display_data"
    }
   ],
   "source": [
    "plt.plot(Y_test, color='red', label = 'Actual Value')\n",
    "plt.plot(test_data_prediction, color='green', label='Predicted Value')\n",
    "plt.title('Actual Price vs Predicted Price')\n",
    "plt.xlabel('Number of values')\n",
    "plt.ylabel('Energy')\n",
    "plt.legend()\n",
    "plt.show()"
   ]
  },
  {
   "cell_type": "code",
   "execution_count": 62,
   "id": "ec84628b",
   "metadata": {},
   "outputs": [],
   "source": [
    "def smape(actual, predicted):\n",
    "    \"\"\"\n",
    "    Calculate SMAPE (Symmetric Mean Absolute Percentage Error) for actual and predicted values.\n",
    "    \"\"\"\n",
    "    n = len(actual)\n",
    "    ape = np.abs(actual - predicted) / ((np.abs(actual) + np.abs(predicted)) / 2)\n",
    "    smape = (1 / n) * np.sum(2 * ape) * 100\n",
    "    return smape\n"
   ]
  },
  {
   "cell_type": "code",
   "execution_count": 63,
   "id": "4495259d",
   "metadata": {},
   "outputs": [],
   "source": [
    "#Training Scores\n",
    "training_data_prediction = regressor.predict(X_train)"
   ]
  },
  {
   "cell_type": "code",
   "execution_count": 64,
   "id": "6594ca8f",
   "metadata": {},
   "outputs": [
    {
     "data": {
      "text/plain": [
       "0.6817325456498391"
      ]
     },
     "execution_count": 64,
     "metadata": {},
     "output_type": "execute_result"
    }
   ],
   "source": [
    "mean_absolute_error(Y_train, training_data_prediction)"
   ]
  },
  {
   "cell_type": "code",
   "execution_count": 65,
   "id": "4178039f",
   "metadata": {},
   "outputs": [
    {
     "data": {
      "text/plain": [
       "1.0363615297282853"
      ]
     },
     "execution_count": 65,
     "metadata": {},
     "output_type": "execute_result"
    }
   ],
   "source": [
    "sqrt(mean_squared_error(Y_train, training_data_prediction))"
   ]
  },
  {
   "cell_type": "code",
   "execution_count": 66,
   "id": "ff3fcafa",
   "metadata": {},
   "outputs": [
    {
     "name": "stdout",
     "output_type": "stream",
     "text": [
      "R squared error :  0.9098757018944632\n"
     ]
    }
   ],
   "source": [
    "# R squared error\n",
    "error_score = metrics.r2_score(Y_train, training_data_prediction)\n",
    "print(\"R squared error : \", error_score)"
   ]
  },
  {
   "cell_type": "code",
   "execution_count": 67,
   "id": "a5ce0c64",
   "metadata": {},
   "outputs": [
    {
     "name": "stdout",
     "output_type": "stream",
     "text": [
      "SMAPE score:  31.431847023411326\n"
     ]
    }
   ],
   "source": [
    "smape_score = smape(Y_train, training_data_prediction)\n",
    "print(\"SMAPE score: \", smape_score)"
   ]
  },
  {
   "cell_type": "code",
   "execution_count": 52,
   "id": "fb73e614",
   "metadata": {},
   "outputs": [
    {
     "data": {
      "text/plain": [
       "1.6408326180257513"
      ]
     },
     "execution_count": 52,
     "metadata": {},
     "output_type": "execute_result"
    }
   ],
   "source": [
    "#Test Scores\n",
    "mean_absolute_error(Y_test, test_data_prediction)"
   ]
  },
  {
   "cell_type": "code",
   "execution_count": 53,
   "id": "7b3425ef",
   "metadata": {},
   "outputs": [],
   "source": [
    "rms = sqrt(mean_squared_error(Y_test, test_data_prediction))"
   ]
  },
  {
   "cell_type": "code",
   "execution_count": 54,
   "id": "d6eb0141",
   "metadata": {},
   "outputs": [
    {
     "name": "stdout",
     "output_type": "stream",
     "text": [
      "2.539775717886794\n"
     ]
    }
   ],
   "source": [
    "print(rms)"
   ]
  },
  {
   "cell_type": "code",
   "execution_count": 55,
   "id": "beb9cb2e",
   "metadata": {},
   "outputs": [],
   "source": [
    "test_d_prediction = regressor.predict(X_train)"
   ]
  },
  {
   "cell_type": "code",
   "execution_count": 57,
   "id": "598c3c87",
   "metadata": {},
   "outputs": [
    {
     "name": "stdout",
     "output_type": "stream",
     "text": [
      "R squared error :  0.41712248187803\n"
     ]
    }
   ],
   "source": [
    "# R squared error\n",
    "error_score = metrics.r2_score(Y_test, test_data_prediction)\n",
    "print(\"R squared error : \", error_score)"
   ]
  },
  {
   "cell_type": "code",
   "execution_count": 113,
   "id": "1863c0f1",
   "metadata": {},
   "outputs": [],
   "source": [
    "def smape(actual, predicted):\n",
    "    \"\"\"\n",
    "    Calculate SMAPE (Symmetric Mean Absolute Percentage Error) for actual and predicted values.\n",
    "    \"\"\"\n",
    "    actual = np.array(actual)\n",
    "    predicted = np.array(predicted)\n",
    "    return 100/len(actual) * np.sum(2 * np.abs(predicted - actual) / (np.abs(actual) + np.abs(predicted)))\n"
   ]
  },
  {
   "cell_type": "code",
   "execution_count": 114,
   "id": "28e4ebbe",
   "metadata": {},
   "outputs": [
    {
     "name": "stdout",
     "output_type": "stream",
     "text": [
      "SMAPE score:  33.30298863789564\n"
     ]
    }
   ],
   "source": [
    "smape_score = smape(Y_test, test_data_prediction)\n",
    "print(\"SMAPE score: \", smape_score)"
   ]
  },
  {
   "cell_type": "code",
   "execution_count": 70,
   "id": "4ffa67ae",
   "metadata": {},
   "outputs": [
    {
     "data": {
      "image/png": "[encoded data removed]",
      "text/plain": [
       "<Figure size 640x480 with 1 Axes>"
      ]
     },
     "metadata": {},
     "output_type": "display_data"
    }
   ],
   "source": [
    "#Visualising\n",
    "sns.regplot(x=Y_test, y=test_data_prediction)\n",
    "plt.xlabel(\"Actual\")\n",
    "plt.ylabel('Predicted')\n",
    "plt.title(\"ACtual vs predicted\")\n",
    "plt.show()\n"
   ]
  },
  {
   "cell_type": "markdown",
   "id": "fd796db6",
   "metadata": {},
   "source": [
    "#SVM"
   ]
  },
  {
   "cell_type": "code",
   "execution_count": 71,
   "id": "e83c22af",
   "metadata": {},
   "outputs": [
    {
     "data": {
      "text/html": [
       "<style>#sk-container-id-4 {color: black;background-color: white;}#sk-container-id-4 pre{padding: 0;}#sk-container-id-4 div.sk-toggleable {background-color: white;}#sk-container-id-4 label.sk-toggleable__label {cursor: pointer;display: block;width: 100%;margin-bottom: 0;padding: 0.3em;box-sizing: border-box;text-align: center;}#sk-container-id-4 label.sk-toggleable__label-arrow:before {content: \"▸\";float: left;margin-right: 0.25em;color: #696969;}#sk-container-id-4 label.sk-toggleable__label-arrow:hover:before {color: black;}#sk-container-id-4 div.sk-estimator:hover label.sk-toggleable__label-arrow:before {color: black;}#sk-container-id-4 div.sk-toggleable__content {max-height: 0;max-width: 0;overflow: hidden;text-align: left;background-color: #f0f8ff;}#sk-container-id-4 div.sk-toggleable__content pre {margin: 0.2em;color: black;border-radius: 0.25em;background-color: #f0f8ff;}#sk-container-id-4 input.sk-toggleable__control:checked~div.sk-toggleable__content {max-height: 200px;max-width: 100%;overflow: auto;}#sk-container-id-4 input.sk-toggleable__control:checked~label.sk-toggleable__label-arrow:before {content: \"▾\";}#sk-container-id-4 div.sk-estimator input.sk-toggleable__control:checked~label.sk-toggleable__label {background-color: #d4ebff;}#sk-container-id-4 div.sk-label input.sk-toggleable__control:checked~label.sk-toggleable__label {background-color: #d4ebff;}#sk-container-id-4 input.sk-hidden--visually {border: 0;clip: rect(1px 1px 1px 1px);clip: rect(1px, 1px, 1px, 1px);height: 1px;margin: -1px;overflow: hidden;padding: 0;position: absolute;width: 1px;}#sk-container-id-4 div.sk-estimator {font-family: monospace;background-color: #f0f8ff;border: 1px dotted black;border-radius: 0.25em;box-sizing: border-box;margin-bottom: 0.5em;}#sk-container-id-4 div.sk-estimator:hover {background-color: #d4ebff;}#sk-container-id-4 div.sk-parallel-item::after {content: \"\";width: 100%;border-bottom: 1px solid gray;flex-grow: 1;}#sk-container-id-4 div.sk-label:hover label.sk-toggleable__label {background-color: #d4ebff;}#sk-container-id-4 div.sk-serial::before {content: \"\";position: absolute;border-left: 1px solid gray;box-sizing: border-box;top: 0;bottom: 0;left: 50%;z-index: 0;}#sk-container-id-4 div.sk-serial {display: flex;flex-direction: column;align-items: center;background-color: white;padding-right: 0.2em;padding-left: 0.2em;position: relative;}#sk-container-id-4 div.sk-item {position: relative;z-index: 1;}#sk-container-id-4 div.sk-parallel {display: flex;align-items: stretch;justify-content: center;background-color: white;position: relative;}#sk-container-id-4 div.sk-item::before, #sk-container-id-4 div.sk-parallel-item::before {content: \"\";position: absolute;border-left: 1px solid gray;box-sizing: border-box;top: 0;bottom: 0;left: 50%;z-index: -1;}#sk-container-id-4 div.sk-parallel-item {display: flex;flex-direction: column;z-index: 1;position: relative;background-color: white;}#sk-container-id-4 div.sk-parallel-item:first-child::after {align-self: flex-end;width: 50%;}#sk-container-id-4 div.sk-parallel-item:last-child::after {align-self: flex-start;width: 50%;}#sk-container-id-4 div.sk-parallel-item:only-child::after {width: 0;}#sk-container-id-4 div.sk-dashed-wrapped {border: 1px dashed gray;margin: 0 0.4em 0.5em 0.4em;box-sizing: border-box;padding-bottom: 0.4em;background-color: white;}#sk-container-id-4 div.sk-label label {font-family: monospace;font-weight: bold;display: inline-block;line-height: 1.2em;}#sk-container-id-4 div.sk-label-container {text-align: center;}#sk-container-id-4 div.sk-container {/* jupyter's `normalize.less` sets `[hidden] { display: none; }` but bootstrap.min.css set `[hidden] { display: none !important; }` so we also need the `!important` here to be able to override the default hidden behavior on the sphinx rendered scikit-learn.org. See: https://github.com/scikit-learn/scikit-learn/issues/21755 */display: inline-block !important;position: relative;}#sk-container-id-4 div.sk-text-repr-fallback {display: none;}</style><div id=\"sk-container-id-4\" class=\"sk-top-container\"><div class=\"sk-text-repr-fallback\"><pre>SVR(C=10, gamma=0.1)</pre><b>In a Jupyter environment, please rerun this cell to show the HTML representation or trust the notebook. <br />On GitHub, the HTML representation is unable to render, please try loading this page with nbviewer.org.</b></div><div class=\"sk-container\" hidden><div class=\"sk-item\"><div class=\"sk-estimator sk-toggleable\"><input class=\"sk-toggleable__control sk-hidden--visually\" id=\"sk-estimator-id-4\" type=\"checkbox\" checked><label for=\"sk-estimator-id-4\" class=\"sk-toggleable__label sk-toggleable__label-arrow\">SVR</label><div class=\"sk-toggleable__content\"><pre>SVR(C=10, gamma=0.1)</pre></div></div></div></div></div>"
      ],
      "text/plain": [
       "SVR(C=10, gamma=0.1)"
      ]
     },
     "execution_count": 71,
     "metadata": {},
     "output_type": "execute_result"
    }
   ],
   "source": [
    "svr = SVR(kernel='rbf', C=10, gamma=0.1, epsilon=0.1)\n",
    "svr.fit(X_train,Y_train)"
   ]
  },
  {
   "cell_type": "code",
   "execution_count": 72,
   "id": "9f49f615",
   "metadata": {},
   "outputs": [],
   "source": [
    "y_pred = svr.predict(X_test)\n",
    "mse = mean_squared_error(Y_test, y_pred)"
   ]
  },
  {
   "cell_type": "code",
   "execution_count": 73,
   "id": "60fda18c",
   "metadata": {},
   "outputs": [
    {
     "name": "stdout",
     "output_type": "stream",
     "text": [
      "[ 5.34008223  5.36762583  5.30673305  6.9128541   5.59447047 12.90648189\n",
      "  6.63729785  5.20705986  6.26472979  4.99171275  2.69828995  6.58746717\n",
      "  4.37782698  3.6628192   7.44817132  5.58684539  6.9200077   4.09160506\n",
      "  6.87898964  5.1402009   5.02354919  6.87645447  5.30841818 10.14825053\n",
      " 12.27243807  6.46111136  6.20870333  9.88746897  7.02560729  7.58498304\n",
      "  0.92433353  9.94114252  4.60370882 10.69799776  6.5471574   4.69592207\n",
      "  3.57252841  6.14539085  3.83031837  4.65709653  6.07136749  6.84633272\n",
      "  7.21573111  5.55464577  5.49997643  8.33832906  4.33609082  4.6953582\n",
      "  4.97818777  3.78622084  5.91130749  3.2189922   3.42030239  6.27637233\n",
      "  5.62195895  5.87924125  3.66461656  5.20788877  4.9166976   6.33263761\n",
      "  4.55004756  8.75339607  2.21738368  5.4251699   4.67724773  5.4178897\n",
      "  6.13381415  3.81295112  6.80399998  6.13195503  4.08753103  6.13233332\n",
      "  7.04646734  2.40612772  6.27767948  8.13314469  7.12958676  4.76987653\n",
      "  7.82006232  8.21088294  6.1090975   4.90113154  4.86971685  5.05746658\n",
      "  5.7600841   6.45601639  4.30719898 11.45637832  9.83675821  7.1890177\n",
      "  2.8576266   6.26220691  4.40834831  4.11493701  6.23896656  7.23253164\n",
      "  5.64128593  5.92454767  4.38046735  5.40273737  3.94600779  3.71263264\n",
      "  1.59232896 11.05318763  4.43173606  4.7071025   5.81857025  8.48236624\n",
      "  6.49939541  6.43748559  6.51002292  3.10831636  3.60329175  3.59202397\n",
      "  6.40186621  5.97102352  4.3018737   6.85275287  1.85403626  2.87021377\n",
      "  6.08503906  3.45154412  3.28706569  2.84544572  5.00578931  5.34968319\n",
      "  5.05376379  1.52346024  4.92914782  3.92481496  6.2216836   6.20062104\n",
      "  3.48302118  4.75050844  3.60293612  6.19516141  7.91288251  6.82313986\n",
      "  4.66340855  4.54373904  4.05424906  6.652673    6.74622786  4.17445335\n",
      "  5.40907523  3.71664517  6.17639939  6.49242731  6.89023632  5.84949562\n",
      "  4.61664237  5.43653625  6.29595177  3.8607812   3.91342665  2.91749144\n",
      "  6.22302064  4.86120225  3.80750753  3.67597706  4.58883766  6.18344081\n",
      "  6.27476651  5.52736867  5.32459897  2.80520621  6.62833122  5.87869044\n",
      "  3.92068991  4.9361641   4.97008002  2.746526    6.38703375 10.7254806\n",
      "  4.28710576  4.40278167  6.06773956  4.72617006  3.96588587  5.04748396\n",
      "  6.68959741  3.0140581   4.58184523  6.13230632  6.59359036  4.35703703\n",
      "  5.71860199  3.24276982  7.66144665  4.67119728  6.72458626  3.2233985\n",
      "  5.77210792  5.5613072   6.4050273   5.20858189  5.42070803  6.3124608\n",
      "  3.28073331  6.79049696  8.32477508  3.41158867  2.25059368 11.54641843\n",
      "  5.33434665  5.26132485 11.42180372  7.51326265  6.51245942  1.01118967\n",
      "  5.30818992  5.66490335  8.933117    2.08708877  4.18954053  2.36921491\n",
      "  4.43534924  7.97985797  6.38731919  3.49502238  6.10476555  5.87617186\n",
      "  5.89135382  6.14078503  5.14155407  2.48545886  3.76064611  4.59713995\n",
      "  6.73848846 13.68687336 12.12092903  2.28532652  4.47692793]\n"
     ]
    }
   ],
   "source": [
    "print(y_pred)"
   ]
  },
  {
   "cell_type": "code",
   "execution_count": 74,
   "id": "b83ba8d7",
   "metadata": {},
   "outputs": [],
   "source": [
    "Y_test = list(Y_test)"
   ]
  },
  {
   "cell_type": "code",
   "execution_count": 75,
   "id": "2ed6a1fa",
   "metadata": {},
   "outputs": [
    {
     "data": {
      "image/png": "[encoded data removed]",
      "text/plain": [
       "<Figure size 640x480 with 1 Axes>"
      ]
     },
     "metadata": {},
     "output_type": "display_data"
    }
   ],
   "source": [
    "plt.plot(Y_test, color='blue', label = 'Actual Value')\n",
    "plt.plot(y_pred, color='green', label='Predicted Value')\n",
    "plt.title('Actual vs Predicted')\n",
    "plt.xlabel('Number of values')\n",
    "plt.ylabel('Energy')\n",
    "plt.legend()\n",
    "plt.show()"
   ]
  },
  {
   "cell_type": "code",
   "execution_count": 76,
   "id": "8f0932bd",
   "metadata": {},
   "outputs": [
    {
     "data": {
      "text/plain": [
       "1.743207874118123"
      ]
     },
     "execution_count": 76,
     "metadata": {},
     "output_type": "execute_result"
    }
   ],
   "source": [
    "mean_absolute_error(Y_test, y_pred)"
   ]
  },
  {
   "cell_type": "code",
   "execution_count": 77,
   "id": "f1cf337e",
   "metadata": {},
   "outputs": [],
   "source": [
    "rms = sqrt(mean_squared_error(Y_test, y_pred))"
   ]
  },
  {
   "cell_type": "code",
   "execution_count": 78,
   "id": "cd47e45d",
   "metadata": {},
   "outputs": [
    {
     "name": "stdout",
     "output_type": "stream",
     "text": [
      "2.6205176982196074\n"
     ]
    }
   ],
   "source": [
    "print(rms)"
   ]
  },
  {
   "cell_type": "code",
   "execution_count": 79,
   "id": "195a9df5",
   "metadata": {},
   "outputs": [
    {
     "name": "stdout",
     "output_type": "stream",
     "text": [
      "R squared error :  0.3794728820290726\n"
     ]
    }
   ],
   "source": [
    "# R squared error\n",
    "error_score = metrics.r2_score(Y_test, y_pred)\n",
    "print(\"R squared error : \", error_score)"
   ]
  },
  {
   "cell_type": "code",
   "execution_count": 80,
   "id": "a53069d0",
   "metadata": {},
   "outputs": [
    {
     "name": "stdout",
     "output_type": "stream",
     "text": [
      "SMAPE score:  37.230506690275384\n"
     ]
    }
   ],
   "source": [
    "smape_score = smape(Y_test, y_pred)\n",
    "print(\"SMAPE score: \", smape_score)"
   ]
  },
  {
   "cell_type": "code",
   "execution_count": 81,
   "id": "a847fd56",
   "metadata": {},
   "outputs": [
    {
     "data": {
      "image/png": "[encoded data removed]",
      "text/plain": [
       "<Figure size 640x480 with 1 Axes>"
      ]
     },
     "metadata": {},
     "output_type": "display_data"
    }
   ],
   "source": [
    "#Visualising\n",
    "sns.regplot(x=Y_test, y=y_pred)\n",
    "plt.xlabel(\"Actual\")\n",
    "plt.ylabel('Predicted')\n",
    "plt.title(\"ACtual vs predicted\")\n",
    "plt.show()"
   ]
  },
  {
   "cell_type": "markdown",
   "id": "d4baa9c6",
   "metadata": {},
   "source": [
    "#XGB"
   ]
  },
  {
   "cell_type": "code",
   "execution_count": 82,
   "id": "8fe86182",
   "metadata": {},
   "outputs": [],
   "source": [
    "# loading the model\n",
    "xb_model = XGBRegressor()"
   ]
  },
  {
   "cell_type": "code",
   "execution_count": 83,
   "id": "641a9cc9",
   "metadata": {},
   "outputs": [
    {
     "data": {
      "text/html": [
       "<style>#sk-container-id-5 {color: black;background-color: white;}#sk-container-id-5 pre{padding: 0;}#sk-container-id-5 div.sk-toggleable {background-color: white;}#sk-container-id-5 label.sk-toggleable__label {cursor: pointer;display: block;width: 100%;margin-bottom: 0;padding: 0.3em;box-sizing: border-box;text-align: center;}#sk-container-id-5 label.sk-toggleable__label-arrow:before {content: \"▸\";float: left;margin-right: 0.25em;color: #696969;}#sk-container-id-5 label.sk-toggleable__label-arrow:hover:before {color: black;}#sk-container-id-5 div.sk-estimator:hover label.sk-toggleable__label-arrow:before {color: black;}#sk-container-id-5 div.sk-toggleable__content {max-height: 0;max-width: 0;overflow: hidden;text-align: left;background-color: #f0f8ff;}#sk-container-id-5 div.sk-toggleable__content pre {margin: 0.2em;color: black;border-radius: 0.25em;background-color: #f0f8ff;}#sk-container-id-5 input.sk-toggleable__control:checked~div.sk-toggleable__content {max-height: 200px;max-width: 100%;overflow: auto;}#sk-container-id-5 input.sk-toggleable__control:checked~label.sk-toggleable__label-arrow:before {content: \"▾\";}#sk-container-id-5 div.sk-estimator input.sk-toggleable__control:checked~label.sk-toggleable__label {background-color: #d4ebff;}#sk-container-id-5 div.sk-label input.sk-toggleable__control:checked~label.sk-toggleable__label {background-color: #d4ebff;}#sk-container-id-5 input.sk-hidden--visually {border: 0;clip: rect(1px 1px 1px 1px);clip: rect(1px, 1px, 1px, 1px);height: 1px;margin: -1px;overflow: hidden;padding: 0;position: absolute;width: 1px;}#sk-container-id-5 div.sk-estimator {font-family: monospace;background-color: #f0f8ff;border: 1px dotted black;border-radius: 0.25em;box-sizing: border-box;margin-bottom: 0.5em;}#sk-container-id-5 div.sk-estimator:hover {background-color: #d4ebff;}#sk-container-id-5 div.sk-parallel-item::after {content: \"\";width: 100%;border-bottom: 1px solid gray;flex-grow: 1;}#sk-container-id-5 div.sk-label:hover label.sk-toggleable__label {background-color: #d4ebff;}#sk-container-id-5 div.sk-serial::before {content: \"\";position: absolute;border-left: 1px solid gray;box-sizing: border-box;top: 0;bottom: 0;left: 50%;z-index: 0;}#sk-container-id-5 div.sk-serial {display: flex;flex-direction: column;align-items: center;background-color: white;padding-right: 0.2em;padding-left: 0.2em;position: relative;}#sk-container-id-5 div.sk-item {position: relative;z-index: 1;}#sk-container-id-5 div.sk-parallel {display: flex;align-items: stretch;justify-content: center;background-color: white;position: relative;}#sk-container-id-5 div.sk-item::before, #sk-container-id-5 div.sk-parallel-item::before {content: \"\";position: absolute;border-left: 1px solid gray;box-sizing: border-box;top: 0;bottom: 0;left: 50%;z-index: -1;}#sk-container-id-5 div.sk-parallel-item {display: flex;flex-direction: column;z-index: 1;position: relative;background-color: white;}#sk-container-id-5 div.sk-parallel-item:first-child::after {align-self: flex-end;width: 50%;}#sk-container-id-5 div.sk-parallel-item:last-child::after {align-self: flex-start;width: 50%;}#sk-container-id-5 div.sk-parallel-item:only-child::after {width: 0;}#sk-container-id-5 div.sk-dashed-wrapped {border: 1px dashed gray;margin: 0 0.4em 0.5em 0.4em;box-sizing: border-box;padding-bottom: 0.4em;background-color: white;}#sk-container-id-5 div.sk-label label {font-family: monospace;font-weight: bold;display: inline-block;line-height: 1.2em;}#sk-container-id-5 div.sk-label-container {text-align: center;}#sk-container-id-5 div.sk-container {/* jupyter's `normalize.less` sets `[hidden] { display: none; }` but bootstrap.min.css set `[hidden] { display: none !important; }` so we also need the `!important` here to be able to override the default hidden behavior on the sphinx rendered scikit-learn.org. See: https://github.com/scikit-learn/scikit-learn/issues/21755 */display: inline-block !important;position: relative;}#sk-container-id-5 div.sk-text-repr-fallback {display: none;}</style><div id=\"sk-container-id-5\" class=\"sk-top-container\"><div class=\"sk-text-repr-fallback\"><pre>XGBRegressor(base_score=None, booster=None, callbacks=None,\n",
       "             colsample_bylevel=None, colsample_bynode=None,\n",
       "             colsample_bytree=None, early_stopping_rounds=None,\n",
       "             enable_categorical=False, eval_metric=None, feature_types=None,\n",
       "             gamma=None, gpu_id=None, grow_policy=None, importance_type=None,\n",
       "             interaction_constraints=None, learning_rate=None, max_bin=None,\n",
       "             max_cat_threshold=None, max_cat_to_onehot=None,\n",
       "             max_delta_step=None, max_depth=None, max_leaves=None,\n",
       "             min_child_weight=None, missing=nan, monotone_constraints=None,\n",
       "             n_estimators=100, n_jobs=None, num_parallel_tree=None,\n",
       "             predictor=None, random_state=None, ...)</pre><b>In a Jupyter environment, please rerun this cell to show the HTML representation or trust the notebook. <br />On GitHub, the HTML representation is unable to render, please try loading this page with nbviewer.org.</b></div><div class=\"sk-container\" hidden><div class=\"sk-item\"><div class=\"sk-estimator sk-toggleable\"><input class=\"sk-toggleable__control sk-hidden--visually\" id=\"sk-estimator-id-5\" type=\"checkbox\" checked><label for=\"sk-estimator-id-5\" class=\"sk-toggleable__label sk-toggleable__label-arrow\">XGBRegressor</label><div class=\"sk-toggleable__content\"><pre>XGBRegressor(base_score=None, booster=None, callbacks=None,\n",
       "             colsample_bylevel=None, colsample_bynode=None,\n",
       "             colsample_bytree=None, early_stopping_rounds=None,\n",
       "             enable_categorical=False, eval_metric=None, feature_types=None,\n",
       "             gamma=None, gpu_id=None, grow_policy=None, importance_type=None,\n",
       "             interaction_constraints=None, learning_rate=None, max_bin=None,\n",
       "             max_cat_threshold=None, max_cat_to_onehot=None,\n",
       "             max_delta_step=None, max_depth=None, max_leaves=None,\n",
       "             min_child_weight=None, missing=nan, monotone_constraints=None,\n",
       "             n_estimators=100, n_jobs=None, num_parallel_tree=None,\n",
       "             predictor=None, random_state=None, ...)</pre></div></div></div></div></div>"
      ],
      "text/plain": [
       "XGBRegressor(base_score=None, booster=None, callbacks=None,\n",
       "             colsample_bylevel=None, colsample_bynode=None,\n",
       "             colsample_bytree=None, early_stopping_rounds=None,\n",
       "             enable_categorical=False, eval_metric=None, feature_types=None,\n",
       "             gamma=None, gpu_id=None, grow_policy=None, importance_type=None,\n",
       "             interaction_constraints=None, learning_rate=None, max_bin=None,\n",
       "             max_cat_threshold=None, max_cat_to_onehot=None,\n",
       "             max_delta_step=None, max_depth=None, max_leaves=None,\n",
       "             min_child_weight=None, missing=nan, monotone_constraints=None,\n",
       "             n_estimators=100, n_jobs=None, num_parallel_tree=None,\n",
       "             predictor=None, random_state=None, ...)"
      ]
     },
     "execution_count": 83,
     "metadata": {},
     "output_type": "execute_result"
    }
   ],
   "source": [
    "# training the model with X_train\n",
    "xb_model.fit(X_train, Y_train)"
   ]
  },
  {
   "cell_type": "code",
   "execution_count": 84,
   "id": "9aaeaa6b",
   "metadata": {},
   "outputs": [],
   "source": [
    "test_prediction = xb_model.predict(X_test)"
   ]
  },
  {
   "cell_type": "code",
   "execution_count": 85,
   "id": "0b630fef",
   "metadata": {},
   "outputs": [
    {
     "name": "stdout",
     "output_type": "stream",
     "text": [
      "[ 6.8879218e+00  5.9833875e+00  7.4873261e+00  6.6291895e+00\n",
      "  4.6567745e+00  1.0372294e+01  7.5617127e+00  4.1117935e+00\n",
      "  3.1746814e+00  5.5946360e+00  2.9661860e+00  6.1332850e+00\n",
      "  4.8321543e+00  3.1060739e+00  3.4057190e+00  5.3156056e+00\n",
      "  8.1845961e+00  3.1807201e+00  6.0818982e+00  5.8586993e+00\n",
      "  3.3463342e+00  6.1338339e+00  4.4037786e+00  1.1966398e+01\n",
      "  8.9455214e+00  6.8603220e+00  6.3810196e+00  1.0289681e+01\n",
      "  7.3104324e+00  6.8355365e+00  2.2750690e+00  1.1238104e+01\n",
      "  5.7171330e+00  1.1647989e+01  6.3332872e+00  3.4723017e+00\n",
      "  2.2145684e+00  5.7431521e+00  3.2479393e+00  5.6515365e+00\n",
      "  5.5245008e+00  5.8288789e+00  8.3775272e+00  4.5982947e+00\n",
      "  3.5407221e+00  1.0461502e+01  5.0271330e+00  3.8476925e+00\n",
      "  5.5418358e+00  4.4383268e+00  5.1127257e+00  8.6138469e-01\n",
      "  3.2682900e+00  6.0651784e+00  7.7501340e+00  6.2420053e+00\n",
      "  3.2629988e+00  5.4078150e+00  5.2544956e+00  5.9049015e+00\n",
      "  4.3436494e+00  7.1152325e+00  7.9892516e-01  9.2481508e+00\n",
      "  4.2768259e+00  4.0967450e+00  6.1197109e+00  3.5234652e+00\n",
      "  6.2896552e+00  4.9226937e+00  4.6435127e+00  8.2364664e+00\n",
      "  6.8849292e+00  3.2148364e+00  6.7759266e+00  1.1847138e+01\n",
      "  6.0359120e+00  3.2855816e+00  5.8439436e+00  1.2437083e+01\n",
      "  3.7717524e+00  5.3965549e+00  1.9018371e+00  7.4354253e+00\n",
      "  3.3081765e+00  5.7939386e+00  4.4776516e+00  8.4270077e+00\n",
      "  1.1765228e+01  5.8383522e+00  5.9461314e-03  6.1166430e+00\n",
      "  3.2805648e+00  3.4649489e+00  8.8740826e+00  5.5989676e+00\n",
      "  7.5412641e+00  7.0370002e+00  5.1226869e+00  4.0185270e+00\n",
      "  3.8372228e+00  3.5415404e+00  3.5865918e-02  9.3544874e+00\n",
      "  4.1835165e+00  4.4627085e+00  2.6633365e+00  3.7603288e+00\n",
      "  5.5653920e+00  5.4959106e+00  6.3091984e+00 -1.7880143e-01\n",
      "  3.8837488e+00  2.9071596e+00  6.2842164e+00  5.5810299e+00\n",
      "  3.9518604e+00  5.8824782e+00  3.5640234e-01  1.6250074e+00\n",
      "  6.2905493e+00  4.4891176e+00  3.0676062e+00  2.7848506e+00\n",
      "  4.7320776e+00  5.5614395e+00  4.5818582e+00  4.1003652e+00\n",
      "  6.1587262e+00  4.4994855e+00  6.5213289e+00  7.8646226e+00\n",
      "  2.8072336e+00  4.1850452e+00  3.5192831e+00  4.8286376e+00\n",
      "  9.7313852e+00  6.5481935e+00  4.6807656e+00  9.6739206e+00\n",
      "  3.5245731e+00  6.4686799e+00  3.9316010e+00  3.9488237e+00\n",
      "  7.9958689e-01  3.3838480e+00  4.6985879e+00  6.2456150e+00\n",
      "  6.4084992e+00  6.2803521e+00  3.4723017e+00  6.0329928e+00\n",
      "  9.0299263e+00  4.9164319e+00  7.6514759e+00  7.9501063e-01\n",
      "  5.9194560e+00  3.1669698e+00  3.8975215e+00  3.7935917e+00\n",
      "  5.1409492e+00  6.8744588e+00  6.2956023e+00  6.5378928e+00\n",
      "  4.9444318e+00  1.7880914e+00  6.3541780e+00  7.5445986e+00\n",
      "  1.3566846e+01  4.8878183e+00  4.3671374e+00  4.8736663e+00\n",
      "  8.2128210e+00  1.4211046e+01  5.1979580e+00  5.4264746e+00\n",
      "  5.6370645e+00  4.6991482e+00  4.3100572e+00  7.1714129e+00\n",
      "  7.2605386e+00  1.4982456e+00  7.8266473e+00  6.0164046e+00\n",
      "  4.4110045e+00  3.8714278e+00  5.2302814e+00  3.0218678e+00\n",
      "  6.1233706e+00  4.8062320e+00  6.7579021e+00  3.4660702e+00\n",
      "  5.5796280e+00  6.2838330e+00  6.0018873e+00  4.8150749e+00\n",
      "  6.0895710e+00  6.9483924e+00  2.8022935e+00  7.3298736e+00\n",
      "  8.1648006e+00  2.7955399e+00  2.8409264e+00  9.4713945e+00\n",
      "  6.2413568e+00  5.3697472e+00  1.1657794e+01  1.2166339e+01\n",
      "  4.4391980e+00  3.8733771e+00  5.6271439e+00  4.8938737e+00\n",
      "  6.0384526e+00  1.5105188e+00  4.1750035e+00  2.1780555e+00\n",
      "  4.3930349e+00  5.4543414e+00  6.3003016e+00  2.2185848e+00\n",
      "  1.0452960e+01  2.3738570e+00  7.8609891e+00  5.5852551e+00\n",
      "  5.4486017e+00  2.7793641e+00  4.5193644e+00  4.3082948e+00\n",
      "  8.8583517e+00  1.0337078e+01  1.1411381e+01  1.0944673e+00\n",
      "  3.8888266e+00]\n"
     ]
    }
   ],
   "source": [
    "print(test_prediction)"
   ]
  },
  {
   "cell_type": "code",
   "execution_count": 86,
   "id": "71cb512b",
   "metadata": {},
   "outputs": [],
   "source": [
    "Y_test = list(Y_test)"
   ]
  },
  {
   "cell_type": "code",
   "execution_count": 87,
   "id": "4199d8bf",
   "metadata": {},
   "outputs": [
    {
     "data": {
      "image/png": "[encoded data removed]",
      "text/plain": [
       "<Figure size 640x480 with 1 Axes>"
      ]
     },
     "metadata": {},
     "output_type": "display_data"
    }
   ],
   "source": [
    "plt.plot(Y_test, color='blue', label = 'Actual Value')\n",
    "plt.plot(test_prediction, color='green', label='Predicted Value')\n",
    "plt.title('Actual  vs Predicted ')\n",
    "plt.xlabel('Number of values')\n",
    "plt.ylabel('Energy')\n",
    "plt.legend()\n",
    "plt.show()"
   ]
  },
  {
   "cell_type": "code",
   "execution_count": 88,
   "id": "3792c5ac",
   "metadata": {},
   "outputs": [],
   "source": [
    "#Training Scores\n",
    "training_data_prediction = xb_model.predict(X_train)"
   ]
  },
  {
   "cell_type": "code",
   "execution_count": 89,
   "id": "55fe2f5d",
   "metadata": {},
   "outputs": [
    {
     "data": {
      "text/plain": [
       "0.2688547550091194"
      ]
     },
     "execution_count": 89,
     "metadata": {},
     "output_type": "execute_result"
    }
   ],
   "source": [
    "mean_absolute_error(Y_train, training_data_prediction)"
   ]
  },
  {
   "cell_type": "code",
   "execution_count": 90,
   "id": "3ed9fcef",
   "metadata": {},
   "outputs": [
    {
     "data": {
      "text/plain": [
       "0.39074727105638857"
      ]
     },
     "execution_count": 90,
     "metadata": {},
     "output_type": "execute_result"
    }
   ],
   "source": [
    "sqrt(mean_squared_error(Y_train, training_data_prediction))"
   ]
  },
  {
   "cell_type": "code",
   "execution_count": 91,
   "id": "12278a2d",
   "metadata": {},
   "outputs": [
    {
     "name": "stdout",
     "output_type": "stream",
     "text": [
      "R squared error :  0.9871881679780262\n"
     ]
    }
   ],
   "source": [
    "# R squared error\n",
    "error_score = metrics.r2_score(Y_train, training_data_prediction)\n",
    "print(\"R squared error : \", error_score)"
   ]
  },
  {
   "cell_type": "code",
   "execution_count": 92,
   "id": "4bdd1d8a",
   "metadata": {},
   "outputs": [
    {
     "name": "stdout",
     "output_type": "stream",
     "text": [
      "SMAPE score:  9.281609999467914\n"
     ]
    }
   ],
   "source": [
    "smape_score = smape(Y_train, training_data_prediction)\n",
    "print(\"SMAPE score: \", smape_score)\n"
   ]
  },
  {
   "cell_type": "code",
   "execution_count": 93,
   "id": "bdfeaee3",
   "metadata": {},
   "outputs": [
    {
     "data": {
      "text/plain": [
       "1.8024891045699176"
      ]
     },
     "execution_count": 93,
     "metadata": {},
     "output_type": "execute_result"
    }
   ],
   "source": [
    "#Test Scores\n",
    "mean_absolute_error(Y_test, test_prediction)"
   ]
  },
  {
   "cell_type": "code",
   "execution_count": 94,
   "id": "a4f2c180",
   "metadata": {},
   "outputs": [],
   "source": [
    "rms = sqrt(mean_squared_error(Y_test, test_prediction))"
   ]
  },
  {
   "cell_type": "code",
   "execution_count": 95,
   "id": "7b271cb7",
   "metadata": {},
   "outputs": [
    {
     "name": "stdout",
     "output_type": "stream",
     "text": [
      "2.702072912801902\n"
     ]
    }
   ],
   "source": [
    "print(rms)"
   ]
  },
  {
   "cell_type": "code",
   "execution_count": 96,
   "id": "dfd649a8",
   "metadata": {},
   "outputs": [
    {
     "name": "stdout",
     "output_type": "stream",
     "text": [
      "R squared error :  0.34024802497630735\n"
     ]
    }
   ],
   "source": [
    "# R squared error\n",
    "error_score = metrics.r2_score(Y_test, test_prediction)\n",
    "print(\"R squared error : \", error_score)"
   ]
  },
  {
   "cell_type": "code",
   "execution_count": 97,
   "id": "73eee2b9",
   "metadata": {},
   "outputs": [
    {
     "name": "stdout",
     "output_type": "stream",
     "text": [
      "SMAPE score:  38.8774994508714\n"
     ]
    }
   ],
   "source": [
    "smape_score = smape(Y_test, test_prediction)\n",
    "print(\"SMAPE score: \", smape_score)"
   ]
  },
  {
   "cell_type": "code",
   "execution_count": 98,
   "id": "ad418758",
   "metadata": {},
   "outputs": [
    {
     "data": {
      "image/png": "[encoded data removed]",
      "text/plain": [
       "<Figure size 640x480 with 1 Axes>"
      ]
     },
     "metadata": {},
     "output_type": "display_data"
    }
   ],
   "source": [
    "#Visualising\n",
    "sns.regplot(x=Y_test, y=test_prediction)\n",
    "plt.xlabel(\"Actual\")\n",
    "plt.ylabel('Predicted')\n",
    "plt.title(\"ACtual vs predicted\")\n",
    "plt.show()"
   ]
  },
  {
   "cell_type": "markdown",
   "id": "56591b3b",
   "metadata": {},
   "source": [
    "#ANN "
   ]
  },
  {
   "cell_type": "code",
   "execution_count": 99,
   "id": "2fc6a316",
   "metadata": {},
   "outputs": [],
   "source": [
    "X_train, X_test, Y_train, Y_test = train_test_split(X, Y, test_size = 0.2, random_state=2)"
   ]
  },
  {
   "cell_type": "code",
   "execution_count": 100,
   "id": "fb77bb0b",
   "metadata": {},
   "outputs": [],
   "source": [
    "# layers\n",
    "model=Sequential()\n",
    "model.add(Dense(units = 10, kernel_initializer = 'uniform', activation = 'relu', input_dim = 10))\n",
    "#model.add(Dense(units = 64, kernel_initializer = 'uniform', activation = 'relu'))\n",
    "model.add(Dense(units = 16, kernel_initializer = 'uniform', activation = 'relu'))\n",
    "model.add(Dense(units = 1, kernel_initializer = 'uniform', activation = 'linear'))"
   ]
  },
  {
   "cell_type": "code",
   "execution_count": 101,
   "id": "a721ac4b",
   "metadata": {},
   "outputs": [],
   "source": [
    "# Compile the model\n",
    "model.compile(loss='mean_absolute_error', optimizer='adam')\n"
   ]
  },
  {
   "cell_type": "code",
   "execution_count": 102,
   "id": "f7b8e2f5",
   "metadata": {},
   "outputs": [
    {
     "data": {
      "text/plain": [
       "<keras.callbacks.History at 0x1f8564a8790>"
      ]
     },
     "execution_count": 102,
     "metadata": {},
     "output_type": "execute_result"
    }
   ],
   "source": [
    "# Train the model on the training dataset\n",
    "model.fit(X_train, Y_train, epochs=1000, batch_size=64, verbose=0)"
   ]
  },
  {
   "cell_type": "code",
   "execution_count": 103,
   "id": "13a10980",
   "metadata": {},
   "outputs": [
    {
     "name": "stdout",
     "output_type": "stream",
     "text": [
      "8/8 [==============================] - 0s 2ms/step\n"
     ]
    }
   ],
   "source": [
    "# Use the trained model to make predictions on the test dataset\n",
    "Y_pred = model.predict(X_test)\n"
   ]
  },
  {
   "cell_type": "code",
   "execution_count": 104,
   "id": "0be2f335",
   "metadata": {},
   "outputs": [
    {
     "name": "stdout",
     "output_type": "stream",
     "text": [
      "[[ 4.9578476]\n",
      " [ 6.5596714]\n",
      " [ 6.9729   ]\n",
      " [ 6.6450763]\n",
      " [ 5.50194  ]\n",
      " [10.490314 ]\n",
      " [ 6.056695 ]\n",
      " [ 5.2638874]\n",
      " [ 6.19478  ]\n",
      " [ 3.9053874]\n",
      " [ 2.9229307]\n",
      " [ 6.6228957]\n",
      " [ 5.2703404]\n",
      " [ 5.402757 ]\n",
      " [ 8.477984 ]\n",
      " [ 6.6627884]\n",
      " [ 6.1250353]\n",
      " [ 5.040589 ]\n",
      " [ 6.5282764]\n",
      " [ 5.874997 ]\n",
      " [ 5.931173 ]\n",
      " [ 5.9978013]\n",
      " [ 7.683121 ]\n",
      " [11.122314 ]\n",
      " [ 7.82078  ]\n",
      " [ 6.337656 ]\n",
      " [ 6.791956 ]\n",
      " [ 6.2594748]\n",
      " [ 7.4592447]\n",
      " [ 7.5060472]\n",
      " [ 1.4240927]\n",
      " [10.331382 ]\n",
      " [ 5.6711965]\n",
      " [ 9.69285  ]\n",
      " [ 6.4148264]\n",
      " [ 3.740446 ]\n",
      " [ 3.7416868]\n",
      " [ 6.1321244]\n",
      " [ 3.6628451]\n",
      " [ 5.5024014]\n",
      " [ 6.2402744]\n",
      " [ 6.6445937]\n",
      " [ 7.2339053]\n",
      " [ 5.90061  ]\n",
      " [ 5.562303 ]\n",
      " [11.030344 ]\n",
      " [ 5.0976663]\n",
      " [ 4.9571695]\n",
      " [ 5.451547 ]\n",
      " [ 3.797469 ]\n",
      " [ 6.137921 ]\n",
      " [ 4.5859547]\n",
      " [ 3.739376 ]\n",
      " [ 7.042697 ]\n",
      " [ 4.4364963]\n",
      " [ 6.284693 ]\n",
      " [ 4.063769 ]\n",
      " [ 4.8750434]\n",
      " [ 5.4818025]\n",
      " [ 6.4914412]\n",
      " [ 4.164971 ]\n",
      " [ 7.42158  ]\n",
      " [ 2.438754 ]\n",
      " [ 5.754315 ]\n",
      " [ 5.3289685]\n",
      " [ 5.0376678]\n",
      " [ 6.012713 ]\n",
      " [ 2.912979 ]\n",
      " [ 6.662806 ]\n",
      " [ 6.4074197]\n",
      " [ 3.4958792]\n",
      " [ 6.2494907]\n",
      " [ 6.867622 ]\n",
      " [ 2.6114743]\n",
      " [ 6.705031 ]\n",
      " [ 7.70631  ]\n",
      " [ 7.7116256]\n",
      " [ 5.7894855]\n",
      " [ 8.7393675]\n",
      " [ 6.965567 ]\n",
      " [ 6.1993365]\n",
      " [ 6.9677434]\n",
      " [ 5.0645585]\n",
      " [ 7.54618  ]\n",
      " [ 6.316618 ]\n",
      " [ 6.470674 ]\n",
      " [ 3.5369387]\n",
      " [ 9.640159 ]\n",
      " [ 8.131007 ]\n",
      " [ 6.5581536]\n",
      " [ 4.5989537]\n",
      " [ 6.7699165]\n",
      " [ 4.2541904]\n",
      " [ 3.9996223]\n",
      " [ 7.8930373]\n",
      " [ 6.646751 ]\n",
      " [ 5.3648767]\n",
      " [ 5.8265643]\n",
      " [ 5.0653014]\n",
      " [ 4.755408 ]\n",
      " [ 4.0718946]\n",
      " [ 4.0013604]\n",
      " [ 1.7555804]\n",
      " [11.982402 ]\n",
      " [ 4.424004 ]\n",
      " [ 4.3888574]\n",
      " [ 5.342298 ]\n",
      " [ 7.4453073]\n",
      " [ 6.6002064]\n",
      " [ 6.1598873]\n",
      " [ 6.3789654]\n",
      " [ 4.060762 ]\n",
      " [ 3.6923728]\n",
      " [ 2.9712234]\n",
      " [ 6.1323223]\n",
      " [ 6.1620526]\n",
      " [ 3.925305 ]\n",
      " [ 5.9470763]\n",
      " [ 1.3373102]\n",
      " [ 2.6743975]\n",
      " [ 6.5681577]\n",
      " [ 4.989021 ]\n",
      " [ 3.651972 ]\n",
      " [ 2.5122423]\n",
      " [ 6.1246233]\n",
      " [ 5.057408 ]\n",
      " [ 4.9800286]\n",
      " [ 2.239407 ]\n",
      " [ 4.90446  ]\n",
      " [ 6.1464963]\n",
      " [ 7.235496 ]\n",
      " [ 6.378324 ]\n",
      " [ 3.0922613]\n",
      " [ 4.4471087]\n",
      " [ 5.1195006]\n",
      " [ 6.5701046]\n",
      " [ 7.5949535]\n",
      " [ 5.9437966]\n",
      " [ 5.17788  ]\n",
      " [ 5.9058347]\n",
      " [ 4.0695066]\n",
      " [ 6.6082935]\n",
      " [ 6.3711076]\n",
      " [ 3.9245172]\n",
      " [ 6.281011 ]\n",
      " [ 5.3586144]\n",
      " [ 6.4046073]\n",
      " [ 5.946948 ]\n",
      " [ 6.8044395]\n",
      " [ 5.6289077]\n",
      " [ 3.641437 ]\n",
      " [ 5.677345 ]\n",
      " [ 5.478679 ]\n",
      " [ 4.0136523]\n",
      " [ 2.552338 ]\n",
      " [ 1.6860247]\n",
      " [ 6.6952434]\n",
      " [ 5.010056 ]\n",
      " [ 5.7120776]\n",
      " [ 2.909203 ]\n",
      " [ 4.1503196]\n",
      " [ 6.745047 ]\n",
      " [ 6.6598496]\n",
      " [ 6.387071 ]\n",
      " [ 6.5241046]\n",
      " [ 2.7312217]\n",
      " [ 6.4670095]\n",
      " [ 5.6422853]\n",
      " [ 5.24532  ]\n",
      " [ 5.0176253]\n",
      " [ 6.0520234]\n",
      " [ 2.4405189]\n",
      " [ 5.751147 ]\n",
      " [ 9.123495 ]\n",
      " [ 4.260888 ]\n",
      " [ 5.292185 ]\n",
      " [ 6.217628 ]\n",
      " [ 4.5890326]\n",
      " [ 5.2325654]\n",
      " [ 5.789473 ]\n",
      " [ 6.059974 ]\n",
      " [ 6.368686 ]\n",
      " [ 6.4624104]\n",
      " [ 6.14348  ]\n",
      " [ 6.509668 ]\n",
      " [ 4.318216 ]\n",
      " [ 6.636219 ]\n",
      " [ 2.9144242]\n",
      " [ 7.581772 ]\n",
      " [ 3.882907 ]\n",
      " [ 6.1031175]\n",
      " [ 2.6128104]\n",
      " [ 6.314193 ]\n",
      " [ 5.8125114]\n",
      " [ 6.4405065]\n",
      " [ 5.2374763]\n",
      " [ 5.54781  ]\n",
      " [ 6.6189785]\n",
      " [ 5.300282 ]\n",
      " [ 6.9548926]\n",
      " [ 8.919229 ]\n",
      " [ 3.196312 ]\n",
      " [ 2.3839624]\n",
      " [ 8.30001  ]\n",
      " [ 5.9777484]\n",
      " [ 3.3660488]\n",
      " [ 9.674445 ]\n",
      " [ 6.5951705]\n",
      " [ 6.424705 ]\n",
      " [ 5.260927 ]\n",
      " [ 5.19814  ]\n",
      " [ 6.4656005]\n",
      " [ 7.3772573]\n",
      " [ 2.809451 ]\n",
      " [ 4.713164 ]\n",
      " [ 1.7119095]\n",
      " [ 4.9046636]\n",
      " [ 7.183764 ]\n",
      " [ 6.719647 ]\n",
      " [ 3.53879  ]\n",
      " [ 6.2168336]\n",
      " [ 6.2492785]\n",
      " [ 7.107855 ]\n",
      " [ 5.943468 ]\n",
      " [ 5.120967 ]\n",
      " [ 2.3895237]\n",
      " [ 4.335078 ]\n",
      " [ 4.893456 ]\n",
      " [ 5.912566 ]\n",
      " [13.048047 ]\n",
      " [11.227764 ]\n",
      " [ 1.8665535]\n",
      " [ 4.421739 ]]\n"
     ]
    }
   ],
   "source": [
    "print(Y_pred)"
   ]
  },
  {
   "cell_type": "code",
   "execution_count": 106,
   "id": "bc82622e",
   "metadata": {},
   "outputs": [
    {
     "name": "stdout",
     "output_type": "stream",
     "text": [
      "30/30 [==============================] - 0s 2ms/step\n"
     ]
    }
   ],
   "source": [
    "#Training Scores\n",
    "training_data_prediction = model.predict(X_train)"
   ]
  },
  {
   "cell_type": "code",
   "execution_count": 107,
   "id": "b1f9ba40",
   "metadata": {},
   "outputs": [
    {
     "data": {
      "text/plain": [
       "1.8442964882826962"
      ]
     },
     "execution_count": 107,
     "metadata": {},
     "output_type": "execute_result"
    }
   ],
   "source": [
    "mean_absolute_error(Y_train, training_data_prediction)"
   ]
  },
  {
   "cell_type": "code",
   "execution_count": 108,
   "id": "94d74a28",
   "metadata": {},
   "outputs": [
    {
     "data": {
      "text/plain": [
       "2.8127780517802714"
      ]
     },
     "execution_count": 108,
     "metadata": {},
     "output_type": "execute_result"
    }
   ],
   "source": [
    "sqrt(mean_squared_error(Y_train, training_data_prediction))"
   ]
  },
  {
   "cell_type": "code",
   "execution_count": 109,
   "id": "e4d89b29",
   "metadata": {},
   "outputs": [
    {
     "name": "stdout",
     "output_type": "stream",
     "text": [
      "R squared error :  0.3361189719501745\n"
     ]
    }
   ],
   "source": [
    "# R squared error\n",
    "error_score = metrics.r2_score(Y_train, training_data_prediction)\n",
    "print(\"R squared error : \", error_score)"
   ]
  },
  {
   "cell_type": "code",
   "execution_count": 115,
   "id": "e504f660",
   "metadata": {},
   "outputs": [],
   "source": [
    "def smape(actual, predicted):\n",
    "    \"\"\"\n",
    "    Calculate SMAPE (Symmetric Mean Absolute Percentage Error) for actual and predicted values.\n",
    "    \"\"\"\n",
    "    actual = np.array(actual)\n",
    "    predicted = np.array(predicted)\n",
    "    return np.mean((np.abs(actual - predicted) / (np.abs(actual) + np.abs(predicted))) * 2) * 100"
   ]
  },
  {
   "cell_type": "code",
   "execution_count": 116,
   "id": "96552379",
   "metadata": {},
   "outputs": [
    {
     "name": "stdout",
     "output_type": "stream",
     "text": [
      "SMAPE score: 55.16535991677949\n"
     ]
    }
   ],
   "source": [
    "smape_score = smape(Y_test, training_data_prediction )\n",
    "print(\"SMAPE score:\", smape_score)"
   ]
  },
  {
   "cell_type": "code",
   "execution_count": 117,
   "id": "590954d1",
   "metadata": {},
   "outputs": [
    {
     "data": {
      "text/plain": [
       "1.8861700453778707"
      ]
     },
     "execution_count": 117,
     "metadata": {},
     "output_type": "execute_result"
    }
   ],
   "source": [
    "#Test Scores\n",
    "mean_absolute_error(Y_test, Y_pred)"
   ]
  },
  {
   "cell_type": "code",
   "execution_count": 118,
   "id": "18bcb0ae",
   "metadata": {},
   "outputs": [],
   "source": [
    "rms = sqrt(mean_squared_error(Y_test, Y_pred))"
   ]
  },
  {
   "cell_type": "code",
   "execution_count": 119,
   "id": "fa8e81c8",
   "metadata": {},
   "outputs": [
    {
     "name": "stdout",
     "output_type": "stream",
     "text": [
      "2.720404021084322\n"
     ]
    }
   ],
   "source": [
    "print(rms)"
   ]
  },
  {
   "cell_type": "code",
   "execution_count": 120,
   "id": "02175add",
   "metadata": {},
   "outputs": [
    {
     "name": "stdout",
     "output_type": "stream",
     "text": [
      "R squared error :  0.3312660258728112\n"
     ]
    }
   ],
   "source": [
    "# R squared error\n",
    "error_score = metrics.r2_score(Y_test, Y_pred)\n",
    "print(\"R squared error : \", error_score)"
   ]
  },
  {
   "cell_type": "code",
   "execution_count": 121,
   "id": "e16ec6fa",
   "metadata": {},
   "outputs": [
    {
     "name": "stdout",
     "output_type": "stream",
     "text": [
      "SMAPE score: 54.86283900619706\n"
     ]
    }
   ],
   "source": [
    "smape_score = smape(Y_test, Y_pred)\n",
    "print(\"SMAPE score:\", smape_score)"
   ]
  },
  {
   "cell_type": "code",
   "execution_count": 122,
   "id": "7375fbb3",
   "metadata": {},
   "outputs": [
    {
     "data": {
      "image/png": "[encoded data removed]",
      "text/plain": [
       "<Figure size 640x480 with 1 Axes>"
      ]
     },
     "metadata": {},
     "output_type": "display_data"
    }
   ],
   "source": [
    "#Visualising\n",
    "sns.regplot(x=Y_test, y=Y_pred)\n",
    "plt.xlabel(\"Actual\")\n",
    "plt.ylabel('Predicted')\n",
    "plt.title(\"ACtual vs predicted\")\n",
    "plt.show()"
   ]
  },
  {
   "cell_type": "markdown",
   "id": "0ef020ac",
   "metadata": {},
   "source": [
    "#KNN"
   ]
  },
  {
   "cell_type": "code",
   "execution_count": 123,
   "id": "034af075",
   "metadata": {},
   "outputs": [],
   "source": [
    "from sklearn.neighbors import KNeighborsRegressor"
   ]
  },
  {
   "cell_type": "code",
   "execution_count": 197,
   "id": "0d46b637",
   "metadata": {},
   "outputs": [],
   "source": [
    "k = 5\n",
    "knn = KNeighborsRegressor(n_neighbors=k)\n",
    "knn.fit(X_train, Y_train)\n",
    "knn_pred = knn.predict(X_test)"
   ]
  },
  {
   "cell_type": "code",
   "execution_count": 198,
   "id": "869a9163",
   "metadata": {},
   "outputs": [],
   "source": [
    "#Train Scores\n",
    "training_data_prediction = knn.predict(X_train)"
   ]
  },
  {
   "cell_type": "code",
   "execution_count": 199,
   "id": "d00407c2",
   "metadata": {},
   "outputs": [
    {
     "data": {
      "text/plain": [
       "1.7537078410311493"
      ]
     },
     "execution_count": 199,
     "metadata": {},
     "output_type": "execute_result"
    }
   ],
   "source": [
    "mean_absolute_error(Y_train, training_data_prediction)"
   ]
  },
  {
   "cell_type": "code",
   "execution_count": 200,
   "id": "fb4a2ed4",
   "metadata": {},
   "outputs": [
    {
     "data": {
      "text/plain": [
       "2.566532557862705"
      ]
     },
     "execution_count": 200,
     "metadata": {},
     "output_type": "execute_result"
    }
   ],
   "source": [
    "sqrt(mean_squared_error(Y_train, training_data_prediction))"
   ]
  },
  {
   "cell_type": "code",
   "execution_count": 201,
   "id": "4a630b4f",
   "metadata": {},
   "outputs": [
    {
     "name": "stdout",
     "output_type": "stream",
     "text": [
      "R squared error :  0.4472701941592703\n"
     ]
    }
   ],
   "source": [
    "# R squared error\n",
    "error_score = metrics.r2_score(Y_train, training_data_prediction)\n",
    "print(\"R squared error : \", error_score)"
   ]
  },
  {
   "cell_type": "code",
   "execution_count": 202,
   "id": "698f03e7",
   "metadata": {},
   "outputs": [
    {
     "name": "stdout",
     "output_type": "stream",
     "text": [
      "SMAPE score: 33.732846562836286\n"
     ]
    }
   ],
   "source": [
    "smape_score = smape(Y_train, training_data_prediction)\n",
    "print(\"SMAPE score:\", smape_score)"
   ]
  },
  {
   "cell_type": "code",
   "execution_count": 203,
   "id": "8d3e1575",
   "metadata": {},
   "outputs": [
    {
     "data": {
      "text/plain": [
       "1.8855450643776823"
      ]
     },
     "execution_count": 203,
     "metadata": {},
     "output_type": "execute_result"
    }
   ],
   "source": [
    "#test Scores\n",
    "mean_absolute_error(Y_test, knn_pred)"
   ]
  },
  {
   "cell_type": "code",
   "execution_count": 204,
   "id": "f3afd8c2",
   "metadata": {},
   "outputs": [
    {
     "data": {
      "text/plain": [
       "2.6787311454037757"
      ]
     },
     "execution_count": 204,
     "metadata": {},
     "output_type": "execute_result"
    }
   ],
   "source": [
    "sqrt(mean_squared_error(Y_test, knn_pred))"
   ]
  },
  {
   "cell_type": "code",
   "execution_count": 205,
   "id": "5ad0adc4",
   "metadata": {},
   "outputs": [
    {
     "name": "stdout",
     "output_type": "stream",
     "text": [
      "R squared error :  0.35159728341882956\n"
     ]
    }
   ],
   "source": [
    "# R squared error\n",
    "error_score = metrics.r2_score(Y_test, knn_pred)\n",
    "print(\"R squared error : \", error_score)"
   ]
  },
  {
   "cell_type": "code",
   "execution_count": 206,
   "id": "1898a4eb",
   "metadata": {},
   "outputs": [
    {
     "name": "stdout",
     "output_type": "stream",
     "text": [
      "SMAPE score: 39.41132856144189\n"
     ]
    }
   ],
   "source": [
    "smape_score = smape(Y_test, knn_pred)\n",
    "print(\"SMAPE score:\", smape_score)"
   ]
  },
  {
   "cell_type": "code",
   "execution_count": 207,
   "id": "10d8efea",
   "metadata": {},
   "outputs": [],
   "source": [
    "from sklearn.ensemble import AdaBoostRegressor"
   ]
  },
  {
   "cell_type": "code",
   "execution_count": 280,
   "id": "c934d48d",
   "metadata": {},
   "outputs": [],
   "source": [
    "k = 9\n",
    "knn = KNeighborsRegressor(n_neighbors=k)\n",
    "adaboost = AdaBoostRegressor(estimator=knn, n_estimators=50, learning_rate=0.1)\n",
    "adaboost.fit(X_train, Y_train)\n",
    "ada_pred = adaboost.predict(X_test)"
   ]
  },
  {
   "cell_type": "code",
   "execution_count": 281,
   "id": "ff098539",
   "metadata": {},
   "outputs": [],
   "source": [
    "#Train Scores\n",
    "training_data_prediction = adaboost.predict(X_train)"
   ]
  },
  {
   "cell_type": "code",
   "execution_count": 282,
   "id": "2e098482",
   "metadata": {},
   "outputs": [
    {
     "data": {
      "text/plain": [
       "1.9213211600429645"
      ]
     },
     "execution_count": 282,
     "metadata": {},
     "output_type": "execute_result"
    }
   ],
   "source": [
    "mean_absolute_error(Y_train, training_data_prediction)"
   ]
  },
  {
   "cell_type": "code",
   "execution_count": 283,
   "id": "ebf9f397",
   "metadata": {},
   "outputs": [
    {
     "data": {
      "text/plain": [
       "2.604811967739268"
      ]
     },
     "execution_count": 283,
     "metadata": {},
     "output_type": "execute_result"
    }
   ],
   "source": [
    "sqrt(mean_squared_error(Y_train, training_data_prediction))"
   ]
  },
  {
   "cell_type": "code",
   "execution_count": 284,
   "id": "20fdf4d7",
   "metadata": {},
   "outputs": [
    {
     "name": "stdout",
     "output_type": "stream",
     "text": [
      "R squared error :  0.43065949032259176\n"
     ]
    }
   ],
   "source": [
    "# R squared error\n",
    "error_score = metrics.r2_score(Y_train, training_data_prediction)\n",
    "print(\"R squared error : \", error_score)"
   ]
  },
  {
   "cell_type": "code",
   "execution_count": 285,
   "id": "8304e2f9",
   "metadata": {},
   "outputs": [
    {
     "name": "stdout",
     "output_type": "stream",
     "text": [
      "SMAPE score: 36.569609845317096\n"
     ]
    }
   ],
   "source": [
    "smape_score = smape(Y_train, training_data_prediction)\n",
    "print(\"SMAPE score:\", smape_score)"
   ]
  },
  {
   "cell_type": "code",
   "execution_count": 286,
   "id": "0c733dbe",
   "metadata": {},
   "outputs": [
    {
     "data": {
      "text/plain": [
       "1.9895517405817833"
      ]
     },
     "execution_count": 286,
     "metadata": {},
     "output_type": "execute_result"
    }
   ],
   "source": [
    "#Test Scores\n",
    "mean_absolute_error(Y_test, ada_pred)"
   ]
  },
  {
   "cell_type": "code",
   "execution_count": 287,
   "id": "e253e2da",
   "metadata": {},
   "outputs": [
    {
     "data": {
      "text/plain": [
       "2.817214310475733"
      ]
     },
     "execution_count": 287,
     "metadata": {},
     "output_type": "execute_result"
    }
   ],
   "source": [
    "sqrt(mean_squared_error(Y_test, ada_pred))"
   ]
  },
  {
   "cell_type": "code",
   "execution_count": 288,
   "id": "fdcdd281",
   "metadata": {},
   "outputs": [
    {
     "name": "stdout",
     "output_type": "stream",
     "text": [
      "R squared error :  0.2828230170873891\n"
     ]
    }
   ],
   "source": [
    "# R squared error\n",
    "error_score = metrics.r2_score(Y_test, ada_pred)\n",
    "print(\"R squared error : \", error_score)"
   ]
  },
  {
   "cell_type": "code",
   "execution_count": 289,
   "id": "4098cb3f",
   "metadata": {},
   "outputs": [
    {
     "name": "stdout",
     "output_type": "stream",
     "text": [
      "SMAPE score: 40.31467112782971\n"
     ]
    }
   ],
   "source": [
    "smape_score = smape(Y_test, ada_pred)\n",
    "print(\"SMAPE score:\", smape_score)"
   ]
  },
  {
   "cell_type": "code",
   "execution_count": 290,
   "id": "b830ca5b",
   "metadata": {},
   "outputs": [
    {
     "data": {
      "image/png": "[encoded data removed]",
      "text/plain": [
       "<Figure size 640x480 with 1 Axes>"
      ]
     },
     "metadata": {},
     "output_type": "display_data"
    }
   ],
   "source": [
    "#Visualising\n",
    "sns.regplot(x=Y_test, y=ada_pred)\n",
    "plt.xlabel(\"Actual\")\n",
    "plt.ylabel('Predicted')\n",
    "plt.title(\"ACtual vs predicted\")\n",
    "plt.show()"
   ]
  },
  {
   "cell_type": "markdown",
   "id": "969e316a",
   "metadata": {},
   "source": [
    "# Ensemble Learning"
   ]
  },
  {
   "cell_type": "code",
   "execution_count": 291,
   "id": "bb5c4ca6",
   "metadata": {},
   "outputs": [
    {
     "data": {
      "text/html": [
       "<style>#sk-container-id-6 {color: black;background-color: white;}#sk-container-id-6 pre{padding: 0;}#sk-container-id-6 div.sk-toggleable {background-color: white;}#sk-container-id-6 label.sk-toggleable__label {cursor: pointer;display: block;width: 100%;margin-bottom: 0;padding: 0.3em;box-sizing: border-box;text-align: center;}#sk-container-id-6 label.sk-toggleable__label-arrow:before {content: \"▸\";float: left;margin-right: 0.25em;color: #696969;}#sk-container-id-6 label.sk-toggleable__label-arrow:hover:before {color: black;}#sk-container-id-6 div.sk-estimator:hover label.sk-toggleable__label-arrow:before {color: black;}#sk-container-id-6 div.sk-toggleable__content {max-height: 0;max-width: 0;overflow: hidden;text-align: left;background-color: #f0f8ff;}#sk-container-id-6 div.sk-toggleable__content pre {margin: 0.2em;color: black;border-radius: 0.25em;background-color: #f0f8ff;}#sk-container-id-6 input.sk-toggleable__control:checked~div.sk-toggleable__content {max-height: 200px;max-width: 100%;overflow: auto;}#sk-container-id-6 input.sk-toggleable__control:checked~label.sk-toggleable__label-arrow:before {content: \"▾\";}#sk-container-id-6 div.sk-estimator input.sk-toggleable__control:checked~label.sk-toggleable__label {background-color: #d4ebff;}#sk-container-id-6 div.sk-label input.sk-toggleable__control:checked~label.sk-toggleable__label {background-color: #d4ebff;}#sk-container-id-6 input.sk-hidden--visually {border: 0;clip: rect(1px 1px 1px 1px);clip: rect(1px, 1px, 1px, 1px);height: 1px;margin: -1px;overflow: hidden;padding: 0;position: absolute;width: 1px;}#sk-container-id-6 div.sk-estimator {font-family: monospace;background-color: #f0f8ff;border: 1px dotted black;border-radius: 0.25em;box-sizing: border-box;margin-bottom: 0.5em;}#sk-container-id-6 div.sk-estimator:hover {background-color: #d4ebff;}#sk-container-id-6 div.sk-parallel-item::after {content: \"\";width: 100%;border-bottom: 1px solid gray;flex-grow: 1;}#sk-container-id-6 div.sk-label:hover label.sk-toggleable__label {background-color: #d4ebff;}#sk-container-id-6 div.sk-serial::before {content: \"\";position: absolute;border-left: 1px solid gray;box-sizing: border-box;top: 0;bottom: 0;left: 50%;z-index: 0;}#sk-container-id-6 div.sk-serial {display: flex;flex-direction: column;align-items: center;background-color: white;padding-right: 0.2em;padding-left: 0.2em;position: relative;}#sk-container-id-6 div.sk-item {position: relative;z-index: 1;}#sk-container-id-6 div.sk-parallel {display: flex;align-items: stretch;justify-content: center;background-color: white;position: relative;}#sk-container-id-6 div.sk-item::before, #sk-container-id-6 div.sk-parallel-item::before {content: \"\";position: absolute;border-left: 1px solid gray;box-sizing: border-box;top: 0;bottom: 0;left: 50%;z-index: -1;}#sk-container-id-6 div.sk-parallel-item {display: flex;flex-direction: column;z-index: 1;position: relative;background-color: white;}#sk-container-id-6 div.sk-parallel-item:first-child::after {align-self: flex-end;width: 50%;}#sk-container-id-6 div.sk-parallel-item:last-child::after {align-self: flex-start;width: 50%;}#sk-container-id-6 div.sk-parallel-item:only-child::after {width: 0;}#sk-container-id-6 div.sk-dashed-wrapped {border: 1px dashed gray;margin: 0 0.4em 0.5em 0.4em;box-sizing: border-box;padding-bottom: 0.4em;background-color: white;}#sk-container-id-6 div.sk-label label {font-family: monospace;font-weight: bold;display: inline-block;line-height: 1.2em;}#sk-container-id-6 div.sk-label-container {text-align: center;}#sk-container-id-6 div.sk-container {/* jupyter's `normalize.less` sets `[hidden] { display: none; }` but bootstrap.min.css set `[hidden] { display: none !important; }` so we also need the `!important` here to be able to override the default hidden behavior on the sphinx rendered scikit-learn.org. See: https://github.com/scikit-learn/scikit-learn/issues/21755 */display: inline-block !important;position: relative;}#sk-container-id-6 div.sk-text-repr-fallback {display: none;}</style><div id=\"sk-container-id-6\" class=\"sk-top-container\"><div class=\"sk-text-repr-fallback\"><pre>StackingRegressor(estimators=[(&#x27;rf&#x27;, RandomForestRegressor()),\n",
       "                              (&#x27;xgb&#x27;,\n",
       "                               XGBRegressor(base_score=None, booster=None,\n",
       "                                            callbacks=None,\n",
       "                                            colsample_bylevel=None,\n",
       "                                            colsample_bynode=None,\n",
       "                                            colsample_bytree=None,\n",
       "                                            early_stopping_rounds=None,\n",
       "                                            enable_categorical=False,\n",
       "                                            eval_metric=None,\n",
       "                                            feature_types=None, gamma=None,\n",
       "                                            gpu_id=None, grow_policy=None,\n",
       "                                            importance_type=None,\n",
       "                                            interaction_constraints=None,\n",
       "                                            learning_rate=None, max_bin=None,\n",
       "                                            max_cat_threshold=None,\n",
       "                                            max_cat_to_onehot=None,\n",
       "                                            max_delta_step=None, max_depth=None,\n",
       "                                            max_leaves=None,\n",
       "                                            min_child_weight=None, missing=nan,\n",
       "                                            monotone_constraints=None,\n",
       "                                            n_estimators=100, n_jobs=None,\n",
       "                                            num_parallel_tree=None,\n",
       "                                            predictor=None, random_state=None, ...))])</pre><b>In a Jupyter environment, please rerun this cell to show the HTML representation or trust the notebook. <br />On GitHub, the HTML representation is unable to render, please try loading this page with nbviewer.org.</b></div><div class=\"sk-container\" hidden><div class=\"sk-item sk-dashed-wrapped\"><div class=\"sk-label-container\"><div class=\"sk-label sk-toggleable\"><input class=\"sk-toggleable__control sk-hidden--visually\" id=\"sk-estimator-id-6\" type=\"checkbox\" ><label for=\"sk-estimator-id-6\" class=\"sk-toggleable__label sk-toggleable__label-arrow\">StackingRegressor</label><div class=\"sk-toggleable__content\"><pre>StackingRegressor(estimators=[(&#x27;rf&#x27;, RandomForestRegressor()),\n",
       "                              (&#x27;xgb&#x27;,\n",
       "                               XGBRegressor(base_score=None, booster=None,\n",
       "                                            callbacks=None,\n",
       "                                            colsample_bylevel=None,\n",
       "                                            colsample_bynode=None,\n",
       "                                            colsample_bytree=None,\n",
       "                                            early_stopping_rounds=None,\n",
       "                                            enable_categorical=False,\n",
       "                                            eval_metric=None,\n",
       "                                            feature_types=None, gamma=None,\n",
       "                                            gpu_id=None, grow_policy=None,\n",
       "                                            importance_type=None,\n",
       "                                            interaction_constraints=None,\n",
       "                                            learning_rate=None, max_bin=None,\n",
       "                                            max_cat_threshold=None,\n",
       "                                            max_cat_to_onehot=None,\n",
       "                                            max_delta_step=None, max_depth=None,\n",
       "                                            max_leaves=None,\n",
       "                                            min_child_weight=None, missing=nan,\n",
       "                                            monotone_constraints=None,\n",
       "                                            n_estimators=100, n_jobs=None,\n",
       "                                            num_parallel_tree=None,\n",
       "                                            predictor=None, random_state=None, ...))])</pre></div></div></div><div class=\"sk-serial\"><div class=\"sk-item\"><div class=\"sk-parallel\"><div class=\"sk-parallel-item\"><div class=\"sk-item\"><div class=\"sk-label-container\"><div class=\"sk-label sk-toggleable\"><label>rf</label></div></div><div class=\"sk-serial\"><div class=\"sk-item\"><div class=\"sk-estimator sk-toggleable\"><input class=\"sk-toggleable__control sk-hidden--visually\" id=\"sk-estimator-id-7\" type=\"checkbox\" ><label for=\"sk-estimator-id-7\" class=\"sk-toggleable__label sk-toggleable__label-arrow\">RandomForestRegressor</label><div class=\"sk-toggleable__content\"><pre>RandomForestRegressor()</pre></div></div></div></div></div></div><div class=\"sk-parallel-item\"><div class=\"sk-item\"><div class=\"sk-label-container\"><div class=\"sk-label sk-toggleable\"><label>xgb</label></div></div><div class=\"sk-serial\"><div class=\"sk-item\"><div class=\"sk-estimator sk-toggleable\"><input class=\"sk-toggleable__control sk-hidden--visually\" id=\"sk-estimator-id-8\" type=\"checkbox\" ><label for=\"sk-estimator-id-8\" class=\"sk-toggleable__label sk-toggleable__label-arrow\">XGBRegressor</label><div class=\"sk-toggleable__content\"><pre>XGBRegressor(base_score=None, booster=None, callbacks=None,\n",
       "             colsample_bylevel=None, colsample_bynode=None,\n",
       "             colsample_bytree=None, early_stopping_rounds=None,\n",
       "             enable_categorical=False, eval_metric=None, feature_types=None,\n",
       "             gamma=None, gpu_id=None, grow_policy=None, importance_type=None,\n",
       "             interaction_constraints=None, learning_rate=None, max_bin=None,\n",
       "             max_cat_threshold=None, max_cat_to_onehot=None,\n",
       "             max_delta_step=None, max_depth=None, max_leaves=None,\n",
       "             min_child_weight=None, missing=nan, monotone_constraints=None,\n",
       "             n_estimators=100, n_jobs=None, num_parallel_tree=None,\n",
       "             predictor=None, random_state=None, ...)</pre></div></div></div></div></div></div></div></div><div class=\"sk-item\"><div class=\"sk-parallel\"><div class=\"sk-parallel-item\"><div class=\"sk-item\"><div class=\"sk-label-container\"><div class=\"sk-label sk-toggleable\"><label>final_estimator</label></div></div><div class=\"sk-serial\"><div class=\"sk-item\"><div class=\"sk-estimator sk-toggleable\"><input class=\"sk-toggleable__control sk-hidden--visually\" id=\"sk-estimator-id-9\" type=\"checkbox\" ><label for=\"sk-estimator-id-9\" class=\"sk-toggleable__label sk-toggleable__label-arrow\">RidgeCV</label><div class=\"sk-toggleable__content\"><pre>RidgeCV()</pre></div></div></div></div></div></div></div></div></div></div></div></div>"
      ],
      "text/plain": [
       "StackingRegressor(estimators=[('rf', RandomForestRegressor()),\n",
       "                              ('xgb',\n",
       "                               XGBRegressor(base_score=None, booster=None,\n",
       "                                            callbacks=None,\n",
       "                                            colsample_bylevel=None,\n",
       "                                            colsample_bynode=None,\n",
       "                                            colsample_bytree=None,\n",
       "                                            early_stopping_rounds=None,\n",
       "                                            enable_categorical=False,\n",
       "                                            eval_metric=None,\n",
       "                                            feature_types=None, gamma=None,\n",
       "                                            gpu_id=None, grow_policy=None,\n",
       "                                            importance_type=None,\n",
       "                                            interaction_constraints=None,\n",
       "                                            learning_rate=None, max_bin=None,\n",
       "                                            max_cat_threshold=None,\n",
       "                                            max_cat_to_onehot=None,\n",
       "                                            max_delta_step=None, max_depth=None,\n",
       "                                            max_leaves=None,\n",
       "                                            min_child_weight=None, missing=nan,\n",
       "                                            monotone_constraints=None,\n",
       "                                            n_estimators=100, n_jobs=None,\n",
       "                                            num_parallel_tree=None,\n",
       "                                            predictor=None, random_state=None, ...))])"
      ]
     },
     "execution_count": 291,
     "metadata": {},
     "output_type": "execute_result"
    }
   ],
   "source": [
    "\n",
    "stack_regressor = StackingRegressor(estimators=[('rf', regressor), ('xgb', xb_model)])\n",
    "stack_regressor.fit(X_train, Y_train)\n"
   ]
  },
  {
   "cell_type": "code",
   "execution_count": 292,
   "id": "f6c6e94b",
   "metadata": {},
   "outputs": [],
   "source": [
    "predictions = stack_regressor.predict(X_test)"
   ]
  },
  {
   "cell_type": "code",
   "execution_count": 293,
   "id": "57ea75a2",
   "metadata": {},
   "outputs": [
    {
     "name": "stdout",
     "output_type": "stream",
     "text": [
      "[ 5.66629536  5.81146468  7.30776327  6.26449829  5.35691255  9.88723875\n",
      "  7.18565494  4.7631616   4.76475756  5.25167278  3.53453743  5.85973175\n",
      "  4.74467219  4.24122184  6.29723695  5.32299678  9.54758447  4.22919149\n",
      "  6.31534884  5.5200408   3.71122505  6.14708827  4.74268984  9.23655605\n",
      "  8.73236628  6.14742409  6.66657955  9.77971101  7.09318721  6.87444342\n",
      "  2.72290997  9.53643839  6.02225209  9.75184765  6.12619169  4.67197763\n",
      "  3.58331244  6.09835618  3.80556259  5.80271303  5.82870776  5.93026932\n",
      "  7.90246785  5.461737    4.14877605 10.19446964  4.65103692  4.61940529\n",
      "  5.72769979  4.40888057  5.9511403   2.48515841  4.05170774  4.80836185\n",
      "  6.95242464  5.37534834  4.32295192  5.44449934  5.39466564  6.01437706\n",
      "  4.485547    6.7909323   2.52557493  7.44695827  5.34241347  4.13750976\n",
      "  5.87094652  3.74670169  6.435095    4.68437102  4.46531185  6.93928376\n",
      "  6.76658942  3.98889924  6.641313   10.98177828  5.85313707  5.22626359\n",
      "  6.0770994  11.8483031   4.79752629  6.47777296  4.63332159  7.65649086\n",
      "  4.64644154  5.59004848  4.30089835  8.94818733 10.28214781  6.49555581\n",
      "  1.59481671  5.99133769  4.44715203  4.24201807  7.89230591  6.32774001\n",
      "  8.16377437  5.88793678  5.09164734  4.68457391  4.43586626  4.24479098\n",
      "  0.98890128  8.60237253  4.71645691  5.03452211  4.57554955  4.61076847\n",
      "  5.89669645  6.2982521   5.95931401  0.9703223   4.00125548  4.23991526\n",
      "  5.17017981  6.00840938  4.99222226  6.06894957  1.65244768  2.43264805\n",
      "  6.19191589  4.63713811  3.93115758  2.81215575  4.39991124  7.81269095\n",
      "  5.05420875  5.20507809  5.48772421  4.58204069  6.62814931  5.81694576\n",
      "  3.60494666  4.72383221  4.22471346  6.28013982  8.39985559  6.27187034\n",
      "  4.91295181  8.43002913  3.62233231  6.08487029  3.733635    4.28742457\n",
      "  4.03631839  3.87971727  4.44403974  5.79796418  6.39793543  5.7587226\n",
      "  4.66570581  5.78538674  6.30608738  4.39442746  8.50575746  1.79053652\n",
      "  5.84107628  4.6948735   4.3899608   3.8985227   4.35756536  6.72513678\n",
      "  6.60144154  7.29783553  5.4092359   2.43337974  6.23149194  7.12809479\n",
      "  9.50576807  4.84030113  4.90451434  3.9361541   8.51966758 12.00066074\n",
      "  5.03024341  5.0648094   5.8467768   5.0071331   5.202916    6.9750835\n",
      "  7.11035501  2.21862035  9.10694574  5.28787464  4.86972467  4.51775885\n",
      "  5.6052059   3.59619557  7.01624398  5.41708769  6.47421565  4.18327991\n",
      "  5.92966589  6.52956227  5.86765196  5.26740722  7.00755778  6.63166025\n",
      "  3.98209556  6.77979255  7.65207504  3.7210044   3.89667654  9.40315318\n",
      "  5.72039111  4.87433886 10.68301877 10.12100836  5.45455733  4.96681096\n",
      "  5.42286593  4.98119649  6.68071469  2.28106102  4.60805103  2.6317517\n",
      "  4.8578595   7.67234848  6.32447142  3.61636448  9.29678325  3.25601202\n",
      "  7.03306336  6.00175808  4.8792497   2.92360102  4.74026478  4.6867568\n",
      "  6.48754583 11.12181665  9.82685791  1.85418887  4.49926066]\n"
     ]
    }
   ],
   "source": [
    "print(predictions)"
   ]
  },
  {
   "cell_type": "code",
   "execution_count": 295,
   "id": "5807ed43",
   "metadata": {},
   "outputs": [],
   "source": [
    "#Train Scores\n",
    "training_data_prediction = stack_regressor.predict(X_train)"
   ]
  },
  {
   "cell_type": "code",
   "execution_count": 296,
   "id": "fe5ee85c",
   "metadata": {},
   "outputs": [
    {
     "data": {
      "text/plain": [
       "0.8983809145004007"
      ]
     },
     "execution_count": 296,
     "metadata": {},
     "output_type": "execute_result"
    }
   ],
   "source": [
    "mean_absolute_error(Y_train, training_data_prediction)"
   ]
  },
  {
   "cell_type": "code",
   "execution_count": 297,
   "id": "6f10b758",
   "metadata": {},
   "outputs": [
    {
     "data": {
      "text/plain": [
       "1.2763615654563378"
      ]
     },
     "execution_count": 297,
     "metadata": {},
     "output_type": "execute_result"
    }
   ],
   "source": [
    "sqrt(mean_squared_error(Y_train, training_data_prediction))"
   ]
  },
  {
   "cell_type": "code",
   "execution_count": 298,
   "id": "187d6168",
   "metadata": {},
   "outputs": [
    {
     "name": "stdout",
     "output_type": "stream",
     "text": [
      "R squared error :  0.8633005508103067\n"
     ]
    }
   ],
   "source": [
    "# R squared error\n",
    "error_score = metrics.r2_score(Y_train, training_data_prediction)\n",
    "print(\"R squared error : \", error_score)"
   ]
  },
  {
   "cell_type": "code",
   "execution_count": 299,
   "id": "c82b114c",
   "metadata": {},
   "outputs": [
    {
     "name": "stdout",
     "output_type": "stream",
     "text": [
      "SMAPE score: 21.200515113283167\n"
     ]
    }
   ],
   "source": [
    "smape_score = smape(Y_train, training_data_prediction)\n",
    "print(\"SMAPE score:\", smape_score)"
   ]
  },
  {
   "cell_type": "code",
   "execution_count": 300,
   "id": "3fbd7bf3",
   "metadata": {},
   "outputs": [
    {
     "data": {
      "text/plain": [
       "1.6745139718479691"
      ]
     },
     "execution_count": 300,
     "metadata": {},
     "output_type": "execute_result"
    }
   ],
   "source": [
    "#Test Scores\n",
    "mean_absolute_error(Y_test, predictions)"
   ]
  },
  {
   "cell_type": "code",
   "execution_count": 301,
   "id": "2cc2d757",
   "metadata": {},
   "outputs": [],
   "source": [
    "rms = sqrt(mean_squared_error(Y_test, predictions))"
   ]
  },
  {
   "cell_type": "code",
   "execution_count": 302,
   "id": "90c37749",
   "metadata": {},
   "outputs": [
    {
     "name": "stdout",
     "output_type": "stream",
     "text": [
      "2.53373450034384\n"
     ]
    }
   ],
   "source": [
    "print(rms)"
   ]
  },
  {
   "cell_type": "code",
   "execution_count": 303,
   "id": "d2a6c160",
   "metadata": {},
   "outputs": [
    {
     "name": "stdout",
     "output_type": "stream",
     "text": [
      "R squared error :  0.4198920980444095\n"
     ]
    }
   ],
   "source": [
    "# R squared error\n",
    "error_score = metrics.r2_score(Y_test, predictions)\n",
    "print(\"R squared error : \", error_score)"
   ]
  },
  {
   "cell_type": "code",
   "execution_count": 304,
   "id": "8034606b",
   "metadata": {},
   "outputs": [
    {
     "name": "stdout",
     "output_type": "stream",
     "text": [
      "SMAPE score: 35.26649708144888\n"
     ]
    }
   ],
   "source": [
    "smape_score = smape(Y_test, predictions)\n",
    "print(\"SMAPE score:\", smape_score)"
   ]
  },
  {
   "cell_type": "code",
   "execution_count": 305,
   "id": "18613bb7",
   "metadata": {},
   "outputs": [
    {
     "data": {
      "text/html": [
       "<style>#sk-container-id-7 {color: black;background-color: white;}#sk-container-id-7 pre{padding: 0;}#sk-container-id-7 div.sk-toggleable {background-color: white;}#sk-container-id-7 label.sk-toggleable__label {cursor: pointer;display: block;width: 100%;margin-bottom: 0;padding: 0.3em;box-sizing: border-box;text-align: center;}#sk-container-id-7 label.sk-toggleable__label-arrow:before {content: \"▸\";float: left;margin-right: 0.25em;color: #696969;}#sk-container-id-7 label.sk-toggleable__label-arrow:hover:before {color: black;}#sk-container-id-7 div.sk-estimator:hover label.sk-toggleable__label-arrow:before {color: black;}#sk-container-id-7 div.sk-toggleable__content {max-height: 0;max-width: 0;overflow: hidden;text-align: left;background-color: #f0f8ff;}#sk-container-id-7 div.sk-toggleable__content pre {margin: 0.2em;color: black;border-radius: 0.25em;background-color: #f0f8ff;}#sk-container-id-7 input.sk-toggleable__control:checked~div.sk-toggleable__content {max-height: 200px;max-width: 100%;overflow: auto;}#sk-container-id-7 input.sk-toggleable__control:checked~label.sk-toggleable__label-arrow:before {content: \"▾\";}#sk-container-id-7 div.sk-estimator input.sk-toggleable__control:checked~label.sk-toggleable__label {background-color: #d4ebff;}#sk-container-id-7 div.sk-label input.sk-toggleable__control:checked~label.sk-toggleable__label {background-color: #d4ebff;}#sk-container-id-7 input.sk-hidden--visually {border: 0;clip: rect(1px 1px 1px 1px);clip: rect(1px, 1px, 1px, 1px);height: 1px;margin: -1px;overflow: hidden;padding: 0;position: absolute;width: 1px;}#sk-container-id-7 div.sk-estimator {font-family: monospace;background-color: #f0f8ff;border: 1px dotted black;border-radius: 0.25em;box-sizing: border-box;margin-bottom: 0.5em;}#sk-container-id-7 div.sk-estimator:hover {background-color: #d4ebff;}#sk-container-id-7 div.sk-parallel-item::after {content: \"\";width: 100%;border-bottom: 1px solid gray;flex-grow: 1;}#sk-container-id-7 div.sk-label:hover label.sk-toggleable__label {background-color: #d4ebff;}#sk-container-id-7 div.sk-serial::before {content: \"\";position: absolute;border-left: 1px solid gray;box-sizing: border-box;top: 0;bottom: 0;left: 50%;z-index: 0;}#sk-container-id-7 div.sk-serial {display: flex;flex-direction: column;align-items: center;background-color: white;padding-right: 0.2em;padding-left: 0.2em;position: relative;}#sk-container-id-7 div.sk-item {position: relative;z-index: 1;}#sk-container-id-7 div.sk-parallel {display: flex;align-items: stretch;justify-content: center;background-color: white;position: relative;}#sk-container-id-7 div.sk-item::before, #sk-container-id-7 div.sk-parallel-item::before {content: \"\";position: absolute;border-left: 1px solid gray;box-sizing: border-box;top: 0;bottom: 0;left: 50%;z-index: -1;}#sk-container-id-7 div.sk-parallel-item {display: flex;flex-direction: column;z-index: 1;position: relative;background-color: white;}#sk-container-id-7 div.sk-parallel-item:first-child::after {align-self: flex-end;width: 50%;}#sk-container-id-7 div.sk-parallel-item:last-child::after {align-self: flex-start;width: 50%;}#sk-container-id-7 div.sk-parallel-item:only-child::after {width: 0;}#sk-container-id-7 div.sk-dashed-wrapped {border: 1px dashed gray;margin: 0 0.4em 0.5em 0.4em;box-sizing: border-box;padding-bottom: 0.4em;background-color: white;}#sk-container-id-7 div.sk-label label {font-family: monospace;font-weight: bold;display: inline-block;line-height: 1.2em;}#sk-container-id-7 div.sk-label-container {text-align: center;}#sk-container-id-7 div.sk-container {/* jupyter's `normalize.less` sets `[hidden] { display: none; }` but bootstrap.min.css set `[hidden] { display: none !important; }` so we also need the `!important` here to be able to override the default hidden behavior on the sphinx rendered scikit-learn.org. See: https://github.com/scikit-learn/scikit-learn/issues/21755 */display: inline-block !important;position: relative;}#sk-container-id-7 div.sk-text-repr-fallback {display: none;}</style><div id=\"sk-container-id-7\" class=\"sk-top-container\"><div class=\"sk-text-repr-fallback\"><pre>StackingRegressor(estimators=[(&#x27;rf&#x27;, RandomForestRegressor()),\n",
       "                              (&#x27;svm&#x27;, SVR(C=10, gamma=0.1))])</pre><b>In a Jupyter environment, please rerun this cell to show the HTML representation or trust the notebook. <br />On GitHub, the HTML representation is unable to render, please try loading this page with nbviewer.org.</b></div><div class=\"sk-container\" hidden><div class=\"sk-item sk-dashed-wrapped\"><div class=\"sk-label-container\"><div class=\"sk-label sk-toggleable\"><input class=\"sk-toggleable__control sk-hidden--visually\" id=\"sk-estimator-id-10\" type=\"checkbox\" ><label for=\"sk-estimator-id-10\" class=\"sk-toggleable__label sk-toggleable__label-arrow\">StackingRegressor</label><div class=\"sk-toggleable__content\"><pre>StackingRegressor(estimators=[(&#x27;rf&#x27;, RandomForestRegressor()),\n",
       "                              (&#x27;svm&#x27;, SVR(C=10, gamma=0.1))])</pre></div></div></div><div class=\"sk-serial\"><div class=\"sk-item\"><div class=\"sk-parallel\"><div class=\"sk-parallel-item\"><div class=\"sk-item\"><div class=\"sk-label-container\"><div class=\"sk-label sk-toggleable\"><label>rf</label></div></div><div class=\"sk-serial\"><div class=\"sk-item\"><div class=\"sk-estimator sk-toggleable\"><input class=\"sk-toggleable__control sk-hidden--visually\" id=\"sk-estimator-id-11\" type=\"checkbox\" ><label for=\"sk-estimator-id-11\" class=\"sk-toggleable__label sk-toggleable__label-arrow\">RandomForestRegressor</label><div class=\"sk-toggleable__content\"><pre>RandomForestRegressor()</pre></div></div></div></div></div></div><div class=\"sk-parallel-item\"><div class=\"sk-item\"><div class=\"sk-label-container\"><div class=\"sk-label sk-toggleable\"><label>svm</label></div></div><div class=\"sk-serial\"><div class=\"sk-item\"><div class=\"sk-estimator sk-toggleable\"><input class=\"sk-toggleable__control sk-hidden--visually\" id=\"sk-estimator-id-12\" type=\"checkbox\" ><label for=\"sk-estimator-id-12\" class=\"sk-toggleable__label sk-toggleable__label-arrow\">SVR</label><div class=\"sk-toggleable__content\"><pre>SVR(C=10, gamma=0.1)</pre></div></div></div></div></div></div></div></div><div class=\"sk-item\"><div class=\"sk-parallel\"><div class=\"sk-parallel-item\"><div class=\"sk-item\"><div class=\"sk-label-container\"><div class=\"sk-label sk-toggleable\"><label>final_estimator</label></div></div><div class=\"sk-serial\"><div class=\"sk-item\"><div class=\"sk-estimator sk-toggleable\"><input class=\"sk-toggleable__control sk-hidden--visually\" id=\"sk-estimator-id-13\" type=\"checkbox\" ><label for=\"sk-estimator-id-13\" class=\"sk-toggleable__label sk-toggleable__label-arrow\">RidgeCV</label><div class=\"sk-toggleable__content\"><pre>RidgeCV()</pre></div></div></div></div></div></div></div></div></div></div></div></div>"
      ],
      "text/plain": [
       "StackingRegressor(estimators=[('rf', RandomForestRegressor()),\n",
       "                              ('svm', SVR(C=10, gamma=0.1))])"
      ]
     },
     "execution_count": 305,
     "metadata": {},
     "output_type": "execute_result"
    }
   ],
   "source": [
    "stack_regressor = StackingRegressor(estimators=[('rf', regressor),('svm',svr)])\n",
    "stack_regressor.fit(X_train, Y_train)"
   ]
  },
  {
   "cell_type": "code",
   "execution_count": 306,
   "id": "a45ae7eb",
   "metadata": {},
   "outputs": [],
   "source": [
    "pred=stack_regressor.predict(X_test)"
   ]
  },
  {
   "cell_type": "code",
   "execution_count": 307,
   "id": "49e28d33",
   "metadata": {},
   "outputs": [
    {
     "name": "stdout",
     "output_type": "stream",
     "text": [
      "[ 5.27471316  5.64691321  7.025747    6.12250421  5.87494997 10.78569997\n",
      "  7.12126044  4.69824727  5.5969537   5.13987132  3.18290705  5.99766979\n",
      "  4.6328595   3.8952823   6.6523843   5.33395923  9.81252738  4.2224769\n",
      "  6.6193599   5.35733378  3.67469012  6.22946399  4.54277735  9.06331156\n",
      "  9.68887291  6.01597275  6.56934747 10.00083512  7.32123412  7.16574474\n",
      "  2.28544964  9.86173462  5.84073803 10.16086407  6.27102201  4.58750627\n",
      "  3.50919026  6.26116665  3.7439421   5.25059819  5.91337628  6.21959086\n",
      "  7.74974778  5.59606085  4.5720344   9.83364809  4.61903312  4.57119694\n",
      "  5.54841209  4.0826234   5.92881824  2.66936307  3.69153191  4.89620349\n",
      "  6.51629372  5.46157452  4.26292595  5.38451483  5.12959771  6.16756492\n",
      "  4.4192393   7.2381773   2.68819524  7.23008602  5.37859553  4.43108361\n",
      "  5.98264672  3.6344678   6.66481265  4.76076489  4.03255392  6.94903758\n",
      "  6.88668604  3.53925219  6.6038224  10.04685905  6.44181654  5.03373137\n",
      "  6.59913022 11.40933125  4.84228609  5.94365673  4.78184818  6.9728416\n",
      "  4.90531662  5.7557278   4.43010289  9.83863711 10.70431171  6.60951416\n",
      "  1.81208313  6.08956266  4.59182201  4.09409085  6.95734711  6.62261068\n",
      "  7.83634663  5.81354999  4.71381191  4.9482155   4.35079911  3.94516515\n",
      "  0.90199825  8.94013759  4.63213913  4.87351414  4.96727514  5.64479972\n",
      "  6.07783093  6.3492541   5.93476645  1.22485129  3.72263106  4.15812747\n",
      "  5.16201705  6.22031637  4.95976678  6.34853016  1.55244105  2.5458277\n",
      "  6.29371365  4.39384912  3.64992666  2.65431271  4.11928343  6.79291132\n",
      "  5.16486917  4.18481543  5.32625239  4.42718908  6.71810708  5.93244917\n",
      "  3.5961993   4.86998237  4.0053278   7.07598672  7.8214399   6.38344027\n",
      "  4.87100901  7.64545822  3.73116964  6.25102265  4.18477629  4.21525694\n",
      "  4.97194831  3.75913258  4.73696029  6.09557976  6.60836602  5.91345964\n",
      "  4.49266602  5.74960086  6.22548165  4.09946918  7.82100829  1.89393035\n",
      "  6.15180583  4.59437597  4.17577849  3.51917813  4.27916581  6.61714197\n",
      "  6.62466536  6.42108352  5.36038867  2.34775197  6.34306358  6.78694651\n",
      "  7.75350753  4.8494071   4.7435814   3.5277302   8.40175993 11.57806099\n",
      "  4.84994748  4.92092223  6.12186316  4.75664876  5.00489032  6.84556897\n",
      "  7.17264987  2.22655247  7.80670039  5.24787707  5.2372343   4.52799992\n",
      "  5.22538382  3.46810999  7.28867441  5.41821839  6.58161582  4.02706446\n",
      "  5.93296867  6.42649602  5.90818865  5.12982049  6.77502338  6.29141773\n",
      "  3.58478649  6.83122932  8.0613558   3.70418139  3.5027938  10.50487777\n",
      "  5.59349444  4.86608608 10.47797745  8.80230727  5.94355751  4.14900574\n",
      "  5.46879291  4.9845069   7.78805724  2.04339347  4.34015192  2.48471715\n",
      "  4.55537826  7.42694844  6.380723    3.63935141  8.39644605  3.34831535\n",
      "  6.57713457  6.0876651   5.00440115  2.66496292  4.37379975  4.76819392\n",
      "  6.65220289 12.19130949 10.2188946   1.83063607  4.50636324]\n"
     ]
    }
   ],
   "source": [
    "print(pred)"
   ]
  },
  {
   "cell_type": "code",
   "execution_count": 309,
   "id": "1b151a48",
   "metadata": {},
   "outputs": [],
   "source": [
    "#Train Scores\n",
    "training_data_prediction = stack_regressor.predict(X_train)"
   ]
  },
  {
   "cell_type": "code",
   "execution_count": 310,
   "id": "0c94574d",
   "metadata": {},
   "outputs": [
    {
     "data": {
      "text/plain": [
       "1.0095428931808192"
      ]
     },
     "execution_count": 310,
     "metadata": {},
     "output_type": "execute_result"
    }
   ],
   "source": [
    "mean_absolute_error(Y_train, training_data_prediction)"
   ]
  },
  {
   "cell_type": "code",
   "execution_count": 311,
   "id": "9866f8f6",
   "metadata": {},
   "outputs": [
    {
     "data": {
      "text/plain": [
       "1.4941921791863355"
      ]
     },
     "execution_count": 311,
     "metadata": {},
     "output_type": "execute_result"
    }
   ],
   "source": [
    "sqrt(mean_squared_error(Y_train, training_data_prediction))"
   ]
  },
  {
   "cell_type": "code",
   "execution_count": 312,
   "id": "4732ec34",
   "metadata": {},
   "outputs": [
    {
     "name": "stdout",
     "output_type": "stream",
     "text": [
      "R squared error :  0.8126592534705768\n"
     ]
    }
   ],
   "source": [
    "# R squared error\n",
    "error_score = metrics.r2_score(Y_train, training_data_prediction)\n",
    "print(\"R squared error : \", error_score)"
   ]
  },
  {
   "cell_type": "code",
   "execution_count": 313,
   "id": "2a9dbb32",
   "metadata": {},
   "outputs": [
    {
     "name": "stdout",
     "output_type": "stream",
     "text": [
      "SMAPE score: 22.499094858754898\n"
     ]
    }
   ],
   "source": [
    "smape_score = smape(Y_train, training_data_prediction)\n",
    "print(\"SMAPE score:\", smape_score)"
   ]
  },
  {
   "cell_type": "code",
   "execution_count": 314,
   "id": "9d30f80c",
   "metadata": {},
   "outputs": [
    {
     "data": {
      "text/plain": [
       "1.6486962124555349"
      ]
     },
     "execution_count": 314,
     "metadata": {},
     "output_type": "execute_result"
    }
   ],
   "source": [
    "#Test Scores\n",
    "mean_absolute_error(Y_test, pred)"
   ]
  },
  {
   "cell_type": "code",
   "execution_count": 315,
   "id": "86a27ab8",
   "metadata": {},
   "outputs": [],
   "source": [
    "rms = sqrt(mean_squared_error(Y_test, pred))"
   ]
  },
  {
   "cell_type": "code",
   "execution_count": 316,
   "id": "0097172e",
   "metadata": {},
   "outputs": [
    {
     "name": "stdout",
     "output_type": "stream",
     "text": [
      "2.527814622276532\n"
     ]
    }
   ],
   "source": [
    "print(rms)"
   ]
  },
  {
   "cell_type": "code",
   "execution_count": 317,
   "id": "c8339bf1",
   "metadata": {},
   "outputs": [
    {
     "name": "stdout",
     "output_type": "stream",
     "text": [
      "R squared error :  0.4225996873428878\n"
     ]
    }
   ],
   "source": [
    "# R squared error\n",
    "error_score = metrics.r2_score(Y_test, pred)\n",
    "print(\"R squared error : \", error_score)"
   ]
  },
  {
   "cell_type": "code",
   "execution_count": 318,
   "id": "b8c55534",
   "metadata": {},
   "outputs": [
    {
     "name": "stdout",
     "output_type": "stream",
     "text": [
      "SMAPE score: 34.68979286117983\n"
     ]
    }
   ],
   "source": [
    "smape_score = smape(Y_test, pred)\n",
    "print(\"SMAPE score:\", smape_score)"
   ]
  },
  {
   "cell_type": "code",
   "execution_count": null,
   "id": "a31e7688",
   "metadata": {},
   "outputs": [],
   "source": []
  },
  {
   "cell_type": "code",
   "execution_count": 264,
   "id": "de8281ab",
   "metadata": {},
   "outputs": [
    {
     "data": {
      "text/html": [
       "<style>#sk-container-id-23 {color: black;background-color: white;}#sk-container-id-23 pre{padding: 0;}#sk-container-id-23 div.sk-toggleable {background-color: white;}#sk-container-id-23 label.sk-toggleable__label {cursor: pointer;display: block;width: 100%;margin-bottom: 0;padding: 0.3em;box-sizing: border-box;text-align: center;}#sk-container-id-23 label.sk-toggleable__label-arrow:before {content: \"▸\";float: left;margin-right: 0.25em;color: #696969;}#sk-container-id-23 label.sk-toggleable__label-arrow:hover:before {color: black;}#sk-container-id-23 div.sk-estimator:hover label.sk-toggleable__label-arrow:before {color: black;}#sk-container-id-23 div.sk-toggleable__content {max-height: 0;max-width: 0;overflow: hidden;text-align: left;background-color: #f0f8ff;}#sk-container-id-23 div.sk-toggleable__content pre {margin: 0.2em;color: black;border-radius: 0.25em;background-color: #f0f8ff;}#sk-container-id-23 input.sk-toggleable__control:checked~div.sk-toggleable__content {max-height: 200px;max-width: 100%;overflow: auto;}#sk-container-id-23 input.sk-toggleable__control:checked~label.sk-toggleable__label-arrow:before {content: \"▾\";}#sk-container-id-23 div.sk-estimator input.sk-toggleable__control:checked~label.sk-toggleable__label {background-color: #d4ebff;}#sk-container-id-23 div.sk-label input.sk-toggleable__control:checked~label.sk-toggleable__label {background-color: #d4ebff;}#sk-container-id-23 input.sk-hidden--visually {border: 0;clip: rect(1px 1px 1px 1px);clip: rect(1px, 1px, 1px, 1px);height: 1px;margin: -1px;overflow: hidden;padding: 0;position: absolute;width: 1px;}#sk-container-id-23 div.sk-estimator {font-family: monospace;background-color: #f0f8ff;border: 1px dotted black;border-radius: 0.25em;box-sizing: border-box;margin-bottom: 0.5em;}#sk-container-id-23 div.sk-estimator:hover {background-color: #d4ebff;}#sk-container-id-23 div.sk-parallel-item::after {content: \"\";width: 100%;border-bottom: 1px solid gray;flex-grow: 1;}#sk-container-id-23 div.sk-label:hover label.sk-toggleable__label {background-color: #d4ebff;}#sk-container-id-23 div.sk-serial::before {content: \"\";position: absolute;border-left: 1px solid gray;box-sizing: border-box;top: 0;bottom: 0;left: 50%;z-index: 0;}#sk-container-id-23 div.sk-serial {display: flex;flex-direction: column;align-items: center;background-color: white;padding-right: 0.2em;padding-left: 0.2em;position: relative;}#sk-container-id-23 div.sk-item {position: relative;z-index: 1;}#sk-container-id-23 div.sk-parallel {display: flex;align-items: stretch;justify-content: center;background-color: white;position: relative;}#sk-container-id-23 div.sk-item::before, #sk-container-id-23 div.sk-parallel-item::before {content: \"\";position: absolute;border-left: 1px solid gray;box-sizing: border-box;top: 0;bottom: 0;left: 50%;z-index: -1;}#sk-container-id-23 div.sk-parallel-item {display: flex;flex-direction: column;z-index: 1;position: relative;background-color: white;}#sk-container-id-23 div.sk-parallel-item:first-child::after {align-self: flex-end;width: 50%;}#sk-container-id-23 div.sk-parallel-item:last-child::after {align-self: flex-start;width: 50%;}#sk-container-id-23 div.sk-parallel-item:only-child::after {width: 0;}#sk-container-id-23 div.sk-dashed-wrapped {border: 1px dashed gray;margin: 0 0.4em 0.5em 0.4em;box-sizing: border-box;padding-bottom: 0.4em;background-color: white;}#sk-container-id-23 div.sk-label label {font-family: monospace;font-weight: bold;display: inline-block;line-height: 1.2em;}#sk-container-id-23 div.sk-label-container {text-align: center;}#sk-container-id-23 div.sk-container {/* jupyter's `normalize.less` sets `[hidden] { display: none; }` but bootstrap.min.css set `[hidden] { display: none !important; }` so we also need the `!important` here to be able to override the default hidden behavior on the sphinx rendered scikit-learn.org. See: https://github.com/scikit-learn/scikit-learn/issues/21755 */display: inline-block !important;position: relative;}#sk-container-id-23 div.sk-text-repr-fallback {display: none;}</style><div id=\"sk-container-id-23\" class=\"sk-top-container\"><div class=\"sk-text-repr-fallback\"><pre>VotingRegressor(estimators=[(&#x27;rf&#x27;, RandomForestRegressor()),\n",
       "                            (&#x27;svm&#x27;, SVR(C=10, gamma=0.1))])</pre><b>In a Jupyter environment, please rerun this cell to show the HTML representation or trust the notebook. <br />On GitHub, the HTML representation is unable to render, please try loading this page with nbviewer.org.</b></div><div class=\"sk-container\" hidden><div class=\"sk-item sk-dashed-wrapped\"><div class=\"sk-label-container\"><div class=\"sk-label sk-toggleable\"><input class=\"sk-toggleable__control sk-hidden--visually\" id=\"sk-estimator-id-29\" type=\"checkbox\" ><label for=\"sk-estimator-id-29\" class=\"sk-toggleable__label sk-toggleable__label-arrow\">VotingRegressor</label><div class=\"sk-toggleable__content\"><pre>VotingRegressor(estimators=[(&#x27;rf&#x27;, RandomForestRegressor()),\n",
       "                            (&#x27;svm&#x27;, SVR(C=10, gamma=0.1))])</pre></div></div></div><div class=\"sk-parallel\"><div class=\"sk-parallel-item\"><div class=\"sk-item\"><div class=\"sk-label-container\"><div class=\"sk-label sk-toggleable\"><label>rf</label></div></div><div class=\"sk-serial\"><div class=\"sk-item\"><div class=\"sk-estimator sk-toggleable\"><input class=\"sk-toggleable__control sk-hidden--visually\" id=\"sk-estimator-id-30\" type=\"checkbox\" ><label for=\"sk-estimator-id-30\" class=\"sk-toggleable__label sk-toggleable__label-arrow\">RandomForestRegressor</label><div class=\"sk-toggleable__content\"><pre>RandomForestRegressor()</pre></div></div></div></div></div></div><div class=\"sk-parallel-item\"><div class=\"sk-item\"><div class=\"sk-label-container\"><div class=\"sk-label sk-toggleable\"><label>svm</label></div></div><div class=\"sk-serial\"><div class=\"sk-item\"><div class=\"sk-estimator sk-toggleable\"><input class=\"sk-toggleable__control sk-hidden--visually\" id=\"sk-estimator-id-31\" type=\"checkbox\" ><label for=\"sk-estimator-id-31\" class=\"sk-toggleable__label sk-toggleable__label-arrow\">SVR</label><div class=\"sk-toggleable__content\"><pre>SVR(C=10, gamma=0.1)</pre></div></div></div></div></div></div></div></div></div></div>"
      ],
      "text/plain": [
       "VotingRegressor(estimators=[('rf', RandomForestRegressor()),\n",
       "                            ('svm', SVR(C=10, gamma=0.1))])"
      ]
     },
     "execution_count": 264,
     "metadata": {},
     "output_type": "execute_result"
    }
   ],
   "source": [
    "voting_reg = VotingRegressor(estimators=[('rf', regressor), ('svm', svr)])\n",
    "voting_reg.fit(X_train, Y_train)"
   ]
  },
  {
   "cell_type": "code",
   "execution_count": 265,
   "id": "16bf0a63",
   "metadata": {},
   "outputs": [],
   "source": [
    "Y_pred = voting_reg.predict(X_test)"
   ]
  },
  {
   "cell_type": "code",
   "execution_count": 266,
   "id": "9af41afd",
   "metadata": {},
   "outputs": [
    {
     "name": "stdout",
     "output_type": "stream",
     "text": [
      "[ 5.47389112  5.56611292  6.59711653  6.46632705  5.52853523 11.83769095\n",
      "  7.02769893  4.71712993  5.54306489  5.30975638  2.82729497  6.18583359\n",
      "  4.42421349  3.7559596   7.18578566  5.2974227   8.85865385  4.13440253\n",
      "  6.80664482  5.34835045  4.26712459  6.41432723  4.77905909 10.02412527\n",
      " 10.80861903  6.48010568  6.57235166 10.11673448  7.14710364  7.36834152\n",
      "  1.54221676 10.02422126  5.30860441 10.37249888  6.4006287   4.53111103\n",
      "  3.22151421  6.14949542  3.62685918  5.03654827  5.92523375  6.46991636\n",
      "  7.84646555  5.45007289  4.92383822 10.01346453  4.40464541  4.4756791\n",
      "  5.38599389  3.90916042  5.98880375  2.5025461   3.5547012   5.24538617\n",
      "  6.27537948  5.57202062  4.14110828  5.26634438  5.2259988   6.21956881\n",
      "  4.38362378  8.19534804  2.37829184  6.60738495  5.03482386  4.67299485\n",
      "  6.03315707  3.56017556  6.67759999  5.35232751  3.90956552  6.52926666\n",
      "  7.01673367  3.06571386  6.59223974  9.63397234  6.47094338  4.98263827\n",
      "  6.90963116 10.67234147  5.28769875  5.79046577  4.78720843  6.70668329\n",
      "  5.15669205  5.8187082   4.30594949 10.63113916 10.5040291   6.87890885\n",
      "  1.8539633   6.15325346  4.55307416  3.8992685   6.88613328  6.95741582\n",
      "  6.83679296  5.82407384  4.55093367  4.93626869  4.1549539   3.77431632\n",
      "  0.79941448  9.67074382  4.44256803  4.79560125  5.04633512  6.84003312\n",
      "  6.3334977   6.4628428   6.28181146  1.55695818  3.52269587  4.05071199\n",
      "  5.51648311  6.07776176  4.58038685  6.47962644  1.37531813  2.41830689\n",
      "  6.31266953  3.91972206  3.31423284  2.62042286  4.39464465  7.01709159\n",
      "  5.0840819   3.23818012  5.14257391  4.07785748  6.3762918   5.95381052\n",
      "  3.36236059  4.70145422  3.72166806  6.30903071  7.56944125  6.54106993\n",
      "  4.74270428  7.24046952  3.66367453  6.3518865   5.05306393  4.09412667\n",
      "  4.35683761  3.56532259  5.18119969  6.23866366  6.64426816  5.85704781\n",
      "  4.45757119  5.67111813  6.19802588  3.9031406   6.27381333  1.95709572\n",
      "  6.10006032  4.62900112  3.97525376  3.41933853  4.22596883  6.55962041\n",
      "  6.52908326  6.75873434  5.42124948  2.3089531   6.46731561  6.41139522\n",
      "  6.67559495  4.67883205  4.78209001  3.159363    7.95596688 11.8016403\n",
      "  4.56610288  4.61564084  5.89256978  4.62433503  4.55089294  6.10779198\n",
      "  7.05034871  2.27697905  7.41417261  5.54875316  5.68729518  4.39606852\n",
      "  5.633351    3.23618491  7.51617333  4.87884864  6.65199313  3.46729925\n",
      "  5.86270396  5.8348536   6.11011365  4.93319094  5.77885401  6.4165304\n",
      "  3.54086666  6.86104848  8.55608754  3.43664434  2.93214684 11.06965922\n",
      "  5.43632332  4.94616242 10.99485186  8.75778133  5.84237971  2.84424483\n",
      "  5.32874496  5.19030167  8.5282585   1.74439438  4.18722026  2.18975745\n",
      "  4.34192462  7.66277898  6.4342596   3.32121119  8.42688277  4.22213593\n",
      "  6.58582691  6.27399252  4.71932703  2.37492943  3.91912306  4.53001998\n",
      "  7.11159423 12.72263668 11.47406451  1.70506326  4.44436396]\n"
     ]
    }
   ],
   "source": [
    "print(Y_pred)"
   ]
  },
  {
   "cell_type": "code",
   "execution_count": 267,
   "id": "f1ee9703",
   "metadata": {},
   "outputs": [
    {
     "data": {
      "text/plain": [
       "1.6039551762008646"
      ]
     },
     "execution_count": 267,
     "metadata": {},
     "output_type": "execute_result"
    }
   ],
   "source": [
    "mean_absolute_error(Y_test, Y_pred)"
   ]
  },
  {
   "cell_type": "code",
   "execution_count": 268,
   "id": "9501e6b0",
   "metadata": {},
   "outputs": [],
   "source": [
    "rms = sqrt(mean_squared_error(Y_test, Y_pred))"
   ]
  },
  {
   "cell_type": "code",
   "execution_count": 269,
   "id": "5aeba2ed",
   "metadata": {},
   "outputs": [
    {
     "name": "stdout",
     "output_type": "stream",
     "text": [
      "2.4775959276945176\n"
     ]
    }
   ],
   "source": [
    "print(rms)"
   ]
  },
  {
   "cell_type": "code",
   "execution_count": 270,
   "id": "0894cfac",
   "metadata": {},
   "outputs": [
    {
     "name": "stdout",
     "output_type": "stream",
     "text": [
      "R squared error :  0.4453135865938659\n"
     ]
    }
   ],
   "source": [
    "# R squared error\n",
    "error_score = metrics.r2_score(Y_test, Y_pred)\n",
    "print(\"R squared error : \", error_score)"
   ]
  },
  {
   "cell_type": "code",
   "execution_count": 271,
   "id": "4af4da1c",
   "metadata": {},
   "outputs": [
    {
     "name": "stdout",
     "output_type": "stream",
     "text": [
      "SMAPE score: 37.230506690275384\n"
     ]
    }
   ],
   "source": [
    "smape_score = smape(Y_test, y_pred)\n",
    "print(\"SMAPE score:\", smape_score)"
   ]
  },
  {
   "cell_type": "code",
   "execution_count": 272,
   "id": "df480dee",
   "metadata": {},
   "outputs": [
    {
     "name": "stdout",
     "output_type": "stream",
     "text": [
      "2.570312764450966\n"
     ]
    }
   ],
   "source": [
    "residuals = Y_test - test_data_prediction\n",
    "n = len(X_test)\n",
    "p = 1  # Assuming only one predictor variable\n",
    "SSE = np.sum(residuals ** 2)\n",
    "SE = np.sqrt(SSE / (n - p - 1))\n",
    "print(SE)"
   ]
  },
  {
   "cell_type": "code",
   "execution_count": 273,
   "id": "8c22a633",
   "metadata": {},
   "outputs": [
    {
     "data": {
      "text/html": [
       "<style>#sk-container-id-24 {color: black;background-color: white;}#sk-container-id-24 pre{padding: 0;}#sk-container-id-24 div.sk-toggleable {background-color: white;}#sk-container-id-24 label.sk-toggleable__label {cursor: pointer;display: block;width: 100%;margin-bottom: 0;padding: 0.3em;box-sizing: border-box;text-align: center;}#sk-container-id-24 label.sk-toggleable__label-arrow:before {content: \"▸\";float: left;margin-right: 0.25em;color: #696969;}#sk-container-id-24 label.sk-toggleable__label-arrow:hover:before {color: black;}#sk-container-id-24 div.sk-estimator:hover label.sk-toggleable__label-arrow:before {color: black;}#sk-container-id-24 div.sk-toggleable__content {max-height: 0;max-width: 0;overflow: hidden;text-align: left;background-color: #f0f8ff;}#sk-container-id-24 div.sk-toggleable__content pre {margin: 0.2em;color: black;border-radius: 0.25em;background-color: #f0f8ff;}#sk-container-id-24 input.sk-toggleable__control:checked~div.sk-toggleable__content {max-height: 200px;max-width: 100%;overflow: auto;}#sk-container-id-24 input.sk-toggleable__control:checked~label.sk-toggleable__label-arrow:before {content: \"▾\";}#sk-container-id-24 div.sk-estimator input.sk-toggleable__control:checked~label.sk-toggleable__label {background-color: #d4ebff;}#sk-container-id-24 div.sk-label input.sk-toggleable__control:checked~label.sk-toggleable__label {background-color: #d4ebff;}#sk-container-id-24 input.sk-hidden--visually {border: 0;clip: rect(1px 1px 1px 1px);clip: rect(1px, 1px, 1px, 1px);height: 1px;margin: -1px;overflow: hidden;padding: 0;position: absolute;width: 1px;}#sk-container-id-24 div.sk-estimator {font-family: monospace;background-color: #f0f8ff;border: 1px dotted black;border-radius: 0.25em;box-sizing: border-box;margin-bottom: 0.5em;}#sk-container-id-24 div.sk-estimator:hover {background-color: #d4ebff;}#sk-container-id-24 div.sk-parallel-item::after {content: \"\";width: 100%;border-bottom: 1px solid gray;flex-grow: 1;}#sk-container-id-24 div.sk-label:hover label.sk-toggleable__label {background-color: #d4ebff;}#sk-container-id-24 div.sk-serial::before {content: \"\";position: absolute;border-left: 1px solid gray;box-sizing: border-box;top: 0;bottom: 0;left: 50%;z-index: 0;}#sk-container-id-24 div.sk-serial {display: flex;flex-direction: column;align-items: center;background-color: white;padding-right: 0.2em;padding-left: 0.2em;position: relative;}#sk-container-id-24 div.sk-item {position: relative;z-index: 1;}#sk-container-id-24 div.sk-parallel {display: flex;align-items: stretch;justify-content: center;background-color: white;position: relative;}#sk-container-id-24 div.sk-item::before, #sk-container-id-24 div.sk-parallel-item::before {content: \"\";position: absolute;border-left: 1px solid gray;box-sizing: border-box;top: 0;bottom: 0;left: 50%;z-index: -1;}#sk-container-id-24 div.sk-parallel-item {display: flex;flex-direction: column;z-index: 1;position: relative;background-color: white;}#sk-container-id-24 div.sk-parallel-item:first-child::after {align-self: flex-end;width: 50%;}#sk-container-id-24 div.sk-parallel-item:last-child::after {align-self: flex-start;width: 50%;}#sk-container-id-24 div.sk-parallel-item:only-child::after {width: 0;}#sk-container-id-24 div.sk-dashed-wrapped {border: 1px dashed gray;margin: 0 0.4em 0.5em 0.4em;box-sizing: border-box;padding-bottom: 0.4em;background-color: white;}#sk-container-id-24 div.sk-label label {font-family: monospace;font-weight: bold;display: inline-block;line-height: 1.2em;}#sk-container-id-24 div.sk-label-container {text-align: center;}#sk-container-id-24 div.sk-container {/* jupyter's `normalize.less` sets `[hidden] { display: none; }` but bootstrap.min.css set `[hidden] { display: none !important; }` so we also need the `!important` here to be able to override the default hidden behavior on the sphinx rendered scikit-learn.org. See: https://github.com/scikit-learn/scikit-learn/issues/21755 */display: inline-block !important;position: relative;}#sk-container-id-24 div.sk-text-repr-fallback {display: none;}</style><div id=\"sk-container-id-24\" class=\"sk-top-container\"><div class=\"sk-text-repr-fallback\"><pre>VotingRegressor(estimators=[(&#x27;rf&#x27;, RandomForestRegressor()),\n",
       "                            (&#x27;xgb&#x27;,\n",
       "                             XGBRegressor(base_score=None, booster=None,\n",
       "                                          callbacks=None,\n",
       "                                          colsample_bylevel=None,\n",
       "                                          colsample_bynode=None,\n",
       "                                          colsample_bytree=None,\n",
       "                                          early_stopping_rounds=None,\n",
       "                                          enable_categorical=False,\n",
       "                                          eval_metric=None, feature_types=None,\n",
       "                                          gamma=None, gpu_id=None,\n",
       "                                          grow_policy=None,\n",
       "                                          importance_type=None,\n",
       "                                          interaction_constraints=None,\n",
       "                                          learning_rate=None, max_bin=None,\n",
       "                                          max_cat_threshold=None,\n",
       "                                          max_cat_to_onehot=None,\n",
       "                                          max_delta_step=None, max_depth=None,\n",
       "                                          max_leaves=None,\n",
       "                                          min_child_weight=None, missing=nan,\n",
       "                                          monotone_constraints=None,\n",
       "                                          n_estimators=100, n_jobs=None,\n",
       "                                          num_parallel_tree=None,\n",
       "                                          predictor=None, random_state=None, ...)),\n",
       "                            (&#x27;svm&#x27;, SVR(C=10, gamma=0.1))])</pre><b>In a Jupyter environment, please rerun this cell to show the HTML representation or trust the notebook. <br />On GitHub, the HTML representation is unable to render, please try loading this page with nbviewer.org.</b></div><div class=\"sk-container\" hidden><div class=\"sk-item sk-dashed-wrapped\"><div class=\"sk-label-container\"><div class=\"sk-label sk-toggleable\"><input class=\"sk-toggleable__control sk-hidden--visually\" id=\"sk-estimator-id-32\" type=\"checkbox\" ><label for=\"sk-estimator-id-32\" class=\"sk-toggleable__label sk-toggleable__label-arrow\">VotingRegressor</label><div class=\"sk-toggleable__content\"><pre>VotingRegressor(estimators=[(&#x27;rf&#x27;, RandomForestRegressor()),\n",
       "                            (&#x27;xgb&#x27;,\n",
       "                             XGBRegressor(base_score=None, booster=None,\n",
       "                                          callbacks=None,\n",
       "                                          colsample_bylevel=None,\n",
       "                                          colsample_bynode=None,\n",
       "                                          colsample_bytree=None,\n",
       "                                          early_stopping_rounds=None,\n",
       "                                          enable_categorical=False,\n",
       "                                          eval_metric=None, feature_types=None,\n",
       "                                          gamma=None, gpu_id=None,\n",
       "                                          grow_policy=None,\n",
       "                                          importance_type=None,\n",
       "                                          interaction_constraints=None,\n",
       "                                          learning_rate=None, max_bin=None,\n",
       "                                          max_cat_threshold=None,\n",
       "                                          max_cat_to_onehot=None,\n",
       "                                          max_delta_step=None, max_depth=None,\n",
       "                                          max_leaves=None,\n",
       "                                          min_child_weight=None, missing=nan,\n",
       "                                          monotone_constraints=None,\n",
       "                                          n_estimators=100, n_jobs=None,\n",
       "                                          num_parallel_tree=None,\n",
       "                                          predictor=None, random_state=None, ...)),\n",
       "                            (&#x27;svm&#x27;, SVR(C=10, gamma=0.1))])</pre></div></div></div><div class=\"sk-parallel\"><div class=\"sk-parallel-item\"><div class=\"sk-item\"><div class=\"sk-label-container\"><div class=\"sk-label sk-toggleable\"><label>rf</label></div></div><div class=\"sk-serial\"><div class=\"sk-item\"><div class=\"sk-estimator sk-toggleable\"><input class=\"sk-toggleable__control sk-hidden--visually\" id=\"sk-estimator-id-33\" type=\"checkbox\" ><label for=\"sk-estimator-id-33\" class=\"sk-toggleable__label sk-toggleable__label-arrow\">RandomForestRegressor</label><div class=\"sk-toggleable__content\"><pre>RandomForestRegressor()</pre></div></div></div></div></div></div><div class=\"sk-parallel-item\"><div class=\"sk-item\"><div class=\"sk-label-container\"><div class=\"sk-label sk-toggleable\"><label>xgb</label></div></div><div class=\"sk-serial\"><div class=\"sk-item\"><div class=\"sk-estimator sk-toggleable\"><input class=\"sk-toggleable__control sk-hidden--visually\" id=\"sk-estimator-id-34\" type=\"checkbox\" ><label for=\"sk-estimator-id-34\" class=\"sk-toggleable__label sk-toggleable__label-arrow\">XGBRegressor</label><div class=\"sk-toggleable__content\"><pre>XGBRegressor(base_score=None, booster=None, callbacks=None,\n",
       "             colsample_bylevel=None, colsample_bynode=None,\n",
       "             colsample_bytree=None, early_stopping_rounds=None,\n",
       "             enable_categorical=False, eval_metric=None, feature_types=None,\n",
       "             gamma=None, gpu_id=None, grow_policy=None, importance_type=None,\n",
       "             interaction_constraints=None, learning_rate=None, max_bin=None,\n",
       "             max_cat_threshold=None, max_cat_to_onehot=None,\n",
       "             max_delta_step=None, max_depth=None, max_leaves=None,\n",
       "             min_child_weight=None, missing=nan, monotone_constraints=None,\n",
       "             n_estimators=100, n_jobs=None, num_parallel_tree=None,\n",
       "             predictor=None, random_state=None, ...)</pre></div></div></div></div></div></div><div class=\"sk-parallel-item\"><div class=\"sk-item\"><div class=\"sk-label-container\"><div class=\"sk-label sk-toggleable\"><label>svm</label></div></div><div class=\"sk-serial\"><div class=\"sk-item\"><div class=\"sk-estimator sk-toggleable\"><input class=\"sk-toggleable__control sk-hidden--visually\" id=\"sk-estimator-id-35\" type=\"checkbox\" ><label for=\"sk-estimator-id-35\" class=\"sk-toggleable__label sk-toggleable__label-arrow\">SVR</label><div class=\"sk-toggleable__content\"><pre>SVR(C=10, gamma=0.1)</pre></div></div></div></div></div></div></div></div></div></div>"
      ],
      "text/plain": [
       "VotingRegressor(estimators=[('rf', RandomForestRegressor()),\n",
       "                            ('xgb',\n",
       "                             XGBRegressor(base_score=None, booster=None,\n",
       "                                          callbacks=None,\n",
       "                                          colsample_bylevel=None,\n",
       "                                          colsample_bynode=None,\n",
       "                                          colsample_bytree=None,\n",
       "                                          early_stopping_rounds=None,\n",
       "                                          enable_categorical=False,\n",
       "                                          eval_metric=None, feature_types=None,\n",
       "                                          gamma=None, gpu_id=None,\n",
       "                                          grow_policy=None,\n",
       "                                          importance_type=None,\n",
       "                                          interaction_constraints=None,\n",
       "                                          learning_rate=None, max_bin=None,\n",
       "                                          max_cat_threshold=None,\n",
       "                                          max_cat_to_onehot=None,\n",
       "                                          max_delta_step=None, max_depth=None,\n",
       "                                          max_leaves=None,\n",
       "                                          min_child_weight=None, missing=nan,\n",
       "                                          monotone_constraints=None,\n",
       "                                          n_estimators=100, n_jobs=None,\n",
       "                                          num_parallel_tree=None,\n",
       "                                          predictor=None, random_state=None, ...)),\n",
       "                            ('svm', SVR(C=10, gamma=0.1))])"
      ]
     },
     "execution_count": 273,
     "metadata": {},
     "output_type": "execute_result"
    }
   ],
   "source": [
    "vote_regressor = VotingRegressor(estimators=[('rf', regressor), ('xgb',xb_model),('svm',svr)])\n",
    "vote_regressor.fit(X_train, Y_train)"
   ]
  },
  {
   "cell_type": "code",
   "execution_count": 274,
   "id": "bb1107b7",
   "metadata": {},
   "outputs": [],
   "source": [
    "predict = vote_regressor.predict(X_test)"
   ]
  },
  {
   "cell_type": "code",
   "execution_count": 275,
   "id": "46492685",
   "metadata": {},
   "outputs": [
    {
     "name": "stdout",
     "output_type": "stream",
     "text": [
      "[ 5.82416801  5.7034711   6.78835307  6.50831453  5.276415   11.32192544\n",
      "  7.2489702   4.52708446  4.82360374  5.33194957  2.851292    6.18988407\n",
      "  4.59466042  3.50603102  6.10399679  5.39095034  8.96256792  3.73667505\n",
      "  6.51816262  5.50300007  3.83726114  6.28469612  4.71646558 10.41118292\n",
      " 10.33161981  6.39557779  6.46927431 10.36188347  7.20457991  7.22677317\n",
      "  1.76826751 10.50948213  5.36831395 10.98282901  6.36298155  4.21280793\n",
      "  3.08509893  6.052481    3.49638591  5.25524433  5.75675611  6.27437053\n",
      "  7.78251945  5.1886135   4.39156619 10.06727704  4.58330794  4.2024169\n",
      "  5.30107452  4.10141589  5.64611108  1.9780923   3.38096415  5.52045024\n",
      "  6.50863098  5.77614886  3.70867179  5.34056792  5.00206441  6.11661304\n",
      "  4.41363232  8.02707618  1.70003628  7.25844024  4.81525788  4.65137824\n",
      "  6.04154169  3.55837209  6.56951839  5.12644959  4.35031459  7.17689991\n",
      "  6.96733217  3.10808803  6.61753536 10.36309436  6.43663293  4.34351937\n",
      "  6.72380197 11.29842206  4.84721662  5.4032955   3.81511799  6.87249729\n",
      "  4.62865354  5.84331834  4.25855019  9.816962   10.84479549  6.61638997\n",
      "  1.26199091  6.14281662  3.99907103  3.78686197  7.57518304  6.5530664\n",
      "  7.22341666  6.25428262  4.8201514   4.6885548   4.0403102   3.64715767\n",
      "  0.54523163  9.75572502  4.37668419  4.68713699  4.36553559  5.59623167\n",
      "  6.07859581  6.11946541  6.27754043  0.97793831  3.62318017  3.51369451\n",
      "  5.74729421  5.92588447  4.34087804  6.25307704  1.02571286  2.13687372\n",
      "  6.07449611  4.14602058  3.3836573   2.65239877  4.6916223   6.4644409\n",
      "  4.89960732  3.51227514  5.46129134  4.15146682  6.55303751  6.61631454\n",
      "  3.23721825  4.52745123  3.66763972  5.693533    8.31188925  6.45767777\n",
      "  4.65149139  8.02798656  3.65210738  6.42375097  4.6809763   4.09942568\n",
      "  3.37592071  3.57536437  5.03282909  6.19251411  6.59184519  5.95634925\n",
      "  4.16674803  5.70497636  7.06849269  4.23060437  6.91390085  1.58240069\n",
      "  5.99319222  4.16059068  3.89390967  3.57835626  4.62179564  6.65959987\n",
      "  6.46022294  6.53425383  5.14291025  2.15519921  6.41733639  7.00232967\n",
      "  9.03041193  4.81946081  4.57653915  3.70273076  7.94881825 12.63360894\n",
      "  4.75815458  4.89201875  5.856068    4.74463941  4.45384768  6.4126323\n",
      "  7.14637866  1.99000123  7.25373084  5.69123698  5.22713164  4.14065494\n",
      "  5.48152778  3.15531252  7.05890577  5.08324309  6.6799628   3.49318956\n",
      "  5.7388453   6.02888007  6.05073821  4.93351894  6.17842634  6.59005106\n",
      "  3.17627562  7.01872351  8.18725857  3.23114284  2.88167336 10.42123766\n",
      "  5.6991345   4.96919067 11.15126591 10.03190052  5.62595248  3.22938892\n",
      "  5.49107793  5.09065901  7.52478987  1.72356919  4.18018135  2.19499014\n",
      "  4.39626139  7.13856646  6.38857358  3.00450239  8.72167519  3.68580963\n",
      "  7.0636143   6.01508006  5.02708526  2.55834099  4.17090349  4.50167824\n",
      "  7.27741339 12.00905049 11.15090326  1.4978646   4.26868485]\n"
     ]
    }
   ],
   "source": [
    "print(predict)"
   ]
  },
  {
   "cell_type": "code",
   "execution_count": 276,
   "id": "3e96884d",
   "metadata": {},
   "outputs": [
    {
     "data": {
      "text/plain": [
       "1.6264304176469278"
      ]
     },
     "execution_count": 276,
     "metadata": {},
     "output_type": "execute_result"
    }
   ],
   "source": [
    "mean_absolute_error(Y_test, predict)"
   ]
  },
  {
   "cell_type": "code",
   "execution_count": 277,
   "id": "df0c3eae",
   "metadata": {},
   "outputs": [],
   "source": [
    "rms = sqrt(mean_squared_error(Y_test, predict))"
   ]
  },
  {
   "cell_type": "code",
   "execution_count": 278,
   "id": "5e4c91b6",
   "metadata": {},
   "outputs": [
    {
     "name": "stdout",
     "output_type": "stream",
     "text": [
      "2.513066882140082\n"
     ]
    }
   ],
   "source": [
    "print(rms)"
   ]
  },
  {
   "cell_type": "code",
   "execution_count": 279,
   "id": "7da0b156",
   "metadata": {},
   "outputs": [
    {
     "name": "stdout",
     "output_type": "stream",
     "text": [
      "R squared error :  0.429317355343278\n"
     ]
    }
   ],
   "source": [
    "# R squared error\n",
    "error_score = metrics.r2_score(Y_test,predict)\n",
    "print(\"R squared error : \", error_score)"
   ]
  },
  {
   "cell_type": "code",
   "execution_count": 280,
   "id": "6943eacc",
   "metadata": {},
   "outputs": [
    {
     "name": "stdout",
     "output_type": "stream",
     "text": [
      "SMAPE score: 34.17185749750793\n"
     ]
    }
   ],
   "source": [
    "smape_score = smape(Y_test,predict)\n",
    "print(\"SMAPE score:\", smape_score)"
   ]
  },
  {
   "cell_type": "code",
   "execution_count": 281,
   "id": "1e0099aa",
   "metadata": {},
   "outputs": [
    {
     "name": "stdout",
     "output_type": "stream",
     "text": [
      "2.5239225131555147\n"
     ]
    }
   ],
   "source": [
    "residuals = Y_test - predict\n",
    "n = len(X_test)\n",
    "p = 1  # Assuming only one predictor variable\n",
    "SSE = np.sum(residuals ** 2)\n",
    "SE = np.sqrt(SSE / (n - p - 1))\n",
    "print(SE)"
   ]
  },
  {
   "cell_type": "code",
   "execution_count": null,
   "id": "160c933d",
   "metadata": {},
   "outputs": [],
   "source": []
  },
  {
   "cell_type": "code",
   "execution_count": null,
   "id": "6857bb9f",
   "metadata": {},
   "outputs": [],
   "source": []
  },
  {
   "cell_type": "code",
   "execution_count": null,
   "id": "e1d7aa66",
   "metadata": {},
   "outputs": [],
   "source": []
  },
  {
   "cell_type": "code",
   "execution_count": null,
   "id": "6e512364",
   "metadata": {},
   "outputs": [],
   "source": []
  }
 ],
 "metadata": {
  "kernelspec": {
   "display_name": "Python 3 (ipykernel)",
   "language": "python",
   "name": "python3"
  },
  "language_info": {
   "codemirror_mode": {
    "name": "ipython",
    "version": 3
   },
   "file_extension": ".py",
   "mimetype": "text/x-python",
   "name": "python",
   "nbconvert_exporter": "python",
   "pygments_lexer": "ipython3",
   "version": "3.11.2"
  }
 },
 "nbformat": 4,
 "nbformat_minor": 5
}
