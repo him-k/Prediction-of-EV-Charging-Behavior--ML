{
 "cells": [
  {
   "cell_type": "code",
   "execution_count": 1,
   "id": "abb9d016",
   "metadata": {},
   "outputs": [],
   "source": [
    "import json"
   ]
  },
  {
   "cell_type": "code",
   "execution_count": 2,
   "id": "4b868c7c",
   "metadata": {},
   "outputs": [],
   "source": [
    "import csv"
   ]
  },
  {
   "cell_type": "code",
   "execution_count": 6,
   "id": "841a6e42",
   "metadata": {},
   "outputs": [],
   "source": [
    "with open('C:/Users/Himani/Downloads/acndata_sessions (5).json') as f:\n",
    "  data = json.load(f)\n",
    "fname=\"large.csv\"\n",
    "with open(fname, \"w\") as f:\n",
    "    csv_file = csv.writer(f,lineterminator='\\n')\n",
    "    csv_file.writerow([\"id\",\"clusterId\",\"connectionTime\",\"disconnectTime\",\"donechargingTime\",\"kWhDelivered\",\"sessionId\",\"siteId\",\n",
    "                       \"spaceID\",\"stationID\",\"timezone\",\"userID\",\"userInput\"])\n",
    "    for item in data[\"_items\"]:\n",
    "         csv_file.writerow([item['_id'],item['clusterID'],item['connectionTime'],item['disconnectTime'],item['doneChargingTime']\n",
    "                           ,item['kWhDelivered'],item['sessionID'],item['siteID'],item['spaceID'],item['stationID'],item['timezone'],\n",
    "                           item['userID'],item['userInputs']])"
   ]
  },
  {
   "cell_type": "code",
   "execution_count": null,
   "id": "bf0b93aa",
   "metadata": {},
   "outputs": [],
   "source": []
  }
 ],
 "metadata": {
  "kernelspec": {
   "display_name": "Python 3 (ipykernel)",
   "language": "python",
   "name": "python3"
  },
  "language_info": {
   "codemirror_mode": {
    "name": "ipython",
    "version": 3
   },
   "file_extension": ".py",
   "mimetype": "text/x-python",
   "name": "python",
   "nbconvert_exporter": "python",
   "pygments_lexer": "ipython3",
   "version": "3.11.2"
  }
 },
 "nbformat": 4,
 "nbformat_minor": 5
}
