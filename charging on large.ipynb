{
 "cells": [
  {
   "cell_type": "markdown",
   "id": "2f9a33db",
   "metadata": {},
   "source": [
    "# Importing the Libraries"
   ]
  },
  {
   "cell_type": "code",
   "execution_count": 1,
   "id": "f91db0d9",
   "metadata": {},
   "outputs": [],
   "source": [
    "import numpy as np\n",
    "import pandas as pd\n",
    "import matplotlib.pyplot as plt\n",
    "import seaborn as sns\n",
    "from sklearn.model_selection import train_test_split\n",
    "from sklearn.ensemble import RandomForestRegressor\n",
    "from sklearn import metrics\n",
    "from sklearn.ensemble import StackingRegressor\n",
    "from sklearn.ensemble import VotingRegressor\n",
    "from sklearn.metrics import mean_absolute_error\n",
    "from sklearn.metrics import mean_squared_error\n",
    "from math import sqrt\n",
    "from sklearn.preprocessing import StandardScaler\n",
    "from sklearn.svm import SVR\n",
    "from xgboost import XGBRegressor\n",
    "from keras.models import Sequential\n",
    "from keras.layers import Dense, BatchNormalization, Dropout, LSTM\n",
    "from sklearn.ensemble import IsolationForest"
   ]
  },
  {
   "cell_type": "markdown",
   "id": "4fdbf56f",
   "metadata": {},
   "source": [
    "# Data Collection and Processing"
   ]
  },
  {
   "cell_type": "code",
   "execution_count": 2,
   "id": "2cfc00ec",
   "metadata": {},
   "outputs": [],
   "source": [
    "# loading the csv data to a Pandas DataFrame\n",
    "ev= pd.read_csv('C:\\\\Users\\\\Himani\\\\Desktop\\\\pp/big.csv')"
   ]
  },
  {
   "cell_type": "code",
   "execution_count": 3,
   "id": "222c17db",
   "metadata": {},
   "outputs": [
    {
     "data": {
      "text/html": [
       "<div>\n",
       "<style scoped>\n",
       "    .dataframe tbody tr th:only-of-type {\n",
       "        vertical-align: middle;\n",
       "    }\n",
       "\n",
       "    .dataframe tbody tr th {\n",
       "        vertical-align: top;\n",
       "    }\n",
       "\n",
       "    .dataframe thead th {\n",
       "        text-align: right;\n",
       "    }\n",
       "</style>\n",
       "<table border=\"1\" class=\"dataframe\">\n",
       "  <thead>\n",
       "    <tr style=\"text-align: right;\">\n",
       "      <th></th>\n",
       "      <th>id</th>\n",
       "      <th>clusterId</th>\n",
       "      <th>connectionTime</th>\n",
       "      <th>Num.Rep.</th>\n",
       "      <th>disconnectTime</th>\n",
       "      <th>donechargingTime</th>\n",
       "      <th>SessionLength</th>\n",
       "      <th>Avg.Sess.</th>\n",
       "      <th>kWhDelivered</th>\n",
       "      <th>Avg.Cons.</th>\n",
       "      <th>...</th>\n",
       "      <th>userID</th>\n",
       "      <th>userInput</th>\n",
       "      <th>Precip Type</th>\n",
       "      <th>temperature</th>\n",
       "      <th>Avg. Humidity</th>\n",
       "      <th>Avg Wind Speed(mph)</th>\n",
       "      <th>Wind Bearing(degrees)</th>\n",
       "      <th>Visibility(km)</th>\n",
       "      <th>Loud Cover</th>\n",
       "      <th>Pressure(millibar)</th>\n",
       "    </tr>\n",
       "  </thead>\n",
       "  <tbody>\n",
       "    <tr>\n",
       "      <th>0</th>\n",
       "      <td>5bc90cb9f9af8b0d7fe77cd2</td>\n",
       "      <td>39</td>\n",
       "      <td>Wed, 25 Apr 2018 11:08:04 GMT</td>\n",
       "      <td>11.13</td>\n",
       "      <td>Wed, 25 Apr 2018 13:20:10 GMT</td>\n",
       "      <td>Wed, 25 Apr 2018 13:21:10 GMT</td>\n",
       "      <td>2.20</td>\n",
       "      <td>3.55</td>\n",
       "      <td>7.93</td>\n",
       "      <td>6.44</td>\n",
       "      <td>...</td>\n",
       "      <td>NaN</td>\n",
       "      <td>NaN</td>\n",
       "      <td>rain</td>\n",
       "      <td>24.37</td>\n",
       "      <td>34.85</td>\n",
       "      <td>13.54</td>\n",
       "      <td>300</td>\n",
       "      <td>9.9</td>\n",
       "      <td>0</td>\n",
       "      <td>1004.55</td>\n",
       "    </tr>\n",
       "    <tr>\n",
       "      <th>1</th>\n",
       "      <td>5bc90cb9f9af8b0d7fe77cd3</td>\n",
       "      <td>39</td>\n",
       "      <td>Wed, 25 Apr 2018 13:45:10 GMT</td>\n",
       "      <td>13.75</td>\n",
       "      <td>Thu, 26 Apr 2018 00:56:16 GMT</td>\n",
       "      <td>Wed, 25 Apr 2018 16:44:15 GMT</td>\n",
       "      <td>11.19</td>\n",
       "      <td>3.55</td>\n",
       "      <td>10.01</td>\n",
       "      <td>6.44</td>\n",
       "      <td>...</td>\n",
       "      <td>NaN</td>\n",
       "      <td>NaN</td>\n",
       "      <td>rain</td>\n",
       "      <td>24.37</td>\n",
       "      <td>34.85</td>\n",
       "      <td>13.54</td>\n",
       "      <td>300</td>\n",
       "      <td>9.9</td>\n",
       "      <td>0</td>\n",
       "      <td>1004.55</td>\n",
       "    </tr>\n",
       "    <tr>\n",
       "      <th>2</th>\n",
       "      <td>5bc90cb9f9af8b0d7fe77cd4</td>\n",
       "      <td>39</td>\n",
       "      <td>Wed, 25 Apr 2018 13:45:50 GMT</td>\n",
       "      <td>13.76</td>\n",
       "      <td>Wed, 25 Apr 2018 23:04:45 GMT</td>\n",
       "      <td>Wed, 25 Apr 2018 14:51:44 GMT</td>\n",
       "      <td>10.33</td>\n",
       "      <td>3.54</td>\n",
       "      <td>5.26</td>\n",
       "      <td>6.44</td>\n",
       "      <td>...</td>\n",
       "      <td>NaN</td>\n",
       "      <td>NaN</td>\n",
       "      <td>rain</td>\n",
       "      <td>24.37</td>\n",
       "      <td>34.85</td>\n",
       "      <td>13.54</td>\n",
       "      <td>300</td>\n",
       "      <td>9.9</td>\n",
       "      <td>0</td>\n",
       "      <td>1004.55</td>\n",
       "    </tr>\n",
       "    <tr>\n",
       "      <th>3</th>\n",
       "      <td>5bc90cb9f9af8b0d7fe77cd5</td>\n",
       "      <td>39</td>\n",
       "      <td>Wed, 25 Apr 2018 14:37:06 GMT</td>\n",
       "      <td>14.62</td>\n",
       "      <td>Wed, 25 Apr 2018 23:55:34 GMT</td>\n",
       "      <td>Wed, 25 Apr 2018 16:05:22 GMT</td>\n",
       "      <td>9.31</td>\n",
       "      <td>3.55</td>\n",
       "      <td>5.18</td>\n",
       "      <td>6.44</td>\n",
       "      <td>...</td>\n",
       "      <td>NaN</td>\n",
       "      <td>NaN</td>\n",
       "      <td>rain</td>\n",
       "      <td>24.37</td>\n",
       "      <td>34.85</td>\n",
       "      <td>13.54</td>\n",
       "      <td>300</td>\n",
       "      <td>9.9</td>\n",
       "      <td>0</td>\n",
       "      <td>1004.55</td>\n",
       "    </tr>\n",
       "    <tr>\n",
       "      <th>4</th>\n",
       "      <td>5bc90cb9f9af8b0d7fe77cd6</td>\n",
       "      <td>39</td>\n",
       "      <td>Wed, 25 Apr 2018 14:40:34 GMT</td>\n",
       "      <td>14.68</td>\n",
       "      <td>Wed, 25 Apr 2018 23:03:12 GMT</td>\n",
       "      <td>Wed, 25 Apr 2018 17:40:30 GMT</td>\n",
       "      <td>8.38</td>\n",
       "      <td>3.55</td>\n",
       "      <td>10.12</td>\n",
       "      <td>6.44</td>\n",
       "      <td>...</td>\n",
       "      <td>NaN</td>\n",
       "      <td>NaN</td>\n",
       "      <td>rain</td>\n",
       "      <td>24.37</td>\n",
       "      <td>34.85</td>\n",
       "      <td>13.54</td>\n",
       "      <td>300</td>\n",
       "      <td>9.9</td>\n",
       "      <td>0</td>\n",
       "      <td>1004.55</td>\n",
       "    </tr>\n",
       "  </tbody>\n",
       "</table>\n",
       "<p>5 rows × 25 columns</p>\n",
       "</div>"
      ],
      "text/plain": [
       "                         id  clusterId                 connectionTime  \\\n",
       "0  5bc90cb9f9af8b0d7fe77cd2         39  Wed, 25 Apr 2018 11:08:04 GMT   \n",
       "1  5bc90cb9f9af8b0d7fe77cd3         39  Wed, 25 Apr 2018 13:45:10 GMT   \n",
       "2  5bc90cb9f9af8b0d7fe77cd4         39  Wed, 25 Apr 2018 13:45:50 GMT   \n",
       "3  5bc90cb9f9af8b0d7fe77cd5         39  Wed, 25 Apr 2018 14:37:06 GMT   \n",
       "4  5bc90cb9f9af8b0d7fe77cd6         39  Wed, 25 Apr 2018 14:40:34 GMT   \n",
       "\n",
       "   Num.Rep.                 disconnectTime               donechargingTime  \\\n",
       "0     11.13  Wed, 25 Apr 2018 13:20:10 GMT  Wed, 25 Apr 2018 13:21:10 GMT   \n",
       "1     13.75  Thu, 26 Apr 2018 00:56:16 GMT  Wed, 25 Apr 2018 16:44:15 GMT   \n",
       "2     13.76  Wed, 25 Apr 2018 23:04:45 GMT  Wed, 25 Apr 2018 14:51:44 GMT   \n",
       "3     14.62  Wed, 25 Apr 2018 23:55:34 GMT  Wed, 25 Apr 2018 16:05:22 GMT   \n",
       "4     14.68  Wed, 25 Apr 2018 23:03:12 GMT  Wed, 25 Apr 2018 17:40:30 GMT   \n",
       "\n",
       "   SessionLength  Avg.Sess.  kWhDelivered  Avg.Cons.  ... userID  userInput  \\\n",
       "0           2.20       3.55          7.93       6.44  ...    NaN        NaN   \n",
       "1          11.19       3.55         10.01       6.44  ...    NaN        NaN   \n",
       "2          10.33       3.54          5.26       6.44  ...    NaN        NaN   \n",
       "3           9.31       3.55          5.18       6.44  ...    NaN        NaN   \n",
       "4           8.38       3.55         10.12       6.44  ...    NaN        NaN   \n",
       "\n",
       "  Precip Type temperature Avg. Humidity  Avg Wind Speed(mph)  \\\n",
       "0        rain       24.37         34.85                13.54   \n",
       "1        rain       24.37         34.85                13.54   \n",
       "2        rain       24.37         34.85                13.54   \n",
       "3        rain       24.37         34.85                13.54   \n",
       "4        rain       24.37         34.85                13.54   \n",
       "\n",
       "   Wind Bearing(degrees) Visibility(km)  Loud Cover  Pressure(millibar)  \n",
       "0                    300            9.9           0             1004.55  \n",
       "1                    300            9.9           0             1004.55  \n",
       "2                    300            9.9           0             1004.55  \n",
       "3                    300            9.9           0             1004.55  \n",
       "4                    300            9.9           0             1004.55  \n",
       "\n",
       "[5 rows x 25 columns]"
      ]
     },
     "execution_count": 3,
     "metadata": {},
     "output_type": "execute_result"
    }
   ],
   "source": [
    "# print first 5 rows in the dataframe\n",
    "ev.head()"
   ]
  },
  {
   "cell_type": "code",
   "execution_count": 4,
   "id": "3b7dbffb",
   "metadata": {},
   "outputs": [
    {
     "data": {
      "text/html": [
       "<div>\n",
       "<style scoped>\n",
       "    .dataframe tbody tr th:only-of-type {\n",
       "        vertical-align: middle;\n",
       "    }\n",
       "\n",
       "    .dataframe tbody tr th {\n",
       "        vertical-align: top;\n",
       "    }\n",
       "\n",
       "    .dataframe thead th {\n",
       "        text-align: right;\n",
       "    }\n",
       "</style>\n",
       "<table border=\"1\" class=\"dataframe\">\n",
       "  <thead>\n",
       "    <tr style=\"text-align: right;\">\n",
       "      <th></th>\n",
       "      <th>id</th>\n",
       "      <th>clusterId</th>\n",
       "      <th>connectionTime</th>\n",
       "      <th>Num.Rep.</th>\n",
       "      <th>disconnectTime</th>\n",
       "      <th>donechargingTime</th>\n",
       "      <th>SessionLength</th>\n",
       "      <th>Avg.Sess.</th>\n",
       "      <th>kWhDelivered</th>\n",
       "      <th>Avg.Cons.</th>\n",
       "      <th>...</th>\n",
       "      <th>userID</th>\n",
       "      <th>userInput</th>\n",
       "      <th>Precip Type</th>\n",
       "      <th>temperature</th>\n",
       "      <th>Avg. Humidity</th>\n",
       "      <th>Avg Wind Speed(mph)</th>\n",
       "      <th>Wind Bearing(degrees)</th>\n",
       "      <th>Visibility(km)</th>\n",
       "      <th>Loud Cover</th>\n",
       "      <th>Pressure(millibar)</th>\n",
       "    </tr>\n",
       "  </thead>\n",
       "  <tbody>\n",
       "    <tr>\n",
       "      <th>1194</th>\n",
       "      <td>9543932</td>\n",
       "      <td>39</td>\n",
       "      <td>0015-08-03 16:45:16</td>\n",
       "      <td>16.0</td>\n",
       "      <td>0015-08-03 19:58:16</td>\n",
       "      <td>0015-08-03 19:58:16</td>\n",
       "      <td>3.22</td>\n",
       "      <td>2.57</td>\n",
       "      <td>1.82</td>\n",
       "      <td>3.62</td>\n",
       "      <td>...</td>\n",
       "      <td>NaN</td>\n",
       "      <td>NaN</td>\n",
       "      <td>rain</td>\n",
       "      <td>35.98</td>\n",
       "      <td>40.55</td>\n",
       "      <td>10.35</td>\n",
       "      <td>305</td>\n",
       "      <td>16.1</td>\n",
       "      <td>0</td>\n",
       "      <td>1005.18</td>\n",
       "    </tr>\n",
       "    <tr>\n",
       "      <th>1195</th>\n",
       "      <td>9851741</td>\n",
       "      <td>39</td>\n",
       "      <td>0015-08-04 19:00:42</td>\n",
       "      <td>19.0</td>\n",
       "      <td>0015-08-04 20:31:07</td>\n",
       "      <td>0015-08-04 20:31:07</td>\n",
       "      <td>1.51</td>\n",
       "      <td>2.41</td>\n",
       "      <td>4.73</td>\n",
       "      <td>4.07</td>\n",
       "      <td>...</td>\n",
       "      <td>NaN</td>\n",
       "      <td>NaN</td>\n",
       "      <td>rain</td>\n",
       "      <td>35.98</td>\n",
       "      <td>40.55</td>\n",
       "      <td>10.35</td>\n",
       "      <td>305</td>\n",
       "      <td>16.1</td>\n",
       "      <td>0</td>\n",
       "      <td>1005.18</td>\n",
       "    </tr>\n",
       "    <tr>\n",
       "      <th>1196</th>\n",
       "      <td>4852971</td>\n",
       "      <td>39</td>\n",
       "      <td>0015-08-05 12:18:20</td>\n",
       "      <td>12.0</td>\n",
       "      <td>0015-08-05 15:35:08</td>\n",
       "      <td>0015-08-05 15:35:08</td>\n",
       "      <td>3.28</td>\n",
       "      <td>2.70</td>\n",
       "      <td>3.69</td>\n",
       "      <td>3.85</td>\n",
       "      <td>...</td>\n",
       "      <td>NaN</td>\n",
       "      <td>NaN</td>\n",
       "      <td>rain</td>\n",
       "      <td>35.98</td>\n",
       "      <td>40.55</td>\n",
       "      <td>10.35</td>\n",
       "      <td>305</td>\n",
       "      <td>17.3</td>\n",
       "      <td>0</td>\n",
       "      <td>1005.18</td>\n",
       "    </tr>\n",
       "    <tr>\n",
       "      <th>1197</th>\n",
       "      <td>6431779</td>\n",
       "      <td>39</td>\n",
       "      <td>0015-08-06 13:53:58</td>\n",
       "      <td>13.0</td>\n",
       "      <td>0015-08-06 15:47:07</td>\n",
       "      <td>0015-08-06 15:47:07</td>\n",
       "      <td>1.89</td>\n",
       "      <td>2.42</td>\n",
       "      <td>3.82</td>\n",
       "      <td>3.93</td>\n",
       "      <td>...</td>\n",
       "      <td>NaN</td>\n",
       "      <td>NaN</td>\n",
       "      <td>rain</td>\n",
       "      <td>35.98</td>\n",
       "      <td>40.55</td>\n",
       "      <td>10.35</td>\n",
       "      <td>305</td>\n",
       "      <td>17.3</td>\n",
       "      <td>0</td>\n",
       "      <td>1005.18</td>\n",
       "    </tr>\n",
       "    <tr>\n",
       "      <th>1198</th>\n",
       "      <td>7870286</td>\n",
       "      <td>39</td>\n",
       "      <td>0015-08-07 12:05:16</td>\n",
       "      <td>12.0</td>\n",
       "      <td>0015-08-07 15:02:08</td>\n",
       "      <td>0015-08-07 15:02:08</td>\n",
       "      <td>2.95</td>\n",
       "      <td>2.95</td>\n",
       "      <td>4.03</td>\n",
       "      <td>4.03</td>\n",
       "      <td>...</td>\n",
       "      <td>NaN</td>\n",
       "      <td>NaN</td>\n",
       "      <td>rain</td>\n",
       "      <td>35.98</td>\n",
       "      <td>40.55</td>\n",
       "      <td>10.35</td>\n",
       "      <td>305</td>\n",
       "      <td>17.3</td>\n",
       "      <td>0</td>\n",
       "      <td>1005.18</td>\n",
       "    </tr>\n",
       "  </tbody>\n",
       "</table>\n",
       "<p>5 rows × 25 columns</p>\n",
       "</div>"
      ],
      "text/plain": [
       "           id  clusterId       connectionTime  Num.Rep.       disconnectTime  \\\n",
       "1194  9543932         39  0015-08-03 16:45:16      16.0  0015-08-03 19:58:16   \n",
       "1195  9851741         39  0015-08-04 19:00:42      19.0  0015-08-04 20:31:07   \n",
       "1196  4852971         39  0015-08-05 12:18:20      12.0  0015-08-05 15:35:08   \n",
       "1197  6431779         39  0015-08-06 13:53:58      13.0  0015-08-06 15:47:07   \n",
       "1198  7870286         39  0015-08-07 12:05:16      12.0  0015-08-07 15:02:08   \n",
       "\n",
       "         donechargingTime  SessionLength  Avg.Sess.  kWhDelivered  Avg.Cons.  \\\n",
       "1194  0015-08-03 19:58:16           3.22       2.57          1.82       3.62   \n",
       "1195  0015-08-04 20:31:07           1.51       2.41          4.73       4.07   \n",
       "1196  0015-08-05 15:35:08           3.28       2.70          3.69       3.85   \n",
       "1197  0015-08-06 15:47:07           1.89       2.42          3.82       3.93   \n",
       "1198  0015-08-07 15:02:08           2.95       2.95          4.03       4.03   \n",
       "\n",
       "      ... userID  userInput Precip Type temperature Avg. Humidity  \\\n",
       "1194  ...    NaN        NaN        rain       35.98         40.55   \n",
       "1195  ...    NaN        NaN        rain       35.98         40.55   \n",
       "1196  ...    NaN        NaN        rain       35.98         40.55   \n",
       "1197  ...    NaN        NaN        rain       35.98         40.55   \n",
       "1198  ...    NaN        NaN        rain       35.98         40.55   \n",
       "\n",
       "      Avg Wind Speed(mph)  Wind Bearing(degrees) Visibility(km)  Loud Cover  \\\n",
       "1194                10.35                    305           16.1           0   \n",
       "1195                10.35                    305           16.1           0   \n",
       "1196                10.35                    305           17.3           0   \n",
       "1197                10.35                    305           17.3           0   \n",
       "1198                10.35                    305           17.3           0   \n",
       "\n",
       "      Pressure(millibar)  \n",
       "1194             1005.18  \n",
       "1195             1005.18  \n",
       "1196             1005.18  \n",
       "1197             1005.18  \n",
       "1198             1005.18  \n",
       "\n",
       "[5 rows x 25 columns]"
      ]
     },
     "execution_count": 4,
     "metadata": {},
     "output_type": "execute_result"
    }
   ],
   "source": [
    "# print last 5 rows of the dataframe\n",
    "ev.tail()"
   ]
  },
  {
   "cell_type": "code",
   "execution_count": 5,
   "id": "7d2a15ea",
   "metadata": {},
   "outputs": [
    {
     "data": {
      "text/plain": [
       "(1199, 25)"
      ]
     },
     "execution_count": 5,
     "metadata": {},
     "output_type": "execute_result"
    }
   ],
   "source": [
    "# number of rows and columns\n",
    "ev.shape"
   ]
  },
  {
   "cell_type": "code",
   "execution_count": 6,
   "id": "8e1d13d8",
   "metadata": {},
   "outputs": [
    {
     "name": "stdout",
     "output_type": "stream",
     "text": [
      "<class 'pandas.core.frame.DataFrame'>\n",
      "RangeIndex: 1199 entries, 0 to 1198\n",
      "Data columns (total 25 columns):\n",
      " #   Column                 Non-Null Count  Dtype  \n",
      "---  ------                 --------------  -----  \n",
      " 0   id                     1199 non-null   object \n",
      " 1   clusterId              1199 non-null   int64  \n",
      " 2   connectionTime         1199 non-null   object \n",
      " 3   Num.Rep.               1199 non-null   float64\n",
      " 4   disconnectTime         1199 non-null   object \n",
      " 5   donechargingTime       1198 non-null   object \n",
      " 6   SessionLength          1199 non-null   float64\n",
      " 7   Avg.Sess.              1199 non-null   float64\n",
      " 8   kWhDelivered           1199 non-null   float64\n",
      " 9   Avg.Cons.              1199 non-null   float64\n",
      " 10  sessionId              1199 non-null   object \n",
      " 11  siteId                 1199 non-null   int64  \n",
      " 12  spaceID                1199 non-null   object \n",
      " 13  stationID              1199 non-null   object \n",
      " 14  timezone               1199 non-null   object \n",
      " 15  userID                 0 non-null      float64\n",
      " 16  userInput              0 non-null      float64\n",
      " 17  Precip Type            1199 non-null   object \n",
      " 18  temperature            1199 non-null   float64\n",
      " 19  Avg. Humidity          1199 non-null   float64\n",
      " 20  Avg Wind Speed(mph)    1199 non-null   float64\n",
      " 21  Wind Bearing(degrees)  1199 non-null   int64  \n",
      " 22  Visibility(km)         1199 non-null   float64\n",
      " 23  Loud Cover             1199 non-null   int64  \n",
      " 24  Pressure(millibar)     1199 non-null   float64\n",
      "dtypes: float64(12), int64(4), object(9)\n",
      "memory usage: 234.3+ KB\n"
     ]
    }
   ],
   "source": [
    "# getting some basic informations about the data\n",
    "ev.info()"
   ]
  },
  {
   "cell_type": "code",
   "execution_count": 7,
   "id": "02415370",
   "metadata": {},
   "outputs": [
    {
     "data": {
      "text/plain": [
       "id                          0\n",
       "clusterId                   0\n",
       "connectionTime              0\n",
       "Num.Rep.                    0\n",
       "disconnectTime              0\n",
       "donechargingTime            1\n",
       "SessionLength               0\n",
       "Avg.Sess.                   0\n",
       "kWhDelivered                0\n",
       "Avg.Cons.                   0\n",
       "sessionId                   0\n",
       "siteId                      0\n",
       "spaceID                     0\n",
       "stationID                   0\n",
       "timezone                    0\n",
       "userID                   1199\n",
       "userInput                1199\n",
       "Precip Type                 0\n",
       "temperature                 0\n",
       "Avg. Humidity               0\n",
       "Avg Wind Speed(mph)         0\n",
       "Wind Bearing(degrees)       0\n",
       "Visibility(km)              0\n",
       "Loud Cover                  0\n",
       "Pressure(millibar)          0\n",
       "dtype: int64"
      ]
     },
     "execution_count": 7,
     "metadata": {},
     "output_type": "execute_result"
    }
   ],
   "source": [
    "# checking the number of missing values\n",
    "ev.isnull().sum()"
   ]
  },
  {
   "cell_type": "code",
   "execution_count": 8,
   "id": "1bea6d0b",
   "metadata": {},
   "outputs": [],
   "source": [
    "ev[\"donechargingTime\"] = ev[\"donechargingTime\"].fillna(ev[\"donechargingTime\"].mode()[0])"
   ]
  },
  {
   "cell_type": "code",
   "execution_count": 9,
   "id": "5cde64ca",
   "metadata": {},
   "outputs": [
    {
     "data": {
      "text/html": [
       "<div>\n",
       "<style scoped>\n",
       "    .dataframe tbody tr th:only-of-type {\n",
       "        vertical-align: middle;\n",
       "    }\n",
       "\n",
       "    .dataframe tbody tr th {\n",
       "        vertical-align: top;\n",
       "    }\n",
       "\n",
       "    .dataframe thead th {\n",
       "        text-align: right;\n",
       "    }\n",
       "</style>\n",
       "<table border=\"1\" class=\"dataframe\">\n",
       "  <thead>\n",
       "    <tr style=\"text-align: right;\">\n",
       "      <th></th>\n",
       "      <th>EV</th>\n",
       "    </tr>\n",
       "  </thead>\n",
       "  <tbody>\n",
       "    <tr>\n",
       "      <th>userID</th>\n",
       "      <td>1199</td>\n",
       "    </tr>\n",
       "    <tr>\n",
       "      <th>userInput</th>\n",
       "      <td>1199</td>\n",
       "    </tr>\n",
       "  </tbody>\n",
       "</table>\n",
       "</div>"
      ],
      "text/plain": [
       "             EV\n",
       "userID     1199\n",
       "userInput  1199"
      ]
     },
     "execution_count": 9,
     "metadata": {},
     "output_type": "execute_result"
    }
   ],
   "source": [
    "NAs = pd.concat([ev.isnull().sum()], axis=1, keys=[\"EV\"])\n",
    "NAs[NAs.sum(axis=1) > 0]"
   ]
  },
  {
   "cell_type": "code",
   "execution_count": 10,
   "id": "8e6700d7",
   "metadata": {},
   "outputs": [
    {
     "data": {
      "text/plain": [
       "0      NaN\n",
       "1      NaN\n",
       "2      NaN\n",
       "3      NaN\n",
       "4      NaN\n",
       "        ..\n",
       "1194   NaN\n",
       "1195   NaN\n",
       "1196   NaN\n",
       "1197   NaN\n",
       "1198   NaN\n",
       "Name: userID, Length: 1199, dtype: float64"
      ]
     },
     "execution_count": 10,
     "metadata": {},
     "output_type": "execute_result"
    }
   ],
   "source": [
    "ev.pop(\"userID\")"
   ]
  },
  {
   "cell_type": "code",
   "execution_count": 11,
   "id": "ba30e321",
   "metadata": {},
   "outputs": [
    {
     "data": {
      "text/plain": [
       "0      NaN\n",
       "1      NaN\n",
       "2      NaN\n",
       "3      NaN\n",
       "4      NaN\n",
       "        ..\n",
       "1194   NaN\n",
       "1195   NaN\n",
       "1196   NaN\n",
       "1197   NaN\n",
       "1198   NaN\n",
       "Name: userInput, Length: 1199, dtype: float64"
      ]
     },
     "execution_count": 11,
     "metadata": {},
     "output_type": "execute_result"
    }
   ],
   "source": [
    "ev.pop(\"userInput\")"
   ]
  },
  {
   "cell_type": "markdown",
   "id": "2e9f2ff9",
   "metadata": {},
   "source": [
    "#How does data look matematically"
   ]
  },
  {
   "cell_type": "code",
   "execution_count": 12,
   "id": "820ad83d",
   "metadata": {},
   "outputs": [
    {
     "data": {
      "text/html": [
       "<div>\n",
       "<style scoped>\n",
       "    .dataframe tbody tr th:only-of-type {\n",
       "        vertical-align: middle;\n",
       "    }\n",
       "\n",
       "    .dataframe tbody tr th {\n",
       "        vertical-align: top;\n",
       "    }\n",
       "\n",
       "    .dataframe thead th {\n",
       "        text-align: right;\n",
       "    }\n",
       "</style>\n",
       "<table border=\"1\" class=\"dataframe\">\n",
       "  <thead>\n",
       "    <tr style=\"text-align: right;\">\n",
       "      <th></th>\n",
       "      <th>clusterId</th>\n",
       "      <th>Num.Rep.</th>\n",
       "      <th>SessionLength</th>\n",
       "      <th>Avg.Sess.</th>\n",
       "      <th>kWhDelivered</th>\n",
       "      <th>Avg.Cons.</th>\n",
       "      <th>siteId</th>\n",
       "      <th>temperature</th>\n",
       "      <th>Avg. Humidity</th>\n",
       "      <th>Avg Wind Speed(mph)</th>\n",
       "      <th>Wind Bearing(degrees)</th>\n",
       "      <th>Visibility(km)</th>\n",
       "      <th>Loud Cover</th>\n",
       "      <th>Pressure(millibar)</th>\n",
       "    </tr>\n",
       "  </thead>\n",
       "  <tbody>\n",
       "    <tr>\n",
       "      <th>count</th>\n",
       "      <td>1199.0</td>\n",
       "      <td>1199.000000</td>\n",
       "      <td>1199.000000</td>\n",
       "      <td>1199.000000</td>\n",
       "      <td>1199.000000</td>\n",
       "      <td>1199.000000</td>\n",
       "      <td>1199.0</td>\n",
       "      <td>1199.000000</td>\n",
       "      <td>1199.000000</td>\n",
       "      <td>1199.000000</td>\n",
       "      <td>1199.000000</td>\n",
       "      <td>1199.000000</td>\n",
       "      <td>1199.0</td>\n",
       "      <td>1199.000000</td>\n",
       "    </tr>\n",
       "    <tr>\n",
       "      <th>mean</th>\n",
       "      <td>39.0</td>\n",
       "      <td>14.840467</td>\n",
       "      <td>3.546372</td>\n",
       "      <td>2.895396</td>\n",
       "      <td>6.443036</td>\n",
       "      <td>5.465263</td>\n",
       "      <td>2.0</td>\n",
       "      <td>30.840901</td>\n",
       "      <td>39.845421</td>\n",
       "      <td>12.729166</td>\n",
       "      <td>188.645538</td>\n",
       "      <td>14.790342</td>\n",
       "      <td>0.0</td>\n",
       "      <td>1007.787873</td>\n",
       "    </tr>\n",
       "    <tr>\n",
       "      <th>std</th>\n",
       "      <td>0.0</td>\n",
       "      <td>4.004081</td>\n",
       "      <td>2.867130</td>\n",
       "      <td>0.223573</td>\n",
       "      <td>4.871629</td>\n",
       "      <td>0.605820</td>\n",
       "      <td>0.0</td>\n",
       "      <td>3.311170</td>\n",
       "      <td>3.334805</td>\n",
       "      <td>1.836852</td>\n",
       "      <td>98.281920</td>\n",
       "      <td>2.129531</td>\n",
       "      <td>0.0</td>\n",
       "      <td>3.449437</td>\n",
       "    </tr>\n",
       "    <tr>\n",
       "      <th>min</th>\n",
       "      <td>39.0</td>\n",
       "      <td>0.040000</td>\n",
       "      <td>0.010000</td>\n",
       "      <td>2.410000</td>\n",
       "      <td>0.000000</td>\n",
       "      <td>3.620000</td>\n",
       "      <td>2.0</td>\n",
       "      <td>24.370000</td>\n",
       "      <td>33.840000</td>\n",
       "      <td>10.240000</td>\n",
       "      <td>10.000000</td>\n",
       "      <td>9.900000</td>\n",
       "      <td>0.0</td>\n",
       "      <td>1003.100000</td>\n",
       "    </tr>\n",
       "    <tr>\n",
       "      <th>25%</th>\n",
       "      <td>39.0</td>\n",
       "      <td>12.000000</td>\n",
       "      <td>2.130000</td>\n",
       "      <td>2.750000</td>\n",
       "      <td>3.700000</td>\n",
       "      <td>4.920000</td>\n",
       "      <td>2.0</td>\n",
       "      <td>28.510000</td>\n",
       "      <td>37.565000</td>\n",
       "      <td>11.040000</td>\n",
       "      <td>120.000000</td>\n",
       "      <td>14.170000</td>\n",
       "      <td>0.0</td>\n",
       "      <td>1005.180000</td>\n",
       "    </tr>\n",
       "    <tr>\n",
       "      <th>50%</th>\n",
       "      <td>39.0</td>\n",
       "      <td>16.000000</td>\n",
       "      <td>3.010000</td>\n",
       "      <td>2.830000</td>\n",
       "      <td>5.790000</td>\n",
       "      <td>5.590000</td>\n",
       "      <td>2.0</td>\n",
       "      <td>31.660000</td>\n",
       "      <td>39.380000</td>\n",
       "      <td>12.490000</td>\n",
       "      <td>195.000000</td>\n",
       "      <td>15.730000</td>\n",
       "      <td>0.0</td>\n",
       "      <td>1006.920000</td>\n",
       "    </tr>\n",
       "    <tr>\n",
       "      <th>75%</th>\n",
       "      <td>39.0</td>\n",
       "      <td>17.000000</td>\n",
       "      <td>3.965000</td>\n",
       "      <td>2.930000</td>\n",
       "      <td>6.975000</td>\n",
       "      <td>5.810000</td>\n",
       "      <td>2.0</td>\n",
       "      <td>33.550000</td>\n",
       "      <td>42.950000</td>\n",
       "      <td>14.780000</td>\n",
       "      <td>271.000000</td>\n",
       "      <td>16.100000</td>\n",
       "      <td>0.0</td>\n",
       "      <td>1008.450000</td>\n",
       "    </tr>\n",
       "    <tr>\n",
       "      <th>max</th>\n",
       "      <td>39.0</td>\n",
       "      <td>23.900000</td>\n",
       "      <td>55.240000</td>\n",
       "      <td>3.550000</td>\n",
       "      <td>47.810000</td>\n",
       "      <td>6.450000</td>\n",
       "      <td>2.0</td>\n",
       "      <td>35.980000</td>\n",
       "      <td>45.100000</td>\n",
       "      <td>15.640000</td>\n",
       "      <td>339.000000</td>\n",
       "      <td>17.300000</td>\n",
       "      <td>0.0</td>\n",
       "      <td>1016.850000</td>\n",
       "    </tr>\n",
       "  </tbody>\n",
       "</table>\n",
       "</div>"
      ],
      "text/plain": [
       "       clusterId     Num.Rep.  SessionLength    Avg.Sess.  kWhDelivered  \\\n",
       "count     1199.0  1199.000000    1199.000000  1199.000000   1199.000000   \n",
       "mean        39.0    14.840467       3.546372     2.895396      6.443036   \n",
       "std          0.0     4.004081       2.867130     0.223573      4.871629   \n",
       "min         39.0     0.040000       0.010000     2.410000      0.000000   \n",
       "25%         39.0    12.000000       2.130000     2.750000      3.700000   \n",
       "50%         39.0    16.000000       3.010000     2.830000      5.790000   \n",
       "75%         39.0    17.000000       3.965000     2.930000      6.975000   \n",
       "max         39.0    23.900000      55.240000     3.550000     47.810000   \n",
       "\n",
       "         Avg.Cons.  siteId  temperature  Avg. Humidity  Avg Wind Speed(mph)  \\\n",
       "count  1199.000000  1199.0  1199.000000    1199.000000          1199.000000   \n",
       "mean      5.465263     2.0    30.840901      39.845421            12.729166   \n",
       "std       0.605820     0.0     3.311170       3.334805             1.836852   \n",
       "min       3.620000     2.0    24.370000      33.840000            10.240000   \n",
       "25%       4.920000     2.0    28.510000      37.565000            11.040000   \n",
       "50%       5.590000     2.0    31.660000      39.380000            12.490000   \n",
       "75%       5.810000     2.0    33.550000      42.950000            14.780000   \n",
       "max       6.450000     2.0    35.980000      45.100000            15.640000   \n",
       "\n",
       "       Wind Bearing(degrees)  Visibility(km)  Loud Cover  Pressure(millibar)  \n",
       "count            1199.000000     1199.000000      1199.0         1199.000000  \n",
       "mean              188.645538       14.790342         0.0         1007.787873  \n",
       "std                98.281920        2.129531         0.0            3.449437  \n",
       "min                10.000000        9.900000         0.0         1003.100000  \n",
       "25%               120.000000       14.170000         0.0         1005.180000  \n",
       "50%               195.000000       15.730000         0.0         1006.920000  \n",
       "75%               271.000000       16.100000         0.0         1008.450000  \n",
       "max               339.000000       17.300000         0.0         1016.850000  "
      ]
     },
     "execution_count": 12,
     "metadata": {},
     "output_type": "execute_result"
    }
   ],
   "source": [
    "ev.describe()"
   ]
  },
  {
   "cell_type": "code",
   "execution_count": 13,
   "id": "b59babcc",
   "metadata": {},
   "outputs": [
    {
     "data": {
      "text/plain": [
       "0"
      ]
     },
     "execution_count": 13,
     "metadata": {},
     "output_type": "execute_result"
    }
   ],
   "source": [
    "#Are there duplicate values\n",
    "ev.duplicated().sum()"
   ]
  },
  {
   "cell_type": "code",
   "execution_count": 14,
   "id": "eafd458d",
   "metadata": {},
   "outputs": [
    {
     "name": "stderr",
     "output_type": "stream",
     "text": [
      "C:\\Users\\Himani\\AppData\\Local\\Temp\\ipykernel_19028\\4186223021.py:2: FutureWarning: The default value of numeric_only in DataFrame.corr is deprecated. In a future version, it will default to False. Select only valid columns or specify the value of numeric_only to silence this warning.\n",
      "  ev.corr()\n"
     ]
    },
    {
     "data": {
      "text/html": [
       "<div>\n",
       "<style scoped>\n",
       "    .dataframe tbody tr th:only-of-type {\n",
       "        vertical-align: middle;\n",
       "    }\n",
       "\n",
       "    .dataframe tbody tr th {\n",
       "        vertical-align: top;\n",
       "    }\n",
       "\n",
       "    .dataframe thead th {\n",
       "        text-align: right;\n",
       "    }\n",
       "</style>\n",
       "<table border=\"1\" class=\"dataframe\">\n",
       "  <thead>\n",
       "    <tr style=\"text-align: right;\">\n",
       "      <th></th>\n",
       "      <th>clusterId</th>\n",
       "      <th>Num.Rep.</th>\n",
       "      <th>SessionLength</th>\n",
       "      <th>Avg.Sess.</th>\n",
       "      <th>kWhDelivered</th>\n",
       "      <th>Avg.Cons.</th>\n",
       "      <th>siteId</th>\n",
       "      <th>temperature</th>\n",
       "      <th>Avg. Humidity</th>\n",
       "      <th>Avg Wind Speed(mph)</th>\n",
       "      <th>Wind Bearing(degrees)</th>\n",
       "      <th>Visibility(km)</th>\n",
       "      <th>Loud Cover</th>\n",
       "      <th>Pressure(millibar)</th>\n",
       "    </tr>\n",
       "  </thead>\n",
       "  <tbody>\n",
       "    <tr>\n",
       "      <th>clusterId</th>\n",
       "      <td>NaN</td>\n",
       "      <td>NaN</td>\n",
       "      <td>NaN</td>\n",
       "      <td>NaN</td>\n",
       "      <td>NaN</td>\n",
       "      <td>NaN</td>\n",
       "      <td>NaN</td>\n",
       "      <td>NaN</td>\n",
       "      <td>NaN</td>\n",
       "      <td>NaN</td>\n",
       "      <td>NaN</td>\n",
       "      <td>NaN</td>\n",
       "      <td>NaN</td>\n",
       "      <td>NaN</td>\n",
       "    </tr>\n",
       "    <tr>\n",
       "      <th>Num.Rep.</th>\n",
       "      <td>NaN</td>\n",
       "      <td>1.000000</td>\n",
       "      <td>-0.071010</td>\n",
       "      <td>-0.107489</td>\n",
       "      <td>-0.130661</td>\n",
       "      <td>-0.040154</td>\n",
       "      <td>NaN</td>\n",
       "      <td>-0.005883</td>\n",
       "      <td>0.000890</td>\n",
       "      <td>0.082359</td>\n",
       "      <td>-0.102735</td>\n",
       "      <td>-0.177679</td>\n",
       "      <td>NaN</td>\n",
       "      <td>-0.118644</td>\n",
       "    </tr>\n",
       "    <tr>\n",
       "      <th>SessionLength</th>\n",
       "      <td>NaN</td>\n",
       "      <td>-0.071010</td>\n",
       "      <td>1.000000</td>\n",
       "      <td>0.380336</td>\n",
       "      <td>0.349359</td>\n",
       "      <td>0.288598</td>\n",
       "      <td>NaN</td>\n",
       "      <td>-0.315319</td>\n",
       "      <td>-0.303165</td>\n",
       "      <td>-0.081812</td>\n",
       "      <td>0.114141</td>\n",
       "      <td>0.003940</td>\n",
       "      <td>NaN</td>\n",
       "      <td>0.259002</td>\n",
       "    </tr>\n",
       "    <tr>\n",
       "      <th>Avg.Sess.</th>\n",
       "      <td>NaN</td>\n",
       "      <td>-0.107489</td>\n",
       "      <td>0.380336</td>\n",
       "      <td>1.000000</td>\n",
       "      <td>0.227223</td>\n",
       "      <td>0.773066</td>\n",
       "      <td>NaN</td>\n",
       "      <td>-0.835803</td>\n",
       "      <td>-0.863568</td>\n",
       "      <td>-0.266609</td>\n",
       "      <td>0.276224</td>\n",
       "      <td>-0.143602</td>\n",
       "      <td>NaN</td>\n",
       "      <td>0.485590</td>\n",
       "    </tr>\n",
       "    <tr>\n",
       "      <th>kWhDelivered</th>\n",
       "      <td>NaN</td>\n",
       "      <td>-0.130661</td>\n",
       "      <td>0.349359</td>\n",
       "      <td>0.227223</td>\n",
       "      <td>1.000000</td>\n",
       "      <td>0.231452</td>\n",
       "      <td>NaN</td>\n",
       "      <td>-0.262378</td>\n",
       "      <td>-0.233600</td>\n",
       "      <td>-0.025725</td>\n",
       "      <td>-0.099936</td>\n",
       "      <td>0.078063</td>\n",
       "      <td>NaN</td>\n",
       "      <td>0.249317</td>\n",
       "    </tr>\n",
       "    <tr>\n",
       "      <th>Avg.Cons.</th>\n",
       "      <td>NaN</td>\n",
       "      <td>-0.040154</td>\n",
       "      <td>0.288598</td>\n",
       "      <td>0.773066</td>\n",
       "      <td>0.231452</td>\n",
       "      <td>1.000000</td>\n",
       "      <td>NaN</td>\n",
       "      <td>-0.698765</td>\n",
       "      <td>-0.849067</td>\n",
       "      <td>-0.548857</td>\n",
       "      <td>0.087399</td>\n",
       "      <td>-0.116635</td>\n",
       "      <td>NaN</td>\n",
       "      <td>0.415482</td>\n",
       "    </tr>\n",
       "    <tr>\n",
       "      <th>siteId</th>\n",
       "      <td>NaN</td>\n",
       "      <td>NaN</td>\n",
       "      <td>NaN</td>\n",
       "      <td>NaN</td>\n",
       "      <td>NaN</td>\n",
       "      <td>NaN</td>\n",
       "      <td>NaN</td>\n",
       "      <td>NaN</td>\n",
       "      <td>NaN</td>\n",
       "      <td>NaN</td>\n",
       "      <td>NaN</td>\n",
       "      <td>NaN</td>\n",
       "      <td>NaN</td>\n",
       "      <td>NaN</td>\n",
       "    </tr>\n",
       "    <tr>\n",
       "      <th>temperature</th>\n",
       "      <td>NaN</td>\n",
       "      <td>-0.005883</td>\n",
       "      <td>-0.315319</td>\n",
       "      <td>-0.835803</td>\n",
       "      <td>-0.262378</td>\n",
       "      <td>-0.698765</td>\n",
       "      <td>NaN</td>\n",
       "      <td>1.000000</td>\n",
       "      <td>0.850414</td>\n",
       "      <td>0.100510</td>\n",
       "      <td>-0.046195</td>\n",
       "      <td>0.259534</td>\n",
       "      <td>NaN</td>\n",
       "      <td>-0.574374</td>\n",
       "    </tr>\n",
       "    <tr>\n",
       "      <th>Avg. Humidity</th>\n",
       "      <td>NaN</td>\n",
       "      <td>0.000890</td>\n",
       "      <td>-0.303165</td>\n",
       "      <td>-0.863568</td>\n",
       "      <td>-0.233600</td>\n",
       "      <td>-0.849067</td>\n",
       "      <td>NaN</td>\n",
       "      <td>0.850414</td>\n",
       "      <td>1.000000</td>\n",
       "      <td>0.396623</td>\n",
       "      <td>-0.181635</td>\n",
       "      <td>0.109862</td>\n",
       "      <td>NaN</td>\n",
       "      <td>-0.507359</td>\n",
       "    </tr>\n",
       "    <tr>\n",
       "      <th>Avg Wind Speed(mph)</th>\n",
       "      <td>NaN</td>\n",
       "      <td>0.082359</td>\n",
       "      <td>-0.081812</td>\n",
       "      <td>-0.266609</td>\n",
       "      <td>-0.025725</td>\n",
       "      <td>-0.548857</td>\n",
       "      <td>NaN</td>\n",
       "      <td>0.100510</td>\n",
       "      <td>0.396623</td>\n",
       "      <td>1.000000</td>\n",
       "      <td>-0.256970</td>\n",
       "      <td>-0.121604</td>\n",
       "      <td>NaN</td>\n",
       "      <td>-0.133499</td>\n",
       "    </tr>\n",
       "    <tr>\n",
       "      <th>Wind Bearing(degrees)</th>\n",
       "      <td>NaN</td>\n",
       "      <td>-0.102735</td>\n",
       "      <td>0.114141</td>\n",
       "      <td>0.276224</td>\n",
       "      <td>-0.099936</td>\n",
       "      <td>0.087399</td>\n",
       "      <td>NaN</td>\n",
       "      <td>-0.046195</td>\n",
       "      <td>-0.181635</td>\n",
       "      <td>-0.256970</td>\n",
       "      <td>1.000000</td>\n",
       "      <td>-0.049020</td>\n",
       "      <td>NaN</td>\n",
       "      <td>-0.112676</td>\n",
       "    </tr>\n",
       "    <tr>\n",
       "      <th>Visibility(km)</th>\n",
       "      <td>NaN</td>\n",
       "      <td>-0.177679</td>\n",
       "      <td>0.003940</td>\n",
       "      <td>-0.143602</td>\n",
       "      <td>0.078063</td>\n",
       "      <td>-0.116635</td>\n",
       "      <td>NaN</td>\n",
       "      <td>0.259534</td>\n",
       "      <td>0.109862</td>\n",
       "      <td>-0.121604</td>\n",
       "      <td>-0.049020</td>\n",
       "      <td>1.000000</td>\n",
       "      <td>NaN</td>\n",
       "      <td>0.210063</td>\n",
       "    </tr>\n",
       "    <tr>\n",
       "      <th>Loud Cover</th>\n",
       "      <td>NaN</td>\n",
       "      <td>NaN</td>\n",
       "      <td>NaN</td>\n",
       "      <td>NaN</td>\n",
       "      <td>NaN</td>\n",
       "      <td>NaN</td>\n",
       "      <td>NaN</td>\n",
       "      <td>NaN</td>\n",
       "      <td>NaN</td>\n",
       "      <td>NaN</td>\n",
       "      <td>NaN</td>\n",
       "      <td>NaN</td>\n",
       "      <td>NaN</td>\n",
       "      <td>NaN</td>\n",
       "    </tr>\n",
       "    <tr>\n",
       "      <th>Pressure(millibar)</th>\n",
       "      <td>NaN</td>\n",
       "      <td>-0.118644</td>\n",
       "      <td>0.259002</td>\n",
       "      <td>0.485590</td>\n",
       "      <td>0.249317</td>\n",
       "      <td>0.415482</td>\n",
       "      <td>NaN</td>\n",
       "      <td>-0.574374</td>\n",
       "      <td>-0.507359</td>\n",
       "      <td>-0.133499</td>\n",
       "      <td>-0.112676</td>\n",
       "      <td>0.210063</td>\n",
       "      <td>NaN</td>\n",
       "      <td>1.000000</td>\n",
       "    </tr>\n",
       "  </tbody>\n",
       "</table>\n",
       "</div>"
      ],
      "text/plain": [
       "                       clusterId  Num.Rep.  SessionLength  Avg.Sess.  \\\n",
       "clusterId                    NaN       NaN            NaN        NaN   \n",
       "Num.Rep.                     NaN  1.000000      -0.071010  -0.107489   \n",
       "SessionLength                NaN -0.071010       1.000000   0.380336   \n",
       "Avg.Sess.                    NaN -0.107489       0.380336   1.000000   \n",
       "kWhDelivered                 NaN -0.130661       0.349359   0.227223   \n",
       "Avg.Cons.                    NaN -0.040154       0.288598   0.773066   \n",
       "siteId                       NaN       NaN            NaN        NaN   \n",
       "temperature                  NaN -0.005883      -0.315319  -0.835803   \n",
       "Avg. Humidity                NaN  0.000890      -0.303165  -0.863568   \n",
       "Avg Wind Speed(mph)          NaN  0.082359      -0.081812  -0.266609   \n",
       "Wind Bearing(degrees)        NaN -0.102735       0.114141   0.276224   \n",
       "Visibility(km)               NaN -0.177679       0.003940  -0.143602   \n",
       "Loud Cover                   NaN       NaN            NaN        NaN   \n",
       "Pressure(millibar)           NaN -0.118644       0.259002   0.485590   \n",
       "\n",
       "                       kWhDelivered  Avg.Cons.  siteId  temperature  \\\n",
       "clusterId                       NaN        NaN     NaN          NaN   \n",
       "Num.Rep.                  -0.130661  -0.040154     NaN    -0.005883   \n",
       "SessionLength              0.349359   0.288598     NaN    -0.315319   \n",
       "Avg.Sess.                  0.227223   0.773066     NaN    -0.835803   \n",
       "kWhDelivered               1.000000   0.231452     NaN    -0.262378   \n",
       "Avg.Cons.                  0.231452   1.000000     NaN    -0.698765   \n",
       "siteId                          NaN        NaN     NaN          NaN   \n",
       "temperature               -0.262378  -0.698765     NaN     1.000000   \n",
       "Avg. Humidity             -0.233600  -0.849067     NaN     0.850414   \n",
       "Avg Wind Speed(mph)       -0.025725  -0.548857     NaN     0.100510   \n",
       "Wind Bearing(degrees)     -0.099936   0.087399     NaN    -0.046195   \n",
       "Visibility(km)             0.078063  -0.116635     NaN     0.259534   \n",
       "Loud Cover                      NaN        NaN     NaN          NaN   \n",
       "Pressure(millibar)         0.249317   0.415482     NaN    -0.574374   \n",
       "\n",
       "                       Avg. Humidity  Avg Wind Speed(mph)  \\\n",
       "clusterId                        NaN                  NaN   \n",
       "Num.Rep.                    0.000890             0.082359   \n",
       "SessionLength              -0.303165            -0.081812   \n",
       "Avg.Sess.                  -0.863568            -0.266609   \n",
       "kWhDelivered               -0.233600            -0.025725   \n",
       "Avg.Cons.                  -0.849067            -0.548857   \n",
       "siteId                           NaN                  NaN   \n",
       "temperature                 0.850414             0.100510   \n",
       "Avg. Humidity               1.000000             0.396623   \n",
       "Avg Wind Speed(mph)         0.396623             1.000000   \n",
       "Wind Bearing(degrees)      -0.181635            -0.256970   \n",
       "Visibility(km)              0.109862            -0.121604   \n",
       "Loud Cover                       NaN                  NaN   \n",
       "Pressure(millibar)         -0.507359            -0.133499   \n",
       "\n",
       "                       Wind Bearing(degrees)  Visibility(km)  Loud Cover  \\\n",
       "clusterId                                NaN             NaN         NaN   \n",
       "Num.Rep.                           -0.102735       -0.177679         NaN   \n",
       "SessionLength                       0.114141        0.003940         NaN   \n",
       "Avg.Sess.                           0.276224       -0.143602         NaN   \n",
       "kWhDelivered                       -0.099936        0.078063         NaN   \n",
       "Avg.Cons.                           0.087399       -0.116635         NaN   \n",
       "siteId                                   NaN             NaN         NaN   \n",
       "temperature                        -0.046195        0.259534         NaN   \n",
       "Avg. Humidity                      -0.181635        0.109862         NaN   \n",
       "Avg Wind Speed(mph)                -0.256970       -0.121604         NaN   \n",
       "Wind Bearing(degrees)               1.000000       -0.049020         NaN   \n",
       "Visibility(km)                     -0.049020        1.000000         NaN   \n",
       "Loud Cover                               NaN             NaN         NaN   \n",
       "Pressure(millibar)                 -0.112676        0.210063         NaN   \n",
       "\n",
       "                       Pressure(millibar)  \n",
       "clusterId                             NaN  \n",
       "Num.Rep.                        -0.118644  \n",
       "SessionLength                    0.259002  \n",
       "Avg.Sess.                        0.485590  \n",
       "kWhDelivered                     0.249317  \n",
       "Avg.Cons.                        0.415482  \n",
       "siteId                                NaN  \n",
       "temperature                     -0.574374  \n",
       "Avg. Humidity                   -0.507359  \n",
       "Avg Wind Speed(mph)             -0.133499  \n",
       "Wind Bearing(degrees)           -0.112676  \n",
       "Visibility(km)                   0.210063  \n",
       "Loud Cover                            NaN  \n",
       "Pressure(millibar)               1.000000  "
      ]
     },
     "execution_count": 14,
     "metadata": {},
     "output_type": "execute_result"
    }
   ],
   "source": [
    "#How is the correlation between columns\n",
    "ev.corr()"
   ]
  },
  {
   "cell_type": "code",
   "execution_count": 15,
   "id": "6b01c8c2",
   "metadata": {},
   "outputs": [
    {
     "name": "stderr",
     "output_type": "stream",
     "text": [
      "C:\\Users\\Himani\\AppData\\Local\\Temp\\ipykernel_19028\\1113734809.py:1: FutureWarning: The default value of numeric_only in DataFrame.corr is deprecated. In a future version, it will default to False. Select only valid columns or specify the value of numeric_only to silence this warning.\n",
      "  correlation = ev.corr()\n"
     ]
    }
   ],
   "source": [
    "correlation = ev.corr()"
   ]
  },
  {
   "cell_type": "code",
   "execution_count": 16,
   "id": "d278b4b2",
   "metadata": {},
   "outputs": [
    {
     "data": {
      "text/plain": [
       "<Axes: >"
      ]
     },
     "execution_count": 16,
     "metadata": {},
     "output_type": "execute_result"
    },
    {
     "data": {
      "image/png": "[encoded data removed]",
      "text/plain": [
       "<Figure size 800x800 with 2 Axes>"
      ]
     },
     "metadata": {},
     "output_type": "display_data"
    }
   ],
   "source": [
    "# constructing a heatmap to understand the correlatiom\n",
    "plt.figure(figsize = (8,8))\n",
    "sns.heatmap(correlation, cbar=True, square=True, fmt='.1f',annot=True, annot_kws={'size':8}, cmap='Blues')"
   ]
  },
  {
   "cell_type": "code",
   "execution_count": 17,
   "id": "ca2210f1",
   "metadata": {},
   "outputs": [
    {
     "name": "stdout",
     "output_type": "stream",
     "text": [
      "clusterId                     NaN\n",
      "Num.Rep.                -0.071010\n",
      "SessionLength            1.000000\n",
      "Avg.Sess.                0.380336\n",
      "kWhDelivered             0.349359\n",
      "Avg.Cons.                0.288598\n",
      "siteId                        NaN\n",
      "temperature             -0.315319\n",
      "Avg. Humidity           -0.303165\n",
      "Avg Wind Speed(mph)     -0.081812\n",
      "Wind Bearing(degrees)    0.114141\n",
      "Visibility(km)           0.003940\n",
      "Loud Cover                    NaN\n",
      "Pressure(millibar)       0.259002\n",
      "Name: SessionLength, dtype: float64\n"
     ]
    }
   ],
   "source": [
    "print(correlation['SessionLength'])"
   ]
  },
  {
   "cell_type": "code",
   "execution_count": 18,
   "id": "a9c4a136",
   "metadata": {},
   "outputs": [
    {
     "name": "stderr",
     "output_type": "stream",
     "text": [
      "C:\\Users\\Himani\\AppData\\Local\\Temp\\ipykernel_19028\\3026985986.py:1: UserWarning: \n",
      "\n",
      "`distplot` is a deprecated function and will be removed in seaborn v0.14.0.\n",
      "\n",
      "Please adapt your code to use either `displot` (a figure-level function with\n",
      "similar flexibility) or `histplot` (an axes-level function for histograms).\n",
      "\n",
      "For a guide to updating your code to use the new functions, please see\n",
      "https://gist.github.com/mwaskom/de44147ed2974457ad6372750bbe5751\n",
      "\n",
      "  sns.distplot(ev['SessionLength'],color='green')\n"
     ]
    },
    {
     "data": {
      "text/plain": [
       "<Axes: xlabel='SessionLength', ylabel='Density'>"
      ]
     },
     "execution_count": 18,
     "metadata": {},
     "output_type": "execute_result"
    },
    {
     "data": {
      "image/png": "[encoded data removed]",
      "text/plain": [
       "<Figure size 640x480 with 1 Axes>"
      ]
     },
     "metadata": {},
     "output_type": "display_data"
    }
   ],
   "source": [
    "sns.distplot(ev['SessionLength'],color='green')"
   ]
  },
  {
   "cell_type": "code",
   "execution_count": 19,
   "id": "da2e1a18",
   "metadata": {},
   "outputs": [
    {
     "name": "stdout",
     "output_type": "stream",
     "text": [
      "clusterId                     NaN\n",
      "Num.Rep.                -0.130661\n",
      "SessionLength            0.349359\n",
      "Avg.Sess.                0.227223\n",
      "kWhDelivered             1.000000\n",
      "Avg.Cons.                0.231452\n",
      "siteId                        NaN\n",
      "temperature             -0.262378\n",
      "Avg. Humidity           -0.233600\n",
      "Avg Wind Speed(mph)     -0.025725\n",
      "Wind Bearing(degrees)   -0.099936\n",
      "Visibility(km)           0.078063\n",
      "Loud Cover                    NaN\n",
      "Pressure(millibar)       0.249317\n",
      "Name: kWhDelivered, dtype: float64\n"
     ]
    }
   ],
   "source": [
    "print(correlation['kWhDelivered'])"
   ]
  },
  {
   "cell_type": "code",
   "execution_count": 20,
   "id": "b22c38a2",
   "metadata": {},
   "outputs": [],
   "source": [
    "ev.drop(['id','clusterId','connectionTime','sessionId','spaceID','stationID','disconnectTime','siteId','donechargingTime','timezone','Precip Type','Loud Cover'],axis=1,inplace=True)"
   ]
  },
  {
   "cell_type": "code",
   "execution_count": 21,
   "id": "38698961",
   "metadata": {},
   "outputs": [
    {
     "data": {
      "text/plain": [
       "<Axes: >"
      ]
     },
     "execution_count": 21,
     "metadata": {},
     "output_type": "execute_result"
    },
    {
     "data": {
      "image/png": "[encoded data removed]",
      "text/plain": [
       "<Figure size 640x480 with 1 Axes>"
      ]
     },
     "metadata": {},
     "output_type": "display_data"
    }
   ],
   "source": [
    "#Boxplot\n",
    "sns.boxplot(ev['SessionLength'])"
   ]
  },
  {
   "cell_type": "code",
   "execution_count": 22,
   "id": "c89908e9",
   "metadata": {},
   "outputs": [
    {
     "name": "stderr",
     "output_type": "stream",
     "text": [
      "C:\\Users\\Himani\\AppData\\Local\\Programs\\Python\\Python311\\Lib\\site-packages\\sklearn\\base.py:439: UserWarning: X does not have valid feature names, but IsolationForest was fitted with feature names\n",
      "  warnings.warn(\n"
     ]
    },
    {
     "data": {
      "text/html": [
       "<style>#sk-container-id-1 {color: black;background-color: white;}#sk-container-id-1 pre{padding: 0;}#sk-container-id-1 div.sk-toggleable {background-color: white;}#sk-container-id-1 label.sk-toggleable__label {cursor: pointer;display: block;width: 100%;margin-bottom: 0;padding: 0.3em;box-sizing: border-box;text-align: center;}#sk-container-id-1 label.sk-toggleable__label-arrow:before {content: \"▸\";float: left;margin-right: 0.25em;color: #696969;}#sk-container-id-1 label.sk-toggleable__label-arrow:hover:before {color: black;}#sk-container-id-1 div.sk-estimator:hover label.sk-toggleable__label-arrow:before {color: black;}#sk-container-id-1 div.sk-toggleable__content {max-height: 0;max-width: 0;overflow: hidden;text-align: left;background-color: #f0f8ff;}#sk-container-id-1 div.sk-toggleable__content pre {margin: 0.2em;color: black;border-radius: 0.25em;background-color: #f0f8ff;}#sk-container-id-1 input.sk-toggleable__control:checked~div.sk-toggleable__content {max-height: 200px;max-width: 100%;overflow: auto;}#sk-container-id-1 input.sk-toggleable__control:checked~label.sk-toggleable__label-arrow:before {content: \"▾\";}#sk-container-id-1 div.sk-estimator input.sk-toggleable__control:checked~label.sk-toggleable__label {background-color: #d4ebff;}#sk-container-id-1 div.sk-label input.sk-toggleable__control:checked~label.sk-toggleable__label {background-color: #d4ebff;}#sk-container-id-1 input.sk-hidden--visually {border: 0;clip: rect(1px 1px 1px 1px);clip: rect(1px, 1px, 1px, 1px);height: 1px;margin: -1px;overflow: hidden;padding: 0;position: absolute;width: 1px;}#sk-container-id-1 div.sk-estimator {font-family: monospace;background-color: #f0f8ff;border: 1px dotted black;border-radius: 0.25em;box-sizing: border-box;margin-bottom: 0.5em;}#sk-container-id-1 div.sk-estimator:hover {background-color: #d4ebff;}#sk-container-id-1 div.sk-parallel-item::after {content: \"\";width: 100%;border-bottom: 1px solid gray;flex-grow: 1;}#sk-container-id-1 div.sk-label:hover label.sk-toggleable__label {background-color: #d4ebff;}#sk-container-id-1 div.sk-serial::before {content: \"\";position: absolute;border-left: 1px solid gray;box-sizing: border-box;top: 0;bottom: 0;left: 50%;z-index: 0;}#sk-container-id-1 div.sk-serial {display: flex;flex-direction: column;align-items: center;background-color: white;padding-right: 0.2em;padding-left: 0.2em;position: relative;}#sk-container-id-1 div.sk-item {position: relative;z-index: 1;}#sk-container-id-1 div.sk-parallel {display: flex;align-items: stretch;justify-content: center;background-color: white;position: relative;}#sk-container-id-1 div.sk-item::before, #sk-container-id-1 div.sk-parallel-item::before {content: \"\";position: absolute;border-left: 1px solid gray;box-sizing: border-box;top: 0;bottom: 0;left: 50%;z-index: -1;}#sk-container-id-1 div.sk-parallel-item {display: flex;flex-direction: column;z-index: 1;position: relative;background-color: white;}#sk-container-id-1 div.sk-parallel-item:first-child::after {align-self: flex-end;width: 50%;}#sk-container-id-1 div.sk-parallel-item:last-child::after {align-self: flex-start;width: 50%;}#sk-container-id-1 div.sk-parallel-item:only-child::after {width: 0;}#sk-container-id-1 div.sk-dashed-wrapped {border: 1px dashed gray;margin: 0 0.4em 0.5em 0.4em;box-sizing: border-box;padding-bottom: 0.4em;background-color: white;}#sk-container-id-1 div.sk-label label {font-family: monospace;font-weight: bold;display: inline-block;line-height: 1.2em;}#sk-container-id-1 div.sk-label-container {text-align: center;}#sk-container-id-1 div.sk-container {/* jupyter's `normalize.less` sets `[hidden] { display: none; }` but bootstrap.min.css set `[hidden] { display: none !important; }` so we also need the `!important` here to be able to override the default hidden behavior on the sphinx rendered scikit-learn.org. See: https://github.com/scikit-learn/scikit-learn/issues/21755 */display: inline-block !important;position: relative;}#sk-container-id-1 div.sk-text-repr-fallback {display: none;}</style><div id=\"sk-container-id-1\" class=\"sk-top-container\"><div class=\"sk-text-repr-fallback\"><pre>IsolationForest(contamination=0.04)</pre><b>In a Jupyter environment, please rerun this cell to show the HTML representation or trust the notebook. <br />On GitHub, the HTML representation is unable to render, please try loading this page with nbviewer.org.</b></div><div class=\"sk-container\" hidden><div class=\"sk-item\"><div class=\"sk-estimator sk-toggleable\"><input class=\"sk-toggleable__control sk-hidden--visually\" id=\"sk-estimator-id-1\" type=\"checkbox\" checked><label for=\"sk-estimator-id-1\" class=\"sk-toggleable__label sk-toggleable__label-arrow\">IsolationForest</label><div class=\"sk-toggleable__content\"><pre>IsolationForest(contamination=0.04)</pre></div></div></div></div></div>"
      ],
      "text/plain": [
       "IsolationForest(contamination=0.04)"
      ]
     },
     "execution_count": 22,
     "metadata": {},
     "output_type": "execute_result"
    }
   ],
   "source": [
    "model=IsolationForest(n_estimators=100,max_samples='auto',contamination=0.04,max_features=1.0)\n",
    "model.fit(ev[['SessionLength']])"
   ]
  },
  {
   "cell_type": "code",
   "execution_count": 23,
   "id": "a41c25cc",
   "metadata": {},
   "outputs": [
    {
     "data": {
      "text/html": [
       "<div>\n",
       "<style scoped>\n",
       "    .dataframe tbody tr th:only-of-type {\n",
       "        vertical-align: middle;\n",
       "    }\n",
       "\n",
       "    .dataframe tbody tr th {\n",
       "        vertical-align: top;\n",
       "    }\n",
       "\n",
       "    .dataframe thead th {\n",
       "        text-align: right;\n",
       "    }\n",
       "</style>\n",
       "<table border=\"1\" class=\"dataframe\">\n",
       "  <thead>\n",
       "    <tr style=\"text-align: right;\">\n",
       "      <th></th>\n",
       "      <th>Num.Rep.</th>\n",
       "      <th>SessionLength</th>\n",
       "      <th>Avg.Sess.</th>\n",
       "      <th>kWhDelivered</th>\n",
       "      <th>Avg.Cons.</th>\n",
       "      <th>temperature</th>\n",
       "      <th>Avg. Humidity</th>\n",
       "      <th>Avg Wind Speed(mph)</th>\n",
       "      <th>Wind Bearing(degrees)</th>\n",
       "      <th>Visibility(km)</th>\n",
       "      <th>Pressure(millibar)</th>\n",
       "      <th>newlength</th>\n",
       "      <th>anomaly</th>\n",
       "    </tr>\n",
       "  </thead>\n",
       "  <tbody>\n",
       "    <tr>\n",
       "      <th>0</th>\n",
       "      <td>11.13</td>\n",
       "      <td>2.20</td>\n",
       "      <td>3.55</td>\n",
       "      <td>7.93</td>\n",
       "      <td>6.44</td>\n",
       "      <td>24.37</td>\n",
       "      <td>34.85</td>\n",
       "      <td>13.54</td>\n",
       "      <td>300</td>\n",
       "      <td>9.9</td>\n",
       "      <td>1004.55</td>\n",
       "      <td>0.184363</td>\n",
       "      <td>1</td>\n",
       "    </tr>\n",
       "    <tr>\n",
       "      <th>1</th>\n",
       "      <td>13.75</td>\n",
       "      <td>11.19</td>\n",
       "      <td>3.55</td>\n",
       "      <td>10.01</td>\n",
       "      <td>6.44</td>\n",
       "      <td>24.37</td>\n",
       "      <td>34.85</td>\n",
       "      <td>13.54</td>\n",
       "      <td>300</td>\n",
       "      <td>9.9</td>\n",
       "      <td>1004.55</td>\n",
       "      <td>-0.084677</td>\n",
       "      <td>-1</td>\n",
       "    </tr>\n",
       "    <tr>\n",
       "      <th>2</th>\n",
       "      <td>13.76</td>\n",
       "      <td>10.33</td>\n",
       "      <td>3.54</td>\n",
       "      <td>5.26</td>\n",
       "      <td>6.44</td>\n",
       "      <td>24.37</td>\n",
       "      <td>34.85</td>\n",
       "      <td>13.54</td>\n",
       "      <td>300</td>\n",
       "      <td>9.9</td>\n",
       "      <td>1004.55</td>\n",
       "      <td>-0.037690</td>\n",
       "      <td>-1</td>\n",
       "    </tr>\n",
       "    <tr>\n",
       "      <th>3</th>\n",
       "      <td>14.62</td>\n",
       "      <td>9.31</td>\n",
       "      <td>3.55</td>\n",
       "      <td>5.18</td>\n",
       "      <td>6.44</td>\n",
       "      <td>24.37</td>\n",
       "      <td>34.85</td>\n",
       "      <td>13.54</td>\n",
       "      <td>300</td>\n",
       "      <td>9.9</td>\n",
       "      <td>1004.55</td>\n",
       "      <td>0.046229</td>\n",
       "      <td>1</td>\n",
       "    </tr>\n",
       "    <tr>\n",
       "      <th>4</th>\n",
       "      <td>14.68</td>\n",
       "      <td>8.38</td>\n",
       "      <td>3.55</td>\n",
       "      <td>10.12</td>\n",
       "      <td>6.44</td>\n",
       "      <td>24.37</td>\n",
       "      <td>34.85</td>\n",
       "      <td>13.54</td>\n",
       "      <td>300</td>\n",
       "      <td>9.9</td>\n",
       "      <td>1004.55</td>\n",
       "      <td>0.048180</td>\n",
       "      <td>1</td>\n",
       "    </tr>\n",
       "    <tr>\n",
       "      <th>5</th>\n",
       "      <td>14.73</td>\n",
       "      <td>10.56</td>\n",
       "      <td>3.54</td>\n",
       "      <td>7.91</td>\n",
       "      <td>6.44</td>\n",
       "      <td>24.37</td>\n",
       "      <td>34.85</td>\n",
       "      <td>13.54</td>\n",
       "      <td>300</td>\n",
       "      <td>9.9</td>\n",
       "      <td>1004.55</td>\n",
       "      <td>-0.048271</td>\n",
       "      <td>-1</td>\n",
       "    </tr>\n",
       "    <tr>\n",
       "      <th>6</th>\n",
       "      <td>14.80</td>\n",
       "      <td>3.67</td>\n",
       "      <td>3.54</td>\n",
       "      <td>15.29</td>\n",
       "      <td>6.44</td>\n",
       "      <td>24.37</td>\n",
       "      <td>34.85</td>\n",
       "      <td>13.54</td>\n",
       "      <td>300</td>\n",
       "      <td>9.9</td>\n",
       "      <td>1004.55</td>\n",
       "      <td>0.196420</td>\n",
       "      <td>1</td>\n",
       "    </tr>\n",
       "    <tr>\n",
       "      <th>7</th>\n",
       "      <td>14.97</td>\n",
       "      <td>4.13</td>\n",
       "      <td>3.53</td>\n",
       "      <td>6.95</td>\n",
       "      <td>6.43</td>\n",
       "      <td>24.37</td>\n",
       "      <td>34.85</td>\n",
       "      <td>13.54</td>\n",
       "      <td>300</td>\n",
       "      <td>9.9</td>\n",
       "      <td>1004.55</td>\n",
       "      <td>0.142801</td>\n",
       "      <td>1</td>\n",
       "    </tr>\n",
       "    <tr>\n",
       "      <th>8</th>\n",
       "      <td>15.18</td>\n",
       "      <td>3.08</td>\n",
       "      <td>3.53</td>\n",
       "      <td>2.17</td>\n",
       "      <td>6.43</td>\n",
       "      <td>24.37</td>\n",
       "      <td>34.85</td>\n",
       "      <td>13.54</td>\n",
       "      <td>300</td>\n",
       "      <td>9.9</td>\n",
       "      <td>1004.55</td>\n",
       "      <td>0.202769</td>\n",
       "      <td>1</td>\n",
       "    </tr>\n",
       "    <tr>\n",
       "      <th>9</th>\n",
       "      <td>15.20</td>\n",
       "      <td>3.29</td>\n",
       "      <td>3.52</td>\n",
       "      <td>2.44</td>\n",
       "      <td>6.43</td>\n",
       "      <td>24.37</td>\n",
       "      <td>34.85</td>\n",
       "      <td>13.54</td>\n",
       "      <td>300</td>\n",
       "      <td>9.9</td>\n",
       "      <td>1004.55</td>\n",
       "      <td>0.199626</td>\n",
       "      <td>1</td>\n",
       "    </tr>\n",
       "  </tbody>\n",
       "</table>\n",
       "</div>"
      ],
      "text/plain": [
       "   Num.Rep.  SessionLength  Avg.Sess.  kWhDelivered  Avg.Cons.  temperature  \\\n",
       "0     11.13           2.20       3.55          7.93       6.44        24.37   \n",
       "1     13.75          11.19       3.55         10.01       6.44        24.37   \n",
       "2     13.76          10.33       3.54          5.26       6.44        24.37   \n",
       "3     14.62           9.31       3.55          5.18       6.44        24.37   \n",
       "4     14.68           8.38       3.55         10.12       6.44        24.37   \n",
       "5     14.73          10.56       3.54          7.91       6.44        24.37   \n",
       "6     14.80           3.67       3.54         15.29       6.44        24.37   \n",
       "7     14.97           4.13       3.53          6.95       6.43        24.37   \n",
       "8     15.18           3.08       3.53          2.17       6.43        24.37   \n",
       "9     15.20           3.29       3.52          2.44       6.43        24.37   \n",
       "\n",
       "   Avg. Humidity  Avg Wind Speed(mph)  Wind Bearing(degrees)  Visibility(km)  \\\n",
       "0          34.85                13.54                    300             9.9   \n",
       "1          34.85                13.54                    300             9.9   \n",
       "2          34.85                13.54                    300             9.9   \n",
       "3          34.85                13.54                    300             9.9   \n",
       "4          34.85                13.54                    300             9.9   \n",
       "5          34.85                13.54                    300             9.9   \n",
       "6          34.85                13.54                    300             9.9   \n",
       "7          34.85                13.54                    300             9.9   \n",
       "8          34.85                13.54                    300             9.9   \n",
       "9          34.85                13.54                    300             9.9   \n",
       "\n",
       "   Pressure(millibar)  newlength  anomaly  \n",
       "0             1004.55   0.184363        1  \n",
       "1             1004.55  -0.084677       -1  \n",
       "2             1004.55  -0.037690       -1  \n",
       "3             1004.55   0.046229        1  \n",
       "4             1004.55   0.048180        1  \n",
       "5             1004.55  -0.048271       -1  \n",
       "6             1004.55   0.196420        1  \n",
       "7             1004.55   0.142801        1  \n",
       "8             1004.55   0.202769        1  \n",
       "9             1004.55   0.199626        1  "
      ]
     },
     "execution_count": 23,
     "metadata": {},
     "output_type": "execute_result"
    }
   ],
   "source": [
    "ev['newlength']=model.decision_function(ev[['SessionLength']])\n",
    "ev['anomaly']=model.predict(ev[['SessionLength']])\n",
    "ev.head(10)"
   ]
  },
  {
   "cell_type": "code",
   "execution_count": 24,
   "id": "8ccf046c",
   "metadata": {},
   "outputs": [
    {
     "data": {
      "text/plain": [
       "48"
      ]
     },
     "execution_count": 24,
     "metadata": {},
     "output_type": "execute_result"
    }
   ],
   "source": [
    "outliers_counter = len(ev[ev['anomaly'] ==-1])\n",
    "outliers_counter "
   ]
  },
  {
   "cell_type": "code",
   "execution_count": 251,
   "id": "26f73d90",
   "metadata": {},
   "outputs": [],
   "source": [
    "ev_data = ev[(ev['SessionLength'] <=13)]"
   ]
  },
  {
   "cell_type": "code",
   "execution_count": 252,
   "id": "36c2b242",
   "metadata": {},
   "outputs": [
    {
     "data": {
      "text/html": [
       "<div>\n",
       "<style scoped>\n",
       "    .dataframe tbody tr th:only-of-type {\n",
       "        vertical-align: middle;\n",
       "    }\n",
       "\n",
       "    .dataframe tbody tr th {\n",
       "        vertical-align: top;\n",
       "    }\n",
       "\n",
       "    .dataframe thead th {\n",
       "        text-align: right;\n",
       "    }\n",
       "</style>\n",
       "<table border=\"1\" class=\"dataframe\">\n",
       "  <thead>\n",
       "    <tr style=\"text-align: right;\">\n",
       "      <th></th>\n",
       "      <th>Num.Rep.</th>\n",
       "      <th>SessionLength</th>\n",
       "      <th>Avg.Sess.</th>\n",
       "      <th>kWhDelivered</th>\n",
       "      <th>Avg.Cons.</th>\n",
       "      <th>temperature</th>\n",
       "      <th>Avg. Humidity</th>\n",
       "      <th>Avg Wind Speed(mph)</th>\n",
       "      <th>Wind Bearing(degrees)</th>\n",
       "      <th>Visibility(km)</th>\n",
       "      <th>Pressure(millibar)</th>\n",
       "      <th>newlength</th>\n",
       "      <th>anomaly</th>\n",
       "    </tr>\n",
       "  </thead>\n",
       "  <tbody>\n",
       "    <tr>\n",
       "      <th>0</th>\n",
       "      <td>11.13</td>\n",
       "      <td>2.20</td>\n",
       "      <td>3.55</td>\n",
       "      <td>7.93</td>\n",
       "      <td>6.44</td>\n",
       "      <td>24.37</td>\n",
       "      <td>34.85</td>\n",
       "      <td>13.54</td>\n",
       "      <td>300</td>\n",
       "      <td>9.9</td>\n",
       "      <td>1004.55</td>\n",
       "      <td>0.184363</td>\n",
       "      <td>1</td>\n",
       "    </tr>\n",
       "    <tr>\n",
       "      <th>1</th>\n",
       "      <td>13.75</td>\n",
       "      <td>11.19</td>\n",
       "      <td>3.55</td>\n",
       "      <td>10.01</td>\n",
       "      <td>6.44</td>\n",
       "      <td>24.37</td>\n",
       "      <td>34.85</td>\n",
       "      <td>13.54</td>\n",
       "      <td>300</td>\n",
       "      <td>9.9</td>\n",
       "      <td>1004.55</td>\n",
       "      <td>-0.084677</td>\n",
       "      <td>-1</td>\n",
       "    </tr>\n",
       "    <tr>\n",
       "      <th>2</th>\n",
       "      <td>13.76</td>\n",
       "      <td>10.33</td>\n",
       "      <td>3.54</td>\n",
       "      <td>5.26</td>\n",
       "      <td>6.44</td>\n",
       "      <td>24.37</td>\n",
       "      <td>34.85</td>\n",
       "      <td>13.54</td>\n",
       "      <td>300</td>\n",
       "      <td>9.9</td>\n",
       "      <td>1004.55</td>\n",
       "      <td>-0.037690</td>\n",
       "      <td>-1</td>\n",
       "    </tr>\n",
       "    <tr>\n",
       "      <th>3</th>\n",
       "      <td>14.62</td>\n",
       "      <td>9.31</td>\n",
       "      <td>3.55</td>\n",
       "      <td>5.18</td>\n",
       "      <td>6.44</td>\n",
       "      <td>24.37</td>\n",
       "      <td>34.85</td>\n",
       "      <td>13.54</td>\n",
       "      <td>300</td>\n",
       "      <td>9.9</td>\n",
       "      <td>1004.55</td>\n",
       "      <td>0.046229</td>\n",
       "      <td>1</td>\n",
       "    </tr>\n",
       "    <tr>\n",
       "      <th>4</th>\n",
       "      <td>14.68</td>\n",
       "      <td>8.38</td>\n",
       "      <td>3.55</td>\n",
       "      <td>10.12</td>\n",
       "      <td>6.44</td>\n",
       "      <td>24.37</td>\n",
       "      <td>34.85</td>\n",
       "      <td>13.54</td>\n",
       "      <td>300</td>\n",
       "      <td>9.9</td>\n",
       "      <td>1004.55</td>\n",
       "      <td>0.048180</td>\n",
       "      <td>1</td>\n",
       "    </tr>\n",
       "    <tr>\n",
       "      <th>...</th>\n",
       "      <td>...</td>\n",
       "      <td>...</td>\n",
       "      <td>...</td>\n",
       "      <td>...</td>\n",
       "      <td>...</td>\n",
       "      <td>...</td>\n",
       "      <td>...</td>\n",
       "      <td>...</td>\n",
       "      <td>...</td>\n",
       "      <td>...</td>\n",
       "      <td>...</td>\n",
       "      <td>...</td>\n",
       "      <td>...</td>\n",
       "    </tr>\n",
       "    <tr>\n",
       "      <th>1194</th>\n",
       "      <td>16.00</td>\n",
       "      <td>3.22</td>\n",
       "      <td>2.57</td>\n",
       "      <td>1.82</td>\n",
       "      <td>3.62</td>\n",
       "      <td>35.98</td>\n",
       "      <td>40.55</td>\n",
       "      <td>10.35</td>\n",
       "      <td>305</td>\n",
       "      <td>16.1</td>\n",
       "      <td>1005.18</td>\n",
       "      <td>0.201572</td>\n",
       "      <td>1</td>\n",
       "    </tr>\n",
       "    <tr>\n",
       "      <th>1195</th>\n",
       "      <td>19.00</td>\n",
       "      <td>1.51</td>\n",
       "      <td>2.41</td>\n",
       "      <td>4.73</td>\n",
       "      <td>4.07</td>\n",
       "      <td>35.98</td>\n",
       "      <td>40.55</td>\n",
       "      <td>10.35</td>\n",
       "      <td>305</td>\n",
       "      <td>16.1</td>\n",
       "      <td>1005.18</td>\n",
       "      <td>0.144807</td>\n",
       "      <td>1</td>\n",
       "    </tr>\n",
       "    <tr>\n",
       "      <th>1196</th>\n",
       "      <td>12.00</td>\n",
       "      <td>3.28</td>\n",
       "      <td>2.70</td>\n",
       "      <td>3.69</td>\n",
       "      <td>3.85</td>\n",
       "      <td>35.98</td>\n",
       "      <td>40.55</td>\n",
       "      <td>10.35</td>\n",
       "      <td>305</td>\n",
       "      <td>17.3</td>\n",
       "      <td>1005.18</td>\n",
       "      <td>0.201036</td>\n",
       "      <td>1</td>\n",
       "    </tr>\n",
       "    <tr>\n",
       "      <th>1197</th>\n",
       "      <td>13.00</td>\n",
       "      <td>1.89</td>\n",
       "      <td>2.42</td>\n",
       "      <td>3.82</td>\n",
       "      <td>3.93</td>\n",
       "      <td>35.98</td>\n",
       "      <td>40.55</td>\n",
       "      <td>10.35</td>\n",
       "      <td>305</td>\n",
       "      <td>17.3</td>\n",
       "      <td>1005.18</td>\n",
       "      <td>0.171840</td>\n",
       "      <td>1</td>\n",
       "    </tr>\n",
       "    <tr>\n",
       "      <th>1198</th>\n",
       "      <td>12.00</td>\n",
       "      <td>2.95</td>\n",
       "      <td>2.95</td>\n",
       "      <td>4.03</td>\n",
       "      <td>4.03</td>\n",
       "      <td>35.98</td>\n",
       "      <td>40.55</td>\n",
       "      <td>10.35</td>\n",
       "      <td>305</td>\n",
       "      <td>17.3</td>\n",
       "      <td>1005.18</td>\n",
       "      <td>0.189952</td>\n",
       "      <td>1</td>\n",
       "    </tr>\n",
       "  </tbody>\n",
       "</table>\n",
       "<p>1189 rows × 13 columns</p>\n",
       "</div>"
      ],
      "text/plain": [
       "      Num.Rep.  SessionLength  Avg.Sess.  kWhDelivered  Avg.Cons.  \\\n",
       "0        11.13           2.20       3.55          7.93       6.44   \n",
       "1        13.75          11.19       3.55         10.01       6.44   \n",
       "2        13.76          10.33       3.54          5.26       6.44   \n",
       "3        14.62           9.31       3.55          5.18       6.44   \n",
       "4        14.68           8.38       3.55         10.12       6.44   \n",
       "...        ...            ...        ...           ...        ...   \n",
       "1194     16.00           3.22       2.57          1.82       3.62   \n",
       "1195     19.00           1.51       2.41          4.73       4.07   \n",
       "1196     12.00           3.28       2.70          3.69       3.85   \n",
       "1197     13.00           1.89       2.42          3.82       3.93   \n",
       "1198     12.00           2.95       2.95          4.03       4.03   \n",
       "\n",
       "      temperature  Avg. Humidity  Avg Wind Speed(mph)  Wind Bearing(degrees)  \\\n",
       "0           24.37          34.85                13.54                    300   \n",
       "1           24.37          34.85                13.54                    300   \n",
       "2           24.37          34.85                13.54                    300   \n",
       "3           24.37          34.85                13.54                    300   \n",
       "4           24.37          34.85                13.54                    300   \n",
       "...           ...            ...                  ...                    ...   \n",
       "1194        35.98          40.55                10.35                    305   \n",
       "1195        35.98          40.55                10.35                    305   \n",
       "1196        35.98          40.55                10.35                    305   \n",
       "1197        35.98          40.55                10.35                    305   \n",
       "1198        35.98          40.55                10.35                    305   \n",
       "\n",
       "      Visibility(km)  Pressure(millibar)  newlength  anomaly  \n",
       "0                9.9             1004.55   0.184363        1  \n",
       "1                9.9             1004.55  -0.084677       -1  \n",
       "2                9.9             1004.55  -0.037690       -1  \n",
       "3                9.9             1004.55   0.046229        1  \n",
       "4                9.9             1004.55   0.048180        1  \n",
       "...              ...                 ...        ...      ...  \n",
       "1194            16.1             1005.18   0.201572        1  \n",
       "1195            16.1             1005.18   0.144807        1  \n",
       "1196            17.3             1005.18   0.201036        1  \n",
       "1197            17.3             1005.18   0.171840        1  \n",
       "1198            17.3             1005.18   0.189952        1  \n",
       "\n",
       "[1189 rows x 13 columns]"
      ]
     },
     "execution_count": 252,
     "metadata": {},
     "output_type": "execute_result"
    }
   ],
   "source": [
    "ev_data"
   ]
  },
  {
   "cell_type": "markdown",
   "id": "0a01c186",
   "metadata": {},
   "source": [
    "#Splitting the features and target"
   ]
  },
  {
   "cell_type": "code",
   "execution_count": 253,
   "id": "96ca630d",
   "metadata": {},
   "outputs": [],
   "source": [
    "X = ev_data.drop(['SessionLength','newlength','anomaly','kWhDelivered'],axis=1)\n",
    "Y = ev_data['SessionLength']"
   ]
  },
  {
   "cell_type": "code",
   "execution_count": 254,
   "id": "77584c8a",
   "metadata": {},
   "outputs": [],
   "source": [
    "scaler = StandardScaler()"
   ]
  },
  {
   "cell_type": "code",
   "execution_count": 255,
   "id": "f775230b",
   "metadata": {},
   "outputs": [
    {
     "data": {
      "text/html": [
       "<style>#sk-container-id-18 {color: black;background-color: white;}#sk-container-id-18 pre{padding: 0;}#sk-container-id-18 div.sk-toggleable {background-color: white;}#sk-container-id-18 label.sk-toggleable__label {cursor: pointer;display: block;width: 100%;margin-bottom: 0;padding: 0.3em;box-sizing: border-box;text-align: center;}#sk-container-id-18 label.sk-toggleable__label-arrow:before {content: \"▸\";float: left;margin-right: 0.25em;color: #696969;}#sk-container-id-18 label.sk-toggleable__label-arrow:hover:before {color: black;}#sk-container-id-18 div.sk-estimator:hover label.sk-toggleable__label-arrow:before {color: black;}#sk-container-id-18 div.sk-toggleable__content {max-height: 0;max-width: 0;overflow: hidden;text-align: left;background-color: #f0f8ff;}#sk-container-id-18 div.sk-toggleable__content pre {margin: 0.2em;color: black;border-radius: 0.25em;background-color: #f0f8ff;}#sk-container-id-18 input.sk-toggleable__control:checked~div.sk-toggleable__content {max-height: 200px;max-width: 100%;overflow: auto;}#sk-container-id-18 input.sk-toggleable__control:checked~label.sk-toggleable__label-arrow:before {content: \"▾\";}#sk-container-id-18 div.sk-estimator input.sk-toggleable__control:checked~label.sk-toggleable__label {background-color: #d4ebff;}#sk-container-id-18 div.sk-label input.sk-toggleable__control:checked~label.sk-toggleable__label {background-color: #d4ebff;}#sk-container-id-18 input.sk-hidden--visually {border: 0;clip: rect(1px 1px 1px 1px);clip: rect(1px, 1px, 1px, 1px);height: 1px;margin: -1px;overflow: hidden;padding: 0;position: absolute;width: 1px;}#sk-container-id-18 div.sk-estimator {font-family: monospace;background-color: #f0f8ff;border: 1px dotted black;border-radius: 0.25em;box-sizing: border-box;margin-bottom: 0.5em;}#sk-container-id-18 div.sk-estimator:hover {background-color: #d4ebff;}#sk-container-id-18 div.sk-parallel-item::after {content: \"\";width: 100%;border-bottom: 1px solid gray;flex-grow: 1;}#sk-container-id-18 div.sk-label:hover label.sk-toggleable__label {background-color: #d4ebff;}#sk-container-id-18 div.sk-serial::before {content: \"\";position: absolute;border-left: 1px solid gray;box-sizing: border-box;top: 0;bottom: 0;left: 50%;z-index: 0;}#sk-container-id-18 div.sk-serial {display: flex;flex-direction: column;align-items: center;background-color: white;padding-right: 0.2em;padding-left: 0.2em;position: relative;}#sk-container-id-18 div.sk-item {position: relative;z-index: 1;}#sk-container-id-18 div.sk-parallel {display: flex;align-items: stretch;justify-content: center;background-color: white;position: relative;}#sk-container-id-18 div.sk-item::before, #sk-container-id-18 div.sk-parallel-item::before {content: \"\";position: absolute;border-left: 1px solid gray;box-sizing: border-box;top: 0;bottom: 0;left: 50%;z-index: -1;}#sk-container-id-18 div.sk-parallel-item {display: flex;flex-direction: column;z-index: 1;position: relative;background-color: white;}#sk-container-id-18 div.sk-parallel-item:first-child::after {align-self: flex-end;width: 50%;}#sk-container-id-18 div.sk-parallel-item:last-child::after {align-self: flex-start;width: 50%;}#sk-container-id-18 div.sk-parallel-item:only-child::after {width: 0;}#sk-container-id-18 div.sk-dashed-wrapped {border: 1px dashed gray;margin: 0 0.4em 0.5em 0.4em;box-sizing: border-box;padding-bottom: 0.4em;background-color: white;}#sk-container-id-18 div.sk-label label {font-family: monospace;font-weight: bold;display: inline-block;line-height: 1.2em;}#sk-container-id-18 div.sk-label-container {text-align: center;}#sk-container-id-18 div.sk-container {/* jupyter's `normalize.less` sets `[hidden] { display: none; }` but bootstrap.min.css set `[hidden] { display: none !important; }` so we also need the `!important` here to be able to override the default hidden behavior on the sphinx rendered scikit-learn.org. See: https://github.com/scikit-learn/scikit-learn/issues/21755 */display: inline-block !important;position: relative;}#sk-container-id-18 div.sk-text-repr-fallback {display: none;}</style><div id=\"sk-container-id-18\" class=\"sk-top-container\"><div class=\"sk-text-repr-fallback\"><pre>StandardScaler()</pre><b>In a Jupyter environment, please rerun this cell to show the HTML representation or trust the notebook. <br />On GitHub, the HTML representation is unable to render, please try loading this page with nbviewer.org.</b></div><div class=\"sk-container\" hidden><div class=\"sk-item\"><div class=\"sk-estimator sk-toggleable\"><input class=\"sk-toggleable__control sk-hidden--visually\" id=\"sk-estimator-id-18\" type=\"checkbox\" checked><label for=\"sk-estimator-id-18\" class=\"sk-toggleable__label sk-toggleable__label-arrow\">StandardScaler</label><div class=\"sk-toggleable__content\"><pre>StandardScaler()</pre></div></div></div></div></div>"
      ],
      "text/plain": [
       "StandardScaler()"
      ]
     },
     "execution_count": 255,
     "metadata": {},
     "output_type": "execute_result"
    }
   ],
   "source": [
    "scaler.fit(X)"
   ]
  },
  {
   "cell_type": "code",
   "execution_count": 256,
   "id": "aa9348f2",
   "metadata": {},
   "outputs": [],
   "source": [
    "standardized_data = scaler.transform(X)"
   ]
  },
  {
   "cell_type": "code",
   "execution_count": 257,
   "id": "b44eed78",
   "metadata": {},
   "outputs": [
    {
     "name": "stdout",
     "output_type": "stream",
     "text": [
      "[[-0.96793856  2.94729991  1.6182259  ...  1.13773612 -2.2867285\n",
      "  -0.93636002]\n",
      " [-0.29749283  2.94729991  1.6182259  ...  1.13773612 -2.2867285\n",
      "  -0.93636002]\n",
      " [-0.29493388  2.90241678  1.6182259  ...  1.13773612 -2.2867285\n",
      "  -0.93636002]\n",
      " ...\n",
      " [-0.74530963 -0.86776554 -2.66068058 ...  1.18862383  1.17995541\n",
      "  -0.75208437]\n",
      " [-0.48941432 -2.12449298 -2.52851358 ...  1.18862383  1.17995541\n",
      "  -0.75208437]\n",
      " [-0.74530963  0.25431253 -2.36330484 ...  1.18862383  1.17995541\n",
      "  -0.75208437]]\n"
     ]
    }
   ],
   "source": [
    "print(standardized_data)"
   ]
  },
  {
   "cell_type": "code",
   "execution_count": 258,
   "id": "91878952",
   "metadata": {},
   "outputs": [],
   "source": [
    "X = standardized_data\n",
    "Y = ev_data['SessionLength']"
   ]
  },
  {
   "cell_type": "code",
   "execution_count": 259,
   "id": "49f07ed7",
   "metadata": {
    "scrolled": true
   },
   "outputs": [
    {
     "name": "stdout",
     "output_type": "stream",
     "text": [
      "[[-0.96793856  2.94729991  1.6182259  ...  1.13773612 -2.2867285\n",
      "  -0.93636002]\n",
      " [-0.29749283  2.94729991  1.6182259  ...  1.13773612 -2.2867285\n",
      "  -0.93636002]\n",
      " [-0.29493388  2.90241678  1.6182259  ...  1.13773612 -2.2867285\n",
      "  -0.93636002]\n",
      " ...\n",
      " [-0.74530963 -0.86776554 -2.66068058 ...  1.18862383  1.17995541\n",
      "  -0.75208437]\n",
      " [-0.48941432 -2.12449298 -2.52851358 ...  1.18862383  1.17995541\n",
      "  -0.75208437]\n",
      " [-0.74530963  0.25431253 -2.36330484 ...  1.18862383  1.17995541\n",
      "  -0.75208437]]\n"
     ]
    }
   ],
   "source": [
    "print(X)"
   ]
  },
  {
   "cell_type": "code",
   "execution_count": 260,
   "id": "d83d6b99",
   "metadata": {
    "scrolled": true
   },
   "outputs": [
    {
     "name": "stdout",
     "output_type": "stream",
     "text": [
      "0        2.20\n",
      "1       11.19\n",
      "2       10.33\n",
      "3        9.31\n",
      "4        8.38\n",
      "        ...  \n",
      "1194     3.22\n",
      "1195     1.51\n",
      "1196     3.28\n",
      "1197     1.89\n",
      "1198     2.95\n",
      "Name: SessionLength, Length: 1189, dtype: float64\n"
     ]
    }
   ],
   "source": [
    "print(Y)"
   ]
  },
  {
   "cell_type": "code",
   "execution_count": 261,
   "id": "2dc0e699",
   "metadata": {},
   "outputs": [],
   "source": [
    "X_train, X_test, Y_train, Y_test = train_test_split(X, Y, test_size = 0.2, random_state=2)"
   ]
  },
  {
   "cell_type": "code",
   "execution_count": 262,
   "id": "dc559a98",
   "metadata": {},
   "outputs": [],
   "source": [
    "regressor = RandomForestRegressor(n_estimators=100)"
   ]
  },
  {
   "cell_type": "code",
   "execution_count": 263,
   "id": "2f069ace",
   "metadata": {},
   "outputs": [
    {
     "data": {
      "text/html": [
       "<style>#sk-container-id-19 {color: black;background-color: white;}#sk-container-id-19 pre{padding: 0;}#sk-container-id-19 div.sk-toggleable {background-color: white;}#sk-container-id-19 label.sk-toggleable__label {cursor: pointer;display: block;width: 100%;margin-bottom: 0;padding: 0.3em;box-sizing: border-box;text-align: center;}#sk-container-id-19 label.sk-toggleable__label-arrow:before {content: \"▸\";float: left;margin-right: 0.25em;color: #696969;}#sk-container-id-19 label.sk-toggleable__label-arrow:hover:before {color: black;}#sk-container-id-19 div.sk-estimator:hover label.sk-toggleable__label-arrow:before {color: black;}#sk-container-id-19 div.sk-toggleable__content {max-height: 0;max-width: 0;overflow: hidden;text-align: left;background-color: #f0f8ff;}#sk-container-id-19 div.sk-toggleable__content pre {margin: 0.2em;color: black;border-radius: 0.25em;background-color: #f0f8ff;}#sk-container-id-19 input.sk-toggleable__control:checked~div.sk-toggleable__content {max-height: 200px;max-width: 100%;overflow: auto;}#sk-container-id-19 input.sk-toggleable__control:checked~label.sk-toggleable__label-arrow:before {content: \"▾\";}#sk-container-id-19 div.sk-estimator input.sk-toggleable__control:checked~label.sk-toggleable__label {background-color: #d4ebff;}#sk-container-id-19 div.sk-label input.sk-toggleable__control:checked~label.sk-toggleable__label {background-color: #d4ebff;}#sk-container-id-19 input.sk-hidden--visually {border: 0;clip: rect(1px 1px 1px 1px);clip: rect(1px, 1px, 1px, 1px);height: 1px;margin: -1px;overflow: hidden;padding: 0;position: absolute;width: 1px;}#sk-container-id-19 div.sk-estimator {font-family: monospace;background-color: #f0f8ff;border: 1px dotted black;border-radius: 0.25em;box-sizing: border-box;margin-bottom: 0.5em;}#sk-container-id-19 div.sk-estimator:hover {background-color: #d4ebff;}#sk-container-id-19 div.sk-parallel-item::after {content: \"\";width: 100%;border-bottom: 1px solid gray;flex-grow: 1;}#sk-container-id-19 div.sk-label:hover label.sk-toggleable__label {background-color: #d4ebff;}#sk-container-id-19 div.sk-serial::before {content: \"\";position: absolute;border-left: 1px solid gray;box-sizing: border-box;top: 0;bottom: 0;left: 50%;z-index: 0;}#sk-container-id-19 div.sk-serial {display: flex;flex-direction: column;align-items: center;background-color: white;padding-right: 0.2em;padding-left: 0.2em;position: relative;}#sk-container-id-19 div.sk-item {position: relative;z-index: 1;}#sk-container-id-19 div.sk-parallel {display: flex;align-items: stretch;justify-content: center;background-color: white;position: relative;}#sk-container-id-19 div.sk-item::before, #sk-container-id-19 div.sk-parallel-item::before {content: \"\";position: absolute;border-left: 1px solid gray;box-sizing: border-box;top: 0;bottom: 0;left: 50%;z-index: -1;}#sk-container-id-19 div.sk-parallel-item {display: flex;flex-direction: column;z-index: 1;position: relative;background-color: white;}#sk-container-id-19 div.sk-parallel-item:first-child::after {align-self: flex-end;width: 50%;}#sk-container-id-19 div.sk-parallel-item:last-child::after {align-self: flex-start;width: 50%;}#sk-container-id-19 div.sk-parallel-item:only-child::after {width: 0;}#sk-container-id-19 div.sk-dashed-wrapped {border: 1px dashed gray;margin: 0 0.4em 0.5em 0.4em;box-sizing: border-box;padding-bottom: 0.4em;background-color: white;}#sk-container-id-19 div.sk-label label {font-family: monospace;font-weight: bold;display: inline-block;line-height: 1.2em;}#sk-container-id-19 div.sk-label-container {text-align: center;}#sk-container-id-19 div.sk-container {/* jupyter's `normalize.less` sets `[hidden] { display: none; }` but bootstrap.min.css set `[hidden] { display: none !important; }` so we also need the `!important` here to be able to override the default hidden behavior on the sphinx rendered scikit-learn.org. See: https://github.com/scikit-learn/scikit-learn/issues/21755 */display: inline-block !important;position: relative;}#sk-container-id-19 div.sk-text-repr-fallback {display: none;}</style><div id=\"sk-container-id-19\" class=\"sk-top-container\"><div class=\"sk-text-repr-fallback\"><pre>RandomForestRegressor()</pre><b>In a Jupyter environment, please rerun this cell to show the HTML representation or trust the notebook. <br />On GitHub, the HTML representation is unable to render, please try loading this page with nbviewer.org.</b></div><div class=\"sk-container\" hidden><div class=\"sk-item\"><div class=\"sk-estimator sk-toggleable\"><input class=\"sk-toggleable__control sk-hidden--visually\" id=\"sk-estimator-id-19\" type=\"checkbox\" checked><label for=\"sk-estimator-id-19\" class=\"sk-toggleable__label sk-toggleable__label-arrow\">RandomForestRegressor</label><div class=\"sk-toggleable__content\"><pre>RandomForestRegressor()</pre></div></div></div></div></div>"
      ],
      "text/plain": [
       "RandomForestRegressor()"
      ]
     },
     "execution_count": 263,
     "metadata": {},
     "output_type": "execute_result"
    }
   ],
   "source": [
    "# training the model\n",
    "regressor.fit(X_train,Y_train)"
   ]
  },
  {
   "cell_type": "code",
   "execution_count": 264,
   "id": "a442b4c1",
   "metadata": {},
   "outputs": [],
   "source": [
    "# prediction on Test Data\n",
    "test_data_prediction = regressor.predict(X_test)"
   ]
  },
  {
   "cell_type": "code",
   "execution_count": 265,
   "id": "9584f80f",
   "metadata": {},
   "outputs": [
    {
     "name": "stdout",
     "output_type": "stream",
     "text": [
      "[ 3.2331      2.56431667  1.409       2.3396      1.41129881  2.71535\n",
      "  2.48113833  1.9278      3.14005421  1.91029333  3.4309      2.97452381\n",
      "  1.9448931   1.88436667  3.16967321  2.6542      2.4451      3.2131\n",
      "  2.5921      2.68683389  2.9674      4.2875      2.41224576  4.4557\n",
      "  5.0602      3.05513667  2.96355833  3.03223333  2.5178      3.07031833\n",
      "  2.3596      3.07247548  2.50676667  3.00475     2.1391      2.805\n",
      "  2.99325     1.34785     3.2185      5.0088      4.2291      3.06352476\n",
      "  3.1205      7.8888      3.02163333  5.2959      2.735775    2.9037\n",
      "  7.7035      2.8954      2.90570333  3.5205      4.21505     2.1391\n",
      "  1.5329      4.366245    2.714       3.70283667  2.7682      2.292\n",
      "  3.7194      1.4572      3.16912     2.78213167  3.7415      6.8392\n",
      "  2.774175    3.91930667  2.7351      8.0372      1.2528      4.61105\n",
      "  8.1035      8.0009      3.15181333  4.8607      7.2362      5.5491\n",
      "  1.88725     8.7979      3.0871      3.15415     3.08090333  3.6795\n",
      "  2.07666333  5.4471      4.442       4.0249      6.297       1.70733167\n",
      "  2.09623333  2.5997      2.8532      3.9033      4.06385833  8.1548\n",
      "  8.1977      1.79255929  5.5491      4.8333      5.644       2.8183\n",
      "  2.83189286  1.33665     7.8232      2.2425      1.66543333  2.6441\n",
      "  2.7833      3.2024      2.8815      3.6822      8.2272      2.6146\n",
      "  1.1629      1.85128333  3.74821667  2.2297      3.75973667  1.0473\n",
      "  6.7842      3.9171      2.15416667  2.815925    3.22775     2.56703\n",
      "  2.84687333  2.1473      7.002       3.46023     3.38531095  3.4883\n",
      "  3.19854159  4.47435     3.73535833  3.000775    2.24031333  2.8689\n",
      "  2.6596      2.6877      2.8183      3.74821667  3.0359      7.232\n",
      "  3.6453      4.506       2.6288      2.8434      3.1469      3.81506417\n",
      "  4.0542      4.5615      3.2585      0.87885833  2.7031      3.4266\n",
      "  4.1144      3.2124      2.77093333  2.6934      7.6488      4.1557\n",
      "  3.70283667  3.1146      2.30662476  2.40371242  4.6299      2.1393\n",
      "  2.97217     3.59189167  7.375       5.09        4.1144      2.670475\n",
      "  3.23698524  3.222975    3.08690159  7.6324      4.1367      2.48255\n",
      "  2.32032667  2.63422     2.26394167  3.0127      2.81712     7.6955\n",
      "  2.8614      1.86342417  2.7217      3.021       8.1888      2.52641\n",
      "  1.49465143 10.9526      5.541       2.5606      2.3476      2.77093333\n",
      "  2.716       8.8437      7.9932      3.1925      1.85801238  2.92255\n",
      "  2.47946667  3.14005421  6.8351      3.161       2.8836      2.74925\n",
      "  3.22671667  3.0214      2.98947024  3.57346667  1.2593      2.65698333\n",
      "  3.66503147  3.5978      3.27131333  2.9658      8.1801      2.514335\n",
      "  3.5355      3.24346667  7.5031      3.16967321  1.7661      2.5603\n",
      "  3.0294      3.41206     0.8183      3.5248      1.7991      3.409535\n",
      "  2.82156111  3.207775    3.2850831   2.59065   ]\n"
     ]
    }
   ],
   "source": [
    "print(test_data_prediction)"
   ]
  },
  {
   "cell_type": "code",
   "execution_count": 266,
   "id": "3d4714ba",
   "metadata": {},
   "outputs": [],
   "source": [
    "Y_test = list(Y_test)"
   ]
  },
  {
   "cell_type": "code",
   "execution_count": 267,
   "id": "819182d8",
   "metadata": {},
   "outputs": [
    {
     "data": {
      "image/png": "[encoded data removed]",
      "text/plain": [
       "<Figure size 640x480 with 1 Axes>"
      ]
     },
     "metadata": {},
     "output_type": "display_data"
    }
   ],
   "source": [
    "plt.plot(Y_test, color='blue', label = 'Actual Value')\n",
    "plt.plot(test_data_prediction, color='green', label='Predicted Value')\n",
    "plt.title('Actual  vs Predicted ')\n",
    "plt.xlabel('Number of values')\n",
    "plt.ylabel('Session Length')\n",
    "plt.legend()\n",
    "plt.show()"
   ]
  },
  {
   "cell_type": "code",
   "execution_count": 268,
   "id": "7b955bf2",
   "metadata": {},
   "outputs": [],
   "source": [
    "#Training Scores\n",
    "training_data_prediction = regressor.predict(X_train)"
   ]
  },
  {
   "cell_type": "code",
   "execution_count": 269,
   "id": "975f1361",
   "metadata": {},
   "outputs": [
    {
     "data": {
      "text/plain": [
       "0.47052458162441607"
      ]
     },
     "execution_count": 269,
     "metadata": {},
     "output_type": "execute_result"
    }
   ],
   "source": [
    "mean_absolute_error(Y_train, training_data_prediction)"
   ]
  },
  {
   "cell_type": "code",
   "execution_count": 270,
   "id": "05f86ddf",
   "metadata": {},
   "outputs": [
    {
     "data": {
      "text/plain": [
       "0.7246802018187033"
      ]
     },
     "execution_count": 270,
     "metadata": {},
     "output_type": "execute_result"
    }
   ],
   "source": [
    "sqrt(mean_squared_error(Y_train, training_data_prediction))"
   ]
  },
  {
   "cell_type": "code",
   "execution_count": 271,
   "id": "5afebc00",
   "metadata": {},
   "outputs": [
    {
     "name": "stdout",
     "output_type": "stream",
     "text": [
      "R squared error :  0.8953957367395614\n"
     ]
    }
   ],
   "source": [
    "# R squared error\n",
    "error_score = metrics.r2_score(Y_train, training_data_prediction)\n",
    "print(\"R squared error : \", error_score)"
   ]
  },
  {
   "cell_type": "code",
   "execution_count": 272,
   "id": "8e1d1efb",
   "metadata": {},
   "outputs": [],
   "source": [
    "def smape(actual, predicted):\n",
    "    \"\"\"\n",
    "    Calculate SMAPE (Symmetric Mean Absolute Percentage Error) for actual and predicted values.\n",
    "    \"\"\"\n",
    "    actual = np.array(actual)\n",
    "    predicted = np.array(predicted)\n",
    "    return 100/len(actual) * np.sum(2 * np.abs(predicted - actual) / (np.abs(actual) + np.abs(predicted)))\n"
   ]
  },
  {
   "cell_type": "code",
   "execution_count": 273,
   "id": "681de7ec",
   "metadata": {},
   "outputs": [
    {
     "name": "stdout",
     "output_type": "stream",
     "text": [
      "SMAPE score:  19.112787336316636\n"
     ]
    }
   ],
   "source": [
    "smape_score = smape(Y_train, training_data_prediction)\n",
    "print(\"SMAPE score: \", smape_score)"
   ]
  },
  {
   "cell_type": "code",
   "execution_count": 274,
   "id": "a1975cf3",
   "metadata": {},
   "outputs": [],
   "source": [
    "#Test Scores"
   ]
  },
  {
   "cell_type": "code",
   "execution_count": 275,
   "id": "f697218c",
   "metadata": {},
   "outputs": [
    {
     "data": {
      "text/plain": [
       "1.0477045836668004"
      ]
     },
     "execution_count": 275,
     "metadata": {},
     "output_type": "execute_result"
    }
   ],
   "source": [
    "mean_absolute_error(Y_test, test_data_prediction)"
   ]
  },
  {
   "cell_type": "code",
   "execution_count": 276,
   "id": "28dc210f",
   "metadata": {},
   "outputs": [],
   "source": [
    "rms = sqrt(mean_squared_error(Y_test, test_data_prediction))"
   ]
  },
  {
   "cell_type": "code",
   "execution_count": 277,
   "id": "a29d61c0",
   "metadata": {},
   "outputs": [
    {
     "name": "stdout",
     "output_type": "stream",
     "text": [
      "1.507761879146999\n"
     ]
    }
   ],
   "source": [
    "print(rms)"
   ]
  },
  {
   "cell_type": "code",
   "execution_count": 278,
   "id": "3c3d7356",
   "metadata": {},
   "outputs": [
    {
     "name": "stdout",
     "output_type": "stream",
     "text": [
      "R squared error :  0.5432908545669145\n"
     ]
    }
   ],
   "source": [
    "# R squared error\n",
    "error_score = metrics.r2_score(Y_test, test_data_prediction)\n",
    "print(\"R squared error : \", error_score)"
   ]
  },
  {
   "cell_type": "code",
   "execution_count": 279,
   "id": "5df978ce",
   "metadata": {},
   "outputs": [],
   "source": [
    "def smape(actual, predicted):\n",
    "    \"\"\"\n",
    "    Calculate SMAPE (Symmetric Mean Absolute Percentage Error) for actual and predicted values.\n",
    "    \"\"\"\n",
    "    actual = np.array(actual)\n",
    "    predicted = np.array(predicted)\n",
    "    return 100/len(actual) * np.sum(2 * np.abs(predicted - actual) / (np.abs(actual) + np.abs(predicted)))\n"
   ]
  },
  {
   "cell_type": "code",
   "execution_count": 280,
   "id": "4ebfe0d4",
   "metadata": {},
   "outputs": [
    {
     "name": "stdout",
     "output_type": "stream",
     "text": [
      "SMAPE score:  33.720035310762846\n"
     ]
    }
   ],
   "source": [
    "smape_score = smape(Y_test, test_data_prediction)\n",
    "print(\"SMAPE score: \", smape_score)"
   ]
  },
  {
   "cell_type": "code",
   "execution_count": 281,
   "id": "e2a7f2ef",
   "metadata": {},
   "outputs": [
    {
     "data": {
      "image/png": "[encoded data removed]",
      "text/plain": [
       "<Figure size 640x480 with 1 Axes>"
      ]
     },
     "metadata": {},
     "output_type": "display_data"
    }
   ],
   "source": [
    "#Visualising\n",
    "sns.regplot(x=Y_test, y=test_data_prediction)\n",
    "plt.xlabel(\"Actual\")\n",
    "plt.ylabel('Predicted')\n",
    "plt.title(\"ACtual vs predicted\")\n",
    "plt.show()\n",
    "\n"
   ]
  },
  {
   "cell_type": "markdown",
   "id": "0fa69893",
   "metadata": {},
   "source": [
    "#SVM "
   ]
  },
  {
   "cell_type": "code",
   "execution_count": 282,
   "id": "c525dd5d",
   "metadata": {},
   "outputs": [],
   "source": [
    "X_train, X_test, Y_train, Y_test = train_test_split(X, Y, test_size = 0.2, random_state=2)"
   ]
  },
  {
   "cell_type": "code",
   "execution_count": 283,
   "id": "64e97c93",
   "metadata": {},
   "outputs": [
    {
     "data": {
      "text/html": [
       "<style>#sk-container-id-20 {color: black;background-color: white;}#sk-container-id-20 pre{padding: 0;}#sk-container-id-20 div.sk-toggleable {background-color: white;}#sk-container-id-20 label.sk-toggleable__label {cursor: pointer;display: block;width: 100%;margin-bottom: 0;padding: 0.3em;box-sizing: border-box;text-align: center;}#sk-container-id-20 label.sk-toggleable__label-arrow:before {content: \"▸\";float: left;margin-right: 0.25em;color: #696969;}#sk-container-id-20 label.sk-toggleable__label-arrow:hover:before {color: black;}#sk-container-id-20 div.sk-estimator:hover label.sk-toggleable__label-arrow:before {color: black;}#sk-container-id-20 div.sk-toggleable__content {max-height: 0;max-width: 0;overflow: hidden;text-align: left;background-color: #f0f8ff;}#sk-container-id-20 div.sk-toggleable__content pre {margin: 0.2em;color: black;border-radius: 0.25em;background-color: #f0f8ff;}#sk-container-id-20 input.sk-toggleable__control:checked~div.sk-toggleable__content {max-height: 200px;max-width: 100%;overflow: auto;}#sk-container-id-20 input.sk-toggleable__control:checked~label.sk-toggleable__label-arrow:before {content: \"▾\";}#sk-container-id-20 div.sk-estimator input.sk-toggleable__control:checked~label.sk-toggleable__label {background-color: #d4ebff;}#sk-container-id-20 div.sk-label input.sk-toggleable__control:checked~label.sk-toggleable__label {background-color: #d4ebff;}#sk-container-id-20 input.sk-hidden--visually {border: 0;clip: rect(1px 1px 1px 1px);clip: rect(1px, 1px, 1px, 1px);height: 1px;margin: -1px;overflow: hidden;padding: 0;position: absolute;width: 1px;}#sk-container-id-20 div.sk-estimator {font-family: monospace;background-color: #f0f8ff;border: 1px dotted black;border-radius: 0.25em;box-sizing: border-box;margin-bottom: 0.5em;}#sk-container-id-20 div.sk-estimator:hover {background-color: #d4ebff;}#sk-container-id-20 div.sk-parallel-item::after {content: \"\";width: 100%;border-bottom: 1px solid gray;flex-grow: 1;}#sk-container-id-20 div.sk-label:hover label.sk-toggleable__label {background-color: #d4ebff;}#sk-container-id-20 div.sk-serial::before {content: \"\";position: absolute;border-left: 1px solid gray;box-sizing: border-box;top: 0;bottom: 0;left: 50%;z-index: 0;}#sk-container-id-20 div.sk-serial {display: flex;flex-direction: column;align-items: center;background-color: white;padding-right: 0.2em;padding-left: 0.2em;position: relative;}#sk-container-id-20 div.sk-item {position: relative;z-index: 1;}#sk-container-id-20 div.sk-parallel {display: flex;align-items: stretch;justify-content: center;background-color: white;position: relative;}#sk-container-id-20 div.sk-item::before, #sk-container-id-20 div.sk-parallel-item::before {content: \"\";position: absolute;border-left: 1px solid gray;box-sizing: border-box;top: 0;bottom: 0;left: 50%;z-index: -1;}#sk-container-id-20 div.sk-parallel-item {display: flex;flex-direction: column;z-index: 1;position: relative;background-color: white;}#sk-container-id-20 div.sk-parallel-item:first-child::after {align-self: flex-end;width: 50%;}#sk-container-id-20 div.sk-parallel-item:last-child::after {align-self: flex-start;width: 50%;}#sk-container-id-20 div.sk-parallel-item:only-child::after {width: 0;}#sk-container-id-20 div.sk-dashed-wrapped {border: 1px dashed gray;margin: 0 0.4em 0.5em 0.4em;box-sizing: border-box;padding-bottom: 0.4em;background-color: white;}#sk-container-id-20 div.sk-label label {font-family: monospace;font-weight: bold;display: inline-block;line-height: 1.2em;}#sk-container-id-20 div.sk-label-container {text-align: center;}#sk-container-id-20 div.sk-container {/* jupyter's `normalize.less` sets `[hidden] { display: none; }` but bootstrap.min.css set `[hidden] { display: none !important; }` so we also need the `!important` here to be able to override the default hidden behavior on the sphinx rendered scikit-learn.org. See: https://github.com/scikit-learn/scikit-learn/issues/21755 */display: inline-block !important;position: relative;}#sk-container-id-20 div.sk-text-repr-fallback {display: none;}</style><div id=\"sk-container-id-20\" class=\"sk-top-container\"><div class=\"sk-text-repr-fallback\"><pre>SVR(C=10, gamma=0.1)</pre><b>In a Jupyter environment, please rerun this cell to show the HTML representation or trust the notebook. <br />On GitHub, the HTML representation is unable to render, please try loading this page with nbviewer.org.</b></div><div class=\"sk-container\" hidden><div class=\"sk-item\"><div class=\"sk-estimator sk-toggleable\"><input class=\"sk-toggleable__control sk-hidden--visually\" id=\"sk-estimator-id-20\" type=\"checkbox\" checked><label for=\"sk-estimator-id-20\" class=\"sk-toggleable__label sk-toggleable__label-arrow\">SVR</label><div class=\"sk-toggleable__content\"><pre>SVR(C=10, gamma=0.1)</pre></div></div></div></div></div>"
      ],
      "text/plain": [
       "SVR(C=10, gamma=0.1)"
      ]
     },
     "execution_count": 283,
     "metadata": {},
     "output_type": "execute_result"
    }
   ],
   "source": [
    "svr = SVR(kernel='rbf', C=10, gamma=0.1, epsilon=0.1)\n",
    "svr.fit(X_train,Y_train)"
   ]
  },
  {
   "cell_type": "code",
   "execution_count": 284,
   "id": "c4238f1c",
   "metadata": {},
   "outputs": [],
   "source": [
    "y_pred = svr.predict(X_test)\n",
    "mse = mean_squared_error(Y_test, y_pred)"
   ]
  },
  {
   "cell_type": "code",
   "execution_count": 285,
   "id": "f62823e3",
   "metadata": {},
   "outputs": [
    {
     "name": "stdout",
     "output_type": "stream",
     "text": [
      "[2.28894578 2.47185435 2.73633448 2.40763253 1.4571502  2.79304229\n",
      " 2.85833638 2.04949657 3.0238191  1.68991539 3.58045901 3.16866252\n",
      " 2.41043505 2.1781132  2.73014169 2.67690651 2.98936247 2.09881564\n",
      " 1.82822108 2.81465553 3.7272054  7.65092929 2.35491703 3.92214808\n",
      " 4.24703397 3.16688588 3.6793364  3.15942059 3.04632745 2.72904477\n",
      " 3.25344849 2.54260521 1.43782615 2.78855368 2.10072679 2.60572712\n",
      " 2.7672084  1.85402722 3.32918369 8.03856248 3.3794308  2.64815424\n",
      " 3.87052038 8.05529715 2.56758045 6.62861701 2.67586732 2.74321368\n",
      " 7.55314649 3.18469551 3.11625492 2.03509494 3.10520625 2.10072679\n",
      " 1.80258818 3.47219367 2.66129099 3.56265058 2.6756782  2.69130365\n",
      " 3.01759637 2.37670563 2.96076317 2.52011826 2.55479635 8.01603819\n",
      " 2.81386125 2.96031137 2.96778648 8.53332879 1.43041369 3.27120183\n",
      " 8.34494092 8.11026558 3.30493939 1.83022147 8.28872519 8.27158745\n",
      " 2.28201256 8.99056133 3.24732106 3.11975848 3.1795306  2.86575954\n",
      " 2.93629231 6.70125803 3.69187938 4.20533051 6.25135111 1.94170523\n",
      " 2.54340291 2.58523365 3.07784344 2.86857064 2.51426372 8.30874716\n",
      " 7.07211328 1.95184777 8.27195951 8.91399521 3.93859538 3.46591242\n",
      " 3.07769427 2.34949447 7.29251939 1.74441882 1.94101949 3.11352472\n",
      " 2.65112161 2.97393198 2.19302431 3.03619561 7.52109293 3.43442874\n",
      " 1.16709315 1.81701753 3.47663962 3.39935174 3.25881821 1.94415974\n",
      " 8.28727465 2.87966156 3.28150553 2.35193242 3.20983611 2.81063772\n",
      " 2.97969987 2.74901934 6.40891098 2.84904559 3.29511352 2.98082779\n",
      " 3.02480597 3.28728387 3.30494455 2.83205132 2.32445089 3.63320536\n",
      " 3.3053826  2.43763805 1.82627852 3.47663962 1.67553894 5.98543632\n",
      " 3.44453458 3.38521619 2.75471159 2.12428283 3.11618682 3.33429981\n",
      " 6.1582746  6.48088714 2.75286047 2.97280806 3.32309462 2.78786536\n",
      " 3.17998623 3.03016398 2.75019778 2.74804178 7.02095069 3.34441376\n",
      " 3.56265058 3.39900946 2.16932399 2.34667052 5.00504652 2.95072773\n",
      " 3.02641255 2.76789452 6.66618935 7.27828047 3.17998623 2.73860177\n",
      " 3.24037281 3.20155223 3.10734932 7.76319608 4.09109558 2.73727317\n",
      " 2.27251404 2.47825095 2.86266371 2.64239321 2.52641621 7.49271941\n",
      " 2.6597202  2.05421814 2.58904031 2.37993287 8.30275563 2.76855794\n",
      " 2.74319252 9.23603605 6.74397832 2.72642782 2.94365811 2.75019778\n",
      " 2.67229828 8.5037594  7.90146014 3.06082532 2.20480284 2.71872352\n",
      " 2.23546465 3.0238191  9.99807059 3.0404698  3.03433822 2.08848848\n",
      " 2.31134833 2.47909309 2.7923815  3.73716566 2.46574291 2.35414572\n",
      " 2.874999   3.24432181 3.31106208 2.519875   8.14157403 2.47001423\n",
      " 3.17593362 3.61499759 8.2998062  2.73014169 1.91165516 2.7638158\n",
      " 2.54057732 3.18731992 1.11555384 2.7043903  2.01303477 3.2455872\n",
      " 2.64082362 3.71808515 3.24493021 2.61075769]\n"
     ]
    }
   ],
   "source": [
    "print(y_pred)"
   ]
  },
  {
   "cell_type": "code",
   "execution_count": 286,
   "id": "930dcac6",
   "metadata": {},
   "outputs": [],
   "source": [
    "Y_test = list(Y_test)"
   ]
  },
  {
   "cell_type": "code",
   "execution_count": 287,
   "id": "87bc8add",
   "metadata": {},
   "outputs": [
    {
     "data": {
      "image/png": "[encoded data removed]",
      "text/plain": [
       "<Figure size 640x480 with 1 Axes>"
      ]
     },
     "metadata": {},
     "output_type": "display_data"
    }
   ],
   "source": [
    "plt.plot(Y_test, color='blue', label = 'Actual Value')\n",
    "plt.plot(y_pred, color='green', label='Predicted Value')\n",
    "plt.title('Actual  vs Predicted ')\n",
    "plt.xlabel('Number of values')\n",
    "plt.ylabel('Session Length')\n",
    "plt.legend()\n",
    "plt.show()"
   ]
  },
  {
   "cell_type": "code",
   "execution_count": 288,
   "id": "1df31b21",
   "metadata": {},
   "outputs": [
    {
     "data": {
      "text/plain": [
       "1.1071062969020442"
      ]
     },
     "execution_count": 288,
     "metadata": {},
     "output_type": "execute_result"
    }
   ],
   "source": [
    "mean_absolute_error(Y_test, y_pred)"
   ]
  },
  {
   "cell_type": "code",
   "execution_count": 289,
   "id": "51207439",
   "metadata": {},
   "outputs": [],
   "source": [
    "rms = sqrt(mean_squared_error(Y_test, y_pred))"
   ]
  },
  {
   "cell_type": "code",
   "execution_count": 290,
   "id": "97379bf9",
   "metadata": {},
   "outputs": [
    {
     "name": "stdout",
     "output_type": "stream",
     "text": [
      "1.549362075319978\n"
     ]
    }
   ],
   "source": [
    "print(rms)"
   ]
  },
  {
   "cell_type": "code",
   "execution_count": 291,
   "id": "33eb3c3c",
   "metadata": {},
   "outputs": [
    {
     "name": "stdout",
     "output_type": "stream",
     "text": [
      "R squared error :  0.5177413421049226\n"
     ]
    }
   ],
   "source": [
    "# R squared error\n",
    "error_score = metrics.r2_score(Y_test, y_pred)\n",
    "print(\"R squared error : \", error_score)"
   ]
  },
  {
   "cell_type": "code",
   "execution_count": 292,
   "id": "f5360828",
   "metadata": {},
   "outputs": [
    {
     "name": "stdout",
     "output_type": "stream",
     "text": [
      "SMAPE score:  36.561884758063314\n"
     ]
    }
   ],
   "source": [
    "smape_score = smape(Y_test, y_pred)\n",
    "print(\"SMAPE score: \", smape_score)"
   ]
  },
  {
   "cell_type": "code",
   "execution_count": 293,
   "id": "2565be61",
   "metadata": {},
   "outputs": [
    {
     "data": {
      "image/png": "[encoded data removed]",
      "text/plain": [
       "<Figure size 640x480 with 1 Axes>"
      ]
     },
     "metadata": {},
     "output_type": "display_data"
    }
   ],
   "source": [
    "#Visualising\n",
    "sns.regplot(x=Y_test, y=y_pred)\n",
    "plt.xlabel(\"Actual\")\n",
    "plt.ylabel('Predicted')\n",
    "plt.title(\"ACtual vs predicted\")\n",
    "plt.show()"
   ]
  },
  {
   "cell_type": "markdown",
   "id": "5d156f24",
   "metadata": {},
   "source": [
    "#XGB"
   ]
  },
  {
   "cell_type": "code",
   "execution_count": 294,
   "id": "96b61c97",
   "metadata": {},
   "outputs": [],
   "source": [
    "# loading the model\n",
    "xb_model = XGBRegressor(objective='reg:squarederror', alpha=0.5)"
   ]
  },
  {
   "cell_type": "code",
   "execution_count": 295,
   "id": "681eed80",
   "metadata": {},
   "outputs": [
    {
     "data": {
      "text/html": [
       "<style>#sk-container-id-21 {color: black;background-color: white;}#sk-container-id-21 pre{padding: 0;}#sk-container-id-21 div.sk-toggleable {background-color: white;}#sk-container-id-21 label.sk-toggleable__label {cursor: pointer;display: block;width: 100%;margin-bottom: 0;padding: 0.3em;box-sizing: border-box;text-align: center;}#sk-container-id-21 label.sk-toggleable__label-arrow:before {content: \"▸\";float: left;margin-right: 0.25em;color: #696969;}#sk-container-id-21 label.sk-toggleable__label-arrow:hover:before {color: black;}#sk-container-id-21 div.sk-estimator:hover label.sk-toggleable__label-arrow:before {color: black;}#sk-container-id-21 div.sk-toggleable__content {max-height: 0;max-width: 0;overflow: hidden;text-align: left;background-color: #f0f8ff;}#sk-container-id-21 div.sk-toggleable__content pre {margin: 0.2em;color: black;border-radius: 0.25em;background-color: #f0f8ff;}#sk-container-id-21 input.sk-toggleable__control:checked~div.sk-toggleable__content {max-height: 200px;max-width: 100%;overflow: auto;}#sk-container-id-21 input.sk-toggleable__control:checked~label.sk-toggleable__label-arrow:before {content: \"▾\";}#sk-container-id-21 div.sk-estimator input.sk-toggleable__control:checked~label.sk-toggleable__label {background-color: #d4ebff;}#sk-container-id-21 div.sk-label input.sk-toggleable__control:checked~label.sk-toggleable__label {background-color: #d4ebff;}#sk-container-id-21 input.sk-hidden--visually {border: 0;clip: rect(1px 1px 1px 1px);clip: rect(1px, 1px, 1px, 1px);height: 1px;margin: -1px;overflow: hidden;padding: 0;position: absolute;width: 1px;}#sk-container-id-21 div.sk-estimator {font-family: monospace;background-color: #f0f8ff;border: 1px dotted black;border-radius: 0.25em;box-sizing: border-box;margin-bottom: 0.5em;}#sk-container-id-21 div.sk-estimator:hover {background-color: #d4ebff;}#sk-container-id-21 div.sk-parallel-item::after {content: \"\";width: 100%;border-bottom: 1px solid gray;flex-grow: 1;}#sk-container-id-21 div.sk-label:hover label.sk-toggleable__label {background-color: #d4ebff;}#sk-container-id-21 div.sk-serial::before {content: \"\";position: absolute;border-left: 1px solid gray;box-sizing: border-box;top: 0;bottom: 0;left: 50%;z-index: 0;}#sk-container-id-21 div.sk-serial {display: flex;flex-direction: column;align-items: center;background-color: white;padding-right: 0.2em;padding-left: 0.2em;position: relative;}#sk-container-id-21 div.sk-item {position: relative;z-index: 1;}#sk-container-id-21 div.sk-parallel {display: flex;align-items: stretch;justify-content: center;background-color: white;position: relative;}#sk-container-id-21 div.sk-item::before, #sk-container-id-21 div.sk-parallel-item::before {content: \"\";position: absolute;border-left: 1px solid gray;box-sizing: border-box;top: 0;bottom: 0;left: 50%;z-index: -1;}#sk-container-id-21 div.sk-parallel-item {display: flex;flex-direction: column;z-index: 1;position: relative;background-color: white;}#sk-container-id-21 div.sk-parallel-item:first-child::after {align-self: flex-end;width: 50%;}#sk-container-id-21 div.sk-parallel-item:last-child::after {align-self: flex-start;width: 50%;}#sk-container-id-21 div.sk-parallel-item:only-child::after {width: 0;}#sk-container-id-21 div.sk-dashed-wrapped {border: 1px dashed gray;margin: 0 0.4em 0.5em 0.4em;box-sizing: border-box;padding-bottom: 0.4em;background-color: white;}#sk-container-id-21 div.sk-label label {font-family: monospace;font-weight: bold;display: inline-block;line-height: 1.2em;}#sk-container-id-21 div.sk-label-container {text-align: center;}#sk-container-id-21 div.sk-container {/* jupyter's `normalize.less` sets `[hidden] { display: none; }` but bootstrap.min.css set `[hidden] { display: none !important; }` so we also need the `!important` here to be able to override the default hidden behavior on the sphinx rendered scikit-learn.org. See: https://github.com/scikit-learn/scikit-learn/issues/21755 */display: inline-block !important;position: relative;}#sk-container-id-21 div.sk-text-repr-fallback {display: none;}</style><div id=\"sk-container-id-21\" class=\"sk-top-container\"><div class=\"sk-text-repr-fallback\"><pre>XGBRegressor(alpha=0.5, base_score=None, booster=None, callbacks=None,\n",
       "             colsample_bylevel=None, colsample_bynode=None,\n",
       "             colsample_bytree=None, early_stopping_rounds=None,\n",
       "             enable_categorical=False, eval_metric=None, feature_types=None,\n",
       "             gamma=None, gpu_id=None, grow_policy=None, importance_type=None,\n",
       "             interaction_constraints=None, learning_rate=None, max_bin=None,\n",
       "             max_cat_threshold=None, max_cat_to_onehot=None,\n",
       "             max_delta_step=None, max_depth=None, max_leaves=None,\n",
       "             min_child_weight=None, missing=nan, monotone_constraints=None,\n",
       "             n_estimators=100, n_jobs=None, num_parallel_tree=None,\n",
       "             predictor=None, ...)</pre><b>In a Jupyter environment, please rerun this cell to show the HTML representation or trust the notebook. <br />On GitHub, the HTML representation is unable to render, please try loading this page with nbviewer.org.</b></div><div class=\"sk-container\" hidden><div class=\"sk-item\"><div class=\"sk-estimator sk-toggleable\"><input class=\"sk-toggleable__control sk-hidden--visually\" id=\"sk-estimator-id-21\" type=\"checkbox\" checked><label for=\"sk-estimator-id-21\" class=\"sk-toggleable__label sk-toggleable__label-arrow\">XGBRegressor</label><div class=\"sk-toggleable__content\"><pre>XGBRegressor(alpha=0.5, base_score=None, booster=None, callbacks=None,\n",
       "             colsample_bylevel=None, colsample_bynode=None,\n",
       "             colsample_bytree=None, early_stopping_rounds=None,\n",
       "             enable_categorical=False, eval_metric=None, feature_types=None,\n",
       "             gamma=None, gpu_id=None, grow_policy=None, importance_type=None,\n",
       "             interaction_constraints=None, learning_rate=None, max_bin=None,\n",
       "             max_cat_threshold=None, max_cat_to_onehot=None,\n",
       "             max_delta_step=None, max_depth=None, max_leaves=None,\n",
       "             min_child_weight=None, missing=nan, monotone_constraints=None,\n",
       "             n_estimators=100, n_jobs=None, num_parallel_tree=None,\n",
       "             predictor=None, ...)</pre></div></div></div></div></div>"
      ],
      "text/plain": [
       "XGBRegressor(alpha=0.5, base_score=None, booster=None, callbacks=None,\n",
       "             colsample_bylevel=None, colsample_bynode=None,\n",
       "             colsample_bytree=None, early_stopping_rounds=None,\n",
       "             enable_categorical=False, eval_metric=None, feature_types=None,\n",
       "             gamma=None, gpu_id=None, grow_policy=None, importance_type=None,\n",
       "             interaction_constraints=None, learning_rate=None, max_bin=None,\n",
       "             max_cat_threshold=None, max_cat_to_onehot=None,\n",
       "             max_delta_step=None, max_depth=None, max_leaves=None,\n",
       "             min_child_weight=None, missing=nan, monotone_constraints=None,\n",
       "             n_estimators=100, n_jobs=None, num_parallel_tree=None,\n",
       "             predictor=None, ...)"
      ]
     },
     "execution_count": 295,
     "metadata": {},
     "output_type": "execute_result"
    }
   ],
   "source": [
    "# training the model with X_train\n",
    "xb_model.fit(X_train, Y_train)"
   ]
  },
  {
   "cell_type": "code",
   "execution_count": 296,
   "id": "9e86d343",
   "metadata": {},
   "outputs": [],
   "source": [
    "test_prediction = xb_model.predict(X_test)"
   ]
  },
  {
   "cell_type": "code",
   "execution_count": 297,
   "id": "9df529dd",
   "metadata": {},
   "outputs": [
    {
     "name": "stdout",
     "output_type": "stream",
     "text": [
      "[ 2.9869633   3.1194549   1.4201407   2.0466218   1.3937508   2.6898255\n",
      "  2.8269918   1.8105371   3.0923772   1.9142587   3.482873    2.8872926\n",
      "  1.9642761   1.8668805   2.908791    2.6654906   2.0578535   4.412146\n",
      "  1.1793797   2.85079     3.1891077   4.5049057   2.3295715   4.448129\n",
      "  5.5561695   2.6164286   3.5062356   3.0503495   1.3646213   3.1183736\n",
      "  1.1048275   3.2151155   2.5884912   3.0652382   2.106154    3.1029248\n",
      "  3.5641055   1.1007662   3.1346202   3.9843178   3.921854    3.4526443\n",
      "  3.284286    8.171997    2.84631     5.518       2.288947    2.588934\n",
      "  7.9738154   2.6566892   2.634858    3.965578    3.3774543   2.106154\n",
      "  1.9572672   4.635548    2.5784447   3.5242093   3.1392343   1.7991412\n",
      "  4.2955713   1.0584227   3.2344587   3.0540388   3.5148237   6.8023496\n",
      "  2.5715501   3.4960039   3.4004872   6.914954    1.9666795   4.745962\n",
      "  8.048884    9.802983    3.2289042   3.196468    7.7908597   5.7818556\n",
      "  2.277258    9.216816    3.0955296   3.0463202   2.642372    3.4493444\n",
      "  1.5991523   3.6750731   4.285376    3.2937844   6.670592    1.9925191\n",
      "  2.3448298   2.388276    4.028907    4.1974406   5.0795503   8.720812\n",
      "  6.2422023   1.9733906   5.7818556   3.2052627   5.095653    2.7511005\n",
      "  2.981491    1.0490894   8.030978    2.55358     1.5137837   2.3116748\n",
      "  2.7494705   3.2418115   3.2794678   4.1152883   8.609081    2.5890439\n",
      "  0.921145    1.8179455   3.6333718   2.4368927   3.5309398   0.90348685\n",
      "  8.013758    3.9734077   1.8144603   3.6193888   2.9386673   2.2181756\n",
      "  2.8260472   2.2986214   8.275726    3.4144087   3.288914    3.8132086\n",
      "  3.245708    4.299085    3.0532482   2.8364687   2.1311746   2.5949566\n",
      "  2.9931765   2.8074      2.1891403   3.6333718   3.752496    7.4243503\n",
      "  4.4259095   4.5684376   2.6909928   2.6647475   3.9307942   3.548818\n",
      "  2.360034    3.7474787   3.2192621   0.70823854  2.9147377   3.865748\n",
      "  4.3723183   3.2547486   2.4558349   2.6836987   7.9912915   3.759043\n",
      "  3.5242093   3.180506    2.648973    2.3490884   4.661392    1.7090805\n",
      "  3.424233    3.759758    9.517287    4.9232426   4.3723183   2.7352273\n",
      "  3.2589056   3.4390051   3.0960512   8.246956    4.394413    2.841181\n",
      "  2.8932571   3.2332659   2.3055756   3.521073    2.9291277   7.916484\n",
      "  2.6087348   1.2523047   2.7124553   2.156181    8.977044    2.6148887\n",
      "  1.205183   10.77069     2.9744048   2.901946    1.8133694   2.4558349\n",
      "  2.6282587   9.685112    7.542556    3.1556141   1.8372005   2.4133139\n",
      "  2.1004446   3.0923772   6.3455234   3.1060083   3.3666341   2.3580756\n",
      "  3.1868656   2.749321    2.8079507   3.8976743   1.2143033   2.234732\n",
      "  3.6287155   3.1183925   3.2086108   1.9654204   8.955951    2.6240995\n",
      "  3.4199288   3.3675902   7.7908597   2.908791    1.7895525   2.5648754\n",
      "  3.148074    3.6676648  -0.04861367  3.9586508   1.625158    3.4818068\n",
      "  2.9219577   3.280788    3.2091594   2.8443174 ]\n"
     ]
    }
   ],
   "source": [
    "print(test_prediction)"
   ]
  },
  {
   "cell_type": "code",
   "execution_count": 298,
   "id": "d6a92fde",
   "metadata": {},
   "outputs": [],
   "source": [
    "Y_test = list(Y_test)"
   ]
  },
  {
   "cell_type": "code",
   "execution_count": 299,
   "id": "d9669083",
   "metadata": {},
   "outputs": [
    {
     "data": {
      "image/png": "[encoded data removed]",
      "text/plain": [
       "<Figure size 640x480 with 1 Axes>"
      ]
     },
     "metadata": {},
     "output_type": "display_data"
    }
   ],
   "source": [
    "plt.plot(Y_test, color='blue', label = 'Actual Value')\n",
    "plt.plot(test_prediction, color='green', label='Predicted Value')\n",
    "plt.title('Actual vs Predicted')\n",
    "plt.xlabel('Number of values')\n",
    "plt.ylabel('Session Length')\n",
    "plt.legend()\n",
    "plt.show()"
   ]
  },
  {
   "cell_type": "code",
   "execution_count": 300,
   "id": "8022a776",
   "metadata": {},
   "outputs": [],
   "source": [
    "#Training Scores\n",
    "training_data_prediction = xb_model.predict(X_train)"
   ]
  },
  {
   "cell_type": "code",
   "execution_count": 301,
   "id": "b2837d47",
   "metadata": {},
   "outputs": [
    {
     "data": {
      "text/plain": [
       "0.3432989174588246"
      ]
     },
     "execution_count": 301,
     "metadata": {},
     "output_type": "execute_result"
    }
   ],
   "source": [
    "mean_absolute_error(Y_train, training_data_prediction)"
   ]
  },
  {
   "cell_type": "code",
   "execution_count": 302,
   "id": "d3ea834c",
   "metadata": {},
   "outputs": [
    {
     "data": {
      "text/plain": [
       "0.501913437434292"
      ]
     },
     "execution_count": 302,
     "metadata": {},
     "output_type": "execute_result"
    }
   ],
   "source": [
    "sqrt(mean_squared_error(Y_train, training_data_prediction))"
   ]
  },
  {
   "cell_type": "code",
   "execution_count": 303,
   "id": "9b96c799",
   "metadata": {},
   "outputs": [
    {
     "name": "stdout",
     "output_type": "stream",
     "text": [
      "R squared error :  0.9498218971056649\n"
     ]
    }
   ],
   "source": [
    "# R squared error\n",
    "error_score = metrics.r2_score(Y_train, training_data_prediction)\n",
    "print(\"R squared error : \", error_score)"
   ]
  },
  {
   "cell_type": "code",
   "execution_count": 304,
   "id": "c80a00e0",
   "metadata": {},
   "outputs": [
    {
     "name": "stdout",
     "output_type": "stream",
     "text": [
      "SMAPE score:  15.92193831585547\n"
     ]
    }
   ],
   "source": [
    "smape_score = smape(Y_train, training_data_prediction)\n",
    "print(\"SMAPE score: \", smape_score)\n"
   ]
  },
  {
   "cell_type": "code",
   "execution_count": 305,
   "id": "e5686bdd",
   "metadata": {},
   "outputs": [],
   "source": [
    "#Test Scores"
   ]
  },
  {
   "cell_type": "code",
   "execution_count": 306,
   "id": "20eee23d",
   "metadata": {},
   "outputs": [
    {
     "data": {
      "text/plain": [
       "1.1271864987221085"
      ]
     },
     "execution_count": 306,
     "metadata": {},
     "output_type": "execute_result"
    }
   ],
   "source": [
    "mean_absolute_error(Y_test, test_prediction)"
   ]
  },
  {
   "cell_type": "code",
   "execution_count": 307,
   "id": "80f41965",
   "metadata": {},
   "outputs": [],
   "source": [
    "rms = sqrt(mean_squared_error(Y_test, test_prediction))"
   ]
  },
  {
   "cell_type": "code",
   "execution_count": 308,
   "id": "5bbf4b33",
   "metadata": {},
   "outputs": [
    {
     "name": "stdout",
     "output_type": "stream",
     "text": [
      "1.6772157223588913\n"
     ]
    }
   ],
   "source": [
    "print(rms)"
   ]
  },
  {
   "cell_type": "code",
   "execution_count": 309,
   "id": "420fe4f1",
   "metadata": {},
   "outputs": [
    {
     "name": "stdout",
     "output_type": "stream",
     "text": [
      "R squared error :  0.4348652140937864\n"
     ]
    }
   ],
   "source": [
    "# R squared error\n",
    "error_score = metrics.r2_score(Y_test, test_prediction)\n",
    "print(\"R squared error : \", error_score)"
   ]
  },
  {
   "cell_type": "code",
   "execution_count": 310,
   "id": "b6439721",
   "metadata": {},
   "outputs": [
    {
     "name": "stdout",
     "output_type": "stream",
     "text": [
      "SMAPE score:  37.01614033442535\n"
     ]
    }
   ],
   "source": [
    "smape_score = smape(Y_test, test_prediction)\n",
    "print(\"SMAPE score: \", smape_score)"
   ]
  },
  {
   "cell_type": "code",
   "execution_count": 311,
   "id": "1a86269e",
   "metadata": {},
   "outputs": [
    {
     "data": {
      "image/png": "[encoded data removed]",
      "text/plain": [
       "<Figure size 640x480 with 1 Axes>"
      ]
     },
     "metadata": {},
     "output_type": "display_data"
    }
   ],
   "source": [
    "#Visualising\n",
    "sns.regplot(x=Y_test, y=test_prediction)\n",
    "plt.xlabel(\"Actual\")\n",
    "plt.ylabel('Predicted')\n",
    "plt.title(\"ACtual vs predicted\")\n",
    "plt.show()"
   ]
  },
  {
   "cell_type": "markdown",
   "id": "f3dc4b89",
   "metadata": {},
   "source": [
    "#ANN"
   ]
  },
  {
   "cell_type": "code",
   "execution_count": 312,
   "id": "e4fc1264",
   "metadata": {},
   "outputs": [],
   "source": [
    "X_train, X_test, Y_train, Y_test = train_test_split(X, Y, test_size = 0.2, random_state=2)"
   ]
  },
  {
   "cell_type": "code",
   "execution_count": 313,
   "id": "a21b54f5",
   "metadata": {},
   "outputs": [],
   "source": [
    "# layers\n",
    "model=Sequential()\n",
    "model.add(Dense(units = 9, kernel_initializer = 'uniform', activation = 'relu', input_dim = 9))\n",
    "#model.add(Dense(units = 64, kernel_initializer = 'uniform', activation = 'relu'))\n",
    "model.add(Dense(units = 32, kernel_initializer = 'uniform', activation = 'relu'))\n",
    "model.add(Dense(units = 16, kernel_initializer = 'uniform', activation = 'relu'))\n",
    "model.add(Dense(units = 1, kernel_initializer = 'uniform', activation = 'linear'))"
   ]
  },
  {
   "cell_type": "code",
   "execution_count": 314,
   "id": "d87da162",
   "metadata": {},
   "outputs": [],
   "source": [
    "# Compile the model\n",
    "model.compile(loss='mean_absolute_error',optimizer='adam')"
   ]
  },
  {
   "cell_type": "code",
   "execution_count": 315,
   "id": "e445c837",
   "metadata": {},
   "outputs": [
    {
     "data": {
      "text/plain": [
       "<keras.callbacks.History at 0x22246d6ed50>"
      ]
     },
     "execution_count": 315,
     "metadata": {},
     "output_type": "execute_result"
    }
   ],
   "source": [
    "# Train the model on the training dataset\n",
    "model.fit(X_train, Y_train, epochs=1000, verbose=0)"
   ]
  },
  {
   "cell_type": "code",
   "execution_count": 316,
   "id": "adc9127d",
   "metadata": {},
   "outputs": [
    {
     "name": "stdout",
     "output_type": "stream",
     "text": [
      "8/8 [==============================] - 0s 2ms/step\n"
     ]
    }
   ],
   "source": [
    "# Use the trained model to make predictions on the test dataset\n",
    "Y_pred = model.predict(X_test)"
   ]
  },
  {
   "cell_type": "code",
   "execution_count": 317,
   "id": "4c087926",
   "metadata": {},
   "outputs": [
    {
     "name": "stdout",
     "output_type": "stream",
     "text": [
      "[[ 1.3409573 ]\n",
      " [ 2.2621355 ]\n",
      " [ 3.0893562 ]\n",
      " [ 2.7477787 ]\n",
      " [ 2.3688405 ]\n",
      " [ 3.48687   ]\n",
      " [ 3.846988  ]\n",
      " [ 1.8318517 ]\n",
      " [ 2.797057  ]\n",
      " [ 1.6130493 ]\n",
      " [ 3.2663007 ]\n",
      " [ 3.6371298 ]\n",
      " [ 2.9032662 ]\n",
      " [ 2.7946765 ]\n",
      " [ 2.7562    ]\n",
      " [ 3.8960307 ]\n",
      " [ 2.5319707 ]\n",
      " [ 1.8880101 ]\n",
      " [ 2.0620549 ]\n",
      " [ 2.9671495 ]\n",
      " [ 4.354552  ]\n",
      " [ 4.9396133 ]\n",
      " [ 2.6185234 ]\n",
      " [ 4.593117  ]\n",
      " [ 3.7524161 ]\n",
      " [ 2.875291  ]\n",
      " [ 3.1257207 ]\n",
      " [ 2.9528453 ]\n",
      " [ 2.8756192 ]\n",
      " [ 2.6992674 ]\n",
      " [ 3.0462837 ]\n",
      " [ 2.5875025 ]\n",
      " [ 1.027095  ]\n",
      " [ 3.286888  ]\n",
      " [ 2.7100513 ]\n",
      " [ 2.241404  ]\n",
      " [ 2.972154  ]\n",
      " [ 1.9122266 ]\n",
      " [ 2.8098297 ]\n",
      " [ 5.0510635 ]\n",
      " [ 3.2279289 ]\n",
      " [ 1.8426732 ]\n",
      " [ 3.96366   ]\n",
      " [ 8.625824  ]\n",
      " [ 3.0576468 ]\n",
      " [ 4.834942  ]\n",
      " [ 2.6709917 ]\n",
      " [ 3.4501545 ]\n",
      " [ 7.1546626 ]\n",
      " [ 3.0562918 ]\n",
      " [ 3.5445187 ]\n",
      " [ 2.7021158 ]\n",
      " [ 3.316922  ]\n",
      " [ 2.7100513 ]\n",
      " [ 2.5815308 ]\n",
      " [ 4.2118077 ]\n",
      " [ 2.5095656 ]\n",
      " [ 3.2945468 ]\n",
      " [ 2.7187426 ]\n",
      " [ 2.681382  ]\n",
      " [ 3.4418461 ]\n",
      " [ 2.006131  ]\n",
      " [ 3.3060844 ]\n",
      " [ 2.5754244 ]\n",
      " [ 2.6551757 ]\n",
      " [ 5.1041303 ]\n",
      " [ 2.8309474 ]\n",
      " [ 2.7522547 ]\n",
      " [ 3.164872  ]\n",
      " [ 7.9856677 ]\n",
      " [ 1.089554  ]\n",
      " [ 4.3101573 ]\n",
      " [ 8.479289  ]\n",
      " [ 7.503473  ]\n",
      " [ 3.3334758 ]\n",
      " [ 1.920478  ]\n",
      " [ 8.5461445 ]\n",
      " [ 8.273801  ]\n",
      " [ 2.7412722 ]\n",
      " [ 9.6976    ]\n",
      " [ 2.761521  ]\n",
      " [ 3.1476135 ]\n",
      " [ 2.9458933 ]\n",
      " [ 2.772163  ]\n",
      " [ 2.9266622 ]\n",
      " [ 5.8614793 ]\n",
      " [ 3.6088185 ]\n",
      " [ 3.757688  ]\n",
      " [ 4.790621  ]\n",
      " [ 1.6964368 ]\n",
      " [ 1.8933139 ]\n",
      " [ 2.2098987 ]\n",
      " [ 2.8835948 ]\n",
      " [ 2.1772504 ]\n",
      " [ 2.9616535 ]\n",
      " [ 8.352568  ]\n",
      " [ 4.819407  ]\n",
      " [ 2.3901744 ]\n",
      " [ 8.280711  ]\n",
      " [ 8.485551  ]\n",
      " [ 3.5387802 ]\n",
      " [ 2.8569984 ]\n",
      " [ 3.0414932 ]\n",
      " [ 1.7539768 ]\n",
      " [ 4.8391333 ]\n",
      " [ 2.5708904 ]\n",
      " [ 2.2491784 ]\n",
      " [ 2.980471  ]\n",
      " [ 2.7224066 ]\n",
      " [ 3.3255613 ]\n",
      " [ 2.028392  ]\n",
      " [ 2.6706884 ]\n",
      " [ 4.9033847 ]\n",
      " [ 3.2553923 ]\n",
      " [ 0.88893163]\n",
      " [ 1.4539044 ]\n",
      " [ 3.411308  ]\n",
      " [ 3.1921413 ]\n",
      " [ 3.352499  ]\n",
      " [ 0.97124326]\n",
      " [ 8.345714  ]\n",
      " [ 3.628258  ]\n",
      " [ 3.2114787 ]\n",
      " [ 2.178558  ]\n",
      " [ 3.3734725 ]\n",
      " [ 2.524236  ]\n",
      " [ 3.0715828 ]\n",
      " [ 2.0601373 ]\n",
      " [ 6.9964166 ]\n",
      " [ 3.4160557 ]\n",
      " [ 3.3142486 ]\n",
      " [ 3.1232133 ]\n",
      " [ 3.0363662 ]\n",
      " [ 4.2364817 ]\n",
      " [ 2.957751  ]\n",
      " [ 2.647632  ]\n",
      " [ 2.6494732 ]\n",
      " [ 3.6541722 ]\n",
      " [ 3.3241146 ]\n",
      " [ 2.9157834 ]\n",
      " [ 2.070491  ]\n",
      " [ 3.411308  ]\n",
      " [ 1.7334225 ]\n",
      " [ 6.260279  ]\n",
      " [ 3.8574865 ]\n",
      " [ 3.8006575 ]\n",
      " [ 2.477606  ]\n",
      " [ 1.9633468 ]\n",
      " [ 2.7585244 ]\n",
      " [ 3.1584988 ]\n",
      " [ 6.5525775 ]\n",
      " [ 5.5771527 ]\n",
      " [ 2.9678066 ]\n",
      " [ 1.8050148 ]\n",
      " [ 3.2790504 ]\n",
      " [ 3.2020128 ]\n",
      " [ 3.6693532 ]\n",
      " [ 3.4903934 ]\n",
      " [ 2.502259  ]\n",
      " [ 2.7343528 ]\n",
      " [ 6.3172603 ]\n",
      " [ 3.1760857 ]\n",
      " [ 3.2945468 ]\n",
      " [ 3.6059024 ]\n",
      " [ 2.427347  ]\n",
      " [ 2.6293304 ]\n",
      " [ 4.7610726 ]\n",
      " [ 2.6326573 ]\n",
      " [ 2.9140198 ]\n",
      " [ 2.8952487 ]\n",
      " [ 7.7587924 ]\n",
      " [ 5.962642  ]\n",
      " [ 3.6693532 ]\n",
      " [ 2.534868  ]\n",
      " [ 3.353479  ]\n",
      " [ 3.8031683 ]\n",
      " [ 3.0688167 ]\n",
      " [ 6.695252  ]\n",
      " [ 4.8639817 ]\n",
      " [ 2.788091  ]\n",
      " [ 2.8032482 ]\n",
      " [ 2.149073  ]\n",
      " [ 3.1581028 ]\n",
      " [ 2.5628932 ]\n",
      " [ 2.4678628 ]\n",
      " [ 7.028866  ]\n",
      " [ 2.8448849 ]\n",
      " [ 2.1436927 ]\n",
      " [ 2.176018  ]\n",
      " [ 1.805427  ]\n",
      " [ 8.350591  ]\n",
      " [ 2.5838387 ]\n",
      " [ 3.1893852 ]\n",
      " [10.88255   ]\n",
      " [ 5.922859  ]\n",
      " [ 2.5561664 ]\n",
      " [ 2.2987769 ]\n",
      " [ 2.502259  ]\n",
      " [ 2.4366734 ]\n",
      " [ 8.746528  ]\n",
      " [ 8.350835  ]\n",
      " [ 2.4298363 ]\n",
      " [ 1.4786837 ]\n",
      " [ 2.4507234 ]\n",
      " [ 2.1877954 ]\n",
      " [ 2.797057  ]\n",
      " [ 9.233596  ]\n",
      " [ 2.456526  ]\n",
      " [ 2.7838597 ]\n",
      " [ 1.9803499 ]\n",
      " [ 2.4397888 ]\n",
      " [ 2.2546844 ]\n",
      " [ 3.2599945 ]\n",
      " [ 3.561412  ]\n",
      " [ 1.5084366 ]\n",
      " [ 1.9747697 ]\n",
      " [ 2.8307831 ]\n",
      " [ 2.7545087 ]\n",
      " [ 3.2512524 ]\n",
      " [ 2.2272482 ]\n",
      " [ 7.5280232 ]\n",
      " [ 2.3879735 ]\n",
      " [ 3.0432608 ]\n",
      " [ 4.175609  ]\n",
      " [ 8.604238  ]\n",
      " [ 2.7562    ]\n",
      " [ 1.9362837 ]\n",
      " [ 3.4077117 ]\n",
      " [ 2.67329   ]\n",
      " [ 3.4270191 ]\n",
      " [ 0.8733934 ]\n",
      " [ 3.623744  ]\n",
      " [ 1.0073531 ]\n",
      " [ 3.790346  ]\n",
      " [ 2.1054537 ]\n",
      " [ 3.6012397 ]\n",
      " [ 3.2052035 ]\n",
      " [ 2.87919   ]]\n"
     ]
    }
   ],
   "source": [
    "print(Y_pred)"
   ]
  },
  {
   "cell_type": "code",
   "execution_count": 318,
   "id": "82bf2ad5",
   "metadata": {},
   "outputs": [
    {
     "name": "stdout",
     "output_type": "stream",
     "text": [
      "30/30 [==============================] - 0s 2ms/step\n"
     ]
    }
   ],
   "source": [
    "#Training Scores\n",
    "training_data_prediction = model.predict(X_train)"
   ]
  },
  {
   "cell_type": "code",
   "execution_count": 319,
   "id": "7d04a435",
   "metadata": {},
   "outputs": [
    {
     "data": {
      "text/plain": [
       "1.04227964515315"
      ]
     },
     "execution_count": 319,
     "metadata": {},
     "output_type": "execute_result"
    }
   ],
   "source": [
    "mean_absolute_error(Y_train, training_data_prediction)"
   ]
  },
  {
   "cell_type": "code",
   "execution_count": 320,
   "id": "546a7d0d",
   "metadata": {},
   "outputs": [
    {
     "data": {
      "text/plain": [
       "1.6659081265104194"
      ]
     },
     "execution_count": 320,
     "metadata": {},
     "output_type": "execute_result"
    }
   ],
   "source": [
    "sqrt(mean_squared_error(Y_train, training_data_prediction))"
   ]
  },
  {
   "cell_type": "code",
   "execution_count": 321,
   "id": "45cb0bd7",
   "metadata": {},
   "outputs": [
    {
     "name": "stdout",
     "output_type": "stream",
     "text": [
      "R squared error :  0.44721189999747024\n"
     ]
    }
   ],
   "source": [
    "# R squared error\n",
    "error_score = metrics.r2_score(Y_train, training_data_prediction)\n",
    "print(\"R squared error : \", error_score)"
   ]
  },
  {
   "cell_type": "code",
   "execution_count": 322,
   "id": "9e369a74",
   "metadata": {},
   "outputs": [
    {
     "data": {
      "text/plain": [
       "1.1545699974468777"
      ]
     },
     "execution_count": 322,
     "metadata": {},
     "output_type": "execute_result"
    }
   ],
   "source": [
    "mean_absolute_error(Y_test, Y_pred)"
   ]
  },
  {
   "cell_type": "code",
   "execution_count": 323,
   "id": "71cf80b4",
   "metadata": {},
   "outputs": [],
   "source": [
    "rms = sqrt(mean_squared_error(Y_test, Y_pred))"
   ]
  },
  {
   "cell_type": "code",
   "execution_count": 324,
   "id": "261acf32",
   "metadata": {},
   "outputs": [
    {
     "name": "stdout",
     "output_type": "stream",
     "text": [
      "1.6527758517700633\n"
     ]
    }
   ],
   "source": [
    "print(rms)"
   ]
  },
  {
   "cell_type": "code",
   "execution_count": 325,
   "id": "174ab4fd",
   "metadata": {},
   "outputs": [
    {
     "name": "stdout",
     "output_type": "stream",
     "text": [
      "R squared error :  0.4512151565017477\n"
     ]
    }
   ],
   "source": [
    "# R squared error\n",
    "error_score = metrics.r2_score(Y_test, Y_pred)\n",
    "print(\"R squared error : \", error_score)"
   ]
  },
  {
   "cell_type": "code",
   "execution_count": 326,
   "id": "fcb85731",
   "metadata": {},
   "outputs": [],
   "source": [
    "def smape(actual, predicted):\n",
    "    \"\"\"\n",
    "    Calculate SMAPE (Symmetric Mean Absolute Percentage Error) for actual and predicted values.\n",
    "    \"\"\"\n",
    "    actual = np.array(actual)\n",
    "    predicted = np.array(predicted)\n",
    "    return np.mean((np.abs(actual - predicted) / (np.abs(actual) + np.abs(predicted))) * 2) * 100"
   ]
  },
  {
   "cell_type": "code",
   "execution_count": 327,
   "id": "634b1ea2",
   "metadata": {},
   "outputs": [
    {
     "name": "stdout",
     "output_type": "stream",
     "text": [
      "SMAPE score: 36.561884758063314\n"
     ]
    }
   ],
   "source": [
    "smape_score = smape(Y_test, y_pred)\n",
    "print(\"SMAPE score:\", smape_score)"
   ]
  },
  {
   "cell_type": "code",
   "execution_count": 328,
   "id": "8d77ded2",
   "metadata": {},
   "outputs": [
    {
     "data": {
      "image/png": "[encoded data removed]",
      "text/plain": [
       "<Figure size 640x480 with 1 Axes>"
      ]
     },
     "metadata": {},
     "output_type": "display_data"
    }
   ],
   "source": [
    "#Visualising\n",
    "sns.regplot(x=Y_test, y=Y_pred)\n",
    "plt.xlabel(\"Actual\")\n",
    "plt.ylabel('Predicted')\n",
    "plt.title(\"ACtual vs predicted\")\n",
    "plt.show()"
   ]
  },
  {
   "cell_type": "markdown",
   "id": "3c846ac2",
   "metadata": {},
   "source": [
    "#KNN"
   ]
  },
  {
   "cell_type": "code",
   "execution_count": 329,
   "id": "d3b0c47a",
   "metadata": {},
   "outputs": [],
   "source": [
    "from sklearn.neighbors import KNeighborsRegressor"
   ]
  },
  {
   "cell_type": "code",
   "execution_count": 330,
   "id": "9c779563",
   "metadata": {},
   "outputs": [],
   "source": [
    "k = 6\n",
    "knn = KNeighborsRegressor(n_neighbors=k)\n",
    "knn.fit(X_train, Y_train)\n",
    "knn_pred = knn.predict(X_test)"
   ]
  },
  {
   "cell_type": "code",
   "execution_count": 331,
   "id": "283a64eb",
   "metadata": {},
   "outputs": [],
   "source": [
    "#Train Scores\n",
    "training_data_prediction = knn.predict(X_train)"
   ]
  },
  {
   "cell_type": "code",
   "execution_count": 332,
   "id": "3dabe5f7",
   "metadata": {},
   "outputs": [
    {
     "data": {
      "text/plain": [
       "0.9979880827199439"
      ]
     },
     "execution_count": 332,
     "metadata": {},
     "output_type": "execute_result"
    }
   ],
   "source": [
    "mean_absolute_error(Y_train, training_data_prediction)"
   ]
  },
  {
   "cell_type": "code",
   "execution_count": 333,
   "id": "1288f0dc",
   "metadata": {},
   "outputs": [
    {
     "data": {
      "text/plain": [
       "1.497024472119616"
      ]
     },
     "execution_count": 333,
     "metadata": {},
     "output_type": "execute_result"
    }
   ],
   "source": [
    "sqrt(mean_squared_error(Y_train, training_data_prediction))"
   ]
  },
  {
   "cell_type": "code",
   "execution_count": 334,
   "id": "ca14c2fd",
   "metadata": {},
   "outputs": [
    {
     "name": "stdout",
     "output_type": "stream",
     "text": [
      "R squared error :  0.5536100672184254\n"
     ]
    }
   ],
   "source": [
    "# R squared error\n",
    "error_score = metrics.r2_score(Y_train, training_data_prediction)\n",
    "print(\"R squared error : \", error_score)"
   ]
  },
  {
   "cell_type": "code",
   "execution_count": 335,
   "id": "480401bb",
   "metadata": {},
   "outputs": [
    {
     "name": "stdout",
     "output_type": "stream",
     "text": [
      "SMAPE score: 34.00070619869468\n"
     ]
    }
   ],
   "source": [
    "smape_score = smape(Y_train, training_data_prediction)\n",
    "print(\"SMAPE score:\", smape_score)"
   ]
  },
  {
   "cell_type": "code",
   "execution_count": 336,
   "id": "7de14caf",
   "metadata": {},
   "outputs": [
    {
     "data": {
      "text/plain": [
       "1.1246008403361345"
      ]
     },
     "execution_count": 336,
     "metadata": {},
     "output_type": "execute_result"
    }
   ],
   "source": [
    "#test Scores\n",
    "mean_absolute_error(Y_test, knn_pred)"
   ]
  },
  {
   "cell_type": "code",
   "execution_count": 337,
   "id": "44f83e3b",
   "metadata": {},
   "outputs": [
    {
     "data": {
      "text/plain": [
       "1.552071418655977"
      ]
     },
     "execution_count": 337,
     "metadata": {},
     "output_type": "execute_result"
    }
   ],
   "source": [
    "sqrt(mean_squared_error(Y_test, knn_pred))"
   ]
  },
  {
   "cell_type": "code",
   "execution_count": 338,
   "id": "51e6b44e",
   "metadata": {},
   "outputs": [
    {
     "name": "stdout",
     "output_type": "stream",
     "text": [
      "R squared error :  0.51605323224311\n"
     ]
    }
   ],
   "source": [
    "# R squared error\n",
    "error_score = metrics.r2_score(Y_test, knn_pred)\n",
    "print(\"R squared error : \", error_score)"
   ]
  },
  {
   "cell_type": "code",
   "execution_count": 339,
   "id": "cb401efd",
   "metadata": {},
   "outputs": [
    {
     "name": "stdout",
     "output_type": "stream",
     "text": [
      "SMAPE score: 36.75934801395791\n"
     ]
    }
   ],
   "source": [
    "smape_score = smape(Y_test, knn_pred)\n",
    "print(\"SMAPE score:\", smape_score)"
   ]
  },
  {
   "cell_type": "code",
   "execution_count": 340,
   "id": "2e390666",
   "metadata": {},
   "outputs": [],
   "source": [
    "from sklearn.ensemble import AdaBoostRegressor"
   ]
  },
  {
   "cell_type": "code",
   "execution_count": 341,
   "id": "b3a0187e",
   "metadata": {},
   "outputs": [],
   "source": [
    "k = 5\n",
    "knn = KNeighborsRegressor(n_neighbors=k)\n",
    "adaboost = AdaBoostRegressor(estimator=knn, n_estimators=50, learning_rate=0.1)\n",
    "adaboost.fit(X_train, Y_train)\n",
    "ada_pred = adaboost.predict(X_test)"
   ]
  },
  {
   "cell_type": "code",
   "execution_count": 342,
   "id": "0b1e7d13",
   "metadata": {},
   "outputs": [],
   "source": [
    "#Train Scores\n",
    "training_data_prediction = adaboost.predict(X_train)"
   ]
  },
  {
   "cell_type": "code",
   "execution_count": 343,
   "id": "dfc53a00",
   "metadata": {},
   "outputs": [
    {
     "data": {
      "text/plain": [
       "0.8759558359621451"
      ]
     },
     "execution_count": 343,
     "metadata": {},
     "output_type": "execute_result"
    }
   ],
   "source": [
    "mean_absolute_error(Y_train, training_data_prediction)"
   ]
  },
  {
   "cell_type": "code",
   "execution_count": 344,
   "id": "24b5a705",
   "metadata": {},
   "outputs": [
    {
     "data": {
      "text/plain": [
       "1.1596682490908885"
      ]
     },
     "execution_count": 344,
     "metadata": {},
     "output_type": "execute_result"
    }
   ],
   "source": [
    "sqrt(mean_squared_error(Y_train, training_data_prediction))"
   ]
  },
  {
   "cell_type": "code",
   "execution_count": 345,
   "id": "25a80795",
   "metadata": {},
   "outputs": [
    {
     "name": "stdout",
     "output_type": "stream",
     "text": [
      "R squared error :  0.7321299707443064\n"
     ]
    }
   ],
   "source": [
    "# R squared error\n",
    "error_score = metrics.r2_score(Y_train, training_data_prediction)\n",
    "print(\"R squared error : \", error_score)"
   ]
  },
  {
   "cell_type": "code",
   "execution_count": 346,
   "id": "7388bed0",
   "metadata": {},
   "outputs": [
    {
     "name": "stdout",
     "output_type": "stream",
     "text": [
      "SMAPE score: 31.751326970702443\n"
     ]
    }
   ],
   "source": [
    "smape_score = smape(Y_train, training_data_prediction)\n",
    "print(\"SMAPE score:\", smape_score)"
   ]
  },
  {
   "cell_type": "code",
   "execution_count": 347,
   "id": "e28331c5",
   "metadata": {},
   "outputs": [
    {
     "data": {
      "text/plain": [
       "1.160050420168067"
      ]
     },
     "execution_count": 347,
     "metadata": {},
     "output_type": "execute_result"
    }
   ],
   "source": [
    "#Test Scores\n",
    "mean_absolute_error(Y_test, ada_pred)"
   ]
  },
  {
   "cell_type": "code",
   "execution_count": 348,
   "id": "8efa12d5",
   "metadata": {},
   "outputs": [
    {
     "data": {
      "text/plain": [
       "1.6486535377073492"
      ]
     },
     "execution_count": 348,
     "metadata": {},
     "output_type": "execute_result"
    }
   ],
   "source": [
    "sqrt(mean_squared_error(Y_test, ada_pred))"
   ]
  },
  {
   "cell_type": "code",
   "execution_count": 349,
   "id": "1aa2be3f",
   "metadata": {},
   "outputs": [
    {
     "name": "stdout",
     "output_type": "stream",
     "text": [
      "R squared error :  0.4539492746624948\n"
     ]
    }
   ],
   "source": [
    "# R squared error\n",
    "error_score = metrics.r2_score(Y_test, ada_pred)\n",
    "print(\"R squared error : \", error_score)"
   ]
  },
  {
   "cell_type": "code",
   "execution_count": 350,
   "id": "25b19073",
   "metadata": {},
   "outputs": [
    {
     "name": "stdout",
     "output_type": "stream",
     "text": [
      "SMAPE score: 37.0948813091921\n"
     ]
    }
   ],
   "source": [
    "smape_score = smape(Y_test, ada_pred)\n",
    "print(\"SMAPE score:\", smape_score)"
   ]
  },
  {
   "cell_type": "code",
   "execution_count": 351,
   "id": "470470c9",
   "metadata": {},
   "outputs": [
    {
     "data": {
      "image/png": "[encoded data removed]",
      "text/plain": [
       "<Figure size 640x480 with 1 Axes>"
      ]
     },
     "metadata": {},
     "output_type": "display_data"
    }
   ],
   "source": [
    "#Visualising\n",
    "sns.regplot(x=Y_test, y=ada_pred)\n",
    "plt.xlabel(\"Actual\")\n",
    "plt.ylabel('Predicted')\n",
    "plt.title(\"ACtual vs predicted\")\n",
    "plt.show()"
   ]
  },
  {
   "cell_type": "markdown",
   "id": "def1e20e",
   "metadata": {},
   "source": [
    "# Ensemble Learning"
   ]
  },
  {
   "cell_type": "code",
   "execution_count": 352,
   "id": "b39a9400",
   "metadata": {
    "scrolled": true
   },
   "outputs": [
    {
     "data": {
      "text/html": [
       "<style>#sk-container-id-22 {color: black;background-color: white;}#sk-container-id-22 pre{padding: 0;}#sk-container-id-22 div.sk-toggleable {background-color: white;}#sk-container-id-22 label.sk-toggleable__label {cursor: pointer;display: block;width: 100%;margin-bottom: 0;padding: 0.3em;box-sizing: border-box;text-align: center;}#sk-container-id-22 label.sk-toggleable__label-arrow:before {content: \"▸\";float: left;margin-right: 0.25em;color: #696969;}#sk-container-id-22 label.sk-toggleable__label-arrow:hover:before {color: black;}#sk-container-id-22 div.sk-estimator:hover label.sk-toggleable__label-arrow:before {color: black;}#sk-container-id-22 div.sk-toggleable__content {max-height: 0;max-width: 0;overflow: hidden;text-align: left;background-color: #f0f8ff;}#sk-container-id-22 div.sk-toggleable__content pre {margin: 0.2em;color: black;border-radius: 0.25em;background-color: #f0f8ff;}#sk-container-id-22 input.sk-toggleable__control:checked~div.sk-toggleable__content {max-height: 200px;max-width: 100%;overflow: auto;}#sk-container-id-22 input.sk-toggleable__control:checked~label.sk-toggleable__label-arrow:before {content: \"▾\";}#sk-container-id-22 div.sk-estimator input.sk-toggleable__control:checked~label.sk-toggleable__label {background-color: #d4ebff;}#sk-container-id-22 div.sk-label input.sk-toggleable__control:checked~label.sk-toggleable__label {background-color: #d4ebff;}#sk-container-id-22 input.sk-hidden--visually {border: 0;clip: rect(1px 1px 1px 1px);clip: rect(1px, 1px, 1px, 1px);height: 1px;margin: -1px;overflow: hidden;padding: 0;position: absolute;width: 1px;}#sk-container-id-22 div.sk-estimator {font-family: monospace;background-color: #f0f8ff;border: 1px dotted black;border-radius: 0.25em;box-sizing: border-box;margin-bottom: 0.5em;}#sk-container-id-22 div.sk-estimator:hover {background-color: #d4ebff;}#sk-container-id-22 div.sk-parallel-item::after {content: \"\";width: 100%;border-bottom: 1px solid gray;flex-grow: 1;}#sk-container-id-22 div.sk-label:hover label.sk-toggleable__label {background-color: #d4ebff;}#sk-container-id-22 div.sk-serial::before {content: \"\";position: absolute;border-left: 1px solid gray;box-sizing: border-box;top: 0;bottom: 0;left: 50%;z-index: 0;}#sk-container-id-22 div.sk-serial {display: flex;flex-direction: column;align-items: center;background-color: white;padding-right: 0.2em;padding-left: 0.2em;position: relative;}#sk-container-id-22 div.sk-item {position: relative;z-index: 1;}#sk-container-id-22 div.sk-parallel {display: flex;align-items: stretch;justify-content: center;background-color: white;position: relative;}#sk-container-id-22 div.sk-item::before, #sk-container-id-22 div.sk-parallel-item::before {content: \"\";position: absolute;border-left: 1px solid gray;box-sizing: border-box;top: 0;bottom: 0;left: 50%;z-index: -1;}#sk-container-id-22 div.sk-parallel-item {display: flex;flex-direction: column;z-index: 1;position: relative;background-color: white;}#sk-container-id-22 div.sk-parallel-item:first-child::after {align-self: flex-end;width: 50%;}#sk-container-id-22 div.sk-parallel-item:last-child::after {align-self: flex-start;width: 50%;}#sk-container-id-22 div.sk-parallel-item:only-child::after {width: 0;}#sk-container-id-22 div.sk-dashed-wrapped {border: 1px dashed gray;margin: 0 0.4em 0.5em 0.4em;box-sizing: border-box;padding-bottom: 0.4em;background-color: white;}#sk-container-id-22 div.sk-label label {font-family: monospace;font-weight: bold;display: inline-block;line-height: 1.2em;}#sk-container-id-22 div.sk-label-container {text-align: center;}#sk-container-id-22 div.sk-container {/* jupyter's `normalize.less` sets `[hidden] { display: none; }` but bootstrap.min.css set `[hidden] { display: none !important; }` so we also need the `!important` here to be able to override the default hidden behavior on the sphinx rendered scikit-learn.org. See: https://github.com/scikit-learn/scikit-learn/issues/21755 */display: inline-block !important;position: relative;}#sk-container-id-22 div.sk-text-repr-fallback {display: none;}</style><div id=\"sk-container-id-22\" class=\"sk-top-container\"><div class=\"sk-text-repr-fallback\"><pre>StackingRegressor(estimators=[(&#x27;rf&#x27;, RandomForestRegressor()),\n",
       "                              (&#x27;svm&#x27;, SVR(C=10, gamma=0.1))])</pre><b>In a Jupyter environment, please rerun this cell to show the HTML representation or trust the notebook. <br />On GitHub, the HTML representation is unable to render, please try loading this page with nbviewer.org.</b></div><div class=\"sk-container\" hidden><div class=\"sk-item sk-dashed-wrapped\"><div class=\"sk-label-container\"><div class=\"sk-label sk-toggleable\"><input class=\"sk-toggleable__control sk-hidden--visually\" id=\"sk-estimator-id-22\" type=\"checkbox\" ><label for=\"sk-estimator-id-22\" class=\"sk-toggleable__label sk-toggleable__label-arrow\">StackingRegressor</label><div class=\"sk-toggleable__content\"><pre>StackingRegressor(estimators=[(&#x27;rf&#x27;, RandomForestRegressor()),\n",
       "                              (&#x27;svm&#x27;, SVR(C=10, gamma=0.1))])</pre></div></div></div><div class=\"sk-serial\"><div class=\"sk-item\"><div class=\"sk-parallel\"><div class=\"sk-parallel-item\"><div class=\"sk-item\"><div class=\"sk-label-container\"><div class=\"sk-label sk-toggleable\"><label>rf</label></div></div><div class=\"sk-serial\"><div class=\"sk-item\"><div class=\"sk-estimator sk-toggleable\"><input class=\"sk-toggleable__control sk-hidden--visually\" id=\"sk-estimator-id-23\" type=\"checkbox\" ><label for=\"sk-estimator-id-23\" class=\"sk-toggleable__label sk-toggleable__label-arrow\">RandomForestRegressor</label><div class=\"sk-toggleable__content\"><pre>RandomForestRegressor()</pre></div></div></div></div></div></div><div class=\"sk-parallel-item\"><div class=\"sk-item\"><div class=\"sk-label-container\"><div class=\"sk-label sk-toggleable\"><label>svm</label></div></div><div class=\"sk-serial\"><div class=\"sk-item\"><div class=\"sk-estimator sk-toggleable\"><input class=\"sk-toggleable__control sk-hidden--visually\" id=\"sk-estimator-id-24\" type=\"checkbox\" ><label for=\"sk-estimator-id-24\" class=\"sk-toggleable__label sk-toggleable__label-arrow\">SVR</label><div class=\"sk-toggleable__content\"><pre>SVR(C=10, gamma=0.1)</pre></div></div></div></div></div></div></div></div><div class=\"sk-item\"><div class=\"sk-parallel\"><div class=\"sk-parallel-item\"><div class=\"sk-item\"><div class=\"sk-label-container\"><div class=\"sk-label sk-toggleable\"><label>final_estimator</label></div></div><div class=\"sk-serial\"><div class=\"sk-item\"><div class=\"sk-estimator sk-toggleable\"><input class=\"sk-toggleable__control sk-hidden--visually\" id=\"sk-estimator-id-25\" type=\"checkbox\" ><label for=\"sk-estimator-id-25\" class=\"sk-toggleable__label sk-toggleable__label-arrow\">RidgeCV</label><div class=\"sk-toggleable__content\"><pre>RidgeCV()</pre></div></div></div></div></div></div></div></div></div></div></div></div>"
      ],
      "text/plain": [
       "StackingRegressor(estimators=[('rf', RandomForestRegressor()),\n",
       "                              ('svm', SVR(C=10, gamma=0.1))])"
      ]
     },
     "execution_count": 352,
     "metadata": {},
     "output_type": "execute_result"
    }
   ],
   "source": [
    "stack_regressor = StackingRegressor(estimators=[('rf', regressor),('svm',svr)])\n",
    "stack_regressor.fit(X_train, Y_train)"
   ]
  },
  {
   "cell_type": "code",
   "execution_count": 353,
   "id": "e7602ef0",
   "metadata": {},
   "outputs": [],
   "source": [
    "pred=stack_regressor.predict(X_test)"
   ]
  },
  {
   "cell_type": "code",
   "execution_count": 354,
   "id": "174949d6",
   "metadata": {},
   "outputs": [
    {
     "name": "stdout",
     "output_type": "stream",
     "text": [
      "[2.72633191 2.60544607 2.47406031 2.54464103 1.7479699  2.90536198\n",
      " 2.87430249 2.24503787 3.10659764 2.02811057 3.48352702 3.10272032\n",
      " 2.42467617 2.28238239 2.94321209 2.72057965 2.85316202 2.53027332\n",
      " 2.24926324 2.82460682 3.43974185 5.97250556 2.52478557 4.06357889\n",
      " 4.30208274 3.15241338 3.48371425 3.14930556 2.9000206  2.89771494\n",
      " 2.96718928 2.84300883 1.99810718 2.95099575 2.36528048 2.79497177\n",
      " 3.0050199  1.98165189 3.31624404 6.27453307 3.6097708  2.91265946\n",
      " 3.4980875  7.08618302 2.80596899 5.57560443 2.80263137 2.88067114\n",
      " 6.88239661 3.08292665 3.13601578 2.74152825 3.41716519 2.36528048\n",
      " 2.05569427 3.71227663 2.80686354 3.5566399  2.81502493 2.65118078\n",
      " 3.3422972  2.25446817 3.09075829 2.78779125 2.99108082 6.91768022\n",
      " 2.88625554 3.3185651  3.02657825 7.53344087 1.74443184 3.67157893\n",
      " 7.54649772 7.41671615 3.2578434  2.95256718 7.11369157 6.74094751\n",
      " 2.40995865 8.09895093 3.21014258 3.15474423 3.19080454 3.16550645\n",
      " 2.791106   5.66732057 3.79262575 4.00465804 5.78046713 2.1173253\n",
      " 2.49772695 2.65803348 3.08493629 3.25880961 3.3676804  7.46836628\n",
      " 6.80458042 2.11010442 6.74114574 6.94371237 4.27962569 3.2545246\n",
      " 3.04395632 2.23363297 6.80795078 2.14257944 2.09897825 2.96733594\n",
      " 2.80436234 3.10063108 2.63837032 3.25874716 7.14918534 3.19831816\n",
      " 1.59653197 2.08646613 3.52486414 3.05778385 3.4167868  1.89753258\n",
      " 7.07100037 3.302367   2.90054602 2.59001242 3.239028   2.7545806\n",
      " 2.93205924 2.65727269 6.15200693 3.07992161 3.27838487 3.18047379\n",
      " 3.12632321 3.66638232 3.38029053 2.97819238 2.44532086 3.28557583\n",
      " 3.12730962 2.66900776 2.35287389 3.52486414 2.33474875 5.91962205\n",
      " 3.53803705 3.77607623 2.8045239  2.49376778 3.17863686 3.47129282\n",
      " 5.11425055 5.38479374 2.9922606  2.38444957 3.15863762 3.08996606\n",
      " 3.46068413 3.15529837 2.78950743 2.84869236 6.66831616 3.60843506\n",
      " 3.5566399  3.29964958 2.41317543 2.50138742 4.56090657 2.78660028\n",
      " 3.07901834 3.20079107 6.24890551 5.9336704  3.46068413 2.81579321\n",
      " 3.23727957 3.27638312 3.13264481 7.01111637 4.07276861 2.80609855\n",
      " 2.38598214 2.66889847 2.78359106 2.79384225 2.73750077 6.83811388\n",
      " 2.81228134 2.19703579 2.7785938  2.59964192 7.49283904 2.75019113\n",
      " 2.43679811 8.65622603 5.72324895 2.78696502 2.77937561 2.78950743\n",
      " 2.74878293 7.81538559 6.99492987 3.12741033 2.22376713 2.84292028\n",
      " 2.41616712 3.10659764 8.08739515 3.12958587 3.04905775 2.41433057\n",
      " 2.7741668  2.72482737 2.88355257 3.64074028 2.26797911 2.59661317\n",
      " 3.23857951 3.31854281 3.27123523 2.75753093 7.42064676 2.62601777\n",
      " 3.21944385 3.44518231 7.15032744 2.94321209 2.10730778 2.77831154\n",
      " 2.78128057 3.26022573 1.46493843 3.10617461 2.15045033 3.30430799\n",
      " 2.81129492 3.48100702 3.28139644 2.75114381]\n"
     ]
    }
   ],
   "source": [
    "print(pred)"
   ]
  },
  {
   "cell_type": "code",
   "execution_count": 355,
   "id": "e0952529",
   "metadata": {},
   "outputs": [],
   "source": [
    "#Train Scores\n",
    "training_data_prediction = stack_regressor.predict(X_train)"
   ]
  },
  {
   "cell_type": "code",
   "execution_count": 356,
   "id": "9aa2e6c1",
   "metadata": {},
   "outputs": [
    {
     "data": {
      "text/plain": [
       "0.8887664657271578"
      ]
     },
     "execution_count": 356,
     "metadata": {},
     "output_type": "execute_result"
    }
   ],
   "source": [
    "mean_absolute_error(Y_train, training_data_prediction)"
   ]
  },
  {
   "cell_type": "code",
   "execution_count": 357,
   "id": "3ac3f1ae",
   "metadata": {},
   "outputs": [
    {
     "data": {
      "text/plain": [
       "1.3235166844140291"
      ]
     },
     "execution_count": 357,
     "metadata": {},
     "output_type": "execute_result"
    }
   ],
   "source": [
    "sqrt(mean_squared_error(Y_train, training_data_prediction))"
   ]
  },
  {
   "cell_type": "code",
   "execution_count": 358,
   "id": "15210031",
   "metadata": {},
   "outputs": [
    {
     "name": "stdout",
     "output_type": "stream",
     "text": [
      "R squared error :  0.6510883804275138\n"
     ]
    }
   ],
   "source": [
    "# R squared error\n",
    "error_score = metrics.r2_score(Y_train, training_data_prediction)\n",
    "print(\"R squared error : \", error_score)"
   ]
  },
  {
   "cell_type": "code",
   "execution_count": 359,
   "id": "371c67b0",
   "metadata": {},
   "outputs": [
    {
     "name": "stdout",
     "output_type": "stream",
     "text": [
      "SMAPE score: 31.20596224024522\n"
     ]
    }
   ],
   "source": [
    "smape_score = smape(Y_train, training_data_prediction)\n",
    "print(\"SMAPE score:\", smape_score)"
   ]
  },
  {
   "cell_type": "code",
   "execution_count": 360,
   "id": "25b4e49e",
   "metadata": {},
   "outputs": [
    {
     "data": {
      "text/plain": [
       "1.101376341170307"
      ]
     },
     "execution_count": 360,
     "metadata": {},
     "output_type": "execute_result"
    }
   ],
   "source": [
    "#Test Scores\n",
    "mean_absolute_error(Y_test, pred)"
   ]
  },
  {
   "cell_type": "code",
   "execution_count": 361,
   "id": "01211516",
   "metadata": {},
   "outputs": [],
   "source": [
    "rms = sqrt(mean_squared_error(Y_test, pred))"
   ]
  },
  {
   "cell_type": "code",
   "execution_count": 362,
   "id": "988c1269",
   "metadata": {},
   "outputs": [
    {
     "name": "stdout",
     "output_type": "stream",
     "text": [
      "1.4930719784256534\n"
     ]
    }
   ],
   "source": [
    "print(rms)"
   ]
  },
  {
   "cell_type": "code",
   "execution_count": 363,
   "id": "2523bc8b",
   "metadata": {},
   "outputs": [
    {
     "name": "stdout",
     "output_type": "stream",
     "text": [
      "R squared error :  0.5521468014402603\n"
     ]
    }
   ],
   "source": [
    "# R squared error\n",
    "error_score = metrics.r2_score(Y_test, pred)\n",
    "print(\"R squared error : \", error_score)"
   ]
  },
  {
   "cell_type": "code",
   "execution_count": 364,
   "id": "492ba673",
   "metadata": {},
   "outputs": [
    {
     "name": "stdout",
     "output_type": "stream",
     "text": [
      "SMAPE score: 35.86690043402817\n"
     ]
    }
   ],
   "source": [
    "smape_score = smape(Y_test, pred)\n",
    "print(\"SMAPE score:\", smape_score)"
   ]
  },
  {
   "cell_type": "code",
   "execution_count": 365,
   "id": "ed1ab51e",
   "metadata": {},
   "outputs": [
    {
     "data": {
      "text/html": [
       "<style>#sk-container-id-23 {color: black;background-color: white;}#sk-container-id-23 pre{padding: 0;}#sk-container-id-23 div.sk-toggleable {background-color: white;}#sk-container-id-23 label.sk-toggleable__label {cursor: pointer;display: block;width: 100%;margin-bottom: 0;padding: 0.3em;box-sizing: border-box;text-align: center;}#sk-container-id-23 label.sk-toggleable__label-arrow:before {content: \"▸\";float: left;margin-right: 0.25em;color: #696969;}#sk-container-id-23 label.sk-toggleable__label-arrow:hover:before {color: black;}#sk-container-id-23 div.sk-estimator:hover label.sk-toggleable__label-arrow:before {color: black;}#sk-container-id-23 div.sk-toggleable__content {max-height: 0;max-width: 0;overflow: hidden;text-align: left;background-color: #f0f8ff;}#sk-container-id-23 div.sk-toggleable__content pre {margin: 0.2em;color: black;border-radius: 0.25em;background-color: #f0f8ff;}#sk-container-id-23 input.sk-toggleable__control:checked~div.sk-toggleable__content {max-height: 200px;max-width: 100%;overflow: auto;}#sk-container-id-23 input.sk-toggleable__control:checked~label.sk-toggleable__label-arrow:before {content: \"▾\";}#sk-container-id-23 div.sk-estimator input.sk-toggleable__control:checked~label.sk-toggleable__label {background-color: #d4ebff;}#sk-container-id-23 div.sk-label input.sk-toggleable__control:checked~label.sk-toggleable__label {background-color: #d4ebff;}#sk-container-id-23 input.sk-hidden--visually {border: 0;clip: rect(1px 1px 1px 1px);clip: rect(1px, 1px, 1px, 1px);height: 1px;margin: -1px;overflow: hidden;padding: 0;position: absolute;width: 1px;}#sk-container-id-23 div.sk-estimator {font-family: monospace;background-color: #f0f8ff;border: 1px dotted black;border-radius: 0.25em;box-sizing: border-box;margin-bottom: 0.5em;}#sk-container-id-23 div.sk-estimator:hover {background-color: #d4ebff;}#sk-container-id-23 div.sk-parallel-item::after {content: \"\";width: 100%;border-bottom: 1px solid gray;flex-grow: 1;}#sk-container-id-23 div.sk-label:hover label.sk-toggleable__label {background-color: #d4ebff;}#sk-container-id-23 div.sk-serial::before {content: \"\";position: absolute;border-left: 1px solid gray;box-sizing: border-box;top: 0;bottom: 0;left: 50%;z-index: 0;}#sk-container-id-23 div.sk-serial {display: flex;flex-direction: column;align-items: center;background-color: white;padding-right: 0.2em;padding-left: 0.2em;position: relative;}#sk-container-id-23 div.sk-item {position: relative;z-index: 1;}#sk-container-id-23 div.sk-parallel {display: flex;align-items: stretch;justify-content: center;background-color: white;position: relative;}#sk-container-id-23 div.sk-item::before, #sk-container-id-23 div.sk-parallel-item::before {content: \"\";position: absolute;border-left: 1px solid gray;box-sizing: border-box;top: 0;bottom: 0;left: 50%;z-index: -1;}#sk-container-id-23 div.sk-parallel-item {display: flex;flex-direction: column;z-index: 1;position: relative;background-color: white;}#sk-container-id-23 div.sk-parallel-item:first-child::after {align-self: flex-end;width: 50%;}#sk-container-id-23 div.sk-parallel-item:last-child::after {align-self: flex-start;width: 50%;}#sk-container-id-23 div.sk-parallel-item:only-child::after {width: 0;}#sk-container-id-23 div.sk-dashed-wrapped {border: 1px dashed gray;margin: 0 0.4em 0.5em 0.4em;box-sizing: border-box;padding-bottom: 0.4em;background-color: white;}#sk-container-id-23 div.sk-label label {font-family: monospace;font-weight: bold;display: inline-block;line-height: 1.2em;}#sk-container-id-23 div.sk-label-container {text-align: center;}#sk-container-id-23 div.sk-container {/* jupyter's `normalize.less` sets `[hidden] { display: none; }` but bootstrap.min.css set `[hidden] { display: none !important; }` so we also need the `!important` here to be able to override the default hidden behavior on the sphinx rendered scikit-learn.org. See: https://github.com/scikit-learn/scikit-learn/issues/21755 */display: inline-block !important;position: relative;}#sk-container-id-23 div.sk-text-repr-fallback {display: none;}</style><div id=\"sk-container-id-23\" class=\"sk-top-container\"><div class=\"sk-text-repr-fallback\"><pre>StackingRegressor(estimators=[(&#x27;rf&#x27;, RandomForestRegressor()),\n",
       "                              (&#x27;knn&#x27;, KNeighborsRegressor()),\n",
       "                              (&#x27;svm&#x27;, SVR(C=10, gamma=0.1))])</pre><b>In a Jupyter environment, please rerun this cell to show the HTML representation or trust the notebook. <br />On GitHub, the HTML representation is unable to render, please try loading this page with nbviewer.org.</b></div><div class=\"sk-container\" hidden><div class=\"sk-item sk-dashed-wrapped\"><div class=\"sk-label-container\"><div class=\"sk-label sk-toggleable\"><input class=\"sk-toggleable__control sk-hidden--visually\" id=\"sk-estimator-id-26\" type=\"checkbox\" ><label for=\"sk-estimator-id-26\" class=\"sk-toggleable__label sk-toggleable__label-arrow\">StackingRegressor</label><div class=\"sk-toggleable__content\"><pre>StackingRegressor(estimators=[(&#x27;rf&#x27;, RandomForestRegressor()),\n",
       "                              (&#x27;knn&#x27;, KNeighborsRegressor()),\n",
       "                              (&#x27;svm&#x27;, SVR(C=10, gamma=0.1))])</pre></div></div></div><div class=\"sk-serial\"><div class=\"sk-item\"><div class=\"sk-parallel\"><div class=\"sk-parallel-item\"><div class=\"sk-item\"><div class=\"sk-label-container\"><div class=\"sk-label sk-toggleable\"><label>rf</label></div></div><div class=\"sk-serial\"><div class=\"sk-item\"><div class=\"sk-estimator sk-toggleable\"><input class=\"sk-toggleable__control sk-hidden--visually\" id=\"sk-estimator-id-27\" type=\"checkbox\" ><label for=\"sk-estimator-id-27\" class=\"sk-toggleable__label sk-toggleable__label-arrow\">RandomForestRegressor</label><div class=\"sk-toggleable__content\"><pre>RandomForestRegressor()</pre></div></div></div></div></div></div><div class=\"sk-parallel-item\"><div class=\"sk-item\"><div class=\"sk-label-container\"><div class=\"sk-label sk-toggleable\"><label>knn</label></div></div><div class=\"sk-serial\"><div class=\"sk-item\"><div class=\"sk-estimator sk-toggleable\"><input class=\"sk-toggleable__control sk-hidden--visually\" id=\"sk-estimator-id-28\" type=\"checkbox\" ><label for=\"sk-estimator-id-28\" class=\"sk-toggleable__label sk-toggleable__label-arrow\">KNeighborsRegressor</label><div class=\"sk-toggleable__content\"><pre>KNeighborsRegressor()</pre></div></div></div></div></div></div><div class=\"sk-parallel-item\"><div class=\"sk-item\"><div class=\"sk-label-container\"><div class=\"sk-label sk-toggleable\"><label>svm</label></div></div><div class=\"sk-serial\"><div class=\"sk-item\"><div class=\"sk-estimator sk-toggleable\"><input class=\"sk-toggleable__control sk-hidden--visually\" id=\"sk-estimator-id-29\" type=\"checkbox\" ><label for=\"sk-estimator-id-29\" class=\"sk-toggleable__label sk-toggleable__label-arrow\">SVR</label><div class=\"sk-toggleable__content\"><pre>SVR(C=10, gamma=0.1)</pre></div></div></div></div></div></div></div></div><div class=\"sk-item\"><div class=\"sk-parallel\"><div class=\"sk-parallel-item\"><div class=\"sk-item\"><div class=\"sk-label-container\"><div class=\"sk-label sk-toggleable\"><label>final_estimator</label></div></div><div class=\"sk-serial\"><div class=\"sk-item\"><div class=\"sk-estimator sk-toggleable\"><input class=\"sk-toggleable__control sk-hidden--visually\" id=\"sk-estimator-id-30\" type=\"checkbox\" ><label for=\"sk-estimator-id-30\" class=\"sk-toggleable__label sk-toggleable__label-arrow\">RidgeCV</label><div class=\"sk-toggleable__content\"><pre>RidgeCV()</pre></div></div></div></div></div></div></div></div></div></div></div></div>"
      ],
      "text/plain": [
       "StackingRegressor(estimators=[('rf', RandomForestRegressor()),\n",
       "                              ('knn', KNeighborsRegressor()),\n",
       "                              ('svm', SVR(C=10, gamma=0.1))])"
      ]
     },
     "execution_count": 365,
     "metadata": {},
     "output_type": "execute_result"
    }
   ],
   "source": [
    "stack_regressor = StackingRegressor(estimators=[('rf', regressor),('knn',knn),('svm',svr)])\n",
    "stack_regressor.fit(X_train, Y_train)"
   ]
  },
  {
   "cell_type": "code",
   "execution_count": 366,
   "id": "2e899018",
   "metadata": {},
   "outputs": [],
   "source": [
    "predict_ed = stack_regressor.predict(X_test)"
   ]
  },
  {
   "cell_type": "code",
   "execution_count": 367,
   "id": "8d9f5ad1",
   "metadata": {},
   "outputs": [
    {
     "name": "stdout",
     "output_type": "stream",
     "text": [
      "[2.72865263 2.68430517 2.44276183 2.56574822 1.75942311 2.85326593\n",
      " 2.81507161 2.22552318 3.13150982 2.02477844 3.57928622 3.04645743\n",
      " 2.52480776 2.32648117 2.95713372 2.73748094 2.90944313 2.46517613\n",
      " 2.34661357 2.82380125 3.46407722 5.90648537 2.5164729  4.02138481\n",
      " 4.29290996 3.04448689 3.43998687 3.12957912 2.88247767 2.89114702\n",
      " 2.9513702  2.79780413 1.9642613  3.01681965 2.36518979 2.78921518\n",
      " 2.97606699 1.96292774 3.33361669 6.51422948 3.5508918  2.80043305\n",
      " 3.49729539 7.40040813 2.77207398 5.72600622 2.78136797 2.85511146\n",
      " 6.97098544 3.09905449 3.05653856 2.63526949 3.4884284  2.36518979\n",
      " 2.08342841 3.70179923 2.82684545 3.56645445 2.77393633 2.67313493\n",
      " 3.25128608 2.10984563 3.09548257 2.7972855  3.00828966 7.10238301\n",
      " 2.85785952 3.24042744 2.9798774  7.50301112 1.80124363 3.65655463\n",
      " 7.50736862 7.32106718 3.2803627  2.52732889 7.09024247 6.69445069\n",
      " 2.50728973 8.17957805 3.15738192 3.15134276 3.07492833 3.19768922\n",
      " 2.77681246 5.73725512 3.3500714  4.11903744 5.6993732  2.00352597\n",
      " 2.44376002 2.5782393  3.05678611 3.25566163 3.36727351 7.47460548\n",
      " 6.61155358 2.1941982  6.69456309 6.70546952 4.28527635 3.29322629\n",
      " 3.0395449  2.06429847 6.85482824 2.18824755 2.14466476 2.98572944\n",
      " 2.76592307 3.09907032 2.61062618 3.20141671 7.00570312 3.20776698\n",
      " 1.59675652 2.12383281 3.5328508  3.17429612 3.37872337 1.95232681\n",
      " 6.97373583 3.36336111 2.91655524 2.67465012 3.22803274 2.76127725\n",
      " 3.01230623 2.63854515 6.07999125 3.16109931 3.25969857 3.18314386\n",
      " 3.12390649 3.68182594 3.38634263 2.96182297 2.47146917 3.34998905\n",
      " 3.2076797  2.68530479 2.38832762 3.5328508  2.40401749 5.85061216\n",
      " 3.61089382 3.84792292 2.84369118 2.49780875 3.20250698 3.4759561\n",
      " 5.15190345 5.48468564 2.96054459 2.48484826 3.21948493 3.07609897\n",
      " 3.36327037 3.15958011 2.82909143 2.85183778 6.64512859 3.66735284\n",
      " 3.56645445 3.27881468 2.43924373 2.49695089 4.52723753 2.7549497\n",
      " 3.04391962 3.12786315 6.07047366 6.02091769 3.36327037 2.78262869\n",
      " 3.25311966 3.22375139 3.13826746 7.0011015  4.03676339 2.76811057\n",
      " 2.4146674  2.72751366 2.86499438 2.8854236  2.77798806 6.9563802\n",
      " 2.81357937 2.2002585  2.80506173 2.53053046 7.49224147 2.68464041\n",
      " 2.41887349 8.76856264 5.80239998 2.82494565 2.83860099 2.82909143\n",
      " 2.73669128 7.88066997 7.22061555 3.10814628 2.1932941  2.8551032\n",
      " 2.45819636 3.13150982 8.15239744 3.09377567 3.06533358 2.36760682\n",
      " 2.71537884 2.67400349 2.97754254 3.67782114 2.14715827 2.59538192\n",
      " 3.24039921 3.35140405 3.26803674 2.6521592  7.41602255 2.60277402\n",
      " 3.24679558 3.35308544 7.2528077  2.95713372 2.10415437 2.78531446\n",
      " 2.81125362 3.31350445 1.44740146 3.06291777 2.13405997 3.29101949\n",
      " 2.83125507 3.5242116  3.24899457 2.82515181]\n"
     ]
    }
   ],
   "source": [
    "print(predict_ed)"
   ]
  },
  {
   "cell_type": "code",
   "execution_count": 368,
   "id": "7792c1b7",
   "metadata": {},
   "outputs": [],
   "source": [
    "#Train Scores\n",
    "training_data_prediction = stack_regressor.predict(X_train)"
   ]
  },
  {
   "cell_type": "code",
   "execution_count": 369,
   "id": "2998ca1e",
   "metadata": {},
   "outputs": [
    {
     "data": {
      "text/plain": [
       "0.9025732067189346"
      ]
     },
     "execution_count": 369,
     "metadata": {},
     "output_type": "execute_result"
    }
   ],
   "source": [
    "mean_absolute_error(Y_train, training_data_prediction)"
   ]
  },
  {
   "cell_type": "code",
   "execution_count": 370,
   "id": "281e6203",
   "metadata": {},
   "outputs": [
    {
     "data": {
      "text/plain": [
       "1.3459702051227564"
      ]
     },
     "execution_count": 370,
     "metadata": {},
     "output_type": "execute_result"
    }
   ],
   "source": [
    "sqrt(mean_squared_error(Y_train, training_data_prediction))"
   ]
  },
  {
   "cell_type": "code",
   "execution_count": 371,
   "id": "f818d58c",
   "metadata": {},
   "outputs": [
    {
     "name": "stdout",
     "output_type": "stream",
     "text": [
      "R squared error :  0.6391493562386007\n"
     ]
    }
   ],
   "source": [
    "# R squared error\n",
    "error_score = metrics.r2_score(Y_train, training_data_prediction)\n",
    "print(\"R squared error : \", error_score)"
   ]
  },
  {
   "cell_type": "code",
   "execution_count": 372,
   "id": "1e261821",
   "metadata": {},
   "outputs": [
    {
     "name": "stdout",
     "output_type": "stream",
     "text": [
      "SMAPE score: 31.540527397160385\n"
     ]
    }
   ],
   "source": [
    "smape_score = smape(Y_train, training_data_prediction)\n",
    "print(\"SMAPE score:\", smape_score)"
   ]
  },
  {
   "cell_type": "code",
   "execution_count": 373,
   "id": "ac8f9f76",
   "metadata": {},
   "outputs": [
    {
     "data": {
      "text/plain": [
       "1.101519524173037"
      ]
     },
     "execution_count": 373,
     "metadata": {},
     "output_type": "execute_result"
    }
   ],
   "source": [
    "#Test Scores\n",
    "mean_absolute_error(Y_test, predict_ed)"
   ]
  },
  {
   "cell_type": "code",
   "execution_count": 374,
   "id": "749d8824",
   "metadata": {},
   "outputs": [
    {
     "data": {
      "text/plain": [
       "1.4902635061726326"
      ]
     },
     "execution_count": 374,
     "metadata": {},
     "output_type": "execute_result"
    }
   ],
   "source": [
    "sqrt(mean_squared_error(Y_test, predict_ed))"
   ]
  },
  {
   "cell_type": "code",
   "execution_count": 375,
   "id": "da225c64",
   "metadata": {},
   "outputs": [
    {
     "name": "stdout",
     "output_type": "stream",
     "text": [
      "R squared error :  0.5538300429087712\n"
     ]
    }
   ],
   "source": [
    "# R squared error\n",
    "error_score = metrics.r2_score(Y_test, predict_ed)\n",
    "print(\"R squared error : \", error_score)"
   ]
  },
  {
   "cell_type": "code",
   "execution_count": 376,
   "id": "8a80af4e",
   "metadata": {},
   "outputs": [
    {
     "name": "stdout",
     "output_type": "stream",
     "text": [
      "SMAPE score: 35.966896387891495\n"
     ]
    }
   ],
   "source": [
    "smape_score = smape(Y_test, predict_ed)\n",
    "print(\"SMAPE score:\", smape_score)"
   ]
  },
  {
   "cell_type": "code",
   "execution_count": 377,
   "id": "7b011d3f",
   "metadata": {},
   "outputs": [
    {
     "data": {
      "text/html": [
       "<style>#sk-container-id-24 {color: black;background-color: white;}#sk-container-id-24 pre{padding: 0;}#sk-container-id-24 div.sk-toggleable {background-color: white;}#sk-container-id-24 label.sk-toggleable__label {cursor: pointer;display: block;width: 100%;margin-bottom: 0;padding: 0.3em;box-sizing: border-box;text-align: center;}#sk-container-id-24 label.sk-toggleable__label-arrow:before {content: \"▸\";float: left;margin-right: 0.25em;color: #696969;}#sk-container-id-24 label.sk-toggleable__label-arrow:hover:before {color: black;}#sk-container-id-24 div.sk-estimator:hover label.sk-toggleable__label-arrow:before {color: black;}#sk-container-id-24 div.sk-toggleable__content {max-height: 0;max-width: 0;overflow: hidden;text-align: left;background-color: #f0f8ff;}#sk-container-id-24 div.sk-toggleable__content pre {margin: 0.2em;color: black;border-radius: 0.25em;background-color: #f0f8ff;}#sk-container-id-24 input.sk-toggleable__control:checked~div.sk-toggleable__content {max-height: 200px;max-width: 100%;overflow: auto;}#sk-container-id-24 input.sk-toggleable__control:checked~label.sk-toggleable__label-arrow:before {content: \"▾\";}#sk-container-id-24 div.sk-estimator input.sk-toggleable__control:checked~label.sk-toggleable__label {background-color: #d4ebff;}#sk-container-id-24 div.sk-label input.sk-toggleable__control:checked~label.sk-toggleable__label {background-color: #d4ebff;}#sk-container-id-24 input.sk-hidden--visually {border: 0;clip: rect(1px 1px 1px 1px);clip: rect(1px, 1px, 1px, 1px);height: 1px;margin: -1px;overflow: hidden;padding: 0;position: absolute;width: 1px;}#sk-container-id-24 div.sk-estimator {font-family: monospace;background-color: #f0f8ff;border: 1px dotted black;border-radius: 0.25em;box-sizing: border-box;margin-bottom: 0.5em;}#sk-container-id-24 div.sk-estimator:hover {background-color: #d4ebff;}#sk-container-id-24 div.sk-parallel-item::after {content: \"\";width: 100%;border-bottom: 1px solid gray;flex-grow: 1;}#sk-container-id-24 div.sk-label:hover label.sk-toggleable__label {background-color: #d4ebff;}#sk-container-id-24 div.sk-serial::before {content: \"\";position: absolute;border-left: 1px solid gray;box-sizing: border-box;top: 0;bottom: 0;left: 50%;z-index: 0;}#sk-container-id-24 div.sk-serial {display: flex;flex-direction: column;align-items: center;background-color: white;padding-right: 0.2em;padding-left: 0.2em;position: relative;}#sk-container-id-24 div.sk-item {position: relative;z-index: 1;}#sk-container-id-24 div.sk-parallel {display: flex;align-items: stretch;justify-content: center;background-color: white;position: relative;}#sk-container-id-24 div.sk-item::before, #sk-container-id-24 div.sk-parallel-item::before {content: \"\";position: absolute;border-left: 1px solid gray;box-sizing: border-box;top: 0;bottom: 0;left: 50%;z-index: -1;}#sk-container-id-24 div.sk-parallel-item {display: flex;flex-direction: column;z-index: 1;position: relative;background-color: white;}#sk-container-id-24 div.sk-parallel-item:first-child::after {align-self: flex-end;width: 50%;}#sk-container-id-24 div.sk-parallel-item:last-child::after {align-self: flex-start;width: 50%;}#sk-container-id-24 div.sk-parallel-item:only-child::after {width: 0;}#sk-container-id-24 div.sk-dashed-wrapped {border: 1px dashed gray;margin: 0 0.4em 0.5em 0.4em;box-sizing: border-box;padding-bottom: 0.4em;background-color: white;}#sk-container-id-24 div.sk-label label {font-family: monospace;font-weight: bold;display: inline-block;line-height: 1.2em;}#sk-container-id-24 div.sk-label-container {text-align: center;}#sk-container-id-24 div.sk-container {/* jupyter's `normalize.less` sets `[hidden] { display: none; }` but bootstrap.min.css set `[hidden] { display: none !important; }` so we also need the `!important` here to be able to override the default hidden behavior on the sphinx rendered scikit-learn.org. See: https://github.com/scikit-learn/scikit-learn/issues/21755 */display: inline-block !important;position: relative;}#sk-container-id-24 div.sk-text-repr-fallback {display: none;}</style><div id=\"sk-container-id-24\" class=\"sk-top-container\"><div class=\"sk-text-repr-fallback\"><pre>VotingRegressor(estimators=[(&#x27;rf&#x27;, RandomForestRegressor()),\n",
       "                            (&#x27;svm&#x27;, SVR(C=10, gamma=0.1))])</pre><b>In a Jupyter environment, please rerun this cell to show the HTML representation or trust the notebook. <br />On GitHub, the HTML representation is unable to render, please try loading this page with nbviewer.org.</b></div><div class=\"sk-container\" hidden><div class=\"sk-item sk-dashed-wrapped\"><div class=\"sk-label-container\"><div class=\"sk-label sk-toggleable\"><input class=\"sk-toggleable__control sk-hidden--visually\" id=\"sk-estimator-id-31\" type=\"checkbox\" ><label for=\"sk-estimator-id-31\" class=\"sk-toggleable__label sk-toggleable__label-arrow\">VotingRegressor</label><div class=\"sk-toggleable__content\"><pre>VotingRegressor(estimators=[(&#x27;rf&#x27;, RandomForestRegressor()),\n",
       "                            (&#x27;svm&#x27;, SVR(C=10, gamma=0.1))])</pre></div></div></div><div class=\"sk-parallel\"><div class=\"sk-parallel-item\"><div class=\"sk-item\"><div class=\"sk-label-container\"><div class=\"sk-label sk-toggleable\"><label>rf</label></div></div><div class=\"sk-serial\"><div class=\"sk-item\"><div class=\"sk-estimator sk-toggleable\"><input class=\"sk-toggleable__control sk-hidden--visually\" id=\"sk-estimator-id-32\" type=\"checkbox\" ><label for=\"sk-estimator-id-32\" class=\"sk-toggleable__label sk-toggleable__label-arrow\">RandomForestRegressor</label><div class=\"sk-toggleable__content\"><pre>RandomForestRegressor()</pre></div></div></div></div></div></div><div class=\"sk-parallel-item\"><div class=\"sk-item\"><div class=\"sk-label-container\"><div class=\"sk-label sk-toggleable\"><label>svm</label></div></div><div class=\"sk-serial\"><div class=\"sk-item\"><div class=\"sk-estimator sk-toggleable\"><input class=\"sk-toggleable__control sk-hidden--visually\" id=\"sk-estimator-id-33\" type=\"checkbox\" ><label for=\"sk-estimator-id-33\" class=\"sk-toggleable__label sk-toggleable__label-arrow\">SVR</label><div class=\"sk-toggleable__content\"><pre>SVR(C=10, gamma=0.1)</pre></div></div></div></div></div></div></div></div></div></div>"
      ],
      "text/plain": [
       "VotingRegressor(estimators=[('rf', RandomForestRegressor()),\n",
       "                            ('svm', SVR(C=10, gamma=0.1))])"
      ]
     },
     "execution_count": 377,
     "metadata": {},
     "output_type": "execute_result"
    }
   ],
   "source": [
    "vote_regressor = VotingRegressor(estimators=[('rf', regressor),('svm',svr)])\n",
    "vote_regressor.fit(X_train, Y_train)"
   ]
  },
  {
   "cell_type": "code",
   "execution_count": 378,
   "id": "9a50de43",
   "metadata": {},
   "outputs": [],
   "source": [
    "predict = vote_regressor.predict(X_test)"
   ]
  },
  {
   "cell_type": "code",
   "execution_count": 379,
   "id": "02aa1cb2",
   "metadata": {
    "scrolled": true
   },
   "outputs": [
    {
     "name": "stdout",
     "output_type": "stream",
     "text": [
      "[2.72037289 2.51141551 2.10911724 2.35546627 1.42341593 2.66714615\n",
      " 2.67613902 2.02634829 3.08351328 1.85886436 3.5419795  3.08541983\n",
      " 2.14227669 2.01734993 2.96348424 2.61954075 2.64998123 2.51943282\n",
      " 1.95371054 2.79447056 3.23416936 5.89076465 2.38733018 4.28442404\n",
      " 4.60521698 3.01819877 3.32909106 3.08109379 2.78666373 2.86727477\n",
      " 2.82196174 2.86914641 1.88588808 2.91890184 2.1273084  2.69946356\n",
      " 2.94329587 1.64673195 3.27754185 6.86058124 3.7856654  2.98779295\n",
      " 3.37324019 8.19704857 2.74879023 6.0829085  2.69363366 2.82435684\n",
      " 7.71357325 2.97844776 2.99099603 2.68584747 3.56605312 2.1273084\n",
      " 1.70416409 3.93264933 2.74414549 3.64105196 2.69444744 2.47115182\n",
      " 3.42154819 1.88907282 3.09833159 2.71165496 3.10529817 7.3582691\n",
      " 2.79711813 3.44553426 2.92629324 8.2888144  1.51390684 3.97849258\n",
      " 8.11842046 8.14778279 3.17302969 2.94846073 7.95951259 7.09074372\n",
      " 2.05787711 9.12548066 3.17371053 3.11322924 3.06047613 3.24117977\n",
      " 2.56579532 6.04472901 3.84603969 4.13096526 6.40132556 1.82723428\n",
      " 2.33875562 2.64076683 3.00122172 3.41778532 3.89816936 8.21142358\n",
      " 7.43680664 1.81840805 7.09367976 7.03878261 4.72859769 3.14584371\n",
      " 2.9629063  1.84046723 7.5998097  2.12565941 1.78416808 2.80656236\n",
      " 2.7123608  3.10617599 2.60341965 3.3640478  7.96984646 2.99986437\n",
      " 1.36789658 1.7928171  3.62243231 2.76937587 3.46809577 1.59292987\n",
      " 7.81678732 3.41583078 2.6455861  2.45499954 3.22491805 2.61479386\n",
      " 2.88404993 2.450893   6.86980549 3.16728613 3.29484176 3.22801389\n",
      " 3.12258628 3.93221693 3.52444894 2.97725899 2.2385483  3.14297768\n",
      " 2.9676413  2.57061903 2.10933926 3.62243231 2.00791947 6.49696816\n",
      " 3.67581729 4.0607081  2.71010579 2.43752927 3.14549341 3.53343211\n",
      " 4.8164373  5.35269357 2.98253023 1.85139737 3.03014731 3.16243268\n",
      " 3.68809311 3.16828199 2.67331556 2.72887089 7.41152535 3.88585688\n",
      " 3.64105196 3.23505473 2.22371533 2.32231812 4.75197326 2.62621386\n",
      " 3.02725127 3.34677643 6.96099467 6.16334023 3.68809311 2.70220089\n",
      " 3.22045665 3.23752112 3.09792788 7.69679804 4.35079779 2.64876492\n",
      " 2.39299369 2.51717548 2.69793769 2.70956327 2.74615644 7.67565971\n",
      " 2.7130851  1.9596299  2.69562016 2.68056643 8.21052781 2.69318314\n",
      " 2.00714626 9.91231803 6.12218916 2.70796391 2.59417905 2.67331556\n",
      " 2.61814914 8.6234797  8.00183007 3.08496266 1.98709225 2.89171176\n",
      " 2.41854732 3.08351328 8.8410353  3.0858349  2.98097578 2.40894424\n",
      " 2.83384083 2.76153655 2.84982587 3.69732783 1.85842145 2.55957619\n",
      " 3.38766683 3.38096091 3.27054937 2.6630375  8.19268701 2.49123045\n",
      " 3.30434181 3.4705851  8.0358531  2.96348424 1.82872758 2.6396579\n",
      " 2.74293866 3.30585996 1.08417692 3.09209515 1.99966239 3.3303186\n",
      " 2.71436181 3.41985091 3.32768011 2.67047051]\n"
     ]
    }
   ],
   "source": [
    "print(predict)"
   ]
  },
  {
   "cell_type": "code",
   "execution_count": 380,
   "id": "d395efea",
   "metadata": {},
   "outputs": [],
   "source": [
    "#Train Scores\n",
    "training_data_prediction = vote_regressor.predict(X_train)"
   ]
  },
  {
   "cell_type": "code",
   "execution_count": 381,
   "id": "b9ae3eb6",
   "metadata": {},
   "outputs": [
    {
     "data": {
      "text/plain": [
       "0.7207228779335916"
      ]
     },
     "execution_count": 381,
     "metadata": {},
     "output_type": "execute_result"
    }
   ],
   "source": [
    "mean_absolute_error(Y_train, training_data_prediction)"
   ]
  },
  {
   "cell_type": "code",
   "execution_count": 382,
   "id": "b0b8c270",
   "metadata": {},
   "outputs": [
    {
     "data": {
      "text/plain": [
       "1.124916331374545"
      ]
     },
     "execution_count": 382,
     "metadata": {},
     "output_type": "execute_result"
    }
   ],
   "source": [
    "sqrt(mean_squared_error(Y_train, training_data_prediction))"
   ]
  },
  {
   "cell_type": "code",
   "execution_count": 383,
   "id": "22a97b2f",
   "metadata": {},
   "outputs": [
    {
     "name": "stdout",
     "output_type": "stream",
     "text": [
      "R squared error :  0.7479440025653828\n"
     ]
    }
   ],
   "source": [
    "# R squared error\n",
    "error_score = metrics.r2_score(Y_train, training_data_prediction)\n",
    "print(\"R squared error : \", error_score)"
   ]
  },
  {
   "cell_type": "code",
   "execution_count": 384,
   "id": "26868b07",
   "metadata": {},
   "outputs": [
    {
     "name": "stdout",
     "output_type": "stream",
     "text": [
      "SMAPE score: 35.966896387891495\n"
     ]
    }
   ],
   "source": [
    "smape_score = smape(Y_test, predict_ed)\n",
    "print(\"SMAPE score:\", smape_score)"
   ]
  },
  {
   "cell_type": "code",
   "execution_count": 385,
   "id": "b2bd7cd9",
   "metadata": {},
   "outputs": [
    {
     "data": {
      "text/plain": [
       "1.065268373642233"
      ]
     },
     "execution_count": 385,
     "metadata": {},
     "output_type": "execute_result"
    }
   ],
   "source": [
    "#Test Scores\n",
    "mean_absolute_error(Y_test, predict)"
   ]
  },
  {
   "cell_type": "code",
   "execution_count": 386,
   "id": "be6694ea",
   "metadata": {},
   "outputs": [],
   "source": [
    "rms = sqrt(mean_squared_error(Y_test, predict))"
   ]
  },
  {
   "cell_type": "code",
   "execution_count": 387,
   "id": "c4c22af0",
   "metadata": {},
   "outputs": [
    {
     "name": "stdout",
     "output_type": "stream",
     "text": [
      "1.4990443034070113\n"
     ]
    }
   ],
   "source": [
    "print(rms)"
   ]
  },
  {
   "cell_type": "code",
   "execution_count": 388,
   "id": "5b373397",
   "metadata": {},
   "outputs": [
    {
     "name": "stdout",
     "output_type": "stream",
     "text": [
      "R squared error :  0.5485567878744593\n"
     ]
    }
   ],
   "source": [
    "# R squared error\n",
    "error_score = metrics.r2_score(Y_test, predict)\n",
    "print(\"R squared error : \", error_score)"
   ]
  },
  {
   "cell_type": "code",
   "execution_count": 389,
   "id": "22b50cfa",
   "metadata": {},
   "outputs": [
    {
     "name": "stdout",
     "output_type": "stream",
     "text": [
      "SMAPE score: 34.794411640879666\n"
     ]
    }
   ],
   "source": [
    "smape_score = smape(Y_test, predict)\n",
    "print(\"SMAPE score:\", smape_score)"
   ]
  },
  {
   "cell_type": "code",
   "execution_count": 390,
   "id": "546e56ec",
   "metadata": {},
   "outputs": [
    {
     "data": {
      "text/html": [
       "<style>#sk-container-id-25 {color: black;background-color: white;}#sk-container-id-25 pre{padding: 0;}#sk-container-id-25 div.sk-toggleable {background-color: white;}#sk-container-id-25 label.sk-toggleable__label {cursor: pointer;display: block;width: 100%;margin-bottom: 0;padding: 0.3em;box-sizing: border-box;text-align: center;}#sk-container-id-25 label.sk-toggleable__label-arrow:before {content: \"▸\";float: left;margin-right: 0.25em;color: #696969;}#sk-container-id-25 label.sk-toggleable__label-arrow:hover:before {color: black;}#sk-container-id-25 div.sk-estimator:hover label.sk-toggleable__label-arrow:before {color: black;}#sk-container-id-25 div.sk-toggleable__content {max-height: 0;max-width: 0;overflow: hidden;text-align: left;background-color: #f0f8ff;}#sk-container-id-25 div.sk-toggleable__content pre {margin: 0.2em;color: black;border-radius: 0.25em;background-color: #f0f8ff;}#sk-container-id-25 input.sk-toggleable__control:checked~div.sk-toggleable__content {max-height: 200px;max-width: 100%;overflow: auto;}#sk-container-id-25 input.sk-toggleable__control:checked~label.sk-toggleable__label-arrow:before {content: \"▾\";}#sk-container-id-25 div.sk-estimator input.sk-toggleable__control:checked~label.sk-toggleable__label {background-color: #d4ebff;}#sk-container-id-25 div.sk-label input.sk-toggleable__control:checked~label.sk-toggleable__label {background-color: #d4ebff;}#sk-container-id-25 input.sk-hidden--visually {border: 0;clip: rect(1px 1px 1px 1px);clip: rect(1px, 1px, 1px, 1px);height: 1px;margin: -1px;overflow: hidden;padding: 0;position: absolute;width: 1px;}#sk-container-id-25 div.sk-estimator {font-family: monospace;background-color: #f0f8ff;border: 1px dotted black;border-radius: 0.25em;box-sizing: border-box;margin-bottom: 0.5em;}#sk-container-id-25 div.sk-estimator:hover {background-color: #d4ebff;}#sk-container-id-25 div.sk-parallel-item::after {content: \"\";width: 100%;border-bottom: 1px solid gray;flex-grow: 1;}#sk-container-id-25 div.sk-label:hover label.sk-toggleable__label {background-color: #d4ebff;}#sk-container-id-25 div.sk-serial::before {content: \"\";position: absolute;border-left: 1px solid gray;box-sizing: border-box;top: 0;bottom: 0;left: 50%;z-index: 0;}#sk-container-id-25 div.sk-serial {display: flex;flex-direction: column;align-items: center;background-color: white;padding-right: 0.2em;padding-left: 0.2em;position: relative;}#sk-container-id-25 div.sk-item {position: relative;z-index: 1;}#sk-container-id-25 div.sk-parallel {display: flex;align-items: stretch;justify-content: center;background-color: white;position: relative;}#sk-container-id-25 div.sk-item::before, #sk-container-id-25 div.sk-parallel-item::before {content: \"\";position: absolute;border-left: 1px solid gray;box-sizing: border-box;top: 0;bottom: 0;left: 50%;z-index: -1;}#sk-container-id-25 div.sk-parallel-item {display: flex;flex-direction: column;z-index: 1;position: relative;background-color: white;}#sk-container-id-25 div.sk-parallel-item:first-child::after {align-self: flex-end;width: 50%;}#sk-container-id-25 div.sk-parallel-item:last-child::after {align-self: flex-start;width: 50%;}#sk-container-id-25 div.sk-parallel-item:only-child::after {width: 0;}#sk-container-id-25 div.sk-dashed-wrapped {border: 1px dashed gray;margin: 0 0.4em 0.5em 0.4em;box-sizing: border-box;padding-bottom: 0.4em;background-color: white;}#sk-container-id-25 div.sk-label label {font-family: monospace;font-weight: bold;display: inline-block;line-height: 1.2em;}#sk-container-id-25 div.sk-label-container {text-align: center;}#sk-container-id-25 div.sk-container {/* jupyter's `normalize.less` sets `[hidden] { display: none; }` but bootstrap.min.css set `[hidden] { display: none !important; }` so we also need the `!important` here to be able to override the default hidden behavior on the sphinx rendered scikit-learn.org. See: https://github.com/scikit-learn/scikit-learn/issues/21755 */display: inline-block !important;position: relative;}#sk-container-id-25 div.sk-text-repr-fallback {display: none;}</style><div id=\"sk-container-id-25\" class=\"sk-top-container\"><div class=\"sk-text-repr-fallback\"><pre>VotingRegressor(estimators=[(&#x27;rf&#x27;, RandomForestRegressor()),\n",
       "                            (&#x27;knn&#x27;, KNeighborsRegressor()),\n",
       "                            (&#x27;svm&#x27;, SVR(C=10, gamma=0.1))])</pre><b>In a Jupyter environment, please rerun this cell to show the HTML representation or trust the notebook. <br />On GitHub, the HTML representation is unable to render, please try loading this page with nbviewer.org.</b></div><div class=\"sk-container\" hidden><div class=\"sk-item sk-dashed-wrapped\"><div class=\"sk-label-container\"><div class=\"sk-label sk-toggleable\"><input class=\"sk-toggleable__control sk-hidden--visually\" id=\"sk-estimator-id-34\" type=\"checkbox\" ><label for=\"sk-estimator-id-34\" class=\"sk-toggleable__label sk-toggleable__label-arrow\">VotingRegressor</label><div class=\"sk-toggleable__content\"><pre>VotingRegressor(estimators=[(&#x27;rf&#x27;, RandomForestRegressor()),\n",
       "                            (&#x27;knn&#x27;, KNeighborsRegressor()),\n",
       "                            (&#x27;svm&#x27;, SVR(C=10, gamma=0.1))])</pre></div></div></div><div class=\"sk-parallel\"><div class=\"sk-parallel-item\"><div class=\"sk-item\"><div class=\"sk-label-container\"><div class=\"sk-label sk-toggleable\"><label>rf</label></div></div><div class=\"sk-serial\"><div class=\"sk-item\"><div class=\"sk-estimator sk-toggleable\"><input class=\"sk-toggleable__control sk-hidden--visually\" id=\"sk-estimator-id-35\" type=\"checkbox\" ><label for=\"sk-estimator-id-35\" class=\"sk-toggleable__label sk-toggleable__label-arrow\">RandomForestRegressor</label><div class=\"sk-toggleable__content\"><pre>RandomForestRegressor()</pre></div></div></div></div></div></div><div class=\"sk-parallel-item\"><div class=\"sk-item\"><div class=\"sk-label-container\"><div class=\"sk-label sk-toggleable\"><label>knn</label></div></div><div class=\"sk-serial\"><div class=\"sk-item\"><div class=\"sk-estimator sk-toggleable\"><input class=\"sk-toggleable__control sk-hidden--visually\" id=\"sk-estimator-id-36\" type=\"checkbox\" ><label for=\"sk-estimator-id-36\" class=\"sk-toggleable__label sk-toggleable__label-arrow\">KNeighborsRegressor</label><div class=\"sk-toggleable__content\"><pre>KNeighborsRegressor()</pre></div></div></div></div></div></div><div class=\"sk-parallel-item\"><div class=\"sk-item\"><div class=\"sk-label-container\"><div class=\"sk-label sk-toggleable\"><label>svm</label></div></div><div class=\"sk-serial\"><div class=\"sk-item\"><div class=\"sk-estimator sk-toggleable\"><input class=\"sk-toggleable__control sk-hidden--visually\" id=\"sk-estimator-id-37\" type=\"checkbox\" ><label for=\"sk-estimator-id-37\" class=\"sk-toggleable__label sk-toggleable__label-arrow\">SVR</label><div class=\"sk-toggleable__content\"><pre>SVR(C=10, gamma=0.1)</pre></div></div></div></div></div></div></div></div></div></div>"
      ],
      "text/plain": [
       "VotingRegressor(estimators=[('rf', RandomForestRegressor()),\n",
       "                            ('knn', KNeighborsRegressor()),\n",
       "                            ('svm', SVR(C=10, gamma=0.1))])"
      ]
     },
     "execution_count": 390,
     "metadata": {},
     "output_type": "execute_result"
    }
   ],
   "source": [
    "vote_regressor = VotingRegressor(estimators=[('rf', regressor),('knn',knn),('svm',svr)])\n",
    "vote_regressor.fit(X_train, Y_train)"
   ]
  },
  {
   "cell_type": "code",
   "execution_count": 391,
   "id": "86c32f52",
   "metadata": {},
   "outputs": [],
   "source": [
    "predict_ = vote_regressor.predict(X_test)"
   ]
  },
  {
   "cell_type": "code",
   "execution_count": 392,
   "id": "80488a73",
   "metadata": {},
   "outputs": [
    {
     "name": "stdout",
     "output_type": "stream",
     "text": [
      "[2.83307717 2.82189113 2.12707816 2.49014418 1.57180673 2.75274743\n",
      " 2.66769824 2.02669886 3.17978553 1.73938687 3.71271967 2.93081041\n",
      " 2.59076311 2.24202329 2.97130596 2.6545355  2.66608749 2.48498855\n",
      " 2.52764036 2.68582253 3.37094291 5.8050431  2.40388441 4.36928269\n",
      " 4.54774466 2.90052418 3.29669547 3.03335409 2.60450637 2.8397577\n",
      " 2.64636894 2.77265942 1.89109483 3.19718456 2.37840893 2.77477571\n",
      " 3.0015278  1.71850907 3.3550279  6.84828749 3.6120436  2.49855935\n",
      " 3.43158679 8.16919905 2.73146015 6.25350567 2.67625577 2.67223789\n",
      " 7.73194883 3.0391985  2.99252247 2.8936872  3.57648542 2.37840893\n",
      " 2.00882939 3.91883122 2.77893033 3.69526686 2.6865594  2.52123455\n",
      " 3.33862101 1.63091299 3.13838772 2.79218164 3.10003212 7.99404606\n",
      " 2.69220708 3.3302349  3.14050383 8.0883096  1.68572123 3.95073394\n",
      " 8.11868031 7.96828853 3.26635122 2.89144049 7.16497506 6.66179582\n",
      " 2.40083085 9.15805378 2.99923416 3.12198616 3.00048909 3.42518651\n",
      " 2.64432521 6.29911934 2.73982646 4.5061435  6.03432815 1.58603746\n",
      " 2.12288708 2.18072788 2.86669226 3.43322355 3.40153235 8.07696155\n",
      " 7.01240443 2.17962902 6.65701984 6.29024952 4.24529846 3.31801247\n",
      " 2.96837087 1.56897593 7.49720646 2.21617294 2.0541065  2.80554157\n",
      " 2.6577072  3.14512114 2.61069699 3.22509854 7.51746431 3.1760318\n",
      " 1.47979772 1.9916114  3.61536598 3.18110613 3.4864098  1.55175325\n",
      " 7.06695822 3.63092052 2.64151851 2.82061636 3.21353585 2.57754202\n",
      " 2.95883329 2.41705645 6.58513699 3.30978484 3.2401434  3.26960926\n",
      " 3.15534774 4.02002462 3.66387596 2.97077988 2.35826807 3.34983179\n",
      " 3.21864976 2.62031268 2.61979284 3.61536598 3.02291298 6.48864544\n",
      " 4.02384486 4.14323873 2.80310386 2.26689428 3.17592894 3.65268667\n",
      " 5.1931582  5.83909571 2.92462016 2.30190745 3.24285376 3.10245512\n",
      " 3.35892874 3.11371466 2.84977259 2.82224726 7.14148356 3.86633792\n",
      " 3.69526686 3.21013649 2.40036038 2.38405113 4.52334884 2.56310924\n",
      " 3.01620918 3.17737595 6.51406312 6.35132682 3.35892874 2.65680059\n",
      " 3.29089291 3.16393408 3.13714501 7.83499869 4.23249853 2.67639106\n",
      " 2.21579555 2.67908365 2.81043132 2.99619774 2.84085429 7.7077398\n",
      " 2.7558734  1.94131319 2.80084677 2.46627762 8.11793104 2.17939709\n",
      " 2.26241417 9.82947868 6.34255944 2.65437594 2.7754527  2.84977259\n",
      " 2.67043276 8.8244198  7.69105338 3.11076399 1.78577925 2.89997451\n",
      " 2.45346044 3.17978553 8.89615686 3.10514549 3.03050163 2.34972949\n",
      " 2.73626778 2.7601977  3.15271606 3.76806855 1.5868143  2.47021365\n",
      " 3.3808062  3.42970727 3.25505403 2.47535833 8.09999134 2.46516641\n",
      " 3.33312232 3.09410697 7.6245354  2.97130596 1.90168505 2.56147193\n",
      " 2.79942577 3.43523997 1.29868461 3.31726343 1.69142826 3.2504924\n",
      " 2.834492   3.48024505 3.24401198 2.99001923]\n"
     ]
    }
   ],
   "source": [
    "print(predict_)"
   ]
  },
  {
   "cell_type": "code",
   "execution_count": 393,
   "id": "e395b3d0",
   "metadata": {},
   "outputs": [],
   "source": [
    "#Train Scores\n",
    "training_data_prediction = vote_regressor.predict(X_train)"
   ]
  },
  {
   "cell_type": "code",
   "execution_count": 394,
   "id": "b4f81cc7",
   "metadata": {},
   "outputs": [
    {
     "data": {
      "text/plain": [
       "0.7814017923640528"
      ]
     },
     "execution_count": 394,
     "metadata": {},
     "output_type": "execute_result"
    }
   ],
   "source": [
    "mean_absolute_error(Y_train, training_data_prediction)"
   ]
  },
  {
   "cell_type": "code",
   "execution_count": 395,
   "id": "da8a70a5",
   "metadata": {},
   "outputs": [
    {
     "data": {
      "text/plain": [
       "1.2014143026417285"
      ]
     },
     "execution_count": 395,
     "metadata": {},
     "output_type": "execute_result"
    }
   ],
   "source": [
    "sqrt(mean_squared_error(Y_train, training_data_prediction))"
   ]
  },
  {
   "cell_type": "code",
   "execution_count": 396,
   "id": "822e8448",
   "metadata": {},
   "outputs": [
    {
     "name": "stdout",
     "output_type": "stream",
     "text": [
      "R squared error :  0.7124971279306574\n"
     ]
    }
   ],
   "source": [
    "# R squared error\n",
    "error_score = metrics.r2_score(Y_train, training_data_prediction)\n",
    "print(\"R squared error : \", error_score)"
   ]
  },
  {
   "cell_type": "code",
   "execution_count": 397,
   "id": "6971a0bb",
   "metadata": {},
   "outputs": [
    {
     "name": "stdout",
     "output_type": "stream",
     "text": [
      "SMAPE score: 35.966896387891495\n"
     ]
    }
   ],
   "source": [
    "smape_score = smape(Y_test, predict_ed)\n",
    "print(\"SMAPE score:\", smape_score)"
   ]
  },
  {
   "cell_type": "code",
   "execution_count": 398,
   "id": "0564bab3",
   "metadata": {},
   "outputs": [
    {
     "data": {
      "text/plain": [
       "1.065685598433159"
      ]
     },
     "execution_count": 398,
     "metadata": {},
     "output_type": "execute_result"
    }
   ],
   "source": [
    "#Test scores\n",
    "mean_absolute_error(Y_test, predict_)"
   ]
  },
  {
   "cell_type": "code",
   "execution_count": 399,
   "id": "6ea21436",
   "metadata": {},
   "outputs": [
    {
     "data": {
      "text/plain": [
       "1.479841285675081"
      ]
     },
     "execution_count": 399,
     "metadata": {},
     "output_type": "execute_result"
    }
   ],
   "source": [
    "sqrt(mean_squared_error(Y_test, predict_))"
   ]
  },
  {
   "cell_type": "code",
   "execution_count": 400,
   "id": "9ea9a7a8",
   "metadata": {},
   "outputs": [
    {
     "name": "stdout",
     "output_type": "stream",
     "text": [
      "R squared error :  0.5600488376147237\n"
     ]
    }
   ],
   "source": [
    "# R squared error\n",
    "error_score = metrics.r2_score(Y_test, predict_)\n",
    "print(\"R squared error : \", error_score)"
   ]
  },
  {
   "cell_type": "code",
   "execution_count": 401,
   "id": "9f04397a",
   "metadata": {},
   "outputs": [
    {
     "name": "stdout",
     "output_type": "stream",
     "text": [
      "SMAPE score: 34.98267364433782\n"
     ]
    }
   ],
   "source": [
    "smape_score = smape(Y_test, predict_)\n",
    "print(\"SMAPE score:\", smape_score)"
   ]
  },
  {
   "cell_type": "code",
   "execution_count": null,
   "id": "2ab2ef7a",
   "metadata": {},
   "outputs": [],
   "source": []
  }
 ],
 "metadata": {
  "kernelspec": {
   "display_name": "Python 3 (ipykernel)",
   "language": "python",
   "name": "python3"
  },
  "language_info": {
   "codemirror_mode": {
    "name": "ipython",
    "version": 3
   },
   "file_extension": ".py",
   "mimetype": "text/x-python",
   "name": "python",
   "nbconvert_exporter": "python",
   "pygments_lexer": "ipython3",
   "version": "3.11.3"
  }
 },
 "nbformat": 4,
 "nbformat_minor": 5
}
