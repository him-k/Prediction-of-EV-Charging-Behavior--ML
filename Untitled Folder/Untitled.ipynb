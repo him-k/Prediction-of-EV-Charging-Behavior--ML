{
 "cells": [
  {
   "cell_type": "code",
   "execution_count": null,
   "id": "3809d91d",
   "metadata": {},
   "outputs": [],
   "source": [
    "l1=[1,4,7,3,0]"
   ]
  },
  {
   "cell_type": "code",
   "execution_count": 2,
   "id": "51affba5",
   "metadata": {},
   "outputs": [
    {
     "ename": "NameError",
     "evalue": "name 'l1' is not defined",
     "output_type": "error",
     "traceback": [
      "\u001b[1;31m---------------------------------------------------------------------------\u001b[0m",
      "\u001b[1;31mNameError\u001b[0m                                 Traceback (most recent call last)",
      "Cell \u001b[1;32mIn[2], line 1\u001b[0m\n\u001b[1;32m----> 1\u001b[0m \u001b[38;5;28mprint\u001b[39m(\u001b[43ml1\u001b[49m[\u001b[38;5;241m0\u001b[39m:])\n",
      "\u001b[1;31mNameError\u001b[0m: name 'l1' is not defined"
     ]
    }
   ],
   "source": [
    "print(l1[0:])"
   ]
  },
  {
   "cell_type": "code",
   "execution_count": 3,
   "id": "0dd0b10a",
   "metadata": {},
   "outputs": [
    {
     "name": "stdout",
     "output_type": "stream",
     "text": [
      "[1, 4, 7, 3, 0]\n"
     ]
    }
   ],
   "source": [
    "l1=[1,4,7,3,0]\n",
    "print(l1[0:])"
   ]
  },
  {
   "cell_type": "code",
   "execution_count": 4,
   "id": "da186258",
   "metadata": {},
   "outputs": [
    {
     "name": "stdout",
     "output_type": "stream",
     "text": [
      "[0, 1, 3, 4, 7]\n"
     ]
    }
   ],
   "source": [
    "l1.sort()\n",
    "print(l1[0:])"
   ]
  },
  {
   "cell_type": "code",
   "execution_count": 11,
   "id": "0238c0b5",
   "metadata": {},
   "outputs": [
    {
     "name": "stdout",
     "output_type": "stream",
     "text": [
      "Himani\n"
     ]
    }
   ],
   "source": [
    "myDic={\n",
    "    \"name\":\"Himani\",\n",
    "     \"call\":987656,\n",
    "    \"marks\":[20,85,363]\n",
    "}\n",
    "print(myDic['name'])"
   ]
  },
  {
   "cell_type": "code",
   "execution_count": 2,
   "id": "a8855f17",
   "metadata": {},
   "outputs": [],
   "source": []
  },
  {
   "cell_type": "code",
   "execution_count": null,
   "id": "51a2a45e",
   "metadata": {},
   "outputs": [],
   "source": []
  },
  {
   "cell_type": "code",
   "execution_count": 3,
   "id": "6579a43f",
   "metadata": {},
   "outputs": [],
   "source": [
    "a=13\n",
    "if(a>5):\n",
    "    print(\"Hi\")"
   ]
  },
  {
   "cell_type": "code",
   "execution_count": 4,
   "id": "7ccb1993",
   "metadata": {},
   "outputs": [],
   "source": [
    "else\n",
    "    print(\"BYe\")"
   ]
  },
  {
   "cell_type": "code",
   "execution_count": 5,
   "id": "d1c6096f",
   "metadata": {},
   "outputs": [],
   "source": [
    "a=13\n",
    "if(a>5):\n",
    "    print(\"Hi\")\n",
    "else:\n",
    "    print(\"BYe\")"
   ]
  },
  {
   "cell_type": "code",
   "execution_count": 8,
   "id": "219567a6",
   "metadata": {},
   "outputs": [],
   "source": [
    "myDic={\n",
    "    \"name\":\"Himani\",\n",
    "     \"call\":987656,\n",
    "    \"marks\":[20,85,363]\n",
    "}\n",
    "print(myDic['name'])"
   ]
  },
  {
   "cell_type": "code",
   "execution_count": null,
   "id": "49417e98",
   "metadata": {},
   "outputs": [],
   "source": []
  },
  {
   "cell_type": "code",
   "execution_count": null,
   "id": "ecb367ab",
   "metadata": {},
   "outputs": [],
   "source": []
  },
  {
   "cell_type": "code",
   "execution_count": 1,
   "id": "e21c93af",
   "metadata": {},
   "outputs": [
    {
     "name": "stdout",
     "output_type": "stream",
     "text": [
      "Himani\n"
     ]
    }
   ],
   "source": [
    "myDic={\n",
    "    \"name\":\"Himani\",\n",
    "     \"call\":987656,\n",
    "    \"marks\":[20,85,363]\n",
    "}\n",
    "print(myDic['name'])"
   ]
  },
  {
   "cell_type": "code",
   "execution_count": 2,
   "id": "7e5980eb",
   "metadata": {},
   "outputs": [
    {
     "name": "stdout",
     "output_type": "stream",
     "text": [
      "Hi\n"
     ]
    }
   ],
   "source": [
    "a=13\n",
    "if(a>5):\n",
    "    print(\"Hi\")"
   ]
  },
  {
   "cell_type": "code",
   "execution_count": 4,
   "id": "558c4452",
   "metadata": {},
   "outputs": [
    {
     "name": "stdout",
     "output_type": "stream",
     "text": [
      "Enter your age25\n",
      "An adult\n"
     ]
    }
   ],
   "source": [
    "age=int(input(\"Enter your age\"))\n",
    "if(age>18):\n",
    "    print(\"An adult\")"
   ]
  },
  {
   "cell_type": "code",
   "execution_count": 1,
   "id": "448e44b6",
   "metadata": {
    "scrolled": true
   },
   "outputs": [
    {
     "name": "stdout",
     "output_type": "stream",
     "text": [
      "YEs\n"
     ]
    }
   ],
   "source": [
    "a=None\n",
    "if(a is None):\n",
    "    print(\"YEs\")\n",
    "else:\n",
    "    print(\"No\")"
   ]
  },
  {
   "cell_type": "code",
   "execution_count": 7,
   "id": "f6568478",
   "metadata": {},
   "outputs": [
    {
     "name": "stdout",
     "output_type": "stream",
     "text": [
      "True\n"
     ]
    }
   ],
   "source": [
    "a=[45,65,75]\n",
    "print(45 in a)"
   ]
  },
  {
   "cell_type": "code",
   "execution_count": 3,
   "id": "7d85009f",
   "metadata": {},
   "outputs": [
    {
     "name": "stdout",
     "output_type": "stream",
     "text": [
      "hi\n",
      "hi\n",
      "hi\n",
      "hi\n",
      "hi\n"
     ]
    }
   ],
   "source": [
    "i=0\n",
    "while i<10:\n",
    "    print(\"hi\")\n",
    "    i+=2"
   ]
  },
  {
   "cell_type": "code",
   "execution_count": 4,
   "id": "70189927",
   "metadata": {},
   "outputs": [
    {
     "name": "stdout",
     "output_type": "stream",
     "text": [
      "banana\n",
      "orange\n",
      "mango\n"
     ]
    }
   ],
   "source": [
    "fruit=['banana','orange','mango']\n",
    "i=0\n",
    "while i<len(fruit):\n",
    "    print(fruit[i])\n",
    "    i+=1\n"
   ]
  },
  {
   "cell_type": "code",
   "execution_count": 6,
   "id": "158631d3",
   "metadata": {},
   "outputs": [
    {
     "name": "stdout",
     "output_type": "stream",
     "text": [
      "banana\n",
      "orange\n",
      "mango\n"
     ]
    }
   ],
   "source": [
    "fruit=['banana','orange','mango']\n",
    "for item in fruit:\n",
    "    print(item)\n",
    "    "
   ]
  },
  {
   "cell_type": "code",
   "execution_count": 9,
   "id": "085d1320",
   "metadata": {},
   "outputs": [
    {
     "name": "stdout",
     "output_type": "stream",
     "text": [
      "1\n",
      "2\n",
      "3\n",
      "4\n",
      "5\n",
      "6\n",
      "7\n",
      "Done\n"
     ]
    }
   ],
   "source": [
    "for i in range(1,8):\n",
    "    print(i)\n",
    "else:\n",
    "    print(\"Done\")"
   ]
  },
  {
   "cell_type": "code",
   "execution_count": 2,
   "id": "bf490017",
   "metadata": {},
   "outputs": [],
   "source": [
    "import numpy as np\n",
    "import pandas as pd\n",
    "import matplotlib as mpl\n",
    "import matplotlib.pyplot as plt\n",
    "from sklearn.model_selection import train_test_split\n",
    "from sklearn.ensemble import RandomForestRegressor\n",
    "from sklearn.metrics import mean_squared_error, r2_score"
   ]
  },
  {
   "cell_type": "code",
   "execution_count": 4,
   "id": "08c4a98a",
   "metadata": {},
   "outputs": [
    {
     "name": "stdout",
     "output_type": "stream",
     "text": [
      "(299, 14)\n"
     ]
    }
   ],
   "source": [
    "ev = pd.read_csv(\"C:\\\\Users\\\\Himani\\\\Desktop\\\\pp/output.csv\")\n",
    "print(ev.shape)"
   ]
  },
  {
   "cell_type": "code",
   "execution_count": 5,
   "id": "6d060ac6",
   "metadata": {},
   "outputs": [
    {
     "data": {
      "text/html": [
       "<div>\n",
       "<style scoped>\n",
       "    .dataframe tbody tr th:only-of-type {\n",
       "        vertical-align: middle;\n",
       "    }\n",
       "\n",
       "    .dataframe tbody tr th {\n",
       "        vertical-align: top;\n",
       "    }\n",
       "\n",
       "    .dataframe thead th {\n",
       "        text-align: right;\n",
       "    }\n",
       "</style>\n",
       "<table border=\"1\" class=\"dataframe\">\n",
       "  <thead>\n",
       "    <tr style=\"text-align: right;\">\n",
       "      <th></th>\n",
       "      <th>EV</th>\n",
       "    </tr>\n",
       "  </thead>\n",
       "  <tbody>\n",
       "    <tr>\n",
       "      <th>donechargingTime</th>\n",
       "      <td>1</td>\n",
       "    </tr>\n",
       "    <tr>\n",
       "      <th>userID</th>\n",
       "      <td>298</td>\n",
       "    </tr>\n",
       "    <tr>\n",
       "      <th>userInput</th>\n",
       "      <td>298</td>\n",
       "    </tr>\n",
       "  </tbody>\n",
       "</table>\n",
       "</div>"
      ],
      "text/plain": [
       "                   EV\n",
       "donechargingTime    1\n",
       "userID            298\n",
       "userInput         298"
      ]
     },
     "execution_count": 5,
     "metadata": {},
     "output_type": "execute_result"
    }
   ],
   "source": [
    "NAs = pd.concat([ev.isnull().sum()], axis=1, keys=[\"EV\"])\n",
    "NAs[NAs.sum(axis=1) > 0]"
   ]
  },
  {
   "cell_type": "code",
   "execution_count": 6,
   "id": "2faff307",
   "metadata": {},
   "outputs": [],
   "source": [
    "ev[\"donechargingTime\"] = ev[\"donechargingTime\"].fillna(ev[\"donechargingTime\"].mode()[0])"
   ]
  },
  {
   "cell_type": "code",
   "execution_count": 7,
   "id": "dcbc1590",
   "metadata": {},
   "outputs": [
    {
     "data": {
      "text/html": [
       "<div>\n",
       "<style scoped>\n",
       "    .dataframe tbody tr th:only-of-type {\n",
       "        vertical-align: middle;\n",
       "    }\n",
       "\n",
       "    .dataframe tbody tr th {\n",
       "        vertical-align: top;\n",
       "    }\n",
       "\n",
       "    .dataframe thead th {\n",
       "        text-align: right;\n",
       "    }\n",
       "</style>\n",
       "<table border=\"1\" class=\"dataframe\">\n",
       "  <thead>\n",
       "    <tr style=\"text-align: right;\">\n",
       "      <th></th>\n",
       "      <th>EV</th>\n",
       "    </tr>\n",
       "  </thead>\n",
       "  <tbody>\n",
       "    <tr>\n",
       "      <th>userID</th>\n",
       "      <td>298</td>\n",
       "    </tr>\n",
       "    <tr>\n",
       "      <th>userInput</th>\n",
       "      <td>298</td>\n",
       "    </tr>\n",
       "  </tbody>\n",
       "</table>\n",
       "</div>"
      ],
      "text/plain": [
       "            EV\n",
       "userID     298\n",
       "userInput  298"
      ]
     },
     "execution_count": 7,
     "metadata": {},
     "output_type": "execute_result"
    }
   ],
   "source": [
    "NAs = pd.concat([ev.isnull().sum()], axis=1, keys=[\"EV\"])\n",
    "NAs[NAs.sum(axis=1) > 0]"
   ]
  },
  {
   "cell_type": "code",
   "execution_count": 8,
   "id": "9ab667f2",
   "metadata": {},
   "outputs": [
    {
     "data": {
      "text/plain": [
       "0      NaN\n",
       "1      NaN\n",
       "2      NaN\n",
       "3      NaN\n",
       "4      NaN\n",
       "      ... \n",
       "294    NaN\n",
       "295    NaN\n",
       "296    NaN\n",
       "297    NaN\n",
       "298    NaN\n",
       "Name: userInput, Length: 299, dtype: object"
      ]
     },
     "execution_count": 8,
     "metadata": {},
     "output_type": "execute_result"
    }
   ],
   "source": [
    "ev.pop(\"userID\")\n",
    "ev.pop(\"userInput\")"
   ]
  },
  {
   "cell_type": "code",
   "execution_count": 9,
   "id": "7b0e9951",
   "metadata": {},
   "outputs": [
    {
     "data": {
      "text/html": [
       "<div>\n",
       "<style scoped>\n",
       "    .dataframe tbody tr th:only-of-type {\n",
       "        vertical-align: middle;\n",
       "    }\n",
       "\n",
       "    .dataframe tbody tr th {\n",
       "        vertical-align: top;\n",
       "    }\n",
       "\n",
       "    .dataframe thead th {\n",
       "        text-align: right;\n",
       "    }\n",
       "</style>\n",
       "<table border=\"1\" class=\"dataframe\">\n",
       "  <thead>\n",
       "    <tr style=\"text-align: right;\">\n",
       "      <th></th>\n",
       "      <th>clusterId</th>\n",
       "      <th>kWhDelivered</th>\n",
       "      <th>siteId</th>\n",
       "      <th>id_5bc90cb9f9af8b0d7fe77cd2</th>\n",
       "      <th>id_5bc90cb9f9af8b0d7fe77cd3</th>\n",
       "      <th>id_5bc90cb9f9af8b0d7fe77cd4</th>\n",
       "      <th>id_5bc90cb9f9af8b0d7fe77cd5</th>\n",
       "      <th>id_5bc90cb9f9af8b0d7fe77cd6</th>\n",
       "      <th>id_5bc90cb9f9af8b0d7fe77cd7</th>\n",
       "      <th>id_5bc90cb9f9af8b0d7fe77cd8</th>\n",
       "      <th>...</th>\n",
       "      <th>stationID_2-39-89-439</th>\n",
       "      <th>stationID_2-39-90-26</th>\n",
       "      <th>stationID_2-39-90-440</th>\n",
       "      <th>stationID_2-39-91-437</th>\n",
       "      <th>stationID_2-39-91-441</th>\n",
       "      <th>stationID_2-39-92-436</th>\n",
       "      <th>stationID_2-39-92-442</th>\n",
       "      <th>stationID_2-39-95-27</th>\n",
       "      <th>stationID_2-39-95-444</th>\n",
       "      <th>timezone_America/Los_Angeles</th>\n",
       "    </tr>\n",
       "  </thead>\n",
       "  <tbody>\n",
       "    <tr>\n",
       "      <th>0</th>\n",
       "      <td>39</td>\n",
       "      <td>7.932</td>\n",
       "      <td>2</td>\n",
       "      <td>1</td>\n",
       "      <td>0</td>\n",
       "      <td>0</td>\n",
       "      <td>0</td>\n",
       "      <td>0</td>\n",
       "      <td>0</td>\n",
       "      <td>0</td>\n",
       "      <td>...</td>\n",
       "      <td>0</td>\n",
       "      <td>0</td>\n",
       "      <td>0</td>\n",
       "      <td>0</td>\n",
       "      <td>0</td>\n",
       "      <td>0</td>\n",
       "      <td>0</td>\n",
       "      <td>0</td>\n",
       "      <td>0</td>\n",
       "      <td>1</td>\n",
       "    </tr>\n",
       "    <tr>\n",
       "      <th>1</th>\n",
       "      <td>39</td>\n",
       "      <td>10.013</td>\n",
       "      <td>2</td>\n",
       "      <td>0</td>\n",
       "      <td>1</td>\n",
       "      <td>0</td>\n",
       "      <td>0</td>\n",
       "      <td>0</td>\n",
       "      <td>0</td>\n",
       "      <td>0</td>\n",
       "      <td>...</td>\n",
       "      <td>0</td>\n",
       "      <td>0</td>\n",
       "      <td>0</td>\n",
       "      <td>0</td>\n",
       "      <td>0</td>\n",
       "      <td>0</td>\n",
       "      <td>0</td>\n",
       "      <td>1</td>\n",
       "      <td>0</td>\n",
       "      <td>1</td>\n",
       "    </tr>\n",
       "    <tr>\n",
       "      <th>2</th>\n",
       "      <td>39</td>\n",
       "      <td>5.257</td>\n",
       "      <td>2</td>\n",
       "      <td>0</td>\n",
       "      <td>0</td>\n",
       "      <td>1</td>\n",
       "      <td>0</td>\n",
       "      <td>0</td>\n",
       "      <td>0</td>\n",
       "      <td>0</td>\n",
       "      <td>...</td>\n",
       "      <td>0</td>\n",
       "      <td>0</td>\n",
       "      <td>0</td>\n",
       "      <td>0</td>\n",
       "      <td>0</td>\n",
       "      <td>0</td>\n",
       "      <td>0</td>\n",
       "      <td>0</td>\n",
       "      <td>0</td>\n",
       "      <td>1</td>\n",
       "    </tr>\n",
       "    <tr>\n",
       "      <th>3</th>\n",
       "      <td>39</td>\n",
       "      <td>5.177</td>\n",
       "      <td>2</td>\n",
       "      <td>0</td>\n",
       "      <td>0</td>\n",
       "      <td>0</td>\n",
       "      <td>1</td>\n",
       "      <td>0</td>\n",
       "      <td>0</td>\n",
       "      <td>0</td>\n",
       "      <td>...</td>\n",
       "      <td>0</td>\n",
       "      <td>0</td>\n",
       "      <td>0</td>\n",
       "      <td>0</td>\n",
       "      <td>0</td>\n",
       "      <td>0</td>\n",
       "      <td>0</td>\n",
       "      <td>0</td>\n",
       "      <td>0</td>\n",
       "      <td>1</td>\n",
       "    </tr>\n",
       "    <tr>\n",
       "      <th>4</th>\n",
       "      <td>39</td>\n",
       "      <td>10.119</td>\n",
       "      <td>2</td>\n",
       "      <td>0</td>\n",
       "      <td>0</td>\n",
       "      <td>0</td>\n",
       "      <td>0</td>\n",
       "      <td>1</td>\n",
       "      <td>0</td>\n",
       "      <td>0</td>\n",
       "      <td>...</td>\n",
       "      <td>0</td>\n",
       "      <td>0</td>\n",
       "      <td>0</td>\n",
       "      <td>0</td>\n",
       "      <td>0</td>\n",
       "      <td>0</td>\n",
       "      <td>0</td>\n",
       "      <td>0</td>\n",
       "      <td>0</td>\n",
       "      <td>1</td>\n",
       "    </tr>\n",
       "  </tbody>\n",
       "</table>\n",
       "<p>5 rows × 1591 columns</p>\n",
       "</div>"
      ],
      "text/plain": [
       "   clusterId  kWhDelivered  siteId  id_5bc90cb9f9af8b0d7fe77cd2  \\\n",
       "0         39         7.932       2                            1   \n",
       "1         39        10.013       2                            0   \n",
       "2         39         5.257       2                            0   \n",
       "3         39         5.177       2                            0   \n",
       "4         39        10.119       2                            0   \n",
       "\n",
       "   id_5bc90cb9f9af8b0d7fe77cd3  id_5bc90cb9f9af8b0d7fe77cd4  \\\n",
       "0                            0                            0   \n",
       "1                            1                            0   \n",
       "2                            0                            1   \n",
       "3                            0                            0   \n",
       "4                            0                            0   \n",
       "\n",
       "   id_5bc90cb9f9af8b0d7fe77cd5  id_5bc90cb9f9af8b0d7fe77cd6  \\\n",
       "0                            0                            0   \n",
       "1                            0                            0   \n",
       "2                            0                            0   \n",
       "3                            1                            0   \n",
       "4                            0                            1   \n",
       "\n",
       "   id_5bc90cb9f9af8b0d7fe77cd7  id_5bc90cb9f9af8b0d7fe77cd8  ...  \\\n",
       "0                            0                            0  ...   \n",
       "1                            0                            0  ...   \n",
       "2                            0                            0  ...   \n",
       "3                            0                            0  ...   \n",
       "4                            0                            0  ...   \n",
       "\n",
       "   stationID_2-39-89-439  stationID_2-39-90-26  stationID_2-39-90-440  \\\n",
       "0                      0                     0                      0   \n",
       "1                      0                     0                      0   \n",
       "2                      0                     0                      0   \n",
       "3                      0                     0                      0   \n",
       "4                      0                     0                      0   \n",
       "\n",
       "   stationID_2-39-91-437  stationID_2-39-91-441  stationID_2-39-92-436  \\\n",
       "0                      0                      0                      0   \n",
       "1                      0                      0                      0   \n",
       "2                      0                      0                      0   \n",
       "3                      0                      0                      0   \n",
       "4                      0                      0                      0   \n",
       "\n",
       "   stationID_2-39-92-442  stationID_2-39-95-27  stationID_2-39-95-444  \\\n",
       "0                      0                     0                      0   \n",
       "1                      0                     1                      0   \n",
       "2                      0                     0                      0   \n",
       "3                      0                     0                      0   \n",
       "4                      0                     0                      0   \n",
       "\n",
       "   timezone_America/Los_Angeles  \n",
       "0                             1  \n",
       "1                             1  \n",
       "2                             1  \n",
       "3                             1  \n",
       "4                             1  \n",
       "\n",
       "[5 rows x 1591 columns]"
      ]
     },
     "execution_count": 9,
     "metadata": {},
     "output_type": "execute_result"
    }
   ],
   "source": [
    "for col in ev.dtypes[ev.dtypes == \"object\"].index:\n",
    "    for_dummy = ev.pop(col)\n",
    "    ev = pd.concat([ev, pd.get_dummies(for_dummy, prefix=col)], axis=1)\n",
    "ev.head()"
   ]
  },
  {
   "cell_type": "code",
   "execution_count": 10,
   "id": "86611566",
   "metadata": {},
   "outputs": [],
   "source": [
    "labels = ev.pop(\"kWhDelivered\")"
   ]
  },
  {
   "cell_type": "code",
   "execution_count": 27,
   "id": "f996d3fb",
   "metadata": {},
   "outputs": [],
   "source": [
    "from sklearn.model_selection import train_test_split\n",
    "x_train, x_test, y_train, y_test = train_test_split(ev, labels, test_size=0.2, random_state=0)"
   ]
  },
  {
   "cell_type": "code",
   "execution_count": 28,
   "id": "89bb7753",
   "metadata": {},
   "outputs": [
    {
     "data": {
      "text/html": [
       "<style>#sk-container-id-3 {color: black;background-color: white;}#sk-container-id-3 pre{padding: 0;}#sk-container-id-3 div.sk-toggleable {background-color: white;}#sk-container-id-3 label.sk-toggleable__label {cursor: pointer;display: block;width: 100%;margin-bottom: 0;padding: 0.3em;box-sizing: border-box;text-align: center;}#sk-container-id-3 label.sk-toggleable__label-arrow:before {content: \"▸\";float: left;margin-right: 0.25em;color: #696969;}#sk-container-id-3 label.sk-toggleable__label-arrow:hover:before {color: black;}#sk-container-id-3 div.sk-estimator:hover label.sk-toggleable__label-arrow:before {color: black;}#sk-container-id-3 div.sk-toggleable__content {max-height: 0;max-width: 0;overflow: hidden;text-align: left;background-color: #f0f8ff;}#sk-container-id-3 div.sk-toggleable__content pre {margin: 0.2em;color: black;border-radius: 0.25em;background-color: #f0f8ff;}#sk-container-id-3 input.sk-toggleable__control:checked~div.sk-toggleable__content {max-height: 200px;max-width: 100%;overflow: auto;}#sk-container-id-3 input.sk-toggleable__control:checked~label.sk-toggleable__label-arrow:before {content: \"▾\";}#sk-container-id-3 div.sk-estimator input.sk-toggleable__control:checked~label.sk-toggleable__label {background-color: #d4ebff;}#sk-container-id-3 div.sk-label input.sk-toggleable__control:checked~label.sk-toggleable__label {background-color: #d4ebff;}#sk-container-id-3 input.sk-hidden--visually {border: 0;clip: rect(1px 1px 1px 1px);clip: rect(1px, 1px, 1px, 1px);height: 1px;margin: -1px;overflow: hidden;padding: 0;position: absolute;width: 1px;}#sk-container-id-3 div.sk-estimator {font-family: monospace;background-color: #f0f8ff;border: 1px dotted black;border-radius: 0.25em;box-sizing: border-box;margin-bottom: 0.5em;}#sk-container-id-3 div.sk-estimator:hover {background-color: #d4ebff;}#sk-container-id-3 div.sk-parallel-item::after {content: \"\";width: 100%;border-bottom: 1px solid gray;flex-grow: 1;}#sk-container-id-3 div.sk-label:hover label.sk-toggleable__label {background-color: #d4ebff;}#sk-container-id-3 div.sk-serial::before {content: \"\";position: absolute;border-left: 1px solid gray;box-sizing: border-box;top: 0;bottom: 0;left: 50%;z-index: 0;}#sk-container-id-3 div.sk-serial {display: flex;flex-direction: column;align-items: center;background-color: white;padding-right: 0.2em;padding-left: 0.2em;position: relative;}#sk-container-id-3 div.sk-item {position: relative;z-index: 1;}#sk-container-id-3 div.sk-parallel {display: flex;align-items: stretch;justify-content: center;background-color: white;position: relative;}#sk-container-id-3 div.sk-item::before, #sk-container-id-3 div.sk-parallel-item::before {content: \"\";position: absolute;border-left: 1px solid gray;box-sizing: border-box;top: 0;bottom: 0;left: 50%;z-index: -1;}#sk-container-id-3 div.sk-parallel-item {display: flex;flex-direction: column;z-index: 1;position: relative;background-color: white;}#sk-container-id-3 div.sk-parallel-item:first-child::after {align-self: flex-end;width: 50%;}#sk-container-id-3 div.sk-parallel-item:last-child::after {align-self: flex-start;width: 50%;}#sk-container-id-3 div.sk-parallel-item:only-child::after {width: 0;}#sk-container-id-3 div.sk-dashed-wrapped {border: 1px dashed gray;margin: 0 0.4em 0.5em 0.4em;box-sizing: border-box;padding-bottom: 0.4em;background-color: white;}#sk-container-id-3 div.sk-label label {font-family: monospace;font-weight: bold;display: inline-block;line-height: 1.2em;}#sk-container-id-3 div.sk-label-container {text-align: center;}#sk-container-id-3 div.sk-container {/* jupyter's `normalize.less` sets `[hidden] { display: none; }` but bootstrap.min.css set `[hidden] { display: none !important; }` so we also need the `!important` here to be able to override the default hidden behavior on the sphinx rendered scikit-learn.org. See: https://github.com/scikit-learn/scikit-learn/issues/21755 */display: inline-block !important;position: relative;}#sk-container-id-3 div.sk-text-repr-fallback {display: none;}</style><div id=\"sk-container-id-3\" class=\"sk-top-container\"><div class=\"sk-text-repr-fallback\"><pre>RandomForestRegressor(random_state=1)</pre><b>In a Jupyter environment, please rerun this cell to show the HTML representation or trust the notebook. <br />On GitHub, the HTML representation is unable to render, please try loading this page with nbviewer.org.</b></div><div class=\"sk-container\" hidden><div class=\"sk-item\"><div class=\"sk-estimator sk-toggleable\"><input class=\"sk-toggleable__control sk-hidden--visually\" id=\"sk-estimator-id-3\" type=\"checkbox\" checked><label for=\"sk-estimator-id-3\" class=\"sk-toggleable__label sk-toggleable__label-arrow\">RandomForestRegressor</label><div class=\"sk-toggleable__content\"><pre>RandomForestRegressor(random_state=1)</pre></div></div></div></div></div>"
      ],
      "text/plain": [
       "RandomForestRegressor(random_state=1)"
      ]
     },
     "execution_count": 28,
     "metadata": {},
     "output_type": "execute_result"
    }
   ],
   "source": [
    "\n",
    "rf = RandomForestRegressor(n_estimators=100,random_state=1)\n",
    "rf.fit(x_train, y_train)"
   ]
  },
  {
   "cell_type": "code",
   "execution_count": 31,
   "id": "34894a92",
   "metadata": {},
   "outputs": [
    {
     "ename": "ValueError",
     "evalue": "Found input variables with inconsistent numbers of samples: [60, 75]",
     "output_type": "error",
     "traceback": [
      "\u001b[1;31m---------------------------------------------------------------------------\u001b[0m",
      "\u001b[1;31mValueError\u001b[0m                                Traceback (most recent call last)",
      "Cell \u001b[1;32mIn[31], line 3\u001b[0m\n\u001b[0;32m      1\u001b[0m rf\u001b[38;5;241m.\u001b[39mfit(x_train,y_train)\n\u001b[0;32m      2\u001b[0m y_predict\u001b[38;5;241m=\u001b[39mrf\u001b[38;5;241m.\u001b[39mpredict(x_test)\n\u001b[1;32m----> 3\u001b[0m \u001b[43mmean_squared_error\u001b[49m\u001b[43m(\u001b[49m\u001b[43my_test\u001b[49m\u001b[43m,\u001b[49m\u001b[43my_pred\u001b[49m\u001b[43m)\u001b[49m\n",
      "File \u001b[1;32m~\\AppData\\Local\\Programs\\Python\\Python311\\Lib\\site-packages\\sklearn\\metrics\\_regression.py:442\u001b[0m, in \u001b[0;36mmean_squared_error\u001b[1;34m(y_true, y_pred, sample_weight, multioutput, squared)\u001b[0m\n\u001b[0;32m    382\u001b[0m \u001b[38;5;28;01mdef\u001b[39;00m \u001b[38;5;21mmean_squared_error\u001b[39m(\n\u001b[0;32m    383\u001b[0m     y_true, y_pred, \u001b[38;5;241m*\u001b[39m, sample_weight\u001b[38;5;241m=\u001b[39m\u001b[38;5;28;01mNone\u001b[39;00m, multioutput\u001b[38;5;241m=\u001b[39m\u001b[38;5;124m\"\u001b[39m\u001b[38;5;124muniform_average\u001b[39m\u001b[38;5;124m\"\u001b[39m, squared\u001b[38;5;241m=\u001b[39m\u001b[38;5;28;01mTrue\u001b[39;00m\n\u001b[0;32m    384\u001b[0m ):\n\u001b[0;32m    385\u001b[0m \u001b[38;5;250m    \u001b[39m\u001b[38;5;124;03m\"\"\"Mean squared error regression loss.\u001b[39;00m\n\u001b[0;32m    386\u001b[0m \n\u001b[0;32m    387\u001b[0m \u001b[38;5;124;03m    Read more in the :ref:`User Guide <mean_squared_error>`.\u001b[39;00m\n\u001b[1;32m   (...)\u001b[0m\n\u001b[0;32m    440\u001b[0m \u001b[38;5;124;03m    0.825...\u001b[39;00m\n\u001b[0;32m    441\u001b[0m \u001b[38;5;124;03m    \"\"\"\u001b[39;00m\n\u001b[1;32m--> 442\u001b[0m     y_type, y_true, y_pred, multioutput \u001b[38;5;241m=\u001b[39m \u001b[43m_check_reg_targets\u001b[49m\u001b[43m(\u001b[49m\n\u001b[0;32m    443\u001b[0m \u001b[43m        \u001b[49m\u001b[43my_true\u001b[49m\u001b[43m,\u001b[49m\u001b[43m \u001b[49m\u001b[43my_pred\u001b[49m\u001b[43m,\u001b[49m\u001b[43m \u001b[49m\u001b[43mmultioutput\u001b[49m\n\u001b[0;32m    444\u001b[0m \u001b[43m    \u001b[49m\u001b[43m)\u001b[49m\n\u001b[0;32m    445\u001b[0m     check_consistent_length(y_true, y_pred, sample_weight)\n\u001b[0;32m    446\u001b[0m     output_errors \u001b[38;5;241m=\u001b[39m np\u001b[38;5;241m.\u001b[39maverage((y_true \u001b[38;5;241m-\u001b[39m y_pred) \u001b[38;5;241m*\u001b[39m\u001b[38;5;241m*\u001b[39m \u001b[38;5;241m2\u001b[39m, axis\u001b[38;5;241m=\u001b[39m\u001b[38;5;241m0\u001b[39m, weights\u001b[38;5;241m=\u001b[39msample_weight)\n",
      "File \u001b[1;32m~\\AppData\\Local\\Programs\\Python\\Python311\\Lib\\site-packages\\sklearn\\metrics\\_regression.py:100\u001b[0m, in \u001b[0;36m_check_reg_targets\u001b[1;34m(y_true, y_pred, multioutput, dtype)\u001b[0m\n\u001b[0;32m     66\u001b[0m \u001b[38;5;28;01mdef\u001b[39;00m \u001b[38;5;21m_check_reg_targets\u001b[39m(y_true, y_pred, multioutput, dtype\u001b[38;5;241m=\u001b[39m\u001b[38;5;124m\"\u001b[39m\u001b[38;5;124mnumeric\u001b[39m\u001b[38;5;124m\"\u001b[39m):\n\u001b[0;32m     67\u001b[0m \u001b[38;5;250m    \u001b[39m\u001b[38;5;124;03m\"\"\"Check that y_true and y_pred belong to the same regression task.\u001b[39;00m\n\u001b[0;32m     68\u001b[0m \n\u001b[0;32m     69\u001b[0m \u001b[38;5;124;03m    Parameters\u001b[39;00m\n\u001b[1;32m   (...)\u001b[0m\n\u001b[0;32m     98\u001b[0m \u001b[38;5;124;03m        correct keyword.\u001b[39;00m\n\u001b[0;32m     99\u001b[0m \u001b[38;5;124;03m    \"\"\"\u001b[39;00m\n\u001b[1;32m--> 100\u001b[0m     \u001b[43mcheck_consistent_length\u001b[49m\u001b[43m(\u001b[49m\u001b[43my_true\u001b[49m\u001b[43m,\u001b[49m\u001b[43m \u001b[49m\u001b[43my_pred\u001b[49m\u001b[43m)\u001b[49m\n\u001b[0;32m    101\u001b[0m     y_true \u001b[38;5;241m=\u001b[39m check_array(y_true, ensure_2d\u001b[38;5;241m=\u001b[39m\u001b[38;5;28;01mFalse\u001b[39;00m, dtype\u001b[38;5;241m=\u001b[39mdtype)\n\u001b[0;32m    102\u001b[0m     y_pred \u001b[38;5;241m=\u001b[39m check_array(y_pred, ensure_2d\u001b[38;5;241m=\u001b[39m\u001b[38;5;28;01mFalse\u001b[39;00m, dtype\u001b[38;5;241m=\u001b[39mdtype)\n",
      "File \u001b[1;32m~\\AppData\\Local\\Programs\\Python\\Python311\\Lib\\site-packages\\sklearn\\utils\\validation.py:397\u001b[0m, in \u001b[0;36mcheck_consistent_length\u001b[1;34m(*arrays)\u001b[0m\n\u001b[0;32m    395\u001b[0m uniques \u001b[38;5;241m=\u001b[39m np\u001b[38;5;241m.\u001b[39munique(lengths)\n\u001b[0;32m    396\u001b[0m \u001b[38;5;28;01mif\u001b[39;00m \u001b[38;5;28mlen\u001b[39m(uniques) \u001b[38;5;241m>\u001b[39m \u001b[38;5;241m1\u001b[39m:\n\u001b[1;32m--> 397\u001b[0m     \u001b[38;5;28;01mraise\u001b[39;00m \u001b[38;5;167;01mValueError\u001b[39;00m(\n\u001b[0;32m    398\u001b[0m         \u001b[38;5;124m\"\u001b[39m\u001b[38;5;124mFound input variables with inconsistent numbers of samples: \u001b[39m\u001b[38;5;132;01m%r\u001b[39;00m\u001b[38;5;124m\"\u001b[39m\n\u001b[0;32m    399\u001b[0m         \u001b[38;5;241m%\u001b[39m [\u001b[38;5;28mint\u001b[39m(l) \u001b[38;5;28;01mfor\u001b[39;00m l \u001b[38;5;129;01min\u001b[39;00m lengths]\n\u001b[0;32m    400\u001b[0m     )\n",
      "\u001b[1;31mValueError\u001b[0m: Found input variables with inconsistent numbers of samples: [60, 75]"
     ]
    }
   ],
   "source": [
    "rf.fit(x_train,y_train)\n",
    "y_predict=rf.predict(x_test)\n",
    "mean_squared_error(y_test,y_pred)"
   ]
  },
  {
   "cell_type": "code",
   "execution_count": 3,
   "id": "907e9e32",
   "metadata": {},
   "outputs": [
    {
     "name": "stdout",
     "output_type": "stream",
     "text": [
      "(299, 11)\n"
     ]
    }
   ],
   "source": [
    "df= pd.read_csv(\"C:\\\\Users\\\\Himani\\\\Desktop\\\\pp/Weather.csv\")\n",
    "print(df.shape)"
   ]
  },
  {
   "cell_type": "code",
   "execution_count": 4,
   "id": "22cf3664",
   "metadata": {},
   "outputs": [
    {
     "data": {
      "text/html": [
       "<div>\n",
       "<style scoped>\n",
       "    .dataframe tbody tr th:only-of-type {\n",
       "        vertical-align: middle;\n",
       "    }\n",
       "\n",
       "    .dataframe tbody tr th {\n",
       "        vertical-align: top;\n",
       "    }\n",
       "\n",
       "    .dataframe thead th {\n",
       "        text-align: right;\n",
       "    }\n",
       "</style>\n",
       "<table border=\"1\" class=\"dataframe\">\n",
       "  <thead>\n",
       "    <tr style=\"text-align: right;\">\n",
       "      <th></th>\n",
       "      <th>Date</th>\n",
       "      <th>Precip Type</th>\n",
       "      <th>temperature</th>\n",
       "      <th>App. Temp</th>\n",
       "      <th>Avg. Humidity</th>\n",
       "      <th>Avg Wind Speed(mph)</th>\n",
       "      <th>Wind Bearing(degrees)</th>\n",
       "      <th>Visibility(km)</th>\n",
       "      <th>Loud Cover</th>\n",
       "      <th>Pressure(millibar)</th>\n",
       "      <th>Daily summary</th>\n",
       "    </tr>\n",
       "  </thead>\n",
       "  <tbody>\n",
       "    <tr>\n",
       "      <th>0</th>\n",
       "      <td>Wed, 25 Apr 2018</td>\n",
       "      <td>rain</td>\n",
       "      <td>24.372222</td>\n",
       "      <td>24.372222</td>\n",
       "      <td>34.846153</td>\n",
       "      <td>13.54</td>\n",
       "      <td>300</td>\n",
       "      <td>9.9015</td>\n",
       "      <td>0</td>\n",
       "      <td>1004.55</td>\n",
       "      <td>Mostly cloudy .</td>\n",
       "    </tr>\n",
       "    <tr>\n",
       "      <th>1</th>\n",
       "      <td>Wed, 25 Apr 2018</td>\n",
       "      <td>rain</td>\n",
       "      <td>24.372222</td>\n",
       "      <td>24.372222</td>\n",
       "      <td>34.846153</td>\n",
       "      <td>13.54</td>\n",
       "      <td>300</td>\n",
       "      <td>9.9015</td>\n",
       "      <td>0</td>\n",
       "      <td>1004.55</td>\n",
       "      <td>Mostly cloudy .</td>\n",
       "    </tr>\n",
       "    <tr>\n",
       "      <th>2</th>\n",
       "      <td>Wed, 25 Apr 2018</td>\n",
       "      <td>rain</td>\n",
       "      <td>24.372222</td>\n",
       "      <td>24.372222</td>\n",
       "      <td>34.846153</td>\n",
       "      <td>13.54</td>\n",
       "      <td>300</td>\n",
       "      <td>9.9015</td>\n",
       "      <td>0</td>\n",
       "      <td>1004.55</td>\n",
       "      <td>Mostly cloudy .</td>\n",
       "    </tr>\n",
       "    <tr>\n",
       "      <th>3</th>\n",
       "      <td>Wed, 25 Apr 2018</td>\n",
       "      <td>rain</td>\n",
       "      <td>24.372222</td>\n",
       "      <td>24.372222</td>\n",
       "      <td>34.846153</td>\n",
       "      <td>13.54</td>\n",
       "      <td>300</td>\n",
       "      <td>9.9015</td>\n",
       "      <td>0</td>\n",
       "      <td>1004.55</td>\n",
       "      <td>Mostly cloudy .</td>\n",
       "    </tr>\n",
       "    <tr>\n",
       "      <th>4</th>\n",
       "      <td>Wed, 25 Apr 2018</td>\n",
       "      <td>rain</td>\n",
       "      <td>24.372222</td>\n",
       "      <td>24.372222</td>\n",
       "      <td>34.846153</td>\n",
       "      <td>13.54</td>\n",
       "      <td>300</td>\n",
       "      <td>9.9015</td>\n",
       "      <td>0</td>\n",
       "      <td>1004.55</td>\n",
       "      <td>Mostly cloudy .</td>\n",
       "    </tr>\n",
       "  </tbody>\n",
       "</table>\n",
       "</div>"
      ],
      "text/plain": [
       "               Date Precip Type  temperature  App. Temp  Avg. Humidity  \\\n",
       "0  Wed, 25 Apr 2018        rain    24.372222  24.372222      34.846153   \n",
       "1  Wed, 25 Apr 2018        rain    24.372222  24.372222      34.846153   \n",
       "2  Wed, 25 Apr 2018        rain    24.372222  24.372222      34.846153   \n",
       "3  Wed, 25 Apr 2018        rain    24.372222  24.372222      34.846153   \n",
       "4  Wed, 25 Apr 2018        rain    24.372222  24.372222      34.846153   \n",
       "\n",
       "   Avg Wind Speed(mph)  Wind Bearing(degrees)  Visibility(km)  Loud Cover  \\\n",
       "0                13.54                    300          9.9015           0   \n",
       "1                13.54                    300          9.9015           0   \n",
       "2                13.54                    300          9.9015           0   \n",
       "3                13.54                    300          9.9015           0   \n",
       "4                13.54                    300          9.9015           0   \n",
       "\n",
       "   Pressure(millibar)    Daily summary  \n",
       "0             1004.55  Mostly cloudy .  \n",
       "1             1004.55  Mostly cloudy .  \n",
       "2             1004.55  Mostly cloudy .  \n",
       "3             1004.55  Mostly cloudy .  \n",
       "4             1004.55  Mostly cloudy .  "
      ]
     },
     "execution_count": 4,
     "metadata": {},
     "output_type": "execute_result"
    }
   ],
   "source": [
    "df.head()"
   ]
  },
  {
   "cell_type": "code",
   "execution_count": null,
   "id": "1d235a59",
   "metadata": {},
   "outputs": [],
   "source": []
  }
 ],
 "metadata": {
  "kernelspec": {
   "display_name": "Python 3 (ipykernel)",
   "language": "python",
   "name": "python3"
  },
  "language_info": {
   "codemirror_mode": {
    "name": "ipython",
    "version": 3
   },
   "file_extension": ".py",
   "mimetype": "text/x-python",
   "name": "python",
   "nbconvert_exporter": "python",
   "pygments_lexer": "ipython3",
   "version": "3.11.2"
  }
 },
 "nbformat": 4,
 "nbformat_minor": 5
}
