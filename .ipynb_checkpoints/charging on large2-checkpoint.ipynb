{
 "cells": [
  {
   "cell_type": "markdown",
   "id": "2f9a33db",
   "metadata": {},
   "source": [
    "# Importing the Libraries"
   ]
  },
  {
   "cell_type": "code",
   "execution_count": 2,
   "id": "f91db0d9",
   "metadata": {},
   "outputs": [],
   "source": [
    "import numpy as np\n",
    "import pandas as pd\n",
    "import matplotlib.pyplot as plt\n",
    "import seaborn as sns\n",
    "from sklearn.model_selection import train_test_split\n",
    "from sklearn.ensemble import RandomForestRegressor\n",
    "from sklearn import metrics\n",
    "from sklearn.ensemble import StackingRegressor\n",
    "from sklearn.ensemble import VotingRegressor\n",
    "from sklearn.metrics import mean_absolute_error\n",
    "from sklearn.metrics import mean_squared_error\n",
    "from math import sqrt\n",
    "from sklearn.preprocessing import StandardScaler\n",
    "from sklearn.svm import SVR\n",
    "from xgboost import XGBRegressor\n",
    "from keras.models import Sequential\n",
    "from keras.layers import Dense, BatchNormalization, Dropout, LSTM\n",
    "from sklearn.ensemble import IsolationForest"
   ]
  },
  {
   "cell_type": "markdown",
   "id": "4fdbf56f",
   "metadata": {},
   "source": [
    "# Data Collection and Processing"
   ]
  },
  {
   "cell_type": "code",
   "execution_count": 3,
   "id": "2cfc00ec",
   "metadata": {
    "scrolled": true
   },
   "outputs": [],
   "source": [
    "# loading the csv data to a Pandas DataFrame\n",
    "ev= pd.read_csv('C:\\\\Users\\\\Dell\\\\Desktop\\\\pp/bigg.csv')"
   ]
  },
  {
   "cell_type": "code",
   "execution_count": 4,
   "id": "222c17db",
   "metadata": {},
   "outputs": [
    {
     "data": {
      "text/html": [
       "<div>\n",
       "<style scoped>\n",
       "    .dataframe tbody tr th:only-of-type {\n",
       "        vertical-align: middle;\n",
       "    }\n",
       "\n",
       "    .dataframe tbody tr th {\n",
       "        vertical-align: top;\n",
       "    }\n",
       "\n",
       "    .dataframe thead th {\n",
       "        text-align: right;\n",
       "    }\n",
       "</style>\n",
       "<table border=\"1\" class=\"dataframe\">\n",
       "  <thead>\n",
       "    <tr style=\"text-align: right;\">\n",
       "      <th></th>\n",
       "      <th>id</th>\n",
       "      <th>clusterId</th>\n",
       "      <th>connectionTime</th>\n",
       "      <th>Num.Rep.</th>\n",
       "      <th>disconnectTime</th>\n",
       "      <th>donechargingTime</th>\n",
       "      <th>SessionLength</th>\n",
       "      <th>Avg.Sess.</th>\n",
       "      <th>kWhDelivered</th>\n",
       "      <th>Avg.Cons.</th>\n",
       "      <th>...</th>\n",
       "      <th>Precip Type</th>\n",
       "      <th>temperature</th>\n",
       "      <th>Avg. Humidity</th>\n",
       "      <th>Avg Wind Speed(mph)</th>\n",
       "      <th>Wind Bearing(degrees)</th>\n",
       "      <th>Visibility(km)</th>\n",
       "      <th>Loud Cover</th>\n",
       "      <th>Pressure(millibar)</th>\n",
       "      <th>Battery_Pack Kwh</th>\n",
       "      <th>FastCharge_KmH</th>\n",
       "    </tr>\n",
       "  </thead>\n",
       "  <tbody>\n",
       "    <tr>\n",
       "      <th>0</th>\n",
       "      <td>5bc90cb9f9af8b0d7fe77cd2</td>\n",
       "      <td>39</td>\n",
       "      <td>Wed, 25 Apr 2018 11:08:04 GMT</td>\n",
       "      <td>11.13</td>\n",
       "      <td>Wed, 25 Apr 2018 13:20:10 GMT</td>\n",
       "      <td>Wed, 25 Apr 2018 13:21:10 GMT</td>\n",
       "      <td>2.20</td>\n",
       "      <td>3.55</td>\n",
       "      <td>7.93</td>\n",
       "      <td>6.44</td>\n",
       "      <td>...</td>\n",
       "      <td>rain</td>\n",
       "      <td>24.37</td>\n",
       "      <td>34.85</td>\n",
       "      <td>13.54</td>\n",
       "      <td>300</td>\n",
       "      <td>9.9</td>\n",
       "      <td>0</td>\n",
       "      <td>1004.55</td>\n",
       "      <td>70.0</td>\n",
       "      <td>940</td>\n",
       "    </tr>\n",
       "    <tr>\n",
       "      <th>1</th>\n",
       "      <td>5bc90cb9f9af8b0d7fe77cd3</td>\n",
       "      <td>39</td>\n",
       "      <td>Wed, 25 Apr 2018 13:45:10 GMT</td>\n",
       "      <td>13.75</td>\n",
       "      <td>Thu, 26 Apr 2018 00:56:16 GMT</td>\n",
       "      <td>Wed, 25 Apr 2018 16:44:15 GMT</td>\n",
       "      <td>11.19</td>\n",
       "      <td>3.55</td>\n",
       "      <td>10.01</td>\n",
       "      <td>6.44</td>\n",
       "      <td>...</td>\n",
       "      <td>rain</td>\n",
       "      <td>24.37</td>\n",
       "      <td>34.85</td>\n",
       "      <td>13.54</td>\n",
       "      <td>300</td>\n",
       "      <td>9.9</td>\n",
       "      <td>0</td>\n",
       "      <td>1004.55</td>\n",
       "      <td>45.0</td>\n",
       "      <td>250</td>\n",
       "    </tr>\n",
       "    <tr>\n",
       "      <th>2</th>\n",
       "      <td>5bc90cb9f9af8b0d7fe77cd4</td>\n",
       "      <td>39</td>\n",
       "      <td>Wed, 25 Apr 2018 13:45:50 GMT</td>\n",
       "      <td>13.76</td>\n",
       "      <td>Wed, 25 Apr 2018 23:04:45 GMT</td>\n",
       "      <td>Wed, 25 Apr 2018 14:51:44 GMT</td>\n",
       "      <td>10.33</td>\n",
       "      <td>3.54</td>\n",
       "      <td>5.26</td>\n",
       "      <td>6.44</td>\n",
       "      <td>...</td>\n",
       "      <td>rain</td>\n",
       "      <td>24.37</td>\n",
       "      <td>34.85</td>\n",
       "      <td>13.54</td>\n",
       "      <td>300</td>\n",
       "      <td>9.9</td>\n",
       "      <td>0</td>\n",
       "      <td>1004.55</td>\n",
       "      <td>75.0</td>\n",
       "      <td>620</td>\n",
       "    </tr>\n",
       "    <tr>\n",
       "      <th>3</th>\n",
       "      <td>5bc90cb9f9af8b0d7fe77cd5</td>\n",
       "      <td>39</td>\n",
       "      <td>Wed, 25 Apr 2018 14:37:06 GMT</td>\n",
       "      <td>14.62</td>\n",
       "      <td>Wed, 25 Apr 2018 23:55:34 GMT</td>\n",
       "      <td>Wed, 25 Apr 2018 16:05:22 GMT</td>\n",
       "      <td>9.31</td>\n",
       "      <td>3.55</td>\n",
       "      <td>5.18</td>\n",
       "      <td>6.44</td>\n",
       "      <td>...</td>\n",
       "      <td>rain</td>\n",
       "      <td>24.37</td>\n",
       "      <td>34.85</td>\n",
       "      <td>13.54</td>\n",
       "      <td>300</td>\n",
       "      <td>9.9</td>\n",
       "      <td>0</td>\n",
       "      <td>1004.55</td>\n",
       "      <td>74.0</td>\n",
       "      <td>560</td>\n",
       "    </tr>\n",
       "    <tr>\n",
       "      <th>4</th>\n",
       "      <td>5bc90cb9f9af8b0d7fe77cd6</td>\n",
       "      <td>39</td>\n",
       "      <td>Wed, 25 Apr 2018 14:40:34 GMT</td>\n",
       "      <td>14.68</td>\n",
       "      <td>Wed, 25 Apr 2018 23:03:12 GMT</td>\n",
       "      <td>Wed, 25 Apr 2018 17:40:30 GMT</td>\n",
       "      <td>8.38</td>\n",
       "      <td>3.55</td>\n",
       "      <td>10.12</td>\n",
       "      <td>6.44</td>\n",
       "      <td>...</td>\n",
       "      <td>rain</td>\n",
       "      <td>24.37</td>\n",
       "      <td>34.85</td>\n",
       "      <td>13.54</td>\n",
       "      <td>300</td>\n",
       "      <td>9.9</td>\n",
       "      <td>0</td>\n",
       "      <td>1004.55</td>\n",
       "      <td>28.5</td>\n",
       "      <td>190</td>\n",
       "    </tr>\n",
       "  </tbody>\n",
       "</table>\n",
       "<p>5 rows × 27 columns</p>\n",
       "</div>"
      ],
      "text/plain": [
       "                         id  clusterId                 connectionTime   \n",
       "0  5bc90cb9f9af8b0d7fe77cd2         39  Wed, 25 Apr 2018 11:08:04 GMT  \\\n",
       "1  5bc90cb9f9af8b0d7fe77cd3         39  Wed, 25 Apr 2018 13:45:10 GMT   \n",
       "2  5bc90cb9f9af8b0d7fe77cd4         39  Wed, 25 Apr 2018 13:45:50 GMT   \n",
       "3  5bc90cb9f9af8b0d7fe77cd5         39  Wed, 25 Apr 2018 14:37:06 GMT   \n",
       "4  5bc90cb9f9af8b0d7fe77cd6         39  Wed, 25 Apr 2018 14:40:34 GMT   \n",
       "\n",
       "   Num.Rep.                 disconnectTime               donechargingTime   \n",
       "0     11.13  Wed, 25 Apr 2018 13:20:10 GMT  Wed, 25 Apr 2018 13:21:10 GMT  \\\n",
       "1     13.75  Thu, 26 Apr 2018 00:56:16 GMT  Wed, 25 Apr 2018 16:44:15 GMT   \n",
       "2     13.76  Wed, 25 Apr 2018 23:04:45 GMT  Wed, 25 Apr 2018 14:51:44 GMT   \n",
       "3     14.62  Wed, 25 Apr 2018 23:55:34 GMT  Wed, 25 Apr 2018 16:05:22 GMT   \n",
       "4     14.68  Wed, 25 Apr 2018 23:03:12 GMT  Wed, 25 Apr 2018 17:40:30 GMT   \n",
       "\n",
       "   SessionLength  Avg.Sess.  kWhDelivered  Avg.Cons.  ... Precip Type   \n",
       "0           2.20       3.55          7.93       6.44  ...        rain  \\\n",
       "1          11.19       3.55         10.01       6.44  ...        rain   \n",
       "2          10.33       3.54          5.26       6.44  ...        rain   \n",
       "3           9.31       3.55          5.18       6.44  ...        rain   \n",
       "4           8.38       3.55         10.12       6.44  ...        rain   \n",
       "\n",
       "   temperature Avg. Humidity Avg Wind Speed(mph) Wind Bearing(degrees)   \n",
       "0        24.37         34.85               13.54                   300  \\\n",
       "1        24.37         34.85               13.54                   300   \n",
       "2        24.37         34.85               13.54                   300   \n",
       "3        24.37         34.85               13.54                   300   \n",
       "4        24.37         34.85               13.54                   300   \n",
       "\n",
       "   Visibility(km)  Loud Cover Pressure(millibar)  Battery_Pack Kwh   \n",
       "0             9.9           0            1004.55              70.0  \\\n",
       "1             9.9           0            1004.55              45.0   \n",
       "2             9.9           0            1004.55              75.0   \n",
       "3             9.9           0            1004.55              74.0   \n",
       "4             9.9           0            1004.55              28.5   \n",
       "\n",
       "   FastCharge_KmH  \n",
       "0             940  \n",
       "1             250  \n",
       "2             620  \n",
       "3             560  \n",
       "4             190  \n",
       "\n",
       "[5 rows x 27 columns]"
      ]
     },
     "execution_count": 4,
     "metadata": {},
     "output_type": "execute_result"
    }
   ],
   "source": [
    "# print first 5 rows in the dataframe\n",
    "ev.head()"
   ]
  },
  {
   "cell_type": "code",
   "execution_count": 5,
   "id": "3b7dbffb",
   "metadata": {},
   "outputs": [
    {
     "data": {
      "text/html": [
       "<div>\n",
       "<style scoped>\n",
       "    .dataframe tbody tr th:only-of-type {\n",
       "        vertical-align: middle;\n",
       "    }\n",
       "\n",
       "    .dataframe tbody tr th {\n",
       "        vertical-align: top;\n",
       "    }\n",
       "\n",
       "    .dataframe thead th {\n",
       "        text-align: right;\n",
       "    }\n",
       "</style>\n",
       "<table border=\"1\" class=\"dataframe\">\n",
       "  <thead>\n",
       "    <tr style=\"text-align: right;\">\n",
       "      <th></th>\n",
       "      <th>id</th>\n",
       "      <th>clusterId</th>\n",
       "      <th>connectionTime</th>\n",
       "      <th>Num.Rep.</th>\n",
       "      <th>disconnectTime</th>\n",
       "      <th>donechargingTime</th>\n",
       "      <th>SessionLength</th>\n",
       "      <th>Avg.Sess.</th>\n",
       "      <th>kWhDelivered</th>\n",
       "      <th>Avg.Cons.</th>\n",
       "      <th>...</th>\n",
       "      <th>Precip Type</th>\n",
       "      <th>temperature</th>\n",
       "      <th>Avg. Humidity</th>\n",
       "      <th>Avg Wind Speed(mph)</th>\n",
       "      <th>Wind Bearing(degrees)</th>\n",
       "      <th>Visibility(km)</th>\n",
       "      <th>Loud Cover</th>\n",
       "      <th>Pressure(millibar)</th>\n",
       "      <th>Battery_Pack Kwh</th>\n",
       "      <th>FastCharge_KmH</th>\n",
       "    </tr>\n",
       "  </thead>\n",
       "  <tbody>\n",
       "    <tr>\n",
       "      <th>1194</th>\n",
       "      <td>9543932</td>\n",
       "      <td>39</td>\n",
       "      <td>2015-08-03 16:45:16</td>\n",
       "      <td>16.0</td>\n",
       "      <td>2015-08-03 19:58:16</td>\n",
       "      <td>2015-08-03 19:58:16</td>\n",
       "      <td>3.22</td>\n",
       "      <td>2.57</td>\n",
       "      <td>1.82</td>\n",
       "      <td>3.62</td>\n",
       "      <td>...</td>\n",
       "      <td>rain</td>\n",
       "      <td>35.98</td>\n",
       "      <td>40.55</td>\n",
       "      <td>10.35</td>\n",
       "      <td>305</td>\n",
       "      <td>16.1</td>\n",
       "      <td>0</td>\n",
       "      <td>1005.18</td>\n",
       "      <td>45.0</td>\n",
       "      <td>260</td>\n",
       "    </tr>\n",
       "    <tr>\n",
       "      <th>1195</th>\n",
       "      <td>9851741</td>\n",
       "      <td>39</td>\n",
       "      <td>2015-08-04 19:00:42</td>\n",
       "      <td>19.0</td>\n",
       "      <td>2015-08-04 20:31:07</td>\n",
       "      <td>2015-08-04 20:31:07</td>\n",
       "      <td>1.51</td>\n",
       "      <td>2.41</td>\n",
       "      <td>4.73</td>\n",
       "      <td>4.07</td>\n",
       "      <td>...</td>\n",
       "      <td>rain</td>\n",
       "      <td>35.98</td>\n",
       "      <td>40.55</td>\n",
       "      <td>10.35</td>\n",
       "      <td>305</td>\n",
       "      <td>16.1</td>\n",
       "      <td>0</td>\n",
       "      <td>1005.18</td>\n",
       "      <td>65.0</td>\n",
       "      <td>345</td>\n",
       "    </tr>\n",
       "    <tr>\n",
       "      <th>1196</th>\n",
       "      <td>4852971</td>\n",
       "      <td>39</td>\n",
       "      <td>2015-08-05 12:18:20</td>\n",
       "      <td>12.0</td>\n",
       "      <td>2015-08-05 15:35:08</td>\n",
       "      <td>2015-08-05 15:35:08</td>\n",
       "      <td>3.28</td>\n",
       "      <td>2.70</td>\n",
       "      <td>3.69</td>\n",
       "      <td>3.85</td>\n",
       "      <td>...</td>\n",
       "      <td>rain</td>\n",
       "      <td>35.98</td>\n",
       "      <td>40.55</td>\n",
       "      <td>10.35</td>\n",
       "      <td>305</td>\n",
       "      <td>17.3</td>\n",
       "      <td>0</td>\n",
       "      <td>1005.18</td>\n",
       "      <td>118.0</td>\n",
       "      <td>670</td>\n",
       "    </tr>\n",
       "    <tr>\n",
       "      <th>1197</th>\n",
       "      <td>6431779</td>\n",
       "      <td>39</td>\n",
       "      <td>2015-08-06 13:53:58</td>\n",
       "      <td>13.0</td>\n",
       "      <td>2015-08-06 15:47:07</td>\n",
       "      <td>2015-08-06 15:47:07</td>\n",
       "      <td>1.89</td>\n",
       "      <td>2.42</td>\n",
       "      <td>3.82</td>\n",
       "      <td>3.93</td>\n",
       "      <td>...</td>\n",
       "      <td>rain</td>\n",
       "      <td>35.98</td>\n",
       "      <td>40.55</td>\n",
       "      <td>10.35</td>\n",
       "      <td>305</td>\n",
       "      <td>17.3</td>\n",
       "      <td>0</td>\n",
       "      <td>1005.18</td>\n",
       "      <td>28.0</td>\n",
       "      <td>215</td>\n",
       "    </tr>\n",
       "    <tr>\n",
       "      <th>1198</th>\n",
       "      <td>7870286</td>\n",
       "      <td>39</td>\n",
       "      <td>2015-08-07 12:05:16</td>\n",
       "      <td>12.0</td>\n",
       "      <td>2015-08-07 15:02:08</td>\n",
       "      <td>2015-08-07 15:02:08</td>\n",
       "      <td>2.95</td>\n",
       "      <td>2.95</td>\n",
       "      <td>4.03</td>\n",
       "      <td>4.03</td>\n",
       "      <td>...</td>\n",
       "      <td>rain</td>\n",
       "      <td>35.98</td>\n",
       "      <td>40.55</td>\n",
       "      <td>10.35</td>\n",
       "      <td>305</td>\n",
       "      <td>17.3</td>\n",
       "      <td>0</td>\n",
       "      <td>1005.18</td>\n",
       "      <td>70.0</td>\n",
       "      <td>800</td>\n",
       "    </tr>\n",
       "  </tbody>\n",
       "</table>\n",
       "<p>5 rows × 27 columns</p>\n",
       "</div>"
      ],
      "text/plain": [
       "           id  clusterId       connectionTime  Num.Rep.       disconnectTime   \n",
       "1194  9543932         39  2015-08-03 16:45:16      16.0  2015-08-03 19:58:16  \\\n",
       "1195  9851741         39  2015-08-04 19:00:42      19.0  2015-08-04 20:31:07   \n",
       "1196  4852971         39  2015-08-05 12:18:20      12.0  2015-08-05 15:35:08   \n",
       "1197  6431779         39  2015-08-06 13:53:58      13.0  2015-08-06 15:47:07   \n",
       "1198  7870286         39  2015-08-07 12:05:16      12.0  2015-08-07 15:02:08   \n",
       "\n",
       "         donechargingTime  SessionLength  Avg.Sess.  kWhDelivered  Avg.Cons.   \n",
       "1194  2015-08-03 19:58:16           3.22       2.57          1.82       3.62  \\\n",
       "1195  2015-08-04 20:31:07           1.51       2.41          4.73       4.07   \n",
       "1196  2015-08-05 15:35:08           3.28       2.70          3.69       3.85   \n",
       "1197  2015-08-06 15:47:07           1.89       2.42          3.82       3.93   \n",
       "1198  2015-08-07 15:02:08           2.95       2.95          4.03       4.03   \n",
       "\n",
       "      ... Precip Type  temperature Avg. Humidity Avg Wind Speed(mph)   \n",
       "1194  ...        rain        35.98         40.55               10.35  \\\n",
       "1195  ...        rain        35.98         40.55               10.35   \n",
       "1196  ...        rain        35.98         40.55               10.35   \n",
       "1197  ...        rain        35.98         40.55               10.35   \n",
       "1198  ...        rain        35.98         40.55               10.35   \n",
       "\n",
       "     Wind Bearing(degrees)  Visibility(km)  Loud Cover Pressure(millibar)   \n",
       "1194                   305            16.1           0            1005.18  \\\n",
       "1195                   305            16.1           0            1005.18   \n",
       "1196                   305            17.3           0            1005.18   \n",
       "1197                   305            17.3           0            1005.18   \n",
       "1198                   305            17.3           0            1005.18   \n",
       "\n",
       "      Battery_Pack Kwh  FastCharge_KmH  \n",
       "1194              45.0             260  \n",
       "1195              65.0             345  \n",
       "1196             118.0             670  \n",
       "1197              28.0             215  \n",
       "1198              70.0             800  \n",
       "\n",
       "[5 rows x 27 columns]"
      ]
     },
     "execution_count": 5,
     "metadata": {},
     "output_type": "execute_result"
    }
   ],
   "source": [
    "# print last 5 rows of the dataframe\n",
    "ev.tail()"
   ]
  },
  {
   "cell_type": "code",
   "execution_count": 6,
   "id": "7d2a15ea",
   "metadata": {},
   "outputs": [
    {
     "data": {
      "text/plain": [
       "(1199, 27)"
      ]
     },
     "execution_count": 6,
     "metadata": {},
     "output_type": "execute_result"
    }
   ],
   "source": [
    "# number of rows and columns\n",
    "ev.shape"
   ]
  },
  {
   "cell_type": "code",
   "execution_count": 7,
   "id": "8e1d13d8",
   "metadata": {},
   "outputs": [
    {
     "name": "stdout",
     "output_type": "stream",
     "text": [
      "<class 'pandas.core.frame.DataFrame'>\n",
      "RangeIndex: 1199 entries, 0 to 1198\n",
      "Data columns (total 27 columns):\n",
      " #   Column                 Non-Null Count  Dtype  \n",
      "---  ------                 --------------  -----  \n",
      " 0   id                     1199 non-null   object \n",
      " 1   clusterId              1199 non-null   int64  \n",
      " 2   connectionTime         1199 non-null   object \n",
      " 3   Num.Rep.               1199 non-null   float64\n",
      " 4   disconnectTime         1199 non-null   object \n",
      " 5   donechargingTime       1198 non-null   object \n",
      " 6   SessionLength          1199 non-null   float64\n",
      " 7   Avg.Sess.              1199 non-null   float64\n",
      " 8   kWhDelivered           1199 non-null   float64\n",
      " 9   Avg.Cons.              1199 non-null   float64\n",
      " 10  sessionId              1199 non-null   object \n",
      " 11  siteId                 1199 non-null   int64  \n",
      " 12  spaceID                1199 non-null   object \n",
      " 13  stationID              1199 non-null   object \n",
      " 14  timezone               1199 non-null   object \n",
      " 15  userID                 0 non-null      float64\n",
      " 16  userInput              0 non-null      float64\n",
      " 17  Precip Type            1199 non-null   object \n",
      " 18  temperature            1199 non-null   float64\n",
      " 19  Avg. Humidity          1199 non-null   float64\n",
      " 20  Avg Wind Speed(mph)    1199 non-null   float64\n",
      " 21  Wind Bearing(degrees)  1199 non-null   int64  \n",
      " 22  Visibility(km)         1199 non-null   float64\n",
      " 23  Loud Cover             1199 non-null   int64  \n",
      " 24  Pressure(millibar)     1199 non-null   float64\n",
      " 25  Battery_Pack Kwh       1199 non-null   float64\n",
      " 26  FastCharge_KmH         1199 non-null   int64  \n",
      "dtypes: float64(13), int64(5), object(9)\n",
      "memory usage: 253.0+ KB\n"
     ]
    }
   ],
   "source": [
    "# getting some basic informations about the data\n",
    "ev.info()"
   ]
  },
  {
   "cell_type": "code",
   "execution_count": 8,
   "id": "02415370",
   "metadata": {},
   "outputs": [
    {
     "data": {
      "text/plain": [
       "id                          0\n",
       "clusterId                   0\n",
       "connectionTime              0\n",
       "Num.Rep.                    0\n",
       "disconnectTime              0\n",
       "donechargingTime            1\n",
       "SessionLength               0\n",
       "Avg.Sess.                   0\n",
       "kWhDelivered                0\n",
       "Avg.Cons.                   0\n",
       "sessionId                   0\n",
       "siteId                      0\n",
       "spaceID                     0\n",
       "stationID                   0\n",
       "timezone                    0\n",
       "userID                   1199\n",
       "userInput                1199\n",
       "Precip Type                 0\n",
       "temperature                 0\n",
       "Avg. Humidity               0\n",
       "Avg Wind Speed(mph)         0\n",
       "Wind Bearing(degrees)       0\n",
       "Visibility(km)              0\n",
       "Loud Cover                  0\n",
       "Pressure(millibar)          0\n",
       "Battery_Pack Kwh            0\n",
       "FastCharge_KmH              0\n",
       "dtype: int64"
      ]
     },
     "execution_count": 8,
     "metadata": {},
     "output_type": "execute_result"
    }
   ],
   "source": [
    "# checking the number of missing values\n",
    "ev.isnull().sum()"
   ]
  },
  {
   "cell_type": "code",
   "execution_count": 9,
   "id": "1bea6d0b",
   "metadata": {},
   "outputs": [],
   "source": [
    "ev[\"donechargingTime\"] = ev[\"donechargingTime\"].fillna(ev[\"donechargingTime\"].mode()[0])"
   ]
  },
  {
   "cell_type": "code",
   "execution_count": 10,
   "id": "5cde64ca",
   "metadata": {},
   "outputs": [
    {
     "data": {
      "text/html": [
       "<div>\n",
       "<style scoped>\n",
       "    .dataframe tbody tr th:only-of-type {\n",
       "        vertical-align: middle;\n",
       "    }\n",
       "\n",
       "    .dataframe tbody tr th {\n",
       "        vertical-align: top;\n",
       "    }\n",
       "\n",
       "    .dataframe thead th {\n",
       "        text-align: right;\n",
       "    }\n",
       "</style>\n",
       "<table border=\"1\" class=\"dataframe\">\n",
       "  <thead>\n",
       "    <tr style=\"text-align: right;\">\n",
       "      <th></th>\n",
       "      <th>EV</th>\n",
       "    </tr>\n",
       "  </thead>\n",
       "  <tbody>\n",
       "    <tr>\n",
       "      <th>userID</th>\n",
       "      <td>1199</td>\n",
       "    </tr>\n",
       "    <tr>\n",
       "      <th>userInput</th>\n",
       "      <td>1199</td>\n",
       "    </tr>\n",
       "  </tbody>\n",
       "</table>\n",
       "</div>"
      ],
      "text/plain": [
       "             EV\n",
       "userID     1199\n",
       "userInput  1199"
      ]
     },
     "execution_count": 10,
     "metadata": {},
     "output_type": "execute_result"
    }
   ],
   "source": [
    "NAs = pd.concat([ev.isnull().sum()], axis=1, keys=[\"EV\"])\n",
    "NAs[NAs.sum(axis=1) > 0]"
   ]
  },
  {
   "cell_type": "code",
   "execution_count": 11,
   "id": "8e6700d7",
   "metadata": {},
   "outputs": [
    {
     "data": {
      "text/plain": [
       "0      NaN\n",
       "1      NaN\n",
       "2      NaN\n",
       "3      NaN\n",
       "4      NaN\n",
       "        ..\n",
       "1194   NaN\n",
       "1195   NaN\n",
       "1196   NaN\n",
       "1197   NaN\n",
       "1198   NaN\n",
       "Name: userID, Length: 1199, dtype: float64"
      ]
     },
     "execution_count": 11,
     "metadata": {},
     "output_type": "execute_result"
    }
   ],
   "source": [
    "ev.pop(\"userID\")"
   ]
  },
  {
   "cell_type": "code",
   "execution_count": 12,
   "id": "ba30e321",
   "metadata": {},
   "outputs": [
    {
     "data": {
      "text/plain": [
       "0      NaN\n",
       "1      NaN\n",
       "2      NaN\n",
       "3      NaN\n",
       "4      NaN\n",
       "        ..\n",
       "1194   NaN\n",
       "1195   NaN\n",
       "1196   NaN\n",
       "1197   NaN\n",
       "1198   NaN\n",
       "Name: userInput, Length: 1199, dtype: float64"
      ]
     },
     "execution_count": 12,
     "metadata": {},
     "output_type": "execute_result"
    }
   ],
   "source": [
    "ev.pop(\"userInput\")"
   ]
  },
  {
   "cell_type": "code",
   "execution_count": 16,
   "id": "b237dac0",
   "metadata": {},
   "outputs": [],
   "source": [
    "ev.drop(['id','clusterId','connectionTime','sessionId','spaceID','stationID','disconnectTime','siteId','donechargingTime','timezone','Precip Type','Loud Cover'],axis=1,inplace=True)"
   ]
  },
  {
   "cell_type": "markdown",
   "id": "2e9f2ff9",
   "metadata": {},
   "source": [
    "#How does data look matematically"
   ]
  },
  {
   "cell_type": "code",
   "execution_count": 17,
   "id": "820ad83d",
   "metadata": {},
   "outputs": [
    {
     "data": {
      "text/html": [
       "<div>\n",
       "<style scoped>\n",
       "    .dataframe tbody tr th:only-of-type {\n",
       "        vertical-align: middle;\n",
       "    }\n",
       "\n",
       "    .dataframe tbody tr th {\n",
       "        vertical-align: top;\n",
       "    }\n",
       "\n",
       "    .dataframe thead th {\n",
       "        text-align: right;\n",
       "    }\n",
       "</style>\n",
       "<table border=\"1\" class=\"dataframe\">\n",
       "  <thead>\n",
       "    <tr style=\"text-align: right;\">\n",
       "      <th></th>\n",
       "      <th>Num.Rep.</th>\n",
       "      <th>SessionLength</th>\n",
       "      <th>Avg.Sess.</th>\n",
       "      <th>kWhDelivered</th>\n",
       "      <th>Avg.Cons.</th>\n",
       "      <th>temperature</th>\n",
       "      <th>Avg. Humidity</th>\n",
       "      <th>Avg Wind Speed(mph)</th>\n",
       "      <th>Wind Bearing(degrees)</th>\n",
       "      <th>Visibility(km)</th>\n",
       "      <th>Pressure(millibar)</th>\n",
       "      <th>Battery_Pack Kwh</th>\n",
       "      <th>FastCharge_KmH</th>\n",
       "    </tr>\n",
       "  </thead>\n",
       "  <tbody>\n",
       "    <tr>\n",
       "      <th>count</th>\n",
       "      <td>1199.000000</td>\n",
       "      <td>1199.000000</td>\n",
       "      <td>1199.000000</td>\n",
       "      <td>1199.000000</td>\n",
       "      <td>1199.000000</td>\n",
       "      <td>1199.000000</td>\n",
       "      <td>1199.000000</td>\n",
       "      <td>1199.000000</td>\n",
       "      <td>1199.000000</td>\n",
       "      <td>1199.000000</td>\n",
       "      <td>1199.000000</td>\n",
       "      <td>1199.000000</td>\n",
       "      <td>1199.000000</td>\n",
       "    </tr>\n",
       "    <tr>\n",
       "      <th>mean</th>\n",
       "      <td>14.840467</td>\n",
       "      <td>3.546372</td>\n",
       "      <td>2.895396</td>\n",
       "      <td>6.443036</td>\n",
       "      <td>5.465263</td>\n",
       "      <td>30.840901</td>\n",
       "      <td>39.845421</td>\n",
       "      <td>12.729166</td>\n",
       "      <td>188.645538</td>\n",
       "      <td>14.790342</td>\n",
       "      <td>1007.787873</td>\n",
       "      <td>78.156797</td>\n",
       "      <td>584.951626</td>\n",
       "    </tr>\n",
       "    <tr>\n",
       "      <th>std</th>\n",
       "      <td>4.004081</td>\n",
       "      <td>2.867130</td>\n",
       "      <td>0.223573</td>\n",
       "      <td>4.871629</td>\n",
       "      <td>0.605820</td>\n",
       "      <td>3.311170</td>\n",
       "      <td>3.334805</td>\n",
       "      <td>1.836852</td>\n",
       "      <td>98.281920</td>\n",
       "      <td>2.129531</td>\n",
       "      <td>3.449437</td>\n",
       "      <td>30.711861</td>\n",
       "      <td>233.955636</td>\n",
       "    </tr>\n",
       "    <tr>\n",
       "      <th>min</th>\n",
       "      <td>0.040000</td>\n",
       "      <td>0.010000</td>\n",
       "      <td>2.410000</td>\n",
       "      <td>0.000000</td>\n",
       "      <td>3.620000</td>\n",
       "      <td>24.370000</td>\n",
       "      <td>33.840000</td>\n",
       "      <td>10.240000</td>\n",
       "      <td>10.000000</td>\n",
       "      <td>9.900000</td>\n",
       "      <td>1003.100000</td>\n",
       "      <td>16.700000</td>\n",
       "      <td>0.000000</td>\n",
       "    </tr>\n",
       "    <tr>\n",
       "      <th>25%</th>\n",
       "      <td>12.000000</td>\n",
       "      <td>2.130000</td>\n",
       "      <td>2.750000</td>\n",
       "      <td>3.700000</td>\n",
       "      <td>4.920000</td>\n",
       "      <td>28.510000</td>\n",
       "      <td>37.565000</td>\n",
       "      <td>11.040000</td>\n",
       "      <td>120.000000</td>\n",
       "      <td>14.170000</td>\n",
       "      <td>1005.180000</td>\n",
       "      <td>54.000000</td>\n",
       "      <td>380.000000</td>\n",
       "    </tr>\n",
       "    <tr>\n",
       "      <th>50%</th>\n",
       "      <td>16.000000</td>\n",
       "      <td>3.010000</td>\n",
       "      <td>2.830000</td>\n",
       "      <td>5.790000</td>\n",
       "      <td>5.590000</td>\n",
       "      <td>31.660000</td>\n",
       "      <td>39.380000</td>\n",
       "      <td>12.490000</td>\n",
       "      <td>195.000000</td>\n",
       "      <td>15.730000</td>\n",
       "      <td>1006.920000</td>\n",
       "      <td>78.000000</td>\n",
       "      <td>594.000000</td>\n",
       "    </tr>\n",
       "    <tr>\n",
       "      <th>75%</th>\n",
       "      <td>17.000000</td>\n",
       "      <td>3.965000</td>\n",
       "      <td>2.930000</td>\n",
       "      <td>6.975000</td>\n",
       "      <td>5.810000</td>\n",
       "      <td>33.550000</td>\n",
       "      <td>42.950000</td>\n",
       "      <td>14.780000</td>\n",
       "      <td>271.000000</td>\n",
       "      <td>16.100000</td>\n",
       "      <td>1008.450000</td>\n",
       "      <td>100.000000</td>\n",
       "      <td>788.000000</td>\n",
       "    </tr>\n",
       "    <tr>\n",
       "      <th>max</th>\n",
       "      <td>23.900000</td>\n",
       "      <td>55.240000</td>\n",
       "      <td>3.550000</td>\n",
       "      <td>47.810000</td>\n",
       "      <td>6.450000</td>\n",
       "      <td>35.980000</td>\n",
       "      <td>45.100000</td>\n",
       "      <td>15.640000</td>\n",
       "      <td>339.000000</td>\n",
       "      <td>17.300000</td>\n",
       "      <td>1016.850000</td>\n",
       "      <td>206.000000</td>\n",
       "      <td>999.000000</td>\n",
       "    </tr>\n",
       "  </tbody>\n",
       "</table>\n",
       "</div>"
      ],
      "text/plain": [
       "          Num.Rep.  SessionLength    Avg.Sess.  kWhDelivered    Avg.Cons.   \n",
       "count  1199.000000    1199.000000  1199.000000   1199.000000  1199.000000  \\\n",
       "mean     14.840467       3.546372     2.895396      6.443036     5.465263   \n",
       "std       4.004081       2.867130     0.223573      4.871629     0.605820   \n",
       "min       0.040000       0.010000     2.410000      0.000000     3.620000   \n",
       "25%      12.000000       2.130000     2.750000      3.700000     4.920000   \n",
       "50%      16.000000       3.010000     2.830000      5.790000     5.590000   \n",
       "75%      17.000000       3.965000     2.930000      6.975000     5.810000   \n",
       "max      23.900000      55.240000     3.550000     47.810000     6.450000   \n",
       "\n",
       "       temperature  Avg. Humidity  Avg Wind Speed(mph)  Wind Bearing(degrees)   \n",
       "count  1199.000000    1199.000000          1199.000000            1199.000000  \\\n",
       "mean     30.840901      39.845421            12.729166             188.645538   \n",
       "std       3.311170       3.334805             1.836852              98.281920   \n",
       "min      24.370000      33.840000            10.240000              10.000000   \n",
       "25%      28.510000      37.565000            11.040000             120.000000   \n",
       "50%      31.660000      39.380000            12.490000             195.000000   \n",
       "75%      33.550000      42.950000            14.780000             271.000000   \n",
       "max      35.980000      45.100000            15.640000             339.000000   \n",
       "\n",
       "       Visibility(km)  Pressure(millibar)  Battery_Pack Kwh  FastCharge_KmH  \n",
       "count     1199.000000         1199.000000       1199.000000     1199.000000  \n",
       "mean        14.790342         1007.787873         78.156797      584.951626  \n",
       "std          2.129531            3.449437         30.711861      233.955636  \n",
       "min          9.900000         1003.100000         16.700000        0.000000  \n",
       "25%         14.170000         1005.180000         54.000000      380.000000  \n",
       "50%         15.730000         1006.920000         78.000000      594.000000  \n",
       "75%         16.100000         1008.450000        100.000000      788.000000  \n",
       "max         17.300000         1016.850000        206.000000      999.000000  "
      ]
     },
     "execution_count": 17,
     "metadata": {},
     "output_type": "execute_result"
    }
   ],
   "source": [
    "ev.describe()"
   ]
  },
  {
   "cell_type": "code",
   "execution_count": 18,
   "id": "b59babcc",
   "metadata": {},
   "outputs": [
    {
     "data": {
      "text/plain": [
       "0"
      ]
     },
     "execution_count": 18,
     "metadata": {},
     "output_type": "execute_result"
    }
   ],
   "source": [
    "#Are there duplicate values\n",
    "ev.duplicated().sum()"
   ]
  },
  {
   "cell_type": "code",
   "execution_count": 19,
   "id": "eafd458d",
   "metadata": {},
   "outputs": [
    {
     "data": {
      "text/html": [
       "<div>\n",
       "<style scoped>\n",
       "    .dataframe tbody tr th:only-of-type {\n",
       "        vertical-align: middle;\n",
       "    }\n",
       "\n",
       "    .dataframe tbody tr th {\n",
       "        vertical-align: top;\n",
       "    }\n",
       "\n",
       "    .dataframe thead th {\n",
       "        text-align: right;\n",
       "    }\n",
       "</style>\n",
       "<table border=\"1\" class=\"dataframe\">\n",
       "  <thead>\n",
       "    <tr style=\"text-align: right;\">\n",
       "      <th></th>\n",
       "      <th>Num.Rep.</th>\n",
       "      <th>SessionLength</th>\n",
       "      <th>Avg.Sess.</th>\n",
       "      <th>kWhDelivered</th>\n",
       "      <th>Avg.Cons.</th>\n",
       "      <th>temperature</th>\n",
       "      <th>Avg. Humidity</th>\n",
       "      <th>Avg Wind Speed(mph)</th>\n",
       "      <th>Wind Bearing(degrees)</th>\n",
       "      <th>Visibility(km)</th>\n",
       "      <th>Pressure(millibar)</th>\n",
       "      <th>Battery_Pack Kwh</th>\n",
       "      <th>FastCharge_KmH</th>\n",
       "    </tr>\n",
       "  </thead>\n",
       "  <tbody>\n",
       "    <tr>\n",
       "      <th>Num.Rep.</th>\n",
       "      <td>1.000000</td>\n",
       "      <td>-0.071010</td>\n",
       "      <td>-0.107489</td>\n",
       "      <td>-0.130661</td>\n",
       "      <td>-0.040154</td>\n",
       "      <td>-0.005883</td>\n",
       "      <td>0.000890</td>\n",
       "      <td>0.082359</td>\n",
       "      <td>-0.102735</td>\n",
       "      <td>-0.177679</td>\n",
       "      <td>-0.118644</td>\n",
       "      <td>0.020703</td>\n",
       "      <td>0.008337</td>\n",
       "    </tr>\n",
       "    <tr>\n",
       "      <th>SessionLength</th>\n",
       "      <td>-0.071010</td>\n",
       "      <td>1.000000</td>\n",
       "      <td>0.380336</td>\n",
       "      <td>0.349359</td>\n",
       "      <td>0.288598</td>\n",
       "      <td>-0.315319</td>\n",
       "      <td>-0.303165</td>\n",
       "      <td>-0.081812</td>\n",
       "      <td>0.114141</td>\n",
       "      <td>0.003940</td>\n",
       "      <td>0.259002</td>\n",
       "      <td>-0.054652</td>\n",
       "      <td>-0.079983</td>\n",
       "    </tr>\n",
       "    <tr>\n",
       "      <th>Avg.Sess.</th>\n",
       "      <td>-0.107489</td>\n",
       "      <td>0.380336</td>\n",
       "      <td>1.000000</td>\n",
       "      <td>0.227223</td>\n",
       "      <td>0.773066</td>\n",
       "      <td>-0.835803</td>\n",
       "      <td>-0.863568</td>\n",
       "      <td>-0.266609</td>\n",
       "      <td>0.276224</td>\n",
       "      <td>-0.143602</td>\n",
       "      <td>0.485590</td>\n",
       "      <td>-0.081316</td>\n",
       "      <td>-0.156699</td>\n",
       "    </tr>\n",
       "    <tr>\n",
       "      <th>kWhDelivered</th>\n",
       "      <td>-0.130661</td>\n",
       "      <td>0.349359</td>\n",
       "      <td>0.227223</td>\n",
       "      <td>1.000000</td>\n",
       "      <td>0.231452</td>\n",
       "      <td>-0.262378</td>\n",
       "      <td>-0.233600</td>\n",
       "      <td>-0.025725</td>\n",
       "      <td>-0.099936</td>\n",
       "      <td>0.078063</td>\n",
       "      <td>0.249317</td>\n",
       "      <td>-0.026580</td>\n",
       "      <td>-0.006242</td>\n",
       "    </tr>\n",
       "    <tr>\n",
       "      <th>Avg.Cons.</th>\n",
       "      <td>-0.040154</td>\n",
       "      <td>0.288598</td>\n",
       "      <td>0.773066</td>\n",
       "      <td>0.231452</td>\n",
       "      <td>1.000000</td>\n",
       "      <td>-0.698765</td>\n",
       "      <td>-0.849067</td>\n",
       "      <td>-0.548857</td>\n",
       "      <td>0.087399</td>\n",
       "      <td>-0.116635</td>\n",
       "      <td>0.415482</td>\n",
       "      <td>-0.032511</td>\n",
       "      <td>-0.099096</td>\n",
       "    </tr>\n",
       "    <tr>\n",
       "      <th>temperature</th>\n",
       "      <td>-0.005883</td>\n",
       "      <td>-0.315319</td>\n",
       "      <td>-0.835803</td>\n",
       "      <td>-0.262378</td>\n",
       "      <td>-0.698765</td>\n",
       "      <td>1.000000</td>\n",
       "      <td>0.850414</td>\n",
       "      <td>0.100510</td>\n",
       "      <td>-0.046195</td>\n",
       "      <td>0.259534</td>\n",
       "      <td>-0.574374</td>\n",
       "      <td>0.031727</td>\n",
       "      <td>0.119235</td>\n",
       "    </tr>\n",
       "    <tr>\n",
       "      <th>Avg. Humidity</th>\n",
       "      <td>0.000890</td>\n",
       "      <td>-0.303165</td>\n",
       "      <td>-0.863568</td>\n",
       "      <td>-0.233600</td>\n",
       "      <td>-0.849067</td>\n",
       "      <td>0.850414</td>\n",
       "      <td>1.000000</td>\n",
       "      <td>0.396623</td>\n",
       "      <td>-0.181635</td>\n",
       "      <td>0.109862</td>\n",
       "      <td>-0.507359</td>\n",
       "      <td>0.019863</td>\n",
       "      <td>0.127938</td>\n",
       "    </tr>\n",
       "    <tr>\n",
       "      <th>Avg Wind Speed(mph)</th>\n",
       "      <td>0.082359</td>\n",
       "      <td>-0.081812</td>\n",
       "      <td>-0.266609</td>\n",
       "      <td>-0.025725</td>\n",
       "      <td>-0.548857</td>\n",
       "      <td>0.100510</td>\n",
       "      <td>0.396623</td>\n",
       "      <td>1.000000</td>\n",
       "      <td>-0.256970</td>\n",
       "      <td>-0.121604</td>\n",
       "      <td>-0.133499</td>\n",
       "      <td>0.018198</td>\n",
       "      <td>0.020462</td>\n",
       "    </tr>\n",
       "    <tr>\n",
       "      <th>Wind Bearing(degrees)</th>\n",
       "      <td>-0.102735</td>\n",
       "      <td>0.114141</td>\n",
       "      <td>0.276224</td>\n",
       "      <td>-0.099936</td>\n",
       "      <td>0.087399</td>\n",
       "      <td>-0.046195</td>\n",
       "      <td>-0.181635</td>\n",
       "      <td>-0.256970</td>\n",
       "      <td>1.000000</td>\n",
       "      <td>-0.049020</td>\n",
       "      <td>-0.112676</td>\n",
       "      <td>-0.056938</td>\n",
       "      <td>-0.071260</td>\n",
       "    </tr>\n",
       "    <tr>\n",
       "      <th>Visibility(km)</th>\n",
       "      <td>-0.177679</td>\n",
       "      <td>0.003940</td>\n",
       "      <td>-0.143602</td>\n",
       "      <td>0.078063</td>\n",
       "      <td>-0.116635</td>\n",
       "      <td>0.259534</td>\n",
       "      <td>0.109862</td>\n",
       "      <td>-0.121604</td>\n",
       "      <td>-0.049020</td>\n",
       "      <td>1.000000</td>\n",
       "      <td>0.210063</td>\n",
       "      <td>0.057092</td>\n",
       "      <td>0.043039</td>\n",
       "    </tr>\n",
       "    <tr>\n",
       "      <th>Pressure(millibar)</th>\n",
       "      <td>-0.118644</td>\n",
       "      <td>0.259002</td>\n",
       "      <td>0.485590</td>\n",
       "      <td>0.249317</td>\n",
       "      <td>0.415482</td>\n",
       "      <td>-0.574374</td>\n",
       "      <td>-0.507359</td>\n",
       "      <td>-0.133499</td>\n",
       "      <td>-0.112676</td>\n",
       "      <td>0.210063</td>\n",
       "      <td>1.000000</td>\n",
       "      <td>-0.014193</td>\n",
       "      <td>-0.024295</td>\n",
       "    </tr>\n",
       "    <tr>\n",
       "      <th>Battery_Pack Kwh</th>\n",
       "      <td>0.020703</td>\n",
       "      <td>-0.054652</td>\n",
       "      <td>-0.081316</td>\n",
       "      <td>-0.026580</td>\n",
       "      <td>-0.032511</td>\n",
       "      <td>0.031727</td>\n",
       "      <td>0.019863</td>\n",
       "      <td>0.018198</td>\n",
       "      <td>-0.056938</td>\n",
       "      <td>0.057092</td>\n",
       "      <td>-0.014193</td>\n",
       "      <td>1.000000</td>\n",
       "      <td>0.105323</td>\n",
       "    </tr>\n",
       "    <tr>\n",
       "      <th>FastCharge_KmH</th>\n",
       "      <td>0.008337</td>\n",
       "      <td>-0.079983</td>\n",
       "      <td>-0.156699</td>\n",
       "      <td>-0.006242</td>\n",
       "      <td>-0.099096</td>\n",
       "      <td>0.119235</td>\n",
       "      <td>0.127938</td>\n",
       "      <td>0.020462</td>\n",
       "      <td>-0.071260</td>\n",
       "      <td>0.043039</td>\n",
       "      <td>-0.024295</td>\n",
       "      <td>0.105323</td>\n",
       "      <td>1.000000</td>\n",
       "    </tr>\n",
       "  </tbody>\n",
       "</table>\n",
       "</div>"
      ],
      "text/plain": [
       "                       Num.Rep.  SessionLength  Avg.Sess.  kWhDelivered   \n",
       "Num.Rep.               1.000000      -0.071010  -0.107489     -0.130661  \\\n",
       "SessionLength         -0.071010       1.000000   0.380336      0.349359   \n",
       "Avg.Sess.             -0.107489       0.380336   1.000000      0.227223   \n",
       "kWhDelivered          -0.130661       0.349359   0.227223      1.000000   \n",
       "Avg.Cons.             -0.040154       0.288598   0.773066      0.231452   \n",
       "temperature           -0.005883      -0.315319  -0.835803     -0.262378   \n",
       "Avg. Humidity          0.000890      -0.303165  -0.863568     -0.233600   \n",
       "Avg Wind Speed(mph)    0.082359      -0.081812  -0.266609     -0.025725   \n",
       "Wind Bearing(degrees) -0.102735       0.114141   0.276224     -0.099936   \n",
       "Visibility(km)        -0.177679       0.003940  -0.143602      0.078063   \n",
       "Pressure(millibar)    -0.118644       0.259002   0.485590      0.249317   \n",
       "Battery_Pack Kwh       0.020703      -0.054652  -0.081316     -0.026580   \n",
       "FastCharge_KmH         0.008337      -0.079983  -0.156699     -0.006242   \n",
       "\n",
       "                       Avg.Cons.  temperature  Avg. Humidity   \n",
       "Num.Rep.               -0.040154    -0.005883       0.000890  \\\n",
       "SessionLength           0.288598    -0.315319      -0.303165   \n",
       "Avg.Sess.               0.773066    -0.835803      -0.863568   \n",
       "kWhDelivered            0.231452    -0.262378      -0.233600   \n",
       "Avg.Cons.               1.000000    -0.698765      -0.849067   \n",
       "temperature            -0.698765     1.000000       0.850414   \n",
       "Avg. Humidity          -0.849067     0.850414       1.000000   \n",
       "Avg Wind Speed(mph)    -0.548857     0.100510       0.396623   \n",
       "Wind Bearing(degrees)   0.087399    -0.046195      -0.181635   \n",
       "Visibility(km)         -0.116635     0.259534       0.109862   \n",
       "Pressure(millibar)      0.415482    -0.574374      -0.507359   \n",
       "Battery_Pack Kwh       -0.032511     0.031727       0.019863   \n",
       "FastCharge_KmH         -0.099096     0.119235       0.127938   \n",
       "\n",
       "                       Avg Wind Speed(mph)  Wind Bearing(degrees)   \n",
       "Num.Rep.                          0.082359              -0.102735  \\\n",
       "SessionLength                    -0.081812               0.114141   \n",
       "Avg.Sess.                        -0.266609               0.276224   \n",
       "kWhDelivered                     -0.025725              -0.099936   \n",
       "Avg.Cons.                        -0.548857               0.087399   \n",
       "temperature                       0.100510              -0.046195   \n",
       "Avg. Humidity                     0.396623              -0.181635   \n",
       "Avg Wind Speed(mph)               1.000000              -0.256970   \n",
       "Wind Bearing(degrees)            -0.256970               1.000000   \n",
       "Visibility(km)                   -0.121604              -0.049020   \n",
       "Pressure(millibar)               -0.133499              -0.112676   \n",
       "Battery_Pack Kwh                  0.018198              -0.056938   \n",
       "FastCharge_KmH                    0.020462              -0.071260   \n",
       "\n",
       "                       Visibility(km)  Pressure(millibar)  Battery_Pack Kwh   \n",
       "Num.Rep.                    -0.177679           -0.118644          0.020703  \\\n",
       "SessionLength                0.003940            0.259002         -0.054652   \n",
       "Avg.Sess.                   -0.143602            0.485590         -0.081316   \n",
       "kWhDelivered                 0.078063            0.249317         -0.026580   \n",
       "Avg.Cons.                   -0.116635            0.415482         -0.032511   \n",
       "temperature                  0.259534           -0.574374          0.031727   \n",
       "Avg. Humidity                0.109862           -0.507359          0.019863   \n",
       "Avg Wind Speed(mph)         -0.121604           -0.133499          0.018198   \n",
       "Wind Bearing(degrees)       -0.049020           -0.112676         -0.056938   \n",
       "Visibility(km)               1.000000            0.210063          0.057092   \n",
       "Pressure(millibar)           0.210063            1.000000         -0.014193   \n",
       "Battery_Pack Kwh             0.057092           -0.014193          1.000000   \n",
       "FastCharge_KmH               0.043039           -0.024295          0.105323   \n",
       "\n",
       "                       FastCharge_KmH  \n",
       "Num.Rep.                     0.008337  \n",
       "SessionLength               -0.079983  \n",
       "Avg.Sess.                   -0.156699  \n",
       "kWhDelivered                -0.006242  \n",
       "Avg.Cons.                   -0.099096  \n",
       "temperature                  0.119235  \n",
       "Avg. Humidity                0.127938  \n",
       "Avg Wind Speed(mph)          0.020462  \n",
       "Wind Bearing(degrees)       -0.071260  \n",
       "Visibility(km)               0.043039  \n",
       "Pressure(millibar)          -0.024295  \n",
       "Battery_Pack Kwh             0.105323  \n",
       "FastCharge_KmH               1.000000  "
      ]
     },
     "execution_count": 19,
     "metadata": {},
     "output_type": "execute_result"
    }
   ],
   "source": [
    "#How is the correlation between columns\n",
    "ev.corr()"
   ]
  },
  {
   "cell_type": "code",
   "execution_count": 20,
   "id": "6b01c8c2",
   "metadata": {},
   "outputs": [],
   "source": [
    "correlation = ev.corr()"
   ]
  },
  {
   "cell_type": "code",
   "execution_count": 21,
   "id": "d278b4b2",
   "metadata": {},
   "outputs": [
    {
     "data": {
      "text/plain": [
       "<Axes: >"
      ]
     },
     "execution_count": 21,
     "metadata": {},
     "output_type": "execute_result"
    },
    {
     "data": {
      "image/png": "[encoded data removed]",
      "text/plain": [
       "<Figure size 1000x1000 with 2 Axes>"
      ]
     },
     "metadata": {},
     "output_type": "display_data"
    }
   ],
   "source": [
    "# constructing a heatmap to understand the correlatiom\n",
    "plt.figure(figsize = (10,10))\n",
    "sns.heatmap(correlation, cbar=True, square=True, fmt='.1f',annot=True, annot_kws={'size':8}, cmap='Blues')"
   ]
  },
  {
   "cell_type": "code",
   "execution_count": 22,
   "id": "ca2210f1",
   "metadata": {},
   "outputs": [
    {
     "name": "stdout",
     "output_type": "stream",
     "text": [
      "Num.Rep.                -0.071010\n",
      "SessionLength            1.000000\n",
      "Avg.Sess.                0.380336\n",
      "kWhDelivered             0.349359\n",
      "Avg.Cons.                0.288598\n",
      "temperature             -0.315319\n",
      "Avg. Humidity           -0.303165\n",
      "Avg Wind Speed(mph)     -0.081812\n",
      "Wind Bearing(degrees)    0.114141\n",
      "Visibility(km)           0.003940\n",
      "Pressure(millibar)       0.259002\n",
      "Battery_Pack Kwh        -0.054652\n",
      "FastCharge_KmH          -0.079983\n",
      "Name: SessionLength, dtype: float64\n"
     ]
    }
   ],
   "source": [
    "print(correlation['SessionLength'])"
   ]
  },
  {
   "cell_type": "code",
   "execution_count": 23,
   "id": "a9c4a136",
   "metadata": {},
   "outputs": [
    {
     "name": "stderr",
     "output_type": "stream",
     "text": [
      "C:\\Users\\Dell\\AppData\\Local\\Temp\\ipykernel_608\\3026985986.py:1: UserWarning: \n",
      "\n",
      "`distplot` is a deprecated function and will be removed in seaborn v0.14.0.\n",
      "\n",
      "Please adapt your code to use either `displot` (a figure-level function with\n",
      "similar flexibility) or `histplot` (an axes-level function for histograms).\n",
      "\n",
      "For a guide to updating your code to use the new functions, please see\n",
      "https://gist.github.com/mwaskom/de44147ed2974457ad6372750bbe5751\n",
      "\n",
      "  sns.distplot(ev['SessionLength'],color='green')\n"
     ]
    },
    {
     "data": {
      "text/plain": [
       "<Axes: xlabel='SessionLength', ylabel='Density'>"
      ]
     },
     "execution_count": 23,
     "metadata": {},
     "output_type": "execute_result"
    },
    {
     "data": {
      "image/png": "[encoded data removed]",
      "text/plain": [
       "<Figure size 640x480 with 1 Axes>"
      ]
     },
     "metadata": {},
     "output_type": "display_data"
    }
   ],
   "source": [
    "sns.distplot(ev['SessionLength'],color='green')"
   ]
  },
  {
   "cell_type": "code",
   "execution_count": 24,
   "id": "da2e1a18",
   "metadata": {},
   "outputs": [
    {
     "name": "stdout",
     "output_type": "stream",
     "text": [
      "Num.Rep.                -0.130661\n",
      "SessionLength            0.349359\n",
      "Avg.Sess.                0.227223\n",
      "kWhDelivered             1.000000\n",
      "Avg.Cons.                0.231452\n",
      "temperature             -0.262378\n",
      "Avg. Humidity           -0.233600\n",
      "Avg Wind Speed(mph)     -0.025725\n",
      "Wind Bearing(degrees)   -0.099936\n",
      "Visibility(km)           0.078063\n",
      "Pressure(millibar)       0.249317\n",
      "Battery_Pack Kwh        -0.026580\n",
      "FastCharge_KmH          -0.006242\n",
      "Name: kWhDelivered, dtype: float64\n"
     ]
    }
   ],
   "source": [
    "print(correlation['kWhDelivered'])"
   ]
  },
  {
   "cell_type": "code",
   "execution_count": 25,
   "id": "38698961",
   "metadata": {},
   "outputs": [
    {
     "data": {
      "text/plain": [
       "<Axes: >"
      ]
     },
     "execution_count": 25,
     "metadata": {},
     "output_type": "execute_result"
    },
    {
     "data": {
      "image/png": "[encoded data removed]",
      "text/plain": [
       "<Figure size 640x480 with 1 Axes>"
      ]
     },
     "metadata": {},
     "output_type": "display_data"
    }
   ],
   "source": [
    "#Boxplot\n",
    "sns.boxplot(ev['SessionLength'])"
   ]
  },
  {
   "cell_type": "code",
   "execution_count": 26,
   "id": "c89908e9",
   "metadata": {},
   "outputs": [
    {
     "name": "stderr",
     "output_type": "stream",
     "text": [
      "C:\\Users\\Dell\\AppData\\Local\\Programs\\Python\\Python311\\Lib\\site-packages\\sklearn\\base.py:439: UserWarning: X does not have valid feature names, but IsolationForest was fitted with feature names\n",
      "  warnings.warn(\n"
     ]
    },
    {
     "data": {
      "text/html": [
       "<style>#sk-container-id-1 {color: black;background-color: white;}#sk-container-id-1 pre{padding: 0;}#sk-container-id-1 div.sk-toggleable {background-color: white;}#sk-container-id-1 label.sk-toggleable__label {cursor: pointer;display: block;width: 100%;margin-bottom: 0;padding: 0.3em;box-sizing: border-box;text-align: center;}#sk-container-id-1 label.sk-toggleable__label-arrow:before {content: \"▸\";float: left;margin-right: 0.25em;color: #696969;}#sk-container-id-1 label.sk-toggleable__label-arrow:hover:before {color: black;}#sk-container-id-1 div.sk-estimator:hover label.sk-toggleable__label-arrow:before {color: black;}#sk-container-id-1 div.sk-toggleable__content {max-height: 0;max-width: 0;overflow: hidden;text-align: left;background-color: #f0f8ff;}#sk-container-id-1 div.sk-toggleable__content pre {margin: 0.2em;color: black;border-radius: 0.25em;background-color: #f0f8ff;}#sk-container-id-1 input.sk-toggleable__control:checked~div.sk-toggleable__content {max-height: 200px;max-width: 100%;overflow: auto;}#sk-container-id-1 input.sk-toggleable__control:checked~label.sk-toggleable__label-arrow:before {content: \"▾\";}#sk-container-id-1 div.sk-estimator input.sk-toggleable__control:checked~label.sk-toggleable__label {background-color: #d4ebff;}#sk-container-id-1 div.sk-label input.sk-toggleable__control:checked~label.sk-toggleable__label {background-color: #d4ebff;}#sk-container-id-1 input.sk-hidden--visually {border: 0;clip: rect(1px 1px 1px 1px);clip: rect(1px, 1px, 1px, 1px);height: 1px;margin: -1px;overflow: hidden;padding: 0;position: absolute;width: 1px;}#sk-container-id-1 div.sk-estimator {font-family: monospace;background-color: #f0f8ff;border: 1px dotted black;border-radius: 0.25em;box-sizing: border-box;margin-bottom: 0.5em;}#sk-container-id-1 div.sk-estimator:hover {background-color: #d4ebff;}#sk-container-id-1 div.sk-parallel-item::after {content: \"\";width: 100%;border-bottom: 1px solid gray;flex-grow: 1;}#sk-container-id-1 div.sk-label:hover label.sk-toggleable__label {background-color: #d4ebff;}#sk-container-id-1 div.sk-serial::before {content: \"\";position: absolute;border-left: 1px solid gray;box-sizing: border-box;top: 0;bottom: 0;left: 50%;z-index: 0;}#sk-container-id-1 div.sk-serial {display: flex;flex-direction: column;align-items: center;background-color: white;padding-right: 0.2em;padding-left: 0.2em;position: relative;}#sk-container-id-1 div.sk-item {position: relative;z-index: 1;}#sk-container-id-1 div.sk-parallel {display: flex;align-items: stretch;justify-content: center;background-color: white;position: relative;}#sk-container-id-1 div.sk-item::before, #sk-container-id-1 div.sk-parallel-item::before {content: \"\";position: absolute;border-left: 1px solid gray;box-sizing: border-box;top: 0;bottom: 0;left: 50%;z-index: -1;}#sk-container-id-1 div.sk-parallel-item {display: flex;flex-direction: column;z-index: 1;position: relative;background-color: white;}#sk-container-id-1 div.sk-parallel-item:first-child::after {align-self: flex-end;width: 50%;}#sk-container-id-1 div.sk-parallel-item:last-child::after {align-self: flex-start;width: 50%;}#sk-container-id-1 div.sk-parallel-item:only-child::after {width: 0;}#sk-container-id-1 div.sk-dashed-wrapped {border: 1px dashed gray;margin: 0 0.4em 0.5em 0.4em;box-sizing: border-box;padding-bottom: 0.4em;background-color: white;}#sk-container-id-1 div.sk-label label {font-family: monospace;font-weight: bold;display: inline-block;line-height: 1.2em;}#sk-container-id-1 div.sk-label-container {text-align: center;}#sk-container-id-1 div.sk-container {/* jupyter's `normalize.less` sets `[hidden] { display: none; }` but bootstrap.min.css set `[hidden] { display: none !important; }` so we also need the `!important` here to be able to override the default hidden behavior on the sphinx rendered scikit-learn.org. See: https://github.com/scikit-learn/scikit-learn/issues/21755 */display: inline-block !important;position: relative;}#sk-container-id-1 div.sk-text-repr-fallback {display: none;}</style><div id=\"sk-container-id-1\" class=\"sk-top-container\"><div class=\"sk-text-repr-fallback\"><pre>IsolationForest(contamination=0.04)</pre><b>In a Jupyter environment, please rerun this cell to show the HTML representation or trust the notebook. <br />On GitHub, the HTML representation is unable to render, please try loading this page with nbviewer.org.</b></div><div class=\"sk-container\" hidden><div class=\"sk-item\"><div class=\"sk-estimator sk-toggleable\"><input class=\"sk-toggleable__control sk-hidden--visually\" id=\"sk-estimator-id-1\" type=\"checkbox\" checked><label for=\"sk-estimator-id-1\" class=\"sk-toggleable__label sk-toggleable__label-arrow\">IsolationForest</label><div class=\"sk-toggleable__content\"><pre>IsolationForest(contamination=0.04)</pre></div></div></div></div></div>"
      ],
      "text/plain": [
       "IsolationForest(contamination=0.04)"
      ]
     },
     "execution_count": 26,
     "metadata": {},
     "output_type": "execute_result"
    }
   ],
   "source": [
    "model=IsolationForest(n_estimators=100,max_samples='auto',contamination=0.04,max_features=1.0)\n",
    "model.fit(ev[['SessionLength']])"
   ]
  },
  {
   "cell_type": "code",
   "execution_count": 27,
   "id": "a41c25cc",
   "metadata": {},
   "outputs": [
    {
     "data": {
      "text/html": [
       "<div>\n",
       "<style scoped>\n",
       "    .dataframe tbody tr th:only-of-type {\n",
       "        vertical-align: middle;\n",
       "    }\n",
       "\n",
       "    .dataframe tbody tr th {\n",
       "        vertical-align: top;\n",
       "    }\n",
       "\n",
       "    .dataframe thead th {\n",
       "        text-align: right;\n",
       "    }\n",
       "</style>\n",
       "<table border=\"1\" class=\"dataframe\">\n",
       "  <thead>\n",
       "    <tr style=\"text-align: right;\">\n",
       "      <th></th>\n",
       "      <th>Num.Rep.</th>\n",
       "      <th>SessionLength</th>\n",
       "      <th>Avg.Sess.</th>\n",
       "      <th>kWhDelivered</th>\n",
       "      <th>Avg.Cons.</th>\n",
       "      <th>temperature</th>\n",
       "      <th>Avg. Humidity</th>\n",
       "      <th>Avg Wind Speed(mph)</th>\n",
       "      <th>Wind Bearing(degrees)</th>\n",
       "      <th>Visibility(km)</th>\n",
       "      <th>Pressure(millibar)</th>\n",
       "      <th>Battery_Pack Kwh</th>\n",
       "      <th>FastCharge_KmH</th>\n",
       "      <th>newlength</th>\n",
       "      <th>anomaly</th>\n",
       "    </tr>\n",
       "  </thead>\n",
       "  <tbody>\n",
       "    <tr>\n",
       "      <th>0</th>\n",
       "      <td>11.13</td>\n",
       "      <td>2.20</td>\n",
       "      <td>3.55</td>\n",
       "      <td>7.93</td>\n",
       "      <td>6.44</td>\n",
       "      <td>24.37</td>\n",
       "      <td>34.85</td>\n",
       "      <td>13.54</td>\n",
       "      <td>300</td>\n",
       "      <td>9.9</td>\n",
       "      <td>1004.55</td>\n",
       "      <td>70.0</td>\n",
       "      <td>940</td>\n",
       "      <td>0.170563</td>\n",
       "      <td>1</td>\n",
       "    </tr>\n",
       "    <tr>\n",
       "      <th>1</th>\n",
       "      <td>13.75</td>\n",
       "      <td>11.19</td>\n",
       "      <td>3.55</td>\n",
       "      <td>10.01</td>\n",
       "      <td>6.44</td>\n",
       "      <td>24.37</td>\n",
       "      <td>34.85</td>\n",
       "      <td>13.54</td>\n",
       "      <td>300</td>\n",
       "      <td>9.9</td>\n",
       "      <td>1004.55</td>\n",
       "      <td>45.0</td>\n",
       "      <td>250</td>\n",
       "      <td>-0.058522</td>\n",
       "      <td>-1</td>\n",
       "    </tr>\n",
       "    <tr>\n",
       "      <th>2</th>\n",
       "      <td>13.76</td>\n",
       "      <td>10.33</td>\n",
       "      <td>3.54</td>\n",
       "      <td>5.26</td>\n",
       "      <td>6.44</td>\n",
       "      <td>24.37</td>\n",
       "      <td>34.85</td>\n",
       "      <td>13.54</td>\n",
       "      <td>300</td>\n",
       "      <td>9.9</td>\n",
       "      <td>1004.55</td>\n",
       "      <td>75.0</td>\n",
       "      <td>620</td>\n",
       "      <td>-0.023262</td>\n",
       "      <td>-1</td>\n",
       "    </tr>\n",
       "    <tr>\n",
       "      <th>3</th>\n",
       "      <td>14.62</td>\n",
       "      <td>9.31</td>\n",
       "      <td>3.55</td>\n",
       "      <td>5.18</td>\n",
       "      <td>6.44</td>\n",
       "      <td>24.37</td>\n",
       "      <td>34.85</td>\n",
       "      <td>13.54</td>\n",
       "      <td>300</td>\n",
       "      <td>9.9</td>\n",
       "      <td>1004.55</td>\n",
       "      <td>74.0</td>\n",
       "      <td>560</td>\n",
       "      <td>0.045699</td>\n",
       "      <td>1</td>\n",
       "    </tr>\n",
       "    <tr>\n",
       "      <th>4</th>\n",
       "      <td>14.68</td>\n",
       "      <td>8.38</td>\n",
       "      <td>3.55</td>\n",
       "      <td>10.12</td>\n",
       "      <td>6.44</td>\n",
       "      <td>24.37</td>\n",
       "      <td>34.85</td>\n",
       "      <td>13.54</td>\n",
       "      <td>300</td>\n",
       "      <td>9.9</td>\n",
       "      <td>1004.55</td>\n",
       "      <td>28.5</td>\n",
       "      <td>190</td>\n",
       "      <td>0.054344</td>\n",
       "      <td>1</td>\n",
       "    </tr>\n",
       "    <tr>\n",
       "      <th>5</th>\n",
       "      <td>14.73</td>\n",
       "      <td>10.56</td>\n",
       "      <td>3.54</td>\n",
       "      <td>7.91</td>\n",
       "      <td>6.44</td>\n",
       "      <td>24.37</td>\n",
       "      <td>34.85</td>\n",
       "      <td>13.54</td>\n",
       "      <td>300</td>\n",
       "      <td>9.9</td>\n",
       "      <td>1004.55</td>\n",
       "      <td>110.0</td>\n",
       "      <td>620</td>\n",
       "      <td>-0.038432</td>\n",
       "      <td>-1</td>\n",
       "    </tr>\n",
       "    <tr>\n",
       "      <th>6</th>\n",
       "      <td>14.80</td>\n",
       "      <td>3.67</td>\n",
       "      <td>3.54</td>\n",
       "      <td>15.29</td>\n",
       "      <td>6.44</td>\n",
       "      <td>24.37</td>\n",
       "      <td>34.85</td>\n",
       "      <td>13.54</td>\n",
       "      <td>300</td>\n",
       "      <td>9.9</td>\n",
       "      <td>1004.55</td>\n",
       "      <td>35.8</td>\n",
       "      <td>220</td>\n",
       "      <td>0.186037</td>\n",
       "      <td>1</td>\n",
       "    </tr>\n",
       "    <tr>\n",
       "      <th>7</th>\n",
       "      <td>14.97</td>\n",
       "      <td>4.13</td>\n",
       "      <td>3.53</td>\n",
       "      <td>6.95</td>\n",
       "      <td>6.43</td>\n",
       "      <td>24.37</td>\n",
       "      <td>34.85</td>\n",
       "      <td>13.54</td>\n",
       "      <td>300</td>\n",
       "      <td>9.9</td>\n",
       "      <td>1004.55</td>\n",
       "      <td>45.0</td>\n",
       "      <td>420</td>\n",
       "      <td>0.156224</td>\n",
       "      <td>1</td>\n",
       "    </tr>\n",
       "    <tr>\n",
       "      <th>8</th>\n",
       "      <td>15.18</td>\n",
       "      <td>3.08</td>\n",
       "      <td>3.53</td>\n",
       "      <td>2.17</td>\n",
       "      <td>6.43</td>\n",
       "      <td>24.37</td>\n",
       "      <td>34.85</td>\n",
       "      <td>13.54</td>\n",
       "      <td>300</td>\n",
       "      <td>9.9</td>\n",
       "      <td>1004.55</td>\n",
       "      <td>50.0</td>\n",
       "      <td>650</td>\n",
       "      <td>0.192236</td>\n",
       "      <td>1</td>\n",
       "    </tr>\n",
       "    <tr>\n",
       "      <th>9</th>\n",
       "      <td>15.20</td>\n",
       "      <td>3.29</td>\n",
       "      <td>3.52</td>\n",
       "      <td>2.44</td>\n",
       "      <td>6.43</td>\n",
       "      <td>24.37</td>\n",
       "      <td>34.85</td>\n",
       "      <td>13.54</td>\n",
       "      <td>300</td>\n",
       "      <td>9.9</td>\n",
       "      <td>1004.55</td>\n",
       "      <td>77.0</td>\n",
       "      <td>540</td>\n",
       "      <td>0.187606</td>\n",
       "      <td>1</td>\n",
       "    </tr>\n",
       "  </tbody>\n",
       "</table>\n",
       "</div>"
      ],
      "text/plain": [
       "   Num.Rep.  SessionLength  Avg.Sess.  kWhDelivered  Avg.Cons.  temperature   \n",
       "0     11.13           2.20       3.55          7.93       6.44        24.37  \\\n",
       "1     13.75          11.19       3.55         10.01       6.44        24.37   \n",
       "2     13.76          10.33       3.54          5.26       6.44        24.37   \n",
       "3     14.62           9.31       3.55          5.18       6.44        24.37   \n",
       "4     14.68           8.38       3.55         10.12       6.44        24.37   \n",
       "5     14.73          10.56       3.54          7.91       6.44        24.37   \n",
       "6     14.80           3.67       3.54         15.29       6.44        24.37   \n",
       "7     14.97           4.13       3.53          6.95       6.43        24.37   \n",
       "8     15.18           3.08       3.53          2.17       6.43        24.37   \n",
       "9     15.20           3.29       3.52          2.44       6.43        24.37   \n",
       "\n",
       "   Avg. Humidity  Avg Wind Speed(mph)  Wind Bearing(degrees)  Visibility(km)   \n",
       "0          34.85                13.54                    300             9.9  \\\n",
       "1          34.85                13.54                    300             9.9   \n",
       "2          34.85                13.54                    300             9.9   \n",
       "3          34.85                13.54                    300             9.9   \n",
       "4          34.85                13.54                    300             9.9   \n",
       "5          34.85                13.54                    300             9.9   \n",
       "6          34.85                13.54                    300             9.9   \n",
       "7          34.85                13.54                    300             9.9   \n",
       "8          34.85                13.54                    300             9.9   \n",
       "9          34.85                13.54                    300             9.9   \n",
       "\n",
       "   Pressure(millibar)  Battery_Pack Kwh  FastCharge_KmH  newlength  anomaly  \n",
       "0             1004.55              70.0             940   0.170563        1  \n",
       "1             1004.55              45.0             250  -0.058522       -1  \n",
       "2             1004.55              75.0             620  -0.023262       -1  \n",
       "3             1004.55              74.0             560   0.045699        1  \n",
       "4             1004.55              28.5             190   0.054344        1  \n",
       "5             1004.55             110.0             620  -0.038432       -1  \n",
       "6             1004.55              35.8             220   0.186037        1  \n",
       "7             1004.55              45.0             420   0.156224        1  \n",
       "8             1004.55              50.0             650   0.192236        1  \n",
       "9             1004.55              77.0             540   0.187606        1  "
      ]
     },
     "execution_count": 27,
     "metadata": {},
     "output_type": "execute_result"
    }
   ],
   "source": [
    "ev['newlength']=model.decision_function(ev[['SessionLength']])\n",
    "ev['anomaly']=model.predict(ev[['SessionLength']])\n",
    "ev.head(10)"
   ]
  },
  {
   "cell_type": "code",
   "execution_count": 28,
   "id": "8ccf046c",
   "metadata": {},
   "outputs": [
    {
     "data": {
      "text/plain": [
       "48"
      ]
     },
     "execution_count": 28,
     "metadata": {},
     "output_type": "execute_result"
    }
   ],
   "source": [
    "outliers_counter = len(ev[ev['anomaly'] ==-1])\n",
    "outliers_counter "
   ]
  },
  {
   "cell_type": "code",
   "execution_count": 29,
   "id": "26f73d90",
   "metadata": {},
   "outputs": [],
   "source": [
    "ev_data = ev[(ev['SessionLength'] <=13)]"
   ]
  },
  {
   "cell_type": "code",
   "execution_count": 30,
   "id": "36c2b242",
   "metadata": {},
   "outputs": [
    {
     "data": {
      "text/html": [
       "<div>\n",
       "<style scoped>\n",
       "    .dataframe tbody tr th:only-of-type {\n",
       "        vertical-align: middle;\n",
       "    }\n",
       "\n",
       "    .dataframe tbody tr th {\n",
       "        vertical-align: top;\n",
       "    }\n",
       "\n",
       "    .dataframe thead th {\n",
       "        text-align: right;\n",
       "    }\n",
       "</style>\n",
       "<table border=\"1\" class=\"dataframe\">\n",
       "  <thead>\n",
       "    <tr style=\"text-align: right;\">\n",
       "      <th></th>\n",
       "      <th>Num.Rep.</th>\n",
       "      <th>SessionLength</th>\n",
       "      <th>Avg.Sess.</th>\n",
       "      <th>kWhDelivered</th>\n",
       "      <th>Avg.Cons.</th>\n",
       "      <th>temperature</th>\n",
       "      <th>Avg. Humidity</th>\n",
       "      <th>Avg Wind Speed(mph)</th>\n",
       "      <th>Wind Bearing(degrees)</th>\n",
       "      <th>Visibility(km)</th>\n",
       "      <th>Pressure(millibar)</th>\n",
       "      <th>Battery_Pack Kwh</th>\n",
       "      <th>FastCharge_KmH</th>\n",
       "      <th>newlength</th>\n",
       "      <th>anomaly</th>\n",
       "    </tr>\n",
       "  </thead>\n",
       "  <tbody>\n",
       "    <tr>\n",
       "      <th>0</th>\n",
       "      <td>11.13</td>\n",
       "      <td>2.20</td>\n",
       "      <td>3.55</td>\n",
       "      <td>7.93</td>\n",
       "      <td>6.44</td>\n",
       "      <td>24.37</td>\n",
       "      <td>34.85</td>\n",
       "      <td>13.54</td>\n",
       "      <td>300</td>\n",
       "      <td>9.9</td>\n",
       "      <td>1004.55</td>\n",
       "      <td>70.0</td>\n",
       "      <td>940</td>\n",
       "      <td>0.170563</td>\n",
       "      <td>1</td>\n",
       "    </tr>\n",
       "    <tr>\n",
       "      <th>1</th>\n",
       "      <td>13.75</td>\n",
       "      <td>11.19</td>\n",
       "      <td>3.55</td>\n",
       "      <td>10.01</td>\n",
       "      <td>6.44</td>\n",
       "      <td>24.37</td>\n",
       "      <td>34.85</td>\n",
       "      <td>13.54</td>\n",
       "      <td>300</td>\n",
       "      <td>9.9</td>\n",
       "      <td>1004.55</td>\n",
       "      <td>45.0</td>\n",
       "      <td>250</td>\n",
       "      <td>-0.058522</td>\n",
       "      <td>-1</td>\n",
       "    </tr>\n",
       "    <tr>\n",
       "      <th>2</th>\n",
       "      <td>13.76</td>\n",
       "      <td>10.33</td>\n",
       "      <td>3.54</td>\n",
       "      <td>5.26</td>\n",
       "      <td>6.44</td>\n",
       "      <td>24.37</td>\n",
       "      <td>34.85</td>\n",
       "      <td>13.54</td>\n",
       "      <td>300</td>\n",
       "      <td>9.9</td>\n",
       "      <td>1004.55</td>\n",
       "      <td>75.0</td>\n",
       "      <td>620</td>\n",
       "      <td>-0.023262</td>\n",
       "      <td>-1</td>\n",
       "    </tr>\n",
       "    <tr>\n",
       "      <th>3</th>\n",
       "      <td>14.62</td>\n",
       "      <td>9.31</td>\n",
       "      <td>3.55</td>\n",
       "      <td>5.18</td>\n",
       "      <td>6.44</td>\n",
       "      <td>24.37</td>\n",
       "      <td>34.85</td>\n",
       "      <td>13.54</td>\n",
       "      <td>300</td>\n",
       "      <td>9.9</td>\n",
       "      <td>1004.55</td>\n",
       "      <td>74.0</td>\n",
       "      <td>560</td>\n",
       "      <td>0.045699</td>\n",
       "      <td>1</td>\n",
       "    </tr>\n",
       "    <tr>\n",
       "      <th>4</th>\n",
       "      <td>14.68</td>\n",
       "      <td>8.38</td>\n",
       "      <td>3.55</td>\n",
       "      <td>10.12</td>\n",
       "      <td>6.44</td>\n",
       "      <td>24.37</td>\n",
       "      <td>34.85</td>\n",
       "      <td>13.54</td>\n",
       "      <td>300</td>\n",
       "      <td>9.9</td>\n",
       "      <td>1004.55</td>\n",
       "      <td>28.5</td>\n",
       "      <td>190</td>\n",
       "      <td>0.054344</td>\n",
       "      <td>1</td>\n",
       "    </tr>\n",
       "    <tr>\n",
       "      <th>...</th>\n",
       "      <td>...</td>\n",
       "      <td>...</td>\n",
       "      <td>...</td>\n",
       "      <td>...</td>\n",
       "      <td>...</td>\n",
       "      <td>...</td>\n",
       "      <td>...</td>\n",
       "      <td>...</td>\n",
       "      <td>...</td>\n",
       "      <td>...</td>\n",
       "      <td>...</td>\n",
       "      <td>...</td>\n",
       "      <td>...</td>\n",
       "      <td>...</td>\n",
       "      <td>...</td>\n",
       "    </tr>\n",
       "    <tr>\n",
       "      <th>1194</th>\n",
       "      <td>16.00</td>\n",
       "      <td>3.22</td>\n",
       "      <td>2.57</td>\n",
       "      <td>1.82</td>\n",
       "      <td>3.62</td>\n",
       "      <td>35.98</td>\n",
       "      <td>40.55</td>\n",
       "      <td>10.35</td>\n",
       "      <td>305</td>\n",
       "      <td>16.1</td>\n",
       "      <td>1005.18</td>\n",
       "      <td>45.0</td>\n",
       "      <td>260</td>\n",
       "      <td>0.193224</td>\n",
       "      <td>1</td>\n",
       "    </tr>\n",
       "    <tr>\n",
       "      <th>1195</th>\n",
       "      <td>19.00</td>\n",
       "      <td>1.51</td>\n",
       "      <td>2.41</td>\n",
       "      <td>4.73</td>\n",
       "      <td>4.07</td>\n",
       "      <td>35.98</td>\n",
       "      <td>40.55</td>\n",
       "      <td>10.35</td>\n",
       "      <td>305</td>\n",
       "      <td>16.1</td>\n",
       "      <td>1005.18</td>\n",
       "      <td>65.0</td>\n",
       "      <td>345</td>\n",
       "      <td>0.142517</td>\n",
       "      <td>1</td>\n",
       "    </tr>\n",
       "    <tr>\n",
       "      <th>1196</th>\n",
       "      <td>12.00</td>\n",
       "      <td>3.28</td>\n",
       "      <td>2.70</td>\n",
       "      <td>3.69</td>\n",
       "      <td>3.85</td>\n",
       "      <td>35.98</td>\n",
       "      <td>40.55</td>\n",
       "      <td>10.35</td>\n",
       "      <td>305</td>\n",
       "      <td>17.3</td>\n",
       "      <td>1005.18</td>\n",
       "      <td>118.0</td>\n",
       "      <td>670</td>\n",
       "      <td>0.186696</td>\n",
       "      <td>1</td>\n",
       "    </tr>\n",
       "    <tr>\n",
       "      <th>1197</th>\n",
       "      <td>13.00</td>\n",
       "      <td>1.89</td>\n",
       "      <td>2.42</td>\n",
       "      <td>3.82</td>\n",
       "      <td>3.93</td>\n",
       "      <td>35.98</td>\n",
       "      <td>40.55</td>\n",
       "      <td>10.35</td>\n",
       "      <td>305</td>\n",
       "      <td>17.3</td>\n",
       "      <td>1005.18</td>\n",
       "      <td>28.0</td>\n",
       "      <td>215</td>\n",
       "      <td>0.151403</td>\n",
       "      <td>1</td>\n",
       "    </tr>\n",
       "    <tr>\n",
       "      <th>1198</th>\n",
       "      <td>12.00</td>\n",
       "      <td>2.95</td>\n",
       "      <td>2.95</td>\n",
       "      <td>4.03</td>\n",
       "      <td>4.03</td>\n",
       "      <td>35.98</td>\n",
       "      <td>40.55</td>\n",
       "      <td>10.35</td>\n",
       "      <td>305</td>\n",
       "      <td>17.3</td>\n",
       "      <td>1005.18</td>\n",
       "      <td>70.0</td>\n",
       "      <td>800</td>\n",
       "      <td>0.182296</td>\n",
       "      <td>1</td>\n",
       "    </tr>\n",
       "  </tbody>\n",
       "</table>\n",
       "<p>1189 rows × 15 columns</p>\n",
       "</div>"
      ],
      "text/plain": [
       "      Num.Rep.  SessionLength  Avg.Sess.  kWhDelivered  Avg.Cons.   \n",
       "0        11.13           2.20       3.55          7.93       6.44  \\\n",
       "1        13.75          11.19       3.55         10.01       6.44   \n",
       "2        13.76          10.33       3.54          5.26       6.44   \n",
       "3        14.62           9.31       3.55          5.18       6.44   \n",
       "4        14.68           8.38       3.55         10.12       6.44   \n",
       "...        ...            ...        ...           ...        ...   \n",
       "1194     16.00           3.22       2.57          1.82       3.62   \n",
       "1195     19.00           1.51       2.41          4.73       4.07   \n",
       "1196     12.00           3.28       2.70          3.69       3.85   \n",
       "1197     13.00           1.89       2.42          3.82       3.93   \n",
       "1198     12.00           2.95       2.95          4.03       4.03   \n",
       "\n",
       "      temperature  Avg. Humidity  Avg Wind Speed(mph)  Wind Bearing(degrees)   \n",
       "0           24.37          34.85                13.54                    300  \\\n",
       "1           24.37          34.85                13.54                    300   \n",
       "2           24.37          34.85                13.54                    300   \n",
       "3           24.37          34.85                13.54                    300   \n",
       "4           24.37          34.85                13.54                    300   \n",
       "...           ...            ...                  ...                    ...   \n",
       "1194        35.98          40.55                10.35                    305   \n",
       "1195        35.98          40.55                10.35                    305   \n",
       "1196        35.98          40.55                10.35                    305   \n",
       "1197        35.98          40.55                10.35                    305   \n",
       "1198        35.98          40.55                10.35                    305   \n",
       "\n",
       "      Visibility(km)  Pressure(millibar)  Battery_Pack Kwh  FastCharge_KmH   \n",
       "0                9.9             1004.55              70.0             940  \\\n",
       "1                9.9             1004.55              45.0             250   \n",
       "2                9.9             1004.55              75.0             620   \n",
       "3                9.9             1004.55              74.0             560   \n",
       "4                9.9             1004.55              28.5             190   \n",
       "...              ...                 ...               ...             ...   \n",
       "1194            16.1             1005.18              45.0             260   \n",
       "1195            16.1             1005.18              65.0             345   \n",
       "1196            17.3             1005.18             118.0             670   \n",
       "1197            17.3             1005.18              28.0             215   \n",
       "1198            17.3             1005.18              70.0             800   \n",
       "\n",
       "      newlength  anomaly  \n",
       "0      0.170563        1  \n",
       "1     -0.058522       -1  \n",
       "2     -0.023262       -1  \n",
       "3      0.045699        1  \n",
       "4      0.054344        1  \n",
       "...         ...      ...  \n",
       "1194   0.193224        1  \n",
       "1195   0.142517        1  \n",
       "1196   0.186696        1  \n",
       "1197   0.151403        1  \n",
       "1198   0.182296        1  \n",
       "\n",
       "[1189 rows x 15 columns]"
      ]
     },
     "execution_count": 30,
     "metadata": {},
     "output_type": "execute_result"
    }
   ],
   "source": [
    "ev_data"
   ]
  },
  {
   "cell_type": "markdown",
   "id": "0a01c186",
   "metadata": {},
   "source": [
    "#Splitting the features and target"
   ]
  },
  {
   "cell_type": "code",
   "execution_count": 31,
   "id": "96ca630d",
   "metadata": {},
   "outputs": [],
   "source": [
    "X = ev_data.drop(['SessionLength','newlength','anomaly','kWhDelivered'],axis=1)\n",
    "Y = ev_data['SessionLength']"
   ]
  },
  {
   "cell_type": "code",
   "execution_count": 32,
   "id": "77584c8a",
   "metadata": {},
   "outputs": [],
   "source": [
    "scaler = StandardScaler()"
   ]
  },
  {
   "cell_type": "code",
   "execution_count": 33,
   "id": "f775230b",
   "metadata": {},
   "outputs": [
    {
     "data": {
      "text/html": [
       "<style>#sk-container-id-2 {color: black;background-color: white;}#sk-container-id-2 pre{padding: 0;}#sk-container-id-2 div.sk-toggleable {background-color: white;}#sk-container-id-2 label.sk-toggleable__label {cursor: pointer;display: block;width: 100%;margin-bottom: 0;padding: 0.3em;box-sizing: border-box;text-align: center;}#sk-container-id-2 label.sk-toggleable__label-arrow:before {content: \"▸\";float: left;margin-right: 0.25em;color: #696969;}#sk-container-id-2 label.sk-toggleable__label-arrow:hover:before {color: black;}#sk-container-id-2 div.sk-estimator:hover label.sk-toggleable__label-arrow:before {color: black;}#sk-container-id-2 div.sk-toggleable__content {max-height: 0;max-width: 0;overflow: hidden;text-align: left;background-color: #f0f8ff;}#sk-container-id-2 div.sk-toggleable__content pre {margin: 0.2em;color: black;border-radius: 0.25em;background-color: #f0f8ff;}#sk-container-id-2 input.sk-toggleable__control:checked~div.sk-toggleable__content {max-height: 200px;max-width: 100%;overflow: auto;}#sk-container-id-2 input.sk-toggleable__control:checked~label.sk-toggleable__label-arrow:before {content: \"▾\";}#sk-container-id-2 div.sk-estimator input.sk-toggleable__control:checked~label.sk-toggleable__label {background-color: #d4ebff;}#sk-container-id-2 div.sk-label input.sk-toggleable__control:checked~label.sk-toggleable__label {background-color: #d4ebff;}#sk-container-id-2 input.sk-hidden--visually {border: 0;clip: rect(1px 1px 1px 1px);clip: rect(1px, 1px, 1px, 1px);height: 1px;margin: -1px;overflow: hidden;padding: 0;position: absolute;width: 1px;}#sk-container-id-2 div.sk-estimator {font-family: monospace;background-color: #f0f8ff;border: 1px dotted black;border-radius: 0.25em;box-sizing: border-box;margin-bottom: 0.5em;}#sk-container-id-2 div.sk-estimator:hover {background-color: #d4ebff;}#sk-container-id-2 div.sk-parallel-item::after {content: \"\";width: 100%;border-bottom: 1px solid gray;flex-grow: 1;}#sk-container-id-2 div.sk-label:hover label.sk-toggleable__label {background-color: #d4ebff;}#sk-container-id-2 div.sk-serial::before {content: \"\";position: absolute;border-left: 1px solid gray;box-sizing: border-box;top: 0;bottom: 0;left: 50%;z-index: 0;}#sk-container-id-2 div.sk-serial {display: flex;flex-direction: column;align-items: center;background-color: white;padding-right: 0.2em;padding-left: 0.2em;position: relative;}#sk-container-id-2 div.sk-item {position: relative;z-index: 1;}#sk-container-id-2 div.sk-parallel {display: flex;align-items: stretch;justify-content: center;background-color: white;position: relative;}#sk-container-id-2 div.sk-item::before, #sk-container-id-2 div.sk-parallel-item::before {content: \"\";position: absolute;border-left: 1px solid gray;box-sizing: border-box;top: 0;bottom: 0;left: 50%;z-index: -1;}#sk-container-id-2 div.sk-parallel-item {display: flex;flex-direction: column;z-index: 1;position: relative;background-color: white;}#sk-container-id-2 div.sk-parallel-item:first-child::after {align-self: flex-end;width: 50%;}#sk-container-id-2 div.sk-parallel-item:last-child::after {align-self: flex-start;width: 50%;}#sk-container-id-2 div.sk-parallel-item:only-child::after {width: 0;}#sk-container-id-2 div.sk-dashed-wrapped {border: 1px dashed gray;margin: 0 0.4em 0.5em 0.4em;box-sizing: border-box;padding-bottom: 0.4em;background-color: white;}#sk-container-id-2 div.sk-label label {font-family: monospace;font-weight: bold;display: inline-block;line-height: 1.2em;}#sk-container-id-2 div.sk-label-container {text-align: center;}#sk-container-id-2 div.sk-container {/* jupyter's `normalize.less` sets `[hidden] { display: none; }` but bootstrap.min.css set `[hidden] { display: none !important; }` so we also need the `!important` here to be able to override the default hidden behavior on the sphinx rendered scikit-learn.org. See: https://github.com/scikit-learn/scikit-learn/issues/21755 */display: inline-block !important;position: relative;}#sk-container-id-2 div.sk-text-repr-fallback {display: none;}</style><div id=\"sk-container-id-2\" class=\"sk-top-container\"><div class=\"sk-text-repr-fallback\"><pre>StandardScaler()</pre><b>In a Jupyter environment, please rerun this cell to show the HTML representation or trust the notebook. <br />On GitHub, the HTML representation is unable to render, please try loading this page with nbviewer.org.</b></div><div class=\"sk-container\" hidden><div class=\"sk-item\"><div class=\"sk-estimator sk-toggleable\"><input class=\"sk-toggleable__control sk-hidden--visually\" id=\"sk-estimator-id-2\" type=\"checkbox\" checked><label for=\"sk-estimator-id-2\" class=\"sk-toggleable__label sk-toggleable__label-arrow\">StandardScaler</label><div class=\"sk-toggleable__content\"><pre>StandardScaler()</pre></div></div></div></div></div>"
      ],
      "text/plain": [
       "StandardScaler()"
      ]
     },
     "execution_count": 33,
     "metadata": {},
     "output_type": "execute_result"
    }
   ],
   "source": [
    "scaler.fit(X)"
   ]
  },
  {
   "cell_type": "code",
   "execution_count": 34,
   "id": "aa9348f2",
   "metadata": {},
   "outputs": [],
   "source": [
    "standardized_data = scaler.transform(X)"
   ]
  },
  {
   "cell_type": "code",
   "execution_count": 35,
   "id": "b44eed78",
   "metadata": {},
   "outputs": [
    {
     "name": "stdout",
     "output_type": "stream",
     "text": [
      "[[-0.96793856  2.94729991  1.6182259  ... -0.93636002 -0.26729264\n",
      "   1.51983325]\n",
      " [-0.29749283  2.94729991  1.6182259  ... -0.93636002 -1.08297052\n",
      "  -1.43995177]\n",
      " [-0.29493388  2.90241678  1.6182259  ... -0.93636002 -0.10415706\n",
      "   0.14717932]\n",
      " ...\n",
      " [-0.74530963 -0.86776554 -2.66068058 ... -0.75208437  1.29880891\n",
      "   0.3616565 ]\n",
      " [-0.48941432 -2.12449298 -2.52851358 ... -0.75208437 -1.63763149\n",
      "  -1.59008579]\n",
      " [-0.74530963  0.25431253 -2.36330484 ... -0.75208437 -0.26729264\n",
      "   0.91929716]]\n"
     ]
    }
   ],
   "source": [
    "print(standardized_data)"
   ]
  },
  {
   "cell_type": "code",
   "execution_count": 36,
   "id": "91878952",
   "metadata": {},
   "outputs": [],
   "source": [
    "X = standardized_data\n",
    "Y = ev_data['SessionLength']"
   ]
  },
  {
   "cell_type": "code",
   "execution_count": 37,
   "id": "49f07ed7",
   "metadata": {
    "scrolled": true
   },
   "outputs": [
    {
     "name": "stdout",
     "output_type": "stream",
     "text": [
      "[[-0.96793856  2.94729991  1.6182259  ... -0.93636002 -0.26729264\n",
      "   1.51983325]\n",
      " [-0.29749283  2.94729991  1.6182259  ... -0.93636002 -1.08297052\n",
      "  -1.43995177]\n",
      " [-0.29493388  2.90241678  1.6182259  ... -0.93636002 -0.10415706\n",
      "   0.14717932]\n",
      " ...\n",
      " [-0.74530963 -0.86776554 -2.66068058 ... -0.75208437  1.29880891\n",
      "   0.3616565 ]\n",
      " [-0.48941432 -2.12449298 -2.52851358 ... -0.75208437 -1.63763149\n",
      "  -1.59008579]\n",
      " [-0.74530963  0.25431253 -2.36330484 ... -0.75208437 -0.26729264\n",
      "   0.91929716]]\n"
     ]
    }
   ],
   "source": [
    "print(X)"
   ]
  },
  {
   "cell_type": "code",
   "execution_count": 38,
   "id": "d83d6b99",
   "metadata": {
    "scrolled": true
   },
   "outputs": [
    {
     "name": "stdout",
     "output_type": "stream",
     "text": [
      "0        2.20\n",
      "1       11.19\n",
      "2       10.33\n",
      "3        9.31\n",
      "4        8.38\n",
      "        ...  \n",
      "1194     3.22\n",
      "1195     1.51\n",
      "1196     3.28\n",
      "1197     1.89\n",
      "1198     2.95\n",
      "Name: SessionLength, Length: 1189, dtype: float64\n"
     ]
    }
   ],
   "source": [
    "print(Y)"
   ]
  },
  {
   "cell_type": "code",
   "execution_count": 39,
   "id": "2dc0e699",
   "metadata": {},
   "outputs": [],
   "source": [
    "X_train, X_test, Y_train, Y_test = train_test_split(X, Y, test_size = 0.2, random_state=2)"
   ]
  },
  {
   "cell_type": "code",
   "execution_count": 40,
   "id": "dc559a98",
   "metadata": {},
   "outputs": [],
   "source": [
    "regressor = RandomForestRegressor(n_estimators=100)"
   ]
  },
  {
   "cell_type": "code",
   "execution_count": 41,
   "id": "2f069ace",
   "metadata": {},
   "outputs": [
    {
     "data": {
      "text/html": [
       "<style>#sk-container-id-3 {color: black;background-color: white;}#sk-container-id-3 pre{padding: 0;}#sk-container-id-3 div.sk-toggleable {background-color: white;}#sk-container-id-3 label.sk-toggleable__label {cursor: pointer;display: block;width: 100%;margin-bottom: 0;padding: 0.3em;box-sizing: border-box;text-align: center;}#sk-container-id-3 label.sk-toggleable__label-arrow:before {content: \"▸\";float: left;margin-right: 0.25em;color: #696969;}#sk-container-id-3 label.sk-toggleable__label-arrow:hover:before {color: black;}#sk-container-id-3 div.sk-estimator:hover label.sk-toggleable__label-arrow:before {color: black;}#sk-container-id-3 div.sk-toggleable__content {max-height: 0;max-width: 0;overflow: hidden;text-align: left;background-color: #f0f8ff;}#sk-container-id-3 div.sk-toggleable__content pre {margin: 0.2em;color: black;border-radius: 0.25em;background-color: #f0f8ff;}#sk-container-id-3 input.sk-toggleable__control:checked~div.sk-toggleable__content {max-height: 200px;max-width: 100%;overflow: auto;}#sk-container-id-3 input.sk-toggleable__control:checked~label.sk-toggleable__label-arrow:before {content: \"▾\";}#sk-container-id-3 div.sk-estimator input.sk-toggleable__control:checked~label.sk-toggleable__label {background-color: #d4ebff;}#sk-container-id-3 div.sk-label input.sk-toggleable__control:checked~label.sk-toggleable__label {background-color: #d4ebff;}#sk-container-id-3 input.sk-hidden--visually {border: 0;clip: rect(1px 1px 1px 1px);clip: rect(1px, 1px, 1px, 1px);height: 1px;margin: -1px;overflow: hidden;padding: 0;position: absolute;width: 1px;}#sk-container-id-3 div.sk-estimator {font-family: monospace;background-color: #f0f8ff;border: 1px dotted black;border-radius: 0.25em;box-sizing: border-box;margin-bottom: 0.5em;}#sk-container-id-3 div.sk-estimator:hover {background-color: #d4ebff;}#sk-container-id-3 div.sk-parallel-item::after {content: \"\";width: 100%;border-bottom: 1px solid gray;flex-grow: 1;}#sk-container-id-3 div.sk-label:hover label.sk-toggleable__label {background-color: #d4ebff;}#sk-container-id-3 div.sk-serial::before {content: \"\";position: absolute;border-left: 1px solid gray;box-sizing: border-box;top: 0;bottom: 0;left: 50%;z-index: 0;}#sk-container-id-3 div.sk-serial {display: flex;flex-direction: column;align-items: center;background-color: white;padding-right: 0.2em;padding-left: 0.2em;position: relative;}#sk-container-id-3 div.sk-item {position: relative;z-index: 1;}#sk-container-id-3 div.sk-parallel {display: flex;align-items: stretch;justify-content: center;background-color: white;position: relative;}#sk-container-id-3 div.sk-item::before, #sk-container-id-3 div.sk-parallel-item::before {content: \"\";position: absolute;border-left: 1px solid gray;box-sizing: border-box;top: 0;bottom: 0;left: 50%;z-index: -1;}#sk-container-id-3 div.sk-parallel-item {display: flex;flex-direction: column;z-index: 1;position: relative;background-color: white;}#sk-container-id-3 div.sk-parallel-item:first-child::after {align-self: flex-end;width: 50%;}#sk-container-id-3 div.sk-parallel-item:last-child::after {align-self: flex-start;width: 50%;}#sk-container-id-3 div.sk-parallel-item:only-child::after {width: 0;}#sk-container-id-3 div.sk-dashed-wrapped {border: 1px dashed gray;margin: 0 0.4em 0.5em 0.4em;box-sizing: border-box;padding-bottom: 0.4em;background-color: white;}#sk-container-id-3 div.sk-label label {font-family: monospace;font-weight: bold;display: inline-block;line-height: 1.2em;}#sk-container-id-3 div.sk-label-container {text-align: center;}#sk-container-id-3 div.sk-container {/* jupyter's `normalize.less` sets `[hidden] { display: none; }` but bootstrap.min.css set `[hidden] { display: none !important; }` so we also need the `!important` here to be able to override the default hidden behavior on the sphinx rendered scikit-learn.org. See: https://github.com/scikit-learn/scikit-learn/issues/21755 */display: inline-block !important;position: relative;}#sk-container-id-3 div.sk-text-repr-fallback {display: none;}</style><div id=\"sk-container-id-3\" class=\"sk-top-container\"><div class=\"sk-text-repr-fallback\"><pre>RandomForestRegressor()</pre><b>In a Jupyter environment, please rerun this cell to show the HTML representation or trust the notebook. <br />On GitHub, the HTML representation is unable to render, please try loading this page with nbviewer.org.</b></div><div class=\"sk-container\" hidden><div class=\"sk-item\"><div class=\"sk-estimator sk-toggleable\"><input class=\"sk-toggleable__control sk-hidden--visually\" id=\"sk-estimator-id-3\" type=\"checkbox\" checked><label for=\"sk-estimator-id-3\" class=\"sk-toggleable__label sk-toggleable__label-arrow\">RandomForestRegressor</label><div class=\"sk-toggleable__content\"><pre>RandomForestRegressor()</pre></div></div></div></div></div>"
      ],
      "text/plain": [
       "RandomForestRegressor()"
      ]
     },
     "execution_count": 41,
     "metadata": {},
     "output_type": "execute_result"
    }
   ],
   "source": [
    "# training the model\n",
    "regressor.fit(X_train,Y_train)"
   ]
  },
  {
   "cell_type": "code",
   "execution_count": 42,
   "id": "a442b4c1",
   "metadata": {},
   "outputs": [],
   "source": [
    "# prediction on Test Data\n",
    "test_data_prediction = regressor.predict(X_test)"
   ]
  },
  {
   "cell_type": "code",
   "execution_count": 43,
   "id": "9584f80f",
   "metadata": {},
   "outputs": [
    {
     "name": "stdout",
     "output_type": "stream",
     "text": [
      "[3.3875 2.2178 2.3571 2.5438 1.7116 2.4908 2.9474 3.5496 2.6681 2.0339\n",
      " 3.5259 2.9982 1.8291 1.8934 2.4449 2.9251 2.0435 3.0957 3.9621 2.9651\n",
      " 4.0766 5.5506 1.84   4.4533 4.6472 3.6982 2.9261 3.1719 3.2968 2.745\n",
      " 2.6603 3.0566 2.7306 2.9336 2.4278 2.3518 2.8696 1.8287 3.1279 6.4012\n",
      " 3.702  2.9611 2.8298 8.7955 3.5213 5.6594 2.7167 3.0619 7.7933 2.8577\n",
      " 2.3982 4.0821 2.7608 2.8432 1.7205 3.9936 2.8115 3.3792 2.7351 2.7099\n",
      " 3.1021 1.6002 2.8967 2.8365 2.9917 6.5384 2.9287 2.7901 2.6078 6.6555\n",
      " 1.598  3.9842 6.6852 5.5532 3.5245 1.9084 7.7691 7.5125 2.0212 9.6383\n",
      " 3.3127 3.0317 2.8356 3.3201 2.9921 5.4986 5.6405 3.6522 5.5215 1.453\n",
      " 2.7191 2.3184 2.9393 3.375  4.6338 7.6739 6.7683 1.5417 6.8707 6.2598\n",
      " 3.6541 2.9526 3.0023 1.3991 7.8096 1.9853 1.9758 2.6698 2.6189 3.1106\n",
      " 3.0056 3.1435 7.813  2.9954 1.9555 1.7206 3.6266 2.7982 3.1937 1.5925\n",
      " 6.2675 3.4409 2.2383 2.8854 3.1645 2.9028 2.8231 2.1155 5.1494 2.8859\n",
      " 3.4025 2.4382 3.1507 4.4953 3.0397 2.2059 1.8099 2.8937 2.9621 2.8111\n",
      " 2.2044 3.3778 3.4668 4.2024 4.3279 3.8935 2.6543 2.2872 3.3698 3.5921\n",
      " 5.7057 5.1339 2.7511 1.2248 2.9119 3.0185 3.0603 3.2043 3.0525 2.8128\n",
      " 6.8787 3.2068 3.3247 3.3218 2.2105 2.434  4.7163 2.373  3.0537 3.1992\n",
      " 7.5555 4.8629 3.1482 2.682  3.2674 2.89   3.1044 8.6043 4.635  2.6269\n",
      " 2.2413 2.8186 2.8972 2.7186 2.7078 6.1163 3.533  1.9812 2.3299 3.1668\n",
      " 8.0604 2.6702 2.4343 9.2635 6.2865 2.6179 3.7044 3.0826 3.0655 8.3506\n",
      " 8.4061 3.6429 2.4729 2.8038 2.9959 2.7188 6.6062 3.5396 2.7971 3.1971\n",
      " 3.2307 3.2157 2.5325 3.614  1.4551 2.9146 3.2465 3.3142 3.2598 2.9992\n",
      " 6.9527 2.5096 3.3006 3.3199 6.8526 2.5899 2.4044 2.5871 2.9721 2.7482\n",
      " 1.6391 3.464  1.903  3.8127 2.8944 2.9874 3.2569 2.7349]\n"
     ]
    }
   ],
   "source": [
    "print(test_data_prediction)"
   ]
  },
  {
   "cell_type": "code",
   "execution_count": 44,
   "id": "3d4714ba",
   "metadata": {},
   "outputs": [],
   "source": [
    "Y_test = list(Y_test)"
   ]
  },
  {
   "cell_type": "code",
   "execution_count": 45,
   "id": "819182d8",
   "metadata": {},
   "outputs": [
    {
     "data": {
      "image/png": "[encoded data removed]",
      "text/plain": [
       "<Figure size 640x480 with 1 Axes>"
      ]
     },
     "metadata": {},
     "output_type": "display_data"
    }
   ],
   "source": [
    "plt.plot(Y_test, color='blue', label = 'Actual Value')\n",
    "plt.plot(test_data_prediction, color='green', label='Predicted Value')\n",
    "plt.title('Actual  vs Predicted ')\n",
    "plt.xlabel('Number of values')\n",
    "plt.ylabel('Session Length')\n",
    "plt.legend()\n",
    "plt.show()"
   ]
  },
  {
   "cell_type": "code",
   "execution_count": 46,
   "id": "7b955bf2",
   "metadata": {},
   "outputs": [],
   "source": [
    "#Training Scores\n",
    "training_data_prediction = regressor.predict(X_train)"
   ]
  },
  {
   "cell_type": "code",
   "execution_count": 47,
   "id": "975f1361",
   "metadata": {},
   "outputs": [
    {
     "data": {
      "text/plain": [
       "0.42735962145110407"
      ]
     },
     "execution_count": 47,
     "metadata": {},
     "output_type": "execute_result"
    }
   ],
   "source": [
    "mean_absolute_error(Y_train, training_data_prediction)"
   ]
  },
  {
   "cell_type": "code",
   "execution_count": 48,
   "id": "05f86ddf",
   "metadata": {},
   "outputs": [
    {
     "data": {
      "text/plain": [
       "0.6342077646549951"
      ]
     },
     "execution_count": 48,
     "metadata": {},
     "output_type": "execute_result"
    }
   ],
   "source": [
    "sqrt(mean_squared_error(Y_train, training_data_prediction))"
   ]
  },
  {
   "cell_type": "code",
   "execution_count": 49,
   "id": "5afebc00",
   "metadata": {},
   "outputs": [
    {
     "name": "stdout",
     "output_type": "stream",
     "text": [
      "R squared error :  0.9198839181678282\n"
     ]
    }
   ],
   "source": [
    "# R squared error\n",
    "error_score = metrics.r2_score(Y_train, training_data_prediction)\n",
    "print(\"R squared error : \", error_score)"
   ]
  },
  {
   "cell_type": "code",
   "execution_count": 50,
   "id": "8e1d1efb",
   "metadata": {},
   "outputs": [],
   "source": [
    "def smape(actual, predicted):\n",
    "    \"\"\"\n",
    "    Calculate SMAPE (Symmetric Mean Absolute Percentage Error) for actual and predicted values.\n",
    "    \"\"\"\n",
    "    actual = np.array(actual)\n",
    "    predicted = np.array(predicted)\n",
    "    return 100/len(actual) * np.sum(2 * np.abs(predicted - actual) / (np.abs(actual) + np.abs(predicted)))\n"
   ]
  },
  {
   "cell_type": "code",
   "execution_count": 51,
   "id": "681de7ec",
   "metadata": {},
   "outputs": [
    {
     "name": "stdout",
     "output_type": "stream",
     "text": [
      "SMAPE score:  18.237017227883154\n"
     ]
    }
   ],
   "source": [
    "smape_score = smape(Y_train, training_data_prediction)\n",
    "print(\"SMAPE score: \", smape_score)"
   ]
  },
  {
   "cell_type": "code",
   "execution_count": 52,
   "id": "a1975cf3",
   "metadata": {},
   "outputs": [],
   "source": [
    "#Test Scores"
   ]
  },
  {
   "cell_type": "code",
   "execution_count": 53,
   "id": "f697218c",
   "metadata": {},
   "outputs": [
    {
     "data": {
      "text/plain": [
       "1.0560373949579833"
      ]
     },
     "execution_count": 53,
     "metadata": {},
     "output_type": "execute_result"
    }
   ],
   "source": [
    "mean_absolute_error(Y_test, test_data_prediction)"
   ]
  },
  {
   "cell_type": "code",
   "execution_count": 54,
   "id": "28dc210f",
   "metadata": {},
   "outputs": [],
   "source": [
    "rms = sqrt(mean_squared_error(Y_test, test_data_prediction))"
   ]
  },
  {
   "cell_type": "code",
   "execution_count": 55,
   "id": "a29d61c0",
   "metadata": {},
   "outputs": [
    {
     "name": "stdout",
     "output_type": "stream",
     "text": [
      "1.4242892280601112\n"
     ]
    }
   ],
   "source": [
    "print(rms)"
   ]
  },
  {
   "cell_type": "code",
   "execution_count": 56,
   "id": "3c3d7356",
   "metadata": {},
   "outputs": [
    {
     "name": "stdout",
     "output_type": "stream",
     "text": [
      "R squared error :  0.5924596912948683\n"
     ]
    }
   ],
   "source": [
    "# R squared error\n",
    "error_score = metrics.r2_score(Y_test, test_data_prediction)\n",
    "print(\"R squared error : \", error_score)"
   ]
  },
  {
   "cell_type": "code",
   "execution_count": 57,
   "id": "5df978ce",
   "metadata": {},
   "outputs": [],
   "source": [
    "def smape(actual, predicted):\n",
    "    \"\"\"\n",
    "    Calculate SMAPE (Symmetric Mean Absolute Percentage Error) for actual and predicted values.\n",
    "    \"\"\"\n",
    "    actual = np.array(actual)\n",
    "    predicted = np.array(predicted)\n",
    "    return 100/len(actual) * np.sum(2 * np.abs(predicted - actual) / (np.abs(actual) + np.abs(predicted)))\n"
   ]
  },
  {
   "cell_type": "code",
   "execution_count": 58,
   "id": "4ebfe0d4",
   "metadata": {},
   "outputs": [
    {
     "name": "stdout",
     "output_type": "stream",
     "text": [
      "SMAPE score:  34.78546862428728\n"
     ]
    }
   ],
   "source": [
    "smape_score = smape(Y_test, test_data_prediction)\n",
    "print(\"SMAPE score: \", smape_score)"
   ]
  },
  {
   "cell_type": "code",
   "execution_count": 59,
   "id": "e2a7f2ef",
   "metadata": {},
   "outputs": [
    {
     "data": {
      "image/png": "[encoded data removed]",
      "text/plain": [
       "<Figure size 640x480 with 1 Axes>"
      ]
     },
     "metadata": {},
     "output_type": "display_data"
    }
   ],
   "source": [
    "#Visualising\n",
    "sns.regplot(x=Y_test, y=test_data_prediction)\n",
    "plt.xlabel(\"Actual\")\n",
    "plt.ylabel('Predicted')\n",
    "plt.title(\"ACtual vs predicted\")\n",
    "plt.show()\n",
    "\n"
   ]
  },
  {
   "cell_type": "markdown",
   "id": "0fa69893",
   "metadata": {},
   "source": [
    "#SVM "
   ]
  },
  {
   "cell_type": "code",
   "execution_count": 60,
   "id": "c525dd5d",
   "metadata": {},
   "outputs": [],
   "source": [
    "X_train, X_test, Y_train, Y_test = train_test_split(X, Y, test_size = 0.2, random_state=2)"
   ]
  },
  {
   "cell_type": "code",
   "execution_count": 61,
   "id": "64e97c93",
   "metadata": {},
   "outputs": [
    {
     "data": {
      "text/html": [
       "<style>#sk-container-id-4 {color: black;background-color: white;}#sk-container-id-4 pre{padding: 0;}#sk-container-id-4 div.sk-toggleable {background-color: white;}#sk-container-id-4 label.sk-toggleable__label {cursor: pointer;display: block;width: 100%;margin-bottom: 0;padding: 0.3em;box-sizing: border-box;text-align: center;}#sk-container-id-4 label.sk-toggleable__label-arrow:before {content: \"▸\";float: left;margin-right: 0.25em;color: #696969;}#sk-container-id-4 label.sk-toggleable__label-arrow:hover:before {color: black;}#sk-container-id-4 div.sk-estimator:hover label.sk-toggleable__label-arrow:before {color: black;}#sk-container-id-4 div.sk-toggleable__content {max-height: 0;max-width: 0;overflow: hidden;text-align: left;background-color: #f0f8ff;}#sk-container-id-4 div.sk-toggleable__content pre {margin: 0.2em;color: black;border-radius: 0.25em;background-color: #f0f8ff;}#sk-container-id-4 input.sk-toggleable__control:checked~div.sk-toggleable__content {max-height: 200px;max-width: 100%;overflow: auto;}#sk-container-id-4 input.sk-toggleable__control:checked~label.sk-toggleable__label-arrow:before {content: \"▾\";}#sk-container-id-4 div.sk-estimator input.sk-toggleable__control:checked~label.sk-toggleable__label {background-color: #d4ebff;}#sk-container-id-4 div.sk-label input.sk-toggleable__control:checked~label.sk-toggleable__label {background-color: #d4ebff;}#sk-container-id-4 input.sk-hidden--visually {border: 0;clip: rect(1px 1px 1px 1px);clip: rect(1px, 1px, 1px, 1px);height: 1px;margin: -1px;overflow: hidden;padding: 0;position: absolute;width: 1px;}#sk-container-id-4 div.sk-estimator {font-family: monospace;background-color: #f0f8ff;border: 1px dotted black;border-radius: 0.25em;box-sizing: border-box;margin-bottom: 0.5em;}#sk-container-id-4 div.sk-estimator:hover {background-color: #d4ebff;}#sk-container-id-4 div.sk-parallel-item::after {content: \"\";width: 100%;border-bottom: 1px solid gray;flex-grow: 1;}#sk-container-id-4 div.sk-label:hover label.sk-toggleable__label {background-color: #d4ebff;}#sk-container-id-4 div.sk-serial::before {content: \"\";position: absolute;border-left: 1px solid gray;box-sizing: border-box;top: 0;bottom: 0;left: 50%;z-index: 0;}#sk-container-id-4 div.sk-serial {display: flex;flex-direction: column;align-items: center;background-color: white;padding-right: 0.2em;padding-left: 0.2em;position: relative;}#sk-container-id-4 div.sk-item {position: relative;z-index: 1;}#sk-container-id-4 div.sk-parallel {display: flex;align-items: stretch;justify-content: center;background-color: white;position: relative;}#sk-container-id-4 div.sk-item::before, #sk-container-id-4 div.sk-parallel-item::before {content: \"\";position: absolute;border-left: 1px solid gray;box-sizing: border-box;top: 0;bottom: 0;left: 50%;z-index: -1;}#sk-container-id-4 div.sk-parallel-item {display: flex;flex-direction: column;z-index: 1;position: relative;background-color: white;}#sk-container-id-4 div.sk-parallel-item:first-child::after {align-self: flex-end;width: 50%;}#sk-container-id-4 div.sk-parallel-item:last-child::after {align-self: flex-start;width: 50%;}#sk-container-id-4 div.sk-parallel-item:only-child::after {width: 0;}#sk-container-id-4 div.sk-dashed-wrapped {border: 1px dashed gray;margin: 0 0.4em 0.5em 0.4em;box-sizing: border-box;padding-bottom: 0.4em;background-color: white;}#sk-container-id-4 div.sk-label label {font-family: monospace;font-weight: bold;display: inline-block;line-height: 1.2em;}#sk-container-id-4 div.sk-label-container {text-align: center;}#sk-container-id-4 div.sk-container {/* jupyter's `normalize.less` sets `[hidden] { display: none; }` but bootstrap.min.css set `[hidden] { display: none !important; }` so we also need the `!important` here to be able to override the default hidden behavior on the sphinx rendered scikit-learn.org. See: https://github.com/scikit-learn/scikit-learn/issues/21755 */display: inline-block !important;position: relative;}#sk-container-id-4 div.sk-text-repr-fallback {display: none;}</style><div id=\"sk-container-id-4\" class=\"sk-top-container\"><div class=\"sk-text-repr-fallback\"><pre>SVR(C=10, gamma=0.1)</pre><b>In a Jupyter environment, please rerun this cell to show the HTML representation or trust the notebook. <br />On GitHub, the HTML representation is unable to render, please try loading this page with nbviewer.org.</b></div><div class=\"sk-container\" hidden><div class=\"sk-item\"><div class=\"sk-estimator sk-toggleable\"><input class=\"sk-toggleable__control sk-hidden--visually\" id=\"sk-estimator-id-4\" type=\"checkbox\" checked><label for=\"sk-estimator-id-4\" class=\"sk-toggleable__label sk-toggleable__label-arrow\">SVR</label><div class=\"sk-toggleable__content\"><pre>SVR(C=10, gamma=0.1)</pre></div></div></div></div></div>"
      ],
      "text/plain": [
       "SVR(C=10, gamma=0.1)"
      ]
     },
     "execution_count": 61,
     "metadata": {},
     "output_type": "execute_result"
    }
   ],
   "source": [
    "svr = SVR(kernel='rbf', C=10, gamma=0.1, epsilon=0.1)\n",
    "svr.fit(X_train,Y_train)"
   ]
  },
  {
   "cell_type": "code",
   "execution_count": 62,
   "id": "c4238f1c",
   "metadata": {},
   "outputs": [],
   "source": [
    "y_pred = svr.predict(X_test)\n",
    "mse = mean_squared_error(Y_test, y_pred)"
   ]
  },
  {
   "cell_type": "code",
   "execution_count": 63,
   "id": "f62823e3",
   "metadata": {},
   "outputs": [
    {
     "name": "stdout",
     "output_type": "stream",
     "text": [
      "[2.22474958 2.25308677 3.42407518 2.36241238 1.80064764 3.87810157\n",
      " 2.51532964 2.65611829 3.03591274 1.67178784 3.34279958 3.66821609\n",
      " 2.17767678 2.03514087 2.5231083  2.67363616 2.22480656 3.48708834\n",
      " 2.07082513 2.85523414 3.46117454 6.27248968 2.60841949 4.20871031\n",
      " 3.72738633 3.06975336 3.76760134 3.39403544 3.36815993 2.64951955\n",
      " 3.14610147 2.64999063 3.26918575 3.32284481 1.98224441 2.53223509\n",
      " 3.43990396 1.57866718 3.24223389 8.28139967 3.6390242  2.4283285\n",
      " 3.44008572 8.87597135 3.23656317 5.80520084 2.38525315 3.58964886\n",
      " 7.96242025 3.36696797 3.25300446 2.17260923 3.08927682 1.72047984\n",
      " 1.25615598 3.45170993 2.46429725 3.47371503 2.38274277 3.0458657\n",
      " 2.89973347 2.71022577 2.75557842 1.83765824 2.30058478 7.10698432\n",
      " 2.81267631 3.45628941 2.98917058 9.02199472 0.45198347 3.06179754\n",
      " 7.71173918 7.88624641 3.42669356 1.71981668 7.97858667 8.58722183\n",
      " 3.15225381 8.86595474 3.25366603 2.77154158 3.026901   2.97800998\n",
      " 2.80118732 5.80334167 4.86115001 2.48523438 7.0339406  1.15817741\n",
      " 1.99720328 2.12362202 2.68756352 2.05999115 3.17655556 8.83277778\n",
      " 6.01717568 3.08190595 8.59056497 8.33614241 3.77395524 2.88529432\n",
      " 2.65985671 2.46350913 7.59638275 1.54083992 1.78933492 3.24745845\n",
      " 2.7300741  3.27215218 1.5799207  2.44676508 8.19249953 3.91848708\n",
      " 2.20672864 1.52350338 3.54203653 3.4586538  2.97415832 2.72534414\n",
      " 8.40802093 3.03860432 2.95812001 2.70782788 3.26035814 3.0197974\n",
      " 2.9886531  2.69014165 4.88276961 2.79029117 3.05077354 2.28268083\n",
      " 3.02239418 3.15590879 3.20537407 2.3522428  2.2585389  3.86619472\n",
      " 3.120504   1.90695826 0.69027649 3.43464395 2.08012248 4.59597129\n",
      " 3.65035052 3.69372472 2.14839557 2.48442177 3.44267818 3.55938397\n",
      " 5.44121106 5.67959091 2.63970489 3.21420294 3.27341801 2.86446918\n",
      " 2.84752888 3.33220543 2.42652508 2.43593247 6.37612942 3.65192822\n",
      " 3.54038823 3.60376933 1.79463019 2.34734358 5.77629385 3.24222716\n",
      " 3.07251338 2.76942477 8.45615064 6.45540299 2.82454147 2.49521273\n",
      " 3.0766989  3.45636744 3.15968449 8.20178269 3.8297836  2.09461107\n",
      " 2.2768844  2.55823434 3.37984179 2.69873817 3.09939804 7.25919181\n",
      " 3.35311015 1.77171859 2.09022069 3.12393898 8.43348284 2.92638776\n",
      " 2.47879194 8.61291361 7.15264015 2.63467542 2.49921536 2.66717296\n",
      " 3.07640682 8.36529472 9.36643578 3.41924368 3.29220296 2.63163159\n",
      " 2.76515382 3.34298812 7.41685716 3.74712102 3.40252499 4.54656475\n",
      " 2.69324497 1.91296019 2.70835075 3.85796638 2.89625848 3.65868411\n",
      " 2.90385683 2.95422659 3.24071018 2.51333525 6.92106293 2.74610541\n",
      " 3.09954442 3.98987622 7.95913275 2.51014683 2.08712538 2.75058063\n",
      " 2.55144887 2.61839146 1.53662459 2.98535123 2.88309987 3.42546421\n",
      " 2.30958256 3.18204439 3.49886109 2.96493782]\n"
     ]
    }
   ],
   "source": [
    "print(y_pred)"
   ]
  },
  {
   "cell_type": "code",
   "execution_count": 64,
   "id": "930dcac6",
   "metadata": {},
   "outputs": [],
   "source": [
    "Y_test = list(Y_test)"
   ]
  },
  {
   "cell_type": "code",
   "execution_count": 65,
   "id": "87bc8add",
   "metadata": {},
   "outputs": [
    {
     "data": {
      "image/png": "[encoded data removed]",
      "text/plain": [
       "<Figure size 640x480 with 1 Axes>"
      ]
     },
     "metadata": {},
     "output_type": "display_data"
    }
   ],
   "source": [
    "plt.plot(Y_test, color='blue', label = 'Actual Value')\n",
    "plt.plot(y_pred, color='green', label='Predicted Value')\n",
    "plt.title('Actual  vs Predicted ')\n",
    "plt.xlabel('Number of values')\n",
    "plt.ylabel('Session Length')\n",
    "plt.legend()\n",
    "plt.show()"
   ]
  },
  {
   "cell_type": "code",
   "execution_count": 66,
   "id": "1df31b21",
   "metadata": {},
   "outputs": [
    {
     "data": {
      "text/plain": [
       "1.1562560926327528"
      ]
     },
     "execution_count": 66,
     "metadata": {},
     "output_type": "execute_result"
    }
   ],
   "source": [
    "mean_absolute_error(Y_test, y_pred)"
   ]
  },
  {
   "cell_type": "code",
   "execution_count": 67,
   "id": "51207439",
   "metadata": {},
   "outputs": [],
   "source": [
    "rms = sqrt(mean_squared_error(Y_test, y_pred))"
   ]
  },
  {
   "cell_type": "code",
   "execution_count": 68,
   "id": "97379bf9",
   "metadata": {},
   "outputs": [
    {
     "name": "stdout",
     "output_type": "stream",
     "text": [
      "1.5429163946820244\n"
     ]
    }
   ],
   "source": [
    "print(rms)"
   ]
  },
  {
   "cell_type": "code",
   "execution_count": 69,
   "id": "33eb3c3c",
   "metadata": {},
   "outputs": [
    {
     "name": "stdout",
     "output_type": "stream",
     "text": [
      "R squared error :  0.5217455956725339\n"
     ]
    }
   ],
   "source": [
    "# R squared error\n",
    "error_score = metrics.r2_score(Y_test, y_pred)\n",
    "print(\"R squared error : \", error_score)"
   ]
  },
  {
   "cell_type": "code",
   "execution_count": 70,
   "id": "f5360828",
   "metadata": {},
   "outputs": [
    {
     "name": "stdout",
     "output_type": "stream",
     "text": [
      "SMAPE score:  38.75005788808079\n"
     ]
    }
   ],
   "source": [
    "smape_score = smape(Y_test, y_pred)\n",
    "print(\"SMAPE score: \", smape_score)"
   ]
  },
  {
   "cell_type": "code",
   "execution_count": 71,
   "id": "2565be61",
   "metadata": {},
   "outputs": [
    {
     "data": {
      "image/png": "[encoded data removed]",
      "text/plain": [
       "<Figure size 640x480 with 1 Axes>"
      ]
     },
     "metadata": {},
     "output_type": "display_data"
    }
   ],
   "source": [
    "#Visualising\n",
    "sns.regplot(x=Y_test, y=y_pred)\n",
    "plt.xlabel(\"Actual\")\n",
    "plt.ylabel('Predicted')\n",
    "plt.title(\"ACtual vs predicted\")\n",
    "plt.show()"
   ]
  },
  {
   "cell_type": "markdown",
   "id": "5d156f24",
   "metadata": {},
   "source": [
    "#XGB"
   ]
  },
  {
   "cell_type": "code",
   "execution_count": 72,
   "id": "96b61c97",
   "metadata": {},
   "outputs": [],
   "source": [
    "# loading the model\n",
    "xb_model = XGBRegressor(objective='reg:squarederror', alpha=0.5)"
   ]
  },
  {
   "cell_type": "code",
   "execution_count": 73,
   "id": "681eed80",
   "metadata": {},
   "outputs": [
    {
     "data": {
      "text/html": [
       "<style>#sk-container-id-5 {color: black;background-color: white;}#sk-container-id-5 pre{padding: 0;}#sk-container-id-5 div.sk-toggleable {background-color: white;}#sk-container-id-5 label.sk-toggleable__label {cursor: pointer;display: block;width: 100%;margin-bottom: 0;padding: 0.3em;box-sizing: border-box;text-align: center;}#sk-container-id-5 label.sk-toggleable__label-arrow:before {content: \"▸\";float: left;margin-right: 0.25em;color: #696969;}#sk-container-id-5 label.sk-toggleable__label-arrow:hover:before {color: black;}#sk-container-id-5 div.sk-estimator:hover label.sk-toggleable__label-arrow:before {color: black;}#sk-container-id-5 div.sk-toggleable__content {max-height: 0;max-width: 0;overflow: hidden;text-align: left;background-color: #f0f8ff;}#sk-container-id-5 div.sk-toggleable__content pre {margin: 0.2em;color: black;border-radius: 0.25em;background-color: #f0f8ff;}#sk-container-id-5 input.sk-toggleable__control:checked~div.sk-toggleable__content {max-height: 200px;max-width: 100%;overflow: auto;}#sk-container-id-5 input.sk-toggleable__control:checked~label.sk-toggleable__label-arrow:before {content: \"▾\";}#sk-container-id-5 div.sk-estimator input.sk-toggleable__control:checked~label.sk-toggleable__label {background-color: #d4ebff;}#sk-container-id-5 div.sk-label input.sk-toggleable__control:checked~label.sk-toggleable__label {background-color: #d4ebff;}#sk-container-id-5 input.sk-hidden--visually {border: 0;clip: rect(1px 1px 1px 1px);clip: rect(1px, 1px, 1px, 1px);height: 1px;margin: -1px;overflow: hidden;padding: 0;position: absolute;width: 1px;}#sk-container-id-5 div.sk-estimator {font-family: monospace;background-color: #f0f8ff;border: 1px dotted black;border-radius: 0.25em;box-sizing: border-box;margin-bottom: 0.5em;}#sk-container-id-5 div.sk-estimator:hover {background-color: #d4ebff;}#sk-container-id-5 div.sk-parallel-item::after {content: \"\";width: 100%;border-bottom: 1px solid gray;flex-grow: 1;}#sk-container-id-5 div.sk-label:hover label.sk-toggleable__label {background-color: #d4ebff;}#sk-container-id-5 div.sk-serial::before {content: \"\";position: absolute;border-left: 1px solid gray;box-sizing: border-box;top: 0;bottom: 0;left: 50%;z-index: 0;}#sk-container-id-5 div.sk-serial {display: flex;flex-direction: column;align-items: center;background-color: white;padding-right: 0.2em;padding-left: 0.2em;position: relative;}#sk-container-id-5 div.sk-item {position: relative;z-index: 1;}#sk-container-id-5 div.sk-parallel {display: flex;align-items: stretch;justify-content: center;background-color: white;position: relative;}#sk-container-id-5 div.sk-item::before, #sk-container-id-5 div.sk-parallel-item::before {content: \"\";position: absolute;border-left: 1px solid gray;box-sizing: border-box;top: 0;bottom: 0;left: 50%;z-index: -1;}#sk-container-id-5 div.sk-parallel-item {display: flex;flex-direction: column;z-index: 1;position: relative;background-color: white;}#sk-container-id-5 div.sk-parallel-item:first-child::after {align-self: flex-end;width: 50%;}#sk-container-id-5 div.sk-parallel-item:last-child::after {align-self: flex-start;width: 50%;}#sk-container-id-5 div.sk-parallel-item:only-child::after {width: 0;}#sk-container-id-5 div.sk-dashed-wrapped {border: 1px dashed gray;margin: 0 0.4em 0.5em 0.4em;box-sizing: border-box;padding-bottom: 0.4em;background-color: white;}#sk-container-id-5 div.sk-label label {font-family: monospace;font-weight: bold;display: inline-block;line-height: 1.2em;}#sk-container-id-5 div.sk-label-container {text-align: center;}#sk-container-id-5 div.sk-container {/* jupyter's `normalize.less` sets `[hidden] { display: none; }` but bootstrap.min.css set `[hidden] { display: none !important; }` so we also need the `!important` here to be able to override the default hidden behavior on the sphinx rendered scikit-learn.org. See: https://github.com/scikit-learn/scikit-learn/issues/21755 */display: inline-block !important;position: relative;}#sk-container-id-5 div.sk-text-repr-fallback {display: none;}</style><div id=\"sk-container-id-5\" class=\"sk-top-container\"><div class=\"sk-text-repr-fallback\"><pre>XGBRegressor(alpha=0.5, base_score=None, booster=None, callbacks=None,\n",
       "             colsample_bylevel=None, colsample_bynode=None,\n",
       "             colsample_bytree=None, early_stopping_rounds=None,\n",
       "             enable_categorical=False, eval_metric=None, feature_types=None,\n",
       "             gamma=None, gpu_id=None, grow_policy=None, importance_type=None,\n",
       "             interaction_constraints=None, learning_rate=None, max_bin=None,\n",
       "             max_cat_threshold=None, max_cat_to_onehot=None,\n",
       "             max_delta_step=None, max_depth=None, max_leaves=None,\n",
       "             min_child_weight=None, missing=nan, monotone_constraints=None,\n",
       "             n_estimators=100, n_jobs=None, num_parallel_tree=None,\n",
       "             predictor=None, ...)</pre><b>In a Jupyter environment, please rerun this cell to show the HTML representation or trust the notebook. <br />On GitHub, the HTML representation is unable to render, please try loading this page with nbviewer.org.</b></div><div class=\"sk-container\" hidden><div class=\"sk-item\"><div class=\"sk-estimator sk-toggleable\"><input class=\"sk-toggleable__control sk-hidden--visually\" id=\"sk-estimator-id-5\" type=\"checkbox\" checked><label for=\"sk-estimator-id-5\" class=\"sk-toggleable__label sk-toggleable__label-arrow\">XGBRegressor</label><div class=\"sk-toggleable__content\"><pre>XGBRegressor(alpha=0.5, base_score=None, booster=None, callbacks=None,\n",
       "             colsample_bylevel=None, colsample_bynode=None,\n",
       "             colsample_bytree=None, early_stopping_rounds=None,\n",
       "             enable_categorical=False, eval_metric=None, feature_types=None,\n",
       "             gamma=None, gpu_id=None, grow_policy=None, importance_type=None,\n",
       "             interaction_constraints=None, learning_rate=None, max_bin=None,\n",
       "             max_cat_threshold=None, max_cat_to_onehot=None,\n",
       "             max_delta_step=None, max_depth=None, max_leaves=None,\n",
       "             min_child_weight=None, missing=nan, monotone_constraints=None,\n",
       "             n_estimators=100, n_jobs=None, num_parallel_tree=None,\n",
       "             predictor=None, ...)</pre></div></div></div></div></div>"
      ],
      "text/plain": [
       "XGBRegressor(alpha=0.5, base_score=None, booster=None, callbacks=None,\n",
       "             colsample_bylevel=None, colsample_bynode=None,\n",
       "             colsample_bytree=None, early_stopping_rounds=None,\n",
       "             enable_categorical=False, eval_metric=None, feature_types=None,\n",
       "             gamma=None, gpu_id=None, grow_policy=None, importance_type=None,\n",
       "             interaction_constraints=None, learning_rate=None, max_bin=None,\n",
       "             max_cat_threshold=None, max_cat_to_onehot=None,\n",
       "             max_delta_step=None, max_depth=None, max_leaves=None,\n",
       "             min_child_weight=None, missing=nan, monotone_constraints=None,\n",
       "             n_estimators=100, n_jobs=None, num_parallel_tree=None,\n",
       "             predictor=None, ...)"
      ]
     },
     "execution_count": 73,
     "metadata": {},
     "output_type": "execute_result"
    }
   ],
   "source": [
    "# training the model with X_train\n",
    "xb_model.fit(X_train, Y_train)"
   ]
  },
  {
   "cell_type": "code",
   "execution_count": 74,
   "id": "9e86d343",
   "metadata": {},
   "outputs": [],
   "source": [
    "test_prediction = xb_model.predict(X_test)"
   ]
  },
  {
   "cell_type": "code",
   "execution_count": 75,
   "id": "9df529dd",
   "metadata": {},
   "outputs": [
    {
     "name": "stdout",
     "output_type": "stream",
     "text": [
      "[ 2.9243672   2.786443    2.121517    2.194274    1.2979548   1.9356103\n",
      "  2.6342735   1.7531915   2.9148672   1.6519928   3.3432086   3.3270085\n",
      "  1.357144    2.2113624   2.0451808   2.813973    1.4658768   3.2366176\n",
      "  4.625407    3.6077836   4.126704    6.116197    2.2783966   4.285047\n",
      "  4.065889    3.4146671   3.1207938   2.9772828   2.9234142   2.5976727\n",
      "  2.4654932   3.8944833   2.8706455   3.2494535   2.2683048   2.2564495\n",
      "  3.7733054   1.5911447   3.1596932   5.8751125   3.9555762   2.924174\n",
      "  2.1167636   7.5692368   3.4409075   5.942206    2.7741604   3.360225\n",
      "  8.82021     2.3021357   2.6738393   2.8893857   2.0717149   4.014897\n",
      "  1.8541325   3.8459468   2.689918    3.521674    2.5281355   2.9205577\n",
      "  2.8460538   1.7274839   3.475017    3.8630693   2.9532485   4.4304976\n",
      "  2.8601694   2.8806539   2.8026621   6.777638    0.76244044  4.820029\n",
      "  2.5641942   7.4490395   2.6078506   4.254238    7.08713     7.980593\n",
      "  2.3216972   8.398999    3.0218346   3.3501456   2.413082    2.7122579\n",
      "  2.8946688   4.4215546   7.004616    1.0339785   7.951045    1.3778478\n",
      "  2.500812    2.36658     3.4145575   2.1886916   4.5342994   7.528471\n",
      "  7.5765805   2.268365    7.0362945   4.3648396   3.566662    2.9540534\n",
      "  3.4851305   0.98823625  7.3796916   1.8951997   2.4537475   1.7414384\n",
      "  2.4698877   3.281292    2.8566415   3.3687942   8.512659    2.706075\n",
      "  1.5933782   1.6579354   3.4750922   1.9513413   2.6932502   1.4029074\n",
      "  6.125624    3.4198813   2.5769756   3.5029132   2.668456    2.9679825\n",
      "  2.9099367   1.9685819   2.4211895   2.9264815   3.2273817   2.744369\n",
      "  3.240523    4.2185235   2.8480499   1.9567074   1.9868846   2.7028117\n",
      "  2.52123     3.0717764   3.5299792   2.9385438   1.9754092   3.8474138\n",
      "  4.565334    3.6170862   2.4654353   1.9014693   3.1295645   3.7514513\n",
      "  5.27931     3.948306    2.9996316   2.5302272   3.026473    4.015873\n",
      "  3.8875196   3.1149354   2.7089734   3.0922124   7.491028    3.3924382\n",
      "  3.6404152   3.2471998   2.3886735   1.7554395   3.3555777   1.8116722\n",
      "  3.4625063   2.4587965   7.297751    3.9937735   3.6126707   2.764753\n",
      "  2.8181562   3.939184    3.1273434  10.818554    4.207585    2.674738\n",
      "  3.2938933   2.275691    3.335029    3.4229076   2.224299    5.725936\n",
      "  4.0347404   1.6249967   2.1099322   2.1685812   8.695937    2.8792381\n",
      "  2.266573    7.060953    4.7111487   2.5711713   3.4086573   3.3481596\n",
      "  3.3872287   9.526848    7.116342    3.1756716   2.262771    2.8346214\n",
      "  2.7841492   3.5011673   9.959198    4.4149003   3.4345214   3.475491\n",
      "  2.269025    3.1666157   2.4037187   4.202608    1.3432379   3.072547\n",
      "  3.4279175   3.65509     3.367859    2.5089571   7.259131    3.0339909\n",
      "  2.4206023   3.2901971   6.790648    2.1600757   2.1086054   2.5071807\n",
      "  2.523263    2.9106958   1.1475403   3.3702798   2.7758443   4.256592\n",
      "  2.7940776   3.250609    2.6993198   2.7796743 ]\n"
     ]
    }
   ],
   "source": [
    "print(test_prediction)"
   ]
  },
  {
   "cell_type": "code",
   "execution_count": 76,
   "id": "d6a92fde",
   "metadata": {},
   "outputs": [],
   "source": [
    "Y_test = list(Y_test)"
   ]
  },
  {
   "cell_type": "code",
   "execution_count": 77,
   "id": "d9669083",
   "metadata": {},
   "outputs": [
    {
     "data": {
      "image/png": "[encoded data removed]",
      "text/plain": [
       "<Figure size 640x480 with 1 Axes>"
      ]
     },
     "metadata": {},
     "output_type": "display_data"
    }
   ],
   "source": [
    "plt.plot(Y_test, color='blue', label = 'Actual Value')\n",
    "plt.plot(test_prediction, color='green', label='Predicted Value')\n",
    "plt.title('Actual vs Predicted')\n",
    "plt.xlabel('Number of values')\n",
    "plt.ylabel('Session Length')\n",
    "plt.legend()\n",
    "plt.show()"
   ]
  },
  {
   "cell_type": "code",
   "execution_count": 78,
   "id": "8022a776",
   "metadata": {},
   "outputs": [],
   "source": [
    "#Training Scores\n",
    "training_data_prediction = xb_model.predict(X_train)"
   ]
  },
  {
   "cell_type": "code",
   "execution_count": 79,
   "id": "b2837d47",
   "metadata": {},
   "outputs": [
    {
     "data": {
      "text/plain": [
       "0.11732991877477125"
      ]
     },
     "execution_count": 79,
     "metadata": {},
     "output_type": "execute_result"
    }
   ],
   "source": [
    "mean_absolute_error(Y_train, training_data_prediction)"
   ]
  },
  {
   "cell_type": "code",
   "execution_count": 80,
   "id": "d3ea834c",
   "metadata": {},
   "outputs": [
    {
     "data": {
      "text/plain": [
       "0.16170338377988747"
      ]
     },
     "execution_count": 80,
     "metadata": {},
     "output_type": "execute_result"
    }
   ],
   "source": [
    "sqrt(mean_squared_error(Y_train, training_data_prediction))"
   ]
  },
  {
   "cell_type": "code",
   "execution_count": 81,
   "id": "9b96c799",
   "metadata": {},
   "outputs": [
    {
     "name": "stdout",
     "output_type": "stream",
     "text": [
      "R squared error :  0.9947917141993428\n"
     ]
    }
   ],
   "source": [
    "# R squared error\n",
    "error_score = metrics.r2_score(Y_train, training_data_prediction)\n",
    "print(\"R squared error : \", error_score)"
   ]
  },
  {
   "cell_type": "code",
   "execution_count": 82,
   "id": "c80a00e0",
   "metadata": {},
   "outputs": [
    {
     "name": "stdout",
     "output_type": "stream",
     "text": [
      "SMAPE score:  7.460476752613106\n"
     ]
    }
   ],
   "source": [
    "smape_score = smape(Y_train, training_data_prediction)\n",
    "print(\"SMAPE score: \", smape_score)\n"
   ]
  },
  {
   "cell_type": "code",
   "execution_count": 83,
   "id": "e5686bdd",
   "metadata": {},
   "outputs": [],
   "source": [
    "#Test Scores"
   ]
  },
  {
   "cell_type": "code",
   "execution_count": 84,
   "id": "20eee23d",
   "metadata": {},
   "outputs": [
    {
     "data": {
      "text/plain": [
       "1.1415462416260183"
      ]
     },
     "execution_count": 84,
     "metadata": {},
     "output_type": "execute_result"
    }
   ],
   "source": [
    "mean_absolute_error(Y_test, test_prediction)"
   ]
  },
  {
   "cell_type": "code",
   "execution_count": 85,
   "id": "80f41965",
   "metadata": {},
   "outputs": [],
   "source": [
    "rms = sqrt(mean_squared_error(Y_test, test_prediction))"
   ]
  },
  {
   "cell_type": "code",
   "execution_count": 86,
   "id": "5bbf4b33",
   "metadata": {},
   "outputs": [
    {
     "name": "stdout",
     "output_type": "stream",
     "text": [
      "1.6339914792983952\n"
     ]
    }
   ],
   "source": [
    "print(rms)"
   ]
  },
  {
   "cell_type": "code",
   "execution_count": 87,
   "id": "420fe4f1",
   "metadata": {},
   "outputs": [
    {
     "name": "stdout",
     "output_type": "stream",
     "text": [
      "R squared error :  0.46361853062358815\n"
     ]
    }
   ],
   "source": [
    "# R squared error\n",
    "error_score = metrics.r2_score(Y_test, test_prediction)\n",
    "print(\"R squared error : \", error_score)"
   ]
  },
  {
   "cell_type": "code",
   "execution_count": 88,
   "id": "b6439721",
   "metadata": {},
   "outputs": [
    {
     "name": "stdout",
     "output_type": "stream",
     "text": [
      "SMAPE score:  36.085093991534414\n"
     ]
    }
   ],
   "source": [
    "smape_score = smape(Y_test, test_prediction)\n",
    "print(\"SMAPE score: \", smape_score)"
   ]
  },
  {
   "cell_type": "code",
   "execution_count": 89,
   "id": "1a86269e",
   "metadata": {},
   "outputs": [
    {
     "data": {
      "image/png": "[encoded data removed]",
      "text/plain": [
       "<Figure size 640x480 with 1 Axes>"
      ]
     },
     "metadata": {},
     "output_type": "display_data"
    }
   ],
   "source": [
    "#Visualising\n",
    "sns.regplot(x=Y_test, y=test_prediction)\n",
    "plt.xlabel(\"Actual\")\n",
    "plt.ylabel('Predicted')\n",
    "plt.title(\"ACtual vs predicted\")\n",
    "plt.show()"
   ]
  },
  {
   "cell_type": "markdown",
   "id": "f3dc4b89",
   "metadata": {},
   "source": [
    "#ANN"
   ]
  },
  {
   "cell_type": "code",
   "execution_count": 90,
   "id": "e4fc1264",
   "metadata": {},
   "outputs": [],
   "source": [
    "X_train, X_test, Y_train, Y_test = train_test_split(X, Y, test_size = 0.2, random_state=2)"
   ]
  },
  {
   "cell_type": "code",
   "execution_count": 94,
   "id": "a21b54f5",
   "metadata": {},
   "outputs": [],
   "source": [
    "# layers\n",
    "model=Sequential()\n",
    "model.add(Dense(units = 11, kernel_initializer = 'uniform', activation = 'relu', input_dim = 11))\n",
    "#model.add(Dense(units = 64, kernel_initializer = 'uniform', activation = 'relu'))\n",
    "model.add(Dense(units = 32, kernel_initializer = 'uniform', activation = 'relu'))\n",
    "model.add(Dense(units = 16, kernel_initializer = 'uniform', activation = 'relu'))\n",
    "model.add(Dense(units = 1, kernel_initializer = 'uniform', activation = 'linear'))"
   ]
  },
  {
   "cell_type": "code",
   "execution_count": 95,
   "id": "d87da162",
   "metadata": {},
   "outputs": [],
   "source": [
    "# Compile the model\n",
    "model.compile(loss='mean_absolute_error',optimizer='adam')"
   ]
  },
  {
   "cell_type": "code",
   "execution_count": 96,
   "id": "e445c837",
   "metadata": {},
   "outputs": [
    {
     "data": {
      "text/plain": [
       "<keras.callbacks.History at 0x25f6ff0ccd0>"
      ]
     },
     "execution_count": 96,
     "metadata": {},
     "output_type": "execute_result"
    }
   ],
   "source": [
    "# Train the model on the training dataset\n",
    "model.fit(X_train, Y_train, epochs=1000, verbose=0)"
   ]
  },
  {
   "cell_type": "code",
   "execution_count": 97,
   "id": "adc9127d",
   "metadata": {},
   "outputs": [
    {
     "name": "stdout",
     "output_type": "stream",
     "text": [
      "8/8 [==============================] - 0s 4ms/step\n"
     ]
    }
   ],
   "source": [
    "# Use the trained model to make predictions on the test dataset\n",
    "Y_pred = model.predict(X_test)"
   ]
  },
  {
   "cell_type": "code",
   "execution_count": 98,
   "id": "4c087926",
   "metadata": {},
   "outputs": [
    {
     "name": "stdout",
     "output_type": "stream",
     "text": [
      "[[1.7690353]\n",
      " [2.8843389]\n",
      " [3.8314667]\n",
      " [2.3627481]\n",
      " [2.114871 ]\n",
      " [3.796471 ]\n",
      " [3.5450208]\n",
      " [3.2005162]\n",
      " [2.553896 ]\n",
      " [2.6367474]\n",
      " [2.8369665]\n",
      " [2.6372712]\n",
      " [2.845005 ]\n",
      " [2.5498939]\n",
      " [2.8189015]\n",
      " [3.935964 ]\n",
      " [2.3594105]\n",
      " [2.255868 ]\n",
      " [2.428678 ]\n",
      " [3.145628 ]\n",
      " [3.3490252]\n",
      " [4.862373 ]\n",
      " [2.8773766]\n",
      " [2.8579903]\n",
      " [4.134519 ]\n",
      " [3.1037803]\n",
      " [3.1518874]\n",
      " [3.0717714]\n",
      " [3.2660248]\n",
      " [2.3922577]\n",
      " [3.0306587]\n",
      " [2.7835793]\n",
      " [2.6530194]\n",
      " [3.2028618]\n",
      " [3.2671597]\n",
      " [2.472093 ]\n",
      " [2.6394897]\n",
      " [1.9706855]\n",
      " [3.5653856]\n",
      " [4.3681335]\n",
      " [3.5951574]\n",
      " [2.3909893]\n",
      " [2.9110088]\n",
      " [4.7667203]\n",
      " [3.6645727]\n",
      " [4.812762 ]\n",
      " [2.8314028]\n",
      " [3.491298 ]\n",
      " [6.018763 ]\n",
      " [3.0713804]\n",
      " [2.3181486]\n",
      " [3.1373348]\n",
      " [2.749373 ]\n",
      " [2.9960296]\n",
      " [2.9576764]\n",
      " [2.3513215]\n",
      " [3.1620207]\n",
      " [3.5757284]\n",
      " [2.6048555]\n",
      " [2.8635244]\n",
      " [3.2328966]\n",
      " [1.8044164]\n",
      " [2.6968317]\n",
      " [2.69877  ]\n",
      " [2.4513571]\n",
      " [4.516733 ]\n",
      " [2.5843973]\n",
      " [3.6440175]\n",
      " [2.2200642]\n",
      " [7.6848445]\n",
      " [2.9239862]\n",
      " [2.62211  ]\n",
      " [5.4646745]\n",
      " [5.1591716]\n",
      " [3.4851735]\n",
      " [2.1766047]\n",
      " [6.064361 ]\n",
      " [5.6249514]\n",
      " [2.5768628]\n",
      " [5.7150197]\n",
      " [3.341878 ]\n",
      " [3.188798 ]\n",
      " [2.6533182]\n",
      " [2.5194716]\n",
      " [2.485168 ]\n",
      " [5.3137536]\n",
      " [3.2029548]\n",
      " [6.404802 ]\n",
      " [4.365434 ]\n",
      " [2.2834964]\n",
      " [2.3488107]\n",
      " [2.1810756]\n",
      " [2.939114 ]\n",
      " [3.2621624]\n",
      " [2.885393 ]\n",
      " [6.519668 ]\n",
      " [4.747    ]\n",
      " [3.6694102]\n",
      " [5.2407317]\n",
      " [7.8999   ]\n",
      " [3.0599618]\n",
      " [3.7003717]\n",
      " [3.0648549]\n",
      " [1.9483676]\n",
      " [4.4897475]\n",
      " [2.98111  ]\n",
      " [2.2090316]\n",
      " [2.6788218]\n",
      " [2.131309 ]\n",
      " [2.175736 ]\n",
      " [2.4479756]\n",
      " [2.3328075]\n",
      " [4.586611 ]\n",
      " [3.7204692]\n",
      " [4.2632384]\n",
      " [2.8238046]\n",
      " [3.3256319]\n",
      " [3.4772208]\n",
      " [3.4404783]\n",
      " [3.0588903]\n",
      " [5.098454 ]\n",
      " [3.0261753]\n",
      " [3.165124 ]\n",
      " [2.4371214]\n",
      " [2.2526112]\n",
      " [2.314985 ]\n",
      " [3.2911167]\n",
      " [2.4748883]\n",
      " [6.0874696]\n",
      " [2.9421246]\n",
      " [3.2995744]\n",
      " [2.9915936]\n",
      " [3.1869395]\n",
      " [2.2844477]\n",
      " [2.889094 ]\n",
      " [2.3188071]\n",
      " [2.7456436]\n",
      " [3.1899414]\n",
      " [3.3770218]\n",
      " [3.0786324]\n",
      " [1.7847686]\n",
      " [3.589919 ]\n",
      " [1.7958782]\n",
      " [5.448981 ]\n",
      " [2.1029706]\n",
      " [2.470658 ]\n",
      " [2.7263083]\n",
      " [1.8280725]\n",
      " [3.735753 ]\n",
      " [4.2254257]\n",
      " [5.884082 ]\n",
      " [5.371835 ]\n",
      " [2.7254357]\n",
      " [3.4277146]\n",
      " [3.4604564]\n",
      " [3.3956199]\n",
      " [2.9993455]\n",
      " [2.4511943]\n",
      " [2.3366017]\n",
      " [3.65338  ]\n",
      " [5.381758 ]\n",
      " [3.051326 ]\n",
      " [3.5011773]\n",
      " [2.4222245]\n",
      " [2.5555553]\n",
      " [2.589097 ]\n",
      " [8.318507 ]\n",
      " [3.6319318]\n",
      " [2.714939 ]\n",
      " [3.020325 ]\n",
      " [5.9376473]\n",
      " [5.6056542]\n",
      " [3.013092 ]\n",
      " [2.1490722]\n",
      " [3.4587028]\n",
      " [2.925349 ]\n",
      " [3.30376  ]\n",
      " [6.668232 ]\n",
      " [4.982281 ]\n",
      " [2.9385226]\n",
      " [2.1717963]\n",
      " [2.368144 ]\n",
      " [3.1357007]\n",
      " [2.7188506]\n",
      " [2.2957363]\n",
      " [5.7755313]\n",
      " [2.7153292]\n",
      " [3.715589 ]\n",
      " [2.732526 ]\n",
      " [3.3640897]\n",
      " [5.957475 ]\n",
      " [3.2812028]\n",
      " [3.6528907]\n",
      " [5.196833 ]\n",
      " [6.501349 ]\n",
      " [2.3899155]\n",
      " [3.823125 ]\n",
      " [1.8870304]\n",
      " [2.8267417]\n",
      " [6.0801806]\n",
      " [5.6719613]\n",
      " [3.1231685]\n",
      " [2.8617458]\n",
      " [2.615546 ]\n",
      " [2.25541  ]\n",
      " [2.5629601]\n",
      " [7.059691 ]\n",
      " [3.5111067]\n",
      " [1.9194772]\n",
      " [2.4229178]\n",
      " [2.5783563]\n",
      " [2.5595105]\n",
      " [2.6910622]\n",
      " [4.107335 ]\n",
      " [1.5998116]\n",
      " [2.6485515]\n",
      " [2.9784389]\n",
      " [3.2031443]\n",
      " [3.383023 ]\n",
      " [2.7054245]\n",
      " [7.6553383]\n",
      " [2.5135305]\n",
      " [2.6012564]\n",
      " [3.8080773]\n",
      " [5.13554  ]\n",
      " [2.7125177]\n",
      " [2.107223 ]\n",
      " [2.5489252]\n",
      " [3.0078053]\n",
      " [2.865495 ]\n",
      " [4.11649  ]\n",
      " [2.7253277]\n",
      " [2.6590137]\n",
      " [3.372472 ]\n",
      " [1.8327024]\n",
      " [2.6327171]\n",
      " [3.164185 ]\n",
      " [2.8345296]]\n"
     ]
    }
   ],
   "source": [
    "print(Y_pred)"
   ]
  },
  {
   "cell_type": "code",
   "execution_count": 99,
   "id": "82bf2ad5",
   "metadata": {},
   "outputs": [
    {
     "name": "stdout",
     "output_type": "stream",
     "text": [
      "30/30 [==============================] - 0s 2ms/step\n"
     ]
    }
   ],
   "source": [
    "#Training Scores\n",
    "training_data_prediction = model.predict(X_train)"
   ]
  },
  {
   "cell_type": "code",
   "execution_count": 100,
   "id": "7d04a435",
   "metadata": {},
   "outputs": [
    {
     "data": {
      "text/plain": [
       "1.2308556910092645"
      ]
     },
     "execution_count": 100,
     "metadata": {},
     "output_type": "execute_result"
    }
   ],
   "source": [
    "mean_absolute_error(Y_train, training_data_prediction)"
   ]
  },
  {
   "cell_type": "code",
   "execution_count": 101,
   "id": "546a7d0d",
   "metadata": {},
   "outputs": [
    {
     "data": {
      "text/plain": [
       "1.8645334030426866"
      ]
     },
     "execution_count": 101,
     "metadata": {},
     "output_type": "execute_result"
    }
   ],
   "source": [
    "sqrt(mean_squared_error(Y_train, training_data_prediction))"
   ]
  },
  {
   "cell_type": "code",
   "execution_count": 102,
   "id": "45cb0bd7",
   "metadata": {},
   "outputs": [
    {
     "name": "stdout",
     "output_type": "stream",
     "text": [
      "R squared error :  0.3075364337073013\n"
     ]
    }
   ],
   "source": [
    "# R squared error\n",
    "error_score = metrics.r2_score(Y_train, training_data_prediction)\n",
    "print(\"R squared error : \", error_score)"
   ]
  },
  {
   "cell_type": "code",
   "execution_count": 103,
   "id": "9e369a74",
   "metadata": {},
   "outputs": [
    {
     "data": {
      "text/plain": [
       "1.376772720873857"
      ]
     },
     "execution_count": 103,
     "metadata": {},
     "output_type": "execute_result"
    }
   ],
   "source": [
    "mean_absolute_error(Y_test, Y_pred)"
   ]
  },
  {
   "cell_type": "code",
   "execution_count": 104,
   "id": "71cf80b4",
   "metadata": {},
   "outputs": [],
   "source": [
    "rms = sqrt(mean_squared_error(Y_test, Y_pred))"
   ]
  },
  {
   "cell_type": "code",
   "execution_count": 105,
   "id": "261acf32",
   "metadata": {},
   "outputs": [
    {
     "name": "stdout",
     "output_type": "stream",
     "text": [
      "1.8333266438722822\n"
     ]
    }
   ],
   "source": [
    "print(rms)"
   ]
  },
  {
   "cell_type": "code",
   "execution_count": 106,
   "id": "174ab4fd",
   "metadata": {},
   "outputs": [
    {
     "name": "stdout",
     "output_type": "stream",
     "text": [
      "R squared error :  0.3247666394403457\n"
     ]
    }
   ],
   "source": [
    "# R squared error\n",
    "error_score = metrics.r2_score(Y_test, Y_pred)\n",
    "print(\"R squared error : \", error_score)"
   ]
  },
  {
   "cell_type": "code",
   "execution_count": 107,
   "id": "fcb85731",
   "metadata": {},
   "outputs": [],
   "source": [
    "def smape(actual, predicted):\n",
    "    \"\"\"\n",
    "    Calculate SMAPE (Symmetric Mean Absolute Percentage Error) for actual and predicted values.\n",
    "    \"\"\"\n",
    "    actual = np.array(actual)\n",
    "    predicted = np.array(predicted)\n",
    "    return np.mean((np.abs(actual - predicted) / (np.abs(actual) + np.abs(predicted))) * 2) * 100"
   ]
  },
  {
   "cell_type": "code",
   "execution_count": 108,
   "id": "634b1ea2",
   "metadata": {},
   "outputs": [
    {
     "name": "stdout",
     "output_type": "stream",
     "text": [
      "SMAPE score: 38.75005788808078\n"
     ]
    }
   ],
   "source": [
    "smape_score = smape(Y_test, y_pred)\n",
    "print(\"SMAPE score:\", smape_score)"
   ]
  },
  {
   "cell_type": "code",
   "execution_count": 109,
   "id": "8d77ded2",
   "metadata": {},
   "outputs": [
    {
     "data": {
      "image/png": "[encoded data removed]",
      "text/plain": [
       "<Figure size 640x480 with 1 Axes>"
      ]
     },
     "metadata": {},
     "output_type": "display_data"
    }
   ],
   "source": [
    "#Visualising\n",
    "sns.regplot(x=Y_test, y=Y_pred)\n",
    "plt.xlabel(\"Actual\")\n",
    "plt.ylabel('Predicted')\n",
    "plt.title(\"ACtual vs predicted\")\n",
    "plt.show()"
   ]
  },
  {
   "cell_type": "markdown",
   "id": "3c846ac2",
   "metadata": {},
   "source": [
    "#KNN"
   ]
  },
  {
   "cell_type": "code",
   "execution_count": 110,
   "id": "d3b0c47a",
   "metadata": {},
   "outputs": [],
   "source": [
    "from sklearn.neighbors import KNeighborsRegressor"
   ]
  },
  {
   "cell_type": "code",
   "execution_count": 111,
   "id": "9c779563",
   "metadata": {},
   "outputs": [],
   "source": [
    "k = 6\n",
    "knn = KNeighborsRegressor(n_neighbors=k)\n",
    "knn.fit(X_train, Y_train)\n",
    "knn_pred = knn.predict(X_test)"
   ]
  },
  {
   "cell_type": "code",
   "execution_count": 112,
   "id": "283a64eb",
   "metadata": {},
   "outputs": [],
   "source": [
    "#Train Scores\n",
    "training_data_prediction = knn.predict(X_train)"
   ]
  },
  {
   "cell_type": "code",
   "execution_count": 113,
   "id": "3dabe5f7",
   "metadata": {},
   "outputs": [
    {
     "data": {
      "text/plain": [
       "1.0975184016824395"
      ]
     },
     "execution_count": 113,
     "metadata": {},
     "output_type": "execute_result"
    }
   ],
   "source": [
    "mean_absolute_error(Y_train, training_data_prediction)"
   ]
  },
  {
   "cell_type": "code",
   "execution_count": 114,
   "id": "1288f0dc",
   "metadata": {},
   "outputs": [
    {
     "data": {
      "text/plain": [
       "1.5409788719722726"
      ]
     },
     "execution_count": 114,
     "metadata": {},
     "output_type": "execute_result"
    }
   ],
   "source": [
    "sqrt(mean_squared_error(Y_train, training_data_prediction))"
   ]
  },
  {
   "cell_type": "code",
   "execution_count": 115,
   "id": "ca14c2fd",
   "metadata": {},
   "outputs": [
    {
     "name": "stdout",
     "output_type": "stream",
     "text": [
      "R squared error :  0.5270121767009481\n"
     ]
    }
   ],
   "source": [
    "# R squared error\n",
    "error_score = metrics.r2_score(Y_train, training_data_prediction)\n",
    "print(\"R squared error : \", error_score)"
   ]
  },
  {
   "cell_type": "code",
   "execution_count": 116,
   "id": "480401bb",
   "metadata": {},
   "outputs": [
    {
     "name": "stdout",
     "output_type": "stream",
     "text": [
      "SMAPE score: 37.01753334577081\n"
     ]
    }
   ],
   "source": [
    "smape_score = smape(Y_train, training_data_prediction)\n",
    "print(\"SMAPE score:\", smape_score)"
   ]
  },
  {
   "cell_type": "code",
   "execution_count": 117,
   "id": "7de14caf",
   "metadata": {},
   "outputs": [
    {
     "data": {
      "text/plain": [
       "1.2287535014005602"
      ]
     },
     "execution_count": 117,
     "metadata": {},
     "output_type": "execute_result"
    }
   ],
   "source": [
    "#test Scores\n",
    "mean_absolute_error(Y_test, knn_pred)"
   ]
  },
  {
   "cell_type": "code",
   "execution_count": 118,
   "id": "44f83e3b",
   "metadata": {},
   "outputs": [
    {
     "data": {
      "text/plain": [
       "1.6428291821596575"
      ]
     },
     "execution_count": 118,
     "metadata": {},
     "output_type": "execute_result"
    }
   ],
   "source": [
    "sqrt(mean_squared_error(Y_test, knn_pred))"
   ]
  },
  {
   "cell_type": "code",
   "execution_count": 119,
   "id": "51e6b44e",
   "metadata": {},
   "outputs": [
    {
     "name": "stdout",
     "output_type": "stream",
     "text": [
      "R squared error :  0.4578006305223189\n"
     ]
    }
   ],
   "source": [
    "# R squared error\n",
    "error_score = metrics.r2_score(Y_test, knn_pred)\n",
    "print(\"R squared error : \", error_score)"
   ]
  },
  {
   "cell_type": "code",
   "execution_count": 120,
   "id": "cb401efd",
   "metadata": {},
   "outputs": [
    {
     "name": "stdout",
     "output_type": "stream",
     "text": [
      "SMAPE score: 39.439471419464525\n"
     ]
    }
   ],
   "source": [
    "smape_score = smape(Y_test, knn_pred)\n",
    "print(\"SMAPE score:\", smape_score)"
   ]
  },
  {
   "cell_type": "code",
   "execution_count": 121,
   "id": "2e390666",
   "metadata": {},
   "outputs": [],
   "source": [
    "from sklearn.ensemble import AdaBoostRegressor"
   ]
  },
  {
   "cell_type": "code",
   "execution_count": 122,
   "id": "b3a0187e",
   "metadata": {},
   "outputs": [],
   "source": [
    "k = 5\n",
    "knn = KNeighborsRegressor(n_neighbors=k)\n",
    "adaboost = AdaBoostRegressor(estimator=knn, n_estimators=50, learning_rate=0.1)\n",
    "adaboost.fit(X_train, Y_train)\n",
    "ada_pred = adaboost.predict(X_test)"
   ]
  },
  {
   "cell_type": "code",
   "execution_count": 123,
   "id": "0b1e7d13",
   "metadata": {},
   "outputs": [],
   "source": [
    "#Train Scores\n",
    "training_data_prediction = adaboost.predict(X_train)"
   ]
  },
  {
   "cell_type": "code",
   "execution_count": 124,
   "id": "dfc53a00",
   "metadata": {},
   "outputs": [
    {
     "data": {
      "text/plain": [
       "0.9747339642481598"
      ]
     },
     "execution_count": 124,
     "metadata": {},
     "output_type": "execute_result"
    }
   ],
   "source": [
    "mean_absolute_error(Y_train, training_data_prediction)"
   ]
  },
  {
   "cell_type": "code",
   "execution_count": 125,
   "id": "24b5a705",
   "metadata": {},
   "outputs": [
    {
     "data": {
      "text/plain": [
       "1.2433327926296245"
      ]
     },
     "execution_count": 125,
     "metadata": {},
     "output_type": "execute_result"
    }
   ],
   "source": [
    "sqrt(mean_squared_error(Y_train, training_data_prediction))"
   ]
  },
  {
   "cell_type": "code",
   "execution_count": 126,
   "id": "25a80795",
   "metadata": {},
   "outputs": [
    {
     "name": "stdout",
     "output_type": "stream",
     "text": [
      "R squared error :  0.6920846296825802\n"
     ]
    }
   ],
   "source": [
    "# R squared error\n",
    "error_score = metrics.r2_score(Y_train, training_data_prediction)\n",
    "print(\"R squared error : \", error_score)"
   ]
  },
  {
   "cell_type": "code",
   "execution_count": 127,
   "id": "7388bed0",
   "metadata": {},
   "outputs": [
    {
     "name": "stdout",
     "output_type": "stream",
     "text": [
      "SMAPE score: 35.22131964958242\n"
     ]
    }
   ],
   "source": [
    "smape_score = smape(Y_train, training_data_prediction)\n",
    "print(\"SMAPE score:\", smape_score)"
   ]
  },
  {
   "cell_type": "code",
   "execution_count": 128,
   "id": "e28331c5",
   "metadata": {},
   "outputs": [
    {
     "data": {
      "text/plain": [
       "1.2794705882352941"
      ]
     },
     "execution_count": 128,
     "metadata": {},
     "output_type": "execute_result"
    }
   ],
   "source": [
    "#Test Scores\n",
    "mean_absolute_error(Y_test, ada_pred)"
   ]
  },
  {
   "cell_type": "code",
   "execution_count": 129,
   "id": "8efa12d5",
   "metadata": {},
   "outputs": [
    {
     "data": {
      "text/plain": [
       "1.793836192553346"
      ]
     },
     "execution_count": 129,
     "metadata": {},
     "output_type": "execute_result"
    }
   ],
   "source": [
    "sqrt(mean_squared_error(Y_test, ada_pred))"
   ]
  },
  {
   "cell_type": "code",
   "execution_count": 130,
   "id": "1aa2be3f",
   "metadata": {},
   "outputs": [
    {
     "name": "stdout",
     "output_type": "stream",
     "text": [
      "R squared error :  0.3535428326546495\n"
     ]
    }
   ],
   "source": [
    "# R squared error\n",
    "error_score = metrics.r2_score(Y_test, ada_pred)\n",
    "print(\"R squared error : \", error_score)"
   ]
  },
  {
   "cell_type": "code",
   "execution_count": 131,
   "id": "25b19073",
   "metadata": {},
   "outputs": [
    {
     "name": "stdout",
     "output_type": "stream",
     "text": [
      "SMAPE score: 39.953928817279014\n"
     ]
    }
   ],
   "source": [
    "smape_score = smape(Y_test, ada_pred)\n",
    "print(\"SMAPE score:\", smape_score)"
   ]
  },
  {
   "cell_type": "code",
   "execution_count": 132,
   "id": "470470c9",
   "metadata": {},
   "outputs": [
    {
     "data": {
      "image/png": "[encoded data removed]",
      "text/plain": [
       "<Figure size 640x480 with 1 Axes>"
      ]
     },
     "metadata": {},
     "output_type": "display_data"
    }
   ],
   "source": [
    "#Visualising\n",
    "sns.regplot(x=Y_test, y=ada_pred)\n",
    "plt.xlabel(\"Actual\")\n",
    "plt.ylabel('Predicted')\n",
    "plt.title(\"ACtual vs predicted\")\n",
    "plt.show()"
   ]
  },
  {
   "cell_type": "markdown",
   "id": "def1e20e",
   "metadata": {},
   "source": [
    "# Ensemble Learning"
   ]
  },
  {
   "cell_type": "code",
   "execution_count": 133,
   "id": "b39a9400",
   "metadata": {
    "scrolled": true
   },
   "outputs": [
    {
     "data": {
      "text/html": [
       "<style>#sk-container-id-6 {color: black;background-color: white;}#sk-container-id-6 pre{padding: 0;}#sk-container-id-6 div.sk-toggleable {background-color: white;}#sk-container-id-6 label.sk-toggleable__label {cursor: pointer;display: block;width: 100%;margin-bottom: 0;padding: 0.3em;box-sizing: border-box;text-align: center;}#sk-container-id-6 label.sk-toggleable__label-arrow:before {content: \"▸\";float: left;margin-right: 0.25em;color: #696969;}#sk-container-id-6 label.sk-toggleable__label-arrow:hover:before {color: black;}#sk-container-id-6 div.sk-estimator:hover label.sk-toggleable__label-arrow:before {color: black;}#sk-container-id-6 div.sk-toggleable__content {max-height: 0;max-width: 0;overflow: hidden;text-align: left;background-color: #f0f8ff;}#sk-container-id-6 div.sk-toggleable__content pre {margin: 0.2em;color: black;border-radius: 0.25em;background-color: #f0f8ff;}#sk-container-id-6 input.sk-toggleable__control:checked~div.sk-toggleable__content {max-height: 200px;max-width: 100%;overflow: auto;}#sk-container-id-6 input.sk-toggleable__control:checked~label.sk-toggleable__label-arrow:before {content: \"▾\";}#sk-container-id-6 div.sk-estimator input.sk-toggleable__control:checked~label.sk-toggleable__label {background-color: #d4ebff;}#sk-container-id-6 div.sk-label input.sk-toggleable__control:checked~label.sk-toggleable__label {background-color: #d4ebff;}#sk-container-id-6 input.sk-hidden--visually {border: 0;clip: rect(1px 1px 1px 1px);clip: rect(1px, 1px, 1px, 1px);height: 1px;margin: -1px;overflow: hidden;padding: 0;position: absolute;width: 1px;}#sk-container-id-6 div.sk-estimator {font-family: monospace;background-color: #f0f8ff;border: 1px dotted black;border-radius: 0.25em;box-sizing: border-box;margin-bottom: 0.5em;}#sk-container-id-6 div.sk-estimator:hover {background-color: #d4ebff;}#sk-container-id-6 div.sk-parallel-item::after {content: \"\";width: 100%;border-bottom: 1px solid gray;flex-grow: 1;}#sk-container-id-6 div.sk-label:hover label.sk-toggleable__label {background-color: #d4ebff;}#sk-container-id-6 div.sk-serial::before {content: \"\";position: absolute;border-left: 1px solid gray;box-sizing: border-box;top: 0;bottom: 0;left: 50%;z-index: 0;}#sk-container-id-6 div.sk-serial {display: flex;flex-direction: column;align-items: center;background-color: white;padding-right: 0.2em;padding-left: 0.2em;position: relative;}#sk-container-id-6 div.sk-item {position: relative;z-index: 1;}#sk-container-id-6 div.sk-parallel {display: flex;align-items: stretch;justify-content: center;background-color: white;position: relative;}#sk-container-id-6 div.sk-item::before, #sk-container-id-6 div.sk-parallel-item::before {content: \"\";position: absolute;border-left: 1px solid gray;box-sizing: border-box;top: 0;bottom: 0;left: 50%;z-index: -1;}#sk-container-id-6 div.sk-parallel-item {display: flex;flex-direction: column;z-index: 1;position: relative;background-color: white;}#sk-container-id-6 div.sk-parallel-item:first-child::after {align-self: flex-end;width: 50%;}#sk-container-id-6 div.sk-parallel-item:last-child::after {align-self: flex-start;width: 50%;}#sk-container-id-6 div.sk-parallel-item:only-child::after {width: 0;}#sk-container-id-6 div.sk-dashed-wrapped {border: 1px dashed gray;margin: 0 0.4em 0.5em 0.4em;box-sizing: border-box;padding-bottom: 0.4em;background-color: white;}#sk-container-id-6 div.sk-label label {font-family: monospace;font-weight: bold;display: inline-block;line-height: 1.2em;}#sk-container-id-6 div.sk-label-container {text-align: center;}#sk-container-id-6 div.sk-container {/* jupyter's `normalize.less` sets `[hidden] { display: none; }` but bootstrap.min.css set `[hidden] { display: none !important; }` so we also need the `!important` here to be able to override the default hidden behavior on the sphinx rendered scikit-learn.org. See: https://github.com/scikit-learn/scikit-learn/issues/21755 */display: inline-block !important;position: relative;}#sk-container-id-6 div.sk-text-repr-fallback {display: none;}</style><div id=\"sk-container-id-6\" class=\"sk-top-container\"><div class=\"sk-text-repr-fallback\"><pre>StackingRegressor(estimators=[(&#x27;rf&#x27;, RandomForestRegressor()),\n",
       "                              (&#x27;svm&#x27;, SVR(C=10, gamma=0.1))])</pre><b>In a Jupyter environment, please rerun this cell to show the HTML representation or trust the notebook. <br />On GitHub, the HTML representation is unable to render, please try loading this page with nbviewer.org.</b></div><div class=\"sk-container\" hidden><div class=\"sk-item sk-dashed-wrapped\"><div class=\"sk-label-container\"><div class=\"sk-label sk-toggleable\"><input class=\"sk-toggleable__control sk-hidden--visually\" id=\"sk-estimator-id-6\" type=\"checkbox\" ><label for=\"sk-estimator-id-6\" class=\"sk-toggleable__label sk-toggleable__label-arrow\">StackingRegressor</label><div class=\"sk-toggleable__content\"><pre>StackingRegressor(estimators=[(&#x27;rf&#x27;, RandomForestRegressor()),\n",
       "                              (&#x27;svm&#x27;, SVR(C=10, gamma=0.1))])</pre></div></div></div><div class=\"sk-serial\"><div class=\"sk-item\"><div class=\"sk-parallel\"><div class=\"sk-parallel-item\"><div class=\"sk-item\"><div class=\"sk-label-container\"><div class=\"sk-label sk-toggleable\"><label>rf</label></div></div><div class=\"sk-serial\"><div class=\"sk-item\"><div class=\"sk-estimator sk-toggleable\"><input class=\"sk-toggleable__control sk-hidden--visually\" id=\"sk-estimator-id-7\" type=\"checkbox\" ><label for=\"sk-estimator-id-7\" class=\"sk-toggleable__label sk-toggleable__label-arrow\">RandomForestRegressor</label><div class=\"sk-toggleable__content\"><pre>RandomForestRegressor()</pre></div></div></div></div></div></div><div class=\"sk-parallel-item\"><div class=\"sk-item\"><div class=\"sk-label-container\"><div class=\"sk-label sk-toggleable\"><label>svm</label></div></div><div class=\"sk-serial\"><div class=\"sk-item\"><div class=\"sk-estimator sk-toggleable\"><input class=\"sk-toggleable__control sk-hidden--visually\" id=\"sk-estimator-id-8\" type=\"checkbox\" ><label for=\"sk-estimator-id-8\" class=\"sk-toggleable__label sk-toggleable__label-arrow\">SVR</label><div class=\"sk-toggleable__content\"><pre>SVR(C=10, gamma=0.1)</pre></div></div></div></div></div></div></div></div><div class=\"sk-item\"><div class=\"sk-parallel\"><div class=\"sk-parallel-item\"><div class=\"sk-item\"><div class=\"sk-label-container\"><div class=\"sk-label sk-toggleable\"><label>final_estimator</label></div></div><div class=\"sk-serial\"><div class=\"sk-item\"><div class=\"sk-estimator sk-toggleable\"><input class=\"sk-toggleable__control sk-hidden--visually\" id=\"sk-estimator-id-9\" type=\"checkbox\" ><label for=\"sk-estimator-id-9\" class=\"sk-toggleable__label sk-toggleable__label-arrow\">RidgeCV</label><div class=\"sk-toggleable__content\"><pre>RidgeCV()</pre></div></div></div></div></div></div></div></div></div></div></div></div>"
      ],
      "text/plain": [
       "StackingRegressor(estimators=[('rf', RandomForestRegressor()),\n",
       "                              ('svm', SVR(C=10, gamma=0.1))])"
      ]
     },
     "execution_count": 133,
     "metadata": {},
     "output_type": "execute_result"
    }
   ],
   "source": [
    "stack_regressor = StackingRegressor(estimators=[('rf', regressor),('svm',svr)])\n",
    "stack_regressor.fit(X_train, Y_train)"
   ]
  },
  {
   "cell_type": "code",
   "execution_count": 134,
   "id": "e7602ef0",
   "metadata": {},
   "outputs": [],
   "source": [
    "pred=stack_regressor.predict(X_test)"
   ]
  },
  {
   "cell_type": "code",
   "execution_count": 135,
   "id": "174949d6",
   "metadata": {},
   "outputs": [
    {
     "name": "stdout",
     "output_type": "stream",
     "text": [
      "[3.16357549 2.42448468 2.76297439 2.7503368  1.8833237  2.90024705\n",
      " 2.87413329 3.1000307  2.77170075 2.03289944 3.38852243 3.26055209\n",
      " 2.07503073 2.108025   2.70313399 2.91163323 2.28853491 3.08636859\n",
      " 3.24419946 3.10764163 3.99953857 5.57724722 2.20464268 4.27854314\n",
      " 4.33381562 3.66229971 3.08713562 3.19532625 3.42693231 2.81161764\n",
      " 2.92037256 3.15383192 2.82515609 3.04080702 2.5591367  2.43350863\n",
      " 2.98333379 1.70750668 3.15628612 6.37291153 3.7102632  2.85286164\n",
      " 2.93492514 8.12672887 3.42786856 4.80194855 2.76146013 3.20019289\n",
      " 7.20816603 3.13189818 2.85147084 3.60193175 2.94112491 2.69674049\n",
      " 1.77862696 3.81684828 2.80207413 3.34879797 2.76505269 2.63168035\n",
      " 3.12295124 2.15162348 3.14269899 2.78177799 3.00787552 6.57480868\n",
      " 2.89657525 3.18736147 2.81364171 6.49006851 1.50064924 3.81889123\n",
      " 6.17991077 6.06171144 3.55640807 2.73507835 7.2325557  7.1474732\n",
      " 2.32112086 8.19216466 3.24513407 2.99382722 2.81790969 3.19005771\n",
      " 2.91040609 4.8980763  5.62001707 3.73918491 5.36014179 1.66129336\n",
      " 2.34642015 2.36765502 2.87840425 3.07854694 4.11071951 7.54749899\n",
      " 6.00422932 2.23048865 6.76237956 6.72628644 3.37699257 2.95340312\n",
      " 2.962735   1.93432012 7.18192696 2.38514636 2.22161169 2.9467338\n",
      " 2.78408687 3.28544374 2.7805791  3.152505   7.43201552 3.3391816\n",
      " 1.90269637 1.96282511 3.56081105 3.08091259 3.18583522 1.73440729\n",
      " 6.12457088 3.59942422 2.71820648 2.89098386 3.3565139  2.97868873\n",
      " 3.02756788 2.40351726 5.30933118 2.95805211 3.34195164 2.63155763\n",
      " 3.17199078 3.92137659 3.09487888 2.33884433 2.04783766 3.25882604\n",
      " 3.06300721 2.70048655 2.02891955 3.43218028 3.38925479 4.42468203\n",
      " 4.11204556 3.85499522 2.48188    2.64798979 3.18516562 3.66734831\n",
      " 5.57895698 4.78524763 2.97361668 1.75999874 2.97016506 3.12181076\n",
      " 2.81797049 3.14862227 3.16776191 2.82538335 6.30874115 3.62472971\n",
      " 3.45358137 3.27910597 2.28876522 2.54200961 4.42842877 2.61784125\n",
      " 3.16202056 2.95811355 7.57533396 4.91139773 3.02020156 2.78573166\n",
      " 3.2110603  3.22427244 3.1748239  8.04015964 4.14457269 2.6983499\n",
      " 2.43053665 2.7501413  3.10903495 3.16047414 2.91140086 6.0838337\n",
      " 3.88367815 2.09859664 2.52859681 3.10348658 7.83951817 2.67449081\n",
      " 2.58672594 7.92898409 5.71491815 2.81515252 3.10944942 3.00545914\n",
      " 3.00655157 7.34155794 8.52143444 3.3176308  2.54290381 2.88047646\n",
      " 2.77612975 3.09769847 6.9316831  3.38251353 3.06637811 3.53642794\n",
      " 2.99300462 3.12802593 2.46934389 3.73788316 2.10897448 3.09442174\n",
      " 3.09669843 3.33230513 3.26514999 2.93999702 6.60040979 2.65236558\n",
      " 3.3034149  3.6479817  6.15930822 2.62478007 2.37677784 2.71087562\n",
      " 2.95842596 3.02749297 1.45085263 3.31359178 2.25012736 3.70703693\n",
      " 2.88489535 3.21730619 3.38801978 2.81870229]\n"
     ]
    }
   ],
   "source": [
    "print(pred)"
   ]
  },
  {
   "cell_type": "code",
   "execution_count": 136,
   "id": "e0952529",
   "metadata": {},
   "outputs": [],
   "source": [
    "#Train Scores\n",
    "training_data_prediction = stack_regressor.predict(X_train)"
   ]
  },
  {
   "cell_type": "code",
   "execution_count": 137,
   "id": "9aa2e6c1",
   "metadata": {},
   "outputs": [
    {
     "data": {
      "text/plain": [
       "0.601192033772871"
      ]
     },
     "execution_count": 137,
     "metadata": {},
     "output_type": "execute_result"
    }
   ],
   "source": [
    "mean_absolute_error(Y_train, training_data_prediction)"
   ]
  },
  {
   "cell_type": "code",
   "execution_count": 138,
   "id": "3ac3f1ae",
   "metadata": {},
   "outputs": [
    {
     "data": {
      "text/plain": [
       "0.8838163754453923"
      ]
     },
     "execution_count": 138,
     "metadata": {},
     "output_type": "execute_result"
    }
   ],
   "source": [
    "sqrt(mean_squared_error(Y_train, training_data_prediction))"
   ]
  },
  {
   "cell_type": "code",
   "execution_count": 139,
   "id": "15210031",
   "metadata": {},
   "outputs": [
    {
     "name": "stdout",
     "output_type": "stream",
     "text": [
      "R squared error :  0.8444103586389551\n"
     ]
    }
   ],
   "source": [
    "# R squared error\n",
    "error_score = metrics.r2_score(Y_train, training_data_prediction)\n",
    "print(\"R squared error : \", error_score)"
   ]
  },
  {
   "cell_type": "code",
   "execution_count": 140,
   "id": "371c67b0",
   "metadata": {},
   "outputs": [
    {
     "name": "stdout",
     "output_type": "stream",
     "text": [
      "SMAPE score: 23.586473720008968\n"
     ]
    }
   ],
   "source": [
    "smape_score = smape(Y_train, training_data_prediction)\n",
    "print(\"SMAPE score:\", smape_score)"
   ]
  },
  {
   "cell_type": "code",
   "execution_count": 141,
   "id": "25b4e49e",
   "metadata": {},
   "outputs": [
    {
     "data": {
      "text/plain": [
       "1.096944664296133"
      ]
     },
     "execution_count": 141,
     "metadata": {},
     "output_type": "execute_result"
    }
   ],
   "source": [
    "#Test Scores\n",
    "mean_absolute_error(Y_test, pred)"
   ]
  },
  {
   "cell_type": "code",
   "execution_count": 142,
   "id": "01211516",
   "metadata": {},
   "outputs": [],
   "source": [
    "rms = sqrt(mean_squared_error(Y_test, pred))"
   ]
  },
  {
   "cell_type": "code",
   "execution_count": 143,
   "id": "988c1269",
   "metadata": {},
   "outputs": [
    {
     "name": "stdout",
     "output_type": "stream",
     "text": [
      "1.450219194472271\n"
     ]
    }
   ],
   "source": [
    "print(rms)"
   ]
  },
  {
   "cell_type": "code",
   "execution_count": 144,
   "id": "2523bc8b",
   "metadata": {},
   "outputs": [
    {
     "name": "stdout",
     "output_type": "stream",
     "text": [
      "R squared error :  0.5774856257305533\n"
     ]
    }
   ],
   "source": [
    "# R squared error\n",
    "error_score = metrics.r2_score(Y_test, pred)\n",
    "print(\"R squared error : \", error_score)"
   ]
  },
  {
   "cell_type": "code",
   "execution_count": 145,
   "id": "492ba673",
   "metadata": {},
   "outputs": [
    {
     "name": "stdout",
     "output_type": "stream",
     "text": [
      "SMAPE score: 35.71705443316775\n"
     ]
    }
   ],
   "source": [
    "smape_score = smape(Y_test, pred)\n",
    "print(\"SMAPE score:\", smape_score)"
   ]
  },
  {
   "cell_type": "code",
   "execution_count": 147,
   "id": "ed1ab51e",
   "metadata": {},
   "outputs": [
    {
     "data": {
      "text/html": [
       "<style>#sk-container-id-8 {color: black;background-color: white;}#sk-container-id-8 pre{padding: 0;}#sk-container-id-8 div.sk-toggleable {background-color: white;}#sk-container-id-8 label.sk-toggleable__label {cursor: pointer;display: block;width: 100%;margin-bottom: 0;padding: 0.3em;box-sizing: border-box;text-align: center;}#sk-container-id-8 label.sk-toggleable__label-arrow:before {content: \"▸\";float: left;margin-right: 0.25em;color: #696969;}#sk-container-id-8 label.sk-toggleable__label-arrow:hover:before {color: black;}#sk-container-id-8 div.sk-estimator:hover label.sk-toggleable__label-arrow:before {color: black;}#sk-container-id-8 div.sk-toggleable__content {max-height: 0;max-width: 0;overflow: hidden;text-align: left;background-color: #f0f8ff;}#sk-container-id-8 div.sk-toggleable__content pre {margin: 0.2em;color: black;border-radius: 0.25em;background-color: #f0f8ff;}#sk-container-id-8 input.sk-toggleable__control:checked~div.sk-toggleable__content {max-height: 200px;max-width: 100%;overflow: auto;}#sk-container-id-8 input.sk-toggleable__control:checked~label.sk-toggleable__label-arrow:before {content: \"▾\";}#sk-container-id-8 div.sk-estimator input.sk-toggleable__control:checked~label.sk-toggleable__label {background-color: #d4ebff;}#sk-container-id-8 div.sk-label input.sk-toggleable__control:checked~label.sk-toggleable__label {background-color: #d4ebff;}#sk-container-id-8 input.sk-hidden--visually {border: 0;clip: rect(1px 1px 1px 1px);clip: rect(1px, 1px, 1px, 1px);height: 1px;margin: -1px;overflow: hidden;padding: 0;position: absolute;width: 1px;}#sk-container-id-8 div.sk-estimator {font-family: monospace;background-color: #f0f8ff;border: 1px dotted black;border-radius: 0.25em;box-sizing: border-box;margin-bottom: 0.5em;}#sk-container-id-8 div.sk-estimator:hover {background-color: #d4ebff;}#sk-container-id-8 div.sk-parallel-item::after {content: \"\";width: 100%;border-bottom: 1px solid gray;flex-grow: 1;}#sk-container-id-8 div.sk-label:hover label.sk-toggleable__label {background-color: #d4ebff;}#sk-container-id-8 div.sk-serial::before {content: \"\";position: absolute;border-left: 1px solid gray;box-sizing: border-box;top: 0;bottom: 0;left: 50%;z-index: 0;}#sk-container-id-8 div.sk-serial {display: flex;flex-direction: column;align-items: center;background-color: white;padding-right: 0.2em;padding-left: 0.2em;position: relative;}#sk-container-id-8 div.sk-item {position: relative;z-index: 1;}#sk-container-id-8 div.sk-parallel {display: flex;align-items: stretch;justify-content: center;background-color: white;position: relative;}#sk-container-id-8 div.sk-item::before, #sk-container-id-8 div.sk-parallel-item::before {content: \"\";position: absolute;border-left: 1px solid gray;box-sizing: border-box;top: 0;bottom: 0;left: 50%;z-index: -1;}#sk-container-id-8 div.sk-parallel-item {display: flex;flex-direction: column;z-index: 1;position: relative;background-color: white;}#sk-container-id-8 div.sk-parallel-item:first-child::after {align-self: flex-end;width: 50%;}#sk-container-id-8 div.sk-parallel-item:last-child::after {align-self: flex-start;width: 50%;}#sk-container-id-8 div.sk-parallel-item:only-child::after {width: 0;}#sk-container-id-8 div.sk-dashed-wrapped {border: 1px dashed gray;margin: 0 0.4em 0.5em 0.4em;box-sizing: border-box;padding-bottom: 0.4em;background-color: white;}#sk-container-id-8 div.sk-label label {font-family: monospace;font-weight: bold;display: inline-block;line-height: 1.2em;}#sk-container-id-8 div.sk-label-container {text-align: center;}#sk-container-id-8 div.sk-container {/* jupyter's `normalize.less` sets `[hidden] { display: none; }` but bootstrap.min.css set `[hidden] { display: none !important; }` so we also need the `!important` here to be able to override the default hidden behavior on the sphinx rendered scikit-learn.org. See: https://github.com/scikit-learn/scikit-learn/issues/21755 */display: inline-block !important;position: relative;}#sk-container-id-8 div.sk-text-repr-fallback {display: none;}</style><div id=\"sk-container-id-8\" class=\"sk-top-container\"><div class=\"sk-text-repr-fallback\"><pre>StackingRegressor(estimators=[(&#x27;rf&#x27;, RandomForestRegressor()),\n",
       "                              (&#x27;xb&#x27;,\n",
       "                               XGBRegressor(alpha=0.5, base_score=None,\n",
       "                                            booster=None, callbacks=None,\n",
       "                                            colsample_bylevel=None,\n",
       "                                            colsample_bynode=None,\n",
       "                                            colsample_bytree=None,\n",
       "                                            early_stopping_rounds=None,\n",
       "                                            enable_categorical=False,\n",
       "                                            eval_metric=None,\n",
       "                                            feature_types=None, gamma=None,\n",
       "                                            gpu_id=None, grow_policy=None,\n",
       "                                            importance_type=None,\n",
       "                                            interaction_constraints=None,\n",
       "                                            learning_rate=None, max_bin=None,\n",
       "                                            max_cat_threshold=None,\n",
       "                                            max_cat_to_onehot=None,\n",
       "                                            max_delta_step=None, max_depth=None,\n",
       "                                            max_leaves=None,\n",
       "                                            min_child_weight=None, missing=nan,\n",
       "                                            monotone_constraints=None,\n",
       "                                            n_estimators=100, n_jobs=None,\n",
       "                                            num_parallel_tree=None,\n",
       "                                            predictor=None, ...)),\n",
       "                              (&#x27;svm&#x27;, SVR(C=10, gamma=0.1))])</pre><b>In a Jupyter environment, please rerun this cell to show the HTML representation or trust the notebook. <br />On GitHub, the HTML representation is unable to render, please try loading this page with nbviewer.org.</b></div><div class=\"sk-container\" hidden><div class=\"sk-item sk-dashed-wrapped\"><div class=\"sk-label-container\"><div class=\"sk-label sk-toggleable\"><input class=\"sk-toggleable__control sk-hidden--visually\" id=\"sk-estimator-id-15\" type=\"checkbox\" ><label for=\"sk-estimator-id-15\" class=\"sk-toggleable__label sk-toggleable__label-arrow\">StackingRegressor</label><div class=\"sk-toggleable__content\"><pre>StackingRegressor(estimators=[(&#x27;rf&#x27;, RandomForestRegressor()),\n",
       "                              (&#x27;xb&#x27;,\n",
       "                               XGBRegressor(alpha=0.5, base_score=None,\n",
       "                                            booster=None, callbacks=None,\n",
       "                                            colsample_bylevel=None,\n",
       "                                            colsample_bynode=None,\n",
       "                                            colsample_bytree=None,\n",
       "                                            early_stopping_rounds=None,\n",
       "                                            enable_categorical=False,\n",
       "                                            eval_metric=None,\n",
       "                                            feature_types=None, gamma=None,\n",
       "                                            gpu_id=None, grow_policy=None,\n",
       "                                            importance_type=None,\n",
       "                                            interaction_constraints=None,\n",
       "                                            learning_rate=None, max_bin=None,\n",
       "                                            max_cat_threshold=None,\n",
       "                                            max_cat_to_onehot=None,\n",
       "                                            max_delta_step=None, max_depth=None,\n",
       "                                            max_leaves=None,\n",
       "                                            min_child_weight=None, missing=nan,\n",
       "                                            monotone_constraints=None,\n",
       "                                            n_estimators=100, n_jobs=None,\n",
       "                                            num_parallel_tree=None,\n",
       "                                            predictor=None, ...)),\n",
       "                              (&#x27;svm&#x27;, SVR(C=10, gamma=0.1))])</pre></div></div></div><div class=\"sk-serial\"><div class=\"sk-item\"><div class=\"sk-parallel\"><div class=\"sk-parallel-item\"><div class=\"sk-item\"><div class=\"sk-label-container\"><div class=\"sk-label sk-toggleable\"><label>rf</label></div></div><div class=\"sk-serial\"><div class=\"sk-item\"><div class=\"sk-estimator sk-toggleable\"><input class=\"sk-toggleable__control sk-hidden--visually\" id=\"sk-estimator-id-16\" type=\"checkbox\" ><label for=\"sk-estimator-id-16\" class=\"sk-toggleable__label sk-toggleable__label-arrow\">RandomForestRegressor</label><div class=\"sk-toggleable__content\"><pre>RandomForestRegressor()</pre></div></div></div></div></div></div><div class=\"sk-parallel-item\"><div class=\"sk-item\"><div class=\"sk-label-container\"><div class=\"sk-label sk-toggleable\"><label>xb</label></div></div><div class=\"sk-serial\"><div class=\"sk-item\"><div class=\"sk-estimator sk-toggleable\"><input class=\"sk-toggleable__control sk-hidden--visually\" id=\"sk-estimator-id-17\" type=\"checkbox\" ><label for=\"sk-estimator-id-17\" class=\"sk-toggleable__label sk-toggleable__label-arrow\">XGBRegressor</label><div class=\"sk-toggleable__content\"><pre>XGBRegressor(alpha=0.5, base_score=None, booster=None, callbacks=None,\n",
       "             colsample_bylevel=None, colsample_bynode=None,\n",
       "             colsample_bytree=None, early_stopping_rounds=None,\n",
       "             enable_categorical=False, eval_metric=None, feature_types=None,\n",
       "             gamma=None, gpu_id=None, grow_policy=None, importance_type=None,\n",
       "             interaction_constraints=None, learning_rate=None, max_bin=None,\n",
       "             max_cat_threshold=None, max_cat_to_onehot=None,\n",
       "             max_delta_step=None, max_depth=None, max_leaves=None,\n",
       "             min_child_weight=None, missing=nan, monotone_constraints=None,\n",
       "             n_estimators=100, n_jobs=None, num_parallel_tree=None,\n",
       "             predictor=None, ...)</pre></div></div></div></div></div></div><div class=\"sk-parallel-item\"><div class=\"sk-item\"><div class=\"sk-label-container\"><div class=\"sk-label sk-toggleable\"><label>svm</label></div></div><div class=\"sk-serial\"><div class=\"sk-item\"><div class=\"sk-estimator sk-toggleable\"><input class=\"sk-toggleable__control sk-hidden--visually\" id=\"sk-estimator-id-18\" type=\"checkbox\" ><label for=\"sk-estimator-id-18\" class=\"sk-toggleable__label sk-toggleable__label-arrow\">SVR</label><div class=\"sk-toggleable__content\"><pre>SVR(C=10, gamma=0.1)</pre></div></div></div></div></div></div></div></div><div class=\"sk-item\"><div class=\"sk-parallel\"><div class=\"sk-parallel-item\"><div class=\"sk-item\"><div class=\"sk-label-container\"><div class=\"sk-label sk-toggleable\"><label>final_estimator</label></div></div><div class=\"sk-serial\"><div class=\"sk-item\"><div class=\"sk-estimator sk-toggleable\"><input class=\"sk-toggleable__control sk-hidden--visually\" id=\"sk-estimator-id-19\" type=\"checkbox\" ><label for=\"sk-estimator-id-19\" class=\"sk-toggleable__label sk-toggleable__label-arrow\">RidgeCV</label><div class=\"sk-toggleable__content\"><pre>RidgeCV()</pre></div></div></div></div></div></div></div></div></div></div></div></div>"
      ],
      "text/plain": [
       "StackingRegressor(estimators=[('rf', RandomForestRegressor()),\n",
       "                              ('xb',\n",
       "                               XGBRegressor(alpha=0.5, base_score=None,\n",
       "                                            booster=None, callbacks=None,\n",
       "                                            colsample_bylevel=None,\n",
       "                                            colsample_bynode=None,\n",
       "                                            colsample_bytree=None,\n",
       "                                            early_stopping_rounds=None,\n",
       "                                            enable_categorical=False,\n",
       "                                            eval_metric=None,\n",
       "                                            feature_types=None, gamma=None,\n",
       "                                            gpu_id=None, grow_policy=None,\n",
       "                                            importance_type=None,\n",
       "                                            interaction_constraints=None,\n",
       "                                            learning_rate=None, max_bin=None,\n",
       "                                            max_cat_threshold=None,\n",
       "                                            max_cat_to_onehot=None,\n",
       "                                            max_delta_step=None, max_depth=None,\n",
       "                                            max_leaves=None,\n",
       "                                            min_child_weight=None, missing=nan,\n",
       "                                            monotone_constraints=None,\n",
       "                                            n_estimators=100, n_jobs=None,\n",
       "                                            num_parallel_tree=None,\n",
       "                                            predictor=None, ...)),\n",
       "                              ('svm', SVR(C=10, gamma=0.1))])"
      ]
     },
     "execution_count": 147,
     "metadata": {},
     "output_type": "execute_result"
    }
   ],
   "source": [
    "stack_regressor = StackingRegressor(estimators=[('rf', regressor),('xb',xb_model),('svm',svr)])\n",
    "stack_regressor.fit(X_train, Y_train)"
   ]
  },
  {
   "cell_type": "code",
   "execution_count": 148,
   "id": "2e899018",
   "metadata": {},
   "outputs": [],
   "source": [
    "predict_ed = stack_regressor.predict(X_test)"
   ]
  },
  {
   "cell_type": "code",
   "execution_count": 149,
   "id": "8d9f5ad1",
   "metadata": {},
   "outputs": [
    {
     "name": "stdout",
     "output_type": "stream",
     "text": [
      "[3.16127967 2.33311192 2.76898486 2.79817028 1.97568433 3.12598692\n",
      " 2.89123095 3.06703794 3.01159768 2.07365698 3.27608664 3.18420023\n",
      " 2.06803028 2.07052471 2.70777421 2.99186308 2.26380306 3.39520879\n",
      " 3.58027779 3.10165225 3.78807555 5.46989974 2.20705458 4.00147026\n",
      " 4.41638059 3.83633127 3.19939007 3.25488224 3.3115763  2.89263719\n",
      " 3.02758461 3.22249579 2.64274736 3.01864357 2.46511126 2.40563173\n",
      " 3.02349094 1.944343   3.20863804 6.39879999 3.60971818 3.02067053\n",
      " 2.7914155  8.0092666  3.38427444 5.09324228 2.77366334 3.19578577\n",
      " 7.20395464 3.01590687 2.72565649 3.98339997 2.93429766 2.48900104\n",
      " 1.87220652 3.82840181 2.77636802 3.44619466 2.69958048 2.89690088\n",
      " 3.12598153 2.10231995 3.16315613 2.80261694 3.02027005 6.32828089\n",
      " 2.89866326 3.24140677 2.61738346 7.05763653 1.53879467 3.80222366\n",
      " 6.56653705 5.97823506 3.61438137 2.25410584 7.23390095 7.21252587\n",
      " 2.32362434 8.5264392  3.21651362 2.99806587 3.03846032 3.12335921\n",
      " 2.86621521 5.21804097 4.79439389 3.40064954 5.63056818 1.60570482\n",
      " 2.55139592 2.48864728 2.98462662 2.95528457 4.03732502 7.6182337\n",
      " 6.13165091 2.05974425 6.91216698 6.3066639  3.51045434 3.05410026\n",
      " 3.02460759 1.97649122 6.96186286 2.35444499 2.09577006 2.92768323\n",
      " 2.70609419 3.31993109 2.76463687 3.08362216 7.4093599  3.38955797\n",
      " 2.02837991 1.93604157 3.56449406 3.11068769 3.29013686 1.92967016\n",
      " 6.35782868 3.45309599 2.57248168 2.8253503  3.29499247 2.91306969\n",
      " 2.8339486  2.35804613 4.90344869 2.9426331  3.26808781 2.67820423\n",
      " 3.16025872 4.06249262 3.17974139 2.48014458 2.0787838  3.02614991\n",
      " 2.93938348 2.7742639  2.28317698 3.40911992 3.47978608 4.34923865\n",
      " 4.0694815  3.68151211 2.6373796  2.48400105 3.26686164 3.74792765\n",
      " 5.64313801 4.89812744 2.92865953 1.84006588 2.99396699 3.11296762\n",
      " 3.03971206 3.21443246 3.06595666 2.84464509 6.12970028 3.59957428\n",
      " 3.49827791 3.42932187 2.17725445 2.51218974 4.57944219 2.84483244\n",
      " 3.04583539 3.05160641 7.70335483 5.17786541 3.29606392 2.84877256\n",
      " 3.31877553 3.0306894  3.22745338 7.8265696  4.2712136  2.62540569\n",
      " 2.42786272 2.82677824 3.11693826 3.27610016 2.96395159 6.26439821\n",
      " 3.60908922 2.06305532 2.44100217 3.35211481 7.68777711 2.7769473\n",
      " 2.54880279 8.7450684  6.46805987 2.85968482 3.39435086 2.83099227\n",
      " 3.18993609 7.64161747 8.1925534  3.36675943 2.69023474 2.94407035\n",
      " 2.89402599 3.01643472 6.98034845 3.40466532 3.0795999  3.44893441\n",
      " 3.10835729 3.14311961 2.51196725 3.78785493 1.89118983 3.12402018\n",
      " 3.16275945 3.37854866 3.33248246 2.87421467 6.73250821 2.6023377\n",
      " 3.17490112 3.75864839 6.84442098 2.64533992 2.37861428 2.70016383\n",
      " 2.92153453 2.99660603 1.6368226  3.38529337 2.33728799 3.48208615\n",
      " 2.78116426 3.03070883 3.3815678  2.81823897]\n"
     ]
    }
   ],
   "source": [
    "print(predict_ed)"
   ]
  },
  {
   "cell_type": "code",
   "execution_count": 150,
   "id": "7792c1b7",
   "metadata": {},
   "outputs": [],
   "source": [
    "#Train Scores\n",
    "training_data_prediction = stack_regressor.predict(X_train)"
   ]
  },
  {
   "cell_type": "code",
   "execution_count": 151,
   "id": "2998ca1e",
   "metadata": {},
   "outputs": [
    {
     "data": {
      "text/plain": [
       "0.6135838304764153"
      ]
     },
     "execution_count": 151,
     "metadata": {},
     "output_type": "execute_result"
    }
   ],
   "source": [
    "mean_absolute_error(Y_train, training_data_prediction)"
   ]
  },
  {
   "cell_type": "code",
   "execution_count": 152,
   "id": "281e6203",
   "metadata": {},
   "outputs": [
    {
     "data": {
      "text/plain": [
       "0.910063367932056"
      ]
     },
     "execution_count": 152,
     "metadata": {},
     "output_type": "execute_result"
    }
   ],
   "source": [
    "sqrt(mean_squared_error(Y_train, training_data_prediction))"
   ]
  },
  {
   "cell_type": "code",
   "execution_count": 153,
   "id": "f818d58c",
   "metadata": {},
   "outputs": [
    {
     "name": "stdout",
     "output_type": "stream",
     "text": [
      "R squared error :  0.8350319432508432\n"
     ]
    }
   ],
   "source": [
    "# R squared error\n",
    "error_score = metrics.r2_score(Y_train, training_data_prediction)\n",
    "print(\"R squared error : \", error_score)"
   ]
  },
  {
   "cell_type": "code",
   "execution_count": 154,
   "id": "1e261821",
   "metadata": {},
   "outputs": [
    {
     "name": "stdout",
     "output_type": "stream",
     "text": [
      "SMAPE score: 23.880754057144543\n"
     ]
    }
   ],
   "source": [
    "smape_score = smape(Y_train, training_data_prediction)\n",
    "print(\"SMAPE score:\", smape_score)"
   ]
  },
  {
   "cell_type": "code",
   "execution_count": 155,
   "id": "ac8f9f76",
   "metadata": {},
   "outputs": [
    {
     "data": {
      "text/plain": [
       "1.078687234088084"
      ]
     },
     "execution_count": 155,
     "metadata": {},
     "output_type": "execute_result"
    }
   ],
   "source": [
    "#Test Scores\n",
    "mean_absolute_error(Y_test, predict_ed)"
   ]
  },
  {
   "cell_type": "code",
   "execution_count": 156,
   "id": "749d8824",
   "metadata": {},
   "outputs": [
    {
     "data": {
      "text/plain": [
       "1.426219305729136"
      ]
     },
     "execution_count": 156,
     "metadata": {},
     "output_type": "execute_result"
    }
   ],
   "source": [
    "sqrt(mean_squared_error(Y_test, predict_ed))"
   ]
  },
  {
   "cell_type": "code",
   "execution_count": 157,
   "id": "da225c64",
   "metadata": {},
   "outputs": [
    {
     "name": "stdout",
     "output_type": "stream",
     "text": [
      "R squared error :  0.5913544138128941\n"
     ]
    }
   ],
   "source": [
    "# R squared error\n",
    "error_score = metrics.r2_score(Y_test, predict_ed)\n",
    "print(\"R squared error : \", error_score)"
   ]
  },
  {
   "cell_type": "code",
   "execution_count": 158,
   "id": "8a80af4e",
   "metadata": {},
   "outputs": [
    {
     "name": "stdout",
     "output_type": "stream",
     "text": [
      "SMAPE score: 35.45375351250801\n"
     ]
    }
   ],
   "source": [
    "smape_score = smape(Y_test, predict_ed)\n",
    "print(\"SMAPE score:\", smape_score)"
   ]
  },
  {
   "cell_type": "code",
   "execution_count": 159,
   "id": "7b011d3f",
   "metadata": {},
   "outputs": [
    {
     "data": {
      "text/html": [
       "<style>#sk-container-id-9 {color: black;background-color: white;}#sk-container-id-9 pre{padding: 0;}#sk-container-id-9 div.sk-toggleable {background-color: white;}#sk-container-id-9 label.sk-toggleable__label {cursor: pointer;display: block;width: 100%;margin-bottom: 0;padding: 0.3em;box-sizing: border-box;text-align: center;}#sk-container-id-9 label.sk-toggleable__label-arrow:before {content: \"▸\";float: left;margin-right: 0.25em;color: #696969;}#sk-container-id-9 label.sk-toggleable__label-arrow:hover:before {color: black;}#sk-container-id-9 div.sk-estimator:hover label.sk-toggleable__label-arrow:before {color: black;}#sk-container-id-9 div.sk-toggleable__content {max-height: 0;max-width: 0;overflow: hidden;text-align: left;background-color: #f0f8ff;}#sk-container-id-9 div.sk-toggleable__content pre {margin: 0.2em;color: black;border-radius: 0.25em;background-color: #f0f8ff;}#sk-container-id-9 input.sk-toggleable__control:checked~div.sk-toggleable__content {max-height: 200px;max-width: 100%;overflow: auto;}#sk-container-id-9 input.sk-toggleable__control:checked~label.sk-toggleable__label-arrow:before {content: \"▾\";}#sk-container-id-9 div.sk-estimator input.sk-toggleable__control:checked~label.sk-toggleable__label {background-color: #d4ebff;}#sk-container-id-9 div.sk-label input.sk-toggleable__control:checked~label.sk-toggleable__label {background-color: #d4ebff;}#sk-container-id-9 input.sk-hidden--visually {border: 0;clip: rect(1px 1px 1px 1px);clip: rect(1px, 1px, 1px, 1px);height: 1px;margin: -1px;overflow: hidden;padding: 0;position: absolute;width: 1px;}#sk-container-id-9 div.sk-estimator {font-family: monospace;background-color: #f0f8ff;border: 1px dotted black;border-radius: 0.25em;box-sizing: border-box;margin-bottom: 0.5em;}#sk-container-id-9 div.sk-estimator:hover {background-color: #d4ebff;}#sk-container-id-9 div.sk-parallel-item::after {content: \"\";width: 100%;border-bottom: 1px solid gray;flex-grow: 1;}#sk-container-id-9 div.sk-label:hover label.sk-toggleable__label {background-color: #d4ebff;}#sk-container-id-9 div.sk-serial::before {content: \"\";position: absolute;border-left: 1px solid gray;box-sizing: border-box;top: 0;bottom: 0;left: 50%;z-index: 0;}#sk-container-id-9 div.sk-serial {display: flex;flex-direction: column;align-items: center;background-color: white;padding-right: 0.2em;padding-left: 0.2em;position: relative;}#sk-container-id-9 div.sk-item {position: relative;z-index: 1;}#sk-container-id-9 div.sk-parallel {display: flex;align-items: stretch;justify-content: center;background-color: white;position: relative;}#sk-container-id-9 div.sk-item::before, #sk-container-id-9 div.sk-parallel-item::before {content: \"\";position: absolute;border-left: 1px solid gray;box-sizing: border-box;top: 0;bottom: 0;left: 50%;z-index: -1;}#sk-container-id-9 div.sk-parallel-item {display: flex;flex-direction: column;z-index: 1;position: relative;background-color: white;}#sk-container-id-9 div.sk-parallel-item:first-child::after {align-self: flex-end;width: 50%;}#sk-container-id-9 div.sk-parallel-item:last-child::after {align-self: flex-start;width: 50%;}#sk-container-id-9 div.sk-parallel-item:only-child::after {width: 0;}#sk-container-id-9 div.sk-dashed-wrapped {border: 1px dashed gray;margin: 0 0.4em 0.5em 0.4em;box-sizing: border-box;padding-bottom: 0.4em;background-color: white;}#sk-container-id-9 div.sk-label label {font-family: monospace;font-weight: bold;display: inline-block;line-height: 1.2em;}#sk-container-id-9 div.sk-label-container {text-align: center;}#sk-container-id-9 div.sk-container {/* jupyter's `normalize.less` sets `[hidden] { display: none; }` but bootstrap.min.css set `[hidden] { display: none !important; }` so we also need the `!important` here to be able to override the default hidden behavior on the sphinx rendered scikit-learn.org. See: https://github.com/scikit-learn/scikit-learn/issues/21755 */display: inline-block !important;position: relative;}#sk-container-id-9 div.sk-text-repr-fallback {display: none;}</style><div id=\"sk-container-id-9\" class=\"sk-top-container\"><div class=\"sk-text-repr-fallback\"><pre>VotingRegressor(estimators=[(&#x27;rf&#x27;, RandomForestRegressor()),\n",
       "                            (&#x27;svm&#x27;, SVR(C=10, gamma=0.1))])</pre><b>In a Jupyter environment, please rerun this cell to show the HTML representation or trust the notebook. <br />On GitHub, the HTML representation is unable to render, please try loading this page with nbviewer.org.</b></div><div class=\"sk-container\" hidden><div class=\"sk-item sk-dashed-wrapped\"><div class=\"sk-label-container\"><div class=\"sk-label sk-toggleable\"><input class=\"sk-toggleable__control sk-hidden--visually\" id=\"sk-estimator-id-20\" type=\"checkbox\" ><label for=\"sk-estimator-id-20\" class=\"sk-toggleable__label sk-toggleable__label-arrow\">VotingRegressor</label><div class=\"sk-toggleable__content\"><pre>VotingRegressor(estimators=[(&#x27;rf&#x27;, RandomForestRegressor()),\n",
       "                            (&#x27;svm&#x27;, SVR(C=10, gamma=0.1))])</pre></div></div></div><div class=\"sk-parallel\"><div class=\"sk-parallel-item\"><div class=\"sk-item\"><div class=\"sk-label-container\"><div class=\"sk-label sk-toggleable\"><label>rf</label></div></div><div class=\"sk-serial\"><div class=\"sk-item\"><div class=\"sk-estimator sk-toggleable\"><input class=\"sk-toggleable__control sk-hidden--visually\" id=\"sk-estimator-id-21\" type=\"checkbox\" ><label for=\"sk-estimator-id-21\" class=\"sk-toggleable__label sk-toggleable__label-arrow\">RandomForestRegressor</label><div class=\"sk-toggleable__content\"><pre>RandomForestRegressor()</pre></div></div></div></div></div></div><div class=\"sk-parallel-item\"><div class=\"sk-item\"><div class=\"sk-label-container\"><div class=\"sk-label sk-toggleable\"><label>svm</label></div></div><div class=\"sk-serial\"><div class=\"sk-item\"><div class=\"sk-estimator sk-toggleable\"><input class=\"sk-toggleable__control sk-hidden--visually\" id=\"sk-estimator-id-22\" type=\"checkbox\" ><label for=\"sk-estimator-id-22\" class=\"sk-toggleable__label sk-toggleable__label-arrow\">SVR</label><div class=\"sk-toggleable__content\"><pre>SVR(C=10, gamma=0.1)</pre></div></div></div></div></div></div></div></div></div></div>"
      ],
      "text/plain": [
       "VotingRegressor(estimators=[('rf', RandomForestRegressor()),\n",
       "                            ('svm', SVR(C=10, gamma=0.1))])"
      ]
     },
     "execution_count": 159,
     "metadata": {},
     "output_type": "execute_result"
    }
   ],
   "source": [
    "vote_regressor = VotingRegressor(estimators=[('rf', regressor),('svm',svr)])\n",
    "vote_regressor.fit(X_train, Y_train)"
   ]
  },
  {
   "cell_type": "code",
   "execution_count": 160,
   "id": "9a50de43",
   "metadata": {},
   "outputs": [],
   "source": [
    "predict = vote_regressor.predict(X_test)"
   ]
  },
  {
   "cell_type": "code",
   "execution_count": 161,
   "id": "02aa1cb2",
   "metadata": {
    "scrolled": true
   },
   "outputs": [
    {
     "name": "stdout",
     "output_type": "stream",
     "text": [
      "[2.79877479 2.20079339 2.94353759 2.55460619 1.72727382 3.36100079\n",
      " 2.65236482 2.74045915 2.79185637 1.91119392 3.26234979 3.36235805\n",
      " 1.96533839 1.90547044 2.51430415 2.82211808 2.22605328 3.18799417\n",
      " 2.77661256 2.95756707 3.84298727 6.26564484 2.24015974 4.18475515\n",
      " 4.10684316 3.51417668 3.36665067 3.25106772 3.37122997 2.67210978\n",
      " 2.87995073 2.96234532 2.91089288 3.08442241 2.38392221 2.51306755\n",
      " 3.18195198 1.65738359 3.24061695 7.40689983 3.5961121  2.72816425\n",
      " 3.09659286 8.71628568 3.36828158 5.83885042 2.54117657 3.41437443\n",
      " 7.77511012 3.11948398 2.87465223 3.23810462 2.96788841 2.26228992\n",
      " 1.54677799 3.68295496 2.60674862 3.54630751 2.53227138 2.78533285\n",
      " 3.08841673 2.16236289 2.88943921 2.45252912 2.67019239 6.70034216\n",
      " 2.79343816 3.2440447  2.79183529 8.08329736 1.03379174 3.53534877\n",
      " 6.83911959 7.02857321 3.46409678 2.09380834 7.70174334 7.90146091\n",
      " 2.5268769  8.96402737 3.22648302 2.86702079 3.0200005  3.09025499\n",
      " 2.75574366 5.56542083 5.090225   3.04856719 6.3325203  1.2973387\n",
      " 2.06040164 2.20436101 2.77853176 2.80074558 3.95392778 8.25323889\n",
      " 6.51488784 2.35405297 7.70168248 7.4947712  3.59157762 2.90389716\n",
      " 2.74937835 1.86120456 7.49424137 1.66286996 1.81151746 3.06222922\n",
      " 2.58933705 3.28297609 2.37046035 2.92118254 8.05639976 3.44244354\n",
      " 2.09551432 1.66015169 3.62336826 2.9723269  3.09637916 2.13232207\n",
      " 7.37951047 3.30685216 2.59841    2.86956394 3.24437907 2.8897487\n",
      " 2.98272655 2.37102083 4.97868481 2.95639558 3.15358677 2.48379041\n",
      " 3.05579709 3.85315439 3.18233704 2.2511714  1.97621945 3.41299736\n",
      " 2.987202   2.34287913 1.45923825 3.47527197 2.87431124 4.57678564\n",
      " 3.89592526 3.90406236 2.34799779 2.39971089 3.34693909 3.59309199\n",
      " 5.81895553 5.28564545 2.83170245 2.23620147 3.02180901 3.09538459\n",
      " 2.91561444 3.23295272 2.88131254 2.65936623 6.61911471 3.56621411\n",
      " 3.44679412 3.42488466 1.86736509 2.33817179 5.12384693 2.81686358\n",
      " 2.98645669 2.98966238 8.04022532 5.7073015  3.01002073 2.61760637\n",
      " 3.15244945 3.32578372 3.19499225 8.49504134 4.1451918  2.30355554\n",
      " 2.3965422  2.72481717 3.12562089 3.09881908 2.93959902 6.75084591\n",
      " 3.42460507 1.82075929 2.26656035 3.12691949 8.10789142 2.89209388\n",
      " 2.53639597 8.81260681 6.76742007 2.72693771 2.95015768 2.78403648\n",
      " 3.07090341 8.01874736 9.01661789 3.34382184 2.79005148 2.8150658\n",
      " 2.76657691 3.10944406 7.26007858 3.59431051 3.1279625  3.67618238\n",
      " 2.88447249 2.6180301  2.58097537 3.72733319 2.10787924 3.25704205\n",
      " 3.06342842 3.0812133  3.20690509 2.82651762 6.92583147 2.5140027\n",
      " 3.16942221 3.76743811 7.00821637 2.52677341 2.21156269 2.73954031\n",
      " 2.75107444 2.85594573 1.4770123  3.24302561 2.38954993 3.6435821\n",
      " 2.48559128 3.05807219 3.47083055 2.90551891]\n"
     ]
    }
   ],
   "source": [
    "print(predict)"
   ]
  },
  {
   "cell_type": "code",
   "execution_count": 162,
   "id": "d395efea",
   "metadata": {},
   "outputs": [],
   "source": [
    "#Train Scores\n",
    "training_data_prediction = vote_regressor.predict(X_train)"
   ]
  },
  {
   "cell_type": "code",
   "execution_count": 163,
   "id": "b9ae3eb6",
   "metadata": {},
   "outputs": [
    {
     "data": {
      "text/plain": [
       "0.6462089339902907"
      ]
     },
     "execution_count": 163,
     "metadata": {},
     "output_type": "execute_result"
    }
   ],
   "source": [
    "mean_absolute_error(Y_train, training_data_prediction)"
   ]
  },
  {
   "cell_type": "code",
   "execution_count": 164,
   "id": "b0b8c270",
   "metadata": {},
   "outputs": [
    {
     "data": {
      "text/plain": [
       "1.0449943466011382"
      ]
     },
     "execution_count": 164,
     "metadata": {},
     "output_type": "execute_result"
    }
   ],
   "source": [
    "sqrt(mean_squared_error(Y_train, training_data_prediction))"
   ]
  },
  {
   "cell_type": "code",
   "execution_count": 165,
   "id": "22a97b2f",
   "metadata": {},
   "outputs": [
    {
     "name": "stdout",
     "output_type": "stream",
     "text": [
      "R squared error :  0.7824873729573669\n"
     ]
    }
   ],
   "source": [
    "# R squared error\n",
    "error_score = metrics.r2_score(Y_train, training_data_prediction)\n",
    "print(\"R squared error : \", error_score)"
   ]
  },
  {
   "cell_type": "code",
   "execution_count": 166,
   "id": "26868b07",
   "metadata": {},
   "outputs": [
    {
     "name": "stdout",
     "output_type": "stream",
     "text": [
      "SMAPE score: 35.45375351250801\n"
     ]
    }
   ],
   "source": [
    "smape_score = smape(Y_test, predict_ed)\n",
    "print(\"SMAPE score:\", smape_score)"
   ]
  },
  {
   "cell_type": "code",
   "execution_count": 167,
   "id": "b2bd7cd9",
   "metadata": {},
   "outputs": [
    {
     "data": {
      "text/plain": [
       "1.0816156667536696"
      ]
     },
     "execution_count": 167,
     "metadata": {},
     "output_type": "execute_result"
    }
   ],
   "source": [
    "#Test Scores\n",
    "mean_absolute_error(Y_test, predict)"
   ]
  },
  {
   "cell_type": "code",
   "execution_count": 168,
   "id": "be6694ea",
   "metadata": {},
   "outputs": [],
   "source": [
    "rms = sqrt(mean_squared_error(Y_test, predict))"
   ]
  },
  {
   "cell_type": "code",
   "execution_count": 169,
   "id": "c4c22af0",
   "metadata": {},
   "outputs": [
    {
     "name": "stdout",
     "output_type": "stream",
     "text": [
      "1.4298843689647143\n"
     ]
    }
   ],
   "source": [
    "print(rms)"
   ]
  },
  {
   "cell_type": "code",
   "execution_count": 170,
   "id": "5b373397",
   "metadata": {},
   "outputs": [
    {
     "name": "stdout",
     "output_type": "stream",
     "text": [
      "R squared error :  0.5892514605014622\n"
     ]
    }
   ],
   "source": [
    "# R squared error\n",
    "error_score = metrics.r2_score(Y_test, predict)\n",
    "print(\"R squared error : \", error_score)"
   ]
  },
  {
   "cell_type": "code",
   "execution_count": 171,
   "id": "22b50cfa",
   "metadata": {},
   "outputs": [
    {
     "name": "stdout",
     "output_type": "stream",
     "text": [
      "SMAPE score: 35.89192669526041\n"
     ]
    }
   ],
   "source": [
    "smape_score = smape(Y_test, predict)\n",
    "print(\"SMAPE score:\", smape_score)"
   ]
  },
  {
   "cell_type": "code",
   "execution_count": 172,
   "id": "546e56ec",
   "metadata": {},
   "outputs": [
    {
     "data": {
      "text/html": [
       "<style>#sk-container-id-10 {color: black;background-color: white;}#sk-container-id-10 pre{padding: 0;}#sk-container-id-10 div.sk-toggleable {background-color: white;}#sk-container-id-10 label.sk-toggleable__label {cursor: pointer;display: block;width: 100%;margin-bottom: 0;padding: 0.3em;box-sizing: border-box;text-align: center;}#sk-container-id-10 label.sk-toggleable__label-arrow:before {content: \"▸\";float: left;margin-right: 0.25em;color: #696969;}#sk-container-id-10 label.sk-toggleable__label-arrow:hover:before {color: black;}#sk-container-id-10 div.sk-estimator:hover label.sk-toggleable__label-arrow:before {color: black;}#sk-container-id-10 div.sk-toggleable__content {max-height: 0;max-width: 0;overflow: hidden;text-align: left;background-color: #f0f8ff;}#sk-container-id-10 div.sk-toggleable__content pre {margin: 0.2em;color: black;border-radius: 0.25em;background-color: #f0f8ff;}#sk-container-id-10 input.sk-toggleable__control:checked~div.sk-toggleable__content {max-height: 200px;max-width: 100%;overflow: auto;}#sk-container-id-10 input.sk-toggleable__control:checked~label.sk-toggleable__label-arrow:before {content: \"▾\";}#sk-container-id-10 div.sk-estimator input.sk-toggleable__control:checked~label.sk-toggleable__label {background-color: #d4ebff;}#sk-container-id-10 div.sk-label input.sk-toggleable__control:checked~label.sk-toggleable__label {background-color: #d4ebff;}#sk-container-id-10 input.sk-hidden--visually {border: 0;clip: rect(1px 1px 1px 1px);clip: rect(1px, 1px, 1px, 1px);height: 1px;margin: -1px;overflow: hidden;padding: 0;position: absolute;width: 1px;}#sk-container-id-10 div.sk-estimator {font-family: monospace;background-color: #f0f8ff;border: 1px dotted black;border-radius: 0.25em;box-sizing: border-box;margin-bottom: 0.5em;}#sk-container-id-10 div.sk-estimator:hover {background-color: #d4ebff;}#sk-container-id-10 div.sk-parallel-item::after {content: \"\";width: 100%;border-bottom: 1px solid gray;flex-grow: 1;}#sk-container-id-10 div.sk-label:hover label.sk-toggleable__label {background-color: #d4ebff;}#sk-container-id-10 div.sk-serial::before {content: \"\";position: absolute;border-left: 1px solid gray;box-sizing: border-box;top: 0;bottom: 0;left: 50%;z-index: 0;}#sk-container-id-10 div.sk-serial {display: flex;flex-direction: column;align-items: center;background-color: white;padding-right: 0.2em;padding-left: 0.2em;position: relative;}#sk-container-id-10 div.sk-item {position: relative;z-index: 1;}#sk-container-id-10 div.sk-parallel {display: flex;align-items: stretch;justify-content: center;background-color: white;position: relative;}#sk-container-id-10 div.sk-item::before, #sk-container-id-10 div.sk-parallel-item::before {content: \"\";position: absolute;border-left: 1px solid gray;box-sizing: border-box;top: 0;bottom: 0;left: 50%;z-index: -1;}#sk-container-id-10 div.sk-parallel-item {display: flex;flex-direction: column;z-index: 1;position: relative;background-color: white;}#sk-container-id-10 div.sk-parallel-item:first-child::after {align-self: flex-end;width: 50%;}#sk-container-id-10 div.sk-parallel-item:last-child::after {align-self: flex-start;width: 50%;}#sk-container-id-10 div.sk-parallel-item:only-child::after {width: 0;}#sk-container-id-10 div.sk-dashed-wrapped {border: 1px dashed gray;margin: 0 0.4em 0.5em 0.4em;box-sizing: border-box;padding-bottom: 0.4em;background-color: white;}#sk-container-id-10 div.sk-label label {font-family: monospace;font-weight: bold;display: inline-block;line-height: 1.2em;}#sk-container-id-10 div.sk-label-container {text-align: center;}#sk-container-id-10 div.sk-container {/* jupyter's `normalize.less` sets `[hidden] { display: none; }` but bootstrap.min.css set `[hidden] { display: none !important; }` so we also need the `!important` here to be able to override the default hidden behavior on the sphinx rendered scikit-learn.org. See: https://github.com/scikit-learn/scikit-learn/issues/21755 */display: inline-block !important;position: relative;}#sk-container-id-10 div.sk-text-repr-fallback {display: none;}</style><div id=\"sk-container-id-10\" class=\"sk-top-container\"><div class=\"sk-text-repr-fallback\"><pre>VotingRegressor(estimators=[(&#x27;rf&#x27;, RandomForestRegressor()),\n",
       "                            (&#x27;xb&#x27;,\n",
       "                             XGBRegressor(alpha=0.5, base_score=None,\n",
       "                                          booster=None, callbacks=None,\n",
       "                                          colsample_bylevel=None,\n",
       "                                          colsample_bynode=None,\n",
       "                                          colsample_bytree=None,\n",
       "                                          early_stopping_rounds=None,\n",
       "                                          enable_categorical=False,\n",
       "                                          eval_metric=None, feature_types=None,\n",
       "                                          gamma=None, gpu_id=None,\n",
       "                                          grow_policy=None,\n",
       "                                          importance_type=None,\n",
       "                                          interaction_constraints=None,\n",
       "                                          learning_rate=None, max_bin=None,\n",
       "                                          max_cat_threshold=None,\n",
       "                                          max_cat_to_onehot=None,\n",
       "                                          max_delta_step=None, max_depth=None,\n",
       "                                          max_leaves=None,\n",
       "                                          min_child_weight=None, missing=nan,\n",
       "                                          monotone_constraints=None,\n",
       "                                          n_estimators=100, n_jobs=None,\n",
       "                                          num_parallel_tree=None,\n",
       "                                          predictor=None, ...)),\n",
       "                            (&#x27;svm&#x27;, SVR(C=10, gamma=0.1))])</pre><b>In a Jupyter environment, please rerun this cell to show the HTML representation or trust the notebook. <br />On GitHub, the HTML representation is unable to render, please try loading this page with nbviewer.org.</b></div><div class=\"sk-container\" hidden><div class=\"sk-item sk-dashed-wrapped\"><div class=\"sk-label-container\"><div class=\"sk-label sk-toggleable\"><input class=\"sk-toggleable__control sk-hidden--visually\" id=\"sk-estimator-id-23\" type=\"checkbox\" ><label for=\"sk-estimator-id-23\" class=\"sk-toggleable__label sk-toggleable__label-arrow\">VotingRegressor</label><div class=\"sk-toggleable__content\"><pre>VotingRegressor(estimators=[(&#x27;rf&#x27;, RandomForestRegressor()),\n",
       "                            (&#x27;xb&#x27;,\n",
       "                             XGBRegressor(alpha=0.5, base_score=None,\n",
       "                                          booster=None, callbacks=None,\n",
       "                                          colsample_bylevel=None,\n",
       "                                          colsample_bynode=None,\n",
       "                                          colsample_bytree=None,\n",
       "                                          early_stopping_rounds=None,\n",
       "                                          enable_categorical=False,\n",
       "                                          eval_metric=None, feature_types=None,\n",
       "                                          gamma=None, gpu_id=None,\n",
       "                                          grow_policy=None,\n",
       "                                          importance_type=None,\n",
       "                                          interaction_constraints=None,\n",
       "                                          learning_rate=None, max_bin=None,\n",
       "                                          max_cat_threshold=None,\n",
       "                                          max_cat_to_onehot=None,\n",
       "                                          max_delta_step=None, max_depth=None,\n",
       "                                          max_leaves=None,\n",
       "                                          min_child_weight=None, missing=nan,\n",
       "                                          monotone_constraints=None,\n",
       "                                          n_estimators=100, n_jobs=None,\n",
       "                                          num_parallel_tree=None,\n",
       "                                          predictor=None, ...)),\n",
       "                            (&#x27;svm&#x27;, SVR(C=10, gamma=0.1))])</pre></div></div></div><div class=\"sk-parallel\"><div class=\"sk-parallel-item\"><div class=\"sk-item\"><div class=\"sk-label-container\"><div class=\"sk-label sk-toggleable\"><label>rf</label></div></div><div class=\"sk-serial\"><div class=\"sk-item\"><div class=\"sk-estimator sk-toggleable\"><input class=\"sk-toggleable__control sk-hidden--visually\" id=\"sk-estimator-id-24\" type=\"checkbox\" ><label for=\"sk-estimator-id-24\" class=\"sk-toggleable__label sk-toggleable__label-arrow\">RandomForestRegressor</label><div class=\"sk-toggleable__content\"><pre>RandomForestRegressor()</pre></div></div></div></div></div></div><div class=\"sk-parallel-item\"><div class=\"sk-item\"><div class=\"sk-label-container\"><div class=\"sk-label sk-toggleable\"><label>xb</label></div></div><div class=\"sk-serial\"><div class=\"sk-item\"><div class=\"sk-estimator sk-toggleable\"><input class=\"sk-toggleable__control sk-hidden--visually\" id=\"sk-estimator-id-25\" type=\"checkbox\" ><label for=\"sk-estimator-id-25\" class=\"sk-toggleable__label sk-toggleable__label-arrow\">XGBRegressor</label><div class=\"sk-toggleable__content\"><pre>XGBRegressor(alpha=0.5, base_score=None, booster=None, callbacks=None,\n",
       "             colsample_bylevel=None, colsample_bynode=None,\n",
       "             colsample_bytree=None, early_stopping_rounds=None,\n",
       "             enable_categorical=False, eval_metric=None, feature_types=None,\n",
       "             gamma=None, gpu_id=None, grow_policy=None, importance_type=None,\n",
       "             interaction_constraints=None, learning_rate=None, max_bin=None,\n",
       "             max_cat_threshold=None, max_cat_to_onehot=None,\n",
       "             max_delta_step=None, max_depth=None, max_leaves=None,\n",
       "             min_child_weight=None, missing=nan, monotone_constraints=None,\n",
       "             n_estimators=100, n_jobs=None, num_parallel_tree=None,\n",
       "             predictor=None, ...)</pre></div></div></div></div></div></div><div class=\"sk-parallel-item\"><div class=\"sk-item\"><div class=\"sk-label-container\"><div class=\"sk-label sk-toggleable\"><label>svm</label></div></div><div class=\"sk-serial\"><div class=\"sk-item\"><div class=\"sk-estimator sk-toggleable\"><input class=\"sk-toggleable__control sk-hidden--visually\" id=\"sk-estimator-id-26\" type=\"checkbox\" ><label for=\"sk-estimator-id-26\" class=\"sk-toggleable__label sk-toggleable__label-arrow\">SVR</label><div class=\"sk-toggleable__content\"><pre>SVR(C=10, gamma=0.1)</pre></div></div></div></div></div></div></div></div></div></div>"
      ],
      "text/plain": [
       "VotingRegressor(estimators=[('rf', RandomForestRegressor()),\n",
       "                            ('xb',\n",
       "                             XGBRegressor(alpha=0.5, base_score=None,\n",
       "                                          booster=None, callbacks=None,\n",
       "                                          colsample_bylevel=None,\n",
       "                                          colsample_bynode=None,\n",
       "                                          colsample_bytree=None,\n",
       "                                          early_stopping_rounds=None,\n",
       "                                          enable_categorical=False,\n",
       "                                          eval_metric=None, feature_types=None,\n",
       "                                          gamma=None, gpu_id=None,\n",
       "                                          grow_policy=None,\n",
       "                                          importance_type=None,\n",
       "                                          interaction_constraints=None,\n",
       "                                          learning_rate=None, max_bin=None,\n",
       "                                          max_cat_threshold=None,\n",
       "                                          max_cat_to_onehot=None,\n",
       "                                          max_delta_step=None, max_depth=None,\n",
       "                                          max_leaves=None,\n",
       "                                          min_child_weight=None, missing=nan,\n",
       "                                          monotone_constraints=None,\n",
       "                                          n_estimators=100, n_jobs=None,\n",
       "                                          num_parallel_tree=None,\n",
       "                                          predictor=None, ...)),\n",
       "                            ('svm', SVR(C=10, gamma=0.1))])"
      ]
     },
     "execution_count": 172,
     "metadata": {},
     "output_type": "execute_result"
    }
   ],
   "source": [
    "vote_regressor = VotingRegressor(estimators=[('rf', regressor),('xb',xb_model),('svm',svr)])\n",
    "vote_regressor.fit(X_train, Y_train)"
   ]
  },
  {
   "cell_type": "code",
   "execution_count": 173,
   "id": "86c32f52",
   "metadata": {},
   "outputs": [],
   "source": [
    "predict_ = vote_regressor.predict(X_test)"
   ]
  },
  {
   "cell_type": "code",
   "execution_count": 174,
   "id": "80488a73",
   "metadata": {},
   "outputs": [
    {
     "name": "stdout",
     "output_type": "stream",
     "text": [
      "[2.84383892 2.40130992 2.60679738 2.40176211 1.57560081 2.85267062\n",
      " 2.72780106 2.63423659 2.83355997 1.78886021 3.34016938 3.40697486\n",
      " 1.72490692 2.06790108 2.35949637 2.80710304 1.91492779 3.11236864\n",
      " 3.59821078 3.2026059  3.88052625 6.12086226 2.23947203 4.16761912\n",
      " 4.1516584  3.46840683 3.27243172 3.1969394  3.16929139 2.62279742\n",
      " 2.80483156 3.24615799 2.90507709 3.16809945 2.27004975 2.35169485\n",
      " 3.43400313 1.62540395 3.15350904 6.76287073 3.72393346 2.79180086\n",
      " 2.7864831  8.16846937 3.40902355 5.88713558 2.60923784 3.40335794\n",
      " 8.12154357 2.87426789 2.82638126 2.95109831 2.56329723 2.8080589\n",
      " 1.64249617 3.7097189  2.6564051  3.48989632 2.54475944 2.87264115\n",
      " 2.93499577 1.93733655 3.1288985  2.84764251 2.72247776 5.99122732\n",
      " 2.84174857 3.14144775 2.82357757 7.52324423 0.97994131 3.92790877\n",
      " 5.53601113 6.96646196 3.1854147  3.03621827 7.69293891 8.03220501\n",
      " 2.61958368 8.74178465 3.13353355 3.01716239 2.75436096 2.96915595\n",
      " 2.85248538 5.18203208 5.7361886  2.47013761 6.90479521 1.30487507\n",
      " 2.29310511 2.23840068 3.01457366 2.49576092 4.26105165 7.97928293\n",
      " 6.7570854  2.32179028 7.53441981 6.57106065 3.5285391  2.91361591\n",
      " 3.00402908 1.55071512 7.33272478 1.76507986 2.05129414 2.65309895\n",
      " 2.66772061 3.29461472 2.51742074 3.10245309 8.20631953 3.17205401\n",
      " 1.82903561 1.63717959 3.5469429  2.67396502 2.9764695  1.81418384\n",
      " 6.88331504 3.29012855 2.59919853 2.90141371 3.03480474 2.92232664\n",
      " 2.93706325 2.21614119 4.23925305 2.89945755 3.19491842 2.52694995\n",
      " 3.13507243 3.94047743 3.02110798 2.13975005 2.01654116 3.17063548\n",
      " 2.81864466 2.56887822 2.37721857 3.26396258 2.42117721 4.12012835\n",
      " 4.05769479 3.93440363 2.41157695 2.18756371 3.2224809  3.65231174\n",
      " 5.57847376 4.84946566 2.89494551 2.37974338 3.04186369 3.28981405\n",
      " 3.33651616 3.24564694 2.85883283 2.79561497 6.96181908 3.4943888\n",
      " 3.52966781 3.33885637 2.05466791 2.17879437 4.44909052 2.49976646\n",
      " 3.19950656 2.73674042 7.59173386 5.09029215 3.27047071 2.71215528\n",
      " 3.04138505 3.5001838  3.15987597 9.1859122  4.22585615 2.48544967\n",
      " 2.57832591 2.57857512 3.22045689 3.04544859 2.70353233 6.32317592\n",
      " 3.6104502  1.77063842 2.16601763 2.79054008 8.50790667 2.8043753\n",
      " 2.44012163 8.27082225 5.85942963 2.66178224 3.11059089 3.0349775\n",
      " 3.17937852 8.52078085 8.36039262 3.32080509 2.57475795 2.82885101\n",
      " 2.773301   3.18885181 8.06098505 3.87864044 3.28124881 3.6696186\n",
      " 2.66992335 2.82162531 2.53892315 3.87805816 1.90463212 3.22724369\n",
      " 3.1459581  3.37550556 3.29962302 2.69359746 7.15969796 2.70639876\n",
      " 2.91361558 3.54655778 7.10142691 2.39784083 2.21294359 2.67445377\n",
      " 2.66167062 2.84159575 1.24065497 3.30044367 2.55971473 3.85171867\n",
      " 2.57288673 3.20751777 3.18262698 2.84200404]\n"
     ]
    }
   ],
   "source": [
    "print(predict_)"
   ]
  },
  {
   "cell_type": "code",
   "execution_count": 175,
   "id": "e395b3d0",
   "metadata": {},
   "outputs": [],
   "source": [
    "#Train Scores\n",
    "training_data_prediction = vote_regressor.predict(X_train)"
   ]
  },
  {
   "cell_type": "code",
   "execution_count": 176,
   "id": "b4f81cc7",
   "metadata": {},
   "outputs": [
    {
     "data": {
      "text/plain": [
       "0.4603858585747081"
      ]
     },
     "execution_count": 176,
     "metadata": {},
     "output_type": "execute_result"
    }
   ],
   "source": [
    "mean_absolute_error(Y_train, training_data_prediction)"
   ]
  },
  {
   "cell_type": "code",
   "execution_count": 177,
   "id": "da8a70a5",
   "metadata": {},
   "outputs": [
    {
     "data": {
      "text/plain": [
       "0.7290907302341153"
      ]
     },
     "execution_count": 177,
     "metadata": {},
     "output_type": "execute_result"
    }
   ],
   "source": [
    "sqrt(mean_squared_error(Y_train, training_data_prediction))"
   ]
  },
  {
   "cell_type": "code",
   "execution_count": 178,
   "id": "822e8448",
   "metadata": {},
   "outputs": [
    {
     "name": "stdout",
     "output_type": "stream",
     "text": [
      "R squared error :  0.8941185829475067\n"
     ]
    }
   ],
   "source": [
    "# R squared error\n",
    "error_score = metrics.r2_score(Y_train, training_data_prediction)\n",
    "print(\"R squared error : \", error_score)"
   ]
  },
  {
   "cell_type": "code",
   "execution_count": 179,
   "id": "6971a0bb",
   "metadata": {},
   "outputs": [
    {
     "name": "stdout",
     "output_type": "stream",
     "text": [
      "SMAPE score: 35.45375351250801\n"
     ]
    }
   ],
   "source": [
    "smape_score = smape(Y_test, predict_ed)\n",
    "print(\"SMAPE score:\", smape_score)"
   ]
  },
  {
   "cell_type": "code",
   "execution_count": 180,
   "id": "0564bab3",
   "metadata": {},
   "outputs": [
    {
     "data": {
      "text/plain": [
       "1.074947405345497"
      ]
     },
     "execution_count": 180,
     "metadata": {},
     "output_type": "execute_result"
    }
   ],
   "source": [
    "#Test scores\n",
    "mean_absolute_error(Y_test, predict_)"
   ]
  },
  {
   "cell_type": "code",
   "execution_count": 181,
   "id": "6ea21436",
   "metadata": {},
   "outputs": [
    {
     "data": {
      "text/plain": [
       "1.4554635372347247"
      ]
     },
     "execution_count": 181,
     "metadata": {},
     "output_type": "execute_result"
    }
   ],
   "source": [
    "sqrt(mean_squared_error(Y_test, predict_))"
   ]
  },
  {
   "cell_type": "code",
   "execution_count": 182,
   "id": "9ea9a7a8",
   "metadata": {},
   "outputs": [
    {
     "name": "stdout",
     "output_type": "stream",
     "text": [
      "R squared error :  0.574424272437837\n"
     ]
    }
   ],
   "source": [
    "# R squared error\n",
    "error_score = metrics.r2_score(Y_test, predict_)\n",
    "print(\"R squared error : \", error_score)"
   ]
  },
  {
   "cell_type": "code",
   "execution_count": 183,
   "id": "9f04397a",
   "metadata": {},
   "outputs": [
    {
     "name": "stdout",
     "output_type": "stream",
     "text": [
      "SMAPE score: 35.04321702933449\n"
     ]
    }
   ],
   "source": [
    "smape_score = smape(Y_test, predict_)\n",
    "print(\"SMAPE score:\", smape_score)"
   ]
  },
  {
   "cell_type": "code",
   "execution_count": null,
   "id": "2ab2ef7a",
   "metadata": {},
   "outputs": [],
   "source": []
  }
 ],
 "metadata": {
  "kernelspec": {
   "display_name": "Python 3 (ipykernel)",
   "language": "python",
   "name": "python3"
  },
  "language_info": {
   "codemirror_mode": {
    "name": "ipython",
    "version": 3
   },
   "file_extension": ".py",
   "mimetype": "text/x-python",
   "name": "python",
   "nbconvert_exporter": "python",
   "pygments_lexer": "ipython3",
   "version": "3.11.3"
  }
 },
 "nbformat": 4,
 "nbformat_minor": 5
}
