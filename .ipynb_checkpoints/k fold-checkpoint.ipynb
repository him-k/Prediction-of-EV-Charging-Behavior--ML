{
 "cells": [
  {
   "cell_type": "markdown",
   "id": "2f9a33db",
   "metadata": {},
   "source": [
    "# Importing the Libraries"
   ]
  },
  {
   "cell_type": "code",
   "execution_count": 1,
   "id": "f91db0d9",
   "metadata": {},
   "outputs": [],
   "source": [
    "import numpy as np\n",
    "import pandas as pd\n",
    "import matplotlib.pyplot as plt\n",
    "import seaborn as sns\n",
    "from sklearn.model_selection import train_test_split\n",
    "from sklearn.ensemble import RandomForestRegressor\n",
    "from sklearn import metrics\n",
    "from sklearn.ensemble import StackingRegressor\n",
    "from sklearn.ensemble import VotingRegressor\n",
    "from sklearn.metrics import mean_absolute_error\n",
    "from sklearn.metrics import mean_squared_error\n",
    "from math import sqrt\n",
    "from sklearn.preprocessing import StandardScaler\n",
    "from sklearn.svm import SVR\n",
    "from xgboost import XGBRegressor\n",
    "from keras.models import Sequential\n",
    "from keras.layers import Dense, BatchNormalization, Dropout, LSTM\n",
    "from sklearn.ensemble import IsolationForest"
   ]
  },
  {
   "cell_type": "markdown",
   "id": "4fdbf56f",
   "metadata": {},
   "source": [
    "# Data Collection and Processing"
   ]
  },
  {
   "cell_type": "code",
   "execution_count": 2,
   "id": "2cfc00ec",
   "metadata": {},
   "outputs": [],
   "source": [
    "# loading the csv data to a Pandas DataFrame\n",
    "ev= pd.read_csv('C:\\\\Users\\\\Himani\\\\Desktop\\\\pp/data.csv')"
   ]
  },
  {
   "cell_type": "code",
   "execution_count": 3,
   "id": "222c17db",
   "metadata": {},
   "outputs": [
    {
     "data": {
      "text/html": [
       "<div>\n",
       "<style scoped>\n",
       "    .dataframe tbody tr th:only-of-type {\n",
       "        vertical-align: middle;\n",
       "    }\n",
       "\n",
       "    .dataframe tbody tr th {\n",
       "        vertical-align: top;\n",
       "    }\n",
       "\n",
       "    .dataframe thead th {\n",
       "        text-align: right;\n",
       "    }\n",
       "</style>\n",
       "<table border=\"1\" class=\"dataframe\">\n",
       "  <thead>\n",
       "    <tr style=\"text-align: right;\">\n",
       "      <th></th>\n",
       "      <th>id</th>\n",
       "      <th>clusterId</th>\n",
       "      <th>Date</th>\n",
       "      <th>connectionTime</th>\n",
       "      <th>Num. Rep.</th>\n",
       "      <th>disconnectTime</th>\n",
       "      <th>Time Diff</th>\n",
       "      <th>Session Length</th>\n",
       "      <th>Avg.Sess.</th>\n",
       "      <th>donechargingTime</th>\n",
       "      <th>...</th>\n",
       "      <th>userID</th>\n",
       "      <th>Precip Type</th>\n",
       "      <th>temperature</th>\n",
       "      <th>Avg. Humidity</th>\n",
       "      <th>Avg Wind Speed(mph)</th>\n",
       "      <th>Wind Bearing(degrees)</th>\n",
       "      <th>Visibility(km)</th>\n",
       "      <th>Loud Cover</th>\n",
       "      <th>Pressure(millibar)</th>\n",
       "      <th>Daily summary</th>\n",
       "    </tr>\n",
       "  </thead>\n",
       "  <tbody>\n",
       "    <tr>\n",
       "      <th>0</th>\n",
       "      <td>5bc90cb9f9af8b0d7fe77cd2</td>\n",
       "      <td>39</td>\n",
       "      <td>Wed, 25 Apr 2018</td>\n",
       "      <td>11:08:04</td>\n",
       "      <td>11.13</td>\n",
       "      <td>13:20:10 GMT</td>\n",
       "      <td>02:12:06</td>\n",
       "      <td>2.20</td>\n",
       "      <td>5.659264</td>\n",
       "      <td>Wed, 25 Apr 2018 13:21:10 GMT</td>\n",
       "      <td>...</td>\n",
       "      <td>NaN</td>\n",
       "      <td>rain</td>\n",
       "      <td>24.372222</td>\n",
       "      <td>34.846153</td>\n",
       "      <td>13.54</td>\n",
       "      <td>300</td>\n",
       "      <td>9.9015</td>\n",
       "      <td>0</td>\n",
       "      <td>1004.55</td>\n",
       "      <td>Mostly cloudy .</td>\n",
       "    </tr>\n",
       "    <tr>\n",
       "      <th>1</th>\n",
       "      <td>5bc90cb9f9af8b0d7fe77cd3</td>\n",
       "      <td>39</td>\n",
       "      <td>Wed, 25 Apr 2018</td>\n",
       "      <td>13:45:10</td>\n",
       "      <td>13.75</td>\n",
       "      <td>00:56:16 GMT</td>\n",
       "      <td>11:11:06</td>\n",
       "      <td>11.19</td>\n",
       "      <td>5.670872</td>\n",
       "      <td>Wed, 25 Apr 2018 16:44:15 GMT</td>\n",
       "      <td>...</td>\n",
       "      <td>NaN</td>\n",
       "      <td>rain</td>\n",
       "      <td>24.372222</td>\n",
       "      <td>34.846153</td>\n",
       "      <td>13.54</td>\n",
       "      <td>300</td>\n",
       "      <td>9.9015</td>\n",
       "      <td>0</td>\n",
       "      <td>1004.55</td>\n",
       "      <td>Mostly cloudy .</td>\n",
       "    </tr>\n",
       "    <tr>\n",
       "      <th>2</th>\n",
       "      <td>5bc90cb9f9af8b0d7fe77cd4</td>\n",
       "      <td>39</td>\n",
       "      <td>Wed, 25 Apr 2018</td>\n",
       "      <td>13:45:50</td>\n",
       "      <td>13.76</td>\n",
       "      <td>23:04:45 GMT</td>\n",
       "      <td>10:19:45</td>\n",
       "      <td>10.33</td>\n",
       "      <td>5.652290</td>\n",
       "      <td>Wed, 25 Apr 2018 14:51:44 GMT</td>\n",
       "      <td>...</td>\n",
       "      <td>NaN</td>\n",
       "      <td>rain</td>\n",
       "      <td>24.372222</td>\n",
       "      <td>34.846153</td>\n",
       "      <td>13.54</td>\n",
       "      <td>300</td>\n",
       "      <td>9.9015</td>\n",
       "      <td>0</td>\n",
       "      <td>1004.55</td>\n",
       "      <td>Mostly cloudy .</td>\n",
       "    </tr>\n",
       "    <tr>\n",
       "      <th>3</th>\n",
       "      <td>5bc90cb9f9af8b0d7fe77cd5</td>\n",
       "      <td>39</td>\n",
       "      <td>Wed, 25 Apr 2018</td>\n",
       "      <td>14:37:06</td>\n",
       "      <td>14.62</td>\n",
       "      <td>23:55:34 GMT</td>\n",
       "      <td>09:18:28</td>\n",
       "      <td>9.31</td>\n",
       "      <td>5.636486</td>\n",
       "      <td>Wed, 25 Apr 2018 16:05:22 GMT</td>\n",
       "      <td>...</td>\n",
       "      <td>NaN</td>\n",
       "      <td>rain</td>\n",
       "      <td>24.372222</td>\n",
       "      <td>34.846153</td>\n",
       "      <td>13.54</td>\n",
       "      <td>300</td>\n",
       "      <td>9.9015</td>\n",
       "      <td>0</td>\n",
       "      <td>1004.55</td>\n",
       "      <td>Mostly cloudy .</td>\n",
       "    </tr>\n",
       "    <tr>\n",
       "      <th>4</th>\n",
       "      <td>5bc90cb9f9af8b0d7fe77cd6</td>\n",
       "      <td>39</td>\n",
       "      <td>Wed, 25 Apr 2018</td>\n",
       "      <td>14:40:34</td>\n",
       "      <td>14.68</td>\n",
       "      <td>23:03:12 GMT</td>\n",
       "      <td>08:22:38</td>\n",
       "      <td>8.38</td>\n",
       "      <td>5.624034</td>\n",
       "      <td>Wed, 25 Apr 2018 17:40:30 GMT</td>\n",
       "      <td>...</td>\n",
       "      <td>NaN</td>\n",
       "      <td>rain</td>\n",
       "      <td>24.372222</td>\n",
       "      <td>34.846153</td>\n",
       "      <td>13.54</td>\n",
       "      <td>300</td>\n",
       "      <td>9.9015</td>\n",
       "      <td>0</td>\n",
       "      <td>1004.55</td>\n",
       "      <td>Mostly cloudy .</td>\n",
       "    </tr>\n",
       "  </tbody>\n",
       "</table>\n",
       "<p>5 rows × 27 columns</p>\n",
       "</div>"
      ],
      "text/plain": [
       "                         id  clusterId              Date connectionTime  \\\n",
       "0  5bc90cb9f9af8b0d7fe77cd2         39  Wed, 25 Apr 2018      11:08:04    \n",
       "1  5bc90cb9f9af8b0d7fe77cd3         39  Wed, 25 Apr 2018       13:45:10   \n",
       "2  5bc90cb9f9af8b0d7fe77cd4         39  Wed, 25 Apr 2018      13:45:50    \n",
       "3  5bc90cb9f9af8b0d7fe77cd5         39  Wed, 25 Apr 2018      14:37:06    \n",
       "4  5bc90cb9f9af8b0d7fe77cd6         39  Wed, 25 Apr 2018      14:40:34    \n",
       "\n",
       "   Num. Rep. disconnectTime Time Diff  Session Length  Avg.Sess.  \\\n",
       "0      11.13   13:20:10 GMT  02:12:06            2.20   5.659264   \n",
       "1      13.75   00:56:16 GMT  11:11:06           11.19   5.670872   \n",
       "2      13.76   23:04:45 GMT  10:19:45           10.33   5.652290   \n",
       "3      14.62   23:55:34 GMT  09:18:28            9.31   5.636486   \n",
       "4      14.68   23:03:12 GMT  08:22:38            8.38   5.624034   \n",
       "\n",
       "                donechargingTime  ...  userID  Precip Type temperature  \\\n",
       "0  Wed, 25 Apr 2018 13:21:10 GMT  ...     NaN         rain   24.372222   \n",
       "1  Wed, 25 Apr 2018 16:44:15 GMT  ...     NaN         rain   24.372222   \n",
       "2  Wed, 25 Apr 2018 14:51:44 GMT  ...     NaN         rain   24.372222   \n",
       "3  Wed, 25 Apr 2018 16:05:22 GMT  ...     NaN         rain   24.372222   \n",
       "4  Wed, 25 Apr 2018 17:40:30 GMT  ...     NaN         rain   24.372222   \n",
       "\n",
       "   Avg. Humidity Avg Wind Speed(mph) Wind Bearing(degrees) Visibility(km)  \\\n",
       "0      34.846153               13.54                   300         9.9015   \n",
       "1      34.846153               13.54                   300         9.9015   \n",
       "2      34.846153               13.54                   300         9.9015   \n",
       "3      34.846153               13.54                   300         9.9015   \n",
       "4      34.846153               13.54                   300         9.9015   \n",
       "\n",
       "   Loud Cover Pressure(millibar)    Daily summary  \n",
       "0           0            1004.55  Mostly cloudy .  \n",
       "1           0            1004.55  Mostly cloudy .  \n",
       "2           0            1004.55  Mostly cloudy .  \n",
       "3           0            1004.55  Mostly cloudy .  \n",
       "4           0            1004.55  Mostly cloudy .  \n",
       "\n",
       "[5 rows x 27 columns]"
      ]
     },
     "execution_count": 3,
     "metadata": {},
     "output_type": "execute_result"
    }
   ],
   "source": [
    "# print first 5 rows in the dataframe\n",
    "ev.head()"
   ]
  },
  {
   "cell_type": "code",
   "execution_count": 4,
   "id": "3b7dbffb",
   "metadata": {},
   "outputs": [
    {
     "data": {
      "text/html": [
       "<div>\n",
       "<style scoped>\n",
       "    .dataframe tbody tr th:only-of-type {\n",
       "        vertical-align: middle;\n",
       "    }\n",
       "\n",
       "    .dataframe tbody tr th {\n",
       "        vertical-align: top;\n",
       "    }\n",
       "\n",
       "    .dataframe thead th {\n",
       "        text-align: right;\n",
       "    }\n",
       "</style>\n",
       "<table border=\"1\" class=\"dataframe\">\n",
       "  <thead>\n",
       "    <tr style=\"text-align: right;\">\n",
       "      <th></th>\n",
       "      <th>id</th>\n",
       "      <th>clusterId</th>\n",
       "      <th>Date</th>\n",
       "      <th>connectionTime</th>\n",
       "      <th>Num. Rep.</th>\n",
       "      <th>disconnectTime</th>\n",
       "      <th>Time Diff</th>\n",
       "      <th>Session Length</th>\n",
       "      <th>Avg.Sess.</th>\n",
       "      <th>donechargingTime</th>\n",
       "      <th>...</th>\n",
       "      <th>userID</th>\n",
       "      <th>Precip Type</th>\n",
       "      <th>temperature</th>\n",
       "      <th>Avg. Humidity</th>\n",
       "      <th>Avg Wind Speed(mph)</th>\n",
       "      <th>Wind Bearing(degrees)</th>\n",
       "      <th>Visibility(km)</th>\n",
       "      <th>Loud Cover</th>\n",
       "      <th>Pressure(millibar)</th>\n",
       "      <th>Daily summary</th>\n",
       "    </tr>\n",
       "  </thead>\n",
       "  <tbody>\n",
       "    <tr>\n",
       "      <th>294</th>\n",
       "      <td>5bc9160af9af8b0dad3c06a8</td>\n",
       "      <td>39</td>\n",
       "      <td>Tue, 01 May 2018</td>\n",
       "      <td>16:52:54</td>\n",
       "      <td>16.88</td>\n",
       "      <td>01:05:41 GMT</td>\n",
       "      <td>08:12:37</td>\n",
       "      <td>8.21</td>\n",
       "      <td>6.548000</td>\n",
       "      <td>Tue, 01 May 2018 19:11:06 GMT</td>\n",
       "      <td>...</td>\n",
       "      <td>NaN</td>\n",
       "      <td>rain</td>\n",
       "      <td>28.511111</td>\n",
       "      <td>38.763024</td>\n",
       "      <td>12.4883</td>\n",
       "      <td>339</td>\n",
       "      <td>16.1</td>\n",
       "      <td>0</td>\n",
       "      <td>1009.55</td>\n",
       "      <td>Mostly cloudy</td>\n",
       "    </tr>\n",
       "    <tr>\n",
       "      <th>295</th>\n",
       "      <td>5bc9160af9af8b0dad3c06a9</td>\n",
       "      <td>39</td>\n",
       "      <td>Tue, 01 May 2018</td>\n",
       "      <td>16:58:54</td>\n",
       "      <td>16.98</td>\n",
       "      <td>01:05:19 GMT</td>\n",
       "      <td>08:06:25</td>\n",
       "      <td>8.11</td>\n",
       "      <td>6.132500</td>\n",
       "      <td>Tue, 01 May 2018 23:54:46 GMT</td>\n",
       "      <td>...</td>\n",
       "      <td>NaN</td>\n",
       "      <td>rain</td>\n",
       "      <td>28.511111</td>\n",
       "      <td>38.763024</td>\n",
       "      <td>12.4883</td>\n",
       "      <td>339</td>\n",
       "      <td>16.1</td>\n",
       "      <td>0</td>\n",
       "      <td>1009.55</td>\n",
       "      <td>Mostly cloudy</td>\n",
       "    </tr>\n",
       "    <tr>\n",
       "      <th>296</th>\n",
       "      <td>5bc9160af9af8b0dad3c06aa</td>\n",
       "      <td>39</td>\n",
       "      <td>Tue, 01 May 2018</td>\n",
       "      <td>17:09:09</td>\n",
       "      <td>17.15</td>\n",
       "      <td>00:22:14 GMT</td>\n",
       "      <td>07:13:05</td>\n",
       "      <td>7.22</td>\n",
       "      <td>5.473333</td>\n",
       "      <td>Tue, 01 May 2018 18:46:19 GMT</td>\n",
       "      <td>...</td>\n",
       "      <td>NaN</td>\n",
       "      <td>rain</td>\n",
       "      <td>28.511111</td>\n",
       "      <td>38.763024</td>\n",
       "      <td>12.4883</td>\n",
       "      <td>339</td>\n",
       "      <td>16.1</td>\n",
       "      <td>0</td>\n",
       "      <td>1009.55</td>\n",
       "      <td>Mostly cloudy</td>\n",
       "    </tr>\n",
       "    <tr>\n",
       "      <th>297</th>\n",
       "      <td>5bc9160af9af8b0dad3c06ab</td>\n",
       "      <td>39</td>\n",
       "      <td>Tue, 01 May 2018</td>\n",
       "      <td>17:11:32</td>\n",
       "      <td>17.19</td>\n",
       "      <td>20:10:03 GMT</td>\n",
       "      <td>02:58:31</td>\n",
       "      <td>2.98</td>\n",
       "      <td>4.600000</td>\n",
       "      <td>Tue, 01 May 2018 20:09:58 GMT</td>\n",
       "      <td>...</td>\n",
       "      <td>NaN</td>\n",
       "      <td>rain</td>\n",
       "      <td>28.511111</td>\n",
       "      <td>38.763024</td>\n",
       "      <td>12.4883</td>\n",
       "      <td>339</td>\n",
       "      <td>16.1</td>\n",
       "      <td>0</td>\n",
       "      <td>1009.55</td>\n",
       "      <td>Mostly cloudy</td>\n",
       "    </tr>\n",
       "    <tr>\n",
       "      <th>298</th>\n",
       "      <td>5bc9160af9af8b0dad3c06ac</td>\n",
       "      <td>39</td>\n",
       "      <td>Tue, 01 May 2018</td>\n",
       "      <td>17:28:59</td>\n",
       "      <td>17.48</td>\n",
       "      <td>23:42:22 GMT</td>\n",
       "      <td>06:13:23</td>\n",
       "      <td>6.22</td>\n",
       "      <td>6.220000</td>\n",
       "      <td>Tue, 01 May 2018 23:42:19 GMT</td>\n",
       "      <td>...</td>\n",
       "      <td>NaN</td>\n",
       "      <td>rain</td>\n",
       "      <td>28.511111</td>\n",
       "      <td>38.763024</td>\n",
       "      <td>12.4883</td>\n",
       "      <td>339</td>\n",
       "      <td>16.1</td>\n",
       "      <td>0</td>\n",
       "      <td>1009.55</td>\n",
       "      <td>Mostly cloudy</td>\n",
       "    </tr>\n",
       "  </tbody>\n",
       "</table>\n",
       "<p>5 rows × 27 columns</p>\n",
       "</div>"
      ],
      "text/plain": [
       "                           id  clusterId              Date connectionTime  \\\n",
       "294  5bc9160af9af8b0dad3c06a8         39  Tue, 01 May 2018      16:52:54    \n",
       "295  5bc9160af9af8b0dad3c06a9         39  Tue, 01 May 2018       16:58:54   \n",
       "296  5bc9160af9af8b0dad3c06aa         39  Tue, 01 May 2018       17:09:09   \n",
       "297  5bc9160af9af8b0dad3c06ab         39  Tue, 01 May 2018       17:11:32   \n",
       "298  5bc9160af9af8b0dad3c06ac         39  Tue, 01 May 2018      17:28:59    \n",
       "\n",
       "     Num. Rep. disconnectTime Time Diff  Session Length  Avg.Sess.  \\\n",
       "294      16.88   01:05:41 GMT  08:12:37            8.21   6.548000   \n",
       "295      16.98   01:05:19 GMT  08:06:25            8.11   6.132500   \n",
       "296      17.15   00:22:14 GMT  07:13:05            7.22   5.473333   \n",
       "297      17.19   20:10:03 GMT  02:58:31            2.98   4.600000   \n",
       "298      17.48   23:42:22 GMT  06:13:23            6.22   6.220000   \n",
       "\n",
       "                  donechargingTime  ...  userID  Precip Type temperature  \\\n",
       "294  Tue, 01 May 2018 19:11:06 GMT  ...     NaN         rain   28.511111   \n",
       "295  Tue, 01 May 2018 23:54:46 GMT  ...     NaN         rain   28.511111   \n",
       "296  Tue, 01 May 2018 18:46:19 GMT  ...     NaN         rain   28.511111   \n",
       "297  Tue, 01 May 2018 20:09:58 GMT  ...     NaN         rain   28.511111   \n",
       "298  Tue, 01 May 2018 23:42:19 GMT  ...     NaN         rain   28.511111   \n",
       "\n",
       "     Avg. Humidity Avg Wind Speed(mph) Wind Bearing(degrees) Visibility(km)  \\\n",
       "294      38.763024             12.4883                   339           16.1   \n",
       "295      38.763024             12.4883                   339           16.1   \n",
       "296      38.763024             12.4883                   339           16.1   \n",
       "297      38.763024             12.4883                   339           16.1   \n",
       "298      38.763024             12.4883                   339           16.1   \n",
       "\n",
       "     Loud Cover Pressure(millibar)   Daily summary  \n",
       "294           0            1009.55  Mostly cloudy   \n",
       "295           0            1009.55  Mostly cloudy   \n",
       "296           0            1009.55  Mostly cloudy   \n",
       "297           0            1009.55  Mostly cloudy   \n",
       "298           0            1009.55  Mostly cloudy   \n",
       "\n",
       "[5 rows x 27 columns]"
      ]
     },
     "execution_count": 4,
     "metadata": {},
     "output_type": "execute_result"
    }
   ],
   "source": [
    "# print last 5 rows of the dataframe\n",
    "ev.tail()"
   ]
  },
  {
   "cell_type": "code",
   "execution_count": 5,
   "id": "7d2a15ea",
   "metadata": {},
   "outputs": [
    {
     "data": {
      "text/plain": [
       "(299, 27)"
      ]
     },
     "execution_count": 5,
     "metadata": {},
     "output_type": "execute_result"
    }
   ],
   "source": [
    "# number of rows and columns\n",
    "ev.shape"
   ]
  },
  {
   "cell_type": "code",
   "execution_count": 6,
   "id": "8e1d13d8",
   "metadata": {},
   "outputs": [
    {
     "name": "stdout",
     "output_type": "stream",
     "text": [
      "<class 'pandas.core.frame.DataFrame'>\n",
      "RangeIndex: 299 entries, 0 to 298\n",
      "Data columns (total 27 columns):\n",
      " #   Column                 Non-Null Count  Dtype  \n",
      "---  ------                 --------------  -----  \n",
      " 0   id                     299 non-null    object \n",
      " 1   clusterId              299 non-null    int64  \n",
      " 2   Date                   299 non-null    object \n",
      " 3   connectionTime         299 non-null    object \n",
      " 4   Num. Rep.              299 non-null    float64\n",
      " 5   disconnectTime         299 non-null    object \n",
      " 6   Time Diff              299 non-null    object \n",
      " 7   Session Length         299 non-null    float64\n",
      " 8   Avg.Sess.              299 non-null    float64\n",
      " 9   donechargingTime       298 non-null    object \n",
      " 10  kWhDelivered           299 non-null    float64\n",
      " 11  Avg. Consump           299 non-null    float64\n",
      " 12  sessionId              299 non-null    object \n",
      " 13  siteId                 299 non-null    int64  \n",
      " 14  spaceID                299 non-null    object \n",
      " 15  stationID              299 non-null    object \n",
      " 16  timezone               299 non-null    object \n",
      " 17  userID                 1 non-null      float64\n",
      " 18  Precip Type            299 non-null    object \n",
      " 19  temperature            299 non-null    float64\n",
      " 20  Avg. Humidity          299 non-null    float64\n",
      " 21  Avg Wind Speed(mph)    299 non-null    float64\n",
      " 22  Wind Bearing(degrees)  299 non-null    int64  \n",
      " 23  Visibility(km)         299 non-null    float64\n",
      " 24  Loud Cover             299 non-null    int64  \n",
      " 25  Pressure(millibar)     299 non-null    float64\n",
      " 26  Daily summary          299 non-null    object \n",
      "dtypes: float64(11), int64(4), object(12)\n",
      "memory usage: 63.2+ KB\n"
     ]
    }
   ],
   "source": [
    "# getting some basic informations about the data\n",
    "ev.info()"
   ]
  },
  {
   "cell_type": "code",
   "execution_count": 7,
   "id": "02415370",
   "metadata": {},
   "outputs": [
    {
     "data": {
      "text/plain": [
       "id                         0\n",
       "clusterId                  0\n",
       "Date                       0\n",
       "connectionTime             0\n",
       "Num. Rep.                  0\n",
       "disconnectTime             0\n",
       "Time Diff                  0\n",
       "Session Length             0\n",
       "Avg.Sess.                  0\n",
       "donechargingTime           1\n",
       "kWhDelivered               0\n",
       "Avg. Consump               0\n",
       "sessionId                  0\n",
       "siteId                     0\n",
       "spaceID                    0\n",
       "stationID                  0\n",
       "timezone                   0\n",
       "userID                   298\n",
       "Precip Type                0\n",
       "temperature                0\n",
       "Avg. Humidity              0\n",
       "Avg Wind Speed(mph)        0\n",
       "Wind Bearing(degrees)      0\n",
       "Visibility(km)             0\n",
       "Loud Cover                 0\n",
       "Pressure(millibar)         0\n",
       "Daily summary              0\n",
       "dtype: int64"
      ]
     },
     "execution_count": 7,
     "metadata": {},
     "output_type": "execute_result"
    }
   ],
   "source": [
    "# checking the number of missing values\n",
    "ev.isnull().sum()"
   ]
  },
  {
   "cell_type": "code",
   "execution_count": 8,
   "id": "1bea6d0b",
   "metadata": {},
   "outputs": [],
   "source": [
    "ev[\"donechargingTime\"] = ev[\"donechargingTime\"].fillna(ev[\"donechargingTime\"].mode()[0])"
   ]
  },
  {
   "cell_type": "code",
   "execution_count": 9,
   "id": "5cde64ca",
   "metadata": {},
   "outputs": [
    {
     "data": {
      "text/html": [
       "<div>\n",
       "<style scoped>\n",
       "    .dataframe tbody tr th:only-of-type {\n",
       "        vertical-align: middle;\n",
       "    }\n",
       "\n",
       "    .dataframe tbody tr th {\n",
       "        vertical-align: top;\n",
       "    }\n",
       "\n",
       "    .dataframe thead th {\n",
       "        text-align: right;\n",
       "    }\n",
       "</style>\n",
       "<table border=\"1\" class=\"dataframe\">\n",
       "  <thead>\n",
       "    <tr style=\"text-align: right;\">\n",
       "      <th></th>\n",
       "      <th>EV</th>\n",
       "    </tr>\n",
       "  </thead>\n",
       "  <tbody>\n",
       "    <tr>\n",
       "      <th>userID</th>\n",
       "      <td>298</td>\n",
       "    </tr>\n",
       "  </tbody>\n",
       "</table>\n",
       "</div>"
      ],
      "text/plain": [
       "         EV\n",
       "userID  298"
      ]
     },
     "execution_count": 9,
     "metadata": {},
     "output_type": "execute_result"
    }
   ],
   "source": [
    "NAs = pd.concat([ev.isnull().sum()], axis=1, keys=[\"EV\"])\n",
    "NAs[NAs.sum(axis=1) > 0]"
   ]
  },
  {
   "cell_type": "code",
   "execution_count": 10,
   "id": "8e6700d7",
   "metadata": {},
   "outputs": [
    {
     "data": {
      "text/plain": [
       "0     NaN\n",
       "1     NaN\n",
       "2     NaN\n",
       "3     NaN\n",
       "4     NaN\n",
       "       ..\n",
       "294   NaN\n",
       "295   NaN\n",
       "296   NaN\n",
       "297   NaN\n",
       "298   NaN\n",
       "Name: userID, Length: 299, dtype: float64"
      ]
     },
     "execution_count": 10,
     "metadata": {},
     "output_type": "execute_result"
    }
   ],
   "source": [
    "ev.pop(\"userID\")"
   ]
  },
  {
   "cell_type": "markdown",
   "id": "2e9f2ff9",
   "metadata": {},
   "source": [
    "#How does data look matematically"
   ]
  },
  {
   "cell_type": "code",
   "execution_count": 11,
   "id": "820ad83d",
   "metadata": {},
   "outputs": [
    {
     "data": {
      "text/html": [
       "<div>\n",
       "<style scoped>\n",
       "    .dataframe tbody tr th:only-of-type {\n",
       "        vertical-align: middle;\n",
       "    }\n",
       "\n",
       "    .dataframe tbody tr th {\n",
       "        vertical-align: top;\n",
       "    }\n",
       "\n",
       "    .dataframe thead th {\n",
       "        text-align: right;\n",
       "    }\n",
       "</style>\n",
       "<table border=\"1\" class=\"dataframe\">\n",
       "  <thead>\n",
       "    <tr style=\"text-align: right;\">\n",
       "      <th></th>\n",
       "      <th>clusterId</th>\n",
       "      <th>Num. Rep.</th>\n",
       "      <th>Session Length</th>\n",
       "      <th>Avg.Sess.</th>\n",
       "      <th>kWhDelivered</th>\n",
       "      <th>Avg. Consump</th>\n",
       "      <th>siteId</th>\n",
       "      <th>temperature</th>\n",
       "      <th>Avg. Humidity</th>\n",
       "      <th>Avg Wind Speed(mph)</th>\n",
       "      <th>Wind Bearing(degrees)</th>\n",
       "      <th>Visibility(km)</th>\n",
       "      <th>Loud Cover</th>\n",
       "      <th>Pressure(millibar)</th>\n",
       "    </tr>\n",
       "  </thead>\n",
       "  <tbody>\n",
       "    <tr>\n",
       "      <th>count</th>\n",
       "      <td>299.0</td>\n",
       "      <td>299.000000</td>\n",
       "      <td>299.000000</td>\n",
       "      <td>299.000000</td>\n",
       "      <td>299.000000</td>\n",
       "      <td>299.000000</td>\n",
       "      <td>299.0</td>\n",
       "      <td>299.000000</td>\n",
       "      <td>299.000000</td>\n",
       "      <td>299.000000</td>\n",
       "      <td>299.000000</td>\n",
       "      <td>299.000000</td>\n",
       "      <td>299.0</td>\n",
       "      <td>299.000000</td>\n",
       "    </tr>\n",
       "    <tr>\n",
       "      <th>mean</th>\n",
       "      <td>39.0</td>\n",
       "      <td>14.055920</td>\n",
       "      <td>5.659264</td>\n",
       "      <td>5.863428</td>\n",
       "      <td>8.880215</td>\n",
       "      <td>9.077592</td>\n",
       "      <td>2.0</td>\n",
       "      <td>26.075790</td>\n",
       "      <td>35.486688</td>\n",
       "      <td>12.205524</td>\n",
       "      <td>216.675585</td>\n",
       "      <td>14.784162</td>\n",
       "      <td>0.0</td>\n",
       "      <td>1012.212542</td>\n",
       "    </tr>\n",
       "    <tr>\n",
       "      <th>std</th>\n",
       "      <td>0.0</td>\n",
       "      <td>6.491128</td>\n",
       "      <td>3.649564</td>\n",
       "      <td>0.664461</td>\n",
       "      <td>7.517564</td>\n",
       "      <td>0.629821</td>\n",
       "      <td>0.0</td>\n",
       "      <td>1.405486</td>\n",
       "      <td>1.471998</td>\n",
       "      <td>1.271501</td>\n",
       "      <td>113.151907</td>\n",
       "      <td>2.130799</td>\n",
       "      <td>0.0</td>\n",
       "      <td>4.072541</td>\n",
       "    </tr>\n",
       "    <tr>\n",
       "      <th>min</th>\n",
       "      <td>39.0</td>\n",
       "      <td>0.040000</td>\n",
       "      <td>0.100000</td>\n",
       "      <td>4.600000</td>\n",
       "      <td>0.546000</td>\n",
       "      <td>6.480000</td>\n",
       "      <td>2.0</td>\n",
       "      <td>24.372222</td>\n",
       "      <td>33.836492</td>\n",
       "      <td>10.236100</td>\n",
       "      <td>10.000000</td>\n",
       "      <td>9.901500</td>\n",
       "      <td>0.0</td>\n",
       "      <td>1004.550000</td>\n",
       "    </tr>\n",
       "    <tr>\n",
       "      <th>25%</th>\n",
       "      <td>39.0</td>\n",
       "      <td>13.905000</td>\n",
       "      <td>2.345000</td>\n",
       "      <td>5.413281</td>\n",
       "      <td>3.507000</td>\n",
       "      <td>8.635000</td>\n",
       "      <td>2.0</td>\n",
       "      <td>24.844444</td>\n",
       "      <td>34.846153</td>\n",
       "      <td>11.076800</td>\n",
       "      <td>124.000000</td>\n",
       "      <td>14.168000</td>\n",
       "      <td>0.0</td>\n",
       "      <td>1009.550000</td>\n",
       "    </tr>\n",
       "    <tr>\n",
       "      <th>50%</th>\n",
       "      <td>39.0</td>\n",
       "      <td>15.920000</td>\n",
       "      <td>5.200000</td>\n",
       "      <td>5.549357</td>\n",
       "      <td>6.764000</td>\n",
       "      <td>9.110000</td>\n",
       "      <td>2.0</td>\n",
       "      <td>25.416667</td>\n",
       "      <td>34.864321</td>\n",
       "      <td>12.075100</td>\n",
       "      <td>271.000000</td>\n",
       "      <td>15.729700</td>\n",
       "      <td>0.0</td>\n",
       "      <td>1011.920000</td>\n",
       "    </tr>\n",
       "    <tr>\n",
       "      <th>75%</th>\n",
       "      <td>39.0</td>\n",
       "      <td>17.685000</td>\n",
       "      <td>8.605000</td>\n",
       "      <td>6.285223</td>\n",
       "      <td>12.951500</td>\n",
       "      <td>9.485000</td>\n",
       "      <td>2.0</td>\n",
       "      <td>27.383333</td>\n",
       "      <td>35.872643</td>\n",
       "      <td>13.540000</td>\n",
       "      <td>300.000000</td>\n",
       "      <td>16.100000</td>\n",
       "      <td>0.0</td>\n",
       "      <td>1015.720000</td>\n",
       "    </tr>\n",
       "    <tr>\n",
       "      <th>max</th>\n",
       "      <td>39.0</td>\n",
       "      <td>23.900000</td>\n",
       "      <td>18.170000</td>\n",
       "      <td>8.207187</td>\n",
       "      <td>47.808000</td>\n",
       "      <td>11.770000</td>\n",
       "      <td>2.0</td>\n",
       "      <td>28.511111</td>\n",
       "      <td>38.763024</td>\n",
       "      <td>14.021400</td>\n",
       "      <td>339.000000</td>\n",
       "      <td>16.100000</td>\n",
       "      <td>0.0</td>\n",
       "      <td>1016.850000</td>\n",
       "    </tr>\n",
       "  </tbody>\n",
       "</table>\n",
       "</div>"
      ],
      "text/plain": [
       "       clusterId   Num. Rep.  Session Length   Avg.Sess.  kWhDelivered  \\\n",
       "count      299.0  299.000000      299.000000  299.000000    299.000000   \n",
       "mean        39.0   14.055920        5.659264    5.863428      8.880215   \n",
       "std          0.0    6.491128        3.649564    0.664461      7.517564   \n",
       "min         39.0    0.040000        0.100000    4.600000      0.546000   \n",
       "25%         39.0   13.905000        2.345000    5.413281      3.507000   \n",
       "50%         39.0   15.920000        5.200000    5.549357      6.764000   \n",
       "75%         39.0   17.685000        8.605000    6.285223     12.951500   \n",
       "max         39.0   23.900000       18.170000    8.207187     47.808000   \n",
       "\n",
       "       Avg. Consump  siteId  temperature  Avg. Humidity  Avg Wind Speed(mph)  \\\n",
       "count    299.000000   299.0   299.000000     299.000000           299.000000   \n",
       "mean       9.077592     2.0    26.075790      35.486688            12.205524   \n",
       "std        0.629821     0.0     1.405486       1.471998             1.271501   \n",
       "min        6.480000     2.0    24.372222      33.836492            10.236100   \n",
       "25%        8.635000     2.0    24.844444      34.846153            11.076800   \n",
       "50%        9.110000     2.0    25.416667      34.864321            12.075100   \n",
       "75%        9.485000     2.0    27.383333      35.872643            13.540000   \n",
       "max       11.770000     2.0    28.511111      38.763024            14.021400   \n",
       "\n",
       "       Wind Bearing(degrees)  Visibility(km)  Loud Cover  Pressure(millibar)  \n",
       "count             299.000000      299.000000       299.0          299.000000  \n",
       "mean              216.675585       14.784162         0.0         1012.212542  \n",
       "std               113.151907        2.130799         0.0            4.072541  \n",
       "min                10.000000        9.901500         0.0         1004.550000  \n",
       "25%               124.000000       14.168000         0.0         1009.550000  \n",
       "50%               271.000000       15.729700         0.0         1011.920000  \n",
       "75%               300.000000       16.100000         0.0         1015.720000  \n",
       "max               339.000000       16.100000         0.0         1016.850000  "
      ]
     },
     "execution_count": 11,
     "metadata": {},
     "output_type": "execute_result"
    }
   ],
   "source": [
    "ev.describe()"
   ]
  },
  {
   "cell_type": "code",
   "execution_count": 12,
   "id": "b59babcc",
   "metadata": {},
   "outputs": [
    {
     "data": {
      "text/plain": [
       "0"
      ]
     },
     "execution_count": 12,
     "metadata": {},
     "output_type": "execute_result"
    }
   ],
   "source": [
    "#Are there duplicate values\n",
    "ev.duplicated().sum()"
   ]
  },
  {
   "cell_type": "code",
   "execution_count": 13,
   "id": "eafd458d",
   "metadata": {},
   "outputs": [
    {
     "name": "stderr",
     "output_type": "stream",
     "text": [
      "C:\\Users\\Himani\\AppData\\Local\\Temp\\ipykernel_42548\\4186223021.py:2: FutureWarning: The default value of numeric_only in DataFrame.corr is deprecated. In a future version, it will default to False. Select only valid columns or specify the value of numeric_only to silence this warning.\n",
      "  ev.corr()\n"
     ]
    },
    {
     "data": {
      "text/html": [
       "<div>\n",
       "<style scoped>\n",
       "    .dataframe tbody tr th:only-of-type {\n",
       "        vertical-align: middle;\n",
       "    }\n",
       "\n",
       "    .dataframe tbody tr th {\n",
       "        vertical-align: top;\n",
       "    }\n",
       "\n",
       "    .dataframe thead th {\n",
       "        text-align: right;\n",
       "    }\n",
       "</style>\n",
       "<table border=\"1\" class=\"dataframe\">\n",
       "  <thead>\n",
       "    <tr style=\"text-align: right;\">\n",
       "      <th></th>\n",
       "      <th>clusterId</th>\n",
       "      <th>Num. Rep.</th>\n",
       "      <th>Session Length</th>\n",
       "      <th>Avg.Sess.</th>\n",
       "      <th>kWhDelivered</th>\n",
       "      <th>Avg. Consump</th>\n",
       "      <th>siteId</th>\n",
       "      <th>temperature</th>\n",
       "      <th>Avg. Humidity</th>\n",
       "      <th>Avg Wind Speed(mph)</th>\n",
       "      <th>Wind Bearing(degrees)</th>\n",
       "      <th>Visibility(km)</th>\n",
       "      <th>Loud Cover</th>\n",
       "      <th>Pressure(millibar)</th>\n",
       "    </tr>\n",
       "  </thead>\n",
       "  <tbody>\n",
       "    <tr>\n",
       "      <th>clusterId</th>\n",
       "      <td>NaN</td>\n",
       "      <td>NaN</td>\n",
       "      <td>NaN</td>\n",
       "      <td>NaN</td>\n",
       "      <td>NaN</td>\n",
       "      <td>NaN</td>\n",
       "      <td>NaN</td>\n",
       "      <td>NaN</td>\n",
       "      <td>NaN</td>\n",
       "      <td>NaN</td>\n",
       "      <td>NaN</td>\n",
       "      <td>NaN</td>\n",
       "      <td>NaN</td>\n",
       "      <td>NaN</td>\n",
       "    </tr>\n",
       "    <tr>\n",
       "      <th>Num. Rep.</th>\n",
       "      <td>NaN</td>\n",
       "      <td>1.000000</td>\n",
       "      <td>-0.006438</td>\n",
       "      <td>-0.105431</td>\n",
       "      <td>-0.060010</td>\n",
       "      <td>-0.151705</td>\n",
       "      <td>NaN</td>\n",
       "      <td>-0.192787</td>\n",
       "      <td>-0.109221</td>\n",
       "      <td>0.124439</td>\n",
       "      <td>-0.082490</td>\n",
       "      <td>-0.184083</td>\n",
       "      <td>NaN</td>\n",
       "      <td>-0.076314</td>\n",
       "    </tr>\n",
       "    <tr>\n",
       "      <th>Session Length</th>\n",
       "      <td>NaN</td>\n",
       "      <td>-0.006438</td>\n",
       "      <td>1.000000</td>\n",
       "      <td>0.136738</td>\n",
       "      <td>0.310325</td>\n",
       "      <td>0.068062</td>\n",
       "      <td>NaN</td>\n",
       "      <td>0.150531</td>\n",
       "      <td>0.210982</td>\n",
       "      <td>0.071906</td>\n",
       "      <td>0.143226</td>\n",
       "      <td>-0.086973</td>\n",
       "      <td>NaN</td>\n",
       "      <td>-0.116158</td>\n",
       "    </tr>\n",
       "    <tr>\n",
       "      <th>Avg.Sess.</th>\n",
       "      <td>NaN</td>\n",
       "      <td>-0.105431</td>\n",
       "      <td>0.136738</td>\n",
       "      <td>1.000000</td>\n",
       "      <td>-0.028790</td>\n",
       "      <td>-0.306549</td>\n",
       "      <td>NaN</td>\n",
       "      <td>0.597536</td>\n",
       "      <td>0.743543</td>\n",
       "      <td>0.441166</td>\n",
       "      <td>-0.095027</td>\n",
       "      <td>0.324415</td>\n",
       "      <td>NaN</td>\n",
       "      <td>-0.032252</td>\n",
       "    </tr>\n",
       "    <tr>\n",
       "      <th>kWhDelivered</th>\n",
       "      <td>NaN</td>\n",
       "      <td>-0.060010</td>\n",
       "      <td>0.310325</td>\n",
       "      <td>-0.028790</td>\n",
       "      <td>1.000000</td>\n",
       "      <td>0.136078</td>\n",
       "      <td>NaN</td>\n",
       "      <td>-0.088631</td>\n",
       "      <td>-0.066617</td>\n",
       "      <td>-0.014799</td>\n",
       "      <td>-0.060507</td>\n",
       "      <td>0.071274</td>\n",
       "      <td>NaN</td>\n",
       "      <td>0.077324</td>\n",
       "    </tr>\n",
       "    <tr>\n",
       "      <th>Avg. Consump</th>\n",
       "      <td>NaN</td>\n",
       "      <td>-0.151705</td>\n",
       "      <td>0.068062</td>\n",
       "      <td>-0.306549</td>\n",
       "      <td>0.136078</td>\n",
       "      <td>1.000000</td>\n",
       "      <td>NaN</td>\n",
       "      <td>0.007092</td>\n",
       "      <td>0.010471</td>\n",
       "      <td>-0.627740</td>\n",
       "      <td>0.578792</td>\n",
       "      <td>-0.097441</td>\n",
       "      <td>NaN</td>\n",
       "      <td>-0.061571</td>\n",
       "    </tr>\n",
       "    <tr>\n",
       "      <th>siteId</th>\n",
       "      <td>NaN</td>\n",
       "      <td>NaN</td>\n",
       "      <td>NaN</td>\n",
       "      <td>NaN</td>\n",
       "      <td>NaN</td>\n",
       "      <td>NaN</td>\n",
       "      <td>NaN</td>\n",
       "      <td>NaN</td>\n",
       "      <td>NaN</td>\n",
       "      <td>NaN</td>\n",
       "      <td>NaN</td>\n",
       "      <td>NaN</td>\n",
       "      <td>NaN</td>\n",
       "      <td>NaN</td>\n",
       "    </tr>\n",
       "    <tr>\n",
       "      <th>temperature</th>\n",
       "      <td>NaN</td>\n",
       "      <td>-0.192787</td>\n",
       "      <td>0.150531</td>\n",
       "      <td>0.597536</td>\n",
       "      <td>-0.088631</td>\n",
       "      <td>0.007092</td>\n",
       "      <td>NaN</td>\n",
       "      <td>1.000000</td>\n",
       "      <td>0.734907</td>\n",
       "      <td>-0.111375</td>\n",
       "      <td>0.232455</td>\n",
       "      <td>0.574416</td>\n",
       "      <td>NaN</td>\n",
       "      <td>0.028210</td>\n",
       "    </tr>\n",
       "    <tr>\n",
       "      <th>Avg. Humidity</th>\n",
       "      <td>NaN</td>\n",
       "      <td>-0.109221</td>\n",
       "      <td>0.210982</td>\n",
       "      <td>0.743543</td>\n",
       "      <td>-0.066617</td>\n",
       "      <td>0.010471</td>\n",
       "      <td>NaN</td>\n",
       "      <td>0.734907</td>\n",
       "      <td>1.000000</td>\n",
       "      <td>0.113319</td>\n",
       "      <td>0.348580</td>\n",
       "      <td>0.203647</td>\n",
       "      <td>NaN</td>\n",
       "      <td>-0.092720</td>\n",
       "    </tr>\n",
       "    <tr>\n",
       "      <th>Avg Wind Speed(mph)</th>\n",
       "      <td>NaN</td>\n",
       "      <td>0.124439</td>\n",
       "      <td>0.071906</td>\n",
       "      <td>0.441166</td>\n",
       "      <td>-0.014799</td>\n",
       "      <td>-0.627740</td>\n",
       "      <td>NaN</td>\n",
       "      <td>-0.111375</td>\n",
       "      <td>0.113319</td>\n",
       "      <td>1.000000</td>\n",
       "      <td>-0.494134</td>\n",
       "      <td>-0.212482</td>\n",
       "      <td>NaN</td>\n",
       "      <td>-0.211034</td>\n",
       "    </tr>\n",
       "    <tr>\n",
       "      <th>Wind Bearing(degrees)</th>\n",
       "      <td>NaN</td>\n",
       "      <td>-0.082490</td>\n",
       "      <td>0.143226</td>\n",
       "      <td>-0.095027</td>\n",
       "      <td>-0.060507</td>\n",
       "      <td>0.578792</td>\n",
       "      <td>NaN</td>\n",
       "      <td>0.232455</td>\n",
       "      <td>0.348580</td>\n",
       "      <td>-0.494134</td>\n",
       "      <td>1.000000</td>\n",
       "      <td>-0.404592</td>\n",
       "      <td>NaN</td>\n",
       "      <td>-0.634122</td>\n",
       "    </tr>\n",
       "    <tr>\n",
       "      <th>Visibility(km)</th>\n",
       "      <td>NaN</td>\n",
       "      <td>-0.184083</td>\n",
       "      <td>-0.086973</td>\n",
       "      <td>0.324415</td>\n",
       "      <td>0.071274</td>\n",
       "      <td>-0.097441</td>\n",
       "      <td>NaN</td>\n",
       "      <td>0.574416</td>\n",
       "      <td>0.203647</td>\n",
       "      <td>-0.212482</td>\n",
       "      <td>-0.404592</td>\n",
       "      <td>1.000000</td>\n",
       "      <td>NaN</td>\n",
       "      <td>0.706509</td>\n",
       "    </tr>\n",
       "    <tr>\n",
       "      <th>Loud Cover</th>\n",
       "      <td>NaN</td>\n",
       "      <td>NaN</td>\n",
       "      <td>NaN</td>\n",
       "      <td>NaN</td>\n",
       "      <td>NaN</td>\n",
       "      <td>NaN</td>\n",
       "      <td>NaN</td>\n",
       "      <td>NaN</td>\n",
       "      <td>NaN</td>\n",
       "      <td>NaN</td>\n",
       "      <td>NaN</td>\n",
       "      <td>NaN</td>\n",
       "      <td>NaN</td>\n",
       "      <td>NaN</td>\n",
       "    </tr>\n",
       "    <tr>\n",
       "      <th>Pressure(millibar)</th>\n",
       "      <td>NaN</td>\n",
       "      <td>-0.076314</td>\n",
       "      <td>-0.116158</td>\n",
       "      <td>-0.032252</td>\n",
       "      <td>0.077324</td>\n",
       "      <td>-0.061571</td>\n",
       "      <td>NaN</td>\n",
       "      <td>0.028210</td>\n",
       "      <td>-0.092720</td>\n",
       "      <td>-0.211034</td>\n",
       "      <td>-0.634122</td>\n",
       "      <td>0.706509</td>\n",
       "      <td>NaN</td>\n",
       "      <td>1.000000</td>\n",
       "    </tr>\n",
       "  </tbody>\n",
       "</table>\n",
       "</div>"
      ],
      "text/plain": [
       "                       clusterId  Num. Rep.  Session Length  Avg.Sess.  \\\n",
       "clusterId                    NaN        NaN             NaN        NaN   \n",
       "Num. Rep.                    NaN   1.000000       -0.006438  -0.105431   \n",
       "Session Length               NaN  -0.006438        1.000000   0.136738   \n",
       "Avg.Sess.                    NaN  -0.105431        0.136738   1.000000   \n",
       "kWhDelivered                 NaN  -0.060010        0.310325  -0.028790   \n",
       "Avg. Consump                 NaN  -0.151705        0.068062  -0.306549   \n",
       "siteId                       NaN        NaN             NaN        NaN   \n",
       "temperature                  NaN  -0.192787        0.150531   0.597536   \n",
       "Avg. Humidity                NaN  -0.109221        0.210982   0.743543   \n",
       "Avg Wind Speed(mph)          NaN   0.124439        0.071906   0.441166   \n",
       "Wind Bearing(degrees)        NaN  -0.082490        0.143226  -0.095027   \n",
       "Visibility(km)               NaN  -0.184083       -0.086973   0.324415   \n",
       "Loud Cover                   NaN        NaN             NaN        NaN   \n",
       "Pressure(millibar)           NaN  -0.076314       -0.116158  -0.032252   \n",
       "\n",
       "                       kWhDelivered  Avg. Consump  siteId  temperature  \\\n",
       "clusterId                       NaN           NaN     NaN          NaN   \n",
       "Num. Rep.                 -0.060010     -0.151705     NaN    -0.192787   \n",
       "Session Length             0.310325      0.068062     NaN     0.150531   \n",
       "Avg.Sess.                 -0.028790     -0.306549     NaN     0.597536   \n",
       "kWhDelivered               1.000000      0.136078     NaN    -0.088631   \n",
       "Avg. Consump               0.136078      1.000000     NaN     0.007092   \n",
       "siteId                          NaN           NaN     NaN          NaN   \n",
       "temperature               -0.088631      0.007092     NaN     1.000000   \n",
       "Avg. Humidity             -0.066617      0.010471     NaN     0.734907   \n",
       "Avg Wind Speed(mph)       -0.014799     -0.627740     NaN    -0.111375   \n",
       "Wind Bearing(degrees)     -0.060507      0.578792     NaN     0.232455   \n",
       "Visibility(km)             0.071274     -0.097441     NaN     0.574416   \n",
       "Loud Cover                      NaN           NaN     NaN          NaN   \n",
       "Pressure(millibar)         0.077324     -0.061571     NaN     0.028210   \n",
       "\n",
       "                       Avg. Humidity  Avg Wind Speed(mph)  \\\n",
       "clusterId                        NaN                  NaN   \n",
       "Num. Rep.                  -0.109221             0.124439   \n",
       "Session Length              0.210982             0.071906   \n",
       "Avg.Sess.                   0.743543             0.441166   \n",
       "kWhDelivered               -0.066617            -0.014799   \n",
       "Avg. Consump                0.010471            -0.627740   \n",
       "siteId                           NaN                  NaN   \n",
       "temperature                 0.734907            -0.111375   \n",
       "Avg. Humidity               1.000000             0.113319   \n",
       "Avg Wind Speed(mph)         0.113319             1.000000   \n",
       "Wind Bearing(degrees)       0.348580            -0.494134   \n",
       "Visibility(km)              0.203647            -0.212482   \n",
       "Loud Cover                       NaN                  NaN   \n",
       "Pressure(millibar)         -0.092720            -0.211034   \n",
       "\n",
       "                       Wind Bearing(degrees)  Visibility(km)  Loud Cover  \\\n",
       "clusterId                                NaN             NaN         NaN   \n",
       "Num. Rep.                          -0.082490       -0.184083         NaN   \n",
       "Session Length                      0.143226       -0.086973         NaN   \n",
       "Avg.Sess.                          -0.095027        0.324415         NaN   \n",
       "kWhDelivered                       -0.060507        0.071274         NaN   \n",
       "Avg. Consump                        0.578792       -0.097441         NaN   \n",
       "siteId                                   NaN             NaN         NaN   \n",
       "temperature                         0.232455        0.574416         NaN   \n",
       "Avg. Humidity                       0.348580        0.203647         NaN   \n",
       "Avg Wind Speed(mph)                -0.494134       -0.212482         NaN   \n",
       "Wind Bearing(degrees)               1.000000       -0.404592         NaN   \n",
       "Visibility(km)                     -0.404592        1.000000         NaN   \n",
       "Loud Cover                               NaN             NaN         NaN   \n",
       "Pressure(millibar)                 -0.634122        0.706509         NaN   \n",
       "\n",
       "                       Pressure(millibar)  \n",
       "clusterId                             NaN  \n",
       "Num. Rep.                       -0.076314  \n",
       "Session Length                  -0.116158  \n",
       "Avg.Sess.                       -0.032252  \n",
       "kWhDelivered                     0.077324  \n",
       "Avg. Consump                    -0.061571  \n",
       "siteId                                NaN  \n",
       "temperature                      0.028210  \n",
       "Avg. Humidity                   -0.092720  \n",
       "Avg Wind Speed(mph)             -0.211034  \n",
       "Wind Bearing(degrees)           -0.634122  \n",
       "Visibility(km)                   0.706509  \n",
       "Loud Cover                            NaN  \n",
       "Pressure(millibar)               1.000000  "
      ]
     },
     "execution_count": 13,
     "metadata": {},
     "output_type": "execute_result"
    }
   ],
   "source": [
    "#How is the correlation between columns\n",
    "ev.corr()"
   ]
  },
  {
   "cell_type": "code",
   "execution_count": 14,
   "id": "6b01c8c2",
   "metadata": {},
   "outputs": [
    {
     "name": "stderr",
     "output_type": "stream",
     "text": [
      "C:\\Users\\Himani\\AppData\\Local\\Temp\\ipykernel_42548\\1113734809.py:1: FutureWarning: The default value of numeric_only in DataFrame.corr is deprecated. In a future version, it will default to False. Select only valid columns or specify the value of numeric_only to silence this warning.\n",
      "  correlation = ev.corr()\n"
     ]
    }
   ],
   "source": [
    "correlation = ev.corr()"
   ]
  },
  {
   "cell_type": "code",
   "execution_count": 15,
   "id": "d278b4b2",
   "metadata": {},
   "outputs": [
    {
     "data": {
      "text/plain": [
       "<Axes: >"
      ]
     },
     "execution_count": 15,
     "metadata": {},
     "output_type": "execute_result"
    },
    {
     "data": {
      "image/png": "[encoded data removed]",
      "text/plain": [
       "<Figure size 800x800 with 2 Axes>"
      ]
     },
     "metadata": {},
     "output_type": "display_data"
    }
   ],
   "source": [
    "# constructing a heatmap to understand the correlatiom\n",
    "plt.figure(figsize = (8,8))\n",
    "sns.heatmap(correlation, cbar=True, square=True, fmt='.1f',annot=True, annot_kws={'size':8}, cmap='Blues')"
   ]
  },
  {
   "cell_type": "code",
   "execution_count": 16,
   "id": "ca2210f1",
   "metadata": {},
   "outputs": [
    {
     "name": "stdout",
     "output_type": "stream",
     "text": [
      "clusterId                     NaN\n",
      "Num. Rep.               -0.006438\n",
      "Session Length           1.000000\n",
      "Avg.Sess.                0.136738\n",
      "kWhDelivered             0.310325\n",
      "Avg. Consump             0.068062\n",
      "siteId                        NaN\n",
      "temperature              0.150531\n",
      "Avg. Humidity            0.210982\n",
      "Avg Wind Speed(mph)      0.071906\n",
      "Wind Bearing(degrees)    0.143226\n",
      "Visibility(km)          -0.086973\n",
      "Loud Cover                    NaN\n",
      "Pressure(millibar)      -0.116158\n",
      "Name: Session Length, dtype: float64\n"
     ]
    }
   ],
   "source": [
    "print(correlation['Session Length'])"
   ]
  },
  {
   "cell_type": "code",
   "execution_count": 17,
   "id": "a9c4a136",
   "metadata": {},
   "outputs": [
    {
     "name": "stderr",
     "output_type": "stream",
     "text": [
      "C:\\Users\\Himani\\AppData\\Local\\Temp\\ipykernel_42548\\557120452.py:1: UserWarning: \n",
      "\n",
      "`distplot` is a deprecated function and will be removed in seaborn v0.14.0.\n",
      "\n",
      "Please adapt your code to use either `displot` (a figure-level function with\n",
      "similar flexibility) or `histplot` (an axes-level function for histograms).\n",
      "\n",
      "For a guide to updating your code to use the new functions, please see\n",
      "https://gist.github.com/mwaskom/de44147ed2974457ad6372750bbe5751\n",
      "\n",
      "  sns.distplot(ev['Session Length'],color='green')\n"
     ]
    },
    {
     "data": {
      "text/plain": [
       "<Axes: xlabel='Session Length', ylabel='Density'>"
      ]
     },
     "execution_count": 17,
     "metadata": {},
     "output_type": "execute_result"
    },
    {
     "data": {
      "image/png": "[encoded data removed]",
      "text/plain": [
       "<Figure size 640x480 with 1 Axes>"
      ]
     },
     "metadata": {},
     "output_type": "display_data"
    }
   ],
   "source": [
    "sns.distplot(ev['Session Length'],color='green')"
   ]
  },
  {
   "cell_type": "code",
   "execution_count": 18,
   "id": "da2e1a18",
   "metadata": {},
   "outputs": [
    {
     "name": "stdout",
     "output_type": "stream",
     "text": [
      "clusterId                     NaN\n",
      "Num. Rep.               -0.060010\n",
      "Session Length           0.310325\n",
      "Avg.Sess.               -0.028790\n",
      "kWhDelivered             1.000000\n",
      "Avg. Consump             0.136078\n",
      "siteId                        NaN\n",
      "temperature             -0.088631\n",
      "Avg. Humidity           -0.066617\n",
      "Avg Wind Speed(mph)     -0.014799\n",
      "Wind Bearing(degrees)   -0.060507\n",
      "Visibility(km)           0.071274\n",
      "Loud Cover                    NaN\n",
      "Pressure(millibar)       0.077324\n",
      "Name: kWhDelivered, dtype: float64\n"
     ]
    }
   ],
   "source": [
    "print(correlation['kWhDelivered'])"
   ]
  },
  {
   "cell_type": "code",
   "execution_count": 19,
   "id": "75badd27",
   "metadata": {},
   "outputs": [
    {
     "name": "stderr",
     "output_type": "stream",
     "text": [
      "C:\\Users\\Himani\\AppData\\Local\\Temp\\ipykernel_42548\\3648164053.py:1: UserWarning: \n",
      "\n",
      "`distplot` is a deprecated function and will be removed in seaborn v0.14.0.\n",
      "\n",
      "Please adapt your code to use either `displot` (a figure-level function with\n",
      "similar flexibility) or `histplot` (an axes-level function for histograms).\n",
      "\n",
      "For a guide to updating your code to use the new functions, please see\n",
      "https://gist.github.com/mwaskom/de44147ed2974457ad6372750bbe5751\n",
      "\n",
      "  sns.distplot(ev['kWhDelivered'],color='pink')\n"
     ]
    },
    {
     "data": {
      "text/plain": [
       "<Axes: xlabel='kWhDelivered', ylabel='Density'>"
      ]
     },
     "execution_count": 19,
     "metadata": {},
     "output_type": "execute_result"
    },
    {
     "data": {
      "image/png": "[encoded data removed]",
      "text/plain": [
       "<Figure size 640x480 with 1 Axes>"
      ]
     },
     "metadata": {},
     "output_type": "display_data"
    }
   ],
   "source": [
    "sns.distplot(ev['kWhDelivered'],color='pink')"
   ]
  },
  {
   "cell_type": "code",
   "execution_count": 20,
   "id": "b22c38a2",
   "metadata": {},
   "outputs": [],
   "source": [
    "ev.drop(['id','clusterId','Date','connectionTime','sessionId','spaceID','stationID','disconnectTime','siteId','Time Diff','donechargingTime','timezone','Precip Type','Loud Cover','Daily summary'],axis=1,inplace=True)"
   ]
  },
  {
   "cell_type": "code",
   "execution_count": 21,
   "id": "38698961",
   "metadata": {},
   "outputs": [
    {
     "data": {
      "text/plain": [
       "<Axes: >"
      ]
     },
     "execution_count": 21,
     "metadata": {},
     "output_type": "execute_result"
    },
    {
     "data": {
      "image/png": "[encoded data removed]",
      "text/plain": [
       "<Figure size 640x480 with 1 Axes>"
      ]
     },
     "metadata": {},
     "output_type": "display_data"
    }
   ],
   "source": [
    "#Boxplot\n",
    "sns.boxplot(ev['Session Length'])"
   ]
  },
  {
   "cell_type": "code",
   "execution_count": 22,
   "id": "c89908e9",
   "metadata": {},
   "outputs": [
    {
     "name": "stderr",
     "output_type": "stream",
     "text": [
      "C:\\Users\\Himani\\AppData\\Local\\Programs\\Python\\Python311\\Lib\\site-packages\\sklearn\\base.py:439: UserWarning: X does not have valid feature names, but IsolationForest was fitted with feature names\n",
      "  warnings.warn(\n"
     ]
    },
    {
     "data": {
      "text/html": [
       "<style>#sk-container-id-1 {color: black;background-color: white;}#sk-container-id-1 pre{padding: 0;}#sk-container-id-1 div.sk-toggleable {background-color: white;}#sk-container-id-1 label.sk-toggleable__label {cursor: pointer;display: block;width: 100%;margin-bottom: 0;padding: 0.3em;box-sizing: border-box;text-align: center;}#sk-container-id-1 label.sk-toggleable__label-arrow:before {content: \"▸\";float: left;margin-right: 0.25em;color: #696969;}#sk-container-id-1 label.sk-toggleable__label-arrow:hover:before {color: black;}#sk-container-id-1 div.sk-estimator:hover label.sk-toggleable__label-arrow:before {color: black;}#sk-container-id-1 div.sk-toggleable__content {max-height: 0;max-width: 0;overflow: hidden;text-align: left;background-color: #f0f8ff;}#sk-container-id-1 div.sk-toggleable__content pre {margin: 0.2em;color: black;border-radius: 0.25em;background-color: #f0f8ff;}#sk-container-id-1 input.sk-toggleable__control:checked~div.sk-toggleable__content {max-height: 200px;max-width: 100%;overflow: auto;}#sk-container-id-1 input.sk-toggleable__control:checked~label.sk-toggleable__label-arrow:before {content: \"▾\";}#sk-container-id-1 div.sk-estimator input.sk-toggleable__control:checked~label.sk-toggleable__label {background-color: #d4ebff;}#sk-container-id-1 div.sk-label input.sk-toggleable__control:checked~label.sk-toggleable__label {background-color: #d4ebff;}#sk-container-id-1 input.sk-hidden--visually {border: 0;clip: rect(1px 1px 1px 1px);clip: rect(1px, 1px, 1px, 1px);height: 1px;margin: -1px;overflow: hidden;padding: 0;position: absolute;width: 1px;}#sk-container-id-1 div.sk-estimator {font-family: monospace;background-color: #f0f8ff;border: 1px dotted black;border-radius: 0.25em;box-sizing: border-box;margin-bottom: 0.5em;}#sk-container-id-1 div.sk-estimator:hover {background-color: #d4ebff;}#sk-container-id-1 div.sk-parallel-item::after {content: \"\";width: 100%;border-bottom: 1px solid gray;flex-grow: 1;}#sk-container-id-1 div.sk-label:hover label.sk-toggleable__label {background-color: #d4ebff;}#sk-container-id-1 div.sk-serial::before {content: \"\";position: absolute;border-left: 1px solid gray;box-sizing: border-box;top: 0;bottom: 0;left: 50%;z-index: 0;}#sk-container-id-1 div.sk-serial {display: flex;flex-direction: column;align-items: center;background-color: white;padding-right: 0.2em;padding-left: 0.2em;position: relative;}#sk-container-id-1 div.sk-item {position: relative;z-index: 1;}#sk-container-id-1 div.sk-parallel {display: flex;align-items: stretch;justify-content: center;background-color: white;position: relative;}#sk-container-id-1 div.sk-item::before, #sk-container-id-1 div.sk-parallel-item::before {content: \"\";position: absolute;border-left: 1px solid gray;box-sizing: border-box;top: 0;bottom: 0;left: 50%;z-index: -1;}#sk-container-id-1 div.sk-parallel-item {display: flex;flex-direction: column;z-index: 1;position: relative;background-color: white;}#sk-container-id-1 div.sk-parallel-item:first-child::after {align-self: flex-end;width: 50%;}#sk-container-id-1 div.sk-parallel-item:last-child::after {align-self: flex-start;width: 50%;}#sk-container-id-1 div.sk-parallel-item:only-child::after {width: 0;}#sk-container-id-1 div.sk-dashed-wrapped {border: 1px dashed gray;margin: 0 0.4em 0.5em 0.4em;box-sizing: border-box;padding-bottom: 0.4em;background-color: white;}#sk-container-id-1 div.sk-label label {font-family: monospace;font-weight: bold;display: inline-block;line-height: 1.2em;}#sk-container-id-1 div.sk-label-container {text-align: center;}#sk-container-id-1 div.sk-container {/* jupyter's `normalize.less` sets `[hidden] { display: none; }` but bootstrap.min.css set `[hidden] { display: none !important; }` so we also need the `!important` here to be able to override the default hidden behavior on the sphinx rendered scikit-learn.org. See: https://github.com/scikit-learn/scikit-learn/issues/21755 */display: inline-block !important;position: relative;}#sk-container-id-1 div.sk-text-repr-fallback {display: none;}</style><div id=\"sk-container-id-1\" class=\"sk-top-container\"><div class=\"sk-text-repr-fallback\"><pre>IsolationForest(contamination=0.02, n_estimators=1000)</pre><b>In a Jupyter environment, please rerun this cell to show the HTML representation or trust the notebook. <br />On GitHub, the HTML representation is unable to render, please try loading this page with nbviewer.org.</b></div><div class=\"sk-container\" hidden><div class=\"sk-item\"><div class=\"sk-estimator sk-toggleable\"><input class=\"sk-toggleable__control sk-hidden--visually\" id=\"sk-estimator-id-1\" type=\"checkbox\" checked><label for=\"sk-estimator-id-1\" class=\"sk-toggleable__label sk-toggleable__label-arrow\">IsolationForest</label><div class=\"sk-toggleable__content\"><pre>IsolationForest(contamination=0.02, n_estimators=1000)</pre></div></div></div></div></div>"
      ],
      "text/plain": [
       "IsolationForest(contamination=0.02, n_estimators=1000)"
      ]
     },
     "execution_count": 22,
     "metadata": {},
     "output_type": "execute_result"
    }
   ],
   "source": [
    "model=IsolationForest(n_estimators=1000,max_samples='auto',contamination=float(0.02),max_features=1.0)\n",
    "model.fit(ev[['Session Length']])"
   ]
  },
  {
   "cell_type": "code",
   "execution_count": 23,
   "id": "a41c25cc",
   "metadata": {},
   "outputs": [
    {
     "data": {
      "text/html": [
       "<div>\n",
       "<style scoped>\n",
       "    .dataframe tbody tr th:only-of-type {\n",
       "        vertical-align: middle;\n",
       "    }\n",
       "\n",
       "    .dataframe tbody tr th {\n",
       "        vertical-align: top;\n",
       "    }\n",
       "\n",
       "    .dataframe thead th {\n",
       "        text-align: right;\n",
       "    }\n",
       "</style>\n",
       "<table border=\"1\" class=\"dataframe\">\n",
       "  <thead>\n",
       "    <tr style=\"text-align: right;\">\n",
       "      <th></th>\n",
       "      <th>Num. Rep.</th>\n",
       "      <th>Session Length</th>\n",
       "      <th>Avg.Sess.</th>\n",
       "      <th>kWhDelivered</th>\n",
       "      <th>Avg. Consump</th>\n",
       "      <th>temperature</th>\n",
       "      <th>Avg. Humidity</th>\n",
       "      <th>Avg Wind Speed(mph)</th>\n",
       "      <th>Wind Bearing(degrees)</th>\n",
       "      <th>Visibility(km)</th>\n",
       "      <th>Pressure(millibar)</th>\n",
       "      <th>newlength</th>\n",
       "      <th>anomaly</th>\n",
       "    </tr>\n",
       "  </thead>\n",
       "  <tbody>\n",
       "    <tr>\n",
       "      <th>0</th>\n",
       "      <td>11.13</td>\n",
       "      <td>2.20</td>\n",
       "      <td>5.659264</td>\n",
       "      <td>7.932</td>\n",
       "      <td>8.88</td>\n",
       "      <td>24.372222</td>\n",
       "      <td>34.846153</td>\n",
       "      <td>13.54</td>\n",
       "      <td>300</td>\n",
       "      <td>9.9015</td>\n",
       "      <td>1004.55</td>\n",
       "      <td>0.175550</td>\n",
       "      <td>1</td>\n",
       "    </tr>\n",
       "    <tr>\n",
       "      <th>1</th>\n",
       "      <td>13.75</td>\n",
       "      <td>11.19</td>\n",
       "      <td>5.670872</td>\n",
       "      <td>10.013</td>\n",
       "      <td>8.88</td>\n",
       "      <td>24.372222</td>\n",
       "      <td>34.846153</td>\n",
       "      <td>13.54</td>\n",
       "      <td>300</td>\n",
       "      <td>9.9015</td>\n",
       "      <td>1004.55</td>\n",
       "      <td>0.046426</td>\n",
       "      <td>1</td>\n",
       "    </tr>\n",
       "    <tr>\n",
       "      <th>2</th>\n",
       "      <td>13.76</td>\n",
       "      <td>10.33</td>\n",
       "      <td>5.652290</td>\n",
       "      <td>5.257</td>\n",
       "      <td>8.88</td>\n",
       "      <td>24.372222</td>\n",
       "      <td>34.846153</td>\n",
       "      <td>13.54</td>\n",
       "      <td>300</td>\n",
       "      <td>9.9015</td>\n",
       "      <td>1004.55</td>\n",
       "      <td>0.103214</td>\n",
       "      <td>1</td>\n",
       "    </tr>\n",
       "    <tr>\n",
       "      <th>3</th>\n",
       "      <td>14.62</td>\n",
       "      <td>9.31</td>\n",
       "      <td>5.636486</td>\n",
       "      <td>5.177</td>\n",
       "      <td>8.89</td>\n",
       "      <td>24.372222</td>\n",
       "      <td>34.846153</td>\n",
       "      <td>13.54</td>\n",
       "      <td>300</td>\n",
       "      <td>9.9015</td>\n",
       "      <td>1004.55</td>\n",
       "      <td>0.170669</td>\n",
       "      <td>1</td>\n",
       "    </tr>\n",
       "    <tr>\n",
       "      <th>4</th>\n",
       "      <td>14.68</td>\n",
       "      <td>8.38</td>\n",
       "      <td>5.624034</td>\n",
       "      <td>10.119</td>\n",
       "      <td>8.90</td>\n",
       "      <td>24.372222</td>\n",
       "      <td>34.846153</td>\n",
       "      <td>13.54</td>\n",
       "      <td>300</td>\n",
       "      <td>9.9015</td>\n",
       "      <td>1004.55</td>\n",
       "      <td>0.177618</td>\n",
       "      <td>1</td>\n",
       "    </tr>\n",
       "    <tr>\n",
       "      <th>5</th>\n",
       "      <td>14.73</td>\n",
       "      <td>10.56</td>\n",
       "      <td>5.614660</td>\n",
       "      <td>7.910</td>\n",
       "      <td>8.90</td>\n",
       "      <td>24.372222</td>\n",
       "      <td>34.846153</td>\n",
       "      <td>13.54</td>\n",
       "      <td>300</td>\n",
       "      <td>9.9015</td>\n",
       "      <td>1004.55</td>\n",
       "      <td>0.094615</td>\n",
       "      <td>1</td>\n",
       "    </tr>\n",
       "    <tr>\n",
       "      <th>6</th>\n",
       "      <td>14.80</td>\n",
       "      <td>3.67</td>\n",
       "      <td>5.597782</td>\n",
       "      <td>15.294</td>\n",
       "      <td>8.90</td>\n",
       "      <td>24.372222</td>\n",
       "      <td>34.846153</td>\n",
       "      <td>13.54</td>\n",
       "      <td>300</td>\n",
       "      <td>9.9015</td>\n",
       "      <td>1004.55</td>\n",
       "      <td>0.141993</td>\n",
       "      <td>1</td>\n",
       "    </tr>\n",
       "    <tr>\n",
       "      <th>7</th>\n",
       "      <td>14.97</td>\n",
       "      <td>4.13</td>\n",
       "      <td>5.604384</td>\n",
       "      <td>6.953</td>\n",
       "      <td>8.88</td>\n",
       "      <td>24.372222</td>\n",
       "      <td>34.846153</td>\n",
       "      <td>13.54</td>\n",
       "      <td>300</td>\n",
       "      <td>9.9015</td>\n",
       "      <td>1004.55</td>\n",
       "      <td>0.162142</td>\n",
       "      <td>1</td>\n",
       "    </tr>\n",
       "    <tr>\n",
       "      <th>8</th>\n",
       "      <td>15.18</td>\n",
       "      <td>3.08</td>\n",
       "      <td>5.609450</td>\n",
       "      <td>2.174</td>\n",
       "      <td>8.89</td>\n",
       "      <td>24.372222</td>\n",
       "      <td>34.846153</td>\n",
       "      <td>13.54</td>\n",
       "      <td>300</td>\n",
       "      <td>9.9015</td>\n",
       "      <td>1004.55</td>\n",
       "      <td>0.134746</td>\n",
       "      <td>1</td>\n",
       "    </tr>\n",
       "    <tr>\n",
       "      <th>9</th>\n",
       "      <td>15.20</td>\n",
       "      <td>3.29</td>\n",
       "      <td>5.618172</td>\n",
       "      <td>2.439</td>\n",
       "      <td>8.91</td>\n",
       "      <td>24.372222</td>\n",
       "      <td>34.846153</td>\n",
       "      <td>13.54</td>\n",
       "      <td>300</td>\n",
       "      <td>9.9015</td>\n",
       "      <td>1004.55</td>\n",
       "      <td>0.159346</td>\n",
       "      <td>1</td>\n",
       "    </tr>\n",
       "  </tbody>\n",
       "</table>\n",
       "</div>"
      ],
      "text/plain": [
       "   Num. Rep.  Session Length  Avg.Sess.  kWhDelivered  Avg. Consump  \\\n",
       "0      11.13            2.20   5.659264         7.932          8.88   \n",
       "1      13.75           11.19   5.670872        10.013          8.88   \n",
       "2      13.76           10.33   5.652290         5.257          8.88   \n",
       "3      14.62            9.31   5.636486         5.177          8.89   \n",
       "4      14.68            8.38   5.624034        10.119          8.90   \n",
       "5      14.73           10.56   5.614660         7.910          8.90   \n",
       "6      14.80            3.67   5.597782        15.294          8.90   \n",
       "7      14.97            4.13   5.604384         6.953          8.88   \n",
       "8      15.18            3.08   5.609450         2.174          8.89   \n",
       "9      15.20            3.29   5.618172         2.439          8.91   \n",
       "\n",
       "   temperature  Avg. Humidity  Avg Wind Speed(mph)  Wind Bearing(degrees)  \\\n",
       "0    24.372222      34.846153                13.54                    300   \n",
       "1    24.372222      34.846153                13.54                    300   \n",
       "2    24.372222      34.846153                13.54                    300   \n",
       "3    24.372222      34.846153                13.54                    300   \n",
       "4    24.372222      34.846153                13.54                    300   \n",
       "5    24.372222      34.846153                13.54                    300   \n",
       "6    24.372222      34.846153                13.54                    300   \n",
       "7    24.372222      34.846153                13.54                    300   \n",
       "8    24.372222      34.846153                13.54                    300   \n",
       "9    24.372222      34.846153                13.54                    300   \n",
       "\n",
       "   Visibility(km)  Pressure(millibar)  newlength  anomaly  \n",
       "0          9.9015             1004.55   0.175550        1  \n",
       "1          9.9015             1004.55   0.046426        1  \n",
       "2          9.9015             1004.55   0.103214        1  \n",
       "3          9.9015             1004.55   0.170669        1  \n",
       "4          9.9015             1004.55   0.177618        1  \n",
       "5          9.9015             1004.55   0.094615        1  \n",
       "6          9.9015             1004.55   0.141993        1  \n",
       "7          9.9015             1004.55   0.162142        1  \n",
       "8          9.9015             1004.55   0.134746        1  \n",
       "9          9.9015             1004.55   0.159346        1  "
      ]
     },
     "execution_count": 23,
     "metadata": {},
     "output_type": "execute_result"
    }
   ],
   "source": [
    "ev['newlength']=model.decision_function(ev[['Session Length']])\n",
    "ev['anomaly']=model.predict(ev[['Session Length']])\n",
    "ev.head(10)"
   ]
  },
  {
   "cell_type": "code",
   "execution_count": 24,
   "id": "8ccf046c",
   "metadata": {},
   "outputs": [
    {
     "data": {
      "text/plain": [
       "6"
      ]
     },
     "execution_count": 24,
     "metadata": {},
     "output_type": "execute_result"
    }
   ],
   "source": [
    "outliers_counter = len(ev[ev['anomaly'] ==-1])\n",
    "outliers_counter "
   ]
  },
  {
   "cell_type": "code",
   "execution_count": 25,
   "id": "26f73d90",
   "metadata": {},
   "outputs": [],
   "source": [
    "ev_data = ev[(ev['anomaly'] ==1)]"
   ]
  },
  {
   "cell_type": "code",
   "execution_count": 26,
   "id": "36c2b242",
   "metadata": {},
   "outputs": [
    {
     "data": {
      "text/html": [
       "<div>\n",
       "<style scoped>\n",
       "    .dataframe tbody tr th:only-of-type {\n",
       "        vertical-align: middle;\n",
       "    }\n",
       "\n",
       "    .dataframe tbody tr th {\n",
       "        vertical-align: top;\n",
       "    }\n",
       "\n",
       "    .dataframe thead th {\n",
       "        text-align: right;\n",
       "    }\n",
       "</style>\n",
       "<table border=\"1\" class=\"dataframe\">\n",
       "  <thead>\n",
       "    <tr style=\"text-align: right;\">\n",
       "      <th></th>\n",
       "      <th>Num. Rep.</th>\n",
       "      <th>Session Length</th>\n",
       "      <th>Avg.Sess.</th>\n",
       "      <th>kWhDelivered</th>\n",
       "      <th>Avg. Consump</th>\n",
       "      <th>temperature</th>\n",
       "      <th>Avg. Humidity</th>\n",
       "      <th>Avg Wind Speed(mph)</th>\n",
       "      <th>Wind Bearing(degrees)</th>\n",
       "      <th>Visibility(km)</th>\n",
       "      <th>Pressure(millibar)</th>\n",
       "      <th>newlength</th>\n",
       "      <th>anomaly</th>\n",
       "    </tr>\n",
       "  </thead>\n",
       "  <tbody>\n",
       "    <tr>\n",
       "      <th>0</th>\n",
       "      <td>11.13</td>\n",
       "      <td>2.20</td>\n",
       "      <td>5.659264</td>\n",
       "      <td>7.932</td>\n",
       "      <td>8.88</td>\n",
       "      <td>24.372222</td>\n",
       "      <td>34.846153</td>\n",
       "      <td>13.5400</td>\n",
       "      <td>300</td>\n",
       "      <td>9.9015</td>\n",
       "      <td>1004.55</td>\n",
       "      <td>0.175550</td>\n",
       "      <td>1</td>\n",
       "    </tr>\n",
       "    <tr>\n",
       "      <th>1</th>\n",
       "      <td>13.75</td>\n",
       "      <td>11.19</td>\n",
       "      <td>5.670872</td>\n",
       "      <td>10.013</td>\n",
       "      <td>8.88</td>\n",
       "      <td>24.372222</td>\n",
       "      <td>34.846153</td>\n",
       "      <td>13.5400</td>\n",
       "      <td>300</td>\n",
       "      <td>9.9015</td>\n",
       "      <td>1004.55</td>\n",
       "      <td>0.046426</td>\n",
       "      <td>1</td>\n",
       "    </tr>\n",
       "    <tr>\n",
       "      <th>2</th>\n",
       "      <td>13.76</td>\n",
       "      <td>10.33</td>\n",
       "      <td>5.652290</td>\n",
       "      <td>5.257</td>\n",
       "      <td>8.88</td>\n",
       "      <td>24.372222</td>\n",
       "      <td>34.846153</td>\n",
       "      <td>13.5400</td>\n",
       "      <td>300</td>\n",
       "      <td>9.9015</td>\n",
       "      <td>1004.55</td>\n",
       "      <td>0.103214</td>\n",
       "      <td>1</td>\n",
       "    </tr>\n",
       "    <tr>\n",
       "      <th>3</th>\n",
       "      <td>14.62</td>\n",
       "      <td>9.31</td>\n",
       "      <td>5.636486</td>\n",
       "      <td>5.177</td>\n",
       "      <td>8.89</td>\n",
       "      <td>24.372222</td>\n",
       "      <td>34.846153</td>\n",
       "      <td>13.5400</td>\n",
       "      <td>300</td>\n",
       "      <td>9.9015</td>\n",
       "      <td>1004.55</td>\n",
       "      <td>0.170669</td>\n",
       "      <td>1</td>\n",
       "    </tr>\n",
       "    <tr>\n",
       "      <th>4</th>\n",
       "      <td>14.68</td>\n",
       "      <td>8.38</td>\n",
       "      <td>5.624034</td>\n",
       "      <td>10.119</td>\n",
       "      <td>8.90</td>\n",
       "      <td>24.372222</td>\n",
       "      <td>34.846153</td>\n",
       "      <td>13.5400</td>\n",
       "      <td>300</td>\n",
       "      <td>9.9015</td>\n",
       "      <td>1004.55</td>\n",
       "      <td>0.177618</td>\n",
       "      <td>1</td>\n",
       "    </tr>\n",
       "    <tr>\n",
       "      <th>...</th>\n",
       "      <td>...</td>\n",
       "      <td>...</td>\n",
       "      <td>...</td>\n",
       "      <td>...</td>\n",
       "      <td>...</td>\n",
       "      <td>...</td>\n",
       "      <td>...</td>\n",
       "      <td>...</td>\n",
       "      <td>...</td>\n",
       "      <td>...</td>\n",
       "      <td>...</td>\n",
       "      <td>...</td>\n",
       "      <td>...</td>\n",
       "    </tr>\n",
       "    <tr>\n",
       "      <th>294</th>\n",
       "      <td>16.88</td>\n",
       "      <td>8.21</td>\n",
       "      <td>6.548000</td>\n",
       "      <td>7.799</td>\n",
       "      <td>7.71</td>\n",
       "      <td>28.511111</td>\n",
       "      <td>38.763024</td>\n",
       "      <td>12.4883</td>\n",
       "      <td>339</td>\n",
       "      <td>16.1000</td>\n",
       "      <td>1009.55</td>\n",
       "      <td>0.180806</td>\n",
       "      <td>1</td>\n",
       "    </tr>\n",
       "    <tr>\n",
       "      <th>295</th>\n",
       "      <td>16.98</td>\n",
       "      <td>8.11</td>\n",
       "      <td>6.132500</td>\n",
       "      <td>11.304</td>\n",
       "      <td>7.68</td>\n",
       "      <td>28.511111</td>\n",
       "      <td>38.763024</td>\n",
       "      <td>12.4883</td>\n",
       "      <td>339</td>\n",
       "      <td>16.1000</td>\n",
       "      <td>1009.55</td>\n",
       "      <td>0.175336</td>\n",
       "      <td>1</td>\n",
       "    </tr>\n",
       "    <tr>\n",
       "      <th>296</th>\n",
       "      <td>17.15</td>\n",
       "      <td>7.22</td>\n",
       "      <td>5.473333</td>\n",
       "      <td>1.943</td>\n",
       "      <td>6.48</td>\n",
       "      <td>28.511111</td>\n",
       "      <td>38.763024</td>\n",
       "      <td>12.4883</td>\n",
       "      <td>339</td>\n",
       "      <td>16.1000</td>\n",
       "      <td>1009.55</td>\n",
       "      <td>0.137160</td>\n",
       "      <td>1</td>\n",
       "    </tr>\n",
       "    <tr>\n",
       "      <th>297</th>\n",
       "      <td>17.19</td>\n",
       "      <td>2.98</td>\n",
       "      <td>4.600000</td>\n",
       "      <td>7.053</td>\n",
       "      <td>8.74</td>\n",
       "      <td>28.511111</td>\n",
       "      <td>38.763024</td>\n",
       "      <td>12.4883</td>\n",
       "      <td>339</td>\n",
       "      <td>16.1000</td>\n",
       "      <td>1009.55</td>\n",
       "      <td>0.148083</td>\n",
       "      <td>1</td>\n",
       "    </tr>\n",
       "    <tr>\n",
       "      <th>298</th>\n",
       "      <td>17.48</td>\n",
       "      <td>6.22</td>\n",
       "      <td>6.220000</td>\n",
       "      <td>10.430</td>\n",
       "      <td>10.43</td>\n",
       "      <td>28.511111</td>\n",
       "      <td>38.763024</td>\n",
       "      <td>12.4883</td>\n",
       "      <td>339</td>\n",
       "      <td>16.1000</td>\n",
       "      <td>1009.55</td>\n",
       "      <td>0.131082</td>\n",
       "      <td>1</td>\n",
       "    </tr>\n",
       "  </tbody>\n",
       "</table>\n",
       "<p>293 rows × 13 columns</p>\n",
       "</div>"
      ],
      "text/plain": [
       "     Num. Rep.  Session Length  Avg.Sess.  kWhDelivered  Avg. Consump  \\\n",
       "0        11.13            2.20   5.659264         7.932          8.88   \n",
       "1        13.75           11.19   5.670872        10.013          8.88   \n",
       "2        13.76           10.33   5.652290         5.257          8.88   \n",
       "3        14.62            9.31   5.636486         5.177          8.89   \n",
       "4        14.68            8.38   5.624034        10.119          8.90   \n",
       "..         ...             ...        ...           ...           ...   \n",
       "294      16.88            8.21   6.548000         7.799          7.71   \n",
       "295      16.98            8.11   6.132500        11.304          7.68   \n",
       "296      17.15            7.22   5.473333         1.943          6.48   \n",
       "297      17.19            2.98   4.600000         7.053          8.74   \n",
       "298      17.48            6.22   6.220000        10.430         10.43   \n",
       "\n",
       "     temperature  Avg. Humidity  Avg Wind Speed(mph)  Wind Bearing(degrees)  \\\n",
       "0      24.372222      34.846153              13.5400                    300   \n",
       "1      24.372222      34.846153              13.5400                    300   \n",
       "2      24.372222      34.846153              13.5400                    300   \n",
       "3      24.372222      34.846153              13.5400                    300   \n",
       "4      24.372222      34.846153              13.5400                    300   \n",
       "..           ...            ...                  ...                    ...   \n",
       "294    28.511111      38.763024              12.4883                    339   \n",
       "295    28.511111      38.763024              12.4883                    339   \n",
       "296    28.511111      38.763024              12.4883                    339   \n",
       "297    28.511111      38.763024              12.4883                    339   \n",
       "298    28.511111      38.763024              12.4883                    339   \n",
       "\n",
       "     Visibility(km)  Pressure(millibar)  newlength  anomaly  \n",
       "0            9.9015             1004.55   0.175550        1  \n",
       "1            9.9015             1004.55   0.046426        1  \n",
       "2            9.9015             1004.55   0.103214        1  \n",
       "3            9.9015             1004.55   0.170669        1  \n",
       "4            9.9015             1004.55   0.177618        1  \n",
       "..              ...                 ...        ...      ...  \n",
       "294         16.1000             1009.55   0.180806        1  \n",
       "295         16.1000             1009.55   0.175336        1  \n",
       "296         16.1000             1009.55   0.137160        1  \n",
       "297         16.1000             1009.55   0.148083        1  \n",
       "298         16.1000             1009.55   0.131082        1  \n",
       "\n",
       "[293 rows x 13 columns]"
      ]
     },
     "execution_count": 26,
     "metadata": {},
     "output_type": "execute_result"
    }
   ],
   "source": [
    "ev_data"
   ]
  },
  {
   "cell_type": "markdown",
   "id": "0a01c186",
   "metadata": {},
   "source": [
    "#Splitting the features and target"
   ]
  },
  {
   "cell_type": "code",
   "execution_count": 27,
   "id": "96ca630d",
   "metadata": {},
   "outputs": [],
   "source": [
    "X = ev_data.drop(['Session Length','newlength','anomaly'],axis=1)\n",
    "Y = ev_data['Session Length']"
   ]
  },
  {
   "cell_type": "code",
   "execution_count": 28,
   "id": "77584c8a",
   "metadata": {},
   "outputs": [],
   "source": [
    "scaler = StandardScaler()"
   ]
  },
  {
   "cell_type": "code",
   "execution_count": 29,
   "id": "f775230b",
   "metadata": {},
   "outputs": [
    {
     "data": {
      "text/html": [
       "<style>#sk-container-id-2 {color: black;background-color: white;}#sk-container-id-2 pre{padding: 0;}#sk-container-id-2 div.sk-toggleable {background-color: white;}#sk-container-id-2 label.sk-toggleable__label {cursor: pointer;display: block;width: 100%;margin-bottom: 0;padding: 0.3em;box-sizing: border-box;text-align: center;}#sk-container-id-2 label.sk-toggleable__label-arrow:before {content: \"▸\";float: left;margin-right: 0.25em;color: #696969;}#sk-container-id-2 label.sk-toggleable__label-arrow:hover:before {color: black;}#sk-container-id-2 div.sk-estimator:hover label.sk-toggleable__label-arrow:before {color: black;}#sk-container-id-2 div.sk-toggleable__content {max-height: 0;max-width: 0;overflow: hidden;text-align: left;background-color: #f0f8ff;}#sk-container-id-2 div.sk-toggleable__content pre {margin: 0.2em;color: black;border-radius: 0.25em;background-color: #f0f8ff;}#sk-container-id-2 input.sk-toggleable__control:checked~div.sk-toggleable__content {max-height: 200px;max-width: 100%;overflow: auto;}#sk-container-id-2 input.sk-toggleable__control:checked~label.sk-toggleable__label-arrow:before {content: \"▾\";}#sk-container-id-2 div.sk-estimator input.sk-toggleable__control:checked~label.sk-toggleable__label {background-color: #d4ebff;}#sk-container-id-2 div.sk-label input.sk-toggleable__control:checked~label.sk-toggleable__label {background-color: #d4ebff;}#sk-container-id-2 input.sk-hidden--visually {border: 0;clip: rect(1px 1px 1px 1px);clip: rect(1px, 1px, 1px, 1px);height: 1px;margin: -1px;overflow: hidden;padding: 0;position: absolute;width: 1px;}#sk-container-id-2 div.sk-estimator {font-family: monospace;background-color: #f0f8ff;border: 1px dotted black;border-radius: 0.25em;box-sizing: border-box;margin-bottom: 0.5em;}#sk-container-id-2 div.sk-estimator:hover {background-color: #d4ebff;}#sk-container-id-2 div.sk-parallel-item::after {content: \"\";width: 100%;border-bottom: 1px solid gray;flex-grow: 1;}#sk-container-id-2 div.sk-label:hover label.sk-toggleable__label {background-color: #d4ebff;}#sk-container-id-2 div.sk-serial::before {content: \"\";position: absolute;border-left: 1px solid gray;box-sizing: border-box;top: 0;bottom: 0;left: 50%;z-index: 0;}#sk-container-id-2 div.sk-serial {display: flex;flex-direction: column;align-items: center;background-color: white;padding-right: 0.2em;padding-left: 0.2em;position: relative;}#sk-container-id-2 div.sk-item {position: relative;z-index: 1;}#sk-container-id-2 div.sk-parallel {display: flex;align-items: stretch;justify-content: center;background-color: white;position: relative;}#sk-container-id-2 div.sk-item::before, #sk-container-id-2 div.sk-parallel-item::before {content: \"\";position: absolute;border-left: 1px solid gray;box-sizing: border-box;top: 0;bottom: 0;left: 50%;z-index: -1;}#sk-container-id-2 div.sk-parallel-item {display: flex;flex-direction: column;z-index: 1;position: relative;background-color: white;}#sk-container-id-2 div.sk-parallel-item:first-child::after {align-self: flex-end;width: 50%;}#sk-container-id-2 div.sk-parallel-item:last-child::after {align-self: flex-start;width: 50%;}#sk-container-id-2 div.sk-parallel-item:only-child::after {width: 0;}#sk-container-id-2 div.sk-dashed-wrapped {border: 1px dashed gray;margin: 0 0.4em 0.5em 0.4em;box-sizing: border-box;padding-bottom: 0.4em;background-color: white;}#sk-container-id-2 div.sk-label label {font-family: monospace;font-weight: bold;display: inline-block;line-height: 1.2em;}#sk-container-id-2 div.sk-label-container {text-align: center;}#sk-container-id-2 div.sk-container {/* jupyter's `normalize.less` sets `[hidden] { display: none; }` but bootstrap.min.css set `[hidden] { display: none !important; }` so we also need the `!important` here to be able to override the default hidden behavior on the sphinx rendered scikit-learn.org. See: https://github.com/scikit-learn/scikit-learn/issues/21755 */display: inline-block !important;position: relative;}#sk-container-id-2 div.sk-text-repr-fallback {display: none;}</style><div id=\"sk-container-id-2\" class=\"sk-top-container\"><div class=\"sk-text-repr-fallback\"><pre>StandardScaler()</pre><b>In a Jupyter environment, please rerun this cell to show the HTML representation or trust the notebook. <br />On GitHub, the HTML representation is unable to render, please try loading this page with nbviewer.org.</b></div><div class=\"sk-container\" hidden><div class=\"sk-item\"><div class=\"sk-estimator sk-toggleable\"><input class=\"sk-toggleable__control sk-hidden--visually\" id=\"sk-estimator-id-2\" type=\"checkbox\" checked><label for=\"sk-estimator-id-2\" class=\"sk-toggleable__label sk-toggleable__label-arrow\">StandardScaler</label><div class=\"sk-toggleable__content\"><pre>StandardScaler()</pre></div></div></div></div></div>"
      ],
      "text/plain": [
       "StandardScaler()"
      ]
     },
     "execution_count": 29,
     "metadata": {},
     "output_type": "execute_result"
    }
   ],
   "source": [
    "scaler.fit(X)"
   ]
  },
  {
   "cell_type": "code",
   "execution_count": 30,
   "id": "aa9348f2",
   "metadata": {},
   "outputs": [],
   "source": [
    "standardized_data = scaler.transform(X)"
   ]
  },
  {
   "cell_type": "code",
   "execution_count": 31,
   "id": "b44eed78",
   "metadata": {},
   "outputs": [
    {
     "name": "stdout",
     "output_type": "stream",
     "text": [
      "[[-0.48228634 -0.3128762  -0.09421551 ...  0.72706786 -2.26841502\n",
      "  -1.86721999]\n",
      " [-0.07265618 -0.29514123  0.20272138 ...  0.72706786 -2.26841502\n",
      "  -1.86721999]\n",
      " [-0.07109271 -0.32353199 -0.47590997 ...  0.72706786 -2.26841502\n",
      "  -1.86721999]\n",
      " ...\n",
      " [ 0.45892495 -0.59693904 -0.94878303 ...  1.0707087   0.62618642\n",
      "  -0.64277234]\n",
      " [ 0.46517884 -1.93120661 -0.21963959 ...  1.0707087   0.62618642\n",
      "  -0.64277234]\n",
      " [ 0.51051958  0.54380881  0.26222291 ...  1.0707087   0.62618642\n",
      "  -0.64277234]]\n"
     ]
    }
   ],
   "source": [
    "print(standardized_data)"
   ]
  },
  {
   "cell_type": "code",
   "execution_count": 32,
   "id": "91878952",
   "metadata": {},
   "outputs": [],
   "source": [
    "X = standardized_data\n",
    "Y = ev_data['Session Length']"
   ]
  },
  {
   "cell_type": "code",
   "execution_count": 33,
   "id": "49f07ed7",
   "metadata": {
    "scrolled": true
   },
   "outputs": [
    {
     "name": "stdout",
     "output_type": "stream",
     "text": [
      "[[-0.48228634 -0.3128762  -0.09421551 ...  0.72706786 -2.26841502\n",
      "  -1.86721999]\n",
      " [-0.07265618 -0.29514123  0.20272138 ...  0.72706786 -2.26841502\n",
      "  -1.86721999]\n",
      " [-0.07109271 -0.32353199 -0.47590997 ...  0.72706786 -2.26841502\n",
      "  -1.86721999]\n",
      " ...\n",
      " [ 0.45892495 -0.59693904 -0.94878303 ...  1.0707087   0.62618642\n",
      "  -0.64277234]\n",
      " [ 0.46517884 -1.93120661 -0.21963959 ...  1.0707087   0.62618642\n",
      "  -0.64277234]\n",
      " [ 0.51051958  0.54380881  0.26222291 ...  1.0707087   0.62618642\n",
      "  -0.64277234]]\n"
     ]
    }
   ],
   "source": [
    "print(X)"
   ]
  },
  {
   "cell_type": "code",
   "execution_count": 34,
   "id": "d83d6b99",
   "metadata": {},
   "outputs": [
    {
     "name": "stdout",
     "output_type": "stream",
     "text": [
      "0       2.20\n",
      "1      11.19\n",
      "2      10.33\n",
      "3       9.31\n",
      "4       8.38\n",
      "       ...  \n",
      "294     8.21\n",
      "295     8.11\n",
      "296     7.22\n",
      "297     2.98\n",
      "298     6.22\n",
      "Name: Session Length, Length: 293, dtype: float64\n"
     ]
    }
   ],
   "source": [
    "print(Y)"
   ]
  },
  {
   "cell_type": "code",
   "execution_count": 35,
   "id": "2dc0e699",
   "metadata": {},
   "outputs": [],
   "source": [
    "X_train, X_test, Y_train, Y_test = train_test_split(X, Y, test_size = 0.2, random_state=2)"
   ]
  },
  {
   "cell_type": "code",
   "execution_count": 36,
   "id": "dc559a98",
   "metadata": {},
   "outputs": [],
   "source": [
    "regressor = RandomForestRegressor(n_estimators=100)"
   ]
  },
  {
   "cell_type": "code",
   "execution_count": 37,
   "id": "2f069ace",
   "metadata": {},
   "outputs": [
    {
     "data": {
      "text/html": [
       "<style>#sk-container-id-3 {color: black;background-color: white;}#sk-container-id-3 pre{padding: 0;}#sk-container-id-3 div.sk-toggleable {background-color: white;}#sk-container-id-3 label.sk-toggleable__label {cursor: pointer;display: block;width: 100%;margin-bottom: 0;padding: 0.3em;box-sizing: border-box;text-align: center;}#sk-container-id-3 label.sk-toggleable__label-arrow:before {content: \"▸\";float: left;margin-right: 0.25em;color: #696969;}#sk-container-id-3 label.sk-toggleable__label-arrow:hover:before {color: black;}#sk-container-id-3 div.sk-estimator:hover label.sk-toggleable__label-arrow:before {color: black;}#sk-container-id-3 div.sk-toggleable__content {max-height: 0;max-width: 0;overflow: hidden;text-align: left;background-color: #f0f8ff;}#sk-container-id-3 div.sk-toggleable__content pre {margin: 0.2em;color: black;border-radius: 0.25em;background-color: #f0f8ff;}#sk-container-id-3 input.sk-toggleable__control:checked~div.sk-toggleable__content {max-height: 200px;max-width: 100%;overflow: auto;}#sk-container-id-3 input.sk-toggleable__control:checked~label.sk-toggleable__label-arrow:before {content: \"▾\";}#sk-container-id-3 div.sk-estimator input.sk-toggleable__control:checked~label.sk-toggleable__label {background-color: #d4ebff;}#sk-container-id-3 div.sk-label input.sk-toggleable__control:checked~label.sk-toggleable__label {background-color: #d4ebff;}#sk-container-id-3 input.sk-hidden--visually {border: 0;clip: rect(1px 1px 1px 1px);clip: rect(1px, 1px, 1px, 1px);height: 1px;margin: -1px;overflow: hidden;padding: 0;position: absolute;width: 1px;}#sk-container-id-3 div.sk-estimator {font-family: monospace;background-color: #f0f8ff;border: 1px dotted black;border-radius: 0.25em;box-sizing: border-box;margin-bottom: 0.5em;}#sk-container-id-3 div.sk-estimator:hover {background-color: #d4ebff;}#sk-container-id-3 div.sk-parallel-item::after {content: \"\";width: 100%;border-bottom: 1px solid gray;flex-grow: 1;}#sk-container-id-3 div.sk-label:hover label.sk-toggleable__label {background-color: #d4ebff;}#sk-container-id-3 div.sk-serial::before {content: \"\";position: absolute;border-left: 1px solid gray;box-sizing: border-box;top: 0;bottom: 0;left: 50%;z-index: 0;}#sk-container-id-3 div.sk-serial {display: flex;flex-direction: column;align-items: center;background-color: white;padding-right: 0.2em;padding-left: 0.2em;position: relative;}#sk-container-id-3 div.sk-item {position: relative;z-index: 1;}#sk-container-id-3 div.sk-parallel {display: flex;align-items: stretch;justify-content: center;background-color: white;position: relative;}#sk-container-id-3 div.sk-item::before, #sk-container-id-3 div.sk-parallel-item::before {content: \"\";position: absolute;border-left: 1px solid gray;box-sizing: border-box;top: 0;bottom: 0;left: 50%;z-index: -1;}#sk-container-id-3 div.sk-parallel-item {display: flex;flex-direction: column;z-index: 1;position: relative;background-color: white;}#sk-container-id-3 div.sk-parallel-item:first-child::after {align-self: flex-end;width: 50%;}#sk-container-id-3 div.sk-parallel-item:last-child::after {align-self: flex-start;width: 50%;}#sk-container-id-3 div.sk-parallel-item:only-child::after {width: 0;}#sk-container-id-3 div.sk-dashed-wrapped {border: 1px dashed gray;margin: 0 0.4em 0.5em 0.4em;box-sizing: border-box;padding-bottom: 0.4em;background-color: white;}#sk-container-id-3 div.sk-label label {font-family: monospace;font-weight: bold;display: inline-block;line-height: 1.2em;}#sk-container-id-3 div.sk-label-container {text-align: center;}#sk-container-id-3 div.sk-container {/* jupyter's `normalize.less` sets `[hidden] { display: none; }` but bootstrap.min.css set `[hidden] { display: none !important; }` so we also need the `!important` here to be able to override the default hidden behavior on the sphinx rendered scikit-learn.org. See: https://github.com/scikit-learn/scikit-learn/issues/21755 */display: inline-block !important;position: relative;}#sk-container-id-3 div.sk-text-repr-fallback {display: none;}</style><div id=\"sk-container-id-3\" class=\"sk-top-container\"><div class=\"sk-text-repr-fallback\"><pre>RandomForestRegressor()</pre><b>In a Jupyter environment, please rerun this cell to show the HTML representation or trust the notebook. <br />On GitHub, the HTML representation is unable to render, please try loading this page with nbviewer.org.</b></div><div class=\"sk-container\" hidden><div class=\"sk-item\"><div class=\"sk-estimator sk-toggleable\"><input class=\"sk-toggleable__control sk-hidden--visually\" id=\"sk-estimator-id-3\" type=\"checkbox\" checked><label for=\"sk-estimator-id-3\" class=\"sk-toggleable__label sk-toggleable__label-arrow\">RandomForestRegressor</label><div class=\"sk-toggleable__content\"><pre>RandomForestRegressor()</pre></div></div></div></div></div>"
      ],
      "text/plain": [
       "RandomForestRegressor()"
      ]
     },
     "execution_count": 37,
     "metadata": {},
     "output_type": "execute_result"
    }
   ],
   "source": [
    "# training the model\n",
    "regressor.fit(X_train,Y_train)"
   ]
  },
  {
   "cell_type": "code",
   "execution_count": 38,
   "id": "a442b4c1",
   "metadata": {},
   "outputs": [],
   "source": [
    "# prediction on Test Data\n",
    "test_data_prediction = regressor.predict(X_test)"
   ]
  },
  {
   "cell_type": "code",
   "execution_count": 39,
   "id": "9584f80f",
   "metadata": {},
   "outputs": [
    {
     "name": "stdout",
     "output_type": "stream",
     "text": [
      "[6.7864 3.6049 3.2541 7.8279 3.7394 6.6637 3.8615 1.4175 7.2272 7.2075\n",
      " 7.201  6.1659 8.4746 9.961  6.5305 1.3722 4.1083 7.2791 7.8704 3.2088\n",
      " 8.2782 7.9311 6.3532 8.6745 4.77   4.0667 5.3227 4.7981 4.9676 6.0919\n",
      " 2.3656 5.1182 6.4489 4.0822 7.7113 1.87   4.348  3.1717 7.1621 7.2399\n",
      " 2.5878 6.3587 4.4673 4.7039 4.3828 2.4999 2.4031 5.753  8.1389 3.5241\n",
      " 1.8168 7.9132 9.0073 2.7634 6.5539 7.0894 8.5831 5.202  8.0787]\n"
     ]
    }
   ],
   "source": [
    "print(test_data_prediction)"
   ]
  },
  {
   "cell_type": "code",
   "execution_count": 40,
   "id": "3d4714ba",
   "metadata": {},
   "outputs": [],
   "source": [
    "Y_test = list(Y_test)"
   ]
  },
  {
   "cell_type": "code",
   "execution_count": 41,
   "id": "819182d8",
   "metadata": {},
   "outputs": [
    {
     "data": {
      "image/png": "[encoded data removed]",
      "text/plain": [
       "<Figure size 640x480 with 1 Axes>"
      ]
     },
     "metadata": {},
     "output_type": "display_data"
    }
   ],
   "source": [
    "plt.plot(Y_test, color='blue', label = 'Actual Value')\n",
    "plt.plot(test_data_prediction, color='green', label='Predicted Value')\n",
    "plt.title('Actual  vs Predicted ')\n",
    "plt.xlabel('Number of values')\n",
    "plt.ylabel('Session Length')\n",
    "plt.legend()\n",
    "plt.show()"
   ]
  },
  {
   "cell_type": "code",
   "execution_count": 42,
   "id": "f697218c",
   "metadata": {},
   "outputs": [
    {
     "data": {
      "text/plain": [
       "1.9541711864406779"
      ]
     },
     "execution_count": 42,
     "metadata": {},
     "output_type": "execute_result"
    }
   ],
   "source": [
    "mean_absolute_error(Y_test, test_data_prediction)"
   ]
  },
  {
   "cell_type": "code",
   "execution_count": 43,
   "id": "28dc210f",
   "metadata": {},
   "outputs": [],
   "source": [
    "rms = sqrt(mean_squared_error(Y_test, test_data_prediction))"
   ]
  },
  {
   "cell_type": "code",
   "execution_count": 44,
   "id": "a29d61c0",
   "metadata": {},
   "outputs": [
    {
     "name": "stdout",
     "output_type": "stream",
     "text": [
      "2.4893603924621526\n"
     ]
    }
   ],
   "source": [
    "print(rms)"
   ]
  },
  {
   "cell_type": "code",
   "execution_count": 45,
   "id": "3c3d7356",
   "metadata": {},
   "outputs": [
    {
     "name": "stdout",
     "output_type": "stream",
     "text": [
      "R squared error :  0.45620764610716746\n"
     ]
    }
   ],
   "source": [
    "# R squared error\n",
    "error_score = metrics.r2_score(Y_test, test_data_prediction)\n",
    "print(\"R squared error : \", error_score)"
   ]
  },
  {
   "cell_type": "code",
   "execution_count": 46,
   "id": "5df978ce",
   "metadata": {},
   "outputs": [],
   "source": [
    "def smape(actual, predicted):\n",
    "    \"\"\"\n",
    "    Calculate SMAPE (Symmetric Mean Absolute Percentage Error) for actual and predicted values.\n",
    "    \"\"\"\n",
    "    actual = np.array(actual)\n",
    "    predicted = np.array(predicted)\n",
    "    return 100/len(actual) * np.sum(2 * np.abs(predicted - actual) / (np.abs(actual) + np.abs(predicted)))\n"
   ]
  },
  {
   "cell_type": "code",
   "execution_count": 47,
   "id": "4ebfe0d4",
   "metadata": {},
   "outputs": [
    {
     "name": "stdout",
     "output_type": "stream",
     "text": [
      "SMAPE score:  39.053517687095955\n"
     ]
    }
   ],
   "source": [
    "smape_score = smape(Y_test, test_data_prediction)\n",
    "print(\"SMAPE score: \", smape_score)"
   ]
  },
  {
   "cell_type": "markdown",
   "id": "0fa69893",
   "metadata": {},
   "source": [
    "#SVM "
   ]
  },
  {
   "cell_type": "code",
   "execution_count": 48,
   "id": "64e97c93",
   "metadata": {},
   "outputs": [
    {
     "data": {
      "text/html": [
       "<style>#sk-container-id-4 {color: black;background-color: white;}#sk-container-id-4 pre{padding: 0;}#sk-container-id-4 div.sk-toggleable {background-color: white;}#sk-container-id-4 label.sk-toggleable__label {cursor: pointer;display: block;width: 100%;margin-bottom: 0;padding: 0.3em;box-sizing: border-box;text-align: center;}#sk-container-id-4 label.sk-toggleable__label-arrow:before {content: \"▸\";float: left;margin-right: 0.25em;color: #696969;}#sk-container-id-4 label.sk-toggleable__label-arrow:hover:before {color: black;}#sk-container-id-4 div.sk-estimator:hover label.sk-toggleable__label-arrow:before {color: black;}#sk-container-id-4 div.sk-toggleable__content {max-height: 0;max-width: 0;overflow: hidden;text-align: left;background-color: #f0f8ff;}#sk-container-id-4 div.sk-toggleable__content pre {margin: 0.2em;color: black;border-radius: 0.25em;background-color: #f0f8ff;}#sk-container-id-4 input.sk-toggleable__control:checked~div.sk-toggleable__content {max-height: 200px;max-width: 100%;overflow: auto;}#sk-container-id-4 input.sk-toggleable__control:checked~label.sk-toggleable__label-arrow:before {content: \"▾\";}#sk-container-id-4 div.sk-estimator input.sk-toggleable__control:checked~label.sk-toggleable__label {background-color: #d4ebff;}#sk-container-id-4 div.sk-label input.sk-toggleable__control:checked~label.sk-toggleable__label {background-color: #d4ebff;}#sk-container-id-4 input.sk-hidden--visually {border: 0;clip: rect(1px 1px 1px 1px);clip: rect(1px, 1px, 1px, 1px);height: 1px;margin: -1px;overflow: hidden;padding: 0;position: absolute;width: 1px;}#sk-container-id-4 div.sk-estimator {font-family: monospace;background-color: #f0f8ff;border: 1px dotted black;border-radius: 0.25em;box-sizing: border-box;margin-bottom: 0.5em;}#sk-container-id-4 div.sk-estimator:hover {background-color: #d4ebff;}#sk-container-id-4 div.sk-parallel-item::after {content: \"\";width: 100%;border-bottom: 1px solid gray;flex-grow: 1;}#sk-container-id-4 div.sk-label:hover label.sk-toggleable__label {background-color: #d4ebff;}#sk-container-id-4 div.sk-serial::before {content: \"\";position: absolute;border-left: 1px solid gray;box-sizing: border-box;top: 0;bottom: 0;left: 50%;z-index: 0;}#sk-container-id-4 div.sk-serial {display: flex;flex-direction: column;align-items: center;background-color: white;padding-right: 0.2em;padding-left: 0.2em;position: relative;}#sk-container-id-4 div.sk-item {position: relative;z-index: 1;}#sk-container-id-4 div.sk-parallel {display: flex;align-items: stretch;justify-content: center;background-color: white;position: relative;}#sk-container-id-4 div.sk-item::before, #sk-container-id-4 div.sk-parallel-item::before {content: \"\";position: absolute;border-left: 1px solid gray;box-sizing: border-box;top: 0;bottom: 0;left: 50%;z-index: -1;}#sk-container-id-4 div.sk-parallel-item {display: flex;flex-direction: column;z-index: 1;position: relative;background-color: white;}#sk-container-id-4 div.sk-parallel-item:first-child::after {align-self: flex-end;width: 50%;}#sk-container-id-4 div.sk-parallel-item:last-child::after {align-self: flex-start;width: 50%;}#sk-container-id-4 div.sk-parallel-item:only-child::after {width: 0;}#sk-container-id-4 div.sk-dashed-wrapped {border: 1px dashed gray;margin: 0 0.4em 0.5em 0.4em;box-sizing: border-box;padding-bottom: 0.4em;background-color: white;}#sk-container-id-4 div.sk-label label {font-family: monospace;font-weight: bold;display: inline-block;line-height: 1.2em;}#sk-container-id-4 div.sk-label-container {text-align: center;}#sk-container-id-4 div.sk-container {/* jupyter's `normalize.less` sets `[hidden] { display: none; }` but bootstrap.min.css set `[hidden] { display: none !important; }` so we also need the `!important` here to be able to override the default hidden behavior on the sphinx rendered scikit-learn.org. See: https://github.com/scikit-learn/scikit-learn/issues/21755 */display: inline-block !important;position: relative;}#sk-container-id-4 div.sk-text-repr-fallback {display: none;}</style><div id=\"sk-container-id-4\" class=\"sk-top-container\"><div class=\"sk-text-repr-fallback\"><pre>SVR(C=10, gamma=0.1)</pre><b>In a Jupyter environment, please rerun this cell to show the HTML representation or trust the notebook. <br />On GitHub, the HTML representation is unable to render, please try loading this page with nbviewer.org.</b></div><div class=\"sk-container\" hidden><div class=\"sk-item\"><div class=\"sk-estimator sk-toggleable\"><input class=\"sk-toggleable__control sk-hidden--visually\" id=\"sk-estimator-id-4\" type=\"checkbox\" checked><label for=\"sk-estimator-id-4\" class=\"sk-toggleable__label sk-toggleable__label-arrow\">SVR</label><div class=\"sk-toggleable__content\"><pre>SVR(C=10, gamma=0.1)</pre></div></div></div></div></div>"
      ],
      "text/plain": [
       "SVR(C=10, gamma=0.1)"
      ]
     },
     "execution_count": 48,
     "metadata": {},
     "output_type": "execute_result"
    }
   ],
   "source": [
    "svr = SVR(kernel='rbf', C=10, gamma=0.1, epsilon=0.1)\n",
    "svr.fit(X_train,Y_train)"
   ]
  },
  {
   "cell_type": "code",
   "execution_count": 49,
   "id": "c4238f1c",
   "metadata": {},
   "outputs": [],
   "source": [
    "y_pred = svr.predict(X_test)\n",
    "mse = mean_squared_error(Y_test, y_pred)"
   ]
  },
  {
   "cell_type": "code",
   "execution_count": 50,
   "id": "f62823e3",
   "metadata": {},
   "outputs": [
    {
     "name": "stdout",
     "output_type": "stream",
     "text": [
      "[ 6.06068843  0.74930812  4.94040566  8.96444189  3.06740077  7.50910852\n",
      "  1.81438464  1.43478326  6.38781749  8.06531971  8.45082991  7.29694642\n",
      "  8.00305765 10.76871559  5.66366266  1.60952428  4.28436334  5.29897391\n",
      "  7.90667293  5.20196579  9.16733866  7.24024546  7.64762653 10.42652505\n",
      "  5.84096658  5.0993704   1.36478724  5.60062292  5.40305115  6.14694985\n",
      "  1.07020227  7.75880423  5.96797089  2.72541384 11.31253994  1.17609245\n",
      "  2.8428638   0.83774709  7.20037209  8.6144473   3.2145753   7.4474491\n",
      "  4.85832944  2.27154491  2.0334488   1.71003916  0.98804311  5.23142907\n",
      "  9.53900384  3.9627493   0.76844673  8.91044699 11.64315354  2.74180583\n",
      "  3.61550272  6.11291092  9.37933057  7.2178232  11.50568143]\n"
     ]
    }
   ],
   "source": [
    "print(y_pred)"
   ]
  },
  {
   "cell_type": "code",
   "execution_count": 51,
   "id": "930dcac6",
   "metadata": {},
   "outputs": [],
   "source": [
    "Y_test = list(Y_test)"
   ]
  },
  {
   "cell_type": "code",
   "execution_count": 52,
   "id": "87bc8add",
   "metadata": {},
   "outputs": [
    {
     "data": {
      "image/png": "[encoded data removed]",
      "text/plain": [
       "<Figure size 640x480 with 1 Axes>"
      ]
     },
     "metadata": {},
     "output_type": "display_data"
    }
   ],
   "source": [
    "plt.plot(Y_test, color='blue', label = 'Actual Value')\n",
    "plt.plot(y_pred, color='green', label='Predicted Value')\n",
    "plt.title('Actual  vs Predicted ')\n",
    "plt.xlabel('Number of values')\n",
    "plt.ylabel('Session Length')\n",
    "plt.legend()\n",
    "plt.show()"
   ]
  },
  {
   "cell_type": "code",
   "execution_count": 53,
   "id": "1df31b21",
   "metadata": {},
   "outputs": [
    {
     "data": {
      "text/plain": [
       "1.8162879946293145"
      ]
     },
     "execution_count": 53,
     "metadata": {},
     "output_type": "execute_result"
    }
   ],
   "source": [
    "mean_absolute_error(Y_test, y_pred)"
   ]
  },
  {
   "cell_type": "code",
   "execution_count": 54,
   "id": "51207439",
   "metadata": {},
   "outputs": [],
   "source": [
    "rms = sqrt(mean_squared_error(Y_test, y_pred))"
   ]
  },
  {
   "cell_type": "code",
   "execution_count": 55,
   "id": "97379bf9",
   "metadata": {},
   "outputs": [
    {
     "name": "stdout",
     "output_type": "stream",
     "text": [
      "2.428334712143846\n"
     ]
    }
   ],
   "source": [
    "print(rms)"
   ]
  },
  {
   "cell_type": "code",
   "execution_count": 56,
   "id": "33eb3c3c",
   "metadata": {},
   "outputs": [
    {
     "name": "stdout",
     "output_type": "stream",
     "text": [
      "R squared error :  0.4825425522539407\n"
     ]
    }
   ],
   "source": [
    "# R squared error\n",
    "error_score = metrics.r2_score(Y_test, y_pred)\n",
    "print(\"R squared error : \", error_score)"
   ]
  },
  {
   "cell_type": "code",
   "execution_count": 57,
   "id": "f5360828",
   "metadata": {},
   "outputs": [
    {
     "name": "stdout",
     "output_type": "stream",
     "text": [
      "SMAPE score:  34.97896395105777\n"
     ]
    }
   ],
   "source": [
    "smape_score = smape(Y_test, y_pred)\n",
    "print(\"SMAPE score: \", smape_score)"
   ]
  },
  {
   "cell_type": "markdown",
   "id": "5d156f24",
   "metadata": {},
   "source": [
    "#XGB"
   ]
  },
  {
   "cell_type": "code",
   "execution_count": 58,
   "id": "96b61c97",
   "metadata": {},
   "outputs": [],
   "source": [
    "# loading the model\n",
    "xb_model = XGBRegressor()"
   ]
  },
  {
   "cell_type": "code",
   "execution_count": 59,
   "id": "681eed80",
   "metadata": {},
   "outputs": [
    {
     "data": {
      "text/html": [
       "<style>#sk-container-id-5 {color: black;background-color: white;}#sk-container-id-5 pre{padding: 0;}#sk-container-id-5 div.sk-toggleable {background-color: white;}#sk-container-id-5 label.sk-toggleable__label {cursor: pointer;display: block;width: 100%;margin-bottom: 0;padding: 0.3em;box-sizing: border-box;text-align: center;}#sk-container-id-5 label.sk-toggleable__label-arrow:before {content: \"▸\";float: left;margin-right: 0.25em;color: #696969;}#sk-container-id-5 label.sk-toggleable__label-arrow:hover:before {color: black;}#sk-container-id-5 div.sk-estimator:hover label.sk-toggleable__label-arrow:before {color: black;}#sk-container-id-5 div.sk-toggleable__content {max-height: 0;max-width: 0;overflow: hidden;text-align: left;background-color: #f0f8ff;}#sk-container-id-5 div.sk-toggleable__content pre {margin: 0.2em;color: black;border-radius: 0.25em;background-color: #f0f8ff;}#sk-container-id-5 input.sk-toggleable__control:checked~div.sk-toggleable__content {max-height: 200px;max-width: 100%;overflow: auto;}#sk-container-id-5 input.sk-toggleable__control:checked~label.sk-toggleable__label-arrow:before {content: \"▾\";}#sk-container-id-5 div.sk-estimator input.sk-toggleable__control:checked~label.sk-toggleable__label {background-color: #d4ebff;}#sk-container-id-5 div.sk-label input.sk-toggleable__control:checked~label.sk-toggleable__label {background-color: #d4ebff;}#sk-container-id-5 input.sk-hidden--visually {border: 0;clip: rect(1px 1px 1px 1px);clip: rect(1px, 1px, 1px, 1px);height: 1px;margin: -1px;overflow: hidden;padding: 0;position: absolute;width: 1px;}#sk-container-id-5 div.sk-estimator {font-family: monospace;background-color: #f0f8ff;border: 1px dotted black;border-radius: 0.25em;box-sizing: border-box;margin-bottom: 0.5em;}#sk-container-id-5 div.sk-estimator:hover {background-color: #d4ebff;}#sk-container-id-5 div.sk-parallel-item::after {content: \"\";width: 100%;border-bottom: 1px solid gray;flex-grow: 1;}#sk-container-id-5 div.sk-label:hover label.sk-toggleable__label {background-color: #d4ebff;}#sk-container-id-5 div.sk-serial::before {content: \"\";position: absolute;border-left: 1px solid gray;box-sizing: border-box;top: 0;bottom: 0;left: 50%;z-index: 0;}#sk-container-id-5 div.sk-serial {display: flex;flex-direction: column;align-items: center;background-color: white;padding-right: 0.2em;padding-left: 0.2em;position: relative;}#sk-container-id-5 div.sk-item {position: relative;z-index: 1;}#sk-container-id-5 div.sk-parallel {display: flex;align-items: stretch;justify-content: center;background-color: white;position: relative;}#sk-container-id-5 div.sk-item::before, #sk-container-id-5 div.sk-parallel-item::before {content: \"\";position: absolute;border-left: 1px solid gray;box-sizing: border-box;top: 0;bottom: 0;left: 50%;z-index: -1;}#sk-container-id-5 div.sk-parallel-item {display: flex;flex-direction: column;z-index: 1;position: relative;background-color: white;}#sk-container-id-5 div.sk-parallel-item:first-child::after {align-self: flex-end;width: 50%;}#sk-container-id-5 div.sk-parallel-item:last-child::after {align-self: flex-start;width: 50%;}#sk-container-id-5 div.sk-parallel-item:only-child::after {width: 0;}#sk-container-id-5 div.sk-dashed-wrapped {border: 1px dashed gray;margin: 0 0.4em 0.5em 0.4em;box-sizing: border-box;padding-bottom: 0.4em;background-color: white;}#sk-container-id-5 div.sk-label label {font-family: monospace;font-weight: bold;display: inline-block;line-height: 1.2em;}#sk-container-id-5 div.sk-label-container {text-align: center;}#sk-container-id-5 div.sk-container {/* jupyter's `normalize.less` sets `[hidden] { display: none; }` but bootstrap.min.css set `[hidden] { display: none !important; }` so we also need the `!important` here to be able to override the default hidden behavior on the sphinx rendered scikit-learn.org. See: https://github.com/scikit-learn/scikit-learn/issues/21755 */display: inline-block !important;position: relative;}#sk-container-id-5 div.sk-text-repr-fallback {display: none;}</style><div id=\"sk-container-id-5\" class=\"sk-top-container\"><div class=\"sk-text-repr-fallback\"><pre>XGBRegressor(base_score=None, booster=None, callbacks=None,\n",
       "             colsample_bylevel=None, colsample_bynode=None,\n",
       "             colsample_bytree=None, early_stopping_rounds=None,\n",
       "             enable_categorical=False, eval_metric=None, feature_types=None,\n",
       "             gamma=None, gpu_id=None, grow_policy=None, importance_type=None,\n",
       "             interaction_constraints=None, learning_rate=None, max_bin=None,\n",
       "             max_cat_threshold=None, max_cat_to_onehot=None,\n",
       "             max_delta_step=None, max_depth=None, max_leaves=None,\n",
       "             min_child_weight=None, missing=nan, monotone_constraints=None,\n",
       "             n_estimators=100, n_jobs=None, num_parallel_tree=None,\n",
       "             predictor=None, random_state=None, ...)</pre><b>In a Jupyter environment, please rerun this cell to show the HTML representation or trust the notebook. <br />On GitHub, the HTML representation is unable to render, please try loading this page with nbviewer.org.</b></div><div class=\"sk-container\" hidden><div class=\"sk-item\"><div class=\"sk-estimator sk-toggleable\"><input class=\"sk-toggleable__control sk-hidden--visually\" id=\"sk-estimator-id-5\" type=\"checkbox\" checked><label for=\"sk-estimator-id-5\" class=\"sk-toggleable__label sk-toggleable__label-arrow\">XGBRegressor</label><div class=\"sk-toggleable__content\"><pre>XGBRegressor(base_score=None, booster=None, callbacks=None,\n",
       "             colsample_bylevel=None, colsample_bynode=None,\n",
       "             colsample_bytree=None, early_stopping_rounds=None,\n",
       "             enable_categorical=False, eval_metric=None, feature_types=None,\n",
       "             gamma=None, gpu_id=None, grow_policy=None, importance_type=None,\n",
       "             interaction_constraints=None, learning_rate=None, max_bin=None,\n",
       "             max_cat_threshold=None, max_cat_to_onehot=None,\n",
       "             max_delta_step=None, max_depth=None, max_leaves=None,\n",
       "             min_child_weight=None, missing=nan, monotone_constraints=None,\n",
       "             n_estimators=100, n_jobs=None, num_parallel_tree=None,\n",
       "             predictor=None, random_state=None, ...)</pre></div></div></div></div></div>"
      ],
      "text/plain": [
       "XGBRegressor(base_score=None, booster=None, callbacks=None,\n",
       "             colsample_bylevel=None, colsample_bynode=None,\n",
       "             colsample_bytree=None, early_stopping_rounds=None,\n",
       "             enable_categorical=False, eval_metric=None, feature_types=None,\n",
       "             gamma=None, gpu_id=None, grow_policy=None, importance_type=None,\n",
       "             interaction_constraints=None, learning_rate=None, max_bin=None,\n",
       "             max_cat_threshold=None, max_cat_to_onehot=None,\n",
       "             max_delta_step=None, max_depth=None, max_leaves=None,\n",
       "             min_child_weight=None, missing=nan, monotone_constraints=None,\n",
       "             n_estimators=100, n_jobs=None, num_parallel_tree=None,\n",
       "             predictor=None, random_state=None, ...)"
      ]
     },
     "execution_count": 59,
     "metadata": {},
     "output_type": "execute_result"
    }
   ],
   "source": [
    "# training the model with X_train\n",
    "xb_model.fit(X_train, Y_train)"
   ]
  },
  {
   "cell_type": "code",
   "execution_count": 60,
   "id": "9e86d343",
   "metadata": {},
   "outputs": [],
   "source": [
    "test_prediction = xb_model.predict(X_test)"
   ]
  },
  {
   "cell_type": "code",
   "execution_count": 61,
   "id": "9df529dd",
   "metadata": {},
   "outputs": [
    {
     "name": "stdout",
     "output_type": "stream",
     "text": [
      "[ 6.3077583  4.3432145  1.5521593  8.309793   2.7202122  7.2275567\n",
      "  4.4282255  1.3374788  6.1080728  7.531396   8.543931   6.204812\n",
      "  7.355279   9.771929   5.0744452  0.6644572  4.0501156  7.352615\n",
      "  8.782071   1.7831707  8.096593   7.885497   4.062313   9.5156\n",
      "  5.3649282  3.9492385  4.9269414  5.355741   5.654082   5.5457015\n",
      "  2.2236662  4.014047   8.553096   4.305997  10.58561    1.9722611\n",
      "  4.037724   4.140648   7.0572023  8.273492   1.3329695  7.260558\n",
      "  1.2998586  3.8178704  3.1527944  3.587361   7.018473   5.960291\n",
      "  8.682178   3.6752837  0.6134096  8.359484  11.064021   2.4062073\n",
      "  7.7041945  8.400012   7.9376793  3.0426471  8.838589 ]\n"
     ]
    }
   ],
   "source": [
    "print(test_prediction)"
   ]
  },
  {
   "cell_type": "code",
   "execution_count": 62,
   "id": "d6a92fde",
   "metadata": {},
   "outputs": [],
   "source": [
    "Y_test = list(Y_test)"
   ]
  },
  {
   "cell_type": "code",
   "execution_count": 63,
   "id": "d9669083",
   "metadata": {},
   "outputs": [
    {
     "data": {
      "image/png": "[encoded data removed]",
      "text/plain": [
       "<Figure size 640x480 with 1 Axes>"
      ]
     },
     "metadata": {},
     "output_type": "display_data"
    }
   ],
   "source": [
    "plt.plot(Y_test, color='blue', label = 'Actual Value')\n",
    "plt.plot(test_prediction, color='green', label='Predicted Value')\n",
    "plt.title('Actual vs Predicted')\n",
    "plt.xlabel('Number of values')\n",
    "plt.ylabel('Session Length')\n",
    "plt.legend()\n",
    "plt.show()"
   ]
  },
  {
   "cell_type": "code",
   "execution_count": 64,
   "id": "20eee23d",
   "metadata": {},
   "outputs": [
    {
     "data": {
      "text/plain": [
       "2.2784406689061956"
      ]
     },
     "execution_count": 64,
     "metadata": {},
     "output_type": "execute_result"
    }
   ],
   "source": [
    "mean_absolute_error(Y_test, test_prediction)"
   ]
  },
  {
   "cell_type": "code",
   "execution_count": 65,
   "id": "80f41965",
   "metadata": {},
   "outputs": [],
   "source": [
    "rms = sqrt(mean_squared_error(Y_test, test_prediction))"
   ]
  },
  {
   "cell_type": "code",
   "execution_count": 66,
   "id": "5bbf4b33",
   "metadata": {},
   "outputs": [
    {
     "name": "stdout",
     "output_type": "stream",
     "text": [
      "2.8713194387458545\n"
     ]
    }
   ],
   "source": [
    "print(rms)"
   ]
  },
  {
   "cell_type": "code",
   "execution_count": 67,
   "id": "420fe4f1",
   "metadata": {},
   "outputs": [
    {
     "name": "stdout",
     "output_type": "stream",
     "text": [
      "R squared error :  0.27652993107473534\n"
     ]
    }
   ],
   "source": [
    "# R squared error\n",
    "error_score = metrics.r2_score(Y_test, test_prediction)\n",
    "print(\"R squared error : \", error_score)"
   ]
  },
  {
   "cell_type": "code",
   "execution_count": 68,
   "id": "b6439721",
   "metadata": {},
   "outputs": [
    {
     "name": "stdout",
     "output_type": "stream",
     "text": [
      "SMAPE score:  48.29211538869077\n"
     ]
    }
   ],
   "source": [
    "smape_score = smape(Y_test, test_prediction)\n",
    "print(\"SMAPE score: \", smape_score)"
   ]
  },
  {
   "cell_type": "markdown",
   "id": "f3dc4b89",
   "metadata": {},
   "source": [
    "#ANN"
   ]
  },
  {
   "cell_type": "code",
   "execution_count": 69,
   "id": "e4fc1264",
   "metadata": {},
   "outputs": [],
   "source": [
    "X_train, X_test, Y_train, Y_test = train_test_split(X, Y, test_size = 0.2, random_state=2)"
   ]
  },
  {
   "cell_type": "code",
   "execution_count": 70,
   "id": "a21b54f5",
   "metadata": {},
   "outputs": [],
   "source": [
    "# layers\n",
    "model=Sequential()\n",
    "model.add(Dense(units = 10, kernel_initializer = 'uniform', activation = 'relu', input_dim = 10))\n",
    "model.add(Dense(units = 64, kernel_initializer = 'uniform', activation = 'relu'))\n",
    "model.add(Dense(units = 32, kernel_initializer = 'uniform', activation = 'relu'))\n",
    "model.add(Dense(units = 16, kernel_initializer = 'uniform', activation = 'relu'))\n",
    "model.add(Dense(units = 1, kernel_initializer = 'uniform', activation = 'linear'))"
   ]
  },
  {
   "cell_type": "code",
   "execution_count": 71,
   "id": "d87da162",
   "metadata": {},
   "outputs": [],
   "source": [
    "# Compile the model\n",
    "model.compile(loss='mean_absolute_error',optimizer='adam')"
   ]
  },
  {
   "cell_type": "code",
   "execution_count": 72,
   "id": "e445c837",
   "metadata": {},
   "outputs": [
    {
     "name": "stdout",
     "output_type": "stream",
     "text": [
      "Epoch 1/15\n",
      "6/6 [==============================] - 2s 70ms/step - loss: 5.3743 - val_loss: 5.1764\n",
      "Epoch 2/15\n",
      "6/6 [==============================] - 0s 13ms/step - loss: 5.3660 - val_loss: 5.1672\n",
      "Epoch 3/15\n",
      "6/6 [==============================] - 0s 13ms/step - loss: 5.3559 - val_loss: 5.1554\n",
      "Epoch 4/15\n",
      "6/6 [==============================] - 0s 10ms/step - loss: 5.3424 - val_loss: 5.1386\n",
      "Epoch 5/15\n",
      "6/6 [==============================] - 0s 11ms/step - loss: 5.3224 - val_loss: 5.1121\n",
      "Epoch 6/15\n",
      "6/6 [==============================] - 0s 11ms/step - loss: 5.2898 - val_loss: 5.0667\n",
      "Epoch 7/15\n",
      "6/6 [==============================] - 0s 11ms/step - loss: 5.2338 - val_loss: 4.9904\n",
      "Epoch 8/15\n",
      "6/6 [==============================] - 0s 15ms/step - loss: 5.1345 - val_loss: 4.8593\n",
      "Epoch 9/15\n",
      "6/6 [==============================] - 0s 16ms/step - loss: 4.9640 - val_loss: 4.6363\n",
      "Epoch 10/15\n",
      "6/6 [==============================] - 0s 16ms/step - loss: 4.6912 - val_loss: 4.2890\n",
      "Epoch 11/15\n",
      "6/6 [==============================] - 0s 11ms/step - loss: 4.2791 - val_loss: 3.7867\n",
      "Epoch 12/15\n",
      "6/6 [==============================] - 0s 10ms/step - loss: 3.6935 - val_loss: 3.1533\n",
      "Epoch 13/15\n",
      "6/6 [==============================] - 0s 14ms/step - loss: 3.0471 - val_loss: 2.7514\n",
      "Epoch 14/15\n",
      "6/6 [==============================] - 0s 15ms/step - loss: 2.6967 - val_loss: 2.5947\n",
      "Epoch 15/15\n",
      "6/6 [==============================] - 0s 15ms/step - loss: 2.7143 - val_loss: 2.5866\n"
     ]
    },
    {
     "data": {
      "text/plain": [
       "<keras.callbacks.History at 0x1edc451b3d0>"
      ]
     },
     "execution_count": 72,
     "metadata": {},
     "output_type": "execute_result"
    }
   ],
   "source": [
    "# Train the model on the training dataset\n",
    "model.fit(X_train, Y_train, epochs=15, batch_size=32, validation_split=0.2)"
   ]
  },
  {
   "cell_type": "code",
   "execution_count": 73,
   "id": "adc9127d",
   "metadata": {},
   "outputs": [
    {
     "name": "stdout",
     "output_type": "stream",
     "text": [
      "2/2 [==============================] - 0s 3ms/step\n"
     ]
    }
   ],
   "source": [
    "# Use the trained model to make predictions on the test dataset\n",
    "Y_pred = model.predict(X_test)"
   ]
  },
  {
   "cell_type": "code",
   "execution_count": 74,
   "id": "4c087926",
   "metadata": {},
   "outputs": [
    {
     "name": "stdout",
     "output_type": "stream",
     "text": [
      "[[6.537935 ]\n",
      " [3.3794315]\n",
      " [7.0500226]\n",
      " [6.5083394]\n",
      " [3.7663584]\n",
      " [6.9763336]\n",
      " [3.2449841]\n",
      " [4.766053 ]\n",
      " [5.4627714]\n",
      " [8.737131 ]\n",
      " [6.538011 ]\n",
      " [5.891984 ]\n",
      " [5.8633184]\n",
      " [7.928792 ]\n",
      " [5.467697 ]\n",
      " [3.2524369]\n",
      " [7.8467283]\n",
      " [5.9677706]\n",
      " [6.341749 ]\n",
      " [6.238586 ]\n",
      " [6.431058 ]\n",
      " [5.508128 ]\n",
      " [6.8524995]\n",
      " [7.9206767]\n",
      " [5.620012 ]\n",
      " [6.02147  ]\n",
      " [2.6988945]\n",
      " [6.5648513]\n",
      " [6.440062 ]\n",
      " [6.79603  ]\n",
      " [3.272563 ]\n",
      " [5.4904423]\n",
      " [5.7596064]\n",
      " [3.5293791]\n",
      " [7.82882  ]\n",
      " [2.9780731]\n",
      " [3.5661829]\n",
      " [3.1185923]\n",
      " [5.4098144]\n",
      " [6.4878464]\n",
      " [6.986909 ]\n",
      " [5.778661 ]\n",
      " [9.061384 ]\n",
      " [5.0263286]\n",
      " [2.5783453]\n",
      " [3.3552766]\n",
      " [4.7258286]\n",
      " [5.9712095]\n",
      " [4.775316 ]\n",
      " [3.7240295]\n",
      " [3.2048044]\n",
      " [6.5647244]\n",
      " [7.8313885]\n",
      " [3.000465 ]\n",
      " [3.4992232]\n",
      " [8.78599  ]\n",
      " [5.7010336]\n",
      " [6.0226564]\n",
      " [7.803857 ]]\n"
     ]
    }
   ],
   "source": [
    "print(Y_pred)"
   ]
  },
  {
   "cell_type": "code",
   "execution_count": 75,
   "id": "9e369a74",
   "metadata": {},
   "outputs": [
    {
     "data": {
      "text/plain": [
       "2.1623703565435894"
      ]
     },
     "execution_count": 75,
     "metadata": {},
     "output_type": "execute_result"
    }
   ],
   "source": [
    "mean_absolute_error(Y_test, Y_pred)"
   ]
  },
  {
   "cell_type": "code",
   "execution_count": 76,
   "id": "71cf80b4",
   "metadata": {},
   "outputs": [],
   "source": [
    "rms = sqrt(mean_squared_error(Y_test, Y_pred))"
   ]
  },
  {
   "cell_type": "code",
   "execution_count": 77,
   "id": "261acf32",
   "metadata": {},
   "outputs": [
    {
     "name": "stdout",
     "output_type": "stream",
     "text": [
      "2.643604849494429\n"
     ]
    }
   ],
   "source": [
    "print(rms)"
   ]
  },
  {
   "cell_type": "code",
   "execution_count": 79,
   "id": "174ab4fd",
   "metadata": {},
   "outputs": [
    {
     "name": "stdout",
     "output_type": "stream",
     "text": [
      "R squared error :  0.3867315454576281\n"
     ]
    }
   ],
   "source": [
    "# R squared error\n",
    "error_score = metrics.r2_score(Y_test, Y_pred)\n",
    "print(\"R squared error : \", error_score)"
   ]
  },
  {
   "cell_type": "code",
   "execution_count": 80,
   "id": "fcb85731",
   "metadata": {},
   "outputs": [],
   "source": [
    "def smape(actual, predicted):\n",
    "    \"\"\"\n",
    "    Calculate SMAPE (Symmetric Mean Absolute Percentage Error) for actual and predicted values.\n",
    "    \"\"\"\n",
    "    actual = np.array(actual)\n",
    "    predicted = np.array(predicted)\n",
    "    return np.mean((np.abs(actual - predicted) / (np.abs(actual) + np.abs(predicted))) * 2) * 100"
   ]
  },
  {
   "cell_type": "code",
   "execution_count": 81,
   "id": "634b1ea2",
   "metadata": {},
   "outputs": [
    {
     "name": "stdout",
     "output_type": "stream",
     "text": [
      "SMAPE score: 34.97896395105777\n"
     ]
    }
   ],
   "source": [
    "smape_score = smape(Y_test, y_pred)\n",
    "print(\"SMAPE score:\", smape_score)"
   ]
  },
  {
   "cell_type": "markdown",
   "id": "def1e20e",
   "metadata": {},
   "source": [
    "# Ensemble Learning"
   ]
  },
  {
   "cell_type": "code",
   "execution_count": 82,
   "id": "cd3ec1d5",
   "metadata": {},
   "outputs": [
    {
     "data": {
      "text/html": [
       "<style>#sk-container-id-6 {color: black;background-color: white;}#sk-container-id-6 pre{padding: 0;}#sk-container-id-6 div.sk-toggleable {background-color: white;}#sk-container-id-6 label.sk-toggleable__label {cursor: pointer;display: block;width: 100%;margin-bottom: 0;padding: 0.3em;box-sizing: border-box;text-align: center;}#sk-container-id-6 label.sk-toggleable__label-arrow:before {content: \"▸\";float: left;margin-right: 0.25em;color: #696969;}#sk-container-id-6 label.sk-toggleable__label-arrow:hover:before {color: black;}#sk-container-id-6 div.sk-estimator:hover label.sk-toggleable__label-arrow:before {color: black;}#sk-container-id-6 div.sk-toggleable__content {max-height: 0;max-width: 0;overflow: hidden;text-align: left;background-color: #f0f8ff;}#sk-container-id-6 div.sk-toggleable__content pre {margin: 0.2em;color: black;border-radius: 0.25em;background-color: #f0f8ff;}#sk-container-id-6 input.sk-toggleable__control:checked~div.sk-toggleable__content {max-height: 200px;max-width: 100%;overflow: auto;}#sk-container-id-6 input.sk-toggleable__control:checked~label.sk-toggleable__label-arrow:before {content: \"▾\";}#sk-container-id-6 div.sk-estimator input.sk-toggleable__control:checked~label.sk-toggleable__label {background-color: #d4ebff;}#sk-container-id-6 div.sk-label input.sk-toggleable__control:checked~label.sk-toggleable__label {background-color: #d4ebff;}#sk-container-id-6 input.sk-hidden--visually {border: 0;clip: rect(1px 1px 1px 1px);clip: rect(1px, 1px, 1px, 1px);height: 1px;margin: -1px;overflow: hidden;padding: 0;position: absolute;width: 1px;}#sk-container-id-6 div.sk-estimator {font-family: monospace;background-color: #f0f8ff;border: 1px dotted black;border-radius: 0.25em;box-sizing: border-box;margin-bottom: 0.5em;}#sk-container-id-6 div.sk-estimator:hover {background-color: #d4ebff;}#sk-container-id-6 div.sk-parallel-item::after {content: \"\";width: 100%;border-bottom: 1px solid gray;flex-grow: 1;}#sk-container-id-6 div.sk-label:hover label.sk-toggleable__label {background-color: #d4ebff;}#sk-container-id-6 div.sk-serial::before {content: \"\";position: absolute;border-left: 1px solid gray;box-sizing: border-box;top: 0;bottom: 0;left: 50%;z-index: 0;}#sk-container-id-6 div.sk-serial {display: flex;flex-direction: column;align-items: center;background-color: white;padding-right: 0.2em;padding-left: 0.2em;position: relative;}#sk-container-id-6 div.sk-item {position: relative;z-index: 1;}#sk-container-id-6 div.sk-parallel {display: flex;align-items: stretch;justify-content: center;background-color: white;position: relative;}#sk-container-id-6 div.sk-item::before, #sk-container-id-6 div.sk-parallel-item::before {content: \"\";position: absolute;border-left: 1px solid gray;box-sizing: border-box;top: 0;bottom: 0;left: 50%;z-index: -1;}#sk-container-id-6 div.sk-parallel-item {display: flex;flex-direction: column;z-index: 1;position: relative;background-color: white;}#sk-container-id-6 div.sk-parallel-item:first-child::after {align-self: flex-end;width: 50%;}#sk-container-id-6 div.sk-parallel-item:last-child::after {align-self: flex-start;width: 50%;}#sk-container-id-6 div.sk-parallel-item:only-child::after {width: 0;}#sk-container-id-6 div.sk-dashed-wrapped {border: 1px dashed gray;margin: 0 0.4em 0.5em 0.4em;box-sizing: border-box;padding-bottom: 0.4em;background-color: white;}#sk-container-id-6 div.sk-label label {font-family: monospace;font-weight: bold;display: inline-block;line-height: 1.2em;}#sk-container-id-6 div.sk-label-container {text-align: center;}#sk-container-id-6 div.sk-container {/* jupyter's `normalize.less` sets `[hidden] { display: none; }` but bootstrap.min.css set `[hidden] { display: none !important; }` so we also need the `!important` here to be able to override the default hidden behavior on the sphinx rendered scikit-learn.org. See: https://github.com/scikit-learn/scikit-learn/issues/21755 */display: inline-block !important;position: relative;}#sk-container-id-6 div.sk-text-repr-fallback {display: none;}</style><div id=\"sk-container-id-6\" class=\"sk-top-container\"><div class=\"sk-text-repr-fallback\"><pre>StackingRegressor(estimators=[(&#x27;rf&#x27;, RandomForestRegressor()),\n",
       "                              (&#x27;xgb&#x27;,\n",
       "                               XGBRegressor(base_score=None, booster=None,\n",
       "                                            callbacks=None,\n",
       "                                            colsample_bylevel=None,\n",
       "                                            colsample_bynode=None,\n",
       "                                            colsample_bytree=None,\n",
       "                                            early_stopping_rounds=None,\n",
       "                                            enable_categorical=False,\n",
       "                                            eval_metric=None,\n",
       "                                            feature_types=None, gamma=None,\n",
       "                                            gpu_id=None, grow_policy=None,\n",
       "                                            importance_type=None,\n",
       "                                            interaction_constraints=None,\n",
       "                                            learning_rate=None, max_bin=None,\n",
       "                                            max_cat_threshold=None,\n",
       "                                            max_cat_to_onehot=None,\n",
       "                                            max_delta_step=None, max_depth=None,\n",
       "                                            max_leaves=None,\n",
       "                                            min_child_weight=None, missing=nan,\n",
       "                                            monotone_constraints=None,\n",
       "                                            n_estimators=100, n_jobs=None,\n",
       "                                            num_parallel_tree=None,\n",
       "                                            predictor=None, random_state=None, ...))])</pre><b>In a Jupyter environment, please rerun this cell to show the HTML representation or trust the notebook. <br />On GitHub, the HTML representation is unable to render, please try loading this page with nbviewer.org.</b></div><div class=\"sk-container\" hidden><div class=\"sk-item sk-dashed-wrapped\"><div class=\"sk-label-container\"><div class=\"sk-label sk-toggleable\"><input class=\"sk-toggleable__control sk-hidden--visually\" id=\"sk-estimator-id-6\" type=\"checkbox\" ><label for=\"sk-estimator-id-6\" class=\"sk-toggleable__label sk-toggleable__label-arrow\">StackingRegressor</label><div class=\"sk-toggleable__content\"><pre>StackingRegressor(estimators=[(&#x27;rf&#x27;, RandomForestRegressor()),\n",
       "                              (&#x27;xgb&#x27;,\n",
       "                               XGBRegressor(base_score=None, booster=None,\n",
       "                                            callbacks=None,\n",
       "                                            colsample_bylevel=None,\n",
       "                                            colsample_bynode=None,\n",
       "                                            colsample_bytree=None,\n",
       "                                            early_stopping_rounds=None,\n",
       "                                            enable_categorical=False,\n",
       "                                            eval_metric=None,\n",
       "                                            feature_types=None, gamma=None,\n",
       "                                            gpu_id=None, grow_policy=None,\n",
       "                                            importance_type=None,\n",
       "                                            interaction_constraints=None,\n",
       "                                            learning_rate=None, max_bin=None,\n",
       "                                            max_cat_threshold=None,\n",
       "                                            max_cat_to_onehot=None,\n",
       "                                            max_delta_step=None, max_depth=None,\n",
       "                                            max_leaves=None,\n",
       "                                            min_child_weight=None, missing=nan,\n",
       "                                            monotone_constraints=None,\n",
       "                                            n_estimators=100, n_jobs=None,\n",
       "                                            num_parallel_tree=None,\n",
       "                                            predictor=None, random_state=None, ...))])</pre></div></div></div><div class=\"sk-serial\"><div class=\"sk-item\"><div class=\"sk-parallel\"><div class=\"sk-parallel-item\"><div class=\"sk-item\"><div class=\"sk-label-container\"><div class=\"sk-label sk-toggleable\"><label>rf</label></div></div><div class=\"sk-serial\"><div class=\"sk-item\"><div class=\"sk-estimator sk-toggleable\"><input class=\"sk-toggleable__control sk-hidden--visually\" id=\"sk-estimator-id-7\" type=\"checkbox\" ><label for=\"sk-estimator-id-7\" class=\"sk-toggleable__label sk-toggleable__label-arrow\">RandomForestRegressor</label><div class=\"sk-toggleable__content\"><pre>RandomForestRegressor()</pre></div></div></div></div></div></div><div class=\"sk-parallel-item\"><div class=\"sk-item\"><div class=\"sk-label-container\"><div class=\"sk-label sk-toggleable\"><label>xgb</label></div></div><div class=\"sk-serial\"><div class=\"sk-item\"><div class=\"sk-estimator sk-toggleable\"><input class=\"sk-toggleable__control sk-hidden--visually\" id=\"sk-estimator-id-8\" type=\"checkbox\" ><label for=\"sk-estimator-id-8\" class=\"sk-toggleable__label sk-toggleable__label-arrow\">XGBRegressor</label><div class=\"sk-toggleable__content\"><pre>XGBRegressor(base_score=None, booster=None, callbacks=None,\n",
       "             colsample_bylevel=None, colsample_bynode=None,\n",
       "             colsample_bytree=None, early_stopping_rounds=None,\n",
       "             enable_categorical=False, eval_metric=None, feature_types=None,\n",
       "             gamma=None, gpu_id=None, grow_policy=None, importance_type=None,\n",
       "             interaction_constraints=None, learning_rate=None, max_bin=None,\n",
       "             max_cat_threshold=None, max_cat_to_onehot=None,\n",
       "             max_delta_step=None, max_depth=None, max_leaves=None,\n",
       "             min_child_weight=None, missing=nan, monotone_constraints=None,\n",
       "             n_estimators=100, n_jobs=None, num_parallel_tree=None,\n",
       "             predictor=None, random_state=None, ...)</pre></div></div></div></div></div></div></div></div><div class=\"sk-item\"><div class=\"sk-parallel\"><div class=\"sk-parallel-item\"><div class=\"sk-item\"><div class=\"sk-label-container\"><div class=\"sk-label sk-toggleable\"><label>final_estimator</label></div></div><div class=\"sk-serial\"><div class=\"sk-item\"><div class=\"sk-estimator sk-toggleable\"><input class=\"sk-toggleable__control sk-hidden--visually\" id=\"sk-estimator-id-9\" type=\"checkbox\" ><label for=\"sk-estimator-id-9\" class=\"sk-toggleable__label sk-toggleable__label-arrow\">RidgeCV</label><div class=\"sk-toggleable__content\"><pre>RidgeCV()</pre></div></div></div></div></div></div></div></div></div></div></div></div>"
      ],
      "text/plain": [
       "StackingRegressor(estimators=[('rf', RandomForestRegressor()),\n",
       "                              ('xgb',\n",
       "                               XGBRegressor(base_score=None, booster=None,\n",
       "                                            callbacks=None,\n",
       "                                            colsample_bylevel=None,\n",
       "                                            colsample_bynode=None,\n",
       "                                            colsample_bytree=None,\n",
       "                                            early_stopping_rounds=None,\n",
       "                                            enable_categorical=False,\n",
       "                                            eval_metric=None,\n",
       "                                            feature_types=None, gamma=None,\n",
       "                                            gpu_id=None, grow_policy=None,\n",
       "                                            importance_type=None,\n",
       "                                            interaction_constraints=None,\n",
       "                                            learning_rate=None, max_bin=None,\n",
       "                                            max_cat_threshold=None,\n",
       "                                            max_cat_to_onehot=None,\n",
       "                                            max_delta_step=None, max_depth=None,\n",
       "                                            max_leaves=None,\n",
       "                                            min_child_weight=None, missing=nan,\n",
       "                                            monotone_constraints=None,\n",
       "                                            n_estimators=100, n_jobs=None,\n",
       "                                            num_parallel_tree=None,\n",
       "                                            predictor=None, random_state=None, ...))])"
      ]
     },
     "execution_count": 82,
     "metadata": {},
     "output_type": "execute_result"
    }
   ],
   "source": [
    "#stack Regressor\n",
    "stack_regressor = StackingRegressor(estimators=[('rf', regressor), ('xgb', xb_model)])\n",
    "stack_regressor.fit(X_train, Y_train)"
   ]
  },
  {
   "cell_type": "code",
   "execution_count": 83,
   "id": "c3fd38a8",
   "metadata": {},
   "outputs": [],
   "source": [
    "predictions = stack_regressor.predict(X_test)"
   ]
  },
  {
   "cell_type": "code",
   "execution_count": 84,
   "id": "d646d83c",
   "metadata": {},
   "outputs": [
    {
     "name": "stdout",
     "output_type": "stream",
     "text": [
      "[6.20720127 4.10881819 3.00504196 7.58068309 3.60784202 6.58373069\n",
      " 4.21211814 2.15680474 6.27418239 6.97552494 7.35586742 5.89301161\n",
      " 6.96269409 8.84544708 5.47451037 2.121858   4.32441493 7.18363634\n",
      " 7.77041486 3.0583757  7.44470725 7.40056408 5.17131956 8.38752656\n",
      " 5.20983028 4.10772295 5.08976974 5.23262066 5.29265159 5.61551861\n",
      " 2.92239617 4.26922849 6.85972953 4.35849101 8.48404961 2.50620593\n",
      " 4.37907532 3.86772321 6.8461765  7.30391187 2.68212705 6.49346528\n",
      " 3.60736005 4.3440966  4.62405736 3.50238675 4.73982876 5.56881184\n",
      " 7.64954509 4.00380335 2.10301596 7.63809543 9.0531132  3.09422428\n",
      " 6.79996868 7.40450903 7.49193198 4.44404066 8.02190168]\n"
     ]
    }
   ],
   "source": [
    "print(predictions)"
   ]
  },
  {
   "cell_type": "code",
   "execution_count": 85,
   "id": "c29f9db9",
   "metadata": {},
   "outputs": [
    {
     "data": {
      "text/plain": [
       "2.174919249395718"
      ]
     },
     "execution_count": 85,
     "metadata": {},
     "output_type": "execute_result"
    }
   ],
   "source": [
    "mean_absolute_error(Y_test, predictions)"
   ]
  },
  {
   "cell_type": "code",
   "execution_count": 86,
   "id": "93e64714",
   "metadata": {},
   "outputs": [],
   "source": [
    "rms = sqrt(mean_squared_error(Y_test, predictions))"
   ]
  },
  {
   "cell_type": "code",
   "execution_count": 87,
   "id": "8eb6df80",
   "metadata": {},
   "outputs": [
    {
     "name": "stdout",
     "output_type": "stream",
     "text": [
      "2.672469922015007\n"
     ]
    }
   ],
   "source": [
    "print(rms)"
   ]
  },
  {
   "cell_type": "code",
   "execution_count": 88,
   "id": "7e9f5796",
   "metadata": {},
   "outputs": [
    {
     "name": "stdout",
     "output_type": "stream",
     "text": [
      "R squared error :  0.37326608280018647\n"
     ]
    }
   ],
   "source": [
    "# R squared error\n",
    "error_score = metrics.r2_score(Y_test, predictions)\n",
    "print(\"R squared error : \", error_score)"
   ]
  },
  {
   "cell_type": "code",
   "execution_count": 89,
   "id": "898f185f",
   "metadata": {},
   "outputs": [],
   "source": [
    "def smape(actual, predicted):\n",
    "    \"\"\"\n",
    "    Calculate SMAPE (Symmetric Mean Absolute Percentage Error) for actual and predicted values.\n",
    "    \"\"\"\n",
    "    actual = np.array(actual)\n",
    "    predicted = np.array(predicted)\n",
    "    return 100/len(actual) * np.sum(2 * np.abs(predicted - actual) / (np.abs(actual) + np.abs(predicted)))"
   ]
  },
  {
   "cell_type": "code",
   "execution_count": 90,
   "id": "5f3102a2",
   "metadata": {},
   "outputs": [
    {
     "name": "stdout",
     "output_type": "stream",
     "text": [
      "SMAPE score: 43.07223271133626\n"
     ]
    }
   ],
   "source": [
    "smape_score = smape(Y_test, predictions)\n",
    "print(\"SMAPE score:\", smape_score)"
   ]
  },
  {
   "cell_type": "code",
   "execution_count": 91,
   "id": "b39a9400",
   "metadata": {
    "scrolled": true
   },
   "outputs": [
    {
     "data": {
      "text/html": [
       "<style>#sk-container-id-7 {color: black;background-color: white;}#sk-container-id-7 pre{padding: 0;}#sk-container-id-7 div.sk-toggleable {background-color: white;}#sk-container-id-7 label.sk-toggleable__label {cursor: pointer;display: block;width: 100%;margin-bottom: 0;padding: 0.3em;box-sizing: border-box;text-align: center;}#sk-container-id-7 label.sk-toggleable__label-arrow:before {content: \"▸\";float: left;margin-right: 0.25em;color: #696969;}#sk-container-id-7 label.sk-toggleable__label-arrow:hover:before {color: black;}#sk-container-id-7 div.sk-estimator:hover label.sk-toggleable__label-arrow:before {color: black;}#sk-container-id-7 div.sk-toggleable__content {max-height: 0;max-width: 0;overflow: hidden;text-align: left;background-color: #f0f8ff;}#sk-container-id-7 div.sk-toggleable__content pre {margin: 0.2em;color: black;border-radius: 0.25em;background-color: #f0f8ff;}#sk-container-id-7 input.sk-toggleable__control:checked~div.sk-toggleable__content {max-height: 200px;max-width: 100%;overflow: auto;}#sk-container-id-7 input.sk-toggleable__control:checked~label.sk-toggleable__label-arrow:before {content: \"▾\";}#sk-container-id-7 div.sk-estimator input.sk-toggleable__control:checked~label.sk-toggleable__label {background-color: #d4ebff;}#sk-container-id-7 div.sk-label input.sk-toggleable__control:checked~label.sk-toggleable__label {background-color: #d4ebff;}#sk-container-id-7 input.sk-hidden--visually {border: 0;clip: rect(1px 1px 1px 1px);clip: rect(1px, 1px, 1px, 1px);height: 1px;margin: -1px;overflow: hidden;padding: 0;position: absolute;width: 1px;}#sk-container-id-7 div.sk-estimator {font-family: monospace;background-color: #f0f8ff;border: 1px dotted black;border-radius: 0.25em;box-sizing: border-box;margin-bottom: 0.5em;}#sk-container-id-7 div.sk-estimator:hover {background-color: #d4ebff;}#sk-container-id-7 div.sk-parallel-item::after {content: \"\";width: 100%;border-bottom: 1px solid gray;flex-grow: 1;}#sk-container-id-7 div.sk-label:hover label.sk-toggleable__label {background-color: #d4ebff;}#sk-container-id-7 div.sk-serial::before {content: \"\";position: absolute;border-left: 1px solid gray;box-sizing: border-box;top: 0;bottom: 0;left: 50%;z-index: 0;}#sk-container-id-7 div.sk-serial {display: flex;flex-direction: column;align-items: center;background-color: white;padding-right: 0.2em;padding-left: 0.2em;position: relative;}#sk-container-id-7 div.sk-item {position: relative;z-index: 1;}#sk-container-id-7 div.sk-parallel {display: flex;align-items: stretch;justify-content: center;background-color: white;position: relative;}#sk-container-id-7 div.sk-item::before, #sk-container-id-7 div.sk-parallel-item::before {content: \"\";position: absolute;border-left: 1px solid gray;box-sizing: border-box;top: 0;bottom: 0;left: 50%;z-index: -1;}#sk-container-id-7 div.sk-parallel-item {display: flex;flex-direction: column;z-index: 1;position: relative;background-color: white;}#sk-container-id-7 div.sk-parallel-item:first-child::after {align-self: flex-end;width: 50%;}#sk-container-id-7 div.sk-parallel-item:last-child::after {align-self: flex-start;width: 50%;}#sk-container-id-7 div.sk-parallel-item:only-child::after {width: 0;}#sk-container-id-7 div.sk-dashed-wrapped {border: 1px dashed gray;margin: 0 0.4em 0.5em 0.4em;box-sizing: border-box;padding-bottom: 0.4em;background-color: white;}#sk-container-id-7 div.sk-label label {font-family: monospace;font-weight: bold;display: inline-block;line-height: 1.2em;}#sk-container-id-7 div.sk-label-container {text-align: center;}#sk-container-id-7 div.sk-container {/* jupyter's `normalize.less` sets `[hidden] { display: none; }` but bootstrap.min.css set `[hidden] { display: none !important; }` so we also need the `!important` here to be able to override the default hidden behavior on the sphinx rendered scikit-learn.org. See: https://github.com/scikit-learn/scikit-learn/issues/21755 */display: inline-block !important;position: relative;}#sk-container-id-7 div.sk-text-repr-fallback {display: none;}</style><div id=\"sk-container-id-7\" class=\"sk-top-container\"><div class=\"sk-text-repr-fallback\"><pre>StackingRegressor(estimators=[(&#x27;rf&#x27;, RandomForestRegressor()),\n",
       "                              (&#x27;xgb&#x27;,\n",
       "                               XGBRegressor(base_score=None, booster=None,\n",
       "                                            callbacks=None,\n",
       "                                            colsample_bylevel=None,\n",
       "                                            colsample_bynode=None,\n",
       "                                            colsample_bytree=None,\n",
       "                                            early_stopping_rounds=None,\n",
       "                                            enable_categorical=False,\n",
       "                                            eval_metric=None,\n",
       "                                            feature_types=None, gamma=None,\n",
       "                                            gpu_id=None, grow_policy=None,\n",
       "                                            importance_type=None,\n",
       "                                            interaction_constraints=None,\n",
       "                                            learning_rate=None, max_bin=None,\n",
       "                                            max_cat_threshold=None,\n",
       "                                            max_cat_to_onehot=None,\n",
       "                                            max_delta_step=None, max_depth=None,\n",
       "                                            max_leaves=None,\n",
       "                                            min_child_weight=None, missing=nan,\n",
       "                                            monotone_constraints=None,\n",
       "                                            n_estimators=100, n_jobs=None,\n",
       "                                            num_parallel_tree=None,\n",
       "                                            predictor=None, random_state=None, ...)),\n",
       "                              (&#x27;svm&#x27;, SVR(C=10, gamma=0.1))])</pre><b>In a Jupyter environment, please rerun this cell to show the HTML representation or trust the notebook. <br />On GitHub, the HTML representation is unable to render, please try loading this page with nbviewer.org.</b></div><div class=\"sk-container\" hidden><div class=\"sk-item sk-dashed-wrapped\"><div class=\"sk-label-container\"><div class=\"sk-label sk-toggleable\"><input class=\"sk-toggleable__control sk-hidden--visually\" id=\"sk-estimator-id-10\" type=\"checkbox\" ><label for=\"sk-estimator-id-10\" class=\"sk-toggleable__label sk-toggleable__label-arrow\">StackingRegressor</label><div class=\"sk-toggleable__content\"><pre>StackingRegressor(estimators=[(&#x27;rf&#x27;, RandomForestRegressor()),\n",
       "                              (&#x27;xgb&#x27;,\n",
       "                               XGBRegressor(base_score=None, booster=None,\n",
       "                                            callbacks=None,\n",
       "                                            colsample_bylevel=None,\n",
       "                                            colsample_bynode=None,\n",
       "                                            colsample_bytree=None,\n",
       "                                            early_stopping_rounds=None,\n",
       "                                            enable_categorical=False,\n",
       "                                            eval_metric=None,\n",
       "                                            feature_types=None, gamma=None,\n",
       "                                            gpu_id=None, grow_policy=None,\n",
       "                                            importance_type=None,\n",
       "                                            interaction_constraints=None,\n",
       "                                            learning_rate=None, max_bin=None,\n",
       "                                            max_cat_threshold=None,\n",
       "                                            max_cat_to_onehot=None,\n",
       "                                            max_delta_step=None, max_depth=None,\n",
       "                                            max_leaves=None,\n",
       "                                            min_child_weight=None, missing=nan,\n",
       "                                            monotone_constraints=None,\n",
       "                                            n_estimators=100, n_jobs=None,\n",
       "                                            num_parallel_tree=None,\n",
       "                                            predictor=None, random_state=None, ...)),\n",
       "                              (&#x27;svm&#x27;, SVR(C=10, gamma=0.1))])</pre></div></div></div><div class=\"sk-serial\"><div class=\"sk-item\"><div class=\"sk-parallel\"><div class=\"sk-parallel-item\"><div class=\"sk-item\"><div class=\"sk-label-container\"><div class=\"sk-label sk-toggleable\"><label>rf</label></div></div><div class=\"sk-serial\"><div class=\"sk-item\"><div class=\"sk-estimator sk-toggleable\"><input class=\"sk-toggleable__control sk-hidden--visually\" id=\"sk-estimator-id-11\" type=\"checkbox\" ><label for=\"sk-estimator-id-11\" class=\"sk-toggleable__label sk-toggleable__label-arrow\">RandomForestRegressor</label><div class=\"sk-toggleable__content\"><pre>RandomForestRegressor()</pre></div></div></div></div></div></div><div class=\"sk-parallel-item\"><div class=\"sk-item\"><div class=\"sk-label-container\"><div class=\"sk-label sk-toggleable\"><label>xgb</label></div></div><div class=\"sk-serial\"><div class=\"sk-item\"><div class=\"sk-estimator sk-toggleable\"><input class=\"sk-toggleable__control sk-hidden--visually\" id=\"sk-estimator-id-12\" type=\"checkbox\" ><label for=\"sk-estimator-id-12\" class=\"sk-toggleable__label sk-toggleable__label-arrow\">XGBRegressor</label><div class=\"sk-toggleable__content\"><pre>XGBRegressor(base_score=None, booster=None, callbacks=None,\n",
       "             colsample_bylevel=None, colsample_bynode=None,\n",
       "             colsample_bytree=None, early_stopping_rounds=None,\n",
       "             enable_categorical=False, eval_metric=None, feature_types=None,\n",
       "             gamma=None, gpu_id=None, grow_policy=None, importance_type=None,\n",
       "             interaction_constraints=None, learning_rate=None, max_bin=None,\n",
       "             max_cat_threshold=None, max_cat_to_onehot=None,\n",
       "             max_delta_step=None, max_depth=None, max_leaves=None,\n",
       "             min_child_weight=None, missing=nan, monotone_constraints=None,\n",
       "             n_estimators=100, n_jobs=None, num_parallel_tree=None,\n",
       "             predictor=None, random_state=None, ...)</pre></div></div></div></div></div></div><div class=\"sk-parallel-item\"><div class=\"sk-item\"><div class=\"sk-label-container\"><div class=\"sk-label sk-toggleable\"><label>svm</label></div></div><div class=\"sk-serial\"><div class=\"sk-item\"><div class=\"sk-estimator sk-toggleable\"><input class=\"sk-toggleable__control sk-hidden--visually\" id=\"sk-estimator-id-13\" type=\"checkbox\" ><label for=\"sk-estimator-id-13\" class=\"sk-toggleable__label sk-toggleable__label-arrow\">SVR</label><div class=\"sk-toggleable__content\"><pre>SVR(C=10, gamma=0.1)</pre></div></div></div></div></div></div></div></div><div class=\"sk-item\"><div class=\"sk-parallel\"><div class=\"sk-parallel-item\"><div class=\"sk-item\"><div class=\"sk-label-container\"><div class=\"sk-label sk-toggleable\"><label>final_estimator</label></div></div><div class=\"sk-serial\"><div class=\"sk-item\"><div class=\"sk-estimator sk-toggleable\"><input class=\"sk-toggleable__control sk-hidden--visually\" id=\"sk-estimator-id-14\" type=\"checkbox\" ><label for=\"sk-estimator-id-14\" class=\"sk-toggleable__label sk-toggleable__label-arrow\">RidgeCV</label><div class=\"sk-toggleable__content\"><pre>RidgeCV()</pre></div></div></div></div></div></div></div></div></div></div></div></div>"
      ],
      "text/plain": [
       "StackingRegressor(estimators=[('rf', RandomForestRegressor()),\n",
       "                              ('xgb',\n",
       "                               XGBRegressor(base_score=None, booster=None,\n",
       "                                            callbacks=None,\n",
       "                                            colsample_bylevel=None,\n",
       "                                            colsample_bynode=None,\n",
       "                                            colsample_bytree=None,\n",
       "                                            early_stopping_rounds=None,\n",
       "                                            enable_categorical=False,\n",
       "                                            eval_metric=None,\n",
       "                                            feature_types=None, gamma=None,\n",
       "                                            gpu_id=None, grow_policy=None,\n",
       "                                            importance_type=None,\n",
       "                                            interaction_constraints=None,\n",
       "                                            learning_rate=None, max_bin=None,\n",
       "                                            max_cat_threshold=None,\n",
       "                                            max_cat_to_onehot=None,\n",
       "                                            max_delta_step=None, max_depth=None,\n",
       "                                            max_leaves=None,\n",
       "                                            min_child_weight=None, missing=nan,\n",
       "                                            monotone_constraints=None,\n",
       "                                            n_estimators=100, n_jobs=None,\n",
       "                                            num_parallel_tree=None,\n",
       "                                            predictor=None, random_state=None, ...)),\n",
       "                              ('svm', SVR(C=10, gamma=0.1))])"
      ]
     },
     "execution_count": 91,
     "metadata": {},
     "output_type": "execute_result"
    }
   ],
   "source": [
    "stack_regressor = StackingRegressor(estimators=[('rf', regressor), ('xgb', xb_model),('svm',svr)])\n",
    "stack_regressor.fit(X_train, Y_train)"
   ]
  },
  {
   "cell_type": "code",
   "execution_count": 92,
   "id": "e7602ef0",
   "metadata": {},
   "outputs": [],
   "source": [
    "pred=stack_regressor.predict(X_test)"
   ]
  },
  {
   "cell_type": "code",
   "execution_count": 93,
   "id": "174949d6",
   "metadata": {},
   "outputs": [
    {
     "name": "stdout",
     "output_type": "stream",
     "text": [
      "[6.1467075  3.41634188 3.31065093 7.66777538 3.50169175 6.78449193\n",
      " 3.66475262 2.03775079 6.27062914 7.19910156 7.54127958 6.19804285\n",
      " 7.33221009 9.38087827 5.58346509 1.99793757 4.31635928 6.66039852\n",
      " 7.83023577 3.53072962 7.91158186 7.31719688 5.57726064 8.83955351\n",
      " 5.37440828 4.35516057 4.06138326 5.37407563 5.41250249 5.8243422\n",
      " 2.63190979 5.40429138 6.78525877 4.09848898 9.28406111 2.28406301\n",
      " 4.06350616 3.28630062 6.85196921 7.6297865  2.71408054 6.7793428\n",
      " 3.59939412 3.90122457 3.81762594 3.15154984 4.11374079 5.6969876\n",
      " 8.05961025 3.9964072  1.80544937 7.87293844 9.74224667 3.03117646\n",
      " 6.27226506 7.106633   7.77807465 4.98154405 8.72682485]\n"
     ]
    }
   ],
   "source": [
    "print(pred)"
   ]
  },
  {
   "cell_type": "code",
   "execution_count": 94,
   "id": "25b4e49e",
   "metadata": {},
   "outputs": [
    {
     "data": {
      "text/plain": [
       "1.9835571871831834"
      ]
     },
     "execution_count": 94,
     "metadata": {},
     "output_type": "execute_result"
    }
   ],
   "source": [
    "mean_absolute_error(Y_test, pred)"
   ]
  },
  {
   "cell_type": "code",
   "execution_count": 95,
   "id": "01211516",
   "metadata": {},
   "outputs": [],
   "source": [
    "rms = sqrt(mean_squared_error(Y_test, pred))"
   ]
  },
  {
   "cell_type": "code",
   "execution_count": 96,
   "id": "988c1269",
   "metadata": {},
   "outputs": [
    {
     "name": "stdout",
     "output_type": "stream",
     "text": [
      "2.4986552206463735\n"
     ]
    }
   ],
   "source": [
    "print(rms)"
   ]
  },
  {
   "cell_type": "code",
   "execution_count": 97,
   "id": "2523bc8b",
   "metadata": {},
   "outputs": [
    {
     "name": "stdout",
     "output_type": "stream",
     "text": [
      "R squared error :  0.4521392173391411\n"
     ]
    }
   ],
   "source": [
    "# R squared error\n",
    "error_score = metrics.r2_score(Y_test, pred)\n",
    "print(\"R squared error : \", error_score)"
   ]
  },
  {
   "cell_type": "code",
   "execution_count": 98,
   "id": "492ba673",
   "metadata": {},
   "outputs": [
    {
     "name": "stdout",
     "output_type": "stream",
     "text": [
      "SMAPE score: 39.634371475605974\n"
     ]
    }
   ],
   "source": [
    "smape_score = smape(Y_test, pred)\n",
    "print(\"SMAPE score:\", smape_score)"
   ]
  },
  {
   "cell_type": "code",
   "execution_count": 99,
   "id": "9d67afcf",
   "metadata": {},
   "outputs": [
    {
     "data": {
      "text/html": [
       "<style>#sk-container-id-8 {color: black;background-color: white;}#sk-container-id-8 pre{padding: 0;}#sk-container-id-8 div.sk-toggleable {background-color: white;}#sk-container-id-8 label.sk-toggleable__label {cursor: pointer;display: block;width: 100%;margin-bottom: 0;padding: 0.3em;box-sizing: border-box;text-align: center;}#sk-container-id-8 label.sk-toggleable__label-arrow:before {content: \"▸\";float: left;margin-right: 0.25em;color: #696969;}#sk-container-id-8 label.sk-toggleable__label-arrow:hover:before {color: black;}#sk-container-id-8 div.sk-estimator:hover label.sk-toggleable__label-arrow:before {color: black;}#sk-container-id-8 div.sk-toggleable__content {max-height: 0;max-width: 0;overflow: hidden;text-align: left;background-color: #f0f8ff;}#sk-container-id-8 div.sk-toggleable__content pre {margin: 0.2em;color: black;border-radius: 0.25em;background-color: #f0f8ff;}#sk-container-id-8 input.sk-toggleable__control:checked~div.sk-toggleable__content {max-height: 200px;max-width: 100%;overflow: auto;}#sk-container-id-8 input.sk-toggleable__control:checked~label.sk-toggleable__label-arrow:before {content: \"▾\";}#sk-container-id-8 div.sk-estimator input.sk-toggleable__control:checked~label.sk-toggleable__label {background-color: #d4ebff;}#sk-container-id-8 div.sk-label input.sk-toggleable__control:checked~label.sk-toggleable__label {background-color: #d4ebff;}#sk-container-id-8 input.sk-hidden--visually {border: 0;clip: rect(1px 1px 1px 1px);clip: rect(1px, 1px, 1px, 1px);height: 1px;margin: -1px;overflow: hidden;padding: 0;position: absolute;width: 1px;}#sk-container-id-8 div.sk-estimator {font-family: monospace;background-color: #f0f8ff;border: 1px dotted black;border-radius: 0.25em;box-sizing: border-box;margin-bottom: 0.5em;}#sk-container-id-8 div.sk-estimator:hover {background-color: #d4ebff;}#sk-container-id-8 div.sk-parallel-item::after {content: \"\";width: 100%;border-bottom: 1px solid gray;flex-grow: 1;}#sk-container-id-8 div.sk-label:hover label.sk-toggleable__label {background-color: #d4ebff;}#sk-container-id-8 div.sk-serial::before {content: \"\";position: absolute;border-left: 1px solid gray;box-sizing: border-box;top: 0;bottom: 0;left: 50%;z-index: 0;}#sk-container-id-8 div.sk-serial {display: flex;flex-direction: column;align-items: center;background-color: white;padding-right: 0.2em;padding-left: 0.2em;position: relative;}#sk-container-id-8 div.sk-item {position: relative;z-index: 1;}#sk-container-id-8 div.sk-parallel {display: flex;align-items: stretch;justify-content: center;background-color: white;position: relative;}#sk-container-id-8 div.sk-item::before, #sk-container-id-8 div.sk-parallel-item::before {content: \"\";position: absolute;border-left: 1px solid gray;box-sizing: border-box;top: 0;bottom: 0;left: 50%;z-index: -1;}#sk-container-id-8 div.sk-parallel-item {display: flex;flex-direction: column;z-index: 1;position: relative;background-color: white;}#sk-container-id-8 div.sk-parallel-item:first-child::after {align-self: flex-end;width: 50%;}#sk-container-id-8 div.sk-parallel-item:last-child::after {align-self: flex-start;width: 50%;}#sk-container-id-8 div.sk-parallel-item:only-child::after {width: 0;}#sk-container-id-8 div.sk-dashed-wrapped {border: 1px dashed gray;margin: 0 0.4em 0.5em 0.4em;box-sizing: border-box;padding-bottom: 0.4em;background-color: white;}#sk-container-id-8 div.sk-label label {font-family: monospace;font-weight: bold;display: inline-block;line-height: 1.2em;}#sk-container-id-8 div.sk-label-container {text-align: center;}#sk-container-id-8 div.sk-container {/* jupyter's `normalize.less` sets `[hidden] { display: none; }` but bootstrap.min.css set `[hidden] { display: none !important; }` so we also need the `!important` here to be able to override the default hidden behavior on the sphinx rendered scikit-learn.org. See: https://github.com/scikit-learn/scikit-learn/issues/21755 */display: inline-block !important;position: relative;}#sk-container-id-8 div.sk-text-repr-fallback {display: none;}</style><div id=\"sk-container-id-8\" class=\"sk-top-container\"><div class=\"sk-text-repr-fallback\"><pre>StackingRegressor(estimators=[(&#x27;rf&#x27;, RandomForestRegressor()),\n",
       "                              (&#x27;svm&#x27;, SVR(C=10, gamma=0.1))])</pre><b>In a Jupyter environment, please rerun this cell to show the HTML representation or trust the notebook. <br />On GitHub, the HTML representation is unable to render, please try loading this page with nbviewer.org.</b></div><div class=\"sk-container\" hidden><div class=\"sk-item sk-dashed-wrapped\"><div class=\"sk-label-container\"><div class=\"sk-label sk-toggleable\"><input class=\"sk-toggleable__control sk-hidden--visually\" id=\"sk-estimator-id-15\" type=\"checkbox\" ><label for=\"sk-estimator-id-15\" class=\"sk-toggleable__label sk-toggleable__label-arrow\">StackingRegressor</label><div class=\"sk-toggleable__content\"><pre>StackingRegressor(estimators=[(&#x27;rf&#x27;, RandomForestRegressor()),\n",
       "                              (&#x27;svm&#x27;, SVR(C=10, gamma=0.1))])</pre></div></div></div><div class=\"sk-serial\"><div class=\"sk-item\"><div class=\"sk-parallel\"><div class=\"sk-parallel-item\"><div class=\"sk-item\"><div class=\"sk-label-container\"><div class=\"sk-label sk-toggleable\"><label>rf</label></div></div><div class=\"sk-serial\"><div class=\"sk-item\"><div class=\"sk-estimator sk-toggleable\"><input class=\"sk-toggleable__control sk-hidden--visually\" id=\"sk-estimator-id-16\" type=\"checkbox\" ><label for=\"sk-estimator-id-16\" class=\"sk-toggleable__label sk-toggleable__label-arrow\">RandomForestRegressor</label><div class=\"sk-toggleable__content\"><pre>RandomForestRegressor()</pre></div></div></div></div></div></div><div class=\"sk-parallel-item\"><div class=\"sk-item\"><div class=\"sk-label-container\"><div class=\"sk-label sk-toggleable\"><label>svm</label></div></div><div class=\"sk-serial\"><div class=\"sk-item\"><div class=\"sk-estimator sk-toggleable\"><input class=\"sk-toggleable__control sk-hidden--visually\" id=\"sk-estimator-id-17\" type=\"checkbox\" ><label for=\"sk-estimator-id-17\" class=\"sk-toggleable__label sk-toggleable__label-arrow\">SVR</label><div class=\"sk-toggleable__content\"><pre>SVR(C=10, gamma=0.1)</pre></div></div></div></div></div></div></div></div><div class=\"sk-item\"><div class=\"sk-parallel\"><div class=\"sk-parallel-item\"><div class=\"sk-item\"><div class=\"sk-label-container\"><div class=\"sk-label sk-toggleable\"><label>final_estimator</label></div></div><div class=\"sk-serial\"><div class=\"sk-item\"><div class=\"sk-estimator sk-toggleable\"><input class=\"sk-toggleable__control sk-hidden--visually\" id=\"sk-estimator-id-18\" type=\"checkbox\" ><label for=\"sk-estimator-id-18\" class=\"sk-toggleable__label sk-toggleable__label-arrow\">RidgeCV</label><div class=\"sk-toggleable__content\"><pre>RidgeCV()</pre></div></div></div></div></div></div></div></div></div></div></div></div>"
      ],
      "text/plain": [
       "StackingRegressor(estimators=[('rf', RandomForestRegressor()),\n",
       "                              ('svm', SVR(C=10, gamma=0.1))])"
      ]
     },
     "execution_count": 99,
     "metadata": {},
     "output_type": "execute_result"
    }
   ],
   "source": [
    "stack_regressor = StackingRegressor(estimators=[('rf', regressor),('svm',svr)])\n",
    "stack_regressor.fit(X_train, Y_train)"
   ]
  },
  {
   "cell_type": "code",
   "execution_count": 100,
   "id": "23944a4b",
   "metadata": {},
   "outputs": [],
   "source": [
    "test_pred=stack_regressor.predict(X_test)"
   ]
  },
  {
   "cell_type": "code",
   "execution_count": 101,
   "id": "7e1d59c7",
   "metadata": {},
   "outputs": [
    {
     "name": "stdout",
     "output_type": "stream",
     "text": [
      "[6.51813279 2.7751656  3.80572633 7.85885515 3.62902752 6.62189289\n",
      " 3.17115863 1.98882887 6.73216848 7.25855661 6.78362151 5.97612552\n",
      " 7.77100693 9.47908804 6.06582479 2.38718675 4.06416131 6.6111497\n",
      " 7.57786539 3.90726916 7.71519433 7.35148597 6.41287604 8.96872342\n",
      " 5.24239729 4.4336017  4.18442834 5.14116972 5.03765202 5.87720371\n",
      " 2.34435252 5.60615149 6.22929066 3.89921983 8.60434742 2.14605804\n",
      " 4.08378958 2.81335333 6.92937432 7.18298092 2.99109683 6.429592\n",
      " 4.40002231 3.8540085  4.29071762 2.62672972 2.32923449 5.15127752\n",
      " 7.89044675 3.96977575 1.86033713 7.86705614 8.94008997 3.1433485\n",
      " 5.33429421 6.60492445 8.2422888  5.82836755 8.8104681 ]\n"
     ]
    }
   ],
   "source": [
    "print(test_pred)"
   ]
  },
  {
   "cell_type": "code",
   "execution_count": 102,
   "id": "22a3bc6b",
   "metadata": {},
   "outputs": [
    {
     "data": {
      "text/plain": [
       "1.9779500653182691"
      ]
     },
     "execution_count": 102,
     "metadata": {},
     "output_type": "execute_result"
    }
   ],
   "source": [
    "mean_absolute_error(Y_test, test_pred)"
   ]
  },
  {
   "cell_type": "code",
   "execution_count": 103,
   "id": "2f4ed9d7",
   "metadata": {},
   "outputs": [],
   "source": [
    "rms = sqrt(mean_squared_error(Y_test, test_pred))"
   ]
  },
  {
   "cell_type": "code",
   "execution_count": 104,
   "id": "95f4e03a",
   "metadata": {},
   "outputs": [
    {
     "name": "stdout",
     "output_type": "stream",
     "text": [
      "2.4719963368368933\n"
     ]
    }
   ],
   "source": [
    "print(rms)"
   ]
  },
  {
   "cell_type": "code",
   "execution_count": 105,
   "id": "a6ee27cb",
   "metadata": {},
   "outputs": [
    {
     "name": "stdout",
     "output_type": "stream",
     "text": [
      "R squared error :  0.4637674263171786\n"
     ]
    }
   ],
   "source": [
    "# R squared error\n",
    "error_score = metrics.r2_score(Y_test, test_pred)\n",
    "print(\"R squared error : \", error_score)"
   ]
  },
  {
   "cell_type": "code",
   "execution_count": 106,
   "id": "576a5e2b",
   "metadata": {},
   "outputs": [
    {
     "name": "stdout",
     "output_type": "stream",
     "text": [
      "SMAPE score: 39.40978489483987\n"
     ]
    }
   ],
   "source": [
    "smape_score = smape(Y_test, test_pred)\n",
    "print(\"SMAPE score:\", smape_score)"
   ]
  },
  {
   "cell_type": "code",
   "execution_count": 107,
   "id": "8dea50a3",
   "metadata": {},
   "outputs": [
    {
     "data": {
      "text/html": [
       "<style>#sk-container-id-9 {color: black;background-color: white;}#sk-container-id-9 pre{padding: 0;}#sk-container-id-9 div.sk-toggleable {background-color: white;}#sk-container-id-9 label.sk-toggleable__label {cursor: pointer;display: block;width: 100%;margin-bottom: 0;padding: 0.3em;box-sizing: border-box;text-align: center;}#sk-container-id-9 label.sk-toggleable__label-arrow:before {content: \"▸\";float: left;margin-right: 0.25em;color: #696969;}#sk-container-id-9 label.sk-toggleable__label-arrow:hover:before {color: black;}#sk-container-id-9 div.sk-estimator:hover label.sk-toggleable__label-arrow:before {color: black;}#sk-container-id-9 div.sk-toggleable__content {max-height: 0;max-width: 0;overflow: hidden;text-align: left;background-color: #f0f8ff;}#sk-container-id-9 div.sk-toggleable__content pre {margin: 0.2em;color: black;border-radius: 0.25em;background-color: #f0f8ff;}#sk-container-id-9 input.sk-toggleable__control:checked~div.sk-toggleable__content {max-height: 200px;max-width: 100%;overflow: auto;}#sk-container-id-9 input.sk-toggleable__control:checked~label.sk-toggleable__label-arrow:before {content: \"▾\";}#sk-container-id-9 div.sk-estimator input.sk-toggleable__control:checked~label.sk-toggleable__label {background-color: #d4ebff;}#sk-container-id-9 div.sk-label input.sk-toggleable__control:checked~label.sk-toggleable__label {background-color: #d4ebff;}#sk-container-id-9 input.sk-hidden--visually {border: 0;clip: rect(1px 1px 1px 1px);clip: rect(1px, 1px, 1px, 1px);height: 1px;margin: -1px;overflow: hidden;padding: 0;position: absolute;width: 1px;}#sk-container-id-9 div.sk-estimator {font-family: monospace;background-color: #f0f8ff;border: 1px dotted black;border-radius: 0.25em;box-sizing: border-box;margin-bottom: 0.5em;}#sk-container-id-9 div.sk-estimator:hover {background-color: #d4ebff;}#sk-container-id-9 div.sk-parallel-item::after {content: \"\";width: 100%;border-bottom: 1px solid gray;flex-grow: 1;}#sk-container-id-9 div.sk-label:hover label.sk-toggleable__label {background-color: #d4ebff;}#sk-container-id-9 div.sk-serial::before {content: \"\";position: absolute;border-left: 1px solid gray;box-sizing: border-box;top: 0;bottom: 0;left: 50%;z-index: 0;}#sk-container-id-9 div.sk-serial {display: flex;flex-direction: column;align-items: center;background-color: white;padding-right: 0.2em;padding-left: 0.2em;position: relative;}#sk-container-id-9 div.sk-item {position: relative;z-index: 1;}#sk-container-id-9 div.sk-parallel {display: flex;align-items: stretch;justify-content: center;background-color: white;position: relative;}#sk-container-id-9 div.sk-item::before, #sk-container-id-9 div.sk-parallel-item::before {content: \"\";position: absolute;border-left: 1px solid gray;box-sizing: border-box;top: 0;bottom: 0;left: 50%;z-index: -1;}#sk-container-id-9 div.sk-parallel-item {display: flex;flex-direction: column;z-index: 1;position: relative;background-color: white;}#sk-container-id-9 div.sk-parallel-item:first-child::after {align-self: flex-end;width: 50%;}#sk-container-id-9 div.sk-parallel-item:last-child::after {align-self: flex-start;width: 50%;}#sk-container-id-9 div.sk-parallel-item:only-child::after {width: 0;}#sk-container-id-9 div.sk-dashed-wrapped {border: 1px dashed gray;margin: 0 0.4em 0.5em 0.4em;box-sizing: border-box;padding-bottom: 0.4em;background-color: white;}#sk-container-id-9 div.sk-label label {font-family: monospace;font-weight: bold;display: inline-block;line-height: 1.2em;}#sk-container-id-9 div.sk-label-container {text-align: center;}#sk-container-id-9 div.sk-container {/* jupyter's `normalize.less` sets `[hidden] { display: none; }` but bootstrap.min.css set `[hidden] { display: none !important; }` so we also need the `!important` here to be able to override the default hidden behavior on the sphinx rendered scikit-learn.org. See: https://github.com/scikit-learn/scikit-learn/issues/21755 */display: inline-block !important;position: relative;}#sk-container-id-9 div.sk-text-repr-fallback {display: none;}</style><div id=\"sk-container-id-9\" class=\"sk-top-container\"><div class=\"sk-text-repr-fallback\"><pre>VotingRegressor(estimators=[(&#x27;rf&#x27;, RandomForestRegressor()),\n",
       "                            (&#x27;xb&#x27;,\n",
       "                             XGBRegressor(base_score=None, booster=None,\n",
       "                                          callbacks=None,\n",
       "                                          colsample_bylevel=None,\n",
       "                                          colsample_bynode=None,\n",
       "                                          colsample_bytree=None,\n",
       "                                          early_stopping_rounds=None,\n",
       "                                          enable_categorical=False,\n",
       "                                          eval_metric=None, feature_types=None,\n",
       "                                          gamma=None, gpu_id=None,\n",
       "                                          grow_policy=None,\n",
       "                                          importance_type=None,\n",
       "                                          interaction_constraints=None,\n",
       "                                          learning_rate=None, max_bin=None,\n",
       "                                          max_cat_threshold=None,\n",
       "                                          max_cat_to_onehot=None,\n",
       "                                          max_delta_step=None, max_depth=None,\n",
       "                                          max_leaves=None,\n",
       "                                          min_child_weight=None, missing=nan,\n",
       "                                          monotone_constraints=None,\n",
       "                                          n_estimators=100, n_jobs=None,\n",
       "                                          num_parallel_tree=None,\n",
       "                                          predictor=None, random_state=None, ...))])</pre><b>In a Jupyter environment, please rerun this cell to show the HTML representation or trust the notebook. <br />On GitHub, the HTML representation is unable to render, please try loading this page with nbviewer.org.</b></div><div class=\"sk-container\" hidden><div class=\"sk-item sk-dashed-wrapped\"><div class=\"sk-label-container\"><div class=\"sk-label sk-toggleable\"><input class=\"sk-toggleable__control sk-hidden--visually\" id=\"sk-estimator-id-19\" type=\"checkbox\" ><label for=\"sk-estimator-id-19\" class=\"sk-toggleable__label sk-toggleable__label-arrow\">VotingRegressor</label><div class=\"sk-toggleable__content\"><pre>VotingRegressor(estimators=[(&#x27;rf&#x27;, RandomForestRegressor()),\n",
       "                            (&#x27;xb&#x27;,\n",
       "                             XGBRegressor(base_score=None, booster=None,\n",
       "                                          callbacks=None,\n",
       "                                          colsample_bylevel=None,\n",
       "                                          colsample_bynode=None,\n",
       "                                          colsample_bytree=None,\n",
       "                                          early_stopping_rounds=None,\n",
       "                                          enable_categorical=False,\n",
       "                                          eval_metric=None, feature_types=None,\n",
       "                                          gamma=None, gpu_id=None,\n",
       "                                          grow_policy=None,\n",
       "                                          importance_type=None,\n",
       "                                          interaction_constraints=None,\n",
       "                                          learning_rate=None, max_bin=None,\n",
       "                                          max_cat_threshold=None,\n",
       "                                          max_cat_to_onehot=None,\n",
       "                                          max_delta_step=None, max_depth=None,\n",
       "                                          max_leaves=None,\n",
       "                                          min_child_weight=None, missing=nan,\n",
       "                                          monotone_constraints=None,\n",
       "                                          n_estimators=100, n_jobs=None,\n",
       "                                          num_parallel_tree=None,\n",
       "                                          predictor=None, random_state=None, ...))])</pre></div></div></div><div class=\"sk-parallel\"><div class=\"sk-parallel-item\"><div class=\"sk-item\"><div class=\"sk-label-container\"><div class=\"sk-label sk-toggleable\"><label>rf</label></div></div><div class=\"sk-serial\"><div class=\"sk-item\"><div class=\"sk-estimator sk-toggleable\"><input class=\"sk-toggleable__control sk-hidden--visually\" id=\"sk-estimator-id-20\" type=\"checkbox\" ><label for=\"sk-estimator-id-20\" class=\"sk-toggleable__label sk-toggleable__label-arrow\">RandomForestRegressor</label><div class=\"sk-toggleable__content\"><pre>RandomForestRegressor()</pre></div></div></div></div></div></div><div class=\"sk-parallel-item\"><div class=\"sk-item\"><div class=\"sk-label-container\"><div class=\"sk-label sk-toggleable\"><label>xb</label></div></div><div class=\"sk-serial\"><div class=\"sk-item\"><div class=\"sk-estimator sk-toggleable\"><input class=\"sk-toggleable__control sk-hidden--visually\" id=\"sk-estimator-id-21\" type=\"checkbox\" ><label for=\"sk-estimator-id-21\" class=\"sk-toggleable__label sk-toggleable__label-arrow\">XGBRegressor</label><div class=\"sk-toggleable__content\"><pre>XGBRegressor(base_score=None, booster=None, callbacks=None,\n",
       "             colsample_bylevel=None, colsample_bynode=None,\n",
       "             colsample_bytree=None, early_stopping_rounds=None,\n",
       "             enable_categorical=False, eval_metric=None, feature_types=None,\n",
       "             gamma=None, gpu_id=None, grow_policy=None, importance_type=None,\n",
       "             interaction_constraints=None, learning_rate=None, max_bin=None,\n",
       "             max_cat_threshold=None, max_cat_to_onehot=None,\n",
       "             max_delta_step=None, max_depth=None, max_leaves=None,\n",
       "             min_child_weight=None, missing=nan, monotone_constraints=None,\n",
       "             n_estimators=100, n_jobs=None, num_parallel_tree=None,\n",
       "             predictor=None, random_state=None, ...)</pre></div></div></div></div></div></div></div></div></div></div>"
      ],
      "text/plain": [
       "VotingRegressor(estimators=[('rf', RandomForestRegressor()),\n",
       "                            ('xb',\n",
       "                             XGBRegressor(base_score=None, booster=None,\n",
       "                                          callbacks=None,\n",
       "                                          colsample_bylevel=None,\n",
       "                                          colsample_bynode=None,\n",
       "                                          colsample_bytree=None,\n",
       "                                          early_stopping_rounds=None,\n",
       "                                          enable_categorical=False,\n",
       "                                          eval_metric=None, feature_types=None,\n",
       "                                          gamma=None, gpu_id=None,\n",
       "                                          grow_policy=None,\n",
       "                                          importance_type=None,\n",
       "                                          interaction_constraints=None,\n",
       "                                          learning_rate=None, max_bin=None,\n",
       "                                          max_cat_threshold=None,\n",
       "                                          max_cat_to_onehot=None,\n",
       "                                          max_delta_step=None, max_depth=None,\n",
       "                                          max_leaves=None,\n",
       "                                          min_child_weight=None, missing=nan,\n",
       "                                          monotone_constraints=None,\n",
       "                                          n_estimators=100, n_jobs=None,\n",
       "                                          num_parallel_tree=None,\n",
       "                                          predictor=None, random_state=None, ...))])"
      ]
     },
     "execution_count": 107,
     "metadata": {},
     "output_type": "execute_result"
    }
   ],
   "source": [
    "voting_reg = VotingRegressor(estimators=[('rf', regressor), ('xb', xb_model)])\n",
    "voting_reg.fit(X_train, Y_train)"
   ]
  },
  {
   "cell_type": "code",
   "execution_count": 108,
   "id": "c10a52d8",
   "metadata": {},
   "outputs": [],
   "source": [
    "Y_pred = voting_reg.predict(X_test)"
   ]
  },
  {
   "cell_type": "code",
   "execution_count": 109,
   "id": "d1ba96ef",
   "metadata": {},
   "outputs": [
    {
     "name": "stdout",
     "output_type": "stream",
     "text": [
      "[6.40237917 4.06300726 2.64647965 8.02294674 3.42355611 6.60112835\n",
      " 3.98366276 1.46608938 6.62948638 7.56994796 7.7616155  5.97630602\n",
      " 7.68748948 9.81676439 5.53652262 1.3592286  4.15895779 7.60680744\n",
      " 8.35018556 2.50223535 7.67534645 7.82979855 5.11605654 9.2673501\n",
      " 5.06791412 3.95876927 4.6609707  5.10257051 5.21479091 5.89760075\n",
      " 2.4423831  4.50057357 7.57334791 4.26269845 9.19980519 1.82008054\n",
      " 4.26976201 3.48502394 7.21830117 7.52909593 1.94558477 6.82027906\n",
      " 2.89867929 4.05913519 4.03874718 3.12078055 4.57978657 5.41319545\n",
      " 8.11048877 3.64584184 1.13290479 7.93584186 9.70016056 2.62450366\n",
      " 7.54984727 7.65885601 8.02908965 4.03672356 8.43164436]\n"
     ]
    }
   ],
   "source": [
    "print(Y_pred)"
   ]
  },
  {
   "cell_type": "code",
   "execution_count": 110,
   "id": "c9d06715",
   "metadata": {},
   "outputs": [
    {
     "data": {
      "text/plain": [
       "2.1170992673122275"
      ]
     },
     "execution_count": 110,
     "metadata": {},
     "output_type": "execute_result"
    }
   ],
   "source": [
    "mean_absolute_error(Y_test, Y_pred)"
   ]
  },
  {
   "cell_type": "code",
   "execution_count": 111,
   "id": "4f657ed5",
   "metadata": {},
   "outputs": [],
   "source": [
    "rms = sqrt(mean_squared_error(Y_test, Y_pred))"
   ]
  },
  {
   "cell_type": "code",
   "execution_count": 112,
   "id": "2fa128f5",
   "metadata": {},
   "outputs": [
    {
     "name": "stdout",
     "output_type": "stream",
     "text": [
      "2.657602212216019\n"
     ]
    }
   ],
   "source": [
    "print(rms)"
   ]
  },
  {
   "cell_type": "code",
   "execution_count": 113,
   "id": "24f3f884",
   "metadata": {},
   "outputs": [
    {
     "name": "stdout",
     "output_type": "stream",
     "text": [
      "R squared error :  0.38022008315145905\n"
     ]
    }
   ],
   "source": [
    "# R squared error\n",
    "error_score = metrics.r2_score(Y_test, Y_pred)\n",
    "print(\"R squared error : \", error_score)"
   ]
  },
  {
   "cell_type": "code",
   "execution_count": 114,
   "id": "1dd68ff5",
   "metadata": {},
   "outputs": [
    {
     "name": "stdout",
     "output_type": "stream",
     "text": [
      "SMAPE score: 42.98339026054143\n"
     ]
    }
   ],
   "source": [
    "smape_score = smape(Y_test, Y_pred)\n",
    "print(\"SMAPE score:\", smape_score)"
   ]
  },
  {
   "cell_type": "code",
   "execution_count": 115,
   "id": "7b011d3f",
   "metadata": {},
   "outputs": [
    {
     "data": {
      "text/html": [
       "<style>#sk-container-id-10 {color: black;background-color: white;}#sk-container-id-10 pre{padding: 0;}#sk-container-id-10 div.sk-toggleable {background-color: white;}#sk-container-id-10 label.sk-toggleable__label {cursor: pointer;display: block;width: 100%;margin-bottom: 0;padding: 0.3em;box-sizing: border-box;text-align: center;}#sk-container-id-10 label.sk-toggleable__label-arrow:before {content: \"▸\";float: left;margin-right: 0.25em;color: #696969;}#sk-container-id-10 label.sk-toggleable__label-arrow:hover:before {color: black;}#sk-container-id-10 div.sk-estimator:hover label.sk-toggleable__label-arrow:before {color: black;}#sk-container-id-10 div.sk-toggleable__content {max-height: 0;max-width: 0;overflow: hidden;text-align: left;background-color: #f0f8ff;}#sk-container-id-10 div.sk-toggleable__content pre {margin: 0.2em;color: black;border-radius: 0.25em;background-color: #f0f8ff;}#sk-container-id-10 input.sk-toggleable__control:checked~div.sk-toggleable__content {max-height: 200px;max-width: 100%;overflow: auto;}#sk-container-id-10 input.sk-toggleable__control:checked~label.sk-toggleable__label-arrow:before {content: \"▾\";}#sk-container-id-10 div.sk-estimator input.sk-toggleable__control:checked~label.sk-toggleable__label {background-color: #d4ebff;}#sk-container-id-10 div.sk-label input.sk-toggleable__control:checked~label.sk-toggleable__label {background-color: #d4ebff;}#sk-container-id-10 input.sk-hidden--visually {border: 0;clip: rect(1px 1px 1px 1px);clip: rect(1px, 1px, 1px, 1px);height: 1px;margin: -1px;overflow: hidden;padding: 0;position: absolute;width: 1px;}#sk-container-id-10 div.sk-estimator {font-family: monospace;background-color: #f0f8ff;border: 1px dotted black;border-radius: 0.25em;box-sizing: border-box;margin-bottom: 0.5em;}#sk-container-id-10 div.sk-estimator:hover {background-color: #d4ebff;}#sk-container-id-10 div.sk-parallel-item::after {content: \"\";width: 100%;border-bottom: 1px solid gray;flex-grow: 1;}#sk-container-id-10 div.sk-label:hover label.sk-toggleable__label {background-color: #d4ebff;}#sk-container-id-10 div.sk-serial::before {content: \"\";position: absolute;border-left: 1px solid gray;box-sizing: border-box;top: 0;bottom: 0;left: 50%;z-index: 0;}#sk-container-id-10 div.sk-serial {display: flex;flex-direction: column;align-items: center;background-color: white;padding-right: 0.2em;padding-left: 0.2em;position: relative;}#sk-container-id-10 div.sk-item {position: relative;z-index: 1;}#sk-container-id-10 div.sk-parallel {display: flex;align-items: stretch;justify-content: center;background-color: white;position: relative;}#sk-container-id-10 div.sk-item::before, #sk-container-id-10 div.sk-parallel-item::before {content: \"\";position: absolute;border-left: 1px solid gray;box-sizing: border-box;top: 0;bottom: 0;left: 50%;z-index: -1;}#sk-container-id-10 div.sk-parallel-item {display: flex;flex-direction: column;z-index: 1;position: relative;background-color: white;}#sk-container-id-10 div.sk-parallel-item:first-child::after {align-self: flex-end;width: 50%;}#sk-container-id-10 div.sk-parallel-item:last-child::after {align-self: flex-start;width: 50%;}#sk-container-id-10 div.sk-parallel-item:only-child::after {width: 0;}#sk-container-id-10 div.sk-dashed-wrapped {border: 1px dashed gray;margin: 0 0.4em 0.5em 0.4em;box-sizing: border-box;padding-bottom: 0.4em;background-color: white;}#sk-container-id-10 div.sk-label label {font-family: monospace;font-weight: bold;display: inline-block;line-height: 1.2em;}#sk-container-id-10 div.sk-label-container {text-align: center;}#sk-container-id-10 div.sk-container {/* jupyter's `normalize.less` sets `[hidden] { display: none; }` but bootstrap.min.css set `[hidden] { display: none !important; }` so we also need the `!important` here to be able to override the default hidden behavior on the sphinx rendered scikit-learn.org. See: https://github.com/scikit-learn/scikit-learn/issues/21755 */display: inline-block !important;position: relative;}#sk-container-id-10 div.sk-text-repr-fallback {display: none;}</style><div id=\"sk-container-id-10\" class=\"sk-top-container\"><div class=\"sk-text-repr-fallback\"><pre>VotingRegressor(estimators=[(&#x27;rf&#x27;, RandomForestRegressor()),\n",
       "                            (&#x27;xgb&#x27;,\n",
       "                             XGBRegressor(base_score=None, booster=None,\n",
       "                                          callbacks=None,\n",
       "                                          colsample_bylevel=None,\n",
       "                                          colsample_bynode=None,\n",
       "                                          colsample_bytree=None,\n",
       "                                          early_stopping_rounds=None,\n",
       "                                          enable_categorical=False,\n",
       "                                          eval_metric=None, feature_types=None,\n",
       "                                          gamma=None, gpu_id=None,\n",
       "                                          grow_policy=None,\n",
       "                                          importance_type=None,\n",
       "                                          interaction_constraints=None,\n",
       "                                          learning_rate=None, max_bin=None,\n",
       "                                          max_cat_threshold=None,\n",
       "                                          max_cat_to_onehot=None,\n",
       "                                          max_delta_step=None, max_depth=None,\n",
       "                                          max_leaves=None,\n",
       "                                          min_child_weight=None, missing=nan,\n",
       "                                          monotone_constraints=None,\n",
       "                                          n_estimators=100, n_jobs=None,\n",
       "                                          num_parallel_tree=None,\n",
       "                                          predictor=None, random_state=None, ...)),\n",
       "                            (&#x27;svm&#x27;, SVR(C=10, gamma=0.1))])</pre><b>In a Jupyter environment, please rerun this cell to show the HTML representation or trust the notebook. <br />On GitHub, the HTML representation is unable to render, please try loading this page with nbviewer.org.</b></div><div class=\"sk-container\" hidden><div class=\"sk-item sk-dashed-wrapped\"><div class=\"sk-label-container\"><div class=\"sk-label sk-toggleable\"><input class=\"sk-toggleable__control sk-hidden--visually\" id=\"sk-estimator-id-22\" type=\"checkbox\" ><label for=\"sk-estimator-id-22\" class=\"sk-toggleable__label sk-toggleable__label-arrow\">VotingRegressor</label><div class=\"sk-toggleable__content\"><pre>VotingRegressor(estimators=[(&#x27;rf&#x27;, RandomForestRegressor()),\n",
       "                            (&#x27;xgb&#x27;,\n",
       "                             XGBRegressor(base_score=None, booster=None,\n",
       "                                          callbacks=None,\n",
       "                                          colsample_bylevel=None,\n",
       "                                          colsample_bynode=None,\n",
       "                                          colsample_bytree=None,\n",
       "                                          early_stopping_rounds=None,\n",
       "                                          enable_categorical=False,\n",
       "                                          eval_metric=None, feature_types=None,\n",
       "                                          gamma=None, gpu_id=None,\n",
       "                                          grow_policy=None,\n",
       "                                          importance_type=None,\n",
       "                                          interaction_constraints=None,\n",
       "                                          learning_rate=None, max_bin=None,\n",
       "                                          max_cat_threshold=None,\n",
       "                                          max_cat_to_onehot=None,\n",
       "                                          max_delta_step=None, max_depth=None,\n",
       "                                          max_leaves=None,\n",
       "                                          min_child_weight=None, missing=nan,\n",
       "                                          monotone_constraints=None,\n",
       "                                          n_estimators=100, n_jobs=None,\n",
       "                                          num_parallel_tree=None,\n",
       "                                          predictor=None, random_state=None, ...)),\n",
       "                            (&#x27;svm&#x27;, SVR(C=10, gamma=0.1))])</pre></div></div></div><div class=\"sk-parallel\"><div class=\"sk-parallel-item\"><div class=\"sk-item\"><div class=\"sk-label-container\"><div class=\"sk-label sk-toggleable\"><label>rf</label></div></div><div class=\"sk-serial\"><div class=\"sk-item\"><div class=\"sk-estimator sk-toggleable\"><input class=\"sk-toggleable__control sk-hidden--visually\" id=\"sk-estimator-id-23\" type=\"checkbox\" ><label for=\"sk-estimator-id-23\" class=\"sk-toggleable__label sk-toggleable__label-arrow\">RandomForestRegressor</label><div class=\"sk-toggleable__content\"><pre>RandomForestRegressor()</pre></div></div></div></div></div></div><div class=\"sk-parallel-item\"><div class=\"sk-item\"><div class=\"sk-label-container\"><div class=\"sk-label sk-toggleable\"><label>xgb</label></div></div><div class=\"sk-serial\"><div class=\"sk-item\"><div class=\"sk-estimator sk-toggleable\"><input class=\"sk-toggleable__control sk-hidden--visually\" id=\"sk-estimator-id-24\" type=\"checkbox\" ><label for=\"sk-estimator-id-24\" class=\"sk-toggleable__label sk-toggleable__label-arrow\">XGBRegressor</label><div class=\"sk-toggleable__content\"><pre>XGBRegressor(base_score=None, booster=None, callbacks=None,\n",
       "             colsample_bylevel=None, colsample_bynode=None,\n",
       "             colsample_bytree=None, early_stopping_rounds=None,\n",
       "             enable_categorical=False, eval_metric=None, feature_types=None,\n",
       "             gamma=None, gpu_id=None, grow_policy=None, importance_type=None,\n",
       "             interaction_constraints=None, learning_rate=None, max_bin=None,\n",
       "             max_cat_threshold=None, max_cat_to_onehot=None,\n",
       "             max_delta_step=None, max_depth=None, max_leaves=None,\n",
       "             min_child_weight=None, missing=nan, monotone_constraints=None,\n",
       "             n_estimators=100, n_jobs=None, num_parallel_tree=None,\n",
       "             predictor=None, random_state=None, ...)</pre></div></div></div></div></div></div><div class=\"sk-parallel-item\"><div class=\"sk-item\"><div class=\"sk-label-container\"><div class=\"sk-label sk-toggleable\"><label>svm</label></div></div><div class=\"sk-serial\"><div class=\"sk-item\"><div class=\"sk-estimator sk-toggleable\"><input class=\"sk-toggleable__control sk-hidden--visually\" id=\"sk-estimator-id-25\" type=\"checkbox\" ><label for=\"sk-estimator-id-25\" class=\"sk-toggleable__label sk-toggleable__label-arrow\">SVR</label><div class=\"sk-toggleable__content\"><pre>SVR(C=10, gamma=0.1)</pre></div></div></div></div></div></div></div></div></div></div>"
      ],
      "text/plain": [
       "VotingRegressor(estimators=[('rf', RandomForestRegressor()),\n",
       "                            ('xgb',\n",
       "                             XGBRegressor(base_score=None, booster=None,\n",
       "                                          callbacks=None,\n",
       "                                          colsample_bylevel=None,\n",
       "                                          colsample_bynode=None,\n",
       "                                          colsample_bytree=None,\n",
       "                                          early_stopping_rounds=None,\n",
       "                                          enable_categorical=False,\n",
       "                                          eval_metric=None, feature_types=None,\n",
       "                                          gamma=None, gpu_id=None,\n",
       "                                          grow_policy=None,\n",
       "                                          importance_type=None,\n",
       "                                          interaction_constraints=None,\n",
       "                                          learning_rate=None, max_bin=None,\n",
       "                                          max_cat_threshold=None,\n",
       "                                          max_cat_to_onehot=None,\n",
       "                                          max_delta_step=None, max_depth=None,\n",
       "                                          max_leaves=None,\n",
       "                                          min_child_weight=None, missing=nan,\n",
       "                                          monotone_constraints=None,\n",
       "                                          n_estimators=100, n_jobs=None,\n",
       "                                          num_parallel_tree=None,\n",
       "                                          predictor=None, random_state=None, ...)),\n",
       "                            ('svm', SVR(C=10, gamma=0.1))])"
      ]
     },
     "execution_count": 115,
     "metadata": {},
     "output_type": "execute_result"
    }
   ],
   "source": [
    "vote_regressor = VotingRegressor(estimators=[('rf', regressor), ('xgb', xb_model),('svm',svr)])\n",
    "vote_regressor.fit(X_train, Y_train)"
   ]
  },
  {
   "cell_type": "code",
   "execution_count": 116,
   "id": "9a50de43",
   "metadata": {},
   "outputs": [],
   "source": [
    "predict = vote_regressor.predict(X_test)"
   ]
  },
  {
   "cell_type": "code",
   "execution_count": 117,
   "id": "02aa1cb2",
   "metadata": {
    "scrolled": true
   },
   "outputs": [
    {
     "name": "stdout",
     "output_type": "stream",
     "text": [
      "[ 6.34474892  2.70234088  3.13445499  8.34891179  3.29603766  7.10862174\n",
      "  3.13490339  1.43358734  6.44013008  7.69460521  7.92798697  6.47291949\n",
      "  7.75364554  9.95508146  5.55533597  1.64869383  4.18772631  6.7769296\n",
      "  8.23081468  3.43087883  8.30154386  7.73424752  5.97007987  9.62960842\n",
      "  5.42853161  4.17510298  3.94987621  5.39478798  5.32414432  5.95445045\n",
      "  2.03552282  5.50268379  6.96112224  3.85197024  9.91575011  1.63508451\n",
      "  3.78356261  2.58829833  7.25779148  7.90791305  2.29588162  6.94423574\n",
      "  3.44786267  3.30537176  3.15168105  2.66666675  3.38973875  5.46627333\n",
      "  8.71879379  3.76261099  1.07918544  8.2766769  10.49365822  2.57470439\n",
      "  6.20373242  7.24204098  8.58293662  4.98089011  9.46389005]\n"
     ]
    }
   ],
   "source": [
    "print(predict)"
   ]
  },
  {
   "cell_type": "code",
   "execution_count": 118,
   "id": "b2bd7cd9",
   "metadata": {},
   "outputs": [
    {
     "data": {
      "text/plain": [
       "1.9607309179984589"
      ]
     },
     "execution_count": 118,
     "metadata": {},
     "output_type": "execute_result"
    }
   ],
   "source": [
    "mean_absolute_error(Y_test, predict)"
   ]
  },
  {
   "cell_type": "code",
   "execution_count": 119,
   "id": "be6694ea",
   "metadata": {},
   "outputs": [],
   "source": [
    "rms = sqrt(mean_squared_error(Y_test, predict))"
   ]
  },
  {
   "cell_type": "code",
   "execution_count": 120,
   "id": "c4c22af0",
   "metadata": {},
   "outputs": [
    {
     "name": "stdout",
     "output_type": "stream",
     "text": [
      "2.4575029435256104\n"
     ]
    }
   ],
   "source": [
    "print(rms)"
   ]
  },
  {
   "cell_type": "code",
   "execution_count": 121,
   "id": "5b373397",
   "metadata": {},
   "outputs": [
    {
     "name": "stdout",
     "output_type": "stream",
     "text": [
      "R squared error :  0.4700368905869403\n"
     ]
    }
   ],
   "source": [
    "# R squared error\n",
    "error_score = metrics.r2_score(Y_test, predict)\n",
    "print(\"R squared error : \", error_score)"
   ]
  },
  {
   "cell_type": "code",
   "execution_count": 122,
   "id": "22b50cfa",
   "metadata": {},
   "outputs": [
    {
     "name": "stdout",
     "output_type": "stream",
     "text": [
      "SMAPE score: 39.9973710730591\n"
     ]
    }
   ],
   "source": [
    "smape_score = smape(Y_test, predict)\n",
    "print(\"SMAPE score:\", smape_score)"
   ]
  },
  {
   "cell_type": "code",
   "execution_count": 123,
   "id": "29db4bf7",
   "metadata": {},
   "outputs": [],
   "source": [
    "X_train, X_test, Y_train, Y_test = train_test_split(X, Y, test_size = 0.2, random_state=2)"
   ]
  },
  {
   "cell_type": "code",
   "execution_count": 124,
   "id": "d3156c91",
   "metadata": {},
   "outputs": [
    {
     "data": {
      "text/html": [
       "<style>#sk-container-id-11 {color: black;background-color: white;}#sk-container-id-11 pre{padding: 0;}#sk-container-id-11 div.sk-toggleable {background-color: white;}#sk-container-id-11 label.sk-toggleable__label {cursor: pointer;display: block;width: 100%;margin-bottom: 0;padding: 0.3em;box-sizing: border-box;text-align: center;}#sk-container-id-11 label.sk-toggleable__label-arrow:before {content: \"▸\";float: left;margin-right: 0.25em;color: #696969;}#sk-container-id-11 label.sk-toggleable__label-arrow:hover:before {color: black;}#sk-container-id-11 div.sk-estimator:hover label.sk-toggleable__label-arrow:before {color: black;}#sk-container-id-11 div.sk-toggleable__content {max-height: 0;max-width: 0;overflow: hidden;text-align: left;background-color: #f0f8ff;}#sk-container-id-11 div.sk-toggleable__content pre {margin: 0.2em;color: black;border-radius: 0.25em;background-color: #f0f8ff;}#sk-container-id-11 input.sk-toggleable__control:checked~div.sk-toggleable__content {max-height: 200px;max-width: 100%;overflow: auto;}#sk-container-id-11 input.sk-toggleable__control:checked~label.sk-toggleable__label-arrow:before {content: \"▾\";}#sk-container-id-11 div.sk-estimator input.sk-toggleable__control:checked~label.sk-toggleable__label {background-color: #d4ebff;}#sk-container-id-11 div.sk-label input.sk-toggleable__control:checked~label.sk-toggleable__label {background-color: #d4ebff;}#sk-container-id-11 input.sk-hidden--visually {border: 0;clip: rect(1px 1px 1px 1px);clip: rect(1px, 1px, 1px, 1px);height: 1px;margin: -1px;overflow: hidden;padding: 0;position: absolute;width: 1px;}#sk-container-id-11 div.sk-estimator {font-family: monospace;background-color: #f0f8ff;border: 1px dotted black;border-radius: 0.25em;box-sizing: border-box;margin-bottom: 0.5em;}#sk-container-id-11 div.sk-estimator:hover {background-color: #d4ebff;}#sk-container-id-11 div.sk-parallel-item::after {content: \"\";width: 100%;border-bottom: 1px solid gray;flex-grow: 1;}#sk-container-id-11 div.sk-label:hover label.sk-toggleable__label {background-color: #d4ebff;}#sk-container-id-11 div.sk-serial::before {content: \"\";position: absolute;border-left: 1px solid gray;box-sizing: border-box;top: 0;bottom: 0;left: 50%;z-index: 0;}#sk-container-id-11 div.sk-serial {display: flex;flex-direction: column;align-items: center;background-color: white;padding-right: 0.2em;padding-left: 0.2em;position: relative;}#sk-container-id-11 div.sk-item {position: relative;z-index: 1;}#sk-container-id-11 div.sk-parallel {display: flex;align-items: stretch;justify-content: center;background-color: white;position: relative;}#sk-container-id-11 div.sk-item::before, #sk-container-id-11 div.sk-parallel-item::before {content: \"\";position: absolute;border-left: 1px solid gray;box-sizing: border-box;top: 0;bottom: 0;left: 50%;z-index: -1;}#sk-container-id-11 div.sk-parallel-item {display: flex;flex-direction: column;z-index: 1;position: relative;background-color: white;}#sk-container-id-11 div.sk-parallel-item:first-child::after {align-self: flex-end;width: 50%;}#sk-container-id-11 div.sk-parallel-item:last-child::after {align-self: flex-start;width: 50%;}#sk-container-id-11 div.sk-parallel-item:only-child::after {width: 0;}#sk-container-id-11 div.sk-dashed-wrapped {border: 1px dashed gray;margin: 0 0.4em 0.5em 0.4em;box-sizing: border-box;padding-bottom: 0.4em;background-color: white;}#sk-container-id-11 div.sk-label label {font-family: monospace;font-weight: bold;display: inline-block;line-height: 1.2em;}#sk-container-id-11 div.sk-label-container {text-align: center;}#sk-container-id-11 div.sk-container {/* jupyter's `normalize.less` sets `[hidden] { display: none; }` but bootstrap.min.css set `[hidden] { display: none !important; }` so we also need the `!important` here to be able to override the default hidden behavior on the sphinx rendered scikit-learn.org. See: https://github.com/scikit-learn/scikit-learn/issues/21755 */display: inline-block !important;position: relative;}#sk-container-id-11 div.sk-text-repr-fallback {display: none;}</style><div id=\"sk-container-id-11\" class=\"sk-top-container\"><div class=\"sk-text-repr-fallback\"><pre>VotingRegressor(estimators=[(&#x27;rf&#x27;, RandomForestRegressor()),\n",
       "                            (&#x27;svm&#x27;, SVR(C=10, gamma=0.1))])</pre><b>In a Jupyter environment, please rerun this cell to show the HTML representation or trust the notebook. <br />On GitHub, the HTML representation is unable to render, please try loading this page with nbviewer.org.</b></div><div class=\"sk-container\" hidden><div class=\"sk-item sk-dashed-wrapped\"><div class=\"sk-label-container\"><div class=\"sk-label sk-toggleable\"><input class=\"sk-toggleable__control sk-hidden--visually\" id=\"sk-estimator-id-26\" type=\"checkbox\" ><label for=\"sk-estimator-id-26\" class=\"sk-toggleable__label sk-toggleable__label-arrow\">VotingRegressor</label><div class=\"sk-toggleable__content\"><pre>VotingRegressor(estimators=[(&#x27;rf&#x27;, RandomForestRegressor()),\n",
       "                            (&#x27;svm&#x27;, SVR(C=10, gamma=0.1))])</pre></div></div></div><div class=\"sk-parallel\"><div class=\"sk-parallel-item\"><div class=\"sk-item\"><div class=\"sk-label-container\"><div class=\"sk-label sk-toggleable\"><label>rf</label></div></div><div class=\"sk-serial\"><div class=\"sk-item\"><div class=\"sk-estimator sk-toggleable\"><input class=\"sk-toggleable__control sk-hidden--visually\" id=\"sk-estimator-id-27\" type=\"checkbox\" ><label for=\"sk-estimator-id-27\" class=\"sk-toggleable__label sk-toggleable__label-arrow\">RandomForestRegressor</label><div class=\"sk-toggleable__content\"><pre>RandomForestRegressor()</pre></div></div></div></div></div></div><div class=\"sk-parallel-item\"><div class=\"sk-item\"><div class=\"sk-label-container\"><div class=\"sk-label sk-toggleable\"><label>svm</label></div></div><div class=\"sk-serial\"><div class=\"sk-item\"><div class=\"sk-estimator sk-toggleable\"><input class=\"sk-toggleable__control sk-hidden--visually\" id=\"sk-estimator-id-28\" type=\"checkbox\" ><label for=\"sk-estimator-id-28\" class=\"sk-toggleable__label sk-toggleable__label-arrow\">SVR</label><div class=\"sk-toggleable__content\"><pre>SVR(C=10, gamma=0.1)</pre></div></div></div></div></div></div></div></div></div></div>"
      ],
      "text/plain": [
       "VotingRegressor(estimators=[('rf', RandomForestRegressor()),\n",
       "                            ('svm', SVR(C=10, gamma=0.1))])"
      ]
     },
     "execution_count": 124,
     "metadata": {},
     "output_type": "execute_result"
    }
   ],
   "source": [
    "vote_regressor = VotingRegressor(estimators=[('rf', regressor),('svm',svr)])\n",
    "vote_regressor.fit(X_train, Y_train)"
   ]
  },
  {
   "cell_type": "code",
   "execution_count": 125,
   "id": "d2abea71",
   "metadata": {},
   "outputs": [],
   "source": [
    "predicted = vote_regressor.predict(X_test)"
   ]
  },
  {
   "cell_type": "code",
   "execution_count": 126,
   "id": "299753b6",
   "metadata": {},
   "outputs": [
    {
     "name": "stdout",
     "output_type": "stream",
     "text": [
      "[ 6.33089421  2.08600406  3.91405283  8.30277095  3.56875038  7.21890426\n",
      "  2.81534232  1.33279163  6.77965874  7.77270985  7.99671496  6.40552321\n",
      "  7.66337883 10.03120779  6.07168133  2.06641214  4.11598167  6.47368695\n",
      "  7.83993647  4.21703289  8.27091933  7.66982273  6.93621327  9.59141252\n",
      "  5.72118329  4.4412852   3.20949362  5.56466146  5.26842557  6.16222492\n",
      "  1.88000114  6.67335211  6.63413545  3.25435692  9.73596997  1.62529623\n",
      "  3.4026819   2.05472354  7.25333604  8.19137365  2.97363765  7.03877455\n",
      "  4.63121472  3.30382245  3.4487244   2.23836958  1.51187155  5.46836453\n",
      "  8.98690192  3.90437465  1.28272336  8.37867349 10.23577677  2.76600292\n",
      "  5.27235136  6.71250546  8.88446529  6.1377616   9.91669071]\n"
     ]
    }
   ],
   "source": [
    "print(predicted)"
   ]
  },
  {
   "cell_type": "code",
   "execution_count": 127,
   "id": "696192c5",
   "metadata": {},
   "outputs": [
    {
     "data": {
      "text/plain": [
       "1.8126129616101543"
      ]
     },
     "execution_count": 127,
     "metadata": {},
     "output_type": "execute_result"
    }
   ],
   "source": [
    "mean_absolute_error(Y_test, predicted)"
   ]
  },
  {
   "cell_type": "code",
   "execution_count": 128,
   "id": "de0b6038",
   "metadata": {},
   "outputs": [],
   "source": [
    "rms = sqrt(mean_squared_error(Y_test, predicted))"
   ]
  },
  {
   "cell_type": "code",
   "execution_count": 129,
   "id": "54703bfa",
   "metadata": {},
   "outputs": [
    {
     "name": "stdout",
     "output_type": "stream",
     "text": [
      "2.3082814395949276\n"
     ]
    }
   ],
   "source": [
    "print(rms)"
   ]
  },
  {
   "cell_type": "code",
   "execution_count": 130,
   "id": "e43968be",
   "metadata": {},
   "outputs": [
    {
     "name": "stdout",
     "output_type": "stream",
     "text": [
      "R squared error :  0.5324424597786593\n"
     ]
    }
   ],
   "source": [
    "# R squared error\n",
    "error_score = metrics.r2_score(Y_test, predicted)\n",
    "print(\"R squared error : \", error_score)"
   ]
  },
  {
   "cell_type": "code",
   "execution_count": 131,
   "id": "53765bce",
   "metadata": {},
   "outputs": [
    {
     "name": "stdout",
     "output_type": "stream",
     "text": [
      "SMAPE score: 37.13203221414592\n"
     ]
    }
   ],
   "source": [
    "smape_score = smape(Y_test, predicted)\n",
    "print(\"SMAPE score:\", smape_score)"
   ]
  },
  {
   "cell_type": "code",
   "execution_count": null,
   "id": "ce699b07",
   "metadata": {},
   "outputs": [],
   "source": []
  }
 ],
 "metadata": {
  "kernelspec": {
   "display_name": "Python 3 (ipykernel)",
   "language": "python",
   "name": "python3"
  },
  "language_info": {
   "codemirror_mode": {
    "name": "ipython",
    "version": 3
   },
   "file_extension": ".py",
   "mimetype": "text/x-python",
   "name": "python",
   "nbconvert_exporter": "python",
   "pygments_lexer": "ipython3",
   "version": "3.11.2"
  }
 },
 "nbformat": 4,
 "nbformat_minor": 5
}
