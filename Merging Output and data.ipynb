{
 "cells": [
  {
   "cell_type": "code",
   "execution_count": 5,
   "id": "029f10ce",
   "metadata": {},
   "outputs": [],
   "source": [
    "import pandas as pd\n",
    "\n",
    "# read the two csv files\n",
    "df1 = pd.read_csv('C:\\\\Users\\\\Himani\\\\Desktop\\\\pp/output.csv')\n",
    "df2 = pd.read_csv('C:\\\\Users\\\\Himani\\\\Desktop\\\\pp/Weather.csv')\n",
    "\n",
    "# merge the dataframes on the common column\n",
    "merged_df = pd.merge(df1, df2, on='Date')\n",
    "\n",
    "# write the merged dataframe to a new csv file\n",
    "merged_df.to_csv('C:\\\\Users\\\\Himani\\\\Desktop\\\\pp/final.csv', index=False)"
   ]
  },
  {
   "cell_type": "code",
   "execution_count": null,
   "id": "1996d92e",
   "metadata": {},
   "outputs": [],
   "source": []
  }
 ],
 "metadata": {
  "kernelspec": {
   "display_name": "Python 3 (ipykernel)",
   "language": "python",
   "name": "python3"
  },
  "language_info": {
   "codemirror_mode": {
    "name": "ipython",
    "version": 3
   },
   "file_extension": ".py",
   "mimetype": "text/x-python",
   "name": "python",
   "nbconvert_exporter": "python",
   "pygments_lexer": "ipython3",
   "version": "3.11.2"
  }
 },
 "nbformat": 4,
 "nbformat_minor": 5
}
